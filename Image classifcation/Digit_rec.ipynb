{
 "cells": [
  {
   "cell_type": "code",
   "execution_count": 43,
   "metadata": {},
   "outputs": [],
   "source": [
    "from tensorflow.keras.models import Sequential\n",
    "from tensorflow.keras.layers import Dense\n",
    "from tensorflow.keras.utils import to_categorical\n",
    "from tensorflow.keras.layers import Conv2D,MaxPool2D,Flatten\n",
    "import pandas as pd"
   ]
  },
  {
   "cell_type": "code",
   "execution_count": 44,
   "metadata": {},
   "outputs": [],
   "source": [
    "train=pd.read_csv('train_1.csv')\n",
    "test=pd.read_csv('test _2.csv')\n",
    "\n"
   ]
  },
  {
   "cell_type": "code",
   "execution_count": 45,
   "metadata": {},
   "outputs": [],
   "source": [
    "test1=pd.read_csv('sample_submission.csv')\n"
   ]
  },
  {
   "cell_type": "code",
   "execution_count": 46,
   "metadata": {},
   "outputs": [],
   "source": [
    "from sklearn.model_selection import train_test_split\n"
   ]
  },
  {
   "cell_type": "code",
   "execution_count": 47,
   "metadata": {},
   "outputs": [],
   "source": [
    "y=train.label\n",
    "del train['label']"
   ]
  },
  {
   "cell_type": "code",
   "execution_count": 48,
   "metadata": {},
   "outputs": [],
   "source": [
    "train=train.values\n",
    "test=test.values"
   ]
  },
  {
   "cell_type": "code",
   "execution_count": 49,
   "metadata": {},
   "outputs": [],
   "source": [
    "x_train,x_test,y_train,y_test=train_test_split(train,y,test_size=0.3,random_state=42)"
   ]
  },
  {
   "cell_type": "code",
   "execution_count": null,
   "metadata": {},
   "outputs": [],
   "source": []
  },
  {
   "cell_type": "code",
   "execution_count": 50,
   "metadata": {},
   "outputs": [],
   "source": [
    "x_train=x_train.reshape(x_train.shape[0],-1)/255.0\n",
    "x_test=x_test.reshape(x_test.shape[0],-1)/255.0\n",
    "y_train=to_categorical(y_train)\n",
    "y_test=to_categorical(y_test)"
   ]
  },
  {
   "cell_type": "code",
   "execution_count": 51,
   "metadata": {},
   "outputs": [],
   "source": [
    "test=test.reshape(test.shape[0],-1)/255.0"
   ]
  },
  {
   "cell_type": "code",
   "execution_count": 52,
   "metadata": {},
   "outputs": [],
   "source": [
    "model=Sequential()\n",
    "model.add(Dense(10,input_dim=784,activation='relu'))\n",
    "model.add(Dense(10,activation='softmax'))\n",
    "model.compile(loss='categorical_crossentropy', optimizer='adam', metrics=['accuracy'])\n"
   ]
  },
  {
   "cell_type": "code",
   "execution_count": 53,
   "metadata": {},
   "outputs": [
    {
     "name": "stdout",
     "output_type": "stream",
     "text": [
      "Train on 26460 samples, validate on 2940 samples\n",
      "Epoch 1/10\n",
      "26460/26460 [==============================] - 1s 41us/sample - loss: 0.7633 - acc: 0.7810 - val_loss: 0.4092 - val_acc: 0.8891\n",
      "Epoch 2/10\n",
      "26460/26460 [==============================] - 1s 39us/sample - loss: 0.3601 - acc: 0.8966 - val_loss: 0.3215 - val_acc: 0.9143\n",
      "Epoch 3/10\n",
      "26460/26460 [==============================] - 1s 39us/sample - loss: 0.3053 - acc: 0.9127 - val_loss: 0.2893 - val_acc: 0.9201\n",
      "Epoch 4/10\n",
      "26460/26460 [==============================] - 1s 39us/sample - loss: 0.2799 - acc: 0.9198 - val_loss: 0.2849 - val_acc: 0.9214\n",
      "Epoch 5/10\n",
      "26460/26460 [==============================] - 1s 39us/sample - loss: 0.2612 - acc: 0.9236 - val_loss: 0.2744 - val_acc: 0.9248\n",
      "Epoch 6/10\n",
      "26460/26460 [==============================] - 1s 39us/sample - loss: 0.2489 - acc: 0.9282 - val_loss: 0.2576 - val_acc: 0.9330\n",
      "Epoch 7/10\n",
      "26460/26460 [==============================] - 1s 39us/sample - loss: 0.2370 - acc: 0.9307 - val_loss: 0.2578 - val_acc: 0.9293\n",
      "Epoch 8/10\n",
      "26460/26460 [==============================] - 1s 39us/sample - loss: 0.2281 - acc: 0.9343 - val_loss: 0.2461 - val_acc: 0.9333\n",
      "Epoch 9/10\n",
      "26460/26460 [==============================] - 1s 39us/sample - loss: 0.2213 - acc: 0.9359 - val_loss: 0.2440 - val_acc: 0.9354\n",
      "Epoch 10/10\n",
      "26460/26460 [==============================] - 1s 39us/sample - loss: 0.2147 - acc: 0.9384 - val_loss: 0.2450 - val_acc: 0.9299\n"
     ]
    },
    {
     "data": {
      "text/plain": [
       "<tensorflow.python.keras.callbacks.History at 0x7f7f716fb748>"
      ]
     },
     "execution_count": 53,
     "metadata": {},
     "output_type": "execute_result"
    }
   ],
   "source": [
    "model.fit(x_train,y_train,epochs=10,validation_split=0.1)"
   ]
  },
  {
   "cell_type": "code",
   "execution_count": 54,
   "metadata": {},
   "outputs": [
    {
     "name": "stdout",
     "output_type": "stream",
     "text": [
      "12600/12600 [==============================] - 0s 20us/sample - loss: 0.2561 - acc: 0.9260\n"
     ]
    },
    {
     "data": {
      "text/plain": [
       "[0.25611466415344725, 0.92603177]"
      ]
     },
     "execution_count": 54,
     "metadata": {},
     "output_type": "execute_result"
    }
   ],
   "source": [
    "model.evaluate(x_test,y_test)"
   ]
  },
  {
   "cell_type": "code",
   "execution_count": 55,
   "metadata": {},
   "outputs": [
    {
     "data": {
      "text/plain": [
       "array([2, 0, 9, ..., 3, 9, 2])"
      ]
     },
     "execution_count": 55,
     "metadata": {},
     "output_type": "execute_result"
    }
   ],
   "source": [
    "import numpy as np\n",
    "res=model.predict(test)\n",
    "res = np.argmax(res,axis = 1)\n",
    "res"
   ]
  },
  {
   "cell_type": "code",
   "execution_count": 57,
   "metadata": {},
   "outputs": [
    {
     "name": "stdout",
     "output_type": "stream",
     "text": [
      "Saved file: sub_2.csv\n"
     ]
    }
   ],
   "source": [
    "#pred1=rf.predict(test_norm)\n",
    "submission1=pd.DataFrame({'ImageId':test1['ImageId'],'Label':res})\n",
    "submission1.head\n",
    "filename = 'sub_2.csv'\n",
    "\n",
    "submission1.to_csv(filename,index=False)\n",
    "\n",
    "print('Saved file: ' + filename)"
   ]
  },
  {
   "cell_type": "code",
   "execution_count": 99,
   "metadata": {},
   "outputs": [
    {
     "data": {
      "text/plain": [
       "(29400, 28, 28, 1)"
      ]
     },
     "execution_count": 99,
     "metadata": {},
     "output_type": "execute_result"
    }
   ],
   "source": [
    "from sklearn.model_selection import train_test_split\n",
    "train2=pd.read_csv('train_1.csv')\n",
    "test2=pd.read_csv('test _2.csv')\n",
    "sub=pd.read_csv('sample_submission.csv')\n",
    "y2=train2.label\n",
    "del train2['label']\n",
    "#train2=train2.values\n",
    "#test2=test2.values\n",
    "train2=train2.values.reshape(-1, 28, 28, 1)\n",
    "test2 = test2.values.reshape(-1, 28, 28, 1)\n",
    "\n",
    "x_train1,x_test1,y_train1,y_test1=train_test_split(train2,y2,test_size=0.3,random_state=42)\n",
    "x_train1.shape"
   ]
  },
  {
   "cell_type": "code",
   "execution_count": 101,
   "metadata": {},
   "outputs": [
    {
     "data": {
      "text/plain": [
       "(29400, 28, 28, 1)"
      ]
     },
     "execution_count": 101,
     "metadata": {},
     "output_type": "execute_result"
    }
   ],
   "source": [
    "x_train1.shape"
   ]
  },
  {
   "cell_type": "code",
   "execution_count": 105,
   "metadata": {},
   "outputs": [
    {
     "data": {
      "text/plain": [
       "(12600, 10)"
      ]
     },
     "execution_count": 105,
     "metadata": {},
     "output_type": "execute_result"
    }
   ],
   "source": [
    "#x_train1=x_train1[:,:,:,np.newaxis]/255.0\n",
    "#x_test1=x_test1[:,:,:,np.newaxis]/255.0\n",
    "y_train1=to_categorical(y_train1)\n",
    "y_test1=to_categorical(y_test1)\n",
    "#test1=test1[:,:,:,np.newaxis]/255.0\n",
    "y_test1.shape"
   ]
  },
  {
   "cell_type": "code",
   "execution_count": 106,
   "metadata": {},
   "outputs": [],
   "source": [
    "from tensorflow.keras.layers import Dropout\n",
    "model5=Sequential()\n",
    "model5.add(Conv2D(filters=64,kernel_size=2,padding='same',activation='relu',input_shape=(28,28,1)))\n",
    "model5.add(Conv2D(64,kernel_size=2,activation='relu'))\n",
    "model5.add(MaxPool2D(pool_size=2))\n",
    "model5.add(Dropout(0.25))\n",
    "model5.add(Flatten())\n",
    "model5.add(Dense(10,activation='softmax'))\n",
    "model5.compile(loss='categorical_crossentropy',optimizer='adam',metrics=['accuracy'])"
   ]
  },
  {
   "cell_type": "code",
   "execution_count": 107,
   "metadata": {},
   "outputs": [
    {
     "name": "stdout",
     "output_type": "stream",
     "text": [
      "Train on 26460 samples, validate on 2940 samples\n",
      "Epoch 1/10\n",
      "26460/26460 [==============================] - 46s 2ms/sample - loss: 0.4141 - acc: 0.9276 - val_loss: 0.1117 - val_acc: 0.9714\n",
      "Epoch 2/10\n",
      "26460/26460 [==============================] - 45s 2ms/sample - loss: 0.1079 - acc: 0.9669 - val_loss: 0.0955 - val_acc: 0.9741\n",
      "Epoch 3/10\n",
      "26460/26460 [==============================] - 45s 2ms/sample - loss: 0.0750 - acc: 0.9768 - val_loss: 0.0980 - val_acc: 0.9755\n",
      "Epoch 4/10\n",
      "26460/26460 [==============================] - 46s 2ms/sample - loss: 0.0653 - acc: 0.9792 - val_loss: 0.0982 - val_acc: 0.9803\n",
      "Epoch 5/10\n",
      "26460/26460 [==============================] - 47s 2ms/sample - loss: 0.0551 - acc: 0.9824 - val_loss: 0.0917 - val_acc: 0.9803\n",
      "Epoch 6/10\n",
      "26460/26460 [==============================] - 47s 2ms/sample - loss: 0.0445 - acc: 0.9858 - val_loss: 0.1308 - val_acc: 0.9738\n",
      "Epoch 7/10\n",
      "26460/26460 [==============================] - 47s 2ms/sample - loss: 0.0405 - acc: 0.9861 - val_loss: 0.1333 - val_acc: 0.9711\n",
      "Epoch 8/10\n",
      "26460/26460 [==============================] - 47s 2ms/sample - loss: 0.0392 - acc: 0.9875 - val_loss: 0.1208 - val_acc: 0.9759\n",
      "Epoch 9/10\n",
      "26460/26460 [==============================] - 48s 2ms/sample - loss: 0.0344 - acc: 0.9887 - val_loss: 0.1171 - val_acc: 0.9765\n",
      "Epoch 10/10\n",
      "26460/26460 [==============================] - 47s 2ms/sample - loss: 0.0290 - acc: 0.9905 - val_loss: 0.1106 - val_acc: 0.9793\n"
     ]
    },
    {
     "data": {
      "text/plain": [
       "<tensorflow.python.keras.callbacks.History at 0x7f7f9c3cc048>"
      ]
     },
     "execution_count": 107,
     "metadata": {},
     "output_type": "execute_result"
    }
   ],
   "source": [
    "model5.fit(x_train1,y_train1,epochs=10,validation_split=0.1)"
   ]
  },
  {
   "cell_type": "code",
   "execution_count": 108,
   "metadata": {},
   "outputs": [
    {
     "name": "stdout",
     "output_type": "stream",
     "text": [
      "12600/12600 [==============================] - 4s 355us/sample - loss: 0.1075 - acc: 0.9790\n"
     ]
    },
    {
     "data": {
      "text/plain": [
       "[0.10753992929050582, 0.97896826]"
      ]
     },
     "execution_count": 108,
     "metadata": {},
     "output_type": "execute_result"
    }
   ],
   "source": [
    "model5.evaluate(x_test1,y_test1)"
   ]
  },
  {
   "cell_type": "code",
   "execution_count": 110,
   "metadata": {},
   "outputs": [
    {
     "name": "stdout",
     "output_type": "stream",
     "text": [
      "Saved file: sub_3.csv\n"
     ]
    }
   ],
   "source": [
    "res2=model5.predict(test2)\n",
    "res2 = np.argmax(res2,axis = 1)\n",
    "submission1=pd.DataFrame({'ImageId':sub['ImageId'],'Label':res2})\n",
    "submission1.head\n",
    "filename = 'sub_3.csv'\n",
    "\n",
    "submission1.to_csv(filename,index=False)\n",
    "\n",
    "print('Saved file: ' + filename)"
   ]
  },
  {
   "cell_type": "code",
   "execution_count": null,
   "metadata": {},
   "outputs": [],
   "source": []
  }
 ],
 "metadata": {
  "kernelspec": {
   "display_name": "Python 3",
   "language": "python",
   "name": "python3"
  },
  "language_info": {
   "codemirror_mode": {
    "name": "ipython",
    "version": 3
   },
   "file_extension": ".py",
   "mimetype": "text/x-python",
   "name": "python",
   "nbconvert_exporter": "python",
   "pygments_lexer": "ipython3",
   "version": "3.6.8"
  }
 },
 "nbformat": 4,
 "nbformat_minor": 2
}
