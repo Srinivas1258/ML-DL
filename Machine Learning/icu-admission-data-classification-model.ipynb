{
 "cells": [
  {
   "cell_type": "markdown",
   "execution_count": null,
   "metadata": {
    "papermill": {
     "duration": 0.018955,
     "end_time": "2020-08-12T00:12:10.358296",
     "exception": false,
     "start_time": "2020-08-12T00:12:10.339341",
     "status": "completed"
    },
    "tags": []
   },
   "source": [
    "# 1. Import Libraries"
   ]
  },
  {
   "cell_type": "code",
   "execution_count": 1,
   "metadata": {
    "_cell_guid": "79c7e3d0-c299-4dcb-8224-4455121ee9b0",
    "_uuid": "d629ff2d2480ee46fbb7e2d37f6b5fab8052498a",
    "execution": {
     "iopub.execute_input": "2020-08-12T00:12:10.397412Z",
     "iopub.status.busy": "2020-08-12T00:12:10.396779Z",
     "iopub.status.idle": "2020-08-12T00:12:11.973007Z",
     "shell.execute_reply": "2020-08-12T00:12:11.972268Z"
    },
    "papermill": {
     "duration": 1.598637,
     "end_time": "2020-08-12T00:12:11.973133",
     "exception": false,
     "start_time": "2020-08-12T00:12:10.374496",
     "status": "completed"
    },
    "tags": []
   },
   "outputs": [],
   "source": [
    "import pandas as pd\n",
    "import numpy as np\n",
    "from tqdm import tqdm\n",
    "\n",
    "import matplotlib.pyplot as plt\n",
    "import seaborn as sns\n",
    "\n",
    "from sklearn.metrics import confusion_matrix, accuracy_score, roc_auc_score\n",
    "from sklearn.model_selection import train_test_split, cross_validate, GridSearchCV\n",
    "from sklearn.feature_selection import RFE\n",
    "from sklearn.decomposition import PCA\n",
    "from sklearn.neighbors import KNeighborsClassifier as KNN\n",
    "from sklearn.ensemble import RandomForestClassifier"
   ]
  },
  {
   "cell_type": "code",
   "execution_count": 2,
   "metadata": {
    "execution": {
     "iopub.execute_input": "2020-08-12T00:12:12.016001Z",
     "iopub.status.busy": "2020-08-12T00:12:12.015002Z",
     "iopub.status.idle": "2020-08-12T00:12:12.018485Z",
     "shell.execute_reply": "2020-08-12T00:12:12.017770Z"
    },
    "papermill": {
     "duration": 0.02872,
     "end_time": "2020-08-12T00:12:12.018614",
     "exception": false,
     "start_time": "2020-08-12T00:12:11.989894",
     "status": "completed"
    },
    "tags": []
   },
   "outputs": [],
   "source": [
    "#Ignore warnings\n",
    "import warnings\n",
    "warnings.filterwarnings('ignore')"
   ]
  },
  {
   "cell_type": "markdown",
   "execution_count": null,
   "metadata": {
    "papermill": {
     "duration": 0.015967,
     "end_time": "2020-08-12T00:12:12.050999",
     "exception": false,
     "start_time": "2020-08-12T00:12:12.035032",
     "status": "completed"
    },
    "tags": []
   },
   "source": [
    "# 2. Introduction"
   ]
  },
  {
   "cell_type": "markdown",
   "execution_count": null,
   "metadata": {
    "papermill": {
     "duration": 0.015906,
     "end_time": "2020-08-12T00:12:12.083740",
     "exception": false,
     "start_time": "2020-08-12T00:12:12.067834",
     "status": "completed"
    },
    "tags": []
   },
   "source": [
    "This notebook is the follow-up to the [data processing and exploring perfomed earlier](https://www.kaggle.com/epdrumond/icu-admission-data-cleaning-and-exploration). So, we are not using the raw data, but a preprocessed version. Here we are going to focus on feature selection, feature engineering and the actual development of a predictive model.\n",
    "\n",
    "On this last point, it is interesting to reflect on how our model could be used to help identify which patients will require ICU attention. It is safe to assume the sooner we are able to identify the patients who demand extra care, the better. So, one way to tackle this problem is:\n",
    "\n",
    "1. Create a classification model using only the first window data.\n",
    "\n",
    "Of course, we could be discarding valuable data by following this path. However, if the models proves to be accurate enough, we would be saving the medical staff a lot of time, as well as saving many lifes.\n",
    "\n",
    "Additionally, we can use another approach to this problem and take advantage of the time series data. We just have to remember this chronological information is not composed of a lot of different time steps, specially considering we should discard data taken after the ICU admission. Given all that, we decided to use the following approach:\n",
    "\n",
    "2. Create a classification model using the data from the two most recent measurements for each patient.\n",
    "\n",
    "In this work, we are going to follow these two paths and then compare the results to find out which one produces the best predictions."
   ]
  },
  {
   "cell_type": "code",
   "execution_count": 3,
   "metadata": {
    "execution": {
     "iopub.execute_input": "2020-08-12T00:12:12.125962Z",
     "iopub.status.busy": "2020-08-12T00:12:12.125321Z",
     "iopub.status.idle": "2020-08-12T00:12:12.210036Z",
     "shell.execute_reply": "2020-08-12T00:12:12.210530Z"
    },
    "papermill": {
     "duration": 0.110683,
     "end_time": "2020-08-12T00:12:12.210678",
     "exception": false,
     "start_time": "2020-08-12T00:12:12.099995",
     "status": "completed"
    },
    "tags": []
   },
   "outputs": [
    {
     "data": {
      "text/html": [
       "<div>\n",
       "<style scoped>\n",
       "    .dataframe tbody tr th:only-of-type {\n",
       "        vertical-align: middle;\n",
       "    }\n",
       "\n",
       "    .dataframe tbody tr th {\n",
       "        vertical-align: top;\n",
       "    }\n",
       "\n",
       "    .dataframe thead th {\n",
       "        text-align: right;\n",
       "    }\n",
       "</style>\n",
       "<table border=\"1\" class=\"dataframe\">\n",
       "  <thead>\n",
       "    <tr style=\"text-align: right;\">\n",
       "      <th></th>\n",
       "      <th>AGE_ABOVE65_1</th>\n",
       "      <th>AGE_PERCENTIL_1</th>\n",
       "      <th>GENDER_1</th>\n",
       "      <th>HTN_1</th>\n",
       "      <th>PATIENT_VISIT_IDENTIFIER_1</th>\n",
       "      <th>BLOODPRESSURE_DIASTOLIC_DIFF_1</th>\n",
       "      <th>BLOODPRESSURE_DIASTOLIC_DIFF_REL_1</th>\n",
       "      <th>BLOODPRESSURE_DIASTOLIC_MAX_1</th>\n",
       "      <th>BLOODPRESSURE_DIASTOLIC_MEAN_1</th>\n",
       "      <th>BLOODPRESSURE_DIASTOLIC_MEDIAN_1</th>\n",
       "      <th>...</th>\n",
       "      <th>RESPIRATORY_RATE_MEAN_5</th>\n",
       "      <th>RESPIRATORY_RATE_MEDIAN_5</th>\n",
       "      <th>RESPIRATORY_RATE_MIN_5</th>\n",
       "      <th>TEMPERATURE_DIFF_5</th>\n",
       "      <th>TEMPERATURE_DIFF_REL_5</th>\n",
       "      <th>TEMPERATURE_MAX_5</th>\n",
       "      <th>TEMPERATURE_MEAN_5</th>\n",
       "      <th>TEMPERATURE_MEDIAN_5</th>\n",
       "      <th>TEMPERATURE_MIN_5</th>\n",
       "      <th>ICU</th>\n",
       "    </tr>\n",
       "  </thead>\n",
       "  <tbody>\n",
       "    <tr>\n",
       "      <th>0</th>\n",
       "      <td>1</td>\n",
       "      <td>60th</td>\n",
       "      <td>0</td>\n",
       "      <td>0.0</td>\n",
       "      <td>0</td>\n",
       "      <td>-1.000000</td>\n",
       "      <td>-1.000000</td>\n",
       "      <td>-0.247863</td>\n",
       "      <td>0.086420</td>\n",
       "      <td>0.086420</td>\n",
       "      <td>...</td>\n",
       "      <td>NaN</td>\n",
       "      <td>NaN</td>\n",
       "      <td>NaN</td>\n",
       "      <td>NaN</td>\n",
       "      <td>NaN</td>\n",
       "      <td>NaN</td>\n",
       "      <td>NaN</td>\n",
       "      <td>NaN</td>\n",
       "      <td>NaN</td>\n",
       "      <td>1</td>\n",
       "    </tr>\n",
       "    <tr>\n",
       "      <th>2</th>\n",
       "      <td>0</td>\n",
       "      <td>10th</td>\n",
       "      <td>0</td>\n",
       "      <td>0.0</td>\n",
       "      <td>2</td>\n",
       "      <td>-0.547826</td>\n",
       "      <td>-0.515528</td>\n",
       "      <td>-0.435897</td>\n",
       "      <td>-0.489712</td>\n",
       "      <td>-0.506173</td>\n",
       "      <td>...</td>\n",
       "      <td>NaN</td>\n",
       "      <td>NaN</td>\n",
       "      <td>NaN</td>\n",
       "      <td>NaN</td>\n",
       "      <td>NaN</td>\n",
       "      <td>NaN</td>\n",
       "      <td>NaN</td>\n",
       "      <td>NaN</td>\n",
       "      <td>NaN</td>\n",
       "      <td>1</td>\n",
       "    </tr>\n",
       "    <tr>\n",
       "      <th>3</th>\n",
       "      <td>0</td>\n",
       "      <td>40th</td>\n",
       "      <td>1</td>\n",
       "      <td>0.0</td>\n",
       "      <td>3</td>\n",
       "      <td>-1.000000</td>\n",
       "      <td>-1.000000</td>\n",
       "      <td>-0.299145</td>\n",
       "      <td>0.012346</td>\n",
       "      <td>0.012346</td>\n",
       "      <td>...</td>\n",
       "      <td>-0.535593</td>\n",
       "      <td>-0.517241</td>\n",
       "      <td>-0.857143</td>\n",
       "      <td>-0.047619</td>\n",
       "      <td>-0.047619</td>\n",
       "      <td>0.623188</td>\n",
       "      <td>0.033571</td>\n",
       "      <td>-0.035714</td>\n",
       "      <td>0.120879</td>\n",
       "      <td>0</td>\n",
       "    </tr>\n",
       "    <tr>\n",
       "      <th>4</th>\n",
       "      <td>0</td>\n",
       "      <td>10th</td>\n",
       "      <td>0</td>\n",
       "      <td>0.0</td>\n",
       "      <td>4</td>\n",
       "      <td>-1.000000</td>\n",
       "      <td>-1.000000</td>\n",
       "      <td>-0.076923</td>\n",
       "      <td>0.333333</td>\n",
       "      <td>0.333333</td>\n",
       "      <td>...</td>\n",
       "      <td>-0.499708</td>\n",
       "      <td>-0.517241</td>\n",
       "      <td>-0.500000</td>\n",
       "      <td>-0.642857</td>\n",
       "      <td>-0.645793</td>\n",
       "      <td>0.014493</td>\n",
       "      <td>0.040640</td>\n",
       "      <td>0.071429</td>\n",
       "      <td>0.208791</td>\n",
       "      <td>0</td>\n",
       "    </tr>\n",
       "    <tr>\n",
       "      <th>5</th>\n",
       "      <td>0</td>\n",
       "      <td>10th</td>\n",
       "      <td>0</td>\n",
       "      <td>0.0</td>\n",
       "      <td>5</td>\n",
       "      <td>-0.826087</td>\n",
       "      <td>-0.860870</td>\n",
       "      <td>-0.247863</td>\n",
       "      <td>-0.037037</td>\n",
       "      <td>-0.037037</td>\n",
       "      <td>...</td>\n",
       "      <td>-0.502825</td>\n",
       "      <td>-0.517241</td>\n",
       "      <td>-0.428571</td>\n",
       "      <td>-0.738095</td>\n",
       "      <td>-0.736640</td>\n",
       "      <td>-0.130435</td>\n",
       "      <td>-0.109127</td>\n",
       "      <td>-0.107143</td>\n",
       "      <td>0.186813</td>\n",
       "      <td>0</td>\n",
       "    </tr>\n",
       "  </tbody>\n",
       "</table>\n",
       "<p>5 rows × 226 columns</p>\n",
       "</div>"
      ],
      "text/plain": [
       "   AGE_ABOVE65_1 AGE_PERCENTIL_1  GENDER_1  HTN_1  PATIENT_VISIT_IDENTIFIER_1  \\\n",
       "0              1            60th         0    0.0                           0   \n",
       "2              0            10th         0    0.0                           2   \n",
       "3              0            40th         1    0.0                           3   \n",
       "4              0            10th         0    0.0                           4   \n",
       "5              0            10th         0    0.0                           5   \n",
       "\n",
       "   BLOODPRESSURE_DIASTOLIC_DIFF_1  BLOODPRESSURE_DIASTOLIC_DIFF_REL_1  \\\n",
       "0                       -1.000000                           -1.000000   \n",
       "2                       -0.547826                           -0.515528   \n",
       "3                       -1.000000                           -1.000000   \n",
       "4                       -1.000000                           -1.000000   \n",
       "5                       -0.826087                           -0.860870   \n",
       "\n",
       "   BLOODPRESSURE_DIASTOLIC_MAX_1  BLOODPRESSURE_DIASTOLIC_MEAN_1  \\\n",
       "0                      -0.247863                        0.086420   \n",
       "2                      -0.435897                       -0.489712   \n",
       "3                      -0.299145                        0.012346   \n",
       "4                      -0.076923                        0.333333   \n",
       "5                      -0.247863                       -0.037037   \n",
       "\n",
       "   BLOODPRESSURE_DIASTOLIC_MEDIAN_1  ...  RESPIRATORY_RATE_MEAN_5  \\\n",
       "0                          0.086420  ...                      NaN   \n",
       "2                         -0.506173  ...                      NaN   \n",
       "3                          0.012346  ...                -0.535593   \n",
       "4                          0.333333  ...                -0.499708   \n",
       "5                         -0.037037  ...                -0.502825   \n",
       "\n",
       "   RESPIRATORY_RATE_MEDIAN_5  RESPIRATORY_RATE_MIN_5  TEMPERATURE_DIFF_5  \\\n",
       "0                        NaN                     NaN                 NaN   \n",
       "2                        NaN                     NaN                 NaN   \n",
       "3                  -0.517241               -0.857143           -0.047619   \n",
       "4                  -0.517241               -0.500000           -0.642857   \n",
       "5                  -0.517241               -0.428571           -0.738095   \n",
       "\n",
       "   TEMPERATURE_DIFF_REL_5  TEMPERATURE_MAX_5  TEMPERATURE_MEAN_5  \\\n",
       "0                     NaN                NaN                 NaN   \n",
       "2                     NaN                NaN                 NaN   \n",
       "3               -0.047619           0.623188            0.033571   \n",
       "4               -0.645793           0.014493            0.040640   \n",
       "5               -0.736640          -0.130435           -0.109127   \n",
       "\n",
       "   TEMPERATURE_MEDIAN_5  TEMPERATURE_MIN_5  ICU  \n",
       "0                   NaN                NaN    1  \n",
       "2                   NaN                NaN    1  \n",
       "3             -0.035714           0.120879    0  \n",
       "4              0.071429           0.208791    0  \n",
       "5             -0.107143           0.186813    0  \n",
       "\n",
       "[5 rows x 226 columns]"
      ]
     },
     "execution_count": 3,
     "metadata": {},
     "output_type": "execute_result"
    }
   ],
   "source": [
    "#Load preprocessed data\n",
    "file_path = '/kaggle/input/icu-admission-data-cleaning-and-exploration/'\n",
    "file_name = 'first_step_output_data.csv'\n",
    "data = pd.read_csv(file_path + file_name, index_col = 0)\n",
    "\n",
    "data.head()"
   ]
  },
  {
   "cell_type": "markdown",
   "execution_count": null,
   "metadata": {
    "papermill": {
     "duration": 0.016789,
     "end_time": "2020-08-12T00:12:12.244191",
     "exception": false,
     "start_time": "2020-08-12T00:12:12.227402",
     "status": "completed"
    },
    "tags": []
   },
   "source": [
    "# 3. Model #1: Window-1 Data Only"
   ]
  },
  {
   "cell_type": "code",
   "execution_count": 4,
   "metadata": {
    "execution": {
     "iopub.execute_input": "2020-08-12T00:12:12.296876Z",
     "iopub.status.busy": "2020-08-12T00:12:12.296206Z",
     "iopub.status.idle": "2020-08-12T00:12:12.313619Z",
     "shell.execute_reply": "2020-08-12T00:12:12.312936Z"
    },
    "papermill": {
     "duration": 0.052792,
     "end_time": "2020-08-12T00:12:12.313734",
     "exception": false,
     "start_time": "2020-08-12T00:12:12.260942",
     "status": "completed"
    },
    "tags": []
   },
   "outputs": [
    {
     "data": {
      "text/html": [
       "<div>\n",
       "<style scoped>\n",
       "    .dataframe tbody tr th:only-of-type {\n",
       "        vertical-align: middle;\n",
       "    }\n",
       "\n",
       "    .dataframe tbody tr th {\n",
       "        vertical-align: top;\n",
       "    }\n",
       "\n",
       "    .dataframe thead th {\n",
       "        text-align: right;\n",
       "    }\n",
       "</style>\n",
       "<table border=\"1\" class=\"dataframe\">\n",
       "  <thead>\n",
       "    <tr style=\"text-align: right;\">\n",
       "      <th></th>\n",
       "      <th>AGE_ABOVE65_1</th>\n",
       "      <th>AGE_PERCENTIL_1</th>\n",
       "      <th>GENDER_1</th>\n",
       "      <th>HTN_1</th>\n",
       "      <th>PATIENT_VISIT_IDENTIFIER_1</th>\n",
       "      <th>BLOODPRESSURE_DIASTOLIC_DIFF_1</th>\n",
       "      <th>BLOODPRESSURE_DIASTOLIC_DIFF_REL_1</th>\n",
       "      <th>BLOODPRESSURE_DIASTOLIC_MAX_1</th>\n",
       "      <th>BLOODPRESSURE_DIASTOLIC_MEAN_1</th>\n",
       "      <th>BLOODPRESSURE_DIASTOLIC_MEDIAN_1</th>\n",
       "      <th>...</th>\n",
       "      <th>RESPIRATORY_RATE_MEAN_1</th>\n",
       "      <th>RESPIRATORY_RATE_MEDIAN_1</th>\n",
       "      <th>RESPIRATORY_RATE_MIN_1</th>\n",
       "      <th>TEMPERATURE_DIFF_1</th>\n",
       "      <th>TEMPERATURE_DIFF_REL_1</th>\n",
       "      <th>TEMPERATURE_MAX_1</th>\n",
       "      <th>TEMPERATURE_MEAN_1</th>\n",
       "      <th>TEMPERATURE_MEDIAN_1</th>\n",
       "      <th>TEMPERATURE_MIN_1</th>\n",
       "      <th>ICU</th>\n",
       "    </tr>\n",
       "  </thead>\n",
       "  <tbody>\n",
       "    <tr>\n",
       "      <th>0</th>\n",
       "      <td>1</td>\n",
       "      <td>60th</td>\n",
       "      <td>0</td>\n",
       "      <td>0.0</td>\n",
       "      <td>0</td>\n",
       "      <td>-1.000000</td>\n",
       "      <td>-1.000000</td>\n",
       "      <td>-0.247863</td>\n",
       "      <td>0.086420</td>\n",
       "      <td>0.086420</td>\n",
       "      <td>...</td>\n",
       "      <td>-0.593220</td>\n",
       "      <td>-0.586207</td>\n",
       "      <td>-0.500000</td>\n",
       "      <td>-1.000000</td>\n",
       "      <td>-1.000000</td>\n",
       "      <td>-0.420290</td>\n",
       "      <td>-0.285714</td>\n",
       "      <td>-0.285714</td>\n",
       "      <td>0.208791</td>\n",
       "      <td>1</td>\n",
       "    </tr>\n",
       "    <tr>\n",
       "      <th>2</th>\n",
       "      <td>0</td>\n",
       "      <td>10th</td>\n",
       "      <td>0</td>\n",
       "      <td>0.0</td>\n",
       "      <td>2</td>\n",
       "      <td>-0.547826</td>\n",
       "      <td>-0.515528</td>\n",
       "      <td>-0.435897</td>\n",
       "      <td>-0.489712</td>\n",
       "      <td>-0.506173</td>\n",
       "      <td>...</td>\n",
       "      <td>-0.645951</td>\n",
       "      <td>-0.517241</td>\n",
       "      <td>-0.714286</td>\n",
       "      <td>-1.000000</td>\n",
       "      <td>-1.000000</td>\n",
       "      <td>0.101449</td>\n",
       "      <td>0.357143</td>\n",
       "      <td>0.357143</td>\n",
       "      <td>0.604396</td>\n",
       "      <td>1</td>\n",
       "    </tr>\n",
       "    <tr>\n",
       "      <th>3</th>\n",
       "      <td>0</td>\n",
       "      <td>40th</td>\n",
       "      <td>1</td>\n",
       "      <td>0.0</td>\n",
       "      <td>3</td>\n",
       "      <td>-1.000000</td>\n",
       "      <td>-1.000000</td>\n",
       "      <td>-0.299145</td>\n",
       "      <td>0.012346</td>\n",
       "      <td>0.012346</td>\n",
       "      <td>...</td>\n",
       "      <td>-0.457627</td>\n",
       "      <td>-0.448276</td>\n",
       "      <td>-0.357143</td>\n",
       "      <td>-1.000000</td>\n",
       "      <td>-1.000000</td>\n",
       "      <td>-0.420290</td>\n",
       "      <td>-0.285714</td>\n",
       "      <td>-0.285714</td>\n",
       "      <td>0.208791</td>\n",
       "      <td>0</td>\n",
       "    </tr>\n",
       "    <tr>\n",
       "      <th>4</th>\n",
       "      <td>0</td>\n",
       "      <td>10th</td>\n",
       "      <td>0</td>\n",
       "      <td>0.0</td>\n",
       "      <td>4</td>\n",
       "      <td>-1.000000</td>\n",
       "      <td>-1.000000</td>\n",
       "      <td>-0.076923</td>\n",
       "      <td>0.333333</td>\n",
       "      <td>0.333333</td>\n",
       "      <td>...</td>\n",
       "      <td>-0.593220</td>\n",
       "      <td>-0.586207</td>\n",
       "      <td>-0.571429</td>\n",
       "      <td>-0.952381</td>\n",
       "      <td>-0.953536</td>\n",
       "      <td>0.072464</td>\n",
       "      <td>0.285714</td>\n",
       "      <td>0.285714</td>\n",
       "      <td>0.538462</td>\n",
       "      <td>0</td>\n",
       "    </tr>\n",
       "    <tr>\n",
       "      <th>5</th>\n",
       "      <td>0</td>\n",
       "      <td>10th</td>\n",
       "      <td>0</td>\n",
       "      <td>0.0</td>\n",
       "      <td>5</td>\n",
       "      <td>-0.826087</td>\n",
       "      <td>-0.860870</td>\n",
       "      <td>-0.247863</td>\n",
       "      <td>-0.037037</td>\n",
       "      <td>-0.037037</td>\n",
       "      <td>...</td>\n",
       "      <td>-0.525424</td>\n",
       "      <td>-0.517241</td>\n",
       "      <td>-0.428571</td>\n",
       "      <td>-0.976190</td>\n",
       "      <td>-0.975891</td>\n",
       "      <td>-0.333333</td>\n",
       "      <td>-0.196429</td>\n",
       "      <td>-0.196429</td>\n",
       "      <td>0.252747</td>\n",
       "      <td>0</td>\n",
       "    </tr>\n",
       "  </tbody>\n",
       "</table>\n",
       "<p>5 rows × 50 columns</p>\n",
       "</div>"
      ],
      "text/plain": [
       "   AGE_ABOVE65_1 AGE_PERCENTIL_1  GENDER_1  HTN_1  PATIENT_VISIT_IDENTIFIER_1  \\\n",
       "0              1            60th         0    0.0                           0   \n",
       "2              0            10th         0    0.0                           2   \n",
       "3              0            40th         1    0.0                           3   \n",
       "4              0            10th         0    0.0                           4   \n",
       "5              0            10th         0    0.0                           5   \n",
       "\n",
       "   BLOODPRESSURE_DIASTOLIC_DIFF_1  BLOODPRESSURE_DIASTOLIC_DIFF_REL_1  \\\n",
       "0                       -1.000000                           -1.000000   \n",
       "2                       -0.547826                           -0.515528   \n",
       "3                       -1.000000                           -1.000000   \n",
       "4                       -1.000000                           -1.000000   \n",
       "5                       -0.826087                           -0.860870   \n",
       "\n",
       "   BLOODPRESSURE_DIASTOLIC_MAX_1  BLOODPRESSURE_DIASTOLIC_MEAN_1  \\\n",
       "0                      -0.247863                        0.086420   \n",
       "2                      -0.435897                       -0.489712   \n",
       "3                      -0.299145                        0.012346   \n",
       "4                      -0.076923                        0.333333   \n",
       "5                      -0.247863                       -0.037037   \n",
       "\n",
       "   BLOODPRESSURE_DIASTOLIC_MEDIAN_1  ...  RESPIRATORY_RATE_MEAN_1  \\\n",
       "0                          0.086420  ...                -0.593220   \n",
       "2                         -0.506173  ...                -0.645951   \n",
       "3                          0.012346  ...                -0.457627   \n",
       "4                          0.333333  ...                -0.593220   \n",
       "5                         -0.037037  ...                -0.525424   \n",
       "\n",
       "   RESPIRATORY_RATE_MEDIAN_1  RESPIRATORY_RATE_MIN_1  TEMPERATURE_DIFF_1  \\\n",
       "0                  -0.586207               -0.500000           -1.000000   \n",
       "2                  -0.517241               -0.714286           -1.000000   \n",
       "3                  -0.448276               -0.357143           -1.000000   \n",
       "4                  -0.586207               -0.571429           -0.952381   \n",
       "5                  -0.517241               -0.428571           -0.976190   \n",
       "\n",
       "   TEMPERATURE_DIFF_REL_1  TEMPERATURE_MAX_1  TEMPERATURE_MEAN_1  \\\n",
       "0               -1.000000          -0.420290           -0.285714   \n",
       "2               -1.000000           0.101449            0.357143   \n",
       "3               -1.000000          -0.420290           -0.285714   \n",
       "4               -0.953536           0.072464            0.285714   \n",
       "5               -0.975891          -0.333333           -0.196429   \n",
       "\n",
       "   TEMPERATURE_MEDIAN_1  TEMPERATURE_MIN_1  ICU  \n",
       "0             -0.285714           0.208791    1  \n",
       "2              0.357143           0.604396    1  \n",
       "3             -0.285714           0.208791    0  \n",
       "4              0.285714           0.538462    0  \n",
       "5             -0.196429           0.252747    0  \n",
       "\n",
       "[5 rows x 50 columns]"
      ]
     },
     "execution_count": 4,
     "metadata": {},
     "output_type": "execute_result"
    }
   ],
   "source": [
    "#Remove all data take after window 1\n",
    "model_1_cols = [x for x in data.columns if x[-1] not in [str(y) for y in range(2,6)]]\n",
    "data_1 = data[model_1_cols]\n",
    "\n",
    "data_1.head()"
   ]
  },
  {
   "cell_type": "markdown",
   "execution_count": null,
   "metadata": {
    "papermill": {
     "duration": 0.01681,
     "end_time": "2020-08-12T00:12:12.347828",
     "exception": false,
     "start_time": "2020-08-12T00:12:12.331018",
     "status": "completed"
    },
    "tags": []
   },
   "source": [
    "At this point, most data cleaning has already been performed. We have also looked at the features individually. Let's now focus on investigating the relationships between features and the target. First, we are going to look at how they correlate to each other."
   ]
  },
  {
   "cell_type": "markdown",
   "execution_count": null,
   "metadata": {
    "papermill": {
     "duration": 0.016661,
     "end_time": "2020-08-12T00:12:12.381410",
     "exception": false,
     "start_time": "2020-08-12T00:12:12.364749",
     "status": "completed"
    },
    "tags": []
   },
   "source": [
    "## 3.1. Correlations"
   ]
  },
  {
   "cell_type": "code",
   "execution_count": 5,
   "metadata": {
    "execution": {
     "iopub.execute_input": "2020-08-12T00:12:12.424126Z",
     "iopub.status.busy": "2020-08-12T00:12:12.423461Z",
     "iopub.status.idle": "2020-08-12T00:12:12.967942Z",
     "shell.execute_reply": "2020-08-12T00:12:12.967317Z"
    },
    "papermill": {
     "duration": 0.569595,
     "end_time": "2020-08-12T00:12:12.968054",
     "exception": false,
     "start_time": "2020-08-12T00:12:12.398459",
     "status": "completed"
    },
    "tags": []
   },
   "outputs": [
    {
     "data": {
      "text/plain": [
       "<Figure size 720x576 with 0 Axes>"
      ]
     },
     "execution_count": 5,
     "metadata": {},
     "output_type": "execute_result"
    },
    {
     "data": {
      "image/png": "[encoded data removed]",
      "text/plain": [
       "<Figure size 432x288 with 2 Axes>"
      ]
     },
     "metadata": {
      "needs_background": "light"
     },
     "output_type": "display_data"
    },
    {
     "data": {
      "text/plain": [
       "<Figure size 720x576 with 0 Axes>"
      ]
     },
     "metadata": {},
     "output_type": "display_data"
    }
   ],
   "source": [
    "#Compute Pearson correlation\n",
    "data_1_corr = data_1.corr()\n",
    "\n",
    "sns.heatmap(data_1_corr)\n",
    "plt.figure(figsize = (10, 8))"
   ]
  },
  {
   "cell_type": "markdown",
   "execution_count": null,
   "metadata": {
    "papermill": {
     "duration": 0.017743,
     "end_time": "2020-08-12T00:12:13.005232",
     "exception": false,
     "start_time": "2020-08-12T00:12:12.987489",
     "status": "completed"
    },
    "tags": []
   },
   "source": [
    "It is very easy to see this graphical approach is not very helpful for this amount of features. So let's split our analysis in two. First we are looking at how these features relate to each other, excluding the target column."
   ]
  },
  {
   "cell_type": "code",
   "execution_count": 6,
   "metadata": {
    "execution": {
     "iopub.execute_input": "2020-08-12T00:12:13.051233Z",
     "iopub.status.busy": "2020-08-12T00:12:13.050530Z",
     "iopub.status.idle": "2020-08-12T00:12:13.102764Z",
     "shell.execute_reply": "2020-08-12T00:12:13.102169Z"
    },
    "papermill": {
     "duration": 0.079806,
     "end_time": "2020-08-12T00:12:13.102886",
     "exception": false,
     "start_time": "2020-08-12T00:12:13.023080",
     "status": "completed"
    },
    "tags": []
   },
   "outputs": [
    {
     "data": {
      "text/html": [
       "<div>\n",
       "<style scoped>\n",
       "    .dataframe tbody tr th:only-of-type {\n",
       "        vertical-align: middle;\n",
       "    }\n",
       "\n",
       "    .dataframe tbody tr th {\n",
       "        vertical-align: top;\n",
       "    }\n",
       "\n",
       "    .dataframe thead th {\n",
       "        text-align: right;\n",
       "    }\n",
       "</style>\n",
       "<table border=\"1\" class=\"dataframe\">\n",
       "  <thead>\n",
       "    <tr style=\"text-align: right;\">\n",
       "      <th></th>\n",
       "      <th>Feature_1</th>\n",
       "      <th>Feature_2</th>\n",
       "      <th>Pearson_Corr</th>\n",
       "    </tr>\n",
       "  </thead>\n",
       "  <tbody>\n",
       "    <tr>\n",
       "      <th>2101</th>\n",
       "      <td>TEMPERATURE_DIFF_1</td>\n",
       "      <td>TEMPERATURE_DIFF_REL_1</td>\n",
       "      <td>0.999444</td>\n",
       "    </tr>\n",
       "    <tr>\n",
       "      <th>1501</th>\n",
       "      <td>OXYGEN_SATURATION_DIFF_1</td>\n",
       "      <td>OXYGEN_SATURATION_DIFF_REL_1</td>\n",
       "      <td>0.998889</td>\n",
       "    </tr>\n",
       "    <tr>\n",
       "      <th>651</th>\n",
       "      <td>BLOODPRESSURE_SISTOLIC_MEAN_1</td>\n",
       "      <td>BLOODPRESSURE_SISTOLIC_MEDIAN_1</td>\n",
       "      <td>0.996952</td>\n",
       "    </tr>\n",
       "    <tr>\n",
       "      <th>1251</th>\n",
       "      <td>HEART_RATE_MEAN_1</td>\n",
       "      <td>HEART_RATE_MEDIAN_1</td>\n",
       "      <td>0.993374</td>\n",
       "    </tr>\n",
       "    <tr>\n",
       "      <th>2251</th>\n",
       "      <td>TEMPERATURE_MEAN_1</td>\n",
       "      <td>TEMPERATURE_MEDIAN_1</td>\n",
       "      <td>0.993236</td>\n",
       "    </tr>\n",
       "    <tr>\n",
       "      <th>...</th>\n",
       "      <td>...</td>\n",
       "      <td>...</td>\n",
       "      <td>...</td>\n",
       "    </tr>\n",
       "    <tr>\n",
       "      <th>733</th>\n",
       "      <td>BLOODPRESSURE_SISTOLIC_MEDIAN_1</td>\n",
       "      <td>TEMPERATURE_MIN_1</td>\n",
       "      <td>0.000809</td>\n",
       "    </tr>\n",
       "    <tr>\n",
       "      <th>924</th>\n",
       "      <td>DISEASE GROUPING 3_1</td>\n",
       "      <td>TEMPERATURE_DIFF_1</td>\n",
       "      <td>0.000746</td>\n",
       "    </tr>\n",
       "    <tr>\n",
       "      <th>516</th>\n",
       "      <td>BLOODPRESSURE_SISTOLIC_DIFF_1</td>\n",
       "      <td>HEART_RATE_MEDIAN_1</td>\n",
       "      <td>0.000576</td>\n",
       "    </tr>\n",
       "    <tr>\n",
       "      <th>194</th>\n",
       "      <td>PATIENT_VISIT_IDENTIFIER_1</td>\n",
       "      <td>TEMPERATURE_MIN_1</td>\n",
       "      <td>0.000536</td>\n",
       "    </tr>\n",
       "    <tr>\n",
       "      <th>1070</th>\n",
       "      <td>DISEASE GROUPING 6_1</td>\n",
       "      <td>RESPIRATORY_RATE_MIN_1</td>\n",
       "      <td>0.000049</td>\n",
       "    </tr>\n",
       "  </tbody>\n",
       "</table>\n",
       "<p>1128 rows × 3 columns</p>\n",
       "</div>"
      ],
      "text/plain": [
       "                            Feature_1                        Feature_2  \\\n",
       "2101               TEMPERATURE_DIFF_1           TEMPERATURE_DIFF_REL_1   \n",
       "1501         OXYGEN_SATURATION_DIFF_1     OXYGEN_SATURATION_DIFF_REL_1   \n",
       "651     BLOODPRESSURE_SISTOLIC_MEAN_1  BLOODPRESSURE_SISTOLIC_MEDIAN_1   \n",
       "1251                HEART_RATE_MEAN_1              HEART_RATE_MEDIAN_1   \n",
       "2251               TEMPERATURE_MEAN_1             TEMPERATURE_MEDIAN_1   \n",
       "...                               ...                              ...   \n",
       "733   BLOODPRESSURE_SISTOLIC_MEDIAN_1                TEMPERATURE_MIN_1   \n",
       "924              DISEASE GROUPING 3_1               TEMPERATURE_DIFF_1   \n",
       "516     BLOODPRESSURE_SISTOLIC_DIFF_1              HEART_RATE_MEDIAN_1   \n",
       "194        PATIENT_VISIT_IDENTIFIER_1                TEMPERATURE_MIN_1   \n",
       "1070             DISEASE GROUPING 6_1           RESPIRATORY_RATE_MIN_1   \n",
       "\n",
       "      Pearson_Corr  \n",
       "2101      0.999444  \n",
       "1501      0.998889  \n",
       "651       0.996952  \n",
       "1251      0.993374  \n",
       "2251      0.993236  \n",
       "...            ...  \n",
       "733       0.000809  \n",
       "924       0.000746  \n",
       "516       0.000576  \n",
       "194       0.000536  \n",
       "1070      0.000049  \n",
       "\n",
       "[1128 rows x 3 columns]"
      ]
     },
     "execution_count": 6,
     "metadata": {},
     "output_type": "execute_result"
    }
   ],
   "source": [
    "#Show correlation values in stacked format\n",
    "def rank_correlation_score(data):\n",
    "    \n",
    "    #Stack correlation map into 3-columns format\n",
    "    stacked_corr = data.corr().stack().reset_index().rename(\n",
    "       columns = {'level_0': 'Feature_1',\n",
    "                  'level_1': 'Feature_2',\n",
    "                  0: 'Pearson_Corr'})\n",
    "    \n",
    "    #Remove redudant relationships\n",
    "    stacked_corr = stacked_corr.query('Feature_1 != Feature_2')\n",
    "    chained_feature_names = ['-'.join(np.sort(x)) for x in stacked_corr[['Feature_1', 'Feature_2']].values]\n",
    "    stacked_corr.loc[:,'Duplicate_Key'] = chained_feature_names\n",
    "    stacked_corr = stacked_corr.drop_duplicates(subset = 'Duplicate_Key').drop(columns = 'Duplicate_Key')\n",
    "\n",
    "    #Remove correlations to the target\n",
    "    stacked_corr = stacked_corr[stacked_corr['Feature_1'] != 'ICU']\n",
    "    stacked_corr = stacked_corr[stacked_corr['Feature_2'] != 'ICU']\n",
    "    \n",
    "    # Order absolute correlation strenght\n",
    "    stacked_corr['Pearson_Corr'] = abs(stacked_corr['Pearson_Corr'])\n",
    "    return stacked_corr.sort_values(by = 'Pearson_Corr', ascending = False)\n",
    "\n",
    "stacked_data_1_corr = rank_correlation_score(data_1)\n",
    "stacked_data_1_corr"
   ]
  },
  {
   "cell_type": "markdown",
   "execution_count": null,
   "metadata": {
    "papermill": {
     "duration": 0.017756,
     "end_time": "2020-08-12T00:12:13.138750",
     "exception": false,
     "start_time": "2020-08-12T00:12:13.120994",
     "status": "completed"
    },
    "tags": []
   },
   "source": [
    "As we can see, some feature present quite the correlation coefficient. Let's take a closer look at the ones in which the *Pearson_Corr* is larger than 0.99."
   ]
  },
  {
   "cell_type": "code",
   "execution_count": 7,
   "metadata": {
    "execution": {
     "iopub.execute_input": "2020-08-12T00:12:13.187686Z",
     "iopub.status.busy": "2020-08-12T00:12:13.186877Z",
     "iopub.status.idle": "2020-08-12T00:12:13.191303Z",
     "shell.execute_reply": "2020-08-12T00:12:13.190777Z"
    },
    "papermill": {
     "duration": 0.034435,
     "end_time": "2020-08-12T00:12:13.191438",
     "exception": false,
     "start_time": "2020-08-12T00:12:13.157003",
     "status": "completed"
    },
    "tags": []
   },
   "outputs": [
    {
     "data": {
      "text/html": [
       "<div>\n",
       "<style scoped>\n",
       "    .dataframe tbody tr th:only-of-type {\n",
       "        vertical-align: middle;\n",
       "    }\n",
       "\n",
       "    .dataframe tbody tr th {\n",
       "        vertical-align: top;\n",
       "    }\n",
       "\n",
       "    .dataframe thead th {\n",
       "        text-align: right;\n",
       "    }\n",
       "</style>\n",
       "<table border=\"1\" class=\"dataframe\">\n",
       "  <thead>\n",
       "    <tr style=\"text-align: right;\">\n",
       "      <th></th>\n",
       "      <th>Feature_1</th>\n",
       "      <th>Feature_2</th>\n",
       "      <th>Pearson_Corr</th>\n",
       "    </tr>\n",
       "  </thead>\n",
       "  <tbody>\n",
       "    <tr>\n",
       "      <th>2101</th>\n",
       "      <td>TEMPERATURE_DIFF_1</td>\n",
       "      <td>TEMPERATURE_DIFF_REL_1</td>\n",
       "      <td>0.999444</td>\n",
       "    </tr>\n",
       "    <tr>\n",
       "      <th>1501</th>\n",
       "      <td>OXYGEN_SATURATION_DIFF_1</td>\n",
       "      <td>OXYGEN_SATURATION_DIFF_REL_1</td>\n",
       "      <td>0.998889</td>\n",
       "    </tr>\n",
       "    <tr>\n",
       "      <th>651</th>\n",
       "      <td>BLOODPRESSURE_SISTOLIC_MEAN_1</td>\n",
       "      <td>BLOODPRESSURE_SISTOLIC_MEDIAN_1</td>\n",
       "      <td>0.996952</td>\n",
       "    </tr>\n",
       "    <tr>\n",
       "      <th>1251</th>\n",
       "      <td>HEART_RATE_MEAN_1</td>\n",
       "      <td>HEART_RATE_MEDIAN_1</td>\n",
       "      <td>0.993374</td>\n",
       "    </tr>\n",
       "    <tr>\n",
       "      <th>2251</th>\n",
       "      <td>TEMPERATURE_MEAN_1</td>\n",
       "      <td>TEMPERATURE_MEDIAN_1</td>\n",
       "      <td>0.993236</td>\n",
       "    </tr>\n",
       "    <tr>\n",
       "      <th>351</th>\n",
       "      <td>BLOODPRESSURE_DIASTOLIC_MEAN_1</td>\n",
       "      <td>BLOODPRESSURE_DIASTOLIC_MEDIAN_1</td>\n",
       "      <td>0.992260</td>\n",
       "    </tr>\n",
       "    <tr>\n",
       "      <th>1651</th>\n",
       "      <td>OXYGEN_SATURATION_MEAN_1</td>\n",
       "      <td>OXYGEN_SATURATION_MEDIAN_1</td>\n",
       "      <td>0.990731</td>\n",
       "    </tr>\n",
       "    <tr>\n",
       "      <th>501</th>\n",
       "      <td>BLOODPRESSURE_SISTOLIC_DIFF_1</td>\n",
       "      <td>BLOODPRESSURE_SISTOLIC_DIFF_REL_1</td>\n",
       "      <td>0.990595</td>\n",
       "    </tr>\n",
       "  </tbody>\n",
       "</table>\n",
       "</div>"
      ],
      "text/plain": [
       "                           Feature_1                          Feature_2  \\\n",
       "2101              TEMPERATURE_DIFF_1             TEMPERATURE_DIFF_REL_1   \n",
       "1501        OXYGEN_SATURATION_DIFF_1       OXYGEN_SATURATION_DIFF_REL_1   \n",
       "651    BLOODPRESSURE_SISTOLIC_MEAN_1    BLOODPRESSURE_SISTOLIC_MEDIAN_1   \n",
       "1251               HEART_RATE_MEAN_1                HEART_RATE_MEDIAN_1   \n",
       "2251              TEMPERATURE_MEAN_1               TEMPERATURE_MEDIAN_1   \n",
       "351   BLOODPRESSURE_DIASTOLIC_MEAN_1   BLOODPRESSURE_DIASTOLIC_MEDIAN_1   \n",
       "1651        OXYGEN_SATURATION_MEAN_1         OXYGEN_SATURATION_MEDIAN_1   \n",
       "501    BLOODPRESSURE_SISTOLIC_DIFF_1  BLOODPRESSURE_SISTOLIC_DIFF_REL_1   \n",
       "\n",
       "      Pearson_Corr  \n",
       "2101      0.999444  \n",
       "1501      0.998889  \n",
       "651       0.996952  \n",
       "1251      0.993374  \n",
       "2251      0.993236  \n",
       "351       0.992260  \n",
       "1651      0.990731  \n",
       "501       0.990595  "
      ]
     },
     "execution_count": 7,
     "metadata": {},
     "output_type": "execute_result"
    }
   ],
   "source": [
    "#Filter very strong correlations\n",
    "stacked_data_1_corr[stacked_data_1_corr['Pearson_Corr'] > 0.99]"
   ]
  },
  {
   "cell_type": "markdown",
   "execution_count": null,
   "metadata": {
    "papermill": {
     "duration": 0.017751,
     "end_time": "2020-08-12T00:12:13.227483",
     "exception": false,
     "start_time": "2020-08-12T00:12:13.209732",
     "status": "completed"
    },
    "tags": []
   },
   "source": [
    "What we see here is that there are two measurement combinations which tend to present a strong correlation between each other. They are:\n",
    "\n",
    "* MEAN/MEDIAN.\n",
    "* DIFF/DIFF_REL\n",
    "\n",
    "Well, it is exactly surprising to see this behavior. Still, it is better have proof than to base our feature selecion in assumptions. We are going even deeper and try to see if this assessment is true in every case for out dataset. "
   ]
  },
  {
   "cell_type": "code",
   "execution_count": 8,
   "metadata": {
    "execution": {
     "iopub.execute_input": "2020-08-12T00:12:13.296175Z",
     "iopub.status.busy": "2020-08-12T00:12:13.295242Z",
     "iopub.status.idle": "2020-08-12T00:12:13.299356Z",
     "shell.execute_reply": "2020-08-12T00:12:13.299829Z"
    },
    "papermill": {
     "duration": 0.054462,
     "end_time": "2020-08-12T00:12:13.299984",
     "exception": false,
     "start_time": "2020-08-12T00:12:13.245522",
     "status": "completed"
    },
    "tags": []
   },
   "outputs": [
    {
     "data": {
      "text/html": [
       "<div>\n",
       "<style scoped>\n",
       "    .dataframe tbody tr th:only-of-type {\n",
       "        vertical-align: middle;\n",
       "    }\n",
       "\n",
       "    .dataframe tbody tr th {\n",
       "        vertical-align: top;\n",
       "    }\n",
       "\n",
       "    .dataframe thead th {\n",
       "        text-align: right;\n",
       "    }\n",
       "</style>\n",
       "<table border=\"1\" class=\"dataframe\">\n",
       "  <thead>\n",
       "    <tr style=\"text-align: right;\">\n",
       "      <th></th>\n",
       "      <th>Feature_1</th>\n",
       "      <th>Feature_2</th>\n",
       "      <th>Pearson_Corr</th>\n",
       "    </tr>\n",
       "  </thead>\n",
       "  <tbody>\n",
       "    <tr>\n",
       "      <th>651</th>\n",
       "      <td>BLOODPRESSURE_SISTOLIC_MEAN_1</td>\n",
       "      <td>BLOODPRESSURE_SISTOLIC_MEDIAN_1</td>\n",
       "      <td>0.996952</td>\n",
       "    </tr>\n",
       "    <tr>\n",
       "      <th>1251</th>\n",
       "      <td>HEART_RATE_MEAN_1</td>\n",
       "      <td>HEART_RATE_MEDIAN_1</td>\n",
       "      <td>0.993374</td>\n",
       "    </tr>\n",
       "    <tr>\n",
       "      <th>2251</th>\n",
       "      <td>TEMPERATURE_MEAN_1</td>\n",
       "      <td>TEMPERATURE_MEDIAN_1</td>\n",
       "      <td>0.993236</td>\n",
       "    </tr>\n",
       "    <tr>\n",
       "      <th>351</th>\n",
       "      <td>BLOODPRESSURE_DIASTOLIC_MEAN_1</td>\n",
       "      <td>BLOODPRESSURE_DIASTOLIC_MEDIAN_1</td>\n",
       "      <td>0.992260</td>\n",
       "    </tr>\n",
       "    <tr>\n",
       "      <th>1651</th>\n",
       "      <td>OXYGEN_SATURATION_MEAN_1</td>\n",
       "      <td>OXYGEN_SATURATION_MEDIAN_1</td>\n",
       "      <td>0.990731</td>\n",
       "    </tr>\n",
       "    <tr>\n",
       "      <th>1951</th>\n",
       "      <td>RESPIRATORY_RATE_MEAN_1</td>\n",
       "      <td>RESPIRATORY_RATE_MEDIAN_1</td>\n",
       "      <td>0.989124</td>\n",
       "    </tr>\n",
       "    <tr>\n",
       "      <th>357</th>\n",
       "      <td>BLOODPRESSURE_DIASTOLIC_MEAN_1</td>\n",
       "      <td>BLOODPRESSURE_SISTOLIC_MEDIAN_1</td>\n",
       "      <td>0.560540</td>\n",
       "    </tr>\n",
       "    <tr>\n",
       "      <th>405</th>\n",
       "      <td>BLOODPRESSURE_DIASTOLIC_MEDIAN_1</td>\n",
       "      <td>BLOODPRESSURE_SISTOLIC_MEAN_1</td>\n",
       "      <td>0.539823</td>\n",
       "    </tr>\n",
       "  </tbody>\n",
       "</table>\n",
       "</div>"
      ],
      "text/plain": [
       "                             Feature_1                         Feature_2  \\\n",
       "651      BLOODPRESSURE_SISTOLIC_MEAN_1   BLOODPRESSURE_SISTOLIC_MEDIAN_1   \n",
       "1251                 HEART_RATE_MEAN_1               HEART_RATE_MEDIAN_1   \n",
       "2251                TEMPERATURE_MEAN_1              TEMPERATURE_MEDIAN_1   \n",
       "351     BLOODPRESSURE_DIASTOLIC_MEAN_1  BLOODPRESSURE_DIASTOLIC_MEDIAN_1   \n",
       "1651          OXYGEN_SATURATION_MEAN_1        OXYGEN_SATURATION_MEDIAN_1   \n",
       "1951           RESPIRATORY_RATE_MEAN_1         RESPIRATORY_RATE_MEDIAN_1   \n",
       "357     BLOODPRESSURE_DIASTOLIC_MEAN_1   BLOODPRESSURE_SISTOLIC_MEDIAN_1   \n",
       "405   BLOODPRESSURE_DIASTOLIC_MEDIAN_1     BLOODPRESSURE_SISTOLIC_MEAN_1   \n",
       "\n",
       "      Pearson_Corr  \n",
       "651       0.996952  \n",
       "1251      0.993374  \n",
       "2251      0.993236  \n",
       "351       0.992260  \n",
       "1651      0.990731  \n",
       "1951      0.989124  \n",
       "357       0.560540  \n",
       "405       0.539823  "
      ]
     },
     "execution_count": 8,
     "metadata": {},
     "output_type": "execute_result"
    }
   ],
   "source": [
    "#Investigate MEAN/MEDIAN correlations\n",
    "stacked_data_1_corr['MEASURE_FEATURE_1'] = [x.split('_')[0] for x in stacked_data_1_corr['Feature_1']]\n",
    "stacked_data_1_corr['MEASURE_FEATURE_2'] = [x.split('_')[0] for x in stacked_data_1_corr['Feature_2']]\n",
    "stacked_data_1_corr['TYPE_FEATURE_1'] = [x.split('_')[-2] for x in stacked_data_1_corr['Feature_1']]\n",
    "stacked_data_1_corr['TYPE_FEATURE_2'] = [x.split('_')[-2] for x in stacked_data_1_corr['Feature_2']]\n",
    "\n",
    "mean_median_corr = stacked_data_1_corr.query('MEASURE_FEATURE_1 == MEASURE_FEATURE_2')\n",
    "mean_median_corr = mean_median_corr.query('TYPE_FEATURE_1 != TYPE_FEATURE_2')\n",
    "mean_median_corr = mean_median_corr[mean_median_corr['TYPE_FEATURE_1'].isin(['MEDIAN', 'MEAN'])]\n",
    "mean_median_corr = mean_median_corr[mean_median_corr['TYPE_FEATURE_2'].isin(['MEDIAN', 'MEAN'])]\n",
    "\n",
    "relevant_cols = ['Feature_1', 'Feature_2', 'Pearson_Corr']\n",
    "mean_median_corr[relevant_cols]"
   ]
  },
  {
   "cell_type": "markdown",
   "execution_count": null,
   "metadata": {
    "papermill": {
     "duration": 0.018753,
     "end_time": "2020-08-12T00:12:13.338016",
     "exception": false,
     "start_time": "2020-08-12T00:12:13.319263",
     "status": "completed"
    },
    "tags": []
   },
   "source": [
    "Well, the table shows there are no exceptions to our previous assertion. Still, there are two smaller correlations values above. If you look closer, however, *Feature_1* and *Feature_2* are not part of the same measurement. They probably just slipped through our filters and don't matter for this specific step.\n",
    "\n",
    "In the end, this means we do not need both *MEAN* and *MEDIAN* features for a given measurement type. So, we are going to stick with the *MEAN* attributes for now."
   ]
  },
  {
   "cell_type": "code",
   "execution_count": 9,
   "metadata": {
    "execution": {
     "iopub.execute_input": "2020-08-12T00:12:13.381346Z",
     "iopub.status.busy": "2020-08-12T00:12:13.380332Z",
     "iopub.status.idle": "2020-08-12T00:12:13.383620Z",
     "shell.execute_reply": "2020-08-12T00:12:13.382980Z"
    },
    "papermill": {
     "duration": 0.026499,
     "end_time": "2020-08-12T00:12:13.383737",
     "exception": false,
     "start_time": "2020-08-12T00:12:13.357238",
     "status": "completed"
    },
    "tags": []
   },
   "outputs": [],
   "source": [
    "#List columns to be removed\n",
    "cols_to_remove = ['BLOODPRESSURE_DIASTOLIC_MEDIAN_1', 'BLOODPRESSURE_SISTOLIC_MEDIAN_1', 'HEART_RATE_MEDIAN_1',\n",
    "                  'OXYGEN_SATURATION_MEDIAN_1', 'RESPIRATORY_RATE_MEDIAN_1', 'TEMPERATURE_MEDIAN_1']"
   ]
  },
  {
   "cell_type": "code",
   "execution_count": 10,
   "metadata": {
    "execution": {
     "iopub.execute_input": "2020-08-12T00:12:13.443197Z",
     "iopub.status.busy": "2020-08-12T00:12:13.442393Z",
     "iopub.status.idle": "2020-08-12T00:12:13.447057Z",
     "shell.execute_reply": "2020-08-12T00:12:13.446579Z"
    },
    "papermill": {
     "duration": 0.044759,
     "end_time": "2020-08-12T00:12:13.447197",
     "exception": false,
     "start_time": "2020-08-12T00:12:13.402438",
     "status": "completed"
    },
    "tags": []
   },
   "outputs": [
    {
     "data": {
      "text/html": [
       "<div>\n",
       "<style scoped>\n",
       "    .dataframe tbody tr th:only-of-type {\n",
       "        vertical-align: middle;\n",
       "    }\n",
       "\n",
       "    .dataframe tbody tr th {\n",
       "        vertical-align: top;\n",
       "    }\n",
       "\n",
       "    .dataframe thead th {\n",
       "        text-align: right;\n",
       "    }\n",
       "</style>\n",
       "<table border=\"1\" class=\"dataframe\">\n",
       "  <thead>\n",
       "    <tr style=\"text-align: right;\">\n",
       "      <th></th>\n",
       "      <th>Feature_1</th>\n",
       "      <th>Feature_2</th>\n",
       "      <th>Pearson_Corr</th>\n",
       "    </tr>\n",
       "  </thead>\n",
       "  <tbody>\n",
       "    <tr>\n",
       "      <th>2101</th>\n",
       "      <td>TEMPERATURE_DIFF_1</td>\n",
       "      <td>TEMPERATURE_DIFF_REL_1</td>\n",
       "      <td>0.999444</td>\n",
       "    </tr>\n",
       "    <tr>\n",
       "      <th>1501</th>\n",
       "      <td>OXYGEN_SATURATION_DIFF_1</td>\n",
       "      <td>OXYGEN_SATURATION_DIFF_REL_1</td>\n",
       "      <td>0.998889</td>\n",
       "    </tr>\n",
       "    <tr>\n",
       "      <th>501</th>\n",
       "      <td>BLOODPRESSURE_SISTOLIC_DIFF_1</td>\n",
       "      <td>BLOODPRESSURE_SISTOLIC_DIFF_REL_1</td>\n",
       "      <td>0.990595</td>\n",
       "    </tr>\n",
       "    <tr>\n",
       "      <th>201</th>\n",
       "      <td>BLOODPRESSURE_DIASTOLIC_DIFF_1</td>\n",
       "      <td>BLOODPRESSURE_DIASTOLIC_DIFF_REL_1</td>\n",
       "      <td>0.978508</td>\n",
       "    </tr>\n",
       "    <tr>\n",
       "      <th>1801</th>\n",
       "      <td>RESPIRATORY_RATE_DIFF_1</td>\n",
       "      <td>RESPIRATORY_RATE_DIFF_REL_1</td>\n",
       "      <td>0.961739</td>\n",
       "    </tr>\n",
       "    <tr>\n",
       "      <th>1101</th>\n",
       "      <td>HEART_RATE_DIFF_1</td>\n",
       "      <td>HEART_RATE_DIFF_REL_1</td>\n",
       "      <td>0.949914</td>\n",
       "    </tr>\n",
       "    <tr>\n",
       "      <th>207</th>\n",
       "      <td>BLOODPRESSURE_DIASTOLIC_DIFF_1</td>\n",
       "      <td>BLOODPRESSURE_SISTOLIC_DIFF_REL_1</td>\n",
       "      <td>0.799433</td>\n",
       "    </tr>\n",
       "    <tr>\n",
       "      <th>255</th>\n",
       "      <td>BLOODPRESSURE_DIASTOLIC_DIFF_REL_1</td>\n",
       "      <td>BLOODPRESSURE_SISTOLIC_DIFF_1</td>\n",
       "      <td>0.777548</td>\n",
       "    </tr>\n",
       "  </tbody>\n",
       "</table>\n",
       "</div>"
      ],
      "text/plain": [
       "                               Feature_1                           Feature_2  \\\n",
       "2101                  TEMPERATURE_DIFF_1              TEMPERATURE_DIFF_REL_1   \n",
       "1501            OXYGEN_SATURATION_DIFF_1        OXYGEN_SATURATION_DIFF_REL_1   \n",
       "501        BLOODPRESSURE_SISTOLIC_DIFF_1   BLOODPRESSURE_SISTOLIC_DIFF_REL_1   \n",
       "201       BLOODPRESSURE_DIASTOLIC_DIFF_1  BLOODPRESSURE_DIASTOLIC_DIFF_REL_1   \n",
       "1801             RESPIRATORY_RATE_DIFF_1         RESPIRATORY_RATE_DIFF_REL_1   \n",
       "1101                   HEART_RATE_DIFF_1               HEART_RATE_DIFF_REL_1   \n",
       "207       BLOODPRESSURE_DIASTOLIC_DIFF_1   BLOODPRESSURE_SISTOLIC_DIFF_REL_1   \n",
       "255   BLOODPRESSURE_DIASTOLIC_DIFF_REL_1       BLOODPRESSURE_SISTOLIC_DIFF_1   \n",
       "\n",
       "      Pearson_Corr  \n",
       "2101      0.999444  \n",
       "1501      0.998889  \n",
       "501       0.990595  \n",
       "201       0.978508  \n",
       "1801      0.961739  \n",
       "1101      0.949914  \n",
       "207       0.799433  \n",
       "255       0.777548  "
      ]
     },
     "execution_count": 10,
     "metadata": {},
     "output_type": "execute_result"
    }
   ],
   "source": [
    "#Investigate DIFF/DIFF_REL correlations\n",
    "diff_corr = stacked_data_1_corr.query('MEASURE_FEATURE_1 == MEASURE_FEATURE_2')\n",
    "diff_corr = diff_corr.query('TYPE_FEATURE_1 != TYPE_FEATURE_2')\n",
    "diff_corr = diff_corr[diff_corr['TYPE_FEATURE_1'].isin(['DIFF', 'REL'])]\n",
    "diff_corr = diff_corr[diff_corr['TYPE_FEATURE_2'].isin(['DIFF', 'REL'])]\n",
    "\n",
    "diff_corr[relevant_cols]"
   ]
  },
  {
   "cell_type": "markdown",
   "execution_count": null,
   "metadata": {
    "papermill": {
     "duration": 0.018565,
     "end_time": "2020-08-12T00:12:13.484973",
     "exception": false,
     "start_time": "2020-08-12T00:12:13.466408",
     "status": "completed"
    },
    "tags": []
   },
   "source": [
    "Once again, no exceptions are found for the *DIFF/DIFF_REL* correlation behavior. As in the previous table, the second and third records are to be neglected, since they are not actually comparing the same measurement type. For this duo, we choose the *DIFF_REL* features to remove."
   ]
  },
  {
   "cell_type": "code",
   "execution_count": 11,
   "metadata": {
    "execution": {
     "iopub.execute_input": "2020-08-12T00:12:13.527677Z",
     "iopub.status.busy": "2020-08-12T00:12:13.526921Z",
     "iopub.status.idle": "2020-08-12T00:12:13.529916Z",
     "shell.execute_reply": "2020-08-12T00:12:13.529378Z"
    },
    "papermill": {
     "duration": 0.026358,
     "end_time": "2020-08-12T00:12:13.530033",
     "exception": false,
     "start_time": "2020-08-12T00:12:13.503675",
     "status": "completed"
    },
    "tags": []
   },
   "outputs": [],
   "source": [
    "#Add columns to the remove list\n",
    "cols_to_remove.extend(['BLOODPRESSURE_DIASTOLIC_DIFF_REL_1', 'BLOODPRESSURE_SISTOLIC_DIFF_REL_1', \n",
    "                       'HEART_RATE_DIFF_REL_1', 'OXYGEN_SATURATION_DIFF_REL_1', 'RESPIRATORY_RATE_DIFF_REL_1',\n",
    "                       'TEMPERATURE_DIFF_REL_1'])"
   ]
  },
  {
   "cell_type": "markdown",
   "execution_count": null,
   "metadata": {
    "papermill": {
     "duration": 0.018335,
     "end_time": "2020-08-12T00:12:13.567242",
     "exception": false,
     "start_time": "2020-08-12T00:12:13.548907",
     "status": "completed"
    },
    "tags": []
   },
   "source": [
    "Now that we have already evaluated the most extreme correlation cases between features, let's see how these attributes relate to the target column."
   ]
  },
  {
   "cell_type": "code",
   "execution_count": 12,
   "metadata": {
    "execution": {
     "iopub.execute_input": "2020-08-12T00:12:13.612081Z",
     "iopub.status.busy": "2020-08-12T00:12:13.611447Z",
     "iopub.status.idle": "2020-08-12T00:12:13.620704Z",
     "shell.execute_reply": "2020-08-12T00:12:13.620160Z"
    },
    "papermill": {
     "duration": 0.03483,
     "end_time": "2020-08-12T00:12:13.620822",
     "exception": false,
     "start_time": "2020-08-12T00:12:13.585992",
     "status": "completed"
    },
    "tags": []
   },
   "outputs": [
    {
     "data": {
      "text/plain": [
       "AGE_ABOVE65_1                     0.291010\n",
       "RESPIRATORY_RATE_MAX_1            0.213938\n",
       "RESPIRATORY_RATE_MEAN_1           0.207911\n",
       "BLOODPRESSURE_DIASTOLIC_MEAN_1    0.201210\n",
       "BLOODPRESSURE_DIASTOLIC_MIN_1     0.195703\n",
       "HTN_1                             0.180555\n",
       "RESPIRATORY_RATE_MIN_1            0.173043\n",
       "BLOODPRESSURE_DIASTOLIC_MAX_1     0.166832\n",
       "OXYGEN_SATURATION_MEAN_1          0.147612\n",
       "OXYGEN_SATURATION_MIN_1           0.139034\n",
       "OXYGEN_SATURATION_MAX_1           0.131615\n",
       "DISEASE GROUPING 3_1              0.122514\n",
       "DISEASE GROUPING 5_1              0.122200\n",
       "GENDER_1                          0.117938\n",
       "DISEASE GROUPING 4_1              0.112573\n",
       "BLOODPRESSURE_SISTOLIC_MAX_1      0.109073\n",
       "BLOODPRESSURE_SISTOLIC_DIFF_1     0.107106\n",
       "RESPIRATORY_RATE_DIFF_1           0.093877\n",
       "DISEASE GROUPING 2_1              0.087753\n",
       "TEMPERATURE_MEAN_1                0.086764\n",
       "TEMPERATURE_MIN_1                 0.086575\n",
       "BLOODPRESSURE_SISTOLIC_MEAN_1     0.084371\n",
       "TEMPERATURE_MAX_1                 0.079548\n",
       "DISEASE GROUPING 1_1              0.071825\n",
       "IMMUNOCOMPROMISED_1               0.071221\n",
       "BLOODPRESSURE_DIASTOLIC_DIFF_1    0.065228\n",
       "BLOODPRESSURE_SISTOLIC_MIN_1      0.058086\n",
       "OTHER_1                           0.050656\n",
       "HEART_RATE_MEAN_1                 0.048263\n",
       "HEART_RATE_MAX_1                  0.047453\n",
       "HEART_RATE_MIN_1                  0.042645\n",
       "PATIENT_VISIT_IDENTIFIER_1        0.041382\n",
       "DISEASE GROUPING 6_1              0.026684\n",
       "OXYGEN_SATURATION_DIFF_1          0.020897\n",
       "HEART_RATE_DIFF_1                 0.013554\n",
       "TEMPERATURE_DIFF_1                0.006336\n",
       "Name: ICU, dtype: float64"
      ]
     },
     "execution_count": 12,
     "metadata": {},
     "output_type": "execute_result"
    }
   ],
   "source": [
    "#Sort absolute correlations values to the target\n",
    "data_1 = data_1.drop(columns = cols_to_remove)\n",
    "data_1_target_corr = abs(data_1.corr()['ICU'])\n",
    "\n",
    "data_1_target_corr[data_1_target_corr < 1].sort_values(ascending = False)"
   ]
  },
  {
   "cell_type": "markdown",
   "execution_count": null,
   "metadata": {
    "papermill": {
     "duration": 0.018714,
     "end_time": "2020-08-12T00:12:13.658641",
     "exception": false,
     "start_time": "2020-08-12T00:12:13.639927",
     "status": "completed"
    },
    "tags": []
   },
   "source": [
    "This data does not provide us with a lot. However there's some observations we can make. First of all, the most strognly correlated feature, *AGE_ABOVE65_1*, confirms the elderly are more affected by the desease. Following, looking at the *DIFF* attributes, they are mostly positioned at weaker correlated half of our features. This is not actually a surprise considering how poorly distributed they are."
   ]
  },
  {
   "cell_type": "markdown",
   "execution_count": null,
   "metadata": {
    "papermill": {
     "duration": 0.018649,
     "end_time": "2020-08-12T00:12:13.696366",
     "exception": false,
     "start_time": "2020-08-12T00:12:13.677717",
     "status": "completed"
    },
    "tags": []
   },
   "source": [
    "## 3.2. Feature Encoding"
   ]
  },
  {
   "cell_type": "markdown",
   "execution_count": null,
   "metadata": {
    "papermill": {
     "duration": 0.023931,
     "end_time": "2020-08-12T00:12:13.744190",
     "exception": false,
     "start_time": "2020-08-12T00:12:13.720259",
     "status": "completed"
    },
    "tags": []
   },
   "source": [
    "Looking at our data, there is still a single featute that requires some processing: *AGE_PERCENTIL_1*. Let's encoded right now and move on."
   ]
  },
  {
   "cell_type": "code",
   "execution_count": 13,
   "metadata": {
    "execution": {
     "iopub.execute_input": "2020-08-12T00:12:13.817302Z",
     "iopub.status.busy": "2020-08-12T00:12:13.810128Z",
     "iopub.status.idle": "2020-08-12T00:12:13.825318Z",
     "shell.execute_reply": "2020-08-12T00:12:13.824683Z"
    },
    "papermill": {
     "duration": 0.057488,
     "end_time": "2020-08-12T00:12:13.825433",
     "exception": false,
     "start_time": "2020-08-12T00:12:13.767945",
     "status": "completed"
    },
    "tags": []
   },
   "outputs": [
    {
     "data": {
      "text/html": [
       "<div>\n",
       "<style scoped>\n",
       "    .dataframe tbody tr th:only-of-type {\n",
       "        vertical-align: middle;\n",
       "    }\n",
       "\n",
       "    .dataframe tbody tr th {\n",
       "        vertical-align: top;\n",
       "    }\n",
       "\n",
       "    .dataframe thead th {\n",
       "        text-align: right;\n",
       "    }\n",
       "</style>\n",
       "<table border=\"1\" class=\"dataframe\">\n",
       "  <thead>\n",
       "    <tr style=\"text-align: right;\">\n",
       "      <th></th>\n",
       "      <th>AGE_ABOVE65_1</th>\n",
       "      <th>AGE_PERCENTIL_1</th>\n",
       "      <th>GENDER_1</th>\n",
       "      <th>HTN_1</th>\n",
       "      <th>PATIENT_VISIT_IDENTIFIER_1</th>\n",
       "      <th>BLOODPRESSURE_DIASTOLIC_DIFF_1</th>\n",
       "      <th>BLOODPRESSURE_DIASTOLIC_MAX_1</th>\n",
       "      <th>BLOODPRESSURE_DIASTOLIC_MEAN_1</th>\n",
       "      <th>BLOODPRESSURE_DIASTOLIC_MIN_1</th>\n",
       "      <th>BLOODPRESSURE_SISTOLIC_DIFF_1</th>\n",
       "      <th>...</th>\n",
       "      <th>OXYGEN_SATURATION_MIN_1</th>\n",
       "      <th>RESPIRATORY_RATE_DIFF_1</th>\n",
       "      <th>RESPIRATORY_RATE_MAX_1</th>\n",
       "      <th>RESPIRATORY_RATE_MEAN_1</th>\n",
       "      <th>RESPIRATORY_RATE_MIN_1</th>\n",
       "      <th>TEMPERATURE_DIFF_1</th>\n",
       "      <th>TEMPERATURE_MAX_1</th>\n",
       "      <th>TEMPERATURE_MEAN_1</th>\n",
       "      <th>TEMPERATURE_MIN_1</th>\n",
       "      <th>ICU</th>\n",
       "    </tr>\n",
       "  </thead>\n",
       "  <tbody>\n",
       "    <tr>\n",
       "      <th>0</th>\n",
       "      <td>1</td>\n",
       "      <td>60th</td>\n",
       "      <td>0</td>\n",
       "      <td>0.0</td>\n",
       "      <td>0</td>\n",
       "      <td>-1.000000</td>\n",
       "      <td>-0.247863</td>\n",
       "      <td>0.086420</td>\n",
       "      <td>0.237113</td>\n",
       "      <td>-1.000000</td>\n",
       "      <td>...</td>\n",
       "      <td>0.898990</td>\n",
       "      <td>-1.000000</td>\n",
       "      <td>-0.636364</td>\n",
       "      <td>-0.593220</td>\n",
       "      <td>-0.500000</td>\n",
       "      <td>-1.000000</td>\n",
       "      <td>-0.420290</td>\n",
       "      <td>-0.285714</td>\n",
       "      <td>0.208791</td>\n",
       "      <td>1</td>\n",
       "    </tr>\n",
       "    <tr>\n",
       "      <th>2</th>\n",
       "      <td>0</td>\n",
       "      <td>10th</td>\n",
       "      <td>0</td>\n",
       "      <td>0.0</td>\n",
       "      <td>2</td>\n",
       "      <td>-0.547826</td>\n",
       "      <td>-0.435897</td>\n",
       "      <td>-0.489712</td>\n",
       "      <td>-0.525773</td>\n",
       "      <td>-0.533742</td>\n",
       "      <td>...</td>\n",
       "      <td>0.959596</td>\n",
       "      <td>-0.764706</td>\n",
       "      <td>-0.575758</td>\n",
       "      <td>-0.645951</td>\n",
       "      <td>-0.714286</td>\n",
       "      <td>-1.000000</td>\n",
       "      <td>0.101449</td>\n",
       "      <td>0.357143</td>\n",
       "      <td>0.604396</td>\n",
       "      <td>1</td>\n",
       "    </tr>\n",
       "    <tr>\n",
       "      <th>3</th>\n",
       "      <td>0</td>\n",
       "      <td>40th</td>\n",
       "      <td>1</td>\n",
       "      <td>0.0</td>\n",
       "      <td>3</td>\n",
       "      <td>-1.000000</td>\n",
       "      <td>-0.299145</td>\n",
       "      <td>0.012346</td>\n",
       "      <td>0.175258</td>\n",
       "      <td>-1.000000</td>\n",
       "      <td>...</td>\n",
       "      <td>0.878788</td>\n",
       "      <td>-1.000000</td>\n",
       "      <td>-0.515152</td>\n",
       "      <td>-0.457627</td>\n",
       "      <td>-0.357143</td>\n",
       "      <td>-1.000000</td>\n",
       "      <td>-0.420290</td>\n",
       "      <td>-0.285714</td>\n",
       "      <td>0.208791</td>\n",
       "      <td>0</td>\n",
       "    </tr>\n",
       "    <tr>\n",
       "      <th>4</th>\n",
       "      <td>0</td>\n",
       "      <td>10th</td>\n",
       "      <td>0</td>\n",
       "      <td>0.0</td>\n",
       "      <td>4</td>\n",
       "      <td>-1.000000</td>\n",
       "      <td>-0.076923</td>\n",
       "      <td>0.333333</td>\n",
       "      <td>0.443299</td>\n",
       "      <td>-0.877301</td>\n",
       "      <td>...</td>\n",
       "      <td>0.939394</td>\n",
       "      <td>-0.882353</td>\n",
       "      <td>-0.575758</td>\n",
       "      <td>-0.593220</td>\n",
       "      <td>-0.571429</td>\n",
       "      <td>-0.952381</td>\n",
       "      <td>0.072464</td>\n",
       "      <td>0.285714</td>\n",
       "      <td>0.538462</td>\n",
       "      <td>0</td>\n",
       "    </tr>\n",
       "    <tr>\n",
       "      <th>5</th>\n",
       "      <td>0</td>\n",
       "      <td>10th</td>\n",
       "      <td>0</td>\n",
       "      <td>0.0</td>\n",
       "      <td>5</td>\n",
       "      <td>-0.826087</td>\n",
       "      <td>-0.247863</td>\n",
       "      <td>-0.037037</td>\n",
       "      <td>0.030928</td>\n",
       "      <td>-0.754601</td>\n",
       "      <td>...</td>\n",
       "      <td>0.919192</td>\n",
       "      <td>-1.000000</td>\n",
       "      <td>-0.575758</td>\n",
       "      <td>-0.525424</td>\n",
       "      <td>-0.428571</td>\n",
       "      <td>-0.976190</td>\n",
       "      <td>-0.333333</td>\n",
       "      <td>-0.196429</td>\n",
       "      <td>0.252747</td>\n",
       "      <td>0</td>\n",
       "    </tr>\n",
       "  </tbody>\n",
       "</table>\n",
       "<p>5 rows × 38 columns</p>\n",
       "</div>"
      ],
      "text/plain": [
       "   AGE_ABOVE65_1 AGE_PERCENTIL_1  GENDER_1  HTN_1  PATIENT_VISIT_IDENTIFIER_1  \\\n",
       "0              1            60th         0    0.0                           0   \n",
       "2              0            10th         0    0.0                           2   \n",
       "3              0            40th         1    0.0                           3   \n",
       "4              0            10th         0    0.0                           4   \n",
       "5              0            10th         0    0.0                           5   \n",
       "\n",
       "   BLOODPRESSURE_DIASTOLIC_DIFF_1  BLOODPRESSURE_DIASTOLIC_MAX_1  \\\n",
       "0                       -1.000000                      -0.247863   \n",
       "2                       -0.547826                      -0.435897   \n",
       "3                       -1.000000                      -0.299145   \n",
       "4                       -1.000000                      -0.076923   \n",
       "5                       -0.826087                      -0.247863   \n",
       "\n",
       "   BLOODPRESSURE_DIASTOLIC_MEAN_1  BLOODPRESSURE_DIASTOLIC_MIN_1  \\\n",
       "0                        0.086420                       0.237113   \n",
       "2                       -0.489712                      -0.525773   \n",
       "3                        0.012346                       0.175258   \n",
       "4                        0.333333                       0.443299   \n",
       "5                       -0.037037                       0.030928   \n",
       "\n",
       "   BLOODPRESSURE_SISTOLIC_DIFF_1  ...  OXYGEN_SATURATION_MIN_1  \\\n",
       "0                      -1.000000  ...                 0.898990   \n",
       "2                      -0.533742  ...                 0.959596   \n",
       "3                      -1.000000  ...                 0.878788   \n",
       "4                      -0.877301  ...                 0.939394   \n",
       "5                      -0.754601  ...                 0.919192   \n",
       "\n",
       "   RESPIRATORY_RATE_DIFF_1  RESPIRATORY_RATE_MAX_1  RESPIRATORY_RATE_MEAN_1  \\\n",
       "0                -1.000000               -0.636364                -0.593220   \n",
       "2                -0.764706               -0.575758                -0.645951   \n",
       "3                -1.000000               -0.515152                -0.457627   \n",
       "4                -0.882353               -0.575758                -0.593220   \n",
       "5                -1.000000               -0.575758                -0.525424   \n",
       "\n",
       "   RESPIRATORY_RATE_MIN_1  TEMPERATURE_DIFF_1  TEMPERATURE_MAX_1  \\\n",
       "0               -0.500000           -1.000000          -0.420290   \n",
       "2               -0.714286           -1.000000           0.101449   \n",
       "3               -0.357143           -1.000000          -0.420290   \n",
       "4               -0.571429           -0.952381           0.072464   \n",
       "5               -0.428571           -0.976190          -0.333333   \n",
       "\n",
       "   TEMPERATURE_MEAN_1  TEMPERATURE_MIN_1  ICU  \n",
       "0           -0.285714           0.208791    1  \n",
       "2            0.357143           0.604396    1  \n",
       "3           -0.285714           0.208791    0  \n",
       "4            0.285714           0.538462    0  \n",
       "5           -0.196429           0.252747    0  \n",
       "\n",
       "[5 rows x 38 columns]"
      ]
     },
     "execution_count": 13,
     "metadata": {},
     "output_type": "execute_result"
    }
   ],
   "source": [
    "data_1.head()"
   ]
  },
  {
   "cell_type": "code",
   "execution_count": 14,
   "metadata": {
    "execution": {
     "iopub.execute_input": "2020-08-12T00:12:13.871077Z",
     "iopub.status.busy": "2020-08-12T00:12:13.870411Z",
     "iopub.status.idle": "2020-08-12T00:12:13.873201Z",
     "shell.execute_reply": "2020-08-12T00:12:13.873669Z"
    },
    "papermill": {
     "duration": 0.028955,
     "end_time": "2020-08-12T00:12:13.873821",
     "exception": false,
     "start_time": "2020-08-12T00:12:13.844866",
     "status": "completed"
    },
    "tags": []
   },
   "outputs": [],
   "source": [
    "#Define function to encode features\n",
    "def encode_feature(data, col):\n",
    "    new_cols = pd.get_dummies(data[col], prefix = col, prefix_sep = ':', drop_first = True)\n",
    "    return pd.concat([data.drop(columns = col), new_cols], axis = 1)"
   ]
  },
  {
   "cell_type": "code",
   "execution_count": 15,
   "metadata": {
    "execution": {
     "iopub.execute_input": "2020-08-12T00:12:13.921472Z",
     "iopub.status.busy": "2020-08-12T00:12:13.920705Z",
     "iopub.status.idle": "2020-08-12T00:12:13.924302Z",
     "shell.execute_reply": "2020-08-12T00:12:13.923796Z"
    },
    "papermill": {
     "duration": 0.031117,
     "end_time": "2020-08-12T00:12:13.924430",
     "exception": false,
     "start_time": "2020-08-12T00:12:13.893313",
     "status": "completed"
    },
    "tags": []
   },
   "outputs": [],
   "source": [
    "#Encode AGE_PERCENTIL_1\n",
    "data_1 = encode_feature(data_1, 'AGE_PERCENTIL_1')"
   ]
  },
  {
   "cell_type": "markdown",
   "execution_count": null,
   "metadata": {
    "papermill": {
     "duration": 0.019127,
     "end_time": "2020-08-12T00:12:13.962972",
     "exception": false,
     "start_time": "2020-08-12T00:12:13.943845",
     "status": "completed"
    },
    "tags": []
   },
   "source": [
    "## 3.3. First Attempt"
   ]
  },
  {
   "cell_type": "markdown",
   "execution_count": null,
   "metadata": {
    "papermill": {
     "duration": 0.019116,
     "end_time": "2020-08-12T00:12:14.001942",
     "exception": false,
     "start_time": "2020-08-12T00:12:13.982826",
     "status": "completed"
    },
    "tags": []
   },
   "source": [
    "We have already performed some feature selection, and before we go any further, it could be wise to see how a model performs in our data as for this point. Since our dataset is not very large, and there are not that many features remaining, this can work as a baseline model. Afterwards, we can see if removing or engineering features can maintain or even improve from this first try.\n",
    "\n",
    "We this first attemp, let's try and use a K Nearest Neighbors classification algorithm. Our choice is based on the fact the model could be somewhat easy to interpret. "
   ]
  },
  {
   "cell_type": "code",
   "execution_count": 16,
   "metadata": {
    "execution": {
     "iopub.execute_input": "2020-08-12T00:12:14.095464Z",
     "iopub.status.busy": "2020-08-12T00:12:14.094424Z",
     "iopub.status.idle": "2020-08-12T00:12:14.102843Z",
     "shell.execute_reply": "2020-08-12T00:12:14.102311Z"
    },
    "papermill": {
     "duration": 0.081612,
     "end_time": "2020-08-12T00:12:14.102971",
     "exception": false,
     "start_time": "2020-08-12T00:12:14.021359",
     "status": "completed"
    },
    "tags": []
   },
   "outputs": [],
   "source": [
    "#Split data into train/test and validation\n",
    "np.random.seed(10)\n",
    "\n",
    "target_col = 'ICU'\n",
    "feature_cols = data_1.drop(columns = ['ICU', 'PATIENT_VISIT_IDENTIFIER_1']).columns.values\n",
    "\n",
    "x_train, x_validation, y_train, y_validation = train_test_split(data_1[feature_cols], data_1[target_col],\n",
    "                                                                test_size = 0.1)"
   ]
  },
  {
   "cell_type": "code",
   "execution_count": 17,
   "metadata": {
    "execution": {
     "iopub.execute_input": "2020-08-12T00:12:14.152072Z",
     "iopub.status.busy": "2020-08-12T00:12:14.151321Z",
     "iopub.status.idle": "2020-08-12T00:12:14.154929Z",
     "shell.execute_reply": "2020-08-12T00:12:14.154254Z"
    },
    "papermill": {
     "duration": 0.032073,
     "end_time": "2020-08-12T00:12:14.155060",
     "exception": false,
     "start_time": "2020-08-12T00:12:14.122987",
     "status": "completed"
    },
    "tags": []
   },
   "outputs": [],
   "source": [
    "#Define function to test algorithm\n",
    "def score_model(estimator, train_data, validation_data, cv):\n",
    "    #Unpack data\n",
    "    x_train, y_train = train_data\n",
    "    x_validation, y_validation = validation_data\n",
    "    \n",
    "    #Perfomed cross-validation on train data\n",
    "    model_cv = cross_validate(estimator = estimator, X = x_train, y = y_train,\n",
    "                              scoring = ['accuracy', 'roc_auc'],\n",
    "                              cv = cv)\n",
    "    \n",
    "    #Apply model to validation data\n",
    "    estimator.fit(x_train, y_train)\n",
    "    y_pred = estimator.predict(x_validation)\n",
    "\n",
    "    #Print results\n",
    "    print('CV model accuracy:  %.3f +/- %.3f'  %(model_cv['test_accuracy'].mean(), \n",
    "                                              model_cv['test_accuracy'].std()))\n",
    "    print('CV model roc_auc:  %.3f +/- %.3f'  %(model_cv['test_roc_auc'].mean(), \n",
    "                                             model_cv['test_roc_auc'].std()))\n",
    "    print('Validation accuracy score: %.3f' %accuracy_score(y_validation, y_pred))\n",
    "    print('Validation ROC_AUC score: %.3f' %roc_auc_score(y_validation, y_pred))\n",
    "    \n",
    "    return estimator"
   ]
  },
  {
   "cell_type": "code",
   "execution_count": 18,
   "metadata": {
    "execution": {
     "iopub.execute_input": "2020-08-12T00:12:14.201888Z",
     "iopub.status.busy": "2020-08-12T00:12:14.201077Z",
     "iopub.status.idle": "2020-08-12T00:12:14.357940Z",
     "shell.execute_reply": "2020-08-12T00:12:14.356980Z"
    },
    "papermill": {
     "duration": 0.183339,
     "end_time": "2020-08-12T00:12:14.358346",
     "exception": false,
     "start_time": "2020-08-12T00:12:14.175007",
     "status": "completed"
    },
    "tags": []
   },
   "outputs": [
    {
     "name": "stdout",
     "output_type": "stream",
     "text": [
      "CV model accuracy:  0.649 +/- 0.052\n",
      "CV model roc_auc:  0.686 +/- 0.086\n",
      "Validation accuracy score: 0.694\n",
      "Validation ROC_AUC score: 0.675\n"
     ]
    }
   ],
   "source": [
    "#Test KNN model\n",
    "baseline_model_1 = KNN(n_neighbors = 10, weights = 'distance')\n",
    "fitted_baseline_model_1 = score_model(estimator = baseline_model_1, \n",
    "                                      train_data = (x_train, y_train),\n",
    "                                      validation_data = (x_validation, y_validation),\n",
    "                                      cv = 10)"
   ]
  },
  {
   "cell_type": "markdown",
   "execution_count": null,
   "metadata": {
    "papermill": {
     "duration": 0.019563,
     "end_time": "2020-08-12T00:12:14.398091",
     "exception": false,
     "start_time": "2020-08-12T00:12:14.378528",
     "status": "completed"
    },
    "tags": []
   },
   "source": [
    "Simply put, the results are not impressive, specially considering the frequency of true values in our target is around 46%. Before we make any important decision, however, let's see how another algorithm performs on this data."
   ]
  },
  {
   "cell_type": "code",
   "execution_count": 19,
   "metadata": {
    "execution": {
     "iopub.execute_input": "2020-08-12T00:12:14.445414Z",
     "iopub.status.busy": "2020-08-12T00:12:14.444733Z",
     "iopub.status.idle": "2020-08-12T00:12:16.685962Z",
     "shell.execute_reply": "2020-08-12T00:12:16.685441Z"
    },
    "papermill": {
     "duration": 2.267881,
     "end_time": "2020-08-12T00:12:16.686090",
     "exception": false,
     "start_time": "2020-08-12T00:12:14.418209",
     "status": "completed"
    },
    "tags": []
   },
   "outputs": [
    {
     "name": "stdout",
     "output_type": "stream",
     "text": [
      "CV model accuracy:  0.652 +/- 0.104\n",
      "CV model roc_auc:  0.723 +/- 0.087\n",
      "Validation accuracy score: 0.750\n",
      "Validation ROC_AUC score: 0.744\n"
     ]
    }
   ],
   "source": [
    "#Test RandomForestClassifier model\n",
    "baseline_model_2 = RandomForestClassifier()\n",
    "fitted_baseline_model_2 = score_model(estimator = baseline_model_2, \n",
    "                                      train_data = (x_train, y_train),\n",
    "                                      validation_data = (x_validation, y_validation),\n",
    "                                      cv = 10)"
   ]
  },
  {
   "cell_type": "markdown",
   "execution_count": null,
   "metadata": {
    "papermill": {
     "duration": 0.019748,
     "end_time": "2020-08-12T00:12:16.726080",
     "exception": false,
     "start_time": "2020-08-12T00:12:16.706332",
     "status": "completed"
    },
    "tags": []
   },
   "source": [
    "The results are now much better than before. This is a relief, considering our first model was not much better than simply randomly selecting which patients would go to the ICU. From here, there are several paths we can take:\n",
    "\n",
    "* Further investigate the dataset in order to remove or add features;\n",
    "* Tune the algorithm hyperparameters to see if we can achieve some accuracy improvement;\n",
    "* Discard this approach and proceed to a time-relevant model.\n",
    "\n",
    "For now, the better course of action seems to be keep investigating our window-1 dataset. The first thing we can do is to look at the feature importances from the Random Forest model."
   ]
  },
  {
   "cell_type": "markdown",
   "execution_count": null,
   "metadata": {
    "papermill": {
     "duration": 0.019535,
     "end_time": "2020-08-12T00:12:16.765593",
     "exception": false,
     "start_time": "2020-08-12T00:12:16.746058",
     "status": "completed"
    },
    "tags": []
   },
   "source": [
    "## 3.4. Feature Selection"
   ]
  },
  {
   "cell_type": "code",
   "execution_count": 20,
   "metadata": {
    "execution": {
     "iopub.execute_input": "2020-08-12T00:12:16.823934Z",
     "iopub.status.busy": "2020-08-12T00:12:16.823014Z",
     "iopub.status.idle": "2020-08-12T00:12:17.411881Z",
     "shell.execute_reply": "2020-08-12T00:12:17.411217Z"
    },
    "papermill": {
     "duration": 0.626089,
     "end_time": "2020-08-12T00:12:17.412003",
     "exception": false,
     "start_time": "2020-08-12T00:12:16.785914",
     "status": "completed"
    },
    "tags": []
   },
   "outputs": [
    {
     "data": {
      "text/plain": [
       "<matplotlib.axes._subplots.AxesSubplot at 0x7fa9880b9410>"
      ]
     },
     "execution_count": 20,
     "metadata": {},
     "output_type": "execute_result"
    },
    {
     "data": {
      "image/png": "[encoded data removed]",
      "text/plain": [
       "<Figure size 864x792 with 1 Axes>"
      ]
     },
     "metadata": {
      "needs_background": "light"
     },
     "output_type": "display_data"
    }
   ],
   "source": [
    "#Plot feature importances for the Random Forest Model\n",
    "feat_importances = pd.Series(data = fitted_baseline_model_2.feature_importances_,\n",
    "                             index = feature_cols).sort_values()\n",
    "feat_importances.plot(kind = 'barh', figsize = (12, 11))"
   ]
  },
  {
   "cell_type": "markdown",
   "execution_count": null,
   "metadata": {
    "papermill": {
     "duration": 0.040213,
     "end_time": "2020-08-12T00:12:17.473389",
     "exception": false,
     "start_time": "2020-08-12T00:12:17.433176",
     "status": "completed"
    },
    "tags": []
   },
   "source": [
    "The graph above leads to two observations:\n",
    "\n",
    "1. *RESPIRATORY_RATE_MEAN_1* is by far the most important feature on the classification model.\n",
    "2. After *OXYGEN_SATURATION_MAX_1*, there is a significant dip on how important the attributes are for the algorithm.\n",
    "\n",
    "One way of checking whether this assessment has any validity is to remove the least important feature from our dataset and see how the same algorithm behaves."
   ]
  },
  {
   "cell_type": "code",
   "execution_count": 21,
   "metadata": {
    "execution": {
     "iopub.execute_input": "2020-08-12T00:12:17.524456Z",
     "iopub.status.busy": "2020-08-12T00:12:17.523502Z",
     "iopub.status.idle": "2020-08-12T00:12:17.528298Z",
     "shell.execute_reply": "2020-08-12T00:12:17.527668Z"
    },
    "papermill": {
     "duration": 0.033017,
     "end_time": "2020-08-12T00:12:17.528415",
     "exception": false,
     "start_time": "2020-08-12T00:12:17.495398",
     "status": "completed"
    },
    "tags": []
   },
   "outputs": [
    {
     "ename": "SyntaxError",
     "evalue": "invalid syntax (<ipython-input-21-055d542cf472>, line 11)",
     "output_type": "error",
     "traceback": [
      "\u001b[0;36m  File \u001b[0;32m\"<ipython-input-21-055d542cf472>\"\u001b[0;36m, line \u001b[0;32m11\u001b[0m\n\u001b[0;31m    cv = 10)AGE_PERCENTIL_1                        object\u001b[0m\n\u001b[0m                          ^\u001b[0m\n\u001b[0;31mSyntaxError\u001b[0m\u001b[0;31m:\u001b[0m invalid syntax\n"
     ]
    }
   ],
   "source": [
    "#Test RandomForest model for reduced dataset\n",
    "ncols_to_keep = int(0.8 * len(feat_importances))\n",
    "reduced_feat_columns = feat_importances.nlargest(n = ncols_to_keep).index\n",
    "\n",
    "reduced_x_train = x_train[reduced_feat_columns]\n",
    "reduced_x_validation = x_validation[reduced_feat_columns]\n",
    "\n",
    "fitted_baseline_model_3 = score_model(estimator = baseline_model_2, \n",
    "                                      train_data = (reduced_x_train, y_train),\n",
    "                                      validation_data = (reduced_x_validation, y_validation),\n",
    "                                      cv = 10)AGE_PERCENTIL_1                        object"
   ]
  },
  {
   "cell_type": "markdown",
   "execution_count": null,
   "metadata": {
    "papermill": {
     "duration": 0.022148,
     "end_time": "2020-08-12T00:12:17.571636",
     "exception": false,
     "start_time": "2020-08-12T00:12:17.549488",
     "status": "completed"
    },
    "tags": []
   },
   "source": [
    "Comparing theses results to the ones shown above for the entire dataset version of the model, it is hard to draw conclusions. In one hand, the cross-validation results do not present a relevant change. However, the validation resuts are clearly better.\n",
    "\n",
    "On the context of a Kaggle competition, this might be enough for us to go forward and discard these features. Still, the data is not conclusive to the point where this is a no brainer. Then, we are keeping all the attributes for now.\n",
    "\n",
    "If we still want to explore the possibility of reducing the amount of features in our dataset, a reasonable approach is to apply a Recursive Feature Selection method. It should not take some much time, since the dataset is small. To further reduce processing time issues, we can use a simplified version of the Random Forest algorithm."
   ]
  },
  {
   "cell_type": "code",
   "execution_count": 22,
   "metadata": {
    "execution": {
     "iopub.execute_input": "2020-08-12T00:12:17.625928Z",
     "iopub.status.busy": "2020-08-12T00:12:17.624883Z",
     "iopub.status.idle": "2020-08-12T00:12:18.138875Z",
     "shell.execute_reply": "2020-08-12T00:12:18.138040Z"
    },
    "papermill": {
     "duration": 0.545331,
     "end_time": "2020-08-12T00:12:18.139046",
     "exception": false,
     "start_time": "2020-08-12T00:12:17.593715",
     "status": "completed"
    },
    "tags": []
   },
   "outputs": [
    {
     "data": {
      "text/html": [
       "<div>\n",
       "<style scoped>\n",
       "    .dataframe tbody tr th:only-of-type {\n",
       "        vertical-align: middle;\n",
       "    }\n",
       "\n",
       "    .dataframe tbody tr th {\n",
       "        vertical-align: top;\n",
       "    }\n",
       "\n",
       "    .dataframe thead th {\n",
       "        text-align: right;\n",
       "    }\n",
       "</style>\n",
       "<table border=\"1\" class=\"dataframe\">\n",
       "  <thead>\n",
       "    <tr style=\"text-align: right;\">\n",
       "      <th></th>\n",
       "      <th>RFE_ranking</th>\n",
       "      <th>RFC_ranking</th>\n",
       "    </tr>\n",
       "  </thead>\n",
       "  <tbody>\n",
       "    <tr>\n",
       "      <th>RESPIRATORY_RATE_MEAN_1</th>\n",
       "      <td>1</td>\n",
       "      <td>1.0</td>\n",
       "    </tr>\n",
       "    <tr>\n",
       "      <th>RESPIRATORY_RATE_MIN_1</th>\n",
       "      <td>1</td>\n",
       "      <td>2.0</td>\n",
       "    </tr>\n",
       "    <tr>\n",
       "      <th>BLOODPRESSURE_DIASTOLIC_MEAN_1</th>\n",
       "      <td>1</td>\n",
       "      <td>3.0</td>\n",
       "    </tr>\n",
       "    <tr>\n",
       "      <th>BLOODPRESSURE_DIASTOLIC_MIN_1</th>\n",
       "      <td>1</td>\n",
       "      <td>4.0</td>\n",
       "    </tr>\n",
       "    <tr>\n",
       "      <th>RESPIRATORY_RATE_MAX_1</th>\n",
       "      <td>1</td>\n",
       "      <td>5.0</td>\n",
       "    </tr>\n",
       "    <tr>\n",
       "      <th>HEART_RATE_MEAN_1</th>\n",
       "      <td>1</td>\n",
       "      <td>6.0</td>\n",
       "    </tr>\n",
       "    <tr>\n",
       "      <th>HEART_RATE_MIN_1</th>\n",
       "      <td>1</td>\n",
       "      <td>7.0</td>\n",
       "    </tr>\n",
       "    <tr>\n",
       "      <th>BLOODPRESSURE_SISTOLIC_MEAN_1</th>\n",
       "      <td>1</td>\n",
       "      <td>8.0</td>\n",
       "    </tr>\n",
       "    <tr>\n",
       "      <th>HEART_RATE_MAX_1</th>\n",
       "      <td>1</td>\n",
       "      <td>9.0</td>\n",
       "    </tr>\n",
       "    <tr>\n",
       "      <th>BLOODPRESSURE_DIASTOLIC_MAX_1</th>\n",
       "      <td>1</td>\n",
       "      <td>10.0</td>\n",
       "    </tr>\n",
       "    <tr>\n",
       "      <th>BLOODPRESSURE_SISTOLIC_MAX_1</th>\n",
       "      <td>1</td>\n",
       "      <td>11.0</td>\n",
       "    </tr>\n",
       "    <tr>\n",
       "      <th>TEMPERATURE_MIN_1</th>\n",
       "      <td>1</td>\n",
       "      <td>12.0</td>\n",
       "    </tr>\n",
       "    <tr>\n",
       "      <th>AGE_ABOVE65_1</th>\n",
       "      <td>1</td>\n",
       "      <td>13.0</td>\n",
       "    </tr>\n",
       "    <tr>\n",
       "      <th>TEMPERATURE_MEAN_1</th>\n",
       "      <td>1</td>\n",
       "      <td>14.0</td>\n",
       "    </tr>\n",
       "    <tr>\n",
       "      <th>BLOODPRESSURE_SISTOLIC_MIN_1</th>\n",
       "      <td>1</td>\n",
       "      <td>15.0</td>\n",
       "    </tr>\n",
       "    <tr>\n",
       "      <th>OXYGEN_SATURATION_MIN_1</th>\n",
       "      <td>1</td>\n",
       "      <td>16.0</td>\n",
       "    </tr>\n",
       "    <tr>\n",
       "      <th>TEMPERATURE_MAX_1</th>\n",
       "      <td>1</td>\n",
       "      <td>17.0</td>\n",
       "    </tr>\n",
       "    <tr>\n",
       "      <th>OXYGEN_SATURATION_MEAN_1</th>\n",
       "      <td>1</td>\n",
       "      <td>18.0</td>\n",
       "    </tr>\n",
       "    <tr>\n",
       "      <th>OXYGEN_SATURATION_MAX_1</th>\n",
       "      <td>1</td>\n",
       "      <td>19.0</td>\n",
       "    </tr>\n",
       "    <tr>\n",
       "      <th>AGE_PERCENTIL_1:90th</th>\n",
       "      <td>1</td>\n",
       "      <td>20.0</td>\n",
       "    </tr>\n",
       "    <tr>\n",
       "      <th>BLOODPRESSURE_SISTOLIC_DIFF_1</th>\n",
       "      <td>1</td>\n",
       "      <td>22.0</td>\n",
       "    </tr>\n",
       "    <tr>\n",
       "      <th>TEMPERATURE_DIFF_1</th>\n",
       "      <td>1</td>\n",
       "      <td>24.0</td>\n",
       "    </tr>\n",
       "    <tr>\n",
       "      <th>AGE_PERCENTIL_1:Above 90th</th>\n",
       "      <td>2</td>\n",
       "      <td>26.0</td>\n",
       "    </tr>\n",
       "    <tr>\n",
       "      <th>DISEASE GROUPING 5_1</th>\n",
       "      <td>3</td>\n",
       "      <td>32.0</td>\n",
       "    </tr>\n",
       "    <tr>\n",
       "      <th>BLOODPRESSURE_DIASTOLIC_DIFF_1</th>\n",
       "      <td>4</td>\n",
       "      <td>27.0</td>\n",
       "    </tr>\n",
       "    <tr>\n",
       "      <th>HEART_RATE_DIFF_1</th>\n",
       "      <td>5</td>\n",
       "      <td>31.0</td>\n",
       "    </tr>\n",
       "    <tr>\n",
       "      <th>GENDER_1</th>\n",
       "      <td>6</td>\n",
       "      <td>28.0</td>\n",
       "    </tr>\n",
       "    <tr>\n",
       "      <th>OXYGEN_SATURATION_DIFF_1</th>\n",
       "      <td>7</td>\n",
       "      <td>29.0</td>\n",
       "    </tr>\n",
       "    <tr>\n",
       "      <th>RESPIRATORY_RATE_DIFF_1</th>\n",
       "      <td>8</td>\n",
       "      <td>25.0</td>\n",
       "    </tr>\n",
       "    <tr>\n",
       "      <th>AGE_PERCENTIL_1:20th</th>\n",
       "      <td>9</td>\n",
       "      <td>35.0</td>\n",
       "    </tr>\n",
       "    <tr>\n",
       "      <th>DISEASE GROUPING 3_1</th>\n",
       "      <td>10</td>\n",
       "      <td>33.0</td>\n",
       "    </tr>\n",
       "    <tr>\n",
       "      <th>AGE_PERCENTIL_1:80th</th>\n",
       "      <td>11</td>\n",
       "      <td>23.0</td>\n",
       "    </tr>\n",
       "    <tr>\n",
       "      <th>AGE_PERCENTIL_1:50th</th>\n",
       "      <td>12</td>\n",
       "      <td>30.0</td>\n",
       "    </tr>\n",
       "    <tr>\n",
       "      <th>AGE_PERCENTIL_1:30th</th>\n",
       "      <td>13</td>\n",
       "      <td>41.0</td>\n",
       "    </tr>\n",
       "    <tr>\n",
       "      <th>HTN_1</th>\n",
       "      <td>14</td>\n",
       "      <td>21.0</td>\n",
       "    </tr>\n",
       "    <tr>\n",
       "      <th>OTHER_1</th>\n",
       "      <td>15</td>\n",
       "      <td>38.0</td>\n",
       "    </tr>\n",
       "    <tr>\n",
       "      <th>DISEASE GROUPING 4_1</th>\n",
       "      <td>16</td>\n",
       "      <td>43.0</td>\n",
       "    </tr>\n",
       "    <tr>\n",
       "      <th>AGE_PERCENTIL_1:70th</th>\n",
       "      <td>17</td>\n",
       "      <td>36.0</td>\n",
       "    </tr>\n",
       "    <tr>\n",
       "      <th>AGE_PERCENTIL_1:60th</th>\n",
       "      <td>18</td>\n",
       "      <td>37.0</td>\n",
       "    </tr>\n",
       "    <tr>\n",
       "      <th>AGE_PERCENTIL_1:40th</th>\n",
       "      <td>19</td>\n",
       "      <td>34.0</td>\n",
       "    </tr>\n",
       "    <tr>\n",
       "      <th>DISEASE GROUPING 6_1</th>\n",
       "      <td>20</td>\n",
       "      <td>44.0</td>\n",
       "    </tr>\n",
       "    <tr>\n",
       "      <th>DISEASE GROUPING 1_1</th>\n",
       "      <td>21</td>\n",
       "      <td>42.0</td>\n",
       "    </tr>\n",
       "    <tr>\n",
       "      <th>DISEASE GROUPING 2_1</th>\n",
       "      <td>22</td>\n",
       "      <td>40.0</td>\n",
       "    </tr>\n",
       "    <tr>\n",
       "      <th>IMMUNOCOMPROMISED_1</th>\n",
       "      <td>23</td>\n",
       "      <td>39.0</td>\n",
       "    </tr>\n",
       "  </tbody>\n",
       "</table>\n",
       "</div>"
      ],
      "text/plain": [
       "                                RFE_ranking  RFC_ranking\n",
       "RESPIRATORY_RATE_MEAN_1                   1          1.0\n",
       "RESPIRATORY_RATE_MIN_1                    1          2.0\n",
       "BLOODPRESSURE_DIASTOLIC_MEAN_1            1          3.0\n",
       "BLOODPRESSURE_DIASTOLIC_MIN_1             1          4.0\n",
       "RESPIRATORY_RATE_MAX_1                    1          5.0\n",
       "HEART_RATE_MEAN_1                         1          6.0\n",
       "HEART_RATE_MIN_1                          1          7.0\n",
       "BLOODPRESSURE_SISTOLIC_MEAN_1             1          8.0\n",
       "HEART_RATE_MAX_1                          1          9.0\n",
       "BLOODPRESSURE_DIASTOLIC_MAX_1             1         10.0\n",
       "BLOODPRESSURE_SISTOLIC_MAX_1              1         11.0\n",
       "TEMPERATURE_MIN_1                         1         12.0\n",
       "AGE_ABOVE65_1                             1         13.0\n",
       "TEMPERATURE_MEAN_1                        1         14.0\n",
       "BLOODPRESSURE_SISTOLIC_MIN_1              1         15.0\n",
       "OXYGEN_SATURATION_MIN_1                   1         16.0\n",
       "TEMPERATURE_MAX_1                         1         17.0\n",
       "OXYGEN_SATURATION_MEAN_1                  1         18.0\n",
       "OXYGEN_SATURATION_MAX_1                   1         19.0\n",
       "AGE_PERCENTIL_1:90th                      1         20.0\n",
       "BLOODPRESSURE_SISTOLIC_DIFF_1             1         22.0\n",
       "TEMPERATURE_DIFF_1                        1         24.0\n",
       "AGE_PERCENTIL_1:Above 90th                2         26.0\n",
       "DISEASE GROUPING 5_1                      3         32.0\n",
       "BLOODPRESSURE_DIASTOLIC_DIFF_1            4         27.0\n",
       "HEART_RATE_DIFF_1                         5         31.0\n",
       "GENDER_1                                  6         28.0\n",
       "OXYGEN_SATURATION_DIFF_1                  7         29.0\n",
       "RESPIRATORY_RATE_DIFF_1                   8         25.0\n",
       "AGE_PERCENTIL_1:20th                      9         35.0\n",
       "DISEASE GROUPING 3_1                     10         33.0\n",
       "AGE_PERCENTIL_1:80th                     11         23.0\n",
       "AGE_PERCENTIL_1:50th                     12         30.0\n",
       "AGE_PERCENTIL_1:30th                     13         41.0\n",
       "HTN_1                                    14         21.0\n",
       "OTHER_1                                  15         38.0\n",
       "DISEASE GROUPING 4_1                     16         43.0\n",
       "AGE_PERCENTIL_1:70th                     17         36.0\n",
       "AGE_PERCENTIL_1:60th                     18         37.0\n",
       "AGE_PERCENTIL_1:40th                     19         34.0\n",
       "DISEASE GROUPING 6_1                     20         44.0\n",
       "DISEASE GROUPING 1_1                     21         42.0\n",
       "DISEASE GROUPING 2_1                     22         40.0\n",
       "IMMUNOCOMPROMISED_1                      23         39.0"
      ]
     },
     "execution_count": 22,
     "metadata": {},
     "output_type": "execute_result"
    }
   ],
   "source": [
    "#Get RFE feature ranking and compare to RandomForestClassifier feature importance\n",
    "rfe_model = RandomForestClassifier(n_estimators = 10)\n",
    "feature_selector = RFE(estimator = rfe_model, step = 1)\n",
    "feature_selector.fit(x_train, y_train)\n",
    "feature_ranking = pd.Series(data = feature_selector.ranking_, index = feature_cols).sort_values()\n",
    "\n",
    "importance_scale = pd.concat([feature_ranking, feat_importances.rank(ascending = False)], axis = 1)\n",
    "importance_scale = importance_scale.rename(columns = {0: 'RFE_ranking', 1: 'RFC_ranking'})\n",
    "importance_scale.sort_values(by = ['RFE_ranking', 'RFC_ranking'])"
   ]
  },
  {
   "cell_type": "markdown",
   "execution_count": null,
   "metadata": {
    "papermill": {
     "duration": 0.022288,
     "end_time": "2020-08-12T00:12:18.183627",
     "exception": false,
     "start_time": "2020-08-12T00:12:18.161339",
     "status": "completed"
    },
    "tags": []
   },
   "source": [
    "Looking at both rankings, it is clear both feature selection approaches present some resemblence. This is not necessarily a godd thing, since our results on removing the least important features were not conclusive. Not let's try and see how the classification model performs if we use only the better half of the features according to the RFE algorithm."
   ]
  },
  {
   "cell_type": "code",
   "execution_count": 23,
   "metadata": {
    "execution": {
     "iopub.execute_input": "2020-08-12T00:12:18.240328Z",
     "iopub.status.busy": "2020-08-12T00:12:18.239300Z",
     "iopub.status.idle": "2020-08-12T00:12:20.513195Z",
     "shell.execute_reply": "2020-08-12T00:12:20.512207Z"
    },
    "papermill": {
     "duration": 2.306351,
     "end_time": "2020-08-12T00:12:20.513337",
     "exception": false,
     "start_time": "2020-08-12T00:12:18.206986",
     "status": "completed"
    },
    "tags": []
   },
   "outputs": [
    {
     "name": "stdout",
     "output_type": "stream",
     "text": [
      "CV model accuracy:  0.664 +/- 0.057\n",
      "CV model roc_auc:  0.712 +/- 0.093\n",
      "Validation accuracy score: 0.778\n",
      "Validation ROC_AUC score: 0.781\n"
     ]
    }
   ],
   "source": [
    "#Test RandomForest model for RFE reduced dataset\n",
    "cols_to_keep = importance_scale[importance_scale['RFE_ranking'] == 1].index\n",
    "reduced_x_train = x_train[cols_to_keep]\n",
    "reduced_x_validation = x_validation[cols_to_keep]\n",
    "\n",
    "fitted_baseline_model_4 = score_model(estimator = baseline_model_2, \n",
    "                                      train_data = (reduced_x_train, y_train),\n",
    "                                      validation_data = (reduced_x_validation, y_validation),\n",
    "                                      cv = 10)"
   ]
  },
  {
   "cell_type": "markdown",
   "execution_count": null,
   "metadata": {
    "papermill": {
     "duration": 0.022279,
     "end_time": "2020-08-12T00:12:20.557607",
     "exception": false,
     "start_time": "2020-08-12T00:12:20.535328",
     "status": "completed"
    },
    "tags": []
   },
   "source": [
    "Again, the results appear to be slightly better then the whole-dataset model. Also again, the margin is not big enough for us to make any bold statements. \n",
    "\n",
    "For now, this is where we stop in terms of feature selection. The two tests we performed did provide us with conclusive results. Additionally, we are not dealing with a enormous amount of attributes, specially considering how these attributes are derived from a few measurements. The next step, then, is to see how much we are able to improve accuracy by tuning the hyperparameters."
   ]
  },
  {
   "cell_type": "markdown",
   "execution_count": null,
   "metadata": {
    "papermill": {
     "duration": 0.021346,
     "end_time": "2020-08-12T00:12:20.601966",
     "exception": false,
     "start_time": "2020-08-12T00:12:20.580620",
     "status": "completed"
    },
    "tags": []
   },
   "source": [
    "## 3.5. Hyperparameters Tuning"
   ]
  },
  {
   "cell_type": "markdown",
   "execution_count": null,
   "metadata": {
    "papermill": {
     "duration": 0.021362,
     "end_time": "2020-08-12T00:12:20.645104",
     "exception": false,
     "start_time": "2020-08-12T00:12:20.623742",
     "status": "completed"
    },
    "tags": []
   },
   "source": [
    "So far, the best model we have produced has derived from the Random Forest algorithm. This way, we are only going to spend time tuning its hyperparemeters. In order to reduce the time we are going to spend on this procedure, only a portion of the hyperparameter is going to be investigated. They are:\n",
    "\n",
    "* n_estimators\n",
    "* criterion\n",
    "* max_depth\n",
    "* max_features\n",
    "\n",
    "As our dataset is very small, it is feasable to perform a grid search for the best set of hyperparameters."
   ]
  },
  {
   "cell_type": "code",
   "execution_count": 24,
   "metadata": {
    "execution": {
     "iopub.execute_input": "2020-08-12T00:12:20.696096Z",
     "iopub.status.busy": "2020-08-12T00:12:20.695132Z",
     "iopub.status.idle": "2020-08-12T00:12:20.698530Z",
     "shell.execute_reply": "2020-08-12T00:12:20.699026Z"
    },
    "papermill": {
     "duration": 0.031331,
     "end_time": "2020-08-12T00:12:20.699197",
     "exception": false,
     "start_time": "2020-08-12T00:12:20.667866",
     "status": "completed"
    },
    "tags": []
   },
   "outputs": [],
   "source": [
    "#Define hyperparameter space\n",
    "hyper_space = {\n",
    "    'n_estimators': [10, 100, 500],\n",
    "    'criterion': ['gini', 'entropy'],\n",
    "    'max_depth': [3, 5, 10, None],\n",
    "    'max_features': ['sqrt', 'log2', None]\n",
    "}"
   ]
  },
  {
   "cell_type": "code",
   "execution_count": 25,
   "metadata": {
    "execution": {
     "iopub.execute_input": "2020-08-12T00:12:20.750075Z",
     "iopub.status.busy": "2020-08-12T00:12:20.749402Z",
     "iopub.status.idle": "2020-08-12T00:14:41.618318Z",
     "shell.execute_reply": "2020-08-12T00:14:41.618795Z"
    },
    "papermill": {
     "duration": 140.897955,
     "end_time": "2020-08-12T00:14:41.619019",
     "exception": false,
     "start_time": "2020-08-12T00:12:20.721064",
     "status": "completed"
    },
    "tags": []
   },
   "outputs": [
    {
     "name": "stdout",
     "output_type": "stream",
     "text": [
      "Fitting 10 folds for each of 72 candidates, totalling 720 fits\n"
     ]
    },
    {
     "name": "stderr",
     "output_type": "stream",
     "text": [
      "[Parallel(n_jobs=4)]: Using backend LokyBackend with 4 concurrent workers.\n",
      "[Parallel(n_jobs=4)]: Done  42 tasks      | elapsed:    6.5s\n",
      "[Parallel(n_jobs=4)]: Done 192 tasks      | elapsed:   31.1s\n",
      "[Parallel(n_jobs=4)]: Done 442 tasks      | elapsed:  1.3min\n",
      "[Parallel(n_jobs=4)]: Done 720 out of 720 | elapsed:  2.3min finished\n"
     ]
    }
   ],
   "source": [
    "#Perform hyperparameter tuning by grid searching the defined space\n",
    "grid_search = GridSearchCV(estimator = baseline_model_2, \n",
    "                           param_grid = hyper_space,\n",
    "                           scoring = 'roc_auc',\n",
    "                           cv = 10,\n",
    "                           n_jobs = 4,\n",
    "                           verbose = 1)\n",
    "grid_search_results = grid_search.fit(x_train, y_train)"
   ]
  },
  {
   "cell_type": "code",
   "execution_count": 26,
   "metadata": {
    "execution": {
     "iopub.execute_input": "2020-08-12T00:14:41.678567Z",
     "iopub.status.busy": "2020-08-12T00:14:41.677751Z",
     "iopub.status.idle": "2020-08-12T00:14:42.596328Z",
     "shell.execute_reply": "2020-08-12T00:14:42.595488Z"
    },
    "papermill": {
     "duration": 0.951104,
     "end_time": "2020-08-12T00:14:42.596522",
     "exception": false,
     "start_time": "2020-08-12T00:14:41.645418",
     "status": "completed"
    },
    "tags": []
   },
   "outputs": [
    {
     "name": "stdout",
     "output_type": "stream",
     "text": [
      "{'criterion': 'entropy', 'max_depth': 5, 'max_features': 'sqrt', 'n_estimators': 500}\n",
      "Validation accuracy: 0.778\n",
      "Validation ROC_AUC: 0.769\n"
     ]
    }
   ],
   "source": [
    "#Look at the best performing set of hyperparameters and apply estimator on validation data\n",
    "print(grid_search.best_params_)\n",
    "\n",
    "best_gridsearch_model = grid_search.best_estimator_\n",
    "best_gridsearch_model.fit(x_train, y_train)\n",
    "y_pred = best_gridsearch_model.predict(x_validation)\n",
    "\n",
    "print('Validation accuracy: %.3f' %(accuracy_score(y_validation, y_pred)))\n",
    "print('Validation ROC_AUC: %.3f' %(roc_auc_score(y_validation, y_pred)))"
   ]
  },
  {
   "cell_type": "markdown",
   "execution_count": null,
   "metadata": {
    "papermill": {
     "duration": 0.022664,
     "end_time": "2020-08-12T00:14:42.642317",
     "exception": false,
     "start_time": "2020-08-12T00:14:42.619653",
     "status": "completed"
    },
    "tags": []
   },
   "source": [
    "This is by far the best results we have so far. Just by tuning the algorithm parameters we were able to improve the validation accuracy roughly by 6 percentage points. On top of that, we have reached a point in which our model should be able to correctly predict patients that are going to demand an ICU bed in over 80% of the cases."
   ]
  },
  {
   "cell_type": "markdown",
   "execution_count": null,
   "metadata": {
    "papermill": {
     "duration": 0.021793,
     "end_time": "2020-08-12T00:14:42.687327",
     "exception": false,
     "start_time": "2020-08-12T00:14:42.665534",
     "status": "completed"
    },
    "tags": []
   },
   "source": [
    "# 4. Model #2: Classification from Last Two Available Window Data "
   ]
  },
  {
   "cell_type": "markdown",
   "execution_count": null,
   "metadata": {
    "papermill": {
     "duration": 0.021581,
     "end_time": "2020-08-12T00:14:42.730672",
     "exception": false,
     "start_time": "2020-08-12T00:14:42.709091",
     "status": "completed"
    },
    "tags": []
   },
   "source": [
    "Now we proceed into our second approach at trying to accurately determine which patients are going to the ICU. The idea is to take advantage of the time series aspect of the dataset. \n",
    "\n",
    "Suppose a couple of ICU beds just became vacant (hopefully because their former occupants got better), and the medical staff wants to determine which of the current patients is more likely to take these spots. In this scenario, it would be wise to look at the most recent available data to do the assessment. However, if we are able see how these patients have progressed to their current state, a better decision could be made.\n",
    "\n",
    "Given this rational, our idea is to use the data from the last 2 available time windows to predict ICU admission."
   ]
  },
  {
   "cell_type": "code",
   "execution_count": 27,
   "metadata": {
    "execution": {
     "iopub.execute_input": "2020-08-12T00:14:42.799408Z",
     "iopub.status.busy": "2020-08-12T00:14:42.792571Z",
     "iopub.status.idle": "2020-08-12T00:14:42.806711Z",
     "shell.execute_reply": "2020-08-12T00:14:42.807205Z"
    },
    "papermill": {
     "duration": 0.054845,
     "end_time": "2020-08-12T00:14:42.807447",
     "exception": false,
     "start_time": "2020-08-12T00:14:42.752602",
     "status": "completed"
    },
    "tags": []
   },
   "outputs": [
    {
     "data": {
      "text/html": [
       "<div>\n",
       "<style scoped>\n",
       "    .dataframe tbody tr th:only-of-type {\n",
       "        vertical-align: middle;\n",
       "    }\n",
       "\n",
       "    .dataframe tbody tr th {\n",
       "        vertical-align: top;\n",
       "    }\n",
       "\n",
       "    .dataframe thead th {\n",
       "        text-align: right;\n",
       "    }\n",
       "</style>\n",
       "<table border=\"1\" class=\"dataframe\">\n",
       "  <thead>\n",
       "    <tr style=\"text-align: right;\">\n",
       "      <th></th>\n",
       "      <th>AGE_ABOVE65_1</th>\n",
       "      <th>AGE_PERCENTIL_1</th>\n",
       "      <th>GENDER_1</th>\n",
       "      <th>HTN_1</th>\n",
       "      <th>PATIENT_VISIT_IDENTIFIER_1</th>\n",
       "      <th>BLOODPRESSURE_DIASTOLIC_DIFF_1</th>\n",
       "      <th>BLOODPRESSURE_DIASTOLIC_DIFF_REL_1</th>\n",
       "      <th>BLOODPRESSURE_DIASTOLIC_MAX_1</th>\n",
       "      <th>BLOODPRESSURE_DIASTOLIC_MEAN_1</th>\n",
       "      <th>BLOODPRESSURE_DIASTOLIC_MEDIAN_1</th>\n",
       "      <th>...</th>\n",
       "      <th>RESPIRATORY_RATE_MEAN_5</th>\n",
       "      <th>RESPIRATORY_RATE_MEDIAN_5</th>\n",
       "      <th>RESPIRATORY_RATE_MIN_5</th>\n",
       "      <th>TEMPERATURE_DIFF_5</th>\n",
       "      <th>TEMPERATURE_DIFF_REL_5</th>\n",
       "      <th>TEMPERATURE_MAX_5</th>\n",
       "      <th>TEMPERATURE_MEAN_5</th>\n",
       "      <th>TEMPERATURE_MEDIAN_5</th>\n",
       "      <th>TEMPERATURE_MIN_5</th>\n",
       "      <th>ICU</th>\n",
       "    </tr>\n",
       "  </thead>\n",
       "  <tbody>\n",
       "    <tr>\n",
       "      <th>0</th>\n",
       "      <td>1</td>\n",
       "      <td>60th</td>\n",
       "      <td>0</td>\n",
       "      <td>0.0</td>\n",
       "      <td>0</td>\n",
       "      <td>-1.000000</td>\n",
       "      <td>-1.000000</td>\n",
       "      <td>-0.247863</td>\n",
       "      <td>0.086420</td>\n",
       "      <td>0.086420</td>\n",
       "      <td>...</td>\n",
       "      <td>NaN</td>\n",
       "      <td>NaN</td>\n",
       "      <td>NaN</td>\n",
       "      <td>NaN</td>\n",
       "      <td>NaN</td>\n",
       "      <td>NaN</td>\n",
       "      <td>NaN</td>\n",
       "      <td>NaN</td>\n",
       "      <td>NaN</td>\n",
       "      <td>1</td>\n",
       "    </tr>\n",
       "    <tr>\n",
       "      <th>2</th>\n",
       "      <td>0</td>\n",
       "      <td>10th</td>\n",
       "      <td>0</td>\n",
       "      <td>0.0</td>\n",
       "      <td>2</td>\n",
       "      <td>-0.547826</td>\n",
       "      <td>-0.515528</td>\n",
       "      <td>-0.435897</td>\n",
       "      <td>-0.489712</td>\n",
       "      <td>-0.506173</td>\n",
       "      <td>...</td>\n",
       "      <td>NaN</td>\n",
       "      <td>NaN</td>\n",
       "      <td>NaN</td>\n",
       "      <td>NaN</td>\n",
       "      <td>NaN</td>\n",
       "      <td>NaN</td>\n",
       "      <td>NaN</td>\n",
       "      <td>NaN</td>\n",
       "      <td>NaN</td>\n",
       "      <td>1</td>\n",
       "    </tr>\n",
       "    <tr>\n",
       "      <th>3</th>\n",
       "      <td>0</td>\n",
       "      <td>40th</td>\n",
       "      <td>1</td>\n",
       "      <td>0.0</td>\n",
       "      <td>3</td>\n",
       "      <td>-1.000000</td>\n",
       "      <td>-1.000000</td>\n",
       "      <td>-0.299145</td>\n",
       "      <td>0.012346</td>\n",
       "      <td>0.012346</td>\n",
       "      <td>...</td>\n",
       "      <td>-0.535593</td>\n",
       "      <td>-0.517241</td>\n",
       "      <td>-0.857143</td>\n",
       "      <td>-0.047619</td>\n",
       "      <td>-0.047619</td>\n",
       "      <td>0.623188</td>\n",
       "      <td>0.033571</td>\n",
       "      <td>-0.035714</td>\n",
       "      <td>0.120879</td>\n",
       "      <td>0</td>\n",
       "    </tr>\n",
       "    <tr>\n",
       "      <th>4</th>\n",
       "      <td>0</td>\n",
       "      <td>10th</td>\n",
       "      <td>0</td>\n",
       "      <td>0.0</td>\n",
       "      <td>4</td>\n",
       "      <td>-1.000000</td>\n",
       "      <td>-1.000000</td>\n",
       "      <td>-0.076923</td>\n",
       "      <td>0.333333</td>\n",
       "      <td>0.333333</td>\n",
       "      <td>...</td>\n",
       "      <td>-0.499708</td>\n",
       "      <td>-0.517241</td>\n",
       "      <td>-0.500000</td>\n",
       "      <td>-0.642857</td>\n",
       "      <td>-0.645793</td>\n",
       "      <td>0.014493</td>\n",
       "      <td>0.040640</td>\n",
       "      <td>0.071429</td>\n",
       "      <td>0.208791</td>\n",
       "      <td>0</td>\n",
       "    </tr>\n",
       "    <tr>\n",
       "      <th>5</th>\n",
       "      <td>0</td>\n",
       "      <td>10th</td>\n",
       "      <td>0</td>\n",
       "      <td>0.0</td>\n",
       "      <td>5</td>\n",
       "      <td>-0.826087</td>\n",
       "      <td>-0.860870</td>\n",
       "      <td>-0.247863</td>\n",
       "      <td>-0.037037</td>\n",
       "      <td>-0.037037</td>\n",
       "      <td>...</td>\n",
       "      <td>-0.502825</td>\n",
       "      <td>-0.517241</td>\n",
       "      <td>-0.428571</td>\n",
       "      <td>-0.738095</td>\n",
       "      <td>-0.736640</td>\n",
       "      <td>-0.130435</td>\n",
       "      <td>-0.109127</td>\n",
       "      <td>-0.107143</td>\n",
       "      <td>0.186813</td>\n",
       "      <td>0</td>\n",
       "    </tr>\n",
       "  </tbody>\n",
       "</table>\n",
       "<p>5 rows × 226 columns</p>\n",
       "</div>"
      ],
      "text/plain": [
       "   AGE_ABOVE65_1 AGE_PERCENTIL_1  GENDER_1  HTN_1  PATIENT_VISIT_IDENTIFIER_1  \\\n",
       "0              1            60th         0    0.0                           0   \n",
       "2              0            10th         0    0.0                           2   \n",
       "3              0            40th         1    0.0                           3   \n",
       "4              0            10th         0    0.0                           4   \n",
       "5              0            10th         0    0.0                           5   \n",
       "\n",
       "   BLOODPRESSURE_DIASTOLIC_DIFF_1  BLOODPRESSURE_DIASTOLIC_DIFF_REL_1  \\\n",
       "0                       -1.000000                           -1.000000   \n",
       "2                       -0.547826                           -0.515528   \n",
       "3                       -1.000000                           -1.000000   \n",
       "4                       -1.000000                           -1.000000   \n",
       "5                       -0.826087                           -0.860870   \n",
       "\n",
       "   BLOODPRESSURE_DIASTOLIC_MAX_1  BLOODPRESSURE_DIASTOLIC_MEAN_1  \\\n",
       "0                      -0.247863                        0.086420   \n",
       "2                      -0.435897                       -0.489712   \n",
       "3                      -0.299145                        0.012346   \n",
       "4                      -0.076923                        0.333333   \n",
       "5                      -0.247863                       -0.037037   \n",
       "\n",
       "   BLOODPRESSURE_DIASTOLIC_MEDIAN_1  ...  RESPIRATORY_RATE_MEAN_5  \\\n",
       "0                          0.086420  ...                      NaN   \n",
       "2                         -0.506173  ...                      NaN   \n",
       "3                          0.012346  ...                -0.535593   \n",
       "4                          0.333333  ...                -0.499708   \n",
       "5                         -0.037037  ...                -0.502825   \n",
       "\n",
       "   RESPIRATORY_RATE_MEDIAN_5  RESPIRATORY_RATE_MIN_5  TEMPERATURE_DIFF_5  \\\n",
       "0                        NaN                     NaN                 NaN   \n",
       "2                        NaN                     NaN                 NaN   \n",
       "3                  -0.517241               -0.857143           -0.047619   \n",
       "4                  -0.517241               -0.500000           -0.642857   \n",
       "5                  -0.517241               -0.428571           -0.738095   \n",
       "\n",
       "   TEMPERATURE_DIFF_REL_5  TEMPERATURE_MAX_5  TEMPERATURE_MEAN_5  \\\n",
       "0                     NaN                NaN                 NaN   \n",
       "2                     NaN                NaN                 NaN   \n",
       "3               -0.047619           0.623188            0.033571   \n",
       "4               -0.645793           0.014493            0.040640   \n",
       "5               -0.736640          -0.130435           -0.109127   \n",
       "\n",
       "   TEMPERATURE_MEDIAN_5  TEMPERATURE_MIN_5  ICU  \n",
       "0                   NaN                NaN    1  \n",
       "2                   NaN                NaN    1  \n",
       "3             -0.035714           0.120879    0  \n",
       "4              0.071429           0.208791    0  \n",
       "5             -0.107143           0.186813    0  \n",
       "\n",
       "[5 rows x 226 columns]"
      ]
     },
     "execution_count": 27,
     "metadata": {},
     "output_type": "execute_result"
    }
   ],
   "source": [
    "data.head()"
   ]
  },
  {
   "cell_type": "markdown",
   "execution_count": null,
   "metadata": {
    "papermill": {
     "duration": 0.022287,
     "end_time": "2020-08-12T00:14:42.852318",
     "exception": false,
     "start_time": "2020-08-12T00:14:42.830031",
     "status": "completed"
    },
    "tags": []
   },
   "source": [
    "## 4.1. Preprocess Data"
   ]
  },
  {
   "cell_type": "markdown",
   "execution_count": null,
   "metadata": {
    "papermill": {
     "duration": 0.021819,
     "end_time": "2020-08-12T00:14:42.896439",
     "exception": false,
     "start_time": "2020-08-12T00:14:42.874620",
     "status": "completed"
    },
    "tags": []
   },
   "source": [
    "Looking back at our original data, we must remember that some features do not present a time aspect, such as age and gender related attributes. These columns will be part of our final dataset, and no work is required on them at this point. The other features are the ones we are focusing on right now."
   ]
  },
  {
   "cell_type": "code",
   "execution_count": 28,
   "metadata": {
    "execution": {
     "iopub.execute_input": "2020-08-12T00:14:42.956257Z",
     "iopub.status.busy": "2020-08-12T00:14:42.950398Z",
     "iopub.status.idle": "2020-08-12T00:14:42.968247Z",
     "shell.execute_reply": "2020-08-12T00:14:42.967555Z"
    },
    "papermill": {
     "duration": 0.049781,
     "end_time": "2020-08-12T00:14:42.968366",
     "exception": false,
     "start_time": "2020-08-12T00:14:42.918585",
     "status": "completed"
    },
    "tags": []
   },
   "outputs": [],
   "source": [
    "#Split features into time variant and time constant\n",
    "features_df = pd.DataFrame(data = data.columns.values, columns = ['Feature_name'])\n",
    "features_df['Feature_group'] = [x[:-2] for x in features_df['Feature_name']]\n",
    "\n",
    "features_df = features_df.join(on = 'Feature_group',\n",
    "                               other = features_df.groupby(by = 'Feature_group').count(),\n",
    "                               how = 'inner',\n",
    "                               rsuffix = '_count')\n",
    "\n",
    "time_constant_features = features_df[features_df['Feature_name_count'] == 1]['Feature_name'].values\n",
    "time_variant_features = [x for x in features_df['Feature_name'] if x not in time_constant_features]\n",
    "\n",
    "time_constant_features = time_constant_features[time_constant_features != 'PATIENT_VISIT_IDENTIFIER_1']"
   ]
  },
  {
   "cell_type": "code",
   "execution_count": 29,
   "metadata": {
    "execution": {
     "iopub.execute_input": "2020-08-12T00:14:43.025164Z",
     "iopub.status.busy": "2020-08-12T00:14:43.021812Z",
     "iopub.status.idle": "2020-08-12T00:14:43.029166Z",
     "shell.execute_reply": "2020-08-12T00:14:43.028555Z"
    },
    "papermill": {
     "duration": 0.038599,
     "end_time": "2020-08-12T00:14:43.029289",
     "exception": false,
     "start_time": "2020-08-12T00:14:42.990690",
     "status": "completed"
    },
    "tags": []
   },
   "outputs": [],
   "source": [
    "#Define function to retrieve the two most recent time windows data\n",
    "def last_two_windows_data(data, cols, reference_col):\n",
    "    \n",
    "    #Remove all records where there's only window-1 data available\n",
    "    reference_group = np.sort([x for x in cols if x[:-2] == reference_col[:-2]])\n",
    "    temp_data = data[data[reference_group[1]].isnull() == False].drop(columns = 'PATIENT_VISIT_IDENTIFIER_1')\n",
    "    \n",
    "    #Identify last two windows for each records\n",
    "    reference_df = temp_data[reference_group]\n",
    "    last_window = [len(reference_group) - x for x in reference_df.isnull().sum(axis = 1)]\n",
    "    last_window = [[x, y] for x, y in zip(reference_df.index, last_window)]\n",
    "    \n",
    "    df_list = []\n",
    "    #Extract desired columns for each record\n",
    "    for window in range(2,6):\n",
    "        index_portion = [x[0] for x in last_window if x[1] == window]\n",
    "        data_portion = temp_data[temp_data.index.isin(index_portion)]\n",
    "        \n",
    "        window_cols = [x for x in data_portion.columns if x[-1] in [str(window), str(window - 1)]]\n",
    "        data_portion = data_portion[window_cols]\n",
    "        \n",
    "        new_col_names = {x: x[:-1] + 'end' if x[-1] == str(window) else x[:-1] + 'begin' \n",
    "                         for x in data_portion.columns}\n",
    "        \n",
    "        df_list.append(data_portion.rename(columns = new_col_names))\n",
    "        \n",
    "    return pd.concat(df_list), last_window"
   ]
  },
  {
   "cell_type": "code",
   "execution_count": 30,
   "metadata": {
    "execution": {
     "iopub.execute_input": "2020-08-12T00:14:43.111868Z",
     "iopub.status.busy": "2020-08-12T00:14:43.099482Z",
     "iopub.status.idle": "2020-08-12T00:14:43.126775Z",
     "shell.execute_reply": "2020-08-12T00:14:43.126131Z"
    },
    "papermill": {
     "duration": 0.075249,
     "end_time": "2020-08-12T00:14:43.126899",
     "exception": false,
     "start_time": "2020-08-12T00:14:43.051650",
     "status": "completed"
    },
    "tags": []
   },
   "outputs": [
    {
     "data": {
      "text/html": [
       "<div>\n",
       "<style scoped>\n",
       "    .dataframe tbody tr th:only-of-type {\n",
       "        vertical-align: middle;\n",
       "    }\n",
       "\n",
       "    .dataframe tbody tr th {\n",
       "        vertical-align: top;\n",
       "    }\n",
       "\n",
       "    .dataframe thead th {\n",
       "        text-align: right;\n",
       "    }\n",
       "</style>\n",
       "<table border=\"1\" class=\"dataframe\">\n",
       "  <thead>\n",
       "    <tr style=\"text-align: right;\">\n",
       "      <th></th>\n",
       "      <th>BLOODPRESSURE_DIASTOLIC_DIFF_begin</th>\n",
       "      <th>BLOODPRESSURE_DIASTOLIC_DIFF_REL_begin</th>\n",
       "      <th>BLOODPRESSURE_DIASTOLIC_MAX_begin</th>\n",
       "      <th>BLOODPRESSURE_DIASTOLIC_MEAN_begin</th>\n",
       "      <th>BLOODPRESSURE_DIASTOLIC_MEDIAN_begin</th>\n",
       "      <th>BLOODPRESSURE_DIASTOLIC_MIN_begin</th>\n",
       "      <th>BLOODPRESSURE_SISTOLIC_DIFF_begin</th>\n",
       "      <th>BLOODPRESSURE_SISTOLIC_DIFF_REL_begin</th>\n",
       "      <th>BLOODPRESSURE_SISTOLIC_MAX_begin</th>\n",
       "      <th>BLOODPRESSURE_SISTOLIC_MEAN_begin</th>\n",
       "      <th>...</th>\n",
       "      <th>RESPIRATORY_RATE_MAX_end</th>\n",
       "      <th>RESPIRATORY_RATE_MEAN_end</th>\n",
       "      <th>RESPIRATORY_RATE_MEDIAN_end</th>\n",
       "      <th>RESPIRATORY_RATE_MIN_end</th>\n",
       "      <th>TEMPERATURE_DIFF_end</th>\n",
       "      <th>TEMPERATURE_DIFF_REL_end</th>\n",
       "      <th>TEMPERATURE_MAX_end</th>\n",
       "      <th>TEMPERATURE_MEAN_end</th>\n",
       "      <th>TEMPERATURE_MEDIAN_end</th>\n",
       "      <th>TEMPERATURE_MIN_end</th>\n",
       "    </tr>\n",
       "  </thead>\n",
       "  <tbody>\n",
       "    <tr>\n",
       "      <th>14</th>\n",
       "      <td>-1.000000</td>\n",
       "      <td>-1.000000</td>\n",
       "      <td>-0.470085</td>\n",
       "      <td>-0.234568</td>\n",
       "      <td>-0.234568</td>\n",
       "      <td>-0.030928</td>\n",
       "      <td>-1.000000</td>\n",
       "      <td>-1.000000</td>\n",
       "      <td>-0.686486</td>\n",
       "      <td>-0.553846</td>\n",
       "      <td>...</td>\n",
       "      <td>-0.212121</td>\n",
       "      <td>-0.118644</td>\n",
       "      <td>-0.103448</td>\n",
       "      <td>0.000000</td>\n",
       "      <td>-1.0</td>\n",
       "      <td>-1.0</td>\n",
       "      <td>-0.362319</td>\n",
       "      <td>-0.214286</td>\n",
       "      <td>-0.214286</td>\n",
       "      <td>0.252747</td>\n",
       "    </tr>\n",
       "    <tr>\n",
       "      <th>18</th>\n",
       "      <td>-0.965217</td>\n",
       "      <td>-0.977316</td>\n",
       "      <td>-0.008547</td>\n",
       "      <td>0.399177</td>\n",
       "      <td>0.382716</td>\n",
       "      <td>0.484536</td>\n",
       "      <td>-0.865031</td>\n",
       "      <td>-0.876606</td>\n",
       "      <td>-0.351351</td>\n",
       "      <td>-0.133333</td>\n",
       "      <td>...</td>\n",
       "      <td>-0.151515</td>\n",
       "      <td>-0.186441</td>\n",
       "      <td>-0.034483</td>\n",
       "      <td>-0.357143</td>\n",
       "      <td>-1.0</td>\n",
       "      <td>-1.0</td>\n",
       "      <td>-0.043478</td>\n",
       "      <td>0.178571</td>\n",
       "      <td>0.178571</td>\n",
       "      <td>0.494505</td>\n",
       "    </tr>\n",
       "    <tr>\n",
       "      <th>24</th>\n",
       "      <td>-1.000000</td>\n",
       "      <td>-1.000000</td>\n",
       "      <td>-0.589744</td>\n",
       "      <td>-0.407407</td>\n",
       "      <td>-0.407407</td>\n",
       "      <td>-0.175258</td>\n",
       "      <td>-1.000000</td>\n",
       "      <td>-1.000000</td>\n",
       "      <td>-0.664865</td>\n",
       "      <td>-0.523077</td>\n",
       "      <td>...</td>\n",
       "      <td>-0.636364</td>\n",
       "      <td>-0.593220</td>\n",
       "      <td>-0.586207</td>\n",
       "      <td>-0.500000</td>\n",
       "      <td>-1.0</td>\n",
       "      <td>-1.0</td>\n",
       "      <td>-0.014493</td>\n",
       "      <td>0.214286</td>\n",
       "      <td>0.214286</td>\n",
       "      <td>0.516484</td>\n",
       "    </tr>\n",
       "    <tr>\n",
       "      <th>29</th>\n",
       "      <td>-1.000000</td>\n",
       "      <td>-1.000000</td>\n",
       "      <td>-0.589744</td>\n",
       "      <td>-0.407407</td>\n",
       "      <td>-0.407407</td>\n",
       "      <td>-0.175258</td>\n",
       "      <td>-1.000000</td>\n",
       "      <td>-1.000000</td>\n",
       "      <td>-0.729730</td>\n",
       "      <td>-0.615385</td>\n",
       "      <td>...</td>\n",
       "      <td>-0.575758</td>\n",
       "      <td>-0.525424</td>\n",
       "      <td>-0.517241</td>\n",
       "      <td>-0.428571</td>\n",
       "      <td>-1.0</td>\n",
       "      <td>-1.0</td>\n",
       "      <td>0.188406</td>\n",
       "      <td>0.464286</td>\n",
       "      <td>0.464286</td>\n",
       "      <td>0.670330</td>\n",
       "    </tr>\n",
       "    <tr>\n",
       "      <th>31</th>\n",
       "      <td>-1.000000</td>\n",
       "      <td>-1.000000</td>\n",
       "      <td>-0.572650</td>\n",
       "      <td>-0.382716</td>\n",
       "      <td>-0.382716</td>\n",
       "      <td>-0.154639</td>\n",
       "      <td>-1.000000</td>\n",
       "      <td>-1.000000</td>\n",
       "      <td>-0.729730</td>\n",
       "      <td>-0.615385</td>\n",
       "      <td>...</td>\n",
       "      <td>0.030303</td>\n",
       "      <td>0.152542</td>\n",
       "      <td>0.172414</td>\n",
       "      <td>0.285714</td>\n",
       "      <td>-1.0</td>\n",
       "      <td>-1.0</td>\n",
       "      <td>-0.275362</td>\n",
       "      <td>-0.107143</td>\n",
       "      <td>-0.107143</td>\n",
       "      <td>0.318681</td>\n",
       "    </tr>\n",
       "  </tbody>\n",
       "</table>\n",
       "<p>5 rows × 88 columns</p>\n",
       "</div>"
      ],
      "text/plain": [
       "    BLOODPRESSURE_DIASTOLIC_DIFF_begin  \\\n",
       "14                           -1.000000   \n",
       "18                           -0.965217   \n",
       "24                           -1.000000   \n",
       "29                           -1.000000   \n",
       "31                           -1.000000   \n",
       "\n",
       "    BLOODPRESSURE_DIASTOLIC_DIFF_REL_begin  BLOODPRESSURE_DIASTOLIC_MAX_begin  \\\n",
       "14                               -1.000000                          -0.470085   \n",
       "18                               -0.977316                          -0.008547   \n",
       "24                               -1.000000                          -0.589744   \n",
       "29                               -1.000000                          -0.589744   \n",
       "31                               -1.000000                          -0.572650   \n",
       "\n",
       "    BLOODPRESSURE_DIASTOLIC_MEAN_begin  BLOODPRESSURE_DIASTOLIC_MEDIAN_begin  \\\n",
       "14                           -0.234568                             -0.234568   \n",
       "18                            0.399177                              0.382716   \n",
       "24                           -0.407407                             -0.407407   \n",
       "29                           -0.407407                             -0.407407   \n",
       "31                           -0.382716                             -0.382716   \n",
       "\n",
       "    BLOODPRESSURE_DIASTOLIC_MIN_begin  BLOODPRESSURE_SISTOLIC_DIFF_begin  \\\n",
       "14                          -0.030928                          -1.000000   \n",
       "18                           0.484536                          -0.865031   \n",
       "24                          -0.175258                          -1.000000   \n",
       "29                          -0.175258                          -1.000000   \n",
       "31                          -0.154639                          -1.000000   \n",
       "\n",
       "    BLOODPRESSURE_SISTOLIC_DIFF_REL_begin  BLOODPRESSURE_SISTOLIC_MAX_begin  \\\n",
       "14                              -1.000000                         -0.686486   \n",
       "18                              -0.876606                         -0.351351   \n",
       "24                              -1.000000                         -0.664865   \n",
       "29                              -1.000000                         -0.729730   \n",
       "31                              -1.000000                         -0.729730   \n",
       "\n",
       "    BLOODPRESSURE_SISTOLIC_MEAN_begin  ...  RESPIRATORY_RATE_MAX_end  \\\n",
       "14                          -0.553846  ...                 -0.212121   \n",
       "18                          -0.133333  ...                 -0.151515   \n",
       "24                          -0.523077  ...                 -0.636364   \n",
       "29                          -0.615385  ...                 -0.575758   \n",
       "31                          -0.615385  ...                  0.030303   \n",
       "\n",
       "    RESPIRATORY_RATE_MEAN_end  RESPIRATORY_RATE_MEDIAN_end  \\\n",
       "14                  -0.118644                    -0.103448   \n",
       "18                  -0.186441                    -0.034483   \n",
       "24                  -0.593220                    -0.586207   \n",
       "29                  -0.525424                    -0.517241   \n",
       "31                   0.152542                     0.172414   \n",
       "\n",
       "    RESPIRATORY_RATE_MIN_end  TEMPERATURE_DIFF_end  TEMPERATURE_DIFF_REL_end  \\\n",
       "14                  0.000000                  -1.0                      -1.0   \n",
       "18                 -0.357143                  -1.0                      -1.0   \n",
       "24                 -0.500000                  -1.0                      -1.0   \n",
       "29                 -0.428571                  -1.0                      -1.0   \n",
       "31                  0.285714                  -1.0                      -1.0   \n",
       "\n",
       "    TEMPERATURE_MAX_end  TEMPERATURE_MEAN_end  TEMPERATURE_MEDIAN_end  \\\n",
       "14            -0.362319             -0.214286               -0.214286   \n",
       "18            -0.043478              0.178571                0.178571   \n",
       "24            -0.014493              0.214286                0.214286   \n",
       "29             0.188406              0.464286                0.464286   \n",
       "31            -0.275362             -0.107143               -0.107143   \n",
       "\n",
       "    TEMPERATURE_MIN_end  \n",
       "14             0.252747  \n",
       "18             0.494505  \n",
       "24             0.516484  \n",
       "29             0.670330  \n",
       "31             0.318681  \n",
       "\n",
       "[5 rows x 88 columns]"
      ]
     },
     "execution_count": 30,
     "metadata": {},
     "output_type": "execute_result"
    }
   ],
   "source": [
    "#Get time variant features for the last two available time windows\n",
    "data_2, last_window = last_two_windows_data(data = data.drop(columns = time_constant_features), \n",
    "                                            cols = time_variant_features, \n",
    "                                            reference_col = 'TEMPERATURE_MAX_1')\n",
    "\n",
    "data_2.head()"
   ]
  },
  {
   "cell_type": "code",
   "execution_count": 31,
   "metadata": {
    "execution": {
     "iopub.execute_input": "2020-08-12T00:14:43.180280Z",
     "iopub.status.busy": "2020-08-12T00:14:43.179537Z",
     "iopub.status.idle": "2020-08-12T00:14:43.212789Z",
     "shell.execute_reply": "2020-08-12T00:14:43.212219Z"
    },
    "papermill": {
     "duration": 0.063275,
     "end_time": "2020-08-12T00:14:43.212913",
     "exception": false,
     "start_time": "2020-08-12T00:14:43.149638",
     "status": "completed"
    },
    "tags": []
   },
   "outputs": [
    {
     "data": {
      "text/html": [
       "<div>\n",
       "<style scoped>\n",
       "    .dataframe tbody tr th:only-of-type {\n",
       "        vertical-align: middle;\n",
       "    }\n",
       "\n",
       "    .dataframe tbody tr th {\n",
       "        vertical-align: top;\n",
       "    }\n",
       "\n",
       "    .dataframe thead th {\n",
       "        text-align: right;\n",
       "    }\n",
       "</style>\n",
       "<table border=\"1\" class=\"dataframe\">\n",
       "  <thead>\n",
       "    <tr style=\"text-align: right;\">\n",
       "      <th></th>\n",
       "      <th>BLOODPRESSURE_DIASTOLIC_DIFF_begin</th>\n",
       "      <th>BLOODPRESSURE_DIASTOLIC_DIFF_REL_begin</th>\n",
       "      <th>BLOODPRESSURE_DIASTOLIC_MAX_begin</th>\n",
       "      <th>BLOODPRESSURE_DIASTOLIC_MEAN_begin</th>\n",
       "      <th>BLOODPRESSURE_DIASTOLIC_MEDIAN_begin</th>\n",
       "      <th>BLOODPRESSURE_DIASTOLIC_MIN_begin</th>\n",
       "      <th>BLOODPRESSURE_SISTOLIC_DIFF_begin</th>\n",
       "      <th>BLOODPRESSURE_SISTOLIC_DIFF_REL_begin</th>\n",
       "      <th>BLOODPRESSURE_SISTOLIC_MAX_begin</th>\n",
       "      <th>BLOODPRESSURE_SISTOLIC_MEAN_begin</th>\n",
       "      <th>...</th>\n",
       "      <th>TEMPERATURE_DIFF_REL_end</th>\n",
       "      <th>TEMPERATURE_MAX_end</th>\n",
       "      <th>TEMPERATURE_MEAN_end</th>\n",
       "      <th>TEMPERATURE_MEDIAN_end</th>\n",
       "      <th>TEMPERATURE_MIN_end</th>\n",
       "      <th>AGE_ABOVE65_1</th>\n",
       "      <th>AGE_PERCENTIL_1</th>\n",
       "      <th>GENDER_1</th>\n",
       "      <th>HTN_1</th>\n",
       "      <th>ICU</th>\n",
       "    </tr>\n",
       "  </thead>\n",
       "  <tbody>\n",
       "    <tr>\n",
       "      <th>14</th>\n",
       "      <td>-1.000000</td>\n",
       "      <td>-1.000000</td>\n",
       "      <td>-0.470085</td>\n",
       "      <td>-0.234568</td>\n",
       "      <td>-0.234568</td>\n",
       "      <td>-0.030928</td>\n",
       "      <td>-1.000000</td>\n",
       "      <td>-1.000000</td>\n",
       "      <td>-0.686486</td>\n",
       "      <td>-0.553846</td>\n",
       "      <td>...</td>\n",
       "      <td>-1.0</td>\n",
       "      <td>-0.362319</td>\n",
       "      <td>-0.214286</td>\n",
       "      <td>-0.214286</td>\n",
       "      <td>0.252747</td>\n",
       "      <td>1</td>\n",
       "      <td>60th</td>\n",
       "      <td>1</td>\n",
       "      <td>0.0</td>\n",
       "      <td>1</td>\n",
       "    </tr>\n",
       "    <tr>\n",
       "      <th>18</th>\n",
       "      <td>-0.965217</td>\n",
       "      <td>-0.977316</td>\n",
       "      <td>-0.008547</td>\n",
       "      <td>0.399177</td>\n",
       "      <td>0.382716</td>\n",
       "      <td>0.484536</td>\n",
       "      <td>-0.865031</td>\n",
       "      <td>-0.876606</td>\n",
       "      <td>-0.351351</td>\n",
       "      <td>-0.133333</td>\n",
       "      <td>...</td>\n",
       "      <td>-1.0</td>\n",
       "      <td>-0.043478</td>\n",
       "      <td>0.178571</td>\n",
       "      <td>0.178571</td>\n",
       "      <td>0.494505</td>\n",
       "      <td>0</td>\n",
       "      <td>20th</td>\n",
       "      <td>0</td>\n",
       "      <td>0.0</td>\n",
       "      <td>1</td>\n",
       "    </tr>\n",
       "    <tr>\n",
       "      <th>24</th>\n",
       "      <td>-1.000000</td>\n",
       "      <td>-1.000000</td>\n",
       "      <td>-0.589744</td>\n",
       "      <td>-0.407407</td>\n",
       "      <td>-0.407407</td>\n",
       "      <td>-0.175258</td>\n",
       "      <td>-1.000000</td>\n",
       "      <td>-1.000000</td>\n",
       "      <td>-0.664865</td>\n",
       "      <td>-0.523077</td>\n",
       "      <td>...</td>\n",
       "      <td>-1.0</td>\n",
       "      <td>-0.014493</td>\n",
       "      <td>0.214286</td>\n",
       "      <td>0.214286</td>\n",
       "      <td>0.516484</td>\n",
       "      <td>1</td>\n",
       "      <td>80th</td>\n",
       "      <td>1</td>\n",
       "      <td>0.0</td>\n",
       "      <td>1</td>\n",
       "    </tr>\n",
       "    <tr>\n",
       "      <th>29</th>\n",
       "      <td>-1.000000</td>\n",
       "      <td>-1.000000</td>\n",
       "      <td>-0.589744</td>\n",
       "      <td>-0.407407</td>\n",
       "      <td>-0.407407</td>\n",
       "      <td>-0.175258</td>\n",
       "      <td>-1.000000</td>\n",
       "      <td>-1.000000</td>\n",
       "      <td>-0.729730</td>\n",
       "      <td>-0.615385</td>\n",
       "      <td>...</td>\n",
       "      <td>-1.0</td>\n",
       "      <td>0.188406</td>\n",
       "      <td>0.464286</td>\n",
       "      <td>0.464286</td>\n",
       "      <td>0.670330</td>\n",
       "      <td>1</td>\n",
       "      <td>70th</td>\n",
       "      <td>0</td>\n",
       "      <td>1.0</td>\n",
       "      <td>1</td>\n",
       "    </tr>\n",
       "    <tr>\n",
       "      <th>31</th>\n",
       "      <td>-1.000000</td>\n",
       "      <td>-1.000000</td>\n",
       "      <td>-0.572650</td>\n",
       "      <td>-0.382716</td>\n",
       "      <td>-0.382716</td>\n",
       "      <td>-0.154639</td>\n",
       "      <td>-1.000000</td>\n",
       "      <td>-1.000000</td>\n",
       "      <td>-0.729730</td>\n",
       "      <td>-0.615385</td>\n",
       "      <td>...</td>\n",
       "      <td>-1.0</td>\n",
       "      <td>-0.275362</td>\n",
       "      <td>-0.107143</td>\n",
       "      <td>-0.107143</td>\n",
       "      <td>0.318681</td>\n",
       "      <td>1</td>\n",
       "      <td>90th</td>\n",
       "      <td>0</td>\n",
       "      <td>0.0</td>\n",
       "      <td>1</td>\n",
       "    </tr>\n",
       "  </tbody>\n",
       "</table>\n",
       "<p>5 rows × 93 columns</p>\n",
       "</div>"
      ],
      "text/plain": [
       "    BLOODPRESSURE_DIASTOLIC_DIFF_begin  \\\n",
       "14                           -1.000000   \n",
       "18                           -0.965217   \n",
       "24                           -1.000000   \n",
       "29                           -1.000000   \n",
       "31                           -1.000000   \n",
       "\n",
       "    BLOODPRESSURE_DIASTOLIC_DIFF_REL_begin  BLOODPRESSURE_DIASTOLIC_MAX_begin  \\\n",
       "14                               -1.000000                          -0.470085   \n",
       "18                               -0.977316                          -0.008547   \n",
       "24                               -1.000000                          -0.589744   \n",
       "29                               -1.000000                          -0.589744   \n",
       "31                               -1.000000                          -0.572650   \n",
       "\n",
       "    BLOODPRESSURE_DIASTOLIC_MEAN_begin  BLOODPRESSURE_DIASTOLIC_MEDIAN_begin  \\\n",
       "14                           -0.234568                             -0.234568   \n",
       "18                            0.399177                              0.382716   \n",
       "24                           -0.407407                             -0.407407   \n",
       "29                           -0.407407                             -0.407407   \n",
       "31                           -0.382716                             -0.382716   \n",
       "\n",
       "    BLOODPRESSURE_DIASTOLIC_MIN_begin  BLOODPRESSURE_SISTOLIC_DIFF_begin  \\\n",
       "14                          -0.030928                          -1.000000   \n",
       "18                           0.484536                          -0.865031   \n",
       "24                          -0.175258                          -1.000000   \n",
       "29                          -0.175258                          -1.000000   \n",
       "31                          -0.154639                          -1.000000   \n",
       "\n",
       "    BLOODPRESSURE_SISTOLIC_DIFF_REL_begin  BLOODPRESSURE_SISTOLIC_MAX_begin  \\\n",
       "14                              -1.000000                         -0.686486   \n",
       "18                              -0.876606                         -0.351351   \n",
       "24                              -1.000000                         -0.664865   \n",
       "29                              -1.000000                         -0.729730   \n",
       "31                              -1.000000                         -0.729730   \n",
       "\n",
       "    BLOODPRESSURE_SISTOLIC_MEAN_begin  ...  TEMPERATURE_DIFF_REL_end  \\\n",
       "14                          -0.553846  ...                      -1.0   \n",
       "18                          -0.133333  ...                      -1.0   \n",
       "24                          -0.523077  ...                      -1.0   \n",
       "29                          -0.615385  ...                      -1.0   \n",
       "31                          -0.615385  ...                      -1.0   \n",
       "\n",
       "    TEMPERATURE_MAX_end  TEMPERATURE_MEAN_end  TEMPERATURE_MEDIAN_end  \\\n",
       "14            -0.362319             -0.214286               -0.214286   \n",
       "18            -0.043478              0.178571                0.178571   \n",
       "24            -0.014493              0.214286                0.214286   \n",
       "29             0.188406              0.464286                0.464286   \n",
       "31            -0.275362             -0.107143               -0.107143   \n",
       "\n",
       "    TEMPERATURE_MIN_end  AGE_ABOVE65_1  AGE_PERCENTIL_1  GENDER_1  HTN_1  ICU  \n",
       "14             0.252747              1             60th         1    0.0    1  \n",
       "18             0.494505              0             20th         0    0.0    1  \n",
       "24             0.516484              1             80th         1    0.0    1  \n",
       "29             0.670330              1             70th         0    1.0    1  \n",
       "31             0.318681              1             90th         0    0.0    1  \n",
       "\n",
       "[5 rows x 93 columns]"
      ]
     },
     "execution_count": 31,
     "metadata": {},
     "output_type": "execute_result"
    }
   ],
   "source": [
    "#Merge time variant and time constant features together\n",
    "data_2 = data_2.join(other = data[time_constant_features], how = 'inner')\n",
    "data_2.head()"
   ]
  },
  {
   "cell_type": "markdown",
   "execution_count": null,
   "metadata": {
    "papermill": {
     "duration": 0.023154,
     "end_time": "2020-08-12T00:14:43.259645",
     "exception": false,
     "start_time": "2020-08-12T00:14:43.236491",
     "status": "completed"
    },
    "tags": []
   },
   "source": [
    "We finally have it. Our dataset has been constructed in such a way that all the *_end* features represent the data from the last available time window. Additionally, the *_begin* attribute are related to the imediatelly previous window. As for the time constant features, they can be identified by the *_1* sufix.\n",
    "\n",
    "There is, however, an important issue we need to address before we proceed into constructing a predictive model. Going back to the definition to the choice of the two most recent time window data, a pattern arises. In the cases in which the patient did not go to the ICU, we are always looking at windows 4 and 5. As for the records where the patient required ICU treatment, the last window could be anyone from 2 to 5. Let's illustrate this."
   ]
  },
  {
   "cell_type": "code",
   "execution_count": 32,
   "metadata": {
    "execution": {
     "iopub.execute_input": "2020-08-12T00:14:43.322566Z",
     "iopub.status.busy": "2020-08-12T00:14:43.315064Z",
     "iopub.status.idle": "2020-08-12T00:14:43.440393Z",
     "shell.execute_reply": "2020-08-12T00:14:43.439754Z"
    },
    "papermill": {
     "duration": 0.157624,
     "end_time": "2020-08-12T00:14:43.440515",
     "exception": false,
     "start_time": "2020-08-12T00:14:43.282891",
     "status": "completed"
    },
    "tags": []
   },
   "outputs": [
    {
     "data": {
      "image/png": "[encoded data removed]",
      "text/plain": [
       "<Figure size 576x720 with 2 Axes>"
      ]
     },
     "metadata": {},
     "output_type": "display_data"
    }
   ],
   "source": [
    "#Plot last window distribution according to target value\n",
    "fig, axis = plt.subplots(1,2, figsize = (8, 10))\n",
    "colors = ['#ff9999','#66b3ff','#99ff99','#ffcc99']\n",
    "\n",
    "for target in data_2['ICU'].unique():\n",
    "    target_indices = data_2[data_2['ICU'] == target].index\n",
    "    labels, sizes = np.unique([x[1] for x in last_window if x[0] in target_indices], return_counts = True)\n",
    "    axis[target].pie(sizes, labels = labels, \n",
    "                     shadow = True, \n",
    "                     colors = colors,\n",
    "                     autopct = '%1.1f%%')\n",
    "    axis[target].set_title('ICU = %d' %target)\n",
    "\n",
    "fig.tight_layout(rect = [0, 0.4, 1, 1])\n",
    "plt.suptitle('Last Window Distribution vs. ICU value', fontsize = 20)\n",
    "plt.show()"
   ]
  },
  {
   "cell_type": "markdown",
   "execution_count": null,
   "metadata": {
    "papermill": {
     "duration": 0.023222,
     "end_time": "2020-08-12T00:14:43.487432",
     "exception": false,
     "start_time": "2020-08-12T00:14:43.464210",
     "status": "completed"
    },
    "tags": []
   },
   "source": [
    "From the pattern highlighed in the graph above, there is the reasonable concern a correlation might exist between the features distribution and the time window in which they were taken. The data exploration performed in [our previous notebook](https://www.kaggle.com/epdrumond/icu-admission-data-cleaning-and-exploration) only supports this assumption. It is then wise to look further into this matter and verify whether or not this is true. This is important because, in real life situations, our model could undervalue the likelyhood of a patient going to the ICU solely on the basis of how much he or she has already spent in the hospital."
   ]
  },
  {
   "cell_type": "code",
   "execution_count": 33,
   "metadata": {
    "execution": {
     "iopub.execute_input": "2020-08-12T00:14:43.545948Z",
     "iopub.status.busy": "2020-08-12T00:14:43.545020Z",
     "iopub.status.idle": "2020-08-12T00:14:43.548188Z",
     "shell.execute_reply": "2020-08-12T00:14:43.547570Z"
    },
    "papermill": {
     "duration": 0.037137,
     "end_time": "2020-08-12T00:14:43.548312",
     "exception": false,
     "start_time": "2020-08-12T00:14:43.511175",
     "status": "completed"
    },
    "tags": []
   },
   "outputs": [],
   "source": [
    "#Add last window information to dataset\n",
    "data_2 = data_2.join(\n",
    "    other = pd.DataFrame(data = last_window, columns = ['INDEX', 'LAST_WINDOW']).set_index('INDEX'),\n",
    "    how = 'inner')"
   ]
  },
  {
   "cell_type": "code",
   "execution_count": 34,
   "metadata": {
    "execution": {
     "iopub.execute_input": "2020-08-12T00:14:43.603892Z",
     "iopub.status.busy": "2020-08-12T00:14:43.603107Z",
     "iopub.status.idle": "2020-08-12T00:14:43.835348Z",
     "shell.execute_reply": "2020-08-12T00:14:43.834715Z"
    },
    "papermill": {
     "duration": 0.263792,
     "end_time": "2020-08-12T00:14:43.835462",
     "exception": false,
     "start_time": "2020-08-12T00:14:43.571670",
     "status": "completed"
    },
    "tags": []
   },
   "outputs": [
    {
     "data": {
      "text/plain": [
       "Text(0.5, 1.0, 'Distribution of Pearson correlation coefficient with respect to LAST_WINDOW')"
      ]
     },
     "execution_count": 34,
     "metadata": {},
     "output_type": "execute_result"
    },
    {
     "data": {
      "image/png": "[encoded data removed]",
      "text/plain": [
       "<Figure size 576x288 with 1 Axes>"
      ]
     },
     "metadata": {
      "needs_background": "light"
     },
     "output_type": "display_data"
    }
   ],
   "source": [
    "#Define feature groups to investigate and compute pearson correlation\n",
    "cols_to_investigate = np.unique([x for x in data_2.columns if x.split('_')[-1] in ('end', 'begin')])\n",
    "\n",
    "data_2_corr = data_2[np.append(cols_to_investigate, 'LAST_WINDOW')].corr()['LAST_WINDOW']\n",
    "data_2_corr = abs(data_2_corr)\n",
    "\n",
    "plt.figure(figsize = (8,4))\n",
    "sns.distplot(data_2_corr.values)\n",
    "plt.tight_layout()\n",
    "plt.title('Distribution of Pearson correlation coefficient with respect to LAST_WINDOW', fontsize = 15)"
   ]
  },
  {
   "cell_type": "markdown",
   "execution_count": null,
   "metadata": {
    "papermill": {
     "duration": 0.023535,
     "end_time": "2020-08-12T00:14:43.882903",
     "exception": false,
     "start_time": "2020-08-12T00:14:43.859368",
     "status": "completed"
    },
    "tags": []
   },
   "source": [
    "As we can see, most features are poorly correlated to LAST_WINDOW. Still a couple of them present correlation coeficient values higher than 0.5. Let's take a look at those."
   ]
  },
  {
   "cell_type": "code",
   "execution_count": 35,
   "metadata": {
    "execution": {
     "iopub.execute_input": "2020-08-12T00:14:43.939387Z",
     "iopub.status.busy": "2020-08-12T00:14:43.938455Z",
     "iopub.status.idle": "2020-08-12T00:14:43.942271Z",
     "shell.execute_reply": "2020-08-12T00:14:43.941744Z"
    },
    "papermill": {
     "duration": 0.035718,
     "end_time": "2020-08-12T00:14:43.942386",
     "exception": false,
     "start_time": "2020-08-12T00:14:43.906668",
     "status": "completed"
    },
    "tags": []
   },
   "outputs": [
    {
     "data": {
      "text/plain": [
       "TEMPERATURE_DIFF_REL_end                0.632362\n",
       "TEMPERATURE_DIFF_end                    0.629489\n",
       "HEART_RATE_DIFF_REL_end                 0.626857\n",
       "HEART_RATE_DIFF_end                     0.613473\n",
       "BLOODPRESSURE_DIASTOLIC_DIFF_end        0.561317\n",
       "RESPIRATORY_RATE_MIN_end                0.552837\n",
       "TEMPERATURE_MIN_end                     0.538746\n",
       "BLOODPRESSURE_SISTOLIC_DIFF_REL_end     0.535384\n",
       "BLOODPRESSURE_SISTOLIC_DIFF_end         0.511842\n",
       "BLOODPRESSURE_DIASTOLIC_DIFF_REL_end    0.509226\n",
       "Name: LAST_WINDOW, dtype: float64"
      ]
     },
     "execution_count": 35,
     "metadata": {},
     "output_type": "execute_result"
    }
   ],
   "source": [
    "#Select strongly LAST_WINDOW correlated features\n",
    "data_2_corr = data_2_corr[(data_2_corr >= 0.5) & (data_2_corr < 1)]\n",
    "data_2_corr.sort_values(ascending = False)"
   ]
  },
  {
   "cell_type": "code",
   "execution_count": 36,
   "metadata": {
    "execution": {
     "iopub.execute_input": "2020-08-12T00:14:44.001020Z",
     "iopub.status.busy": "2020-08-12T00:14:43.996995Z",
     "iopub.status.idle": "2020-08-12T00:14:44.328609Z",
     "shell.execute_reply": "2020-08-12T00:14:44.328052Z"
    },
    "papermill": {
     "duration": 0.362562,
     "end_time": "2020-08-12T00:14:44.328732",
     "exception": false,
     "start_time": "2020-08-12T00:14:43.966170",
     "status": "completed"
    },
    "tags": []
   },
   "outputs": [
    {
     "data": {
      "text/plain": [
       "Text(0.5, 0.98, 'Investigating TEMPERATURE_DIFF_REL_end and BLOODPRESSURE_DIASTOLIC_DIFF_REL_end correlations')"
      ]
     },
     "execution_count": 36,
     "metadata": {},
     "output_type": "execute_result"
    },
    {
     "data": {
      "image/png": "[encoded data removed]",
      "text/plain": [
       "<Figure size 1080x360 with 2 Axes>"
      ]
     },
     "metadata": {
      "needs_background": "light"
     },
     "output_type": "display_data"
    }
   ],
   "source": [
    "#Plot TEMPERATURE_DIFF_REL_end, the one with the larger correlation coefficient\n",
    "fig, axis = plt.subplots(1, 2, figsize = (15, 5))\n",
    "\n",
    "sns.boxplot(x = 'LAST_WINDOW', y = 'TEMPERATURE_DIFF_REL_end', data = data_2, ax = axis[0])\n",
    "sns.boxplot(x = 'LAST_WINDOW', y = 'BLOODPRESSURE_DIASTOLIC_DIFF_REL_end', data = data_2, ax = axis[1])\n",
    "\n",
    "\n",
    "plt.suptitle('Investigating TEMPERATURE_DIFF_REL_end and BLOODPRESSURE_DIASTOLIC_DIFF_REL_end correlations')"
   ]
  },
  {
   "cell_type": "markdown",
   "execution_count": null,
   "metadata": {
    "papermill": {
     "duration": 0.024061,
     "end_time": "2020-08-12T00:14:44.378031",
     "exception": false,
     "start_time": "2020-08-12T00:14:44.353970",
     "status": "completed"
    },
    "tags": []
   },
   "source": [
    "This first assessment on the relationship between reveals some interesting points. First of all, most of the more strongly correlated features are part of the *DIFF* and *DIFF_REL* feature groups. When ploting two of them, we see the correlation is really onto something. The feature distribution does change a lot according to the window in which the measurement was taken.\n",
    "\n",
    "As we really want to be on the safe side, we are going to remove all of these features and their counterparts. To be clear, not only *TEMPERATURE_DIFF_REL_end* is being cut off, but also *TEMPERATURE_DIFF_REL_begin*. Later, should the need arise, we can revisit this decision."
   ]
  },
  {
   "cell_type": "code",
   "execution_count": 37,
   "metadata": {
    "execution": {
     "iopub.execute_input": "2020-08-12T00:14:44.446357Z",
     "iopub.status.busy": "2020-08-12T00:14:44.445708Z",
     "iopub.status.idle": "2020-08-12T00:14:44.463386Z",
     "shell.execute_reply": "2020-08-12T00:14:44.462714Z"
    },
    "papermill": {
     "duration": 0.061049,
     "end_time": "2020-08-12T00:14:44.463507",
     "exception": false,
     "start_time": "2020-08-12T00:14:44.402458",
     "status": "completed"
    },
    "tags": []
   },
   "outputs": [
    {
     "data": {
      "text/html": [
       "<div>\n",
       "<style scoped>\n",
       "    .dataframe tbody tr th:only-of-type {\n",
       "        vertical-align: middle;\n",
       "    }\n",
       "\n",
       "    .dataframe tbody tr th {\n",
       "        vertical-align: top;\n",
       "    }\n",
       "\n",
       "    .dataframe thead th {\n",
       "        text-align: right;\n",
       "    }\n",
       "</style>\n",
       "<table border=\"1\" class=\"dataframe\">\n",
       "  <thead>\n",
       "    <tr style=\"text-align: right;\">\n",
       "      <th></th>\n",
       "      <th>BLOODPRESSURE_DIASTOLIC_MAX_begin</th>\n",
       "      <th>BLOODPRESSURE_DIASTOLIC_MEAN_begin</th>\n",
       "      <th>BLOODPRESSURE_DIASTOLIC_MEDIAN_begin</th>\n",
       "      <th>BLOODPRESSURE_DIASTOLIC_MIN_begin</th>\n",
       "      <th>BLOODPRESSURE_SISTOLIC_MAX_begin</th>\n",
       "      <th>BLOODPRESSURE_SISTOLIC_MEAN_begin</th>\n",
       "      <th>BLOODPRESSURE_SISTOLIC_MEDIAN_begin</th>\n",
       "      <th>BLOODPRESSURE_SISTOLIC_MIN_begin</th>\n",
       "      <th>DISEASE GROUPING 1_begin</th>\n",
       "      <th>DISEASE GROUPING 2_begin</th>\n",
       "      <th>...</th>\n",
       "      <th>RESPIRATORY_RATE_MEDIAN_end</th>\n",
       "      <th>TEMPERATURE_MAX_end</th>\n",
       "      <th>TEMPERATURE_MEAN_end</th>\n",
       "      <th>TEMPERATURE_MEDIAN_end</th>\n",
       "      <th>AGE_ABOVE65_1</th>\n",
       "      <th>AGE_PERCENTIL_1</th>\n",
       "      <th>GENDER_1</th>\n",
       "      <th>HTN_1</th>\n",
       "      <th>ICU</th>\n",
       "      <th>LAST_WINDOW</th>\n",
       "    </tr>\n",
       "  </thead>\n",
       "  <tbody>\n",
       "    <tr>\n",
       "      <th>14</th>\n",
       "      <td>-0.470085</td>\n",
       "      <td>-0.234568</td>\n",
       "      <td>-0.234568</td>\n",
       "      <td>-0.030928</td>\n",
       "      <td>-0.686486</td>\n",
       "      <td>-0.553846</td>\n",
       "      <td>-0.553846</td>\n",
       "      <td>-0.2625</td>\n",
       "      <td>0.0</td>\n",
       "      <td>0.0</td>\n",
       "      <td>...</td>\n",
       "      <td>-0.103448</td>\n",
       "      <td>-0.362319</td>\n",
       "      <td>-0.214286</td>\n",
       "      <td>-0.214286</td>\n",
       "      <td>1</td>\n",
       "      <td>60th</td>\n",
       "      <td>1</td>\n",
       "      <td>0.0</td>\n",
       "      <td>1</td>\n",
       "      <td>2</td>\n",
       "    </tr>\n",
       "    <tr>\n",
       "      <th>18</th>\n",
       "      <td>-0.008547</td>\n",
       "      <td>0.399177</td>\n",
       "      <td>0.382716</td>\n",
       "      <td>0.484536</td>\n",
       "      <td>-0.351351</td>\n",
       "      <td>-0.133333</td>\n",
       "      <td>-0.076923</td>\n",
       "      <td>-0.0125</td>\n",
       "      <td>0.0</td>\n",
       "      <td>0.0</td>\n",
       "      <td>...</td>\n",
       "      <td>-0.034483</td>\n",
       "      <td>-0.043478</td>\n",
       "      <td>0.178571</td>\n",
       "      <td>0.178571</td>\n",
       "      <td>0</td>\n",
       "      <td>20th</td>\n",
       "      <td>0</td>\n",
       "      <td>0.0</td>\n",
       "      <td>1</td>\n",
       "      <td>2</td>\n",
       "    </tr>\n",
       "    <tr>\n",
       "      <th>24</th>\n",
       "      <td>-0.589744</td>\n",
       "      <td>-0.407407</td>\n",
       "      <td>-0.407407</td>\n",
       "      <td>-0.175258</td>\n",
       "      <td>-0.664865</td>\n",
       "      <td>-0.523077</td>\n",
       "      <td>-0.523077</td>\n",
       "      <td>-0.2375</td>\n",
       "      <td>0.0</td>\n",
       "      <td>0.0</td>\n",
       "      <td>...</td>\n",
       "      <td>-0.586207</td>\n",
       "      <td>-0.014493</td>\n",
       "      <td>0.214286</td>\n",
       "      <td>0.214286</td>\n",
       "      <td>1</td>\n",
       "      <td>80th</td>\n",
       "      <td>1</td>\n",
       "      <td>0.0</td>\n",
       "      <td>1</td>\n",
       "      <td>2</td>\n",
       "    </tr>\n",
       "    <tr>\n",
       "      <th>29</th>\n",
       "      <td>-0.589744</td>\n",
       "      <td>-0.407407</td>\n",
       "      <td>-0.407407</td>\n",
       "      <td>-0.175258</td>\n",
       "      <td>-0.729730</td>\n",
       "      <td>-0.615385</td>\n",
       "      <td>-0.615385</td>\n",
       "      <td>-0.3125</td>\n",
       "      <td>0.0</td>\n",
       "      <td>0.0</td>\n",
       "      <td>...</td>\n",
       "      <td>-0.517241</td>\n",
       "      <td>0.188406</td>\n",
       "      <td>0.464286</td>\n",
       "      <td>0.464286</td>\n",
       "      <td>1</td>\n",
       "      <td>70th</td>\n",
       "      <td>0</td>\n",
       "      <td>1.0</td>\n",
       "      <td>1</td>\n",
       "      <td>2</td>\n",
       "    </tr>\n",
       "    <tr>\n",
       "      <th>31</th>\n",
       "      <td>-0.572650</td>\n",
       "      <td>-0.382716</td>\n",
       "      <td>-0.382716</td>\n",
       "      <td>-0.154639</td>\n",
       "      <td>-0.729730</td>\n",
       "      <td>-0.615385</td>\n",
       "      <td>-0.615385</td>\n",
       "      <td>-0.3125</td>\n",
       "      <td>0.0</td>\n",
       "      <td>0.0</td>\n",
       "      <td>...</td>\n",
       "      <td>0.172414</td>\n",
       "      <td>-0.275362</td>\n",
       "      <td>-0.107143</td>\n",
       "      <td>-0.107143</td>\n",
       "      <td>1</td>\n",
       "      <td>90th</td>\n",
       "      <td>0</td>\n",
       "      <td>0.0</td>\n",
       "      <td>1</td>\n",
       "      <td>2</td>\n",
       "    </tr>\n",
       "  </tbody>\n",
       "</table>\n",
       "<p>5 rows × 74 columns</p>\n",
       "</div>"
      ],
      "text/plain": [
       "    BLOODPRESSURE_DIASTOLIC_MAX_begin  BLOODPRESSURE_DIASTOLIC_MEAN_begin  \\\n",
       "14                          -0.470085                           -0.234568   \n",
       "18                          -0.008547                            0.399177   \n",
       "24                          -0.589744                           -0.407407   \n",
       "29                          -0.589744                           -0.407407   \n",
       "31                          -0.572650                           -0.382716   \n",
       "\n",
       "    BLOODPRESSURE_DIASTOLIC_MEDIAN_begin  BLOODPRESSURE_DIASTOLIC_MIN_begin  \\\n",
       "14                             -0.234568                          -0.030928   \n",
       "18                              0.382716                           0.484536   \n",
       "24                             -0.407407                          -0.175258   \n",
       "29                             -0.407407                          -0.175258   \n",
       "31                             -0.382716                          -0.154639   \n",
       "\n",
       "    BLOODPRESSURE_SISTOLIC_MAX_begin  BLOODPRESSURE_SISTOLIC_MEAN_begin  \\\n",
       "14                         -0.686486                          -0.553846   \n",
       "18                         -0.351351                          -0.133333   \n",
       "24                         -0.664865                          -0.523077   \n",
       "29                         -0.729730                          -0.615385   \n",
       "31                         -0.729730                          -0.615385   \n",
       "\n",
       "    BLOODPRESSURE_SISTOLIC_MEDIAN_begin  BLOODPRESSURE_SISTOLIC_MIN_begin  \\\n",
       "14                            -0.553846                           -0.2625   \n",
       "18                            -0.076923                           -0.0125   \n",
       "24                            -0.523077                           -0.2375   \n",
       "29                            -0.615385                           -0.3125   \n",
       "31                            -0.615385                           -0.3125   \n",
       "\n",
       "    DISEASE GROUPING 1_begin  DISEASE GROUPING 2_begin  ...  \\\n",
       "14                       0.0                       0.0  ...   \n",
       "18                       0.0                       0.0  ...   \n",
       "24                       0.0                       0.0  ...   \n",
       "29                       0.0                       0.0  ...   \n",
       "31                       0.0                       0.0  ...   \n",
       "\n",
       "    RESPIRATORY_RATE_MEDIAN_end  TEMPERATURE_MAX_end  TEMPERATURE_MEAN_end  \\\n",
       "14                    -0.103448            -0.362319             -0.214286   \n",
       "18                    -0.034483            -0.043478              0.178571   \n",
       "24                    -0.586207            -0.014493              0.214286   \n",
       "29                    -0.517241             0.188406              0.464286   \n",
       "31                     0.172414            -0.275362             -0.107143   \n",
       "\n",
       "    TEMPERATURE_MEDIAN_end  AGE_ABOVE65_1  AGE_PERCENTIL_1  GENDER_1  HTN_1  \\\n",
       "14               -0.214286              1             60th         1    0.0   \n",
       "18                0.178571              0             20th         0    0.0   \n",
       "24                0.214286              1             80th         1    0.0   \n",
       "29                0.464286              1             70th         0    1.0   \n",
       "31               -0.107143              1             90th         0    0.0   \n",
       "\n",
       "    ICU  LAST_WINDOW  \n",
       "14    1            2  \n",
       "18    1            2  \n",
       "24    1            2  \n",
       "29    1            2  \n",
       "31    1            2  \n",
       "\n",
       "[5 rows x 74 columns]"
      ]
     },
     "execution_count": 37,
     "metadata": {},
     "output_type": "execute_result"
    }
   ],
   "source": [
    "#Remove features strongly correlated to LAST_WINDOW\n",
    "col_groups_to_remove = ['_'.join(x.split('_')[:-1]) for x in data_2_corr.index] \n",
    "remaining_cols = [x for x in data_2.columns if '_'.join(x.split('_')[:-1]) not in col_groups_to_remove]\n",
    "\n",
    "data_2 = data_2[remaining_cols]\n",
    "data_2.head()"
   ]
  },
  {
   "cell_type": "markdown",
   "execution_count": null,
   "metadata": {
    "papermill": {
     "duration": 0.024498,
     "end_time": "2020-08-12T00:14:44.513041",
     "exception": false,
     "start_time": "2020-08-12T00:14:44.488543",
     "status": "completed"
    },
    "tags": []
   },
   "source": [
    "## 4.2. Correlations"
   ]
  },
  {
   "cell_type": "markdown",
   "execution_count": null,
   "metadata": {
    "papermill": {
     "duration": 0.025208,
     "end_time": "2020-08-12T00:14:44.563842",
     "exception": false,
     "start_time": "2020-08-12T00:14:44.538634",
     "status": "completed"
    },
    "tags": []
   },
   "source": [
    "Up to this point, our use of correlation scores was focused on managing an specific issue regarding the problem definition. Now we are looking at the relationships between features to see if there is anything we can learn from our dataset.\n",
    "\n",
    "On the previous modeling we conducted, a similar investigation was performed. However, as we are not necessaraly using window-1 data, it is better to explore this version of the data without any preconceptions. However, we can still learn from our mistakes. So, let's skip plotting another messy heatmap and jump straight to ranking the relationships by their correlation score."
   ]
  },
  {
   "cell_type": "code",
   "execution_count": 38,
   "metadata": {
    "execution": {
     "iopub.execute_input": "2020-08-12T00:14:44.619474Z",
     "iopub.status.busy": "2020-08-12T00:14:44.618773Z",
     "iopub.status.idle": "2020-08-12T00:14:44.681493Z",
     "shell.execute_reply": "2020-08-12T00:14:44.681969Z"
    },
    "papermill": {
     "duration": 0.093521,
     "end_time": "2020-08-12T00:14:44.682126",
     "exception": false,
     "start_time": "2020-08-12T00:14:44.588605",
     "status": "completed"
    },
    "tags": []
   },
   "outputs": [
    {
     "data": {
      "text/html": [
       "<div>\n",
       "<style scoped>\n",
       "    .dataframe tbody tr th:only-of-type {\n",
       "        vertical-align: middle;\n",
       "    }\n",
       "\n",
       "    .dataframe tbody tr th {\n",
       "        vertical-align: top;\n",
       "    }\n",
       "\n",
       "    .dataframe thead th {\n",
       "        text-align: right;\n",
       "    }\n",
       "</style>\n",
       "<table border=\"1\" class=\"dataframe\">\n",
       "  <thead>\n",
       "    <tr style=\"text-align: right;\">\n",
       "      <th></th>\n",
       "      <th>Feature_1</th>\n",
       "      <th>Feature_2</th>\n",
       "      <th>Pearson_Corr</th>\n",
       "    </tr>\n",
       "  </thead>\n",
       "  <tbody>\n",
       "    <tr>\n",
       "      <th>1481</th>\n",
       "      <td>OXYGEN_SATURATION_DIFF_begin</td>\n",
       "      <td>OXYGEN_SATURATION_DIFF_REL_begin</td>\n",
       "      <td>0.999805</td>\n",
       "    </tr>\n",
       "    <tr>\n",
       "      <th>3997</th>\n",
       "      <td>OXYGEN_SATURATION_DIFF_end</td>\n",
       "      <td>OXYGEN_SATURATION_DIFF_REL_end</td>\n",
       "      <td>0.999786</td>\n",
       "    </tr>\n",
       "    <tr>\n",
       "      <th>1111</th>\n",
       "      <td>HEART_RATE_MEAN_begin</td>\n",
       "      <td>HEART_RATE_MEDIAN_begin</td>\n",
       "      <td>0.993496</td>\n",
       "    </tr>\n",
       "    <tr>\n",
       "      <th>371</th>\n",
       "      <td>BLOODPRESSURE_SISTOLIC_MEAN_begin</td>\n",
       "      <td>BLOODPRESSURE_SISTOLIC_MEDIAN_begin</td>\n",
       "      <td>0.993123</td>\n",
       "    </tr>\n",
       "    <tr>\n",
       "      <th>4441</th>\n",
       "      <td>RESPIRATORY_RATE_DIFF_end</td>\n",
       "      <td>RESPIRATORY_RATE_DIFF_REL_end</td>\n",
       "      <td>0.987923</td>\n",
       "    </tr>\n",
       "    <tr>\n",
       "      <th>...</th>\n",
       "      <td>...</td>\n",
       "      <td>...</td>\n",
       "      <td>...</td>\n",
       "    </tr>\n",
       "    <tr>\n",
       "      <th>1528</th>\n",
       "      <td>OXYGEN_SATURATION_DIFF_begin</td>\n",
       "      <td>AGE_ABOVE65_1</td>\n",
       "      <td>0.000237</td>\n",
       "    </tr>\n",
       "    <tr>\n",
       "      <th>374</th>\n",
       "      <td>BLOODPRESSURE_SISTOLIC_MEAN_begin</td>\n",
       "      <td>DISEASE GROUPING 2_begin</td>\n",
       "      <td>0.000236</td>\n",
       "    </tr>\n",
       "    <tr>\n",
       "      <th>1509</th>\n",
       "      <td>OXYGEN_SATURATION_DIFF_begin</td>\n",
       "      <td>HEART_RATE_MEAN_end</td>\n",
       "      <td>0.000175</td>\n",
       "    </tr>\n",
       "    <tr>\n",
       "      <th>1967</th>\n",
       "      <td>RESPIRATORY_RATE_DIFF_begin</td>\n",
       "      <td>GENDER_1</td>\n",
       "      <td>0.000126</td>\n",
       "    </tr>\n",
       "    <tr>\n",
       "      <th>3854</th>\n",
       "      <td>IMMUNOCOMPROMISED_end</td>\n",
       "      <td>OXYGEN_SATURATION_MEDIAN_end</td>\n",
       "      <td>0.000079</td>\n",
       "    </tr>\n",
       "  </tbody>\n",
       "</table>\n",
       "<p>2555 rows × 3 columns</p>\n",
       "</div>"
      ],
      "text/plain": [
       "                              Feature_1                            Feature_2  \\\n",
       "1481       OXYGEN_SATURATION_DIFF_begin     OXYGEN_SATURATION_DIFF_REL_begin   \n",
       "3997         OXYGEN_SATURATION_DIFF_end       OXYGEN_SATURATION_DIFF_REL_end   \n",
       "1111              HEART_RATE_MEAN_begin              HEART_RATE_MEDIAN_begin   \n",
       "371   BLOODPRESSURE_SISTOLIC_MEAN_begin  BLOODPRESSURE_SISTOLIC_MEDIAN_begin   \n",
       "4441          RESPIRATORY_RATE_DIFF_end        RESPIRATORY_RATE_DIFF_REL_end   \n",
       "...                                 ...                                  ...   \n",
       "1528       OXYGEN_SATURATION_DIFF_begin                        AGE_ABOVE65_1   \n",
       "374   BLOODPRESSURE_SISTOLIC_MEAN_begin             DISEASE GROUPING 2_begin   \n",
       "1509       OXYGEN_SATURATION_DIFF_begin                  HEART_RATE_MEAN_end   \n",
       "1967        RESPIRATORY_RATE_DIFF_begin                             GENDER_1   \n",
       "3854              IMMUNOCOMPROMISED_end         OXYGEN_SATURATION_MEDIAN_end   \n",
       "\n",
       "      Pearson_Corr  \n",
       "1481      0.999805  \n",
       "3997      0.999786  \n",
       "1111      0.993496  \n",
       "371       0.993123  \n",
       "4441      0.987923  \n",
       "...            ...  \n",
       "1528      0.000237  \n",
       "374       0.000236  \n",
       "1509      0.000175  \n",
       "1967      0.000126  \n",
       "3854      0.000079  \n",
       "\n",
       "[2555 rows x 3 columns]"
      ]
     },
     "execution_count": 38,
     "metadata": {},
     "output_type": "execute_result"
    }
   ],
   "source": [
    "#Rank feature correlations\n",
    "data_2_corr = rank_correlation_score(data_2)\n",
    "data_2_corr = data_2_corr[data_2_corr['Pearson_Corr'] < 1]\n",
    "data_2_corr"
   ]
  },
  {
   "cell_type": "markdown",
   "execution_count": null,
   "metadata": {
    "papermill": {
     "duration": 0.024629,
     "end_time": "2020-08-12T00:14:44.732074",
     "exception": false,
     "start_time": "2020-08-12T00:14:44.707445",
     "status": "completed"
    },
    "tags": []
   },
   "source": [
    "Once again, we see some features are extremely correlated. Let's look deeper at these cases."
   ]
  },
  {
   "cell_type": "code",
   "execution_count": 39,
   "metadata": {
    "execution": {
     "iopub.execute_input": "2020-08-12T00:14:44.798168Z",
     "iopub.status.busy": "2020-08-12T00:14:44.797330Z",
     "iopub.status.idle": "2020-08-12T00:14:44.802119Z",
     "shell.execute_reply": "2020-08-12T00:14:44.801490Z"
    },
    "papermill": {
     "duration": 0.044568,
     "end_time": "2020-08-12T00:14:44.802261",
     "exception": false,
     "start_time": "2020-08-12T00:14:44.757693",
     "status": "completed"
    },
    "tags": []
   },
   "outputs": [
    {
     "data": {
      "text/html": [
       "<div>\n",
       "<style scoped>\n",
       "    .dataframe tbody tr th:only-of-type {\n",
       "        vertical-align: middle;\n",
       "    }\n",
       "\n",
       "    .dataframe tbody tr th {\n",
       "        vertical-align: top;\n",
       "    }\n",
       "\n",
       "    .dataframe thead th {\n",
       "        text-align: right;\n",
       "    }\n",
       "</style>\n",
       "<table border=\"1\" class=\"dataframe\">\n",
       "  <thead>\n",
       "    <tr style=\"text-align: right;\">\n",
       "      <th></th>\n",
       "      <th>Feature_1</th>\n",
       "      <th>Feature_2</th>\n",
       "      <th>Pearson_Corr</th>\n",
       "    </tr>\n",
       "  </thead>\n",
       "  <tbody>\n",
       "    <tr>\n",
       "      <th>1481</th>\n",
       "      <td>OXYGEN_SATURATION_DIFF_begin</td>\n",
       "      <td>OXYGEN_SATURATION_DIFF_REL_begin</td>\n",
       "      <td>0.999805</td>\n",
       "    </tr>\n",
       "    <tr>\n",
       "      <th>3997</th>\n",
       "      <td>OXYGEN_SATURATION_DIFF_end</td>\n",
       "      <td>OXYGEN_SATURATION_DIFF_REL_end</td>\n",
       "      <td>0.999786</td>\n",
       "    </tr>\n",
       "    <tr>\n",
       "      <th>1111</th>\n",
       "      <td>HEART_RATE_MEAN_begin</td>\n",
       "      <td>HEART_RATE_MEDIAN_begin</td>\n",
       "      <td>0.993496</td>\n",
       "    </tr>\n",
       "    <tr>\n",
       "      <th>371</th>\n",
       "      <td>BLOODPRESSURE_SISTOLIC_MEAN_begin</td>\n",
       "      <td>BLOODPRESSURE_SISTOLIC_MEDIAN_begin</td>\n",
       "      <td>0.993123</td>\n",
       "    </tr>\n",
       "    <tr>\n",
       "      <th>4441</th>\n",
       "      <td>RESPIRATORY_RATE_DIFF_end</td>\n",
       "      <td>RESPIRATORY_RATE_DIFF_REL_end</td>\n",
       "      <td>0.987923</td>\n",
       "    </tr>\n",
       "    <tr>\n",
       "      <th>1925</th>\n",
       "      <td>RESPIRATORY_RATE_DIFF_begin</td>\n",
       "      <td>RESPIRATORY_RATE_DIFF_REL_begin</td>\n",
       "      <td>0.987618</td>\n",
       "    </tr>\n",
       "    <tr>\n",
       "      <th>2369</th>\n",
       "      <td>TEMPERATURE_MEAN_begin</td>\n",
       "      <td>TEMPERATURE_MEDIAN_begin</td>\n",
       "      <td>0.986740</td>\n",
       "    </tr>\n",
       "    <tr>\n",
       "      <th>3627</th>\n",
       "      <td>HEART_RATE_MEAN_end</td>\n",
       "      <td>HEART_RATE_MEDIAN_end</td>\n",
       "      <td>0.986183</td>\n",
       "    </tr>\n",
       "    <tr>\n",
       "      <th>75</th>\n",
       "      <td>BLOODPRESSURE_DIASTOLIC_MEAN_begin</td>\n",
       "      <td>BLOODPRESSURE_DIASTOLIC_MEDIAN_begin</td>\n",
       "      <td>0.985853</td>\n",
       "    </tr>\n",
       "    <tr>\n",
       "      <th>4074</th>\n",
       "      <td>OXYGEN_SATURATION_DIFF_REL_end</td>\n",
       "      <td>OXYGEN_SATURATION_MIN_end</td>\n",
       "      <td>0.985579</td>\n",
       "    </tr>\n",
       "    <tr>\n",
       "      <th>4001</th>\n",
       "      <td>OXYGEN_SATURATION_DIFF_end</td>\n",
       "      <td>OXYGEN_SATURATION_MIN_end</td>\n",
       "      <td>0.985330</td>\n",
       "    </tr>\n",
       "    <tr>\n",
       "      <th>1703</th>\n",
       "      <td>OXYGEN_SATURATION_MEAN_begin</td>\n",
       "      <td>OXYGEN_SATURATION_MEDIAN_begin</td>\n",
       "      <td>0.982143</td>\n",
       "    </tr>\n",
       "    <tr>\n",
       "      <th>2887</th>\n",
       "      <td>BLOODPRESSURE_SISTOLIC_MEAN_end</td>\n",
       "      <td>BLOODPRESSURE_SISTOLIC_MEDIAN_end</td>\n",
       "      <td>0.981987</td>\n",
       "    </tr>\n",
       "    <tr>\n",
       "      <th>2147</th>\n",
       "      <td>RESPIRATORY_RATE_MEAN_begin</td>\n",
       "      <td>RESPIRATORY_RATE_MEDIAN_begin</td>\n",
       "      <td>0.977079</td>\n",
       "    </tr>\n",
       "    <tr>\n",
       "      <th>4885</th>\n",
       "      <td>TEMPERATURE_MEAN_end</td>\n",
       "      <td>TEMPERATURE_MEDIAN_end</td>\n",
       "      <td>0.976943</td>\n",
       "    </tr>\n",
       "    <tr>\n",
       "      <th>4663</th>\n",
       "      <td>RESPIRATORY_RATE_MEAN_end</td>\n",
       "      <td>RESPIRATORY_RATE_MEDIAN_end</td>\n",
       "      <td>0.974316</td>\n",
       "    </tr>\n",
       "    <tr>\n",
       "      <th>2591</th>\n",
       "      <td>BLOODPRESSURE_DIASTOLIC_MEAN_end</td>\n",
       "      <td>BLOODPRESSURE_DIASTOLIC_MEDIAN_end</td>\n",
       "      <td>0.972890</td>\n",
       "    </tr>\n",
       "    <tr>\n",
       "      <th>1366</th>\n",
       "      <td>IMMUNOCOMPROMISED_begin</td>\n",
       "      <td>IMMUNOCOMPROMISED_end</td>\n",
       "      <td>0.966490</td>\n",
       "    </tr>\n",
       "    <tr>\n",
       "      <th>922</th>\n",
       "      <td>DISEASE GROUPING 5_begin</td>\n",
       "      <td>DISEASE GROUPING 5_end</td>\n",
       "      <td>0.956747</td>\n",
       "    </tr>\n",
       "    <tr>\n",
       "      <th>700</th>\n",
       "      <td>DISEASE GROUPING 2_begin</td>\n",
       "      <td>DISEASE GROUPING 2_end</td>\n",
       "      <td>0.933942</td>\n",
       "    </tr>\n",
       "    <tr>\n",
       "      <th>774</th>\n",
       "      <td>DISEASE GROUPING 3_begin</td>\n",
       "      <td>DISEASE GROUPING 3_end</td>\n",
       "      <td>0.932946</td>\n",
       "    </tr>\n",
       "  </tbody>\n",
       "</table>\n",
       "</div>"
      ],
      "text/plain": [
       "                               Feature_1  \\\n",
       "1481        OXYGEN_SATURATION_DIFF_begin   \n",
       "3997          OXYGEN_SATURATION_DIFF_end   \n",
       "1111               HEART_RATE_MEAN_begin   \n",
       "371    BLOODPRESSURE_SISTOLIC_MEAN_begin   \n",
       "4441           RESPIRATORY_RATE_DIFF_end   \n",
       "1925         RESPIRATORY_RATE_DIFF_begin   \n",
       "2369              TEMPERATURE_MEAN_begin   \n",
       "3627                 HEART_RATE_MEAN_end   \n",
       "75    BLOODPRESSURE_DIASTOLIC_MEAN_begin   \n",
       "4074      OXYGEN_SATURATION_DIFF_REL_end   \n",
       "4001          OXYGEN_SATURATION_DIFF_end   \n",
       "1703        OXYGEN_SATURATION_MEAN_begin   \n",
       "2887     BLOODPRESSURE_SISTOLIC_MEAN_end   \n",
       "2147         RESPIRATORY_RATE_MEAN_begin   \n",
       "4885                TEMPERATURE_MEAN_end   \n",
       "4663           RESPIRATORY_RATE_MEAN_end   \n",
       "2591    BLOODPRESSURE_DIASTOLIC_MEAN_end   \n",
       "1366             IMMUNOCOMPROMISED_begin   \n",
       "922             DISEASE GROUPING 5_begin   \n",
       "700             DISEASE GROUPING 2_begin   \n",
       "774             DISEASE GROUPING 3_begin   \n",
       "\n",
       "                                 Feature_2  Pearson_Corr  \n",
       "1481      OXYGEN_SATURATION_DIFF_REL_begin      0.999805  \n",
       "3997        OXYGEN_SATURATION_DIFF_REL_end      0.999786  \n",
       "1111               HEART_RATE_MEDIAN_begin      0.993496  \n",
       "371    BLOODPRESSURE_SISTOLIC_MEDIAN_begin      0.993123  \n",
       "4441         RESPIRATORY_RATE_DIFF_REL_end      0.987923  \n",
       "1925       RESPIRATORY_RATE_DIFF_REL_begin      0.987618  \n",
       "2369              TEMPERATURE_MEDIAN_begin      0.986740  \n",
       "3627                 HEART_RATE_MEDIAN_end      0.986183  \n",
       "75    BLOODPRESSURE_DIASTOLIC_MEDIAN_begin      0.985853  \n",
       "4074             OXYGEN_SATURATION_MIN_end      0.985579  \n",
       "4001             OXYGEN_SATURATION_MIN_end      0.985330  \n",
       "1703        OXYGEN_SATURATION_MEDIAN_begin      0.982143  \n",
       "2887     BLOODPRESSURE_SISTOLIC_MEDIAN_end      0.981987  \n",
       "2147         RESPIRATORY_RATE_MEDIAN_begin      0.977079  \n",
       "4885                TEMPERATURE_MEDIAN_end      0.976943  \n",
       "4663           RESPIRATORY_RATE_MEDIAN_end      0.974316  \n",
       "2591    BLOODPRESSURE_DIASTOLIC_MEDIAN_end      0.972890  \n",
       "1366                 IMMUNOCOMPROMISED_end      0.966490  \n",
       "922                 DISEASE GROUPING 5_end      0.956747  \n",
       "700                 DISEASE GROUPING 2_end      0.933942  \n",
       "774                 DISEASE GROUPING 3_end      0.932946  "
      ]
     },
     "execution_count": 39,
     "metadata": {},
     "output_type": "execute_result"
    }
   ],
   "source": [
    "data_2_corr[data_2_corr['Pearson_Corr'] >= 0.9]"
   ]
  },
  {
   "cell_type": "markdown",
   "execution_count": null,
   "metadata": {
    "papermill": {
     "duration": 0.025233,
     "end_time": "2020-08-12T00:14:44.853333",
     "exception": false,
     "start_time": "2020-08-12T00:14:44.828100",
     "status": "completed"
    },
    "tags": []
   },
   "source": [
    "Mostly, these stronger correlations can be grouped in two types:\n",
    "\n",
    "1. *Begin* features strongly correlated to *End* features for the same measurements (Time relevant correlations).\n",
    "2. Features correlated at the same time level (Time irrelevant correlations).\n",
    "\n",
    "Next, we are looking at these two groups and determine whether any feature engineering or selection can be performed there."
   ]
  },
  {
   "cell_type": "markdown",
   "execution_count": null,
   "metadata": {
    "papermill": {
     "duration": 0.02488,
     "end_time": "2020-08-12T00:14:44.903742",
     "exception": false,
     "start_time": "2020-08-12T00:14:44.878862",
     "status": "completed"
    },
    "tags": []
   },
   "source": [
    "### 4.2.1. Time Relevant Correlations"
   ]
  },
  {
   "cell_type": "code",
   "execution_count": 40,
   "metadata": {
    "execution": {
     "iopub.execute_input": "2020-08-12T00:14:44.966268Z",
     "iopub.status.busy": "2020-08-12T00:14:44.965472Z",
     "iopub.status.idle": "2020-08-12T00:14:44.980180Z",
     "shell.execute_reply": "2020-08-12T00:14:44.979524Z"
    },
    "papermill": {
     "duration": 0.051087,
     "end_time": "2020-08-12T00:14:44.980300",
     "exception": false,
     "start_time": "2020-08-12T00:14:44.929213",
     "status": "completed"
    },
    "tags": []
   },
   "outputs": [
    {
     "data": {
      "text/html": [
       "<div>\n",
       "<style scoped>\n",
       "    .dataframe tbody tr th:only-of-type {\n",
       "        vertical-align: middle;\n",
       "    }\n",
       "\n",
       "    .dataframe tbody tr th {\n",
       "        vertical-align: top;\n",
       "    }\n",
       "\n",
       "    .dataframe thead th {\n",
       "        text-align: right;\n",
       "    }\n",
       "</style>\n",
       "<table border=\"1\" class=\"dataframe\">\n",
       "  <thead>\n",
       "    <tr style=\"text-align: right;\">\n",
       "      <th></th>\n",
       "      <th>Feature_1</th>\n",
       "      <th>Feature_2</th>\n",
       "      <th>Pearson_Corr</th>\n",
       "    </tr>\n",
       "  </thead>\n",
       "  <tbody>\n",
       "    <tr>\n",
       "      <th>1366</th>\n",
       "      <td>IMMUNOCOMPROMISED_begin</td>\n",
       "      <td>IMMUNOCOMPROMISED_end</td>\n",
       "      <td>0.966490</td>\n",
       "    </tr>\n",
       "    <tr>\n",
       "      <th>922</th>\n",
       "      <td>DISEASE GROUPING 5_begin</td>\n",
       "      <td>DISEASE GROUPING 5_end</td>\n",
       "      <td>0.956747</td>\n",
       "    </tr>\n",
       "    <tr>\n",
       "      <th>700</th>\n",
       "      <td>DISEASE GROUPING 2_begin</td>\n",
       "      <td>DISEASE GROUPING 2_end</td>\n",
       "      <td>0.933942</td>\n",
       "    </tr>\n",
       "    <tr>\n",
       "      <th>774</th>\n",
       "      <td>DISEASE GROUPING 3_begin</td>\n",
       "      <td>DISEASE GROUPING 3_end</td>\n",
       "      <td>0.932946</td>\n",
       "    </tr>\n",
       "  </tbody>\n",
       "</table>\n",
       "</div>"
      ],
      "text/plain": [
       "                     Feature_1               Feature_2  Pearson_Corr\n",
       "1366   IMMUNOCOMPROMISED_begin   IMMUNOCOMPROMISED_end      0.966490\n",
       "922   DISEASE GROUPING 5_begin  DISEASE GROUPING 5_end      0.956747\n",
       "700   DISEASE GROUPING 2_begin  DISEASE GROUPING 2_end      0.933942\n",
       "774   DISEASE GROUPING 3_begin  DISEASE GROUPING 3_end      0.932946"
      ]
     },
     "execution_count": 40,
     "metadata": {},
     "output_type": "execute_result"
    }
   ],
   "source": [
    "data_2_corr['Feature_1_Type'] = [x.split('_')[-1] for x in data_2_corr['Feature_1']]\n",
    "data_2_corr['Feature_2_Type'] = [x.split('_')[-1] for x in data_2_corr['Feature_2']]\n",
    "\n",
    "time_corr = data_2_corr[data_2_corr['Pearson_Corr'] >= 0.9]\n",
    "time_corr = time_corr[data_2_corr['Feature_1_Type'] != data_2_corr['Feature_2_Type']]\n",
    "\n",
    "time_corr.drop(columns = ['Feature_1_Type', 'Feature_2_Type'])"
   ]
  },
  {
   "cell_type": "markdown",
   "execution_count": null,
   "metadata": {
    "papermill": {
     "duration": 0.025805,
     "end_time": "2020-08-12T00:14:45.031829",
     "exception": false,
     "start_time": "2020-08-12T00:14:45.006024",
     "status": "completed"
    },
    "tags": []
   },
   "source": [
    "Looking at the above relationships, all the features in question are actually binary. The Pearson correlation evaluation, in that case, is not even the proper test to be applied. However, these results probably mean the feature value does not change from one time window to the other. Let's take the last feature, *DISEASE GROUPING 3* as an example to see if this is actually true."
   ]
  },
  {
   "cell_type": "code",
   "execution_count": 41,
   "metadata": {
    "execution": {
     "iopub.execute_input": "2020-08-12T00:14:45.089701Z",
     "iopub.status.busy": "2020-08-12T00:14:45.088892Z",
     "iopub.status.idle": "2020-08-12T00:14:45.092611Z",
     "shell.execute_reply": "2020-08-12T00:14:45.093062Z"
    },
    "papermill": {
     "duration": 0.035937,
     "end_time": "2020-08-12T00:14:45.093256",
     "exception": false,
     "start_time": "2020-08-12T00:14:45.057319",
     "status": "completed"
    },
    "tags": []
   },
   "outputs": [
    {
     "name": "stdout",
     "output_type": "stream",
     "text": [
      "Percentage of records in which DESEASE GROUPING 3 value does not change: 98.8%\n"
     ]
    }
   ],
   "source": [
    "print('Percentage of records in which DESEASE GROUPING 3 value does not change: %2.1f%%' \\\n",
    "    %(100*len(data_2[data_2['DISEASE GROUPING 3_begin'] == data_2['DISEASE GROUPING 3_end']]) / len(data_2)))"
   ]
  },
  {
   "cell_type": "markdown",
   "execution_count": null,
   "metadata": {
    "papermill": {
     "duration": 0.025146,
     "end_time": "2020-08-12T00:14:45.144340",
     "exception": false,
     "start_time": "2020-08-12T00:14:45.119194",
     "status": "completed"
    },
    "tags": []
   },
   "source": [
    "As we can see, even for the least strong correlation value, the attribute remains mostly unchanged for the two time levels in question. This raises an interesting possibility: could we use the variable change as feature? Let's see if the possible new attribute correlates to the target in any level. "
   ]
  },
  {
   "cell_type": "code",
   "execution_count": 42,
   "metadata": {
    "execution": {
     "iopub.execute_input": "2020-08-12T00:14:45.204631Z",
     "iopub.status.busy": "2020-08-12T00:14:45.203787Z",
     "iopub.status.idle": "2020-08-12T00:14:45.206719Z",
     "shell.execute_reply": "2020-08-12T00:14:45.206050Z"
    },
    "papermill": {
     "duration": 0.036787,
     "end_time": "2020-08-12T00:14:45.206841",
     "exception": false,
     "start_time": "2020-08-12T00:14:45.170054",
     "status": "completed"
    },
    "tags": []
   },
   "outputs": [],
   "source": [
    "#Define function to compute how the feature change relates to the target\n",
    "def compute_likelyhood(data, col, target):\n",
    "    begin_col = col + '_begin'\n",
    "    end_col = col + '_end'\n",
    "    \n",
    "    change_data = data[data[begin_col] != data[end_col]]\n",
    "    no_change_data = data[data[begin_col] == data[end_col]]\n",
    "        \n",
    "    change_likelyhood = len(change_data[change_data[target] == 1]) / len(change_data)\n",
    "    no_change_likelyhood = len(no_change_data[no_change_data[target] == 1]) / len(no_change_data)\n",
    "    \n",
    "    print('Success probability on change: %2.1f%%' %(100 * change_likelyhood))\n",
    "    print('Success probability on no change: %2.1f%%'%(100 * no_change_likelyhood))"
   ]
  },
  {
   "cell_type": "code",
   "execution_count": 43,
   "metadata": {
    "execution": {
     "iopub.execute_input": "2020-08-12T00:14:45.269411Z",
     "iopub.status.busy": "2020-08-12T00:14:45.268677Z",
     "iopub.status.idle": "2020-08-12T00:14:45.272980Z",
     "shell.execute_reply": "2020-08-12T00:14:45.272431Z"
    },
    "papermill": {
     "duration": 0.039486,
     "end_time": "2020-08-12T00:14:45.273099",
     "exception": false,
     "start_time": "2020-08-12T00:14:45.233613",
     "status": "completed"
    },
    "tags": []
   },
   "outputs": [
    {
     "name": "stdout",
     "output_type": "stream",
     "text": [
      "Success probability on change: 0.0%\n",
      "Success probability on no change: 42.4%\n"
     ]
    }
   ],
   "source": [
    "compute_likelyhood(data_2, 'DISEASE GROUPING 3', 'ICU')"
   ]
  },
  {
   "cell_type": "markdown",
   "execution_count": null,
   "metadata": {
    "papermill": {
     "duration": 0.0263,
     "end_time": "2020-08-12T00:14:45.326195",
     "exception": false,
     "start_time": "2020-08-12T00:14:45.299895",
     "status": "completed"
    },
    "tags": []
   },
   "source": [
    "The data shows promissing results. There is no record of patient going to the ICU while having it *DISEASE GROUPING 3* value change over time. However, there is one issue that we must consider. For this very small dataset, the 1.2% percent of the records in which this change does occur represent solely 4 patients. You don't have to be an expert to see it is not very smart to make any decisions based on such a small sample size. These occurances, for all we know, could very well be the result of wrong initial assessment of the patient condition or previous diseases.\n",
    "\n",
    "Given this, our choice will be to remove the *begin* features for the strong correlations we highlighed. Before we do it, though, we should check the other binary features, specially the remaining *DISEASE GROUPINGS*."
   ]
  },
  {
   "cell_type": "code",
   "execution_count": 44,
   "metadata": {
    "execution": {
     "iopub.execute_input": "2020-08-12T00:14:45.385525Z",
     "iopub.status.busy": "2020-08-12T00:14:45.384803Z",
     "iopub.status.idle": "2020-08-12T00:14:45.388948Z",
     "shell.execute_reply": "2020-08-12T00:14:45.388346Z"
    },
    "papermill": {
     "duration": 0.0365,
     "end_time": "2020-08-12T00:14:45.389064",
     "exception": false,
     "start_time": "2020-08-12T00:14:45.352564",
     "status": "completed"
    },
    "tags": []
   },
   "outputs": [
    {
     "data": {
      "text/plain": [
       "array([0., 1.])"
      ]
     },
     "execution_count": 44,
     "metadata": {},
     "output_type": "execute_result"
    }
   ],
   "source": [
    "data_2['DISEASE GROUPING 3_begin'].unique()"
   ]
  },
  {
   "cell_type": "code",
   "execution_count": 45,
   "metadata": {
    "execution": {
     "iopub.execute_input": "2020-08-12T00:14:45.462267Z",
     "iopub.status.busy": "2020-08-12T00:14:45.460731Z",
     "iopub.status.idle": "2020-08-12T00:14:45.484296Z",
     "shell.execute_reply": "2020-08-12T00:14:45.483755Z"
    },
    "papermill": {
     "duration": 0.068722,
     "end_time": "2020-08-12T00:14:45.484431",
     "exception": false,
     "start_time": "2020-08-12T00:14:45.415709",
     "status": "completed"
    },
    "tags": []
   },
   "outputs": [
    {
     "data": {
      "text/html": [
       "<div>\n",
       "<style scoped>\n",
       "    .dataframe tbody tr th:only-of-type {\n",
       "        vertical-align: middle;\n",
       "    }\n",
       "\n",
       "    .dataframe tbody tr th {\n",
       "        vertical-align: top;\n",
       "    }\n",
       "\n",
       "    .dataframe thead th {\n",
       "        text-align: right;\n",
       "    }\n",
       "</style>\n",
       "<table border=\"1\" class=\"dataframe\">\n",
       "  <thead>\n",
       "    <tr style=\"text-align: right;\">\n",
       "      <th></th>\n",
       "      <th>Feature_1</th>\n",
       "      <th>Feature_2</th>\n",
       "      <th>Pearson_Corr</th>\n",
       "      <th>Feature_1_Type</th>\n",
       "      <th>Feature_2_Type</th>\n",
       "    </tr>\n",
       "  </thead>\n",
       "  <tbody>\n",
       "    <tr>\n",
       "      <th>1366</th>\n",
       "      <td>IMMUNOCOMPROMISED_begin</td>\n",
       "      <td>IMMUNOCOMPROMISED_end</td>\n",
       "      <td>0.966490</td>\n",
       "      <td>IMMUNOCOMPROMISED</td>\n",
       "      <td>IMMUNOCOMPROMISED</td>\n",
       "    </tr>\n",
       "    <tr>\n",
       "      <th>922</th>\n",
       "      <td>DISEASE GROUPING 5_begin</td>\n",
       "      <td>DISEASE GROUPING 5_end</td>\n",
       "      <td>0.956747</td>\n",
       "      <td>DISEASE GROUPING 5</td>\n",
       "      <td>DISEASE GROUPING 5</td>\n",
       "    </tr>\n",
       "    <tr>\n",
       "      <th>700</th>\n",
       "      <td>DISEASE GROUPING 2_begin</td>\n",
       "      <td>DISEASE GROUPING 2_end</td>\n",
       "      <td>0.933942</td>\n",
       "      <td>DISEASE GROUPING 2</td>\n",
       "      <td>DISEASE GROUPING 2</td>\n",
       "    </tr>\n",
       "    <tr>\n",
       "      <th>774</th>\n",
       "      <td>DISEASE GROUPING 3_begin</td>\n",
       "      <td>DISEASE GROUPING 3_end</td>\n",
       "      <td>0.932946</td>\n",
       "      <td>DISEASE GROUPING 3</td>\n",
       "      <td>DISEASE GROUPING 3</td>\n",
       "    </tr>\n",
       "    <tr>\n",
       "      <th>996</th>\n",
       "      <td>DISEASE GROUPING 6_begin</td>\n",
       "      <td>DISEASE GROUPING 6_end</td>\n",
       "      <td>0.882772</td>\n",
       "      <td>DISEASE GROUPING 6</td>\n",
       "      <td>DISEASE GROUPING 6</td>\n",
       "    </tr>\n",
       "    <tr>\n",
       "      <th>626</th>\n",
       "      <td>DISEASE GROUPING 1_begin</td>\n",
       "      <td>DISEASE GROUPING 1_end</td>\n",
       "      <td>0.863576</td>\n",
       "      <td>DISEASE GROUPING 1</td>\n",
       "      <td>DISEASE GROUPING 1</td>\n",
       "    </tr>\n",
       "    <tr>\n",
       "      <th>1440</th>\n",
       "      <td>OTHER_begin</td>\n",
       "      <td>OTHER_end</td>\n",
       "      <td>0.323649</td>\n",
       "      <td>OTHER</td>\n",
       "      <td>OTHER</td>\n",
       "    </tr>\n",
       "  </tbody>\n",
       "</table>\n",
       "</div>"
      ],
      "text/plain": [
       "                     Feature_1               Feature_2  Pearson_Corr  \\\n",
       "1366   IMMUNOCOMPROMISED_begin   IMMUNOCOMPROMISED_end      0.966490   \n",
       "922   DISEASE GROUPING 5_begin  DISEASE GROUPING 5_end      0.956747   \n",
       "700   DISEASE GROUPING 2_begin  DISEASE GROUPING 2_end      0.933942   \n",
       "774   DISEASE GROUPING 3_begin  DISEASE GROUPING 3_end      0.932946   \n",
       "996   DISEASE GROUPING 6_begin  DISEASE GROUPING 6_end      0.882772   \n",
       "626   DISEASE GROUPING 1_begin  DISEASE GROUPING 1_end      0.863576   \n",
       "1440               OTHER_begin               OTHER_end      0.323649   \n",
       "\n",
       "          Feature_1_Type      Feature_2_Type  \n",
       "1366   IMMUNOCOMPROMISED   IMMUNOCOMPROMISED  \n",
       "922   DISEASE GROUPING 5  DISEASE GROUPING 5  \n",
       "700   DISEASE GROUPING 2  DISEASE GROUPING 2  \n",
       "774   DISEASE GROUPING 3  DISEASE GROUPING 3  \n",
       "996   DISEASE GROUPING 6  DISEASE GROUPING 6  \n",
       "626   DISEASE GROUPING 1  DISEASE GROUPING 1  \n",
       "1440               OTHER               OTHER  "
      ]
     },
     "execution_count": 45,
     "metadata": {},
     "output_type": "execute_result"
    }
   ],
   "source": [
    "binary_feature_groups = np.unique(['_'.join(x.split('_')[:-1]) for x in data_2.columns.values \n",
    "                                   if len(data_2[x].unique()) == 2], return_counts = True)\n",
    "binary_feature_groups = [x for x,y  in zip(binary_feature_groups[0], binary_feature_groups[1]) if y > 1]\n",
    "\n",
    "#Selected desired correlations\n",
    "binary_feat_time_corr = data_2_corr[data_2_corr['Feature_1_Type'] != data_2_corr['Feature_2_Type']]\n",
    "binary_feat_time_corr['Feature_1_Type'] = ['_'.join(x.split('_')[:-1]) \n",
    "                                           for x in binary_feat_time_corr['Feature_1']]\n",
    "binary_feat_time_corr['Feature_2_Type'] = ['_'.join(x.split('_')[:-1]) \n",
    "                                           for x in binary_feat_time_corr['Feature_2']]\n",
    "\n",
    "binary_feat_time_corr = binary_feat_time_corr[\n",
    "    binary_feat_time_corr['Feature_1_Type'] == binary_feat_time_corr['Feature_2_Type']]\n",
    "binary_feat_time_corr = binary_feat_time_corr[binary_feat_time_corr['Feature_1_Type'].isin(binary_feature_groups)]\n",
    "binary_feat_time_corr"
   ]
  },
  {
   "cell_type": "markdown",
   "execution_count": null,
   "metadata": {
    "papermill": {
     "duration": 0.02653,
     "end_time": "2020-08-12T00:14:45.537896",
     "exception": false,
     "start_time": "2020-08-12T00:14:45.511366",
     "status": "completed"
    },
    "tags": []
   },
   "source": [
    "Besides the four previous correlations, there another three of the time variant type involving binary features. The last one, for the *OTHER* feature, is not relevant in this context, since its value is much smaller compared to the other ones. This leaves us with two extra relationship, both of which present very large correlation scores. We can adopt the procedure mentioned above: consider the *end* feature as the correct assessment and remove the *begin* feature."
   ]
  },
  {
   "cell_type": "code",
   "execution_count": 46,
   "metadata": {
    "execution": {
     "iopub.execute_input": "2020-08-12T00:14:45.622552Z",
     "iopub.status.busy": "2020-08-12T00:14:45.621601Z",
     "iopub.status.idle": "2020-08-12T00:14:45.626430Z",
     "shell.execute_reply": "2020-08-12T00:14:45.626889Z"
    },
    "papermill": {
     "duration": 0.062562,
     "end_time": "2020-08-12T00:14:45.627045",
     "exception": false,
     "start_time": "2020-08-12T00:14:45.564483",
     "status": "completed"
    },
    "tags": []
   },
   "outputs": [
    {
     "data": {
      "text/html": [
       "<div>\n",
       "<style scoped>\n",
       "    .dataframe tbody tr th:only-of-type {\n",
       "        vertical-align: middle;\n",
       "    }\n",
       "\n",
       "    .dataframe tbody tr th {\n",
       "        vertical-align: top;\n",
       "    }\n",
       "\n",
       "    .dataframe thead th {\n",
       "        text-align: right;\n",
       "    }\n",
       "</style>\n",
       "<table border=\"1\" class=\"dataframe\">\n",
       "  <thead>\n",
       "    <tr style=\"text-align: right;\">\n",
       "      <th></th>\n",
       "      <th>BLOODPRESSURE_DIASTOLIC_MAX_begin</th>\n",
       "      <th>BLOODPRESSURE_DIASTOLIC_MEAN_begin</th>\n",
       "      <th>BLOODPRESSURE_DIASTOLIC_MEDIAN_begin</th>\n",
       "      <th>BLOODPRESSURE_DIASTOLIC_MIN_begin</th>\n",
       "      <th>BLOODPRESSURE_SISTOLIC_MAX_begin</th>\n",
       "      <th>BLOODPRESSURE_SISTOLIC_MEAN_begin</th>\n",
       "      <th>BLOODPRESSURE_SISTOLIC_MEDIAN_begin</th>\n",
       "      <th>BLOODPRESSURE_SISTOLIC_MIN_begin</th>\n",
       "      <th>DISEASE GROUPING 4_begin</th>\n",
       "      <th>HEART_RATE_MAX_begin</th>\n",
       "      <th>...</th>\n",
       "      <th>RESPIRATORY_RATE_MEDIAN_end</th>\n",
       "      <th>TEMPERATURE_MAX_end</th>\n",
       "      <th>TEMPERATURE_MEAN_end</th>\n",
       "      <th>TEMPERATURE_MEDIAN_end</th>\n",
       "      <th>AGE_ABOVE65_1</th>\n",
       "      <th>AGE_PERCENTIL_1</th>\n",
       "      <th>GENDER_1</th>\n",
       "      <th>HTN_1</th>\n",
       "      <th>ICU</th>\n",
       "      <th>LAST_WINDOW</th>\n",
       "    </tr>\n",
       "  </thead>\n",
       "  <tbody>\n",
       "    <tr>\n",
       "      <th>14</th>\n",
       "      <td>-0.470085</td>\n",
       "      <td>-0.234568</td>\n",
       "      <td>-0.234568</td>\n",
       "      <td>-0.030928</td>\n",
       "      <td>-0.686486</td>\n",
       "      <td>-0.553846</td>\n",
       "      <td>-0.553846</td>\n",
       "      <td>-0.2625</td>\n",
       "      <td>0.0</td>\n",
       "      <td>-0.716418</td>\n",
       "      <td>...</td>\n",
       "      <td>-0.103448</td>\n",
       "      <td>-0.362319</td>\n",
       "      <td>-0.214286</td>\n",
       "      <td>-0.214286</td>\n",
       "      <td>1</td>\n",
       "      <td>60th</td>\n",
       "      <td>1</td>\n",
       "      <td>0.0</td>\n",
       "      <td>1</td>\n",
       "      <td>2</td>\n",
       "    </tr>\n",
       "    <tr>\n",
       "      <th>18</th>\n",
       "      <td>-0.008547</td>\n",
       "      <td>0.399177</td>\n",
       "      <td>0.382716</td>\n",
       "      <td>0.484536</td>\n",
       "      <td>-0.351351</td>\n",
       "      <td>-0.133333</td>\n",
       "      <td>-0.076923</td>\n",
       "      <td>-0.0125</td>\n",
       "      <td>0.0</td>\n",
       "      <td>-0.253731</td>\n",
       "      <td>...</td>\n",
       "      <td>-0.034483</td>\n",
       "      <td>-0.043478</td>\n",
       "      <td>0.178571</td>\n",
       "      <td>0.178571</td>\n",
       "      <td>0</td>\n",
       "      <td>20th</td>\n",
       "      <td>0</td>\n",
       "      <td>0.0</td>\n",
       "      <td>1</td>\n",
       "      <td>2</td>\n",
       "    </tr>\n",
       "    <tr>\n",
       "      <th>24</th>\n",
       "      <td>-0.589744</td>\n",
       "      <td>-0.407407</td>\n",
       "      <td>-0.407407</td>\n",
       "      <td>-0.175258</td>\n",
       "      <td>-0.664865</td>\n",
       "      <td>-0.523077</td>\n",
       "      <td>-0.523077</td>\n",
       "      <td>-0.2375</td>\n",
       "      <td>0.0</td>\n",
       "      <td>-0.492537</td>\n",
       "      <td>...</td>\n",
       "      <td>-0.586207</td>\n",
       "      <td>-0.014493</td>\n",
       "      <td>0.214286</td>\n",
       "      <td>0.214286</td>\n",
       "      <td>1</td>\n",
       "      <td>80th</td>\n",
       "      <td>1</td>\n",
       "      <td>0.0</td>\n",
       "      <td>1</td>\n",
       "      <td>2</td>\n",
       "    </tr>\n",
       "    <tr>\n",
       "      <th>29</th>\n",
       "      <td>-0.589744</td>\n",
       "      <td>-0.407407</td>\n",
       "      <td>-0.407407</td>\n",
       "      <td>-0.175258</td>\n",
       "      <td>-0.729730</td>\n",
       "      <td>-0.615385</td>\n",
       "      <td>-0.615385</td>\n",
       "      <td>-0.3125</td>\n",
       "      <td>1.0</td>\n",
       "      <td>-0.731343</td>\n",
       "      <td>...</td>\n",
       "      <td>-0.517241</td>\n",
       "      <td>0.188406</td>\n",
       "      <td>0.464286</td>\n",
       "      <td>0.464286</td>\n",
       "      <td>1</td>\n",
       "      <td>70th</td>\n",
       "      <td>0</td>\n",
       "      <td>1.0</td>\n",
       "      <td>1</td>\n",
       "      <td>2</td>\n",
       "    </tr>\n",
       "    <tr>\n",
       "      <th>31</th>\n",
       "      <td>-0.572650</td>\n",
       "      <td>-0.382716</td>\n",
       "      <td>-0.382716</td>\n",
       "      <td>-0.154639</td>\n",
       "      <td>-0.729730</td>\n",
       "      <td>-0.615385</td>\n",
       "      <td>-0.615385</td>\n",
       "      <td>-0.3125</td>\n",
       "      <td>0.0</td>\n",
       "      <td>-0.313433</td>\n",
       "      <td>...</td>\n",
       "      <td>0.172414</td>\n",
       "      <td>-0.275362</td>\n",
       "      <td>-0.107143</td>\n",
       "      <td>-0.107143</td>\n",
       "      <td>1</td>\n",
       "      <td>90th</td>\n",
       "      <td>0</td>\n",
       "      <td>0.0</td>\n",
       "      <td>1</td>\n",
       "      <td>2</td>\n",
       "    </tr>\n",
       "  </tbody>\n",
       "</table>\n",
       "<p>5 rows × 68 columns</p>\n",
       "</div>"
      ],
      "text/plain": [
       "    BLOODPRESSURE_DIASTOLIC_MAX_begin  BLOODPRESSURE_DIASTOLIC_MEAN_begin  \\\n",
       "14                          -0.470085                           -0.234568   \n",
       "18                          -0.008547                            0.399177   \n",
       "24                          -0.589744                           -0.407407   \n",
       "29                          -0.589744                           -0.407407   \n",
       "31                          -0.572650                           -0.382716   \n",
       "\n",
       "    BLOODPRESSURE_DIASTOLIC_MEDIAN_begin  BLOODPRESSURE_DIASTOLIC_MIN_begin  \\\n",
       "14                             -0.234568                          -0.030928   \n",
       "18                              0.382716                           0.484536   \n",
       "24                             -0.407407                          -0.175258   \n",
       "29                             -0.407407                          -0.175258   \n",
       "31                             -0.382716                          -0.154639   \n",
       "\n",
       "    BLOODPRESSURE_SISTOLIC_MAX_begin  BLOODPRESSURE_SISTOLIC_MEAN_begin  \\\n",
       "14                         -0.686486                          -0.553846   \n",
       "18                         -0.351351                          -0.133333   \n",
       "24                         -0.664865                          -0.523077   \n",
       "29                         -0.729730                          -0.615385   \n",
       "31                         -0.729730                          -0.615385   \n",
       "\n",
       "    BLOODPRESSURE_SISTOLIC_MEDIAN_begin  BLOODPRESSURE_SISTOLIC_MIN_begin  \\\n",
       "14                            -0.553846                           -0.2625   \n",
       "18                            -0.076923                           -0.0125   \n",
       "24                            -0.523077                           -0.2375   \n",
       "29                            -0.615385                           -0.3125   \n",
       "31                            -0.615385                           -0.3125   \n",
       "\n",
       "    DISEASE GROUPING 4_begin  HEART_RATE_MAX_begin  ...  \\\n",
       "14                       0.0             -0.716418  ...   \n",
       "18                       0.0             -0.253731  ...   \n",
       "24                       0.0             -0.492537  ...   \n",
       "29                       1.0             -0.731343  ...   \n",
       "31                       0.0             -0.313433  ...   \n",
       "\n",
       "    RESPIRATORY_RATE_MEDIAN_end  TEMPERATURE_MAX_end  TEMPERATURE_MEAN_end  \\\n",
       "14                    -0.103448            -0.362319             -0.214286   \n",
       "18                    -0.034483            -0.043478              0.178571   \n",
       "24                    -0.586207            -0.014493              0.214286   \n",
       "29                    -0.517241             0.188406              0.464286   \n",
       "31                     0.172414            -0.275362             -0.107143   \n",
       "\n",
       "    TEMPERATURE_MEDIAN_end  AGE_ABOVE65_1  AGE_PERCENTIL_1  GENDER_1  HTN_1  \\\n",
       "14               -0.214286              1             60th         1    0.0   \n",
       "18                0.178571              0             20th         0    0.0   \n",
       "24                0.214286              1             80th         1    0.0   \n",
       "29                0.464286              1             70th         0    1.0   \n",
       "31               -0.107143              1             90th         0    0.0   \n",
       "\n",
       "    ICU  LAST_WINDOW  \n",
       "14    1            2  \n",
       "18    1            2  \n",
       "24    1            2  \n",
       "29    1            2  \n",
       "31    1            2  \n",
       "\n",
       "[5 rows x 68 columns]"
      ]
     },
     "execution_count": 46,
     "metadata": {},
     "output_type": "execute_result"
    }
   ],
   "source": [
    "#Remove '_begin' features for strongly time correlated group of attributes\n",
    "data_2 = data_2.drop(columns = \n",
    "                     binary_feat_time_corr[binary_feat_time_corr['Feature_1'] != 'OTHER_begin']['Feature_1'])\n",
    "data_2.head()"
   ]
  },
  {
   "cell_type": "markdown",
   "execution_count": null,
   "metadata": {
    "papermill": {
     "duration": 0.027819,
     "end_time": "2020-08-12T00:14:45.682096",
     "exception": false,
     "start_time": "2020-08-12T00:14:45.654277",
     "status": "completed"
    },
    "tags": []
   },
   "source": [
    "### 4.2.2. Time Irrelevant Correlations"
   ]
  },
  {
   "cell_type": "code",
   "execution_count": 47,
   "metadata": {
    "execution": {
     "iopub.execute_input": "2020-08-12T00:14:45.754194Z",
     "iopub.status.busy": "2020-08-12T00:14:45.741783Z",
     "iopub.status.idle": "2020-08-12T00:14:45.758967Z",
     "shell.execute_reply": "2020-08-12T00:14:45.758365Z"
    },
    "papermill": {
     "duration": 0.049753,
     "end_time": "2020-08-12T00:14:45.759107",
     "exception": false,
     "start_time": "2020-08-12T00:14:45.709354",
     "status": "completed"
    },
    "tags": []
   },
   "outputs": [
    {
     "data": {
      "text/html": [
       "<div>\n",
       "<style scoped>\n",
       "    .dataframe tbody tr th:only-of-type {\n",
       "        vertical-align: middle;\n",
       "    }\n",
       "\n",
       "    .dataframe tbody tr th {\n",
       "        vertical-align: top;\n",
       "    }\n",
       "\n",
       "    .dataframe thead th {\n",
       "        text-align: right;\n",
       "    }\n",
       "</style>\n",
       "<table border=\"1\" class=\"dataframe\">\n",
       "  <thead>\n",
       "    <tr style=\"text-align: right;\">\n",
       "      <th></th>\n",
       "      <th>Feature_1</th>\n",
       "      <th>Feature_2</th>\n",
       "      <th>Pearson_Corr</th>\n",
       "      <th>Feature_1_Type</th>\n",
       "      <th>Feature_2_Type</th>\n",
       "    </tr>\n",
       "  </thead>\n",
       "  <tbody>\n",
       "    <tr>\n",
       "      <th>1481</th>\n",
       "      <td>OXYGEN_SATURATION_DIFF_begin</td>\n",
       "      <td>OXYGEN_SATURATION_DIFF_REL_begin</td>\n",
       "      <td>0.999805</td>\n",
       "      <td>begin</td>\n",
       "      <td>begin</td>\n",
       "    </tr>\n",
       "    <tr>\n",
       "      <th>3997</th>\n",
       "      <td>OXYGEN_SATURATION_DIFF_end</td>\n",
       "      <td>OXYGEN_SATURATION_DIFF_REL_end</td>\n",
       "      <td>0.999786</td>\n",
       "      <td>end</td>\n",
       "      <td>end</td>\n",
       "    </tr>\n",
       "    <tr>\n",
       "      <th>1111</th>\n",
       "      <td>HEART_RATE_MEAN_begin</td>\n",
       "      <td>HEART_RATE_MEDIAN_begin</td>\n",
       "      <td>0.993496</td>\n",
       "      <td>begin</td>\n",
       "      <td>begin</td>\n",
       "    </tr>\n",
       "    <tr>\n",
       "      <th>371</th>\n",
       "      <td>BLOODPRESSURE_SISTOLIC_MEAN_begin</td>\n",
       "      <td>BLOODPRESSURE_SISTOLIC_MEDIAN_begin</td>\n",
       "      <td>0.993123</td>\n",
       "      <td>begin</td>\n",
       "      <td>begin</td>\n",
       "    </tr>\n",
       "    <tr>\n",
       "      <th>4441</th>\n",
       "      <td>RESPIRATORY_RATE_DIFF_end</td>\n",
       "      <td>RESPIRATORY_RATE_DIFF_REL_end</td>\n",
       "      <td>0.987923</td>\n",
       "      <td>end</td>\n",
       "      <td>end</td>\n",
       "    </tr>\n",
       "    <tr>\n",
       "      <th>1925</th>\n",
       "      <td>RESPIRATORY_RATE_DIFF_begin</td>\n",
       "      <td>RESPIRATORY_RATE_DIFF_REL_begin</td>\n",
       "      <td>0.987618</td>\n",
       "      <td>begin</td>\n",
       "      <td>begin</td>\n",
       "    </tr>\n",
       "    <tr>\n",
       "      <th>2369</th>\n",
       "      <td>TEMPERATURE_MEAN_begin</td>\n",
       "      <td>TEMPERATURE_MEDIAN_begin</td>\n",
       "      <td>0.986740</td>\n",
       "      <td>begin</td>\n",
       "      <td>begin</td>\n",
       "    </tr>\n",
       "    <tr>\n",
       "      <th>3627</th>\n",
       "      <td>HEART_RATE_MEAN_end</td>\n",
       "      <td>HEART_RATE_MEDIAN_end</td>\n",
       "      <td>0.986183</td>\n",
       "      <td>end</td>\n",
       "      <td>end</td>\n",
       "    </tr>\n",
       "    <tr>\n",
       "      <th>75</th>\n",
       "      <td>BLOODPRESSURE_DIASTOLIC_MEAN_begin</td>\n",
       "      <td>BLOODPRESSURE_DIASTOLIC_MEDIAN_begin</td>\n",
       "      <td>0.985853</td>\n",
       "      <td>begin</td>\n",
       "      <td>begin</td>\n",
       "    </tr>\n",
       "    <tr>\n",
       "      <th>4074</th>\n",
       "      <td>OXYGEN_SATURATION_DIFF_REL_end</td>\n",
       "      <td>OXYGEN_SATURATION_MIN_end</td>\n",
       "      <td>0.985579</td>\n",
       "      <td>end</td>\n",
       "      <td>end</td>\n",
       "    </tr>\n",
       "    <tr>\n",
       "      <th>4001</th>\n",
       "      <td>OXYGEN_SATURATION_DIFF_end</td>\n",
       "      <td>OXYGEN_SATURATION_MIN_end</td>\n",
       "      <td>0.985330</td>\n",
       "      <td>end</td>\n",
       "      <td>end</td>\n",
       "    </tr>\n",
       "    <tr>\n",
       "      <th>1703</th>\n",
       "      <td>OXYGEN_SATURATION_MEAN_begin</td>\n",
       "      <td>OXYGEN_SATURATION_MEDIAN_begin</td>\n",
       "      <td>0.982143</td>\n",
       "      <td>begin</td>\n",
       "      <td>begin</td>\n",
       "    </tr>\n",
       "    <tr>\n",
       "      <th>2887</th>\n",
       "      <td>BLOODPRESSURE_SISTOLIC_MEAN_end</td>\n",
       "      <td>BLOODPRESSURE_SISTOLIC_MEDIAN_end</td>\n",
       "      <td>0.981987</td>\n",
       "      <td>end</td>\n",
       "      <td>end</td>\n",
       "    </tr>\n",
       "    <tr>\n",
       "      <th>2147</th>\n",
       "      <td>RESPIRATORY_RATE_MEAN_begin</td>\n",
       "      <td>RESPIRATORY_RATE_MEDIAN_begin</td>\n",
       "      <td>0.977079</td>\n",
       "      <td>begin</td>\n",
       "      <td>begin</td>\n",
       "    </tr>\n",
       "    <tr>\n",
       "      <th>4885</th>\n",
       "      <td>TEMPERATURE_MEAN_end</td>\n",
       "      <td>TEMPERATURE_MEDIAN_end</td>\n",
       "      <td>0.976943</td>\n",
       "      <td>end</td>\n",
       "      <td>end</td>\n",
       "    </tr>\n",
       "    <tr>\n",
       "      <th>4663</th>\n",
       "      <td>RESPIRATORY_RATE_MEAN_end</td>\n",
       "      <td>RESPIRATORY_RATE_MEDIAN_end</td>\n",
       "      <td>0.974316</td>\n",
       "      <td>end</td>\n",
       "      <td>end</td>\n",
       "    </tr>\n",
       "    <tr>\n",
       "      <th>2591</th>\n",
       "      <td>BLOODPRESSURE_DIASTOLIC_MEAN_end</td>\n",
       "      <td>BLOODPRESSURE_DIASTOLIC_MEDIAN_end</td>\n",
       "      <td>0.972890</td>\n",
       "      <td>end</td>\n",
       "      <td>end</td>\n",
       "    </tr>\n",
       "  </tbody>\n",
       "</table>\n",
       "</div>"
      ],
      "text/plain": [
       "                               Feature_1  \\\n",
       "1481        OXYGEN_SATURATION_DIFF_begin   \n",
       "3997          OXYGEN_SATURATION_DIFF_end   \n",
       "1111               HEART_RATE_MEAN_begin   \n",
       "371    BLOODPRESSURE_SISTOLIC_MEAN_begin   \n",
       "4441           RESPIRATORY_RATE_DIFF_end   \n",
       "1925         RESPIRATORY_RATE_DIFF_begin   \n",
       "2369              TEMPERATURE_MEAN_begin   \n",
       "3627                 HEART_RATE_MEAN_end   \n",
       "75    BLOODPRESSURE_DIASTOLIC_MEAN_begin   \n",
       "4074      OXYGEN_SATURATION_DIFF_REL_end   \n",
       "4001          OXYGEN_SATURATION_DIFF_end   \n",
       "1703        OXYGEN_SATURATION_MEAN_begin   \n",
       "2887     BLOODPRESSURE_SISTOLIC_MEAN_end   \n",
       "2147         RESPIRATORY_RATE_MEAN_begin   \n",
       "4885                TEMPERATURE_MEAN_end   \n",
       "4663           RESPIRATORY_RATE_MEAN_end   \n",
       "2591    BLOODPRESSURE_DIASTOLIC_MEAN_end   \n",
       "\n",
       "                                 Feature_2  Pearson_Corr Feature_1_Type  \\\n",
       "1481      OXYGEN_SATURATION_DIFF_REL_begin      0.999805          begin   \n",
       "3997        OXYGEN_SATURATION_DIFF_REL_end      0.999786            end   \n",
       "1111               HEART_RATE_MEDIAN_begin      0.993496          begin   \n",
       "371    BLOODPRESSURE_SISTOLIC_MEDIAN_begin      0.993123          begin   \n",
       "4441         RESPIRATORY_RATE_DIFF_REL_end      0.987923            end   \n",
       "1925       RESPIRATORY_RATE_DIFF_REL_begin      0.987618          begin   \n",
       "2369              TEMPERATURE_MEDIAN_begin      0.986740          begin   \n",
       "3627                 HEART_RATE_MEDIAN_end      0.986183            end   \n",
       "75    BLOODPRESSURE_DIASTOLIC_MEDIAN_begin      0.985853          begin   \n",
       "4074             OXYGEN_SATURATION_MIN_end      0.985579            end   \n",
       "4001             OXYGEN_SATURATION_MIN_end      0.985330            end   \n",
       "1703        OXYGEN_SATURATION_MEDIAN_begin      0.982143          begin   \n",
       "2887     BLOODPRESSURE_SISTOLIC_MEDIAN_end      0.981987            end   \n",
       "2147         RESPIRATORY_RATE_MEDIAN_begin      0.977079          begin   \n",
       "4885                TEMPERATURE_MEDIAN_end      0.976943            end   \n",
       "4663           RESPIRATORY_RATE_MEDIAN_end      0.974316            end   \n",
       "2591    BLOODPRESSURE_DIASTOLIC_MEDIAN_end      0.972890            end   \n",
       "\n",
       "     Feature_2_Type  \n",
       "1481          begin  \n",
       "3997            end  \n",
       "1111          begin  \n",
       "371           begin  \n",
       "4441            end  \n",
       "1925          begin  \n",
       "2369          begin  \n",
       "3627            end  \n",
       "75            begin  \n",
       "4074            end  \n",
       "4001            end  \n",
       "1703          begin  \n",
       "2887            end  \n",
       "2147          begin  \n",
       "4885            end  \n",
       "4663            end  \n",
       "2591            end  "
      ]
     },
     "execution_count": 47,
     "metadata": {},
     "output_type": "execute_result"
    }
   ],
   "source": [
    "#Select correlations for features in the same time level\n",
    "single_time_step_corr = data_2_corr[data_2_corr['Feature_1_Type'] == data_2_corr['Feature_2_Type']]\n",
    "single_time_step_corr = single_time_step_corr[single_time_step_corr['Pearson_Corr'] >= 0.9]\n",
    "single_time_step_corr"
   ]
  },
  {
   "cell_type": "markdown",
   "execution_count": null,
   "metadata": {
    "papermill": {
     "duration": 0.027008,
     "end_time": "2020-08-12T00:14:45.813191",
     "exception": false,
     "start_time": "2020-08-12T00:14:45.786183",
     "status": "completed"
    },
    "tags": []
   },
   "source": [
    "Looking at all the selected correlation for which the time step as the same for both features, we observe the pattern is similar to when we were doing this same procedure on the previous model. Most strong correlation are of the *MEAN/MEDIAN* type, followed by some *DIFF/DIFF_REL* and a few *DIFF/MIN*. Before we decide on what do, let's how one of these correlations looks on a plot."
   ]
  },
  {
   "cell_type": "code",
   "execution_count": 48,
   "metadata": {
    "execution": {
     "iopub.execute_input": "2020-08-12T00:14:45.882889Z",
     "iopub.status.busy": "2020-08-12T00:14:45.881821Z",
     "iopub.status.idle": "2020-08-12T00:14:46.611812Z",
     "shell.execute_reply": "2020-08-12T00:14:46.611103Z"
    },
    "papermill": {
     "duration": 0.771608,
     "end_time": "2020-08-12T00:14:46.611946",
     "exception": false,
     "start_time": "2020-08-12T00:14:45.840338",
     "status": "completed"
    },
    "tags": []
   },
   "outputs": [
    {
     "data": {
      "text/plain": [
       "<seaborn.axisgrid.JointGrid at 0x7fa982243a10>"
      ]
     },
     "execution_count": 48,
     "metadata": {},
     "output_type": "execute_result"
    },
    {
     "data": {
      "image/png": "[encoded data removed]",
      "text/plain": [
       "<Figure size 432x432 with 3 Axes>"
      ]
     },
     "metadata": {
      "needs_background": "light"
     },
     "output_type": "display_data"
    }
   ],
   "source": [
    "#Plot BLOODPRESSURE_DIASTOLIC_MEAN_end vs. BLOODPRESSURE_DIASTOLIC_MEDIAN_end\n",
    "sns.jointplot('BLOODPRESSURE_DIASTOLIC_MEAN_end', 'BLOODPRESSURE_DIASTOLIC_MEDIAN_end', data_2, kind = 'hex')"
   ]
  },
  {
   "cell_type": "markdown",
   "execution_count": null,
   "metadata": {
    "papermill": {
     "duration": 0.130193,
     "end_time": "2020-08-12T00:14:46.772751",
     "exception": false,
     "start_time": "2020-08-12T00:14:46.642558",
     "status": "completed"
    },
    "tags": []
   },
   "source": [
    "The graph confirms what the Pearson correlation score indicated. The two features are highly dependent on each other. As we are talking about extremely high correlation values, all of them over 0.97, we can simply remove one feature for each pair. As for any remaining strong correlations we have not investigated, other feature selection procedures will be applied on the dataset, meaning our work on cleaning the data is not done yet."
   ]
  },
  {
   "cell_type": "code",
   "execution_count": 49,
   "metadata": {
    "execution": {
     "iopub.execute_input": "2020-08-12T00:14:46.849779Z",
     "iopub.status.busy": "2020-08-12T00:14:46.849006Z",
     "iopub.status.idle": "2020-08-12T00:14:46.868274Z",
     "shell.execute_reply": "2020-08-12T00:14:46.867532Z"
    },
    "papermill": {
     "duration": 0.065886,
     "end_time": "2020-08-12T00:14:46.868408",
     "exception": false,
     "start_time": "2020-08-12T00:14:46.802522",
     "status": "completed"
    },
    "tags": []
   },
   "outputs": [
    {
     "data": {
      "text/html": [
       "<div>\n",
       "<style scoped>\n",
       "    .dataframe tbody tr th:only-of-type {\n",
       "        vertical-align: middle;\n",
       "    }\n",
       "\n",
       "    .dataframe tbody tr th {\n",
       "        vertical-align: top;\n",
       "    }\n",
       "\n",
       "    .dataframe thead th {\n",
       "        text-align: right;\n",
       "    }\n",
       "</style>\n",
       "<table border=\"1\" class=\"dataframe\">\n",
       "  <thead>\n",
       "    <tr style=\"text-align: right;\">\n",
       "      <th></th>\n",
       "      <th>BLOODPRESSURE_DIASTOLIC_MAX_begin</th>\n",
       "      <th>BLOODPRESSURE_DIASTOLIC_MEAN_begin</th>\n",
       "      <th>BLOODPRESSURE_DIASTOLIC_MIN_begin</th>\n",
       "      <th>BLOODPRESSURE_SISTOLIC_MAX_begin</th>\n",
       "      <th>BLOODPRESSURE_SISTOLIC_MEAN_begin</th>\n",
       "      <th>BLOODPRESSURE_SISTOLIC_MIN_begin</th>\n",
       "      <th>DISEASE GROUPING 4_begin</th>\n",
       "      <th>HEART_RATE_MAX_begin</th>\n",
       "      <th>HEART_RATE_MEAN_begin</th>\n",
       "      <th>HEART_RATE_MIN_begin</th>\n",
       "      <th>...</th>\n",
       "      <th>RESPIRATORY_RATE_MAX_end</th>\n",
       "      <th>RESPIRATORY_RATE_MEAN_end</th>\n",
       "      <th>TEMPERATURE_MAX_end</th>\n",
       "      <th>TEMPERATURE_MEAN_end</th>\n",
       "      <th>AGE_ABOVE65_1</th>\n",
       "      <th>AGE_PERCENTIL_1</th>\n",
       "      <th>GENDER_1</th>\n",
       "      <th>HTN_1</th>\n",
       "      <th>ICU</th>\n",
       "      <th>LAST_WINDOW</th>\n",
       "    </tr>\n",
       "  </thead>\n",
       "  <tbody>\n",
       "    <tr>\n",
       "      <th>14</th>\n",
       "      <td>-0.470085</td>\n",
       "      <td>-0.234568</td>\n",
       "      <td>-0.030928</td>\n",
       "      <td>-0.686486</td>\n",
       "      <td>-0.553846</td>\n",
       "      <td>-0.2625</td>\n",
       "      <td>0.0</td>\n",
       "      <td>-0.716418</td>\n",
       "      <td>-0.641509</td>\n",
       "      <td>-0.487179</td>\n",
       "      <td>...</td>\n",
       "      <td>-0.212121</td>\n",
       "      <td>-0.118644</td>\n",
       "      <td>-0.362319</td>\n",
       "      <td>-0.214286</td>\n",
       "      <td>1</td>\n",
       "      <td>60th</td>\n",
       "      <td>1</td>\n",
       "      <td>0.0</td>\n",
       "      <td>1</td>\n",
       "      <td>2</td>\n",
       "    </tr>\n",
       "    <tr>\n",
       "      <th>18</th>\n",
       "      <td>-0.008547</td>\n",
       "      <td>0.399177</td>\n",
       "      <td>0.484536</td>\n",
       "      <td>-0.351351</td>\n",
       "      <td>-0.133333</td>\n",
       "      <td>-0.0125</td>\n",
       "      <td>0.0</td>\n",
       "      <td>-0.253731</td>\n",
       "      <td>-0.295597</td>\n",
       "      <td>-0.282051</td>\n",
       "      <td>...</td>\n",
       "      <td>-0.151515</td>\n",
       "      <td>-0.186441</td>\n",
       "      <td>-0.043478</td>\n",
       "      <td>0.178571</td>\n",
       "      <td>0</td>\n",
       "      <td>20th</td>\n",
       "      <td>0</td>\n",
       "      <td>0.0</td>\n",
       "      <td>1</td>\n",
       "      <td>2</td>\n",
       "    </tr>\n",
       "    <tr>\n",
       "      <th>24</th>\n",
       "      <td>-0.589744</td>\n",
       "      <td>-0.407407</td>\n",
       "      <td>-0.175258</td>\n",
       "      <td>-0.664865</td>\n",
       "      <td>-0.523077</td>\n",
       "      <td>-0.2375</td>\n",
       "      <td>0.0</td>\n",
       "      <td>-0.492537</td>\n",
       "      <td>-0.358491</td>\n",
       "      <td>-0.230769</td>\n",
       "      <td>...</td>\n",
       "      <td>-0.636364</td>\n",
       "      <td>-0.593220</td>\n",
       "      <td>-0.014493</td>\n",
       "      <td>0.214286</td>\n",
       "      <td>1</td>\n",
       "      <td>80th</td>\n",
       "      <td>1</td>\n",
       "      <td>0.0</td>\n",
       "      <td>1</td>\n",
       "      <td>2</td>\n",
       "    </tr>\n",
       "    <tr>\n",
       "      <th>29</th>\n",
       "      <td>-0.589744</td>\n",
       "      <td>-0.407407</td>\n",
       "      <td>-0.175258</td>\n",
       "      <td>-0.729730</td>\n",
       "      <td>-0.615385</td>\n",
       "      <td>-0.3125</td>\n",
       "      <td>1.0</td>\n",
       "      <td>-0.731343</td>\n",
       "      <td>-0.660377</td>\n",
       "      <td>-0.504274</td>\n",
       "      <td>...</td>\n",
       "      <td>-0.575758</td>\n",
       "      <td>-0.525424</td>\n",
       "      <td>0.188406</td>\n",
       "      <td>0.464286</td>\n",
       "      <td>1</td>\n",
       "      <td>70th</td>\n",
       "      <td>0</td>\n",
       "      <td>1.0</td>\n",
       "      <td>1</td>\n",
       "      <td>2</td>\n",
       "    </tr>\n",
       "    <tr>\n",
       "      <th>31</th>\n",
       "      <td>-0.572650</td>\n",
       "      <td>-0.382716</td>\n",
       "      <td>-0.154639</td>\n",
       "      <td>-0.729730</td>\n",
       "      <td>-0.615385</td>\n",
       "      <td>-0.3125</td>\n",
       "      <td>0.0</td>\n",
       "      <td>-0.313433</td>\n",
       "      <td>-0.132075</td>\n",
       "      <td>-0.025641</td>\n",
       "      <td>...</td>\n",
       "      <td>0.030303</td>\n",
       "      <td>0.152542</td>\n",
       "      <td>-0.275362</td>\n",
       "      <td>-0.107143</td>\n",
       "      <td>1</td>\n",
       "      <td>90th</td>\n",
       "      <td>0</td>\n",
       "      <td>0.0</td>\n",
       "      <td>1</td>\n",
       "      <td>2</td>\n",
       "    </tr>\n",
       "  </tbody>\n",
       "</table>\n",
       "<p>5 rows × 52 columns</p>\n",
       "</div>"
      ],
      "text/plain": [
       "    BLOODPRESSURE_DIASTOLIC_MAX_begin  BLOODPRESSURE_DIASTOLIC_MEAN_begin  \\\n",
       "14                          -0.470085                           -0.234568   \n",
       "18                          -0.008547                            0.399177   \n",
       "24                          -0.589744                           -0.407407   \n",
       "29                          -0.589744                           -0.407407   \n",
       "31                          -0.572650                           -0.382716   \n",
       "\n",
       "    BLOODPRESSURE_DIASTOLIC_MIN_begin  BLOODPRESSURE_SISTOLIC_MAX_begin  \\\n",
       "14                          -0.030928                         -0.686486   \n",
       "18                           0.484536                         -0.351351   \n",
       "24                          -0.175258                         -0.664865   \n",
       "29                          -0.175258                         -0.729730   \n",
       "31                          -0.154639                         -0.729730   \n",
       "\n",
       "    BLOODPRESSURE_SISTOLIC_MEAN_begin  BLOODPRESSURE_SISTOLIC_MIN_begin  \\\n",
       "14                          -0.553846                           -0.2625   \n",
       "18                          -0.133333                           -0.0125   \n",
       "24                          -0.523077                           -0.2375   \n",
       "29                          -0.615385                           -0.3125   \n",
       "31                          -0.615385                           -0.3125   \n",
       "\n",
       "    DISEASE GROUPING 4_begin  HEART_RATE_MAX_begin  HEART_RATE_MEAN_begin  \\\n",
       "14                       0.0             -0.716418              -0.641509   \n",
       "18                       0.0             -0.253731              -0.295597   \n",
       "24                       0.0             -0.492537              -0.358491   \n",
       "29                       1.0             -0.731343              -0.660377   \n",
       "31                       0.0             -0.313433              -0.132075   \n",
       "\n",
       "    HEART_RATE_MIN_begin  ...  RESPIRATORY_RATE_MAX_end  \\\n",
       "14             -0.487179  ...                 -0.212121   \n",
       "18             -0.282051  ...                 -0.151515   \n",
       "24             -0.230769  ...                 -0.636364   \n",
       "29             -0.504274  ...                 -0.575758   \n",
       "31             -0.025641  ...                  0.030303   \n",
       "\n",
       "    RESPIRATORY_RATE_MEAN_end  TEMPERATURE_MAX_end  TEMPERATURE_MEAN_end  \\\n",
       "14                  -0.118644            -0.362319             -0.214286   \n",
       "18                  -0.186441            -0.043478              0.178571   \n",
       "24                  -0.593220            -0.014493              0.214286   \n",
       "29                  -0.525424             0.188406              0.464286   \n",
       "31                   0.152542            -0.275362             -0.107143   \n",
       "\n",
       "    AGE_ABOVE65_1  AGE_PERCENTIL_1  GENDER_1  HTN_1  ICU  LAST_WINDOW  \n",
       "14              1             60th         1    0.0    1            2  \n",
       "18              0             20th         0    0.0    1            2  \n",
       "24              1             80th         1    0.0    1            2  \n",
       "29              1             70th         0    1.0    1            2  \n",
       "31              1             90th         0    0.0    1            2  \n",
       "\n",
       "[5 rows x 52 columns]"
      ]
     },
     "execution_count": 49,
     "metadata": {},
     "output_type": "execute_result"
    }
   ],
   "source": [
    "#Remove correlated features\n",
    "data_2 = data_2.drop(columns = single_time_step_corr['Feature_2'].values)\n",
    "data_2.head()"
   ]
  },
  {
   "cell_type": "markdown",
   "execution_count": null,
   "metadata": {
    "papermill": {
     "duration": 0.02972,
     "end_time": "2020-08-12T00:14:46.928894",
     "exception": false,
     "start_time": "2020-08-12T00:14:46.899174",
     "status": "completed"
    },
    "tags": []
   },
   "source": [
    "## 4.3. Baseline Model"
   ]
  },
  {
   "cell_type": "markdown",
   "execution_count": null,
   "metadata": {
    "papermill": {
     "duration": 0.027973,
     "end_time": "2020-08-12T00:14:46.985650",
     "exception": false,
     "start_time": "2020-08-12T00:14:46.957677",
     "status": "completed"
    },
    "tags": []
   },
   "source": [
    "We have already removed some of the most obvious case of not so relevant features. Before proceeding to other feature selection techniques, let's train a model to serve as our baseline for the next optimization steps. As we have obtained some good results using a Random Forest Classifier, we are going to stick to it for now."
   ]
  },
  {
   "cell_type": "code",
   "execution_count": 50,
   "metadata": {
    "execution": {
     "iopub.execute_input": "2020-08-12T00:14:47.056099Z",
     "iopub.status.busy": "2020-08-12T00:14:47.052621Z",
     "iopub.status.idle": "2020-08-12T00:14:47.059508Z",
     "shell.execute_reply": "2020-08-12T00:14:47.058757Z"
    },
    "papermill": {
     "duration": 0.044784,
     "end_time": "2020-08-12T00:14:47.059645",
     "exception": false,
     "start_time": "2020-08-12T00:14:47.014861",
     "status": "completed"
    },
    "tags": []
   },
   "outputs": [],
   "source": [
    "#Encode remaining categorical feature\n",
    "data_2 = encode_feature(data_2, 'AGE_PERCENTIL_1')"
   ]
  },
  {
   "cell_type": "code",
   "execution_count": 51,
   "metadata": {
    "execution": {
     "iopub.execute_input": "2020-08-12T00:14:47.131822Z",
     "iopub.status.busy": "2020-08-12T00:14:47.131077Z",
     "iopub.status.idle": "2020-08-12T00:14:47.134325Z",
     "shell.execute_reply": "2020-08-12T00:14:47.133769Z"
    },
    "papermill": {
     "duration": 0.045521,
     "end_time": "2020-08-12T00:14:47.134444",
     "exception": false,
     "start_time": "2020-08-12T00:14:47.088923",
     "status": "completed"
    },
    "tags": []
   },
   "outputs": [],
   "source": [
    "#Split dataset into training and validation\n",
    "feature_cols = data_2.drop(columns = ['ICU', 'LAST_WINDOW']).columns\n",
    "x_train, x_validation, y_train, y_validation = train_test_split(data_2[feature_cols], data_2['ICU'],\n",
    "                                                                test_size = 0.1,\n",
    "                                                                shuffle = True)"
   ]
  },
  {
   "cell_type": "code",
   "execution_count": 52,
   "metadata": {
    "execution": {
     "iopub.execute_input": "2020-08-12T00:14:47.199306Z",
     "iopub.status.busy": "2020-08-12T00:14:47.198568Z",
     "iopub.status.idle": "2020-08-12T00:14:48.377386Z",
     "shell.execute_reply": "2020-08-12T00:14:48.377867Z"
    },
    "papermill": {
     "duration": 1.213482,
     "end_time": "2020-08-12T00:14:48.378030",
     "exception": false,
     "start_time": "2020-08-12T00:14:47.164548",
     "status": "completed"
    },
    "tags": []
   },
   "outputs": [
    {
     "name": "stdout",
     "output_type": "stream",
     "text": [
      "CV model accuracy:  0.949 +/- 0.019\n",
      "CV model roc_auc:  0.982 +/- 0.015\n",
      "Validation accuracy score: 0.879\n",
      "Validation ROC_AUC score: 0.882\n"
     ]
    }
   ],
   "source": [
    "#Cross-validate baseline model\n",
    "baseline_model = RandomForestClassifier()\n",
    "fitted_baseline_model = score_model(estimator = baseline_model, \n",
    "                                    train_data = (x_train, y_train),\n",
    "                                    validation_data = (x_validation, y_validation), \n",
    "                                    cv = 5)"
   ]
  },
  {
   "cell_type": "code",
   "execution_count": 53,
   "metadata": {
    "execution": {
     "iopub.execute_input": "2020-08-12T00:14:48.457481Z",
     "iopub.status.busy": "2020-08-12T00:14:48.456664Z",
     "iopub.status.idle": "2020-08-12T00:14:48.461611Z",
     "shell.execute_reply": "2020-08-12T00:14:48.461097Z"
    },
    "papermill": {
     "duration": 0.056061,
     "end_time": "2020-08-12T00:14:48.461731",
     "exception": false,
     "start_time": "2020-08-12T00:14:48.405670",
     "status": "completed"
    },
    "tags": []
   },
   "outputs": [
    {
     "data": {
      "text/plain": [
       "array([[21,  3],\n",
       "       [ 1,  8]])"
      ]
     },
     "execution_count": 53,
     "metadata": {},
     "output_type": "execute_result"
    }
   ],
   "source": [
    "#Plot confusion matrix for validation data\n",
    "confusion_matrix(y_validation, fitted_baseline_model.predict(x_validation))"
   ]
  },
  {
   "cell_type": "markdown",
   "execution_count": null,
   "metadata": {
    "papermill": {
     "duration": 0.02789,
     "end_time": "2020-08-12T00:14:48.518263",
     "exception": false,
     "start_time": "2020-08-12T00:14:48.490373",
     "status": "completed"
    },
    "tags": []
   },
   "source": [
    "The results are surprisingly accurate for our first try. Honestly, almost to good to be true. Let's double check."
   ]
  },
  {
   "cell_type": "code",
   "execution_count": 54,
   "metadata": {
    "execution": {
     "iopub.execute_input": "2020-08-12T00:14:48.586693Z",
     "iopub.status.busy": "2020-08-12T00:14:48.585802Z",
     "iopub.status.idle": "2020-08-12T00:14:49.752959Z",
     "shell.execute_reply": "2020-08-12T00:14:49.752418Z"
    },
    "papermill": {
     "duration": 1.206204,
     "end_time": "2020-08-12T00:14:49.753088",
     "exception": false,
     "start_time": "2020-08-12T00:14:48.546884",
     "status": "completed"
    },
    "tags": []
   },
   "outputs": [
    {
     "name": "stdout",
     "output_type": "stream",
     "text": [
      "CV model accuracy:  0.945 +/- 0.013\n",
      "CV model roc_auc:  0.981 +/- 0.017\n",
      "Validation accuracy score: 0.970\n",
      "Validation ROC_AUC score: 0.975\n"
     ]
    }
   ],
   "source": [
    "#Compute baseline model score for a different random seed\n",
    "np.random.seed(100)\n",
    "\n",
    "x_train, x_validation, y_train, y_validation = train_test_split(data_2[feature_cols], data_2['ICU'],\n",
    "                                                                test_size = 0.1,\n",
    "                                                                shuffle = True)\n",
    "\n",
    "fitted_baseline_model_2 = score_model(estimator = RandomForestClassifier(), \n",
    "                                    train_data = (x_train, y_train),\n",
    "                                    validation_data = (x_validation, y_validation), \n",
    "                                    cv = 5)"
   ]
  },
  {
   "cell_type": "code",
   "execution_count": 55,
   "metadata": {
    "execution": {
     "iopub.execute_input": "2020-08-12T00:14:49.816646Z",
     "iopub.status.busy": "2020-08-12T00:14:49.815850Z",
     "iopub.status.idle": "2020-08-12T00:14:49.917946Z",
     "shell.execute_reply": "2020-08-12T00:14:49.917423Z"
    },
    "papermill": {
     "duration": 0.136658,
     "end_time": "2020-08-12T00:14:49.918075",
     "exception": false,
     "start_time": "2020-08-12T00:14:49.781417",
     "status": "completed"
    },
    "tags": []
   },
   "outputs": [
    {
     "name": "stdout",
     "output_type": "stream",
     "text": [
      "CV model accuracy:  0.740 +/- 0.040\n",
      "CV model roc_auc:  0.837 +/- 0.034\n",
      "Validation accuracy score: 0.697\n",
      "Validation ROC_AUC score: 0.629\n"
     ]
    }
   ],
   "source": [
    "#Compute score for a KNN model\n",
    "fitted_baseline_model_3 = score_model(estimator = KNN(), \n",
    "                                    train_data = (x_train, y_train),\n",
    "                                    validation_data = (x_validation, y_validation), \n",
    "                                    cv = 5)"
   ]
  },
  {
   "cell_type": "markdown",
   "execution_count": null,
   "metadata": {
    "papermill": {
     "duration": 0.028773,
     "end_time": "2020-08-12T00:14:49.975658",
     "exception": false,
     "start_time": "2020-08-12T00:14:49.946885",
     "status": "completed"
    },
    "tags": []
   },
   "source": [
    "It looks like this is not a mistake. If we look at the accuracy score for the KNN model, it is clear, we are not just getting the same results regardless of the choice of algorithm. It seems all the work we had processing the data was actually worth the trouble.\n",
    "\n",
    "But this is not the time to get overly excited. Let's explore our model further."
   ]
  },
  {
   "cell_type": "markdown",
   "execution_count": null,
   "metadata": {
    "papermill": {
     "duration": 0.028067,
     "end_time": "2020-08-12T00:14:50.032401",
     "exception": false,
     "start_time": "2020-08-12T00:14:50.004334",
     "status": "completed"
    },
    "tags": []
   },
   "source": [
    "# 4.4. Feature Selection"
   ]
  },
  {
   "cell_type": "markdown",
   "execution_count": null,
   "metadata": {
    "papermill": {
     "duration": 0.028752,
     "end_time": "2020-08-12T00:14:50.089702",
     "exception": false,
     "start_time": "2020-08-12T00:14:50.060950",
     "status": "completed"
    },
    "tags": []
   },
   "source": [
    "Let's first look at our baseline model and find out which features were more relevant to the final result."
   ]
  },
  {
   "cell_type": "code",
   "execution_count": 56,
   "metadata": {
    "execution": {
     "iopub.execute_input": "2020-08-12T00:14:50.168887Z",
     "iopub.status.busy": "2020-08-12T00:14:50.167880Z",
     "iopub.status.idle": "2020-08-12T00:14:51.035628Z",
     "shell.execute_reply": "2020-08-12T00:14:51.036084Z"
    },
    "papermill": {
     "duration": 0.917217,
     "end_time": "2020-08-12T00:14:51.036248",
     "exception": false,
     "start_time": "2020-08-12T00:14:50.119031",
     "status": "completed"
    },
    "tags": []
   },
   "outputs": [
    {
     "data": {
      "text/plain": [
       "<matplotlib.axes._subplots.AxesSubplot at 0x7fa9820574d0>"
      ]
     },
     "execution_count": 56,
     "metadata": {},
     "output_type": "execute_result"
    },
    {
     "data": {
      "image/png": "[encoded data removed]",
      "text/plain": [
       "<Figure size 936x1008 with 1 Axes>"
      ]
     },
     "metadata": {
      "needs_background": "light"
     },
     "output_type": "display_data"
    }
   ],
   "source": [
    "#Plot feature importances for the Random Forest Model\n",
    "feat_importances = pd.Series(data = fitted_baseline_model.feature_importances_,\n",
    "                             index = feature_cols).sort_values()\n",
    "feat_importances.plot(kind = 'barh', figsize = (13, 14))"
   ]
  },
  {
   "cell_type": "markdown",
   "execution_count": null,
   "metadata": {
    "papermill": {
     "duration": 0.028451,
     "end_time": "2020-08-12T00:14:51.093476",
     "exception": false,
     "start_time": "2020-08-12T00:14:51.065025",
     "status": "completed"
    },
    "tags": []
   },
   "source": [
    "Here, we have that some present nearly no importance to the model. These can be easily removed from our model. However, just to be safe, let's see if the model actually does not miss them."
   ]
  },
  {
   "cell_type": "code",
   "execution_count": 57,
   "metadata": {
    "execution": {
     "iopub.execute_input": "2020-08-12T00:14:51.171324Z",
     "iopub.status.busy": "2020-08-12T00:14:51.165716Z",
     "iopub.status.idle": "2020-08-12T00:14:52.494367Z",
     "shell.execute_reply": "2020-08-12T00:14:52.493581Z"
    },
    "papermill": {
     "duration": 1.371819,
     "end_time": "2020-08-12T00:14:52.494532",
     "exception": false,
     "start_time": "2020-08-12T00:14:51.122713",
     "status": "completed"
    },
    "tags": []
   },
   "outputs": [
    {
     "name": "stdout",
     "output_type": "stream",
     "text": [
      "CV model accuracy:  0.938 +/- 0.023\n",
      "CV model roc_auc:  0.983 +/- 0.017\n",
      "Validation accuracy score: 0.970\n",
      "Validation ROC_AUC score: 0.975\n"
     ]
    },
    {
     "data": {
      "text/plain": [
       "RandomForestClassifier()"
      ]
     },
     "execution_count": 57,
     "metadata": {},
     "output_type": "execute_result"
    }
   ],
   "source": [
    "#Remove the 30% least important features\n",
    "threhshold_index = int(len(feat_importances) * 0.7)\n",
    "reduced_feature_cols = feat_importances.sort_values(ascending = False).index.values[:threhshold_index]\n",
    "\n",
    "score_model(estimator = RandomForestClassifier(), \n",
    "            train_data = (x_train[reduced_feature_cols], y_train),\n",
    "            validation_data = (x_validation[reduced_feature_cols], y_validation), \n",
    "            cv = 5)"
   ]
  },
  {
   "cell_type": "markdown",
   "execution_count": null,
   "metadata": {
    "papermill": {
     "duration": 0.030134,
     "end_time": "2020-08-12T00:14:52.554644",
     "exception": false,
     "start_time": "2020-08-12T00:14:52.524510",
     "status": "completed"
    },
    "tags": []
   },
   "source": [
    "There is no perceptible change on the accuracy and ROC_AUC scores. We can then assume removing these features will not hurt our predictive model."
   ]
  },
  {
   "cell_type": "code",
   "execution_count": 58,
   "metadata": {
    "execution": {
     "iopub.execute_input": "2020-08-12T00:14:52.630227Z",
     "iopub.status.busy": "2020-08-12T00:14:52.621027Z",
     "iopub.status.idle": "2020-08-12T00:14:52.647962Z",
     "shell.execute_reply": "2020-08-12T00:14:52.647306Z"
    },
    "papermill": {
     "duration": 0.063199,
     "end_time": "2020-08-12T00:14:52.648083",
     "exception": false,
     "start_time": "2020-08-12T00:14:52.584884",
     "status": "completed"
    },
    "tags": []
   },
   "outputs": [
    {
     "data": {
      "text/html": [
       "<div>\n",
       "<style scoped>\n",
       "    .dataframe tbody tr th:only-of-type {\n",
       "        vertical-align: middle;\n",
       "    }\n",
       "\n",
       "    .dataframe tbody tr th {\n",
       "        vertical-align: top;\n",
       "    }\n",
       "\n",
       "    .dataframe thead th {\n",
       "        text-align: right;\n",
       "    }\n",
       "</style>\n",
       "<table border=\"1\" class=\"dataframe\">\n",
       "  <thead>\n",
       "    <tr style=\"text-align: right;\">\n",
       "      <th></th>\n",
       "      <th>BLOODPRESSURE_DIASTOLIC_MAX_begin</th>\n",
       "      <th>BLOODPRESSURE_DIASTOLIC_MEAN_begin</th>\n",
       "      <th>BLOODPRESSURE_DIASTOLIC_MIN_begin</th>\n",
       "      <th>BLOODPRESSURE_SISTOLIC_MAX_begin</th>\n",
       "      <th>BLOODPRESSURE_SISTOLIC_MEAN_begin</th>\n",
       "      <th>BLOODPRESSURE_SISTOLIC_MIN_begin</th>\n",
       "      <th>HEART_RATE_MAX_begin</th>\n",
       "      <th>HEART_RATE_MEAN_begin</th>\n",
       "      <th>HEART_RATE_MIN_begin</th>\n",
       "      <th>OTHER_begin</th>\n",
       "      <th>...</th>\n",
       "      <th>OXYGEN_SATURATION_MEDIAN_end</th>\n",
       "      <th>RESPIRATORY_RATE_DIFF_end</th>\n",
       "      <th>RESPIRATORY_RATE_MAX_end</th>\n",
       "      <th>RESPIRATORY_RATE_MEAN_end</th>\n",
       "      <th>TEMPERATURE_MAX_end</th>\n",
       "      <th>TEMPERATURE_MEAN_end</th>\n",
       "      <th>AGE_ABOVE65_1</th>\n",
       "      <th>ICU</th>\n",
       "      <th>LAST_WINDOW</th>\n",
       "      <th>AGE_PERCENTIL_1:80th</th>\n",
       "    </tr>\n",
       "  </thead>\n",
       "  <tbody>\n",
       "    <tr>\n",
       "      <th>14</th>\n",
       "      <td>-0.470085</td>\n",
       "      <td>-0.234568</td>\n",
       "      <td>-0.030928</td>\n",
       "      <td>-0.686486</td>\n",
       "      <td>-0.553846</td>\n",
       "      <td>-0.2625</td>\n",
       "      <td>-0.716418</td>\n",
       "      <td>-0.641509</td>\n",
       "      <td>-0.487179</td>\n",
       "      <td>1.0</td>\n",
       "      <td>...</td>\n",
       "      <td>0.736842</td>\n",
       "      <td>-1.000000</td>\n",
       "      <td>-0.212121</td>\n",
       "      <td>-0.118644</td>\n",
       "      <td>-0.362319</td>\n",
       "      <td>-0.214286</td>\n",
       "      <td>1</td>\n",
       "      <td>1</td>\n",
       "      <td>2</td>\n",
       "      <td>0</td>\n",
       "    </tr>\n",
       "    <tr>\n",
       "      <th>18</th>\n",
       "      <td>-0.008547</td>\n",
       "      <td>0.399177</td>\n",
       "      <td>0.484536</td>\n",
       "      <td>-0.351351</td>\n",
       "      <td>-0.133333</td>\n",
       "      <td>-0.0125</td>\n",
       "      <td>-0.253731</td>\n",
       "      <td>-0.295597</td>\n",
       "      <td>-0.282051</td>\n",
       "      <td>0.0</td>\n",
       "      <td>...</td>\n",
       "      <td>0.842105</td>\n",
       "      <td>-0.647059</td>\n",
       "      <td>-0.151515</td>\n",
       "      <td>-0.186441</td>\n",
       "      <td>-0.043478</td>\n",
       "      <td>0.178571</td>\n",
       "      <td>0</td>\n",
       "      <td>1</td>\n",
       "      <td>2</td>\n",
       "      <td>0</td>\n",
       "    </tr>\n",
       "    <tr>\n",
       "      <th>24</th>\n",
       "      <td>-0.589744</td>\n",
       "      <td>-0.407407</td>\n",
       "      <td>-0.175258</td>\n",
       "      <td>-0.664865</td>\n",
       "      <td>-0.523077</td>\n",
       "      <td>-0.2375</td>\n",
       "      <td>-0.492537</td>\n",
       "      <td>-0.358491</td>\n",
       "      <td>-0.230769</td>\n",
       "      <td>1.0</td>\n",
       "      <td>...</td>\n",
       "      <td>0.684211</td>\n",
       "      <td>-1.000000</td>\n",
       "      <td>-0.636364</td>\n",
       "      <td>-0.593220</td>\n",
       "      <td>-0.014493</td>\n",
       "      <td>0.214286</td>\n",
       "      <td>1</td>\n",
       "      <td>1</td>\n",
       "      <td>2</td>\n",
       "      <td>1</td>\n",
       "    </tr>\n",
       "    <tr>\n",
       "      <th>29</th>\n",
       "      <td>-0.589744</td>\n",
       "      <td>-0.407407</td>\n",
       "      <td>-0.175258</td>\n",
       "      <td>-0.729730</td>\n",
       "      <td>-0.615385</td>\n",
       "      <td>-0.3125</td>\n",
       "      <td>-0.731343</td>\n",
       "      <td>-0.660377</td>\n",
       "      <td>-0.504274</td>\n",
       "      <td>1.0</td>\n",
       "      <td>...</td>\n",
       "      <td>0.736842</td>\n",
       "      <td>-1.000000</td>\n",
       "      <td>-0.575758</td>\n",
       "      <td>-0.525424</td>\n",
       "      <td>0.188406</td>\n",
       "      <td>0.464286</td>\n",
       "      <td>1</td>\n",
       "      <td>1</td>\n",
       "      <td>2</td>\n",
       "      <td>0</td>\n",
       "    </tr>\n",
       "    <tr>\n",
       "      <th>31</th>\n",
       "      <td>-0.572650</td>\n",
       "      <td>-0.382716</td>\n",
       "      <td>-0.154639</td>\n",
       "      <td>-0.729730</td>\n",
       "      <td>-0.615385</td>\n",
       "      <td>-0.3125</td>\n",
       "      <td>-0.313433</td>\n",
       "      <td>-0.132075</td>\n",
       "      <td>-0.025641</td>\n",
       "      <td>1.0</td>\n",
       "      <td>...</td>\n",
       "      <td>0.842105</td>\n",
       "      <td>-1.000000</td>\n",
       "      <td>0.030303</td>\n",
       "      <td>0.152542</td>\n",
       "      <td>-0.275362</td>\n",
       "      <td>-0.107143</td>\n",
       "      <td>1</td>\n",
       "      <td>1</td>\n",
       "      <td>2</td>\n",
       "      <td>0</td>\n",
       "    </tr>\n",
       "  </tbody>\n",
       "</table>\n",
       "<p>5 rows × 42 columns</p>\n",
       "</div>"
      ],
      "text/plain": [
       "    BLOODPRESSURE_DIASTOLIC_MAX_begin  BLOODPRESSURE_DIASTOLIC_MEAN_begin  \\\n",
       "14                          -0.470085                           -0.234568   \n",
       "18                          -0.008547                            0.399177   \n",
       "24                          -0.589744                           -0.407407   \n",
       "29                          -0.589744                           -0.407407   \n",
       "31                          -0.572650                           -0.382716   \n",
       "\n",
       "    BLOODPRESSURE_DIASTOLIC_MIN_begin  BLOODPRESSURE_SISTOLIC_MAX_begin  \\\n",
       "14                          -0.030928                         -0.686486   \n",
       "18                           0.484536                         -0.351351   \n",
       "24                          -0.175258                         -0.664865   \n",
       "29                          -0.175258                         -0.729730   \n",
       "31                          -0.154639                         -0.729730   \n",
       "\n",
       "    BLOODPRESSURE_SISTOLIC_MEAN_begin  BLOODPRESSURE_SISTOLIC_MIN_begin  \\\n",
       "14                          -0.553846                           -0.2625   \n",
       "18                          -0.133333                           -0.0125   \n",
       "24                          -0.523077                           -0.2375   \n",
       "29                          -0.615385                           -0.3125   \n",
       "31                          -0.615385                           -0.3125   \n",
       "\n",
       "    HEART_RATE_MAX_begin  HEART_RATE_MEAN_begin  HEART_RATE_MIN_begin  \\\n",
       "14             -0.716418              -0.641509             -0.487179   \n",
       "18             -0.253731              -0.295597             -0.282051   \n",
       "24             -0.492537              -0.358491             -0.230769   \n",
       "29             -0.731343              -0.660377             -0.504274   \n",
       "31             -0.313433              -0.132075             -0.025641   \n",
       "\n",
       "    OTHER_begin  ...  OXYGEN_SATURATION_MEDIAN_end  RESPIRATORY_RATE_DIFF_end  \\\n",
       "14          1.0  ...                      0.736842                  -1.000000   \n",
       "18          0.0  ...                      0.842105                  -0.647059   \n",
       "24          1.0  ...                      0.684211                  -1.000000   \n",
       "29          1.0  ...                      0.736842                  -1.000000   \n",
       "31          1.0  ...                      0.842105                  -1.000000   \n",
       "\n",
       "    RESPIRATORY_RATE_MAX_end  RESPIRATORY_RATE_MEAN_end  TEMPERATURE_MAX_end  \\\n",
       "14                 -0.212121                  -0.118644            -0.362319   \n",
       "18                 -0.151515                  -0.186441            -0.043478   \n",
       "24                 -0.636364                  -0.593220            -0.014493   \n",
       "29                 -0.575758                  -0.525424             0.188406   \n",
       "31                  0.030303                   0.152542            -0.275362   \n",
       "\n",
       "    TEMPERATURE_MEAN_end  AGE_ABOVE65_1  ICU  LAST_WINDOW  \\\n",
       "14             -0.214286              1    1            2   \n",
       "18              0.178571              0    1            2   \n",
       "24              0.214286              1    1            2   \n",
       "29              0.464286              1    1            2   \n",
       "31             -0.107143              1    1            2   \n",
       "\n",
       "    AGE_PERCENTIL_1:80th  \n",
       "14                     0  \n",
       "18                     0  \n",
       "24                     1  \n",
       "29                     0  \n",
       "31                     0  \n",
       "\n",
       "[5 rows x 42 columns]"
      ]
     },
     "execution_count": 58,
     "metadata": {},
     "output_type": "execute_result"
    }
   ],
   "source": [
    "#Remove least important features\n",
    "not_important_cols = [x for x in feature_cols if x not in reduced_feature_cols]\n",
    "data_2 = data_2.drop(columns = not_important_cols)\n",
    "data_2.head()"
   ]
  },
  {
   "cell_type": "code",
   "execution_count": 59,
   "metadata": {
    "execution": {
     "iopub.execute_input": "2020-08-12T00:14:52.726707Z",
     "iopub.status.busy": "2020-08-12T00:14:52.721651Z",
     "iopub.status.idle": "2020-08-12T00:14:53.896536Z",
     "shell.execute_reply": "2020-08-12T00:14:53.895989Z"
    },
    "papermill": {
     "duration": 1.217764,
     "end_time": "2020-08-12T00:14:53.896663",
     "exception": false,
     "start_time": "2020-08-12T00:14:52.678899",
     "status": "completed"
    },
    "tags": []
   },
   "outputs": [
    {
     "name": "stdout",
     "output_type": "stream",
     "text": [
      "CV model accuracy:  0.928 +/- 0.029\n",
      "CV model roc_auc:  0.976 +/- 0.011\n",
      "Validation accuracy score: 0.970\n",
      "Validation ROC_AUC score: 0.971\n"
     ]
    }
   ],
   "source": [
    "#Retrain model for reduced dataset\n",
    "feature_cols = [x for x in feature_cols if x in data_2.columns.values]\n",
    "\n",
    "x_train, x_validation, y_train, y_validation = train_test_split(data_2[feature_cols], data_2['ICU'],\n",
    "                                                                test_size = 0.1,\n",
    "                                                                shuffle = True)\n",
    "\n",
    "model_2 = score_model(estimator = RandomForestClassifier(), \n",
    "                      train_data = (x_train, y_train),\n",
    "                      validation_data = (x_validation, y_validation), \n",
    "                      cv = 5)"
   ]
  },
  {
   "cell_type": "code",
   "execution_count": 60,
   "metadata": {
    "execution": {
     "iopub.execute_input": "2020-08-12T00:14:53.971406Z",
     "iopub.status.busy": "2020-08-12T00:14:53.970679Z",
     "iopub.status.idle": "2020-08-12T00:14:54.372184Z",
     "shell.execute_reply": "2020-08-12T00:14:54.371503Z"
    },
    "papermill": {
     "duration": 0.445719,
     "end_time": "2020-08-12T00:14:54.372311",
     "exception": false,
     "start_time": "2020-08-12T00:14:53.926592",
     "status": "completed"
    },
    "tags": []
   },
   "outputs": [
    {
     "data": {
      "text/plain": [
       "<matplotlib.axes._subplots.AxesSubplot at 0x7fa98229e210>"
      ]
     },
     "execution_count": 60,
     "metadata": {},
     "output_type": "execute_result"
    },
    {
     "data": {
      "image/png": "[encoded data removed]",
      "text/plain": [
       "<Figure size 936x1008 with 1 Axes>"
      ]
     },
     "metadata": {
      "needs_background": "light"
     },
     "output_type": "display_data"
    }
   ],
   "source": [
    "#Re-evaluate feature importances\n",
    "feat_importances = pd.Series(data = model_2.feature_importances_,\n",
    "                             index = feature_cols).sort_values()\n",
    "feat_importances.plot(kind = 'barh', figsize = (13, 14))"
   ]
  },
  {
   "cell_type": "markdown",
   "execution_count": null,
   "metadata": {
    "papermill": {
     "duration": 0.03131,
     "end_time": "2020-08-12T00:14:54.435339",
     "exception": false,
     "start_time": "2020-08-12T00:14:54.404029",
     "status": "completed"
    },
    "tags": []
   },
   "source": [
    "It is tempting to keep removing the least important features. However, our model is based on a very small dataset. Removing features by labeling them not relevant to the model might be unwise, considering some relationships could arise as more data is included. Given this, we are going to limit ourselves to removing those attributes that did not really seem to add any value do the predictive model."
   ]
  },
  {
   "cell_type": "markdown",
   "execution_count": null,
   "metadata": {
    "papermill": {
     "duration": 0.03096,
     "end_time": "2020-08-12T00:14:54.497775",
     "exception": false,
     "start_time": "2020-08-12T00:14:54.466815",
     "status": "completed"
    },
    "tags": []
   },
   "source": [
    "# 5. Conclusion"
   ]
  },
  {
   "cell_type": "markdown",
   "execution_count": null,
   "metadata": {
    "papermill": {
     "duration": 0.031566,
     "end_time": "2020-08-12T00:14:54.561415",
     "exception": false,
     "start_time": "2020-08-12T00:14:54.529849",
     "status": "completed"
    },
    "tags": []
   },
   "source": [
    "On this notebook, we have been able to create two predictive models for the ICU admission classification problem. The first one focused on the first available data for each patient, obtaining a fairly accurate model. The second model took a time series approach and used data from the last two time windows for each patient. The results for this approach were significantly better compared to the first one. For this model, we investigated the window correlation aspect and removed the most evidently dependent attributes. One indication of the success of this data processing step is how well the model was able to classify patients for both target values.\n",
    "\n",
    "Once again, we must warn that working with a small datasets limits the extent of how certain we can be about our results. Still, we have achieved some promissing results for two fairly interpretable predictive models.\n",
    "\n",
    "If got to this point of the notebook, my sincere thanks. Please leave a comment and tell me where I got it wrong and how I can improve."
   ]
  }
 ],
 "metadata": {
  "kernelspec": {
   "display_name": "Python 3",
   "language": "python",
   "name": "python3"
  },
  "language_info": {
   "codemirror_mode": {
    "name": "ipython",
    "version": 3
   },
   "file_extension": ".py",
   "mimetype": "text/x-python",
   "name": "python",
   "nbconvert_exporter": "python",
   "pygments_lexer": "ipython3",
   "version": "3.7.6"
  },
  "papermill": {
   "duration": 169.242156,
   "end_time": "2020-08-12T00:14:54.711572",
   "environment_variables": {},
   "exception": null,
   "input_path": "__notebook__.ipynb",
   "output_path": "__notebook__.ipynb",
   "parameters": {},
   "start_time": "2020-08-12T00:12:05.469416",
   "version": "2.1.0"
  }
 },
 "nbformat": 4,
 "nbformat_minor": 4
}
