{
 "cells": [
  {
   "cell_type": "code",
   "execution_count": 1,
   "metadata": {},
   "outputs": [],
   "source": [
    "import pandas as pd\n",
    "from sklearn import preprocessing\n",
    "import matplotlib.pyplot as plt\n"
   ]
  },
  {
   "cell_type": "code",
   "execution_count": 2,
   "metadata": {},
   "outputs": [
    {
     "data": {
      "text/html": [
       "<div>\n",
       "<style scoped>\n",
       "    .dataframe tbody tr th:only-of-type {\n",
       "        vertical-align: middle;\n",
       "    }\n",
       "\n",
       "    .dataframe tbody tr th {\n",
       "        vertical-align: top;\n",
       "    }\n",
       "\n",
       "    .dataframe thead th {\n",
       "        text-align: right;\n",
       "    }\n",
       "</style>\n",
       "<table border=\"1\" class=\"dataframe\">\n",
       "  <thead>\n",
       "    <tr style=\"text-align: right;\">\n",
       "      <th></th>\n",
       "      <th>series_id</th>\n",
       "      <th>group_id</th>\n",
       "      <th>surface</th>\n",
       "    </tr>\n",
       "  </thead>\n",
       "  <tbody>\n",
       "    <tr>\n",
       "      <td>0</td>\n",
       "      <td>0</td>\n",
       "      <td>13</td>\n",
       "      <td>fine_concrete</td>\n",
       "    </tr>\n",
       "    <tr>\n",
       "      <td>1</td>\n",
       "      <td>1</td>\n",
       "      <td>31</td>\n",
       "      <td>concrete</td>\n",
       "    </tr>\n",
       "    <tr>\n",
       "      <td>2</td>\n",
       "      <td>2</td>\n",
       "      <td>20</td>\n",
       "      <td>concrete</td>\n",
       "    </tr>\n",
       "    <tr>\n",
       "      <td>3</td>\n",
       "      <td>3</td>\n",
       "      <td>31</td>\n",
       "      <td>concrete</td>\n",
       "    </tr>\n",
       "    <tr>\n",
       "      <td>4</td>\n",
       "      <td>4</td>\n",
       "      <td>22</td>\n",
       "      <td>soft_tiles</td>\n",
       "    </tr>\n",
       "    <tr>\n",
       "      <td>...</td>\n",
       "      <td>...</td>\n",
       "      <td>...</td>\n",
       "      <td>...</td>\n",
       "    </tr>\n",
       "    <tr>\n",
       "      <td>3805</td>\n",
       "      <td>3805</td>\n",
       "      <td>55</td>\n",
       "      <td>tiled</td>\n",
       "    </tr>\n",
       "    <tr>\n",
       "      <td>3806</td>\n",
       "      <td>3806</td>\n",
       "      <td>67</td>\n",
       "      <td>wood</td>\n",
       "    </tr>\n",
       "    <tr>\n",
       "      <td>3807</td>\n",
       "      <td>3807</td>\n",
       "      <td>48</td>\n",
       "      <td>fine_concrete</td>\n",
       "    </tr>\n",
       "    <tr>\n",
       "      <td>3808</td>\n",
       "      <td>3808</td>\n",
       "      <td>54</td>\n",
       "      <td>tiled</td>\n",
       "    </tr>\n",
       "    <tr>\n",
       "      <td>3809</td>\n",
       "      <td>3809</td>\n",
       "      <td>56</td>\n",
       "      <td>soft_pvc</td>\n",
       "    </tr>\n",
       "  </tbody>\n",
       "</table>\n",
       "<p>3810 rows × 3 columns</p>\n",
       "</div>"
      ],
      "text/plain": [
       "      series_id  group_id        surface\n",
       "0             0        13  fine_concrete\n",
       "1             1        31       concrete\n",
       "2             2        20       concrete\n",
       "3             3        31       concrete\n",
       "4             4        22     soft_tiles\n",
       "...         ...       ...            ...\n",
       "3805       3805        55          tiled\n",
       "3806       3806        67           wood\n",
       "3807       3807        48  fine_concrete\n",
       "3808       3808        54          tiled\n",
       "3809       3809        56       soft_pvc\n",
       "\n",
       "[3810 rows x 3 columns]"
      ]
     },
     "execution_count": 2,
     "metadata": {},
     "output_type": "execute_result"
    }
   ],
   "source": [
    "train=pd.read_csv('train.csv')\n",
    "test=pd.read_csv('test.csv')\n",
    "y=pd.read_csv('y.csv')\n",
    "y"
   ]
  },
  {
   "cell_type": "code",
   "execution_count": 3,
   "metadata": {},
   "outputs": [
    {
     "data": {
      "text/plain": [
       "3816"
      ]
     },
     "execution_count": 3,
     "metadata": {},
     "output_type": "execute_result"
    }
   ],
   "source": [
    "train.series_id.nunique()\n",
    "test.series_id.nunique()"
   ]
  },
  {
   "cell_type": "code",
   "execution_count": 4,
   "metadata": {},
   "outputs": [
    {
     "data": {
      "text/plain": [
       "series_id\n",
       "0       128\n",
       "1       128\n",
       "2       128\n",
       "3       128\n",
       "4       128\n",
       "       ... \n",
       "3811    128\n",
       "3812    128\n",
       "3813    128\n",
       "3814    128\n",
       "3815    128\n",
       "Name: measurement_number, Length: 3816, dtype: int64"
      ]
     },
     "execution_count": 4,
     "metadata": {},
     "output_type": "execute_result"
    }
   ],
   "source": [
    "train.groupby('series_id')['measurement_number'].count()\n",
    "test.groupby('series_id')['measurement_number'].count()"
   ]
  },
  {
   "cell_type": "code",
   "execution_count": 5,
   "metadata": {},
   "outputs": [
    {
     "data": {
      "text/html": [
       "<div>\n",
       "<style scoped>\n",
       "    .dataframe tbody tr th:only-of-type {\n",
       "        vertical-align: middle;\n",
       "    }\n",
       "\n",
       "    .dataframe tbody tr th {\n",
       "        vertical-align: top;\n",
       "    }\n",
       "\n",
       "    .dataframe thead th {\n",
       "        text-align: right;\n",
       "    }\n",
       "</style>\n",
       "<table border=\"1\" class=\"dataframe\">\n",
       "  <thead>\n",
       "    <tr style=\"text-align: right;\">\n",
       "      <th></th>\n",
       "      <th>series_id</th>\n",
       "      <th>group_id</th>\n",
       "      <th>surface</th>\n",
       "    </tr>\n",
       "  </thead>\n",
       "  <tbody>\n",
       "    <tr>\n",
       "      <td>0</td>\n",
       "      <td>0</td>\n",
       "      <td>13</td>\n",
       "      <td>fine_concrete</td>\n",
       "    </tr>\n",
       "    <tr>\n",
       "      <td>1</td>\n",
       "      <td>1</td>\n",
       "      <td>31</td>\n",
       "      <td>concrete</td>\n",
       "    </tr>\n",
       "    <tr>\n",
       "      <td>2</td>\n",
       "      <td>2</td>\n",
       "      <td>20</td>\n",
       "      <td>concrete</td>\n",
       "    </tr>\n",
       "    <tr>\n",
       "      <td>3</td>\n",
       "      <td>3</td>\n",
       "      <td>31</td>\n",
       "      <td>concrete</td>\n",
       "    </tr>\n",
       "    <tr>\n",
       "      <td>4</td>\n",
       "      <td>4</td>\n",
       "      <td>22</td>\n",
       "      <td>soft_tiles</td>\n",
       "    </tr>\n",
       "  </tbody>\n",
       "</table>\n",
       "</div>"
      ],
      "text/plain": [
       "   series_id  group_id        surface\n",
       "0          0        13  fine_concrete\n",
       "1          1        31       concrete\n",
       "2          2        20       concrete\n",
       "3          3        31       concrete\n",
       "4          4        22     soft_tiles"
      ]
     },
     "execution_count": 5,
     "metadata": {},
     "output_type": "execute_result"
    }
   ],
   "source": [
    "y.head()"
   ]
  },
  {
   "cell_type": "code",
   "execution_count": 6,
   "metadata": {
    "scrolled": true
   },
   "outputs": [
    {
     "data": {
      "text/html": [
       "<div>\n",
       "<style scoped>\n",
       "    .dataframe tbody tr th:only-of-type {\n",
       "        vertical-align: middle;\n",
       "    }\n",
       "\n",
       "    .dataframe tbody tr th {\n",
       "        vertical-align: top;\n",
       "    }\n",
       "\n",
       "    .dataframe thead th {\n",
       "        text-align: right;\n",
       "    }\n",
       "</style>\n",
       "<table border=\"1\" class=\"dataframe\">\n",
       "  <thead>\n",
       "    <tr style=\"text-align: right;\">\n",
       "      <th></th>\n",
       "      <th>row_id</th>\n",
       "      <th>series_id</th>\n",
       "      <th>measurement_number</th>\n",
       "      <th>orientation_X</th>\n",
       "      <th>orientation_Y</th>\n",
       "      <th>orientation_Z</th>\n",
       "      <th>orientation_W</th>\n",
       "      <th>angular_velocity_X</th>\n",
       "      <th>angular_velocity_Y</th>\n",
       "      <th>angular_velocity_Z</th>\n",
       "      <th>linear_acceleration_X</th>\n",
       "      <th>linear_acceleration_Y</th>\n",
       "      <th>linear_acceleration_Z</th>\n",
       "    </tr>\n",
       "  </thead>\n",
       "  <tbody>\n",
       "    <tr>\n",
       "      <td>0</td>\n",
       "      <td>0_0</td>\n",
       "      <td>0</td>\n",
       "      <td>0</td>\n",
       "      <td>-0.025773</td>\n",
       "      <td>-0.98864</td>\n",
       "      <td>-0.14801</td>\n",
       "      <td>0.003350</td>\n",
       "      <td>-0.006524</td>\n",
       "      <td>-0.001071</td>\n",
       "      <td>-0.027390</td>\n",
       "      <td>0.10043</td>\n",
       "      <td>4.2061</td>\n",
       "      <td>-5.5439</td>\n",
       "    </tr>\n",
       "    <tr>\n",
       "      <td>1</td>\n",
       "      <td>0_1</td>\n",
       "      <td>0</td>\n",
       "      <td>1</td>\n",
       "      <td>-0.025683</td>\n",
       "      <td>-0.98862</td>\n",
       "      <td>-0.14816</td>\n",
       "      <td>0.003439</td>\n",
       "      <td>-0.113960</td>\n",
       "      <td>0.083987</td>\n",
       "      <td>-0.060590</td>\n",
       "      <td>-0.70889</td>\n",
       "      <td>3.9905</td>\n",
       "      <td>-8.0273</td>\n",
       "    </tr>\n",
       "    <tr>\n",
       "      <td>2</td>\n",
       "      <td>0_2</td>\n",
       "      <td>0</td>\n",
       "      <td>2</td>\n",
       "      <td>-0.025617</td>\n",
       "      <td>-0.98861</td>\n",
       "      <td>-0.14826</td>\n",
       "      <td>0.003571</td>\n",
       "      <td>-0.080518</td>\n",
       "      <td>0.114860</td>\n",
       "      <td>-0.037177</td>\n",
       "      <td>1.45710</td>\n",
       "      <td>2.2828</td>\n",
       "      <td>-11.2990</td>\n",
       "    </tr>\n",
       "    <tr>\n",
       "      <td>3</td>\n",
       "      <td>0_3</td>\n",
       "      <td>0</td>\n",
       "      <td>3</td>\n",
       "      <td>-0.025566</td>\n",
       "      <td>-0.98862</td>\n",
       "      <td>-0.14817</td>\n",
       "      <td>0.003609</td>\n",
       "      <td>0.070067</td>\n",
       "      <td>0.033820</td>\n",
       "      <td>-0.035904</td>\n",
       "      <td>0.71096</td>\n",
       "      <td>1.8582</td>\n",
       "      <td>-12.2270</td>\n",
       "    </tr>\n",
       "    <tr>\n",
       "      <td>4</td>\n",
       "      <td>0_4</td>\n",
       "      <td>0</td>\n",
       "      <td>4</td>\n",
       "      <td>-0.025548</td>\n",
       "      <td>-0.98866</td>\n",
       "      <td>-0.14792</td>\n",
       "      <td>0.003477</td>\n",
       "      <td>0.152050</td>\n",
       "      <td>-0.029016</td>\n",
       "      <td>-0.015314</td>\n",
       "      <td>3.39960</td>\n",
       "      <td>2.7881</td>\n",
       "      <td>-10.4100</td>\n",
       "    </tr>\n",
       "  </tbody>\n",
       "</table>\n",
       "</div>"
      ],
      "text/plain": [
       "  row_id  series_id  measurement_number  orientation_X  orientation_Y  \\\n",
       "0    0_0          0                   0      -0.025773       -0.98864   \n",
       "1    0_1          0                   1      -0.025683       -0.98862   \n",
       "2    0_2          0                   2      -0.025617       -0.98861   \n",
       "3    0_3          0                   3      -0.025566       -0.98862   \n",
       "4    0_4          0                   4      -0.025548       -0.98866   \n",
       "\n",
       "   orientation_Z  orientation_W  angular_velocity_X  angular_velocity_Y  \\\n",
       "0       -0.14801       0.003350           -0.006524           -0.001071   \n",
       "1       -0.14816       0.003439           -0.113960            0.083987   \n",
       "2       -0.14826       0.003571           -0.080518            0.114860   \n",
       "3       -0.14817       0.003609            0.070067            0.033820   \n",
       "4       -0.14792       0.003477            0.152050           -0.029016   \n",
       "\n",
       "   angular_velocity_Z  linear_acceleration_X  linear_acceleration_Y  \\\n",
       "0           -0.027390                0.10043                 4.2061   \n",
       "1           -0.060590               -0.70889                 3.9905   \n",
       "2           -0.037177                1.45710                 2.2828   \n",
       "3           -0.035904                0.71096                 1.8582   \n",
       "4           -0.015314                3.39960                 2.7881   \n",
       "\n",
       "   linear_acceleration_Z  \n",
       "0                -5.5439  \n",
       "1                -8.0273  \n",
       "2               -11.2990  \n",
       "3               -12.2270  \n",
       "4               -10.4100  "
      ]
     },
     "execution_count": 6,
     "metadata": {},
     "output_type": "execute_result"
    }
   ],
   "source": [
    "test.head()"
   ]
  },
  {
   "cell_type": "code",
   "execution_count": 7,
   "metadata": {
    "scrolled": true
   },
   "outputs": [
    {
     "name": "stdout",
     "output_type": "stream",
     "text": [
      "3810\n",
      "['fine_concrete' 'concrete' 'soft_tiles' 'tiled' 'soft_pvc'\n",
      " 'hard_tiles_large_space' 'carpet' 'hard_tiles' 'wood']\n"
     ]
    },
    {
     "data": {
      "text/plain": [
       "9"
      ]
     },
     "execution_count": 7,
     "metadata": {},
     "output_type": "execute_result"
    }
   ],
   "source": [
    "print(len(y));print(y.surface.unique());y.surface.nunique()"
   ]
  },
  {
   "cell_type": "code",
   "execution_count": 8,
   "metadata": {},
   "outputs": [
    {
     "data": {
      "text/plain": [
       "<matplotlib.axes._subplots.AxesSubplot at 0x7f26456fb400>"
      ]
     },
     "execution_count": 8,
     "metadata": {},
     "output_type": "execute_result"
    },
    {
     "data": {
      "image/png": "[encoded data removed]",
      "text/plain": [
       "<Figure size 432x288 with 1 Axes>"
      ]
     },
     "metadata": {
      "needs_background": "light"
     },
     "output_type": "display_data"
    }
   ],
   "source": [
    "y['surface'].value_counts().reset_index().plot(x='index',y='surface',kind='bar')"
   ]
  },
  {
   "cell_type": "code",
   "execution_count": 9,
   "metadata": {},
   "outputs": [
    {
     "data": {
      "text/plain": [
       "row_id                   0\n",
       "series_id                0\n",
       "measurement_number       0\n",
       "orientation_X            0\n",
       "orientation_Y            0\n",
       "orientation_Z            0\n",
       "orientation_W            0\n",
       "angular_velocity_X       0\n",
       "angular_velocity_Y       0\n",
       "angular_velocity_Z       0\n",
       "linear_acceleration_X    0\n",
       "linear_acceleration_Y    0\n",
       "linear_acceleration_Z    0\n",
       "dtype: int64"
      ]
     },
     "execution_count": 9,
     "metadata": {},
     "output_type": "execute_result"
    }
   ],
   "source": [
    "train.isnull().sum()"
   ]
  },
  {
   "cell_type": "code",
   "execution_count": 10,
   "metadata": {},
   "outputs": [],
   "source": [
    "def plot_series_distribution(series):\n",
    "    df_train=train[train['series_id']==series]\n",
    "    df_test=test[test['series_id']==series]\n",
    "    plt.figure(figsize=(30,15))\n",
    "    for i, col in enumerate(df_train.columns[3:]):\n",
    "        plt.subplot(3,4,i+1)\n",
    "        df_train[col].hist(bins=100,color='blue')\n",
    "        df_test[col].hist(bins=100,color='red')\n",
    "        plt.title(col)"
   ]
  },
  {
   "cell_type": "code",
   "execution_count": 11,
   "metadata": {},
   "outputs": [
    {
     "data": {
      "image/png": "[encoded data removed]",
      "text/plain": [
       "<Figure size 2160x1080 with 10 Axes>"
      ]
     },
     "metadata": {
      "needs_background": "light"
     },
     "output_type": "display_data"
    }
   ],
   "source": [
    "plot_series_distribution(1)"
   ]
  },
  {
   "cell_type": "code",
   "execution_count": 12,
   "metadata": {},
   "outputs": [],
   "source": [
    "train_df=train[['series_id']].drop_duplicates().reset_index(drop=True)\n",
    "\n"
   ]
  },
  {
   "cell_type": "code",
   "execution_count": 13,
   "metadata": {},
   "outputs": [],
   "source": [
    "test_df=test[['series_id']].drop_duplicates().reset_index(drop=True)\n"
   ]
  },
  {
   "cell_type": "code",
   "execution_count": 14,
   "metadata": {},
   "outputs": [],
   "source": [
    "import numpy as np\n",
    "def new_features(df,tf):\n",
    "    for i,col in enumerate(df.columns[3:]):\n",
    "        tf[col+'_mean']=df.groupby('series_id')[col].mean()\n",
    "        tf[col+'_std']=df.groupby('series_id')[col].std()\n",
    "        tf[col+'_max']=df.groupby('series_id')[col].max()\n",
    "        tf[col+'_min']=df.groupby('series_id')[col].min()\n",
    "        tf[col + '_max_to_min'] = tf[col + '_max'] / tf[col + '_min']\n",
    "        tf[col+'_abs_max']=df.groupby('series_id')[col].apply(lambda x: np.max(np.abs(x)))\n",
    "        tf[col+'_abs_min']=df.groupby('series_id')[col].apply(lambda x: np.min(np.abs(x)))\n",
    "        tf[col+'_mad']=df.groupby('series_id')[col].mad()\n",
    "        tf[col+'_kurtosis']=df.groupby('series_id')[col].apply(lambda x: x.kurtosis())\n",
    "        tf[col+'_skew']=df.groupby('series_id')[col].skew()\n",
    "        tf[col+'_median']=df.groupby('series_id')[col].median()\n",
    "        tf[col+'_rolling_avg_10']=df.groupby('series_id')[col].rolling(10).mean().mean(skipna=True)\n",
    "        tf[col+'_rolling_avg_10']=df.groupby('series_id')[col].rolling(10).std().mean(skipna=True)\n",
    "    return tf"
   ]
  },
  {
   "cell_type": "code",
   "execution_count": 15,
   "metadata": {},
   "outputs": [],
   "source": [
    "train_df=new_features(train,train_df)\n",
    "test_df=new_features(test,test_df)"
   ]
  },
  {
   "cell_type": "code",
   "execution_count": 16,
   "metadata": {},
   "outputs": [
    {
     "data": {
      "text/plain": [
       "0    fine_concrete\n",
       "1         concrete\n",
       "2         concrete\n",
       "3         concrete\n",
       "4       soft_tiles\n",
       "Name: surface, dtype: object"
      ]
     },
     "execution_count": 16,
     "metadata": {},
     "output_type": "execute_result"
    }
   ],
   "source": [
    "new_train=train_df.copy()\n",
    "new_test=test_df.copy()\n",
    "y_new=y['surface']\n",
    "y_new.head()"
   ]
  },
  {
   "cell_type": "code",
   "execution_count": 34,
   "metadata": {},
   "outputs": [
    {
     "data": {
      "text/html": [
       "<div>\n",
       "<style scoped>\n",
       "    .dataframe tbody tr th:only-of-type {\n",
       "        vertical-align: middle;\n",
       "    }\n",
       "\n",
       "    .dataframe tbody tr th {\n",
       "        vertical-align: top;\n",
       "    }\n",
       "\n",
       "    .dataframe thead th {\n",
       "        text-align: right;\n",
       "    }\n",
       "</style>\n",
       "<table border=\"1\" class=\"dataframe\">\n",
       "  <thead>\n",
       "    <tr style=\"text-align: right;\">\n",
       "      <th></th>\n",
       "      <th>series_id</th>\n",
       "      <th>orientation_X_mean</th>\n",
       "      <th>orientation_X_std</th>\n",
       "      <th>orientation_X_max</th>\n",
       "      <th>orientation_X_min</th>\n",
       "      <th>orientation_X_max_to_min</th>\n",
       "      <th>orientation_X_abs_max</th>\n",
       "      <th>orientation_X_abs_min</th>\n",
       "      <th>orientation_X_mad</th>\n",
       "      <th>orientation_X_kurtosis</th>\n",
       "      <th>...</th>\n",
       "      <th>linear_acceleration_Z_min</th>\n",
       "      <th>linear_acceleration_Z_max_to_min</th>\n",
       "      <th>linear_acceleration_Z_abs_max</th>\n",
       "      <th>linear_acceleration_Z_abs_min</th>\n",
       "      <th>linear_acceleration_Z_mad</th>\n",
       "      <th>linear_acceleration_Z_kurtosis</th>\n",
       "      <th>linear_acceleration_Z_skew</th>\n",
       "      <th>linear_acceleration_Z_median</th>\n",
       "      <th>linear_acceleration_Z_rolling_avg_10</th>\n",
       "      <th>surface</th>\n",
       "    </tr>\n",
       "  </thead>\n",
       "  <tbody>\n",
       "    <tr>\n",
       "      <td>0</td>\n",
       "      <td>0</td>\n",
       "      <td>-0.758666</td>\n",
       "      <td>0.000363</td>\n",
       "      <td>-0.75822</td>\n",
       "      <td>-0.75953</td>\n",
       "      <td>0.998275</td>\n",
       "      <td>0.75953</td>\n",
       "      <td>0.75822</td>\n",
       "      <td>0.000311</td>\n",
       "      <td>-0.646196</td>\n",
       "      <td>...</td>\n",
       "      <td>-12.5120</td>\n",
       "      <td>0.500967</td>\n",
       "      <td>12.5120</td>\n",
       "      <td>6.268100</td>\n",
       "      <td>0.839636</td>\n",
       "      <td>0.532135</td>\n",
       "      <td>0.067391</td>\n",
       "      <td>-9.42995</td>\n",
       "      <td>1.951229</td>\n",
       "      <td>2</td>\n",
       "    </tr>\n",
       "    <tr>\n",
       "      <td>1</td>\n",
       "      <td>1</td>\n",
       "      <td>-0.958606</td>\n",
       "      <td>0.000151</td>\n",
       "      <td>-0.95837</td>\n",
       "      <td>-0.95896</td>\n",
       "      <td>0.999385</td>\n",
       "      <td>0.95896</td>\n",
       "      <td>0.95837</td>\n",
       "      <td>0.000126</td>\n",
       "      <td>-0.642996</td>\n",
       "      <td>...</td>\n",
       "      <td>-16.9280</td>\n",
       "      <td>0.162151</td>\n",
       "      <td>16.9280</td>\n",
       "      <td>2.744900</td>\n",
       "      <td>1.562716</td>\n",
       "      <td>1.356800</td>\n",
       "      <td>-0.126848</td>\n",
       "      <td>-9.41380</td>\n",
       "      <td>1.951229</td>\n",
       "      <td>1</td>\n",
       "    </tr>\n",
       "    <tr>\n",
       "      <td>2</td>\n",
       "      <td>2</td>\n",
       "      <td>-0.512057</td>\n",
       "      <td>0.001377</td>\n",
       "      <td>-0.50944</td>\n",
       "      <td>-0.51434</td>\n",
       "      <td>0.990473</td>\n",
       "      <td>0.51434</td>\n",
       "      <td>0.50944</td>\n",
       "      <td>0.001144</td>\n",
       "      <td>-1.052580</td>\n",
       "      <td>...</td>\n",
       "      <td>-12.4990</td>\n",
       "      <td>0.459573</td>\n",
       "      <td>12.4990</td>\n",
       "      <td>5.744200</td>\n",
       "      <td>0.889865</td>\n",
       "      <td>0.446304</td>\n",
       "      <td>0.085877</td>\n",
       "      <td>-9.37440</td>\n",
       "      <td>1.951229</td>\n",
       "      <td>1</td>\n",
       "    </tr>\n",
       "    <tr>\n",
       "      <td>3</td>\n",
       "      <td>3</td>\n",
       "      <td>-0.939169</td>\n",
       "      <td>0.000227</td>\n",
       "      <td>-0.93884</td>\n",
       "      <td>-0.93968</td>\n",
       "      <td>0.999106</td>\n",
       "      <td>0.93968</td>\n",
       "      <td>0.93884</td>\n",
       "      <td>0.000197</td>\n",
       "      <td>-1.078090</td>\n",
       "      <td>...</td>\n",
       "      <td>-19.8450</td>\n",
       "      <td>0.028173</td>\n",
       "      <td>19.8450</td>\n",
       "      <td>0.559100</td>\n",
       "      <td>2.601023</td>\n",
       "      <td>0.670500</td>\n",
       "      <td>-0.210103</td>\n",
       "      <td>-9.16170</td>\n",
       "      <td>1.951229</td>\n",
       "      <td>1</td>\n",
       "    </tr>\n",
       "    <tr>\n",
       "      <td>4</td>\n",
       "      <td>4</td>\n",
       "      <td>-0.891301</td>\n",
       "      <td>0.002955</td>\n",
       "      <td>-0.88673</td>\n",
       "      <td>-0.89689</td>\n",
       "      <td>0.988672</td>\n",
       "      <td>0.89689</td>\n",
       "      <td>0.88673</td>\n",
       "      <td>0.002562</td>\n",
       "      <td>-1.165941</td>\n",
       "      <td>...</td>\n",
       "      <td>-10.9750</td>\n",
       "      <td>0.678724</td>\n",
       "      <td>10.9750</td>\n",
       "      <td>7.449000</td>\n",
       "      <td>0.654576</td>\n",
       "      <td>-0.486618</td>\n",
       "      <td>0.106132</td>\n",
       "      <td>-9.33280</td>\n",
       "      <td>1.951229</td>\n",
       "      <td>6</td>\n",
       "    </tr>\n",
       "    <tr>\n",
       "      <td>...</td>\n",
       "      <td>...</td>\n",
       "      <td>...</td>\n",
       "      <td>...</td>\n",
       "      <td>...</td>\n",
       "      <td>...</td>\n",
       "      <td>...</td>\n",
       "      <td>...</td>\n",
       "      <td>...</td>\n",
       "      <td>...</td>\n",
       "      <td>...</td>\n",
       "      <td>...</td>\n",
       "      <td>...</td>\n",
       "      <td>...</td>\n",
       "      <td>...</td>\n",
       "      <td>...</td>\n",
       "      <td>...</td>\n",
       "      <td>...</td>\n",
       "      <td>...</td>\n",
       "      <td>...</td>\n",
       "      <td>...</td>\n",
       "      <td>...</td>\n",
       "    </tr>\n",
       "    <tr>\n",
       "      <td>3805</td>\n",
       "      <td>3805</td>\n",
       "      <td>-0.228787</td>\n",
       "      <td>0.001069</td>\n",
       "      <td>-0.22638</td>\n",
       "      <td>-0.23001</td>\n",
       "      <td>0.984218</td>\n",
       "      <td>0.23001</td>\n",
       "      <td>0.22638</td>\n",
       "      <td>0.000912</td>\n",
       "      <td>-0.642474</td>\n",
       "      <td>...</td>\n",
       "      <td>-22.2530</td>\n",
       "      <td>-0.222752</td>\n",
       "      <td>22.2530</td>\n",
       "      <td>0.005054</td>\n",
       "      <td>3.412695</td>\n",
       "      <td>0.921595</td>\n",
       "      <td>0.205344</td>\n",
       "      <td>-9.65750</td>\n",
       "      <td>1.951229</td>\n",
       "      <td>7</td>\n",
       "    </tr>\n",
       "    <tr>\n",
       "      <td>3806</td>\n",
       "      <td>3806</td>\n",
       "      <td>0.542262</td>\n",
       "      <td>0.001188</td>\n",
       "      <td>0.54436</td>\n",
       "      <td>0.54028</td>\n",
       "      <td>1.007552</td>\n",
       "      <td>0.54436</td>\n",
       "      <td>0.54028</td>\n",
       "      <td>0.001026</td>\n",
       "      <td>-1.219637</td>\n",
       "      <td>...</td>\n",
       "      <td>-9.4094</td>\n",
       "      <td>0.990339</td>\n",
       "      <td>9.4094</td>\n",
       "      <td>9.318500</td>\n",
       "      <td>0.015504</td>\n",
       "      <td>-0.511157</td>\n",
       "      <td>0.060870</td>\n",
       "      <td>-9.36740</td>\n",
       "      <td>1.951229</td>\n",
       "      <td>8</td>\n",
       "    </tr>\n",
       "    <tr>\n",
       "      <td>3807</td>\n",
       "      <td>3807</td>\n",
       "      <td>-0.416511</td>\n",
       "      <td>0.014830</td>\n",
       "      <td>-0.39188</td>\n",
       "      <td>-0.44250</td>\n",
       "      <td>0.885605</td>\n",
       "      <td>0.44250</td>\n",
       "      <td>0.39188</td>\n",
       "      <td>0.012814</td>\n",
       "      <td>-1.214983</td>\n",
       "      <td>...</td>\n",
       "      <td>-24.6860</td>\n",
       "      <td>-0.124913</td>\n",
       "      <td>24.6860</td>\n",
       "      <td>0.133240</td>\n",
       "      <td>4.363004</td>\n",
       "      <td>-0.024262</td>\n",
       "      <td>-0.044238</td>\n",
       "      <td>-9.53715</td>\n",
       "      <td>1.951229</td>\n",
       "      <td>2</td>\n",
       "    </tr>\n",
       "    <tr>\n",
       "      <td>3808</td>\n",
       "      <td>3808</td>\n",
       "      <td>-0.264584</td>\n",
       "      <td>0.004351</td>\n",
       "      <td>-0.25672</td>\n",
       "      <td>-0.27113</td>\n",
       "      <td>0.946852</td>\n",
       "      <td>0.27113</td>\n",
       "      <td>0.25672</td>\n",
       "      <td>0.003832</td>\n",
       "      <td>-1.233735</td>\n",
       "      <td>...</td>\n",
       "      <td>-17.3750</td>\n",
       "      <td>0.034757</td>\n",
       "      <td>17.3750</td>\n",
       "      <td>0.603910</td>\n",
       "      <td>2.486850</td>\n",
       "      <td>0.152798</td>\n",
       "      <td>0.108252</td>\n",
       "      <td>-9.40045</td>\n",
       "      <td>1.951229</td>\n",
       "      <td>7</td>\n",
       "    </tr>\n",
       "    <tr>\n",
       "      <td>3809</td>\n",
       "      <td>3809</td>\n",
       "      <td>0.627878</td>\n",
       "      <td>0.000633</td>\n",
       "      <td>0.62951</td>\n",
       "      <td>0.62705</td>\n",
       "      <td>1.003923</td>\n",
       "      <td>0.62951</td>\n",
       "      <td>0.62705</td>\n",
       "      <td>0.000534</td>\n",
       "      <td>-0.239913</td>\n",
       "      <td>...</td>\n",
       "      <td>-13.3650</td>\n",
       "      <td>0.568657</td>\n",
       "      <td>13.3650</td>\n",
       "      <td>7.600100</td>\n",
       "      <td>0.764262</td>\n",
       "      <td>1.763577</td>\n",
       "      <td>-0.881500</td>\n",
       "      <td>-9.46180</td>\n",
       "      <td>1.951229</td>\n",
       "      <td>5</td>\n",
       "    </tr>\n",
       "  </tbody>\n",
       "</table>\n",
       "<p>3810 rows × 122 columns</p>\n",
       "</div>"
      ],
      "text/plain": [
       "      series_id  orientation_X_mean  orientation_X_std  orientation_X_max  \\\n",
       "0             0           -0.758666           0.000363           -0.75822   \n",
       "1             1           -0.958606           0.000151           -0.95837   \n",
       "2             2           -0.512057           0.001377           -0.50944   \n",
       "3             3           -0.939169           0.000227           -0.93884   \n",
       "4             4           -0.891301           0.002955           -0.88673   \n",
       "...         ...                 ...                ...                ...   \n",
       "3805       3805           -0.228787           0.001069           -0.22638   \n",
       "3806       3806            0.542262           0.001188            0.54436   \n",
       "3807       3807           -0.416511           0.014830           -0.39188   \n",
       "3808       3808           -0.264584           0.004351           -0.25672   \n",
       "3809       3809            0.627878           0.000633            0.62951   \n",
       "\n",
       "      orientation_X_min  orientation_X_max_to_min  orientation_X_abs_max  \\\n",
       "0              -0.75953                  0.998275                0.75953   \n",
       "1              -0.95896                  0.999385                0.95896   \n",
       "2              -0.51434                  0.990473                0.51434   \n",
       "3              -0.93968                  0.999106                0.93968   \n",
       "4              -0.89689                  0.988672                0.89689   \n",
       "...                 ...                       ...                    ...   \n",
       "3805           -0.23001                  0.984218                0.23001   \n",
       "3806            0.54028                  1.007552                0.54436   \n",
       "3807           -0.44250                  0.885605                0.44250   \n",
       "3808           -0.27113                  0.946852                0.27113   \n",
       "3809            0.62705                  1.003923                0.62951   \n",
       "\n",
       "      orientation_X_abs_min  orientation_X_mad  orientation_X_kurtosis  ...  \\\n",
       "0                   0.75822           0.000311               -0.646196  ...   \n",
       "1                   0.95837           0.000126               -0.642996  ...   \n",
       "2                   0.50944           0.001144               -1.052580  ...   \n",
       "3                   0.93884           0.000197               -1.078090  ...   \n",
       "4                   0.88673           0.002562               -1.165941  ...   \n",
       "...                     ...                ...                     ...  ...   \n",
       "3805                0.22638           0.000912               -0.642474  ...   \n",
       "3806                0.54028           0.001026               -1.219637  ...   \n",
       "3807                0.39188           0.012814               -1.214983  ...   \n",
       "3808                0.25672           0.003832               -1.233735  ...   \n",
       "3809                0.62705           0.000534               -0.239913  ...   \n",
       "\n",
       "      linear_acceleration_Z_min  linear_acceleration_Z_max_to_min  \\\n",
       "0                      -12.5120                          0.500967   \n",
       "1                      -16.9280                          0.162151   \n",
       "2                      -12.4990                          0.459573   \n",
       "3                      -19.8450                          0.028173   \n",
       "4                      -10.9750                          0.678724   \n",
       "...                         ...                               ...   \n",
       "3805                   -22.2530                         -0.222752   \n",
       "3806                    -9.4094                          0.990339   \n",
       "3807                   -24.6860                         -0.124913   \n",
       "3808                   -17.3750                          0.034757   \n",
       "3809                   -13.3650                          0.568657   \n",
       "\n",
       "      linear_acceleration_Z_abs_max  linear_acceleration_Z_abs_min  \\\n",
       "0                           12.5120                       6.268100   \n",
       "1                           16.9280                       2.744900   \n",
       "2                           12.4990                       5.744200   \n",
       "3                           19.8450                       0.559100   \n",
       "4                           10.9750                       7.449000   \n",
       "...                             ...                            ...   \n",
       "3805                        22.2530                       0.005054   \n",
       "3806                         9.4094                       9.318500   \n",
       "3807                        24.6860                       0.133240   \n",
       "3808                        17.3750                       0.603910   \n",
       "3809                        13.3650                       7.600100   \n",
       "\n",
       "      linear_acceleration_Z_mad  linear_acceleration_Z_kurtosis  \\\n",
       "0                      0.839636                        0.532135   \n",
       "1                      1.562716                        1.356800   \n",
       "2                      0.889865                        0.446304   \n",
       "3                      2.601023                        0.670500   \n",
       "4                      0.654576                       -0.486618   \n",
       "...                         ...                             ...   \n",
       "3805                   3.412695                        0.921595   \n",
       "3806                   0.015504                       -0.511157   \n",
       "3807                   4.363004                       -0.024262   \n",
       "3808                   2.486850                        0.152798   \n",
       "3809                   0.764262                        1.763577   \n",
       "\n",
       "      linear_acceleration_Z_skew  linear_acceleration_Z_median  \\\n",
       "0                       0.067391                      -9.42995   \n",
       "1                      -0.126848                      -9.41380   \n",
       "2                       0.085877                      -9.37440   \n",
       "3                      -0.210103                      -9.16170   \n",
       "4                       0.106132                      -9.33280   \n",
       "...                          ...                           ...   \n",
       "3805                    0.205344                      -9.65750   \n",
       "3806                    0.060870                      -9.36740   \n",
       "3807                   -0.044238                      -9.53715   \n",
       "3808                    0.108252                      -9.40045   \n",
       "3809                   -0.881500                      -9.46180   \n",
       "\n",
       "      linear_acceleration_Z_rolling_avg_10  surface  \n",
       "0                                 1.951229        2  \n",
       "1                                 1.951229        1  \n",
       "2                                 1.951229        1  \n",
       "3                                 1.951229        1  \n",
       "4                                 1.951229        6  \n",
       "...                                    ...      ...  \n",
       "3805                              1.951229        7  \n",
       "3806                              1.951229        8  \n",
       "3807                              1.951229        2  \n",
       "3808                              1.951229        7  \n",
       "3809                              1.951229        5  \n",
       "\n",
       "[3810 rows x 122 columns]"
      ]
     },
     "execution_count": 34,
     "metadata": {},
     "output_type": "execute_result"
    }
   ],
   "source": [
    "new_train"
   ]
  },
  {
   "cell_type": "code",
   "execution_count": 17,
   "metadata": {},
   "outputs": [],
   "source": [
    "new_train['surface']=y['surface']\n"
   ]
  },
  {
   "cell_type": "code",
   "execution_count": 18,
   "metadata": {},
   "outputs": [],
   "source": [
    "from sklearn.preprocessing import LabelEncoder\n",
    "lbl=LabelEncoder()\n",
    "lbl.fit(list(new_train['surface'].values))\n",
    "new_train['surface'] = lbl.transform(list(new_train['surface'].values))\n",
    "\n"
   ]
  },
  {
   "cell_type": "code",
   "execution_count": 19,
   "metadata": {},
   "outputs": [],
   "source": [
    "min_max=preprocessing.MinMaxScaler()\n",
    "np_1=min_max.fit_transform(new_train)\n",
    "np_2=min_max.fit_transform(new_test)\n",
    "train_norm=pd.DataFrame(np_1,columns=new_train.columns)\n",
    "test_norm=pd.DataFrame(np_2,columns=new_test.columns)\n"
   ]
  },
  {
   "cell_type": "code",
   "execution_count": 37,
   "metadata": {},
   "outputs": [
    {
     "data": {
      "text/plain": [
       "0       fine_concrete\n",
       "1            concrete\n",
       "2            concrete\n",
       "3            concrete\n",
       "4          soft_tiles\n",
       "            ...      \n",
       "3805            tiled\n",
       "3806             wood\n",
       "3807    fine_concrete\n",
       "3808            tiled\n",
       "3809         soft_pvc\n",
       "Name: surface, Length: 3810, dtype: object"
      ]
     },
     "execution_count": 37,
     "metadata": {},
     "output_type": "execute_result"
    }
   ],
   "source": []
  },
  {
   "cell_type": "code",
   "execution_count": 20,
   "metadata": {},
   "outputs": [
    {
     "data": {
      "text/plain": [
       "array([0.25 , 0.125, 0.75 , 0.875, 0.625, 0.5  , 0.   , 0.375, 1.   ])"
      ]
     },
     "execution_count": 20,
     "metadata": {},
     "output_type": "execute_result"
    }
   ],
   "source": [
    "train_norm['surface'].unique()"
   ]
  },
  {
   "cell_type": "code",
   "execution_count": 21,
   "metadata": {},
   "outputs": [],
   "source": [
    "del train_norm['surface']"
   ]
  },
  {
   "cell_type": "code",
   "execution_count": 51,
   "metadata": {},
   "outputs": [
    {
     "data": {
      "text/plain": [
       "\"'param_grid={'n_estimators':[200,500,10000],\\n            'max_features':['auto','sqrt','log2'],\\n            'max_depth':[4,5,6,7,8],\\n            'criterion':['gini','entropy']\\n}\\ncv_rf=GridSearchCV(estimator=clf,param_grid=param_grid,cv=5)\\ncv_rf.fit(X_train,y_train)\\ncv_rf.score(X_train,y_train)\\ncv_rf.best_params_\\n\""
      ]
     },
     "execution_count": 51,
     "metadata": {},
     "output_type": "execute_result"
    }
   ],
   "source": [
    "from sklearn.ensemble import RandomForestClassifier\n",
    "from xgboost import XGBClassifier\n",
    "from sklearn.model_selection import train_test_split\n",
    "from sklearn.model_selection import GridSearchCV\n",
    "rf = RandomForestClassifier(n_estimators=1000, min_samples_leaf=5, max_features=0.5, n_jobs=-1, oob_score=True)\n",
    "X_train, X_valid, y_train, y_valid = train_test_split(train_df, y_new, test_size = 0.2, random_state = 42)\n",
    "rf.fit(X_train, y_train)\n",
    "\n",
    "''''param_grid={'n_estimators':[200,500,10000],\n",
    "            'max_features':['auto','sqrt','log2'],\n",
    "            'max_depth':[4,5,6,7,8],\n",
    "            'criterion':['gini','entropy']\n",
    "}\n",
    "cv_rf=GridSearchCV(estimator=clf,param_grid=param_grid,cv=5)\n",
    "cv_rf.fit(X_train,y_train)\n",
    "cv_rf.score(X_train,y_train)\n",
    "cv_rf.best_params_\n",
    "'''\n",
    "\n",
    "\n"
   ]
  },
  {
   "cell_type": "code",
   "execution_count": 60,
   "metadata": {},
   "outputs": [
    {
     "data": {
      "text/html": [
       "<div>\n",
       "<style scoped>\n",
       "    .dataframe tbody tr th:only-of-type {\n",
       "        vertical-align: middle;\n",
       "    }\n",
       "\n",
       "    .dataframe tbody tr th {\n",
       "        vertical-align: top;\n",
       "    }\n",
       "\n",
       "    .dataframe thead th {\n",
       "        text-align: right;\n",
       "    }\n",
       "</style>\n",
       "<table border=\"1\" class=\"dataframe\">\n",
       "  <thead>\n",
       "    <tr style=\"text-align: right;\">\n",
       "      <th></th>\n",
       "      <th>series_id</th>\n",
       "      <th>orientation_X_mean</th>\n",
       "      <th>orientation_X_std</th>\n",
       "      <th>orientation_X_max</th>\n",
       "      <th>orientation_X_min</th>\n",
       "      <th>orientation_X_max_to_min</th>\n",
       "      <th>orientation_X_abs_max</th>\n",
       "      <th>orientation_X_abs_min</th>\n",
       "      <th>orientation_X_mad</th>\n",
       "      <th>orientation_X_kurtosis</th>\n",
       "      <th>...</th>\n",
       "      <th>linear_acceleration_Z_max</th>\n",
       "      <th>linear_acceleration_Z_min</th>\n",
       "      <th>linear_acceleration_Z_max_to_min</th>\n",
       "      <th>linear_acceleration_Z_abs_max</th>\n",
       "      <th>linear_acceleration_Z_abs_min</th>\n",
       "      <th>linear_acceleration_Z_mad</th>\n",
       "      <th>linear_acceleration_Z_kurtosis</th>\n",
       "      <th>linear_acceleration_Z_skew</th>\n",
       "      <th>linear_acceleration_Z_median</th>\n",
       "      <th>linear_acceleration_Z_rolling_avg_10</th>\n",
       "    </tr>\n",
       "  </thead>\n",
       "  <tbody>\n",
       "    <tr>\n",
       "      <td>count</td>\n",
       "      <td>3048.000000</td>\n",
       "      <td>3048.000000</td>\n",
       "      <td>3048.000000</td>\n",
       "      <td>3048.000000</td>\n",
       "      <td>3048.000000</td>\n",
       "      <td>3048.000000</td>\n",
       "      <td>3048.000000</td>\n",
       "      <td>3.048000e+03</td>\n",
       "      <td>3048.000000</td>\n",
       "      <td>3048.000000</td>\n",
       "      <td>...</td>\n",
       "      <td>3048.000000</td>\n",
       "      <td>3048.000000</td>\n",
       "      <td>3048.000000</td>\n",
       "      <td>3048.000000</td>\n",
       "      <td>3048.000000</td>\n",
       "      <td>3048.000000</td>\n",
       "      <td>3048.000000</td>\n",
       "      <td>3048.000000</td>\n",
       "      <td>3048.000000</td>\n",
       "      <td>3.048000e+03</td>\n",
       "    </tr>\n",
       "    <tr>\n",
       "      <td>mean</td>\n",
       "      <td>1924.353675</td>\n",
       "      <td>-0.020085</td>\n",
       "      <td>0.004165</td>\n",
       "      <td>-0.012974</td>\n",
       "      <td>-0.027189</td>\n",
       "      <td>1.060179</td>\n",
       "      <td>0.628869</td>\n",
       "      <td>6.147604e-01</td>\n",
       "      <td>0.003589</td>\n",
       "      <td>-0.919026</td>\n",
       "      <td>...</td>\n",
       "      <td>-3.508005</td>\n",
       "      <td>-15.461424</td>\n",
       "      <td>0.352356</td>\n",
       "      <td>15.463918</td>\n",
       "      <td>4.646486</td>\n",
       "      <td>1.623608</td>\n",
       "      <td>0.509915</td>\n",
       "      <td>-0.040549</td>\n",
       "      <td>-9.354869</td>\n",
       "      <td>1.951229e+00</td>\n",
       "    </tr>\n",
       "    <tr>\n",
       "      <td>std</td>\n",
       "      <td>1097.663110</td>\n",
       "      <td>0.685110</td>\n",
       "      <td>0.006378</td>\n",
       "      <td>0.685504</td>\n",
       "      <td>0.684734</td>\n",
       "      <td>3.095242</td>\n",
       "      <td>0.285156</td>\n",
       "      <td>2.910434e-01</td>\n",
       "      <td>0.005507</td>\n",
       "      <td>0.825650</td>\n",
       "      <td>...</td>\n",
       "      <td>5.589626</td>\n",
       "      <td>5.819928</td>\n",
       "      <td>0.376922</td>\n",
       "      <td>5.837590</td>\n",
       "      <td>3.163314</td>\n",
       "      <td>1.383997</td>\n",
       "      <td>1.943006</td>\n",
       "      <td>0.338881</td>\n",
       "      <td>0.160136</td>\n",
       "      <td>4.441621e-16</td>\n",
       "    </tr>\n",
       "    <tr>\n",
       "      <td>min</td>\n",
       "      <td>1.000000</td>\n",
       "      <td>-0.988844</td>\n",
       "      <td>0.000012</td>\n",
       "      <td>-0.988590</td>\n",
       "      <td>-0.989100</td>\n",
       "      <td>-10.383904</td>\n",
       "      <td>0.002182</td>\n",
       "      <td>7.084100e-07</td>\n",
       "      <td>0.000011</td>\n",
       "      <td>-1.721015</td>\n",
       "      <td>...</td>\n",
       "      <td>-9.404700</td>\n",
       "      <td>-65.492000</td>\n",
       "      <td>-1.073698</td>\n",
       "      <td>9.369800</td>\n",
       "      <td>0.000190</td>\n",
       "      <td>0.007470</td>\n",
       "      <td>-1.189077</td>\n",
       "      <td>-7.389460</td>\n",
       "      <td>-10.111000</td>\n",
       "      <td>1.951229e+00</td>\n",
       "    </tr>\n",
       "    <tr>\n",
       "      <td>25%</td>\n",
       "      <td>971.750000</td>\n",
       "      <td>-0.706948</td>\n",
       "      <td>0.000672</td>\n",
       "      <td>-0.701372</td>\n",
       "      <td>-0.710263</td>\n",
       "      <td>0.986129</td>\n",
       "      <td>0.399377</td>\n",
       "      <td>3.854625e-01</td>\n",
       "      <td>0.000568</td>\n",
       "      <td>-1.207027</td>\n",
       "      <td>...</td>\n",
       "      <td>-7.620075</td>\n",
       "      <td>-18.185500</td>\n",
       "      <td>0.050031</td>\n",
       "      <td>11.148500</td>\n",
       "      <td>1.173300</td>\n",
       "      <td>0.550754</td>\n",
       "      <td>-0.294218</td>\n",
       "      <td>-0.174877</td>\n",
       "      <td>-9.435125</td>\n",
       "      <td>1.951229e+00</td>\n",
       "    </tr>\n",
       "    <tr>\n",
       "      <td>50%</td>\n",
       "      <td>1936.000000</td>\n",
       "      <td>-0.109708</td>\n",
       "      <td>0.001678</td>\n",
       "      <td>-0.095160</td>\n",
       "      <td>-0.130605</td>\n",
       "      <td>0.999131</td>\n",
       "      <td>0.683445</td>\n",
       "      <td>6.625350e-01</td>\n",
       "      <td>0.001439</td>\n",
       "      <td>-1.134004</td>\n",
       "      <td>...</td>\n",
       "      <td>-5.335250</td>\n",
       "      <td>-13.413500</td>\n",
       "      <td>0.396611</td>\n",
       "      <td>13.413500</td>\n",
       "      <td>5.335250</td>\n",
       "      <td>1.225715</td>\n",
       "      <td>0.077188</td>\n",
       "      <td>-0.012278</td>\n",
       "      <td>-9.358950</td>\n",
       "      <td>1.951229e+00</td>\n",
       "    </tr>\n",
       "    <tr>\n",
       "      <td>75%</td>\n",
       "      <td>2880.250000</td>\n",
       "      <td>0.649045</td>\n",
       "      <td>0.004509</td>\n",
       "      <td>0.657445</td>\n",
       "      <td>0.642707</td>\n",
       "      <td>1.008479</td>\n",
       "      <td>0.882240</td>\n",
       "      <td>8.754875e-01</td>\n",
       "      <td>0.003881</td>\n",
       "      <td>-0.856117</td>\n",
       "      <td>...</td>\n",
       "      <td>-0.898588</td>\n",
       "      <td>-11.148500</td>\n",
       "      <td>0.682458</td>\n",
       "      <td>18.185500</td>\n",
       "      <td>7.620075</td>\n",
       "      <td>2.367586</td>\n",
       "      <td>0.768163</td>\n",
       "      <td>0.120738</td>\n",
       "      <td>-9.284662</td>\n",
       "      <td>1.951229e+00</td>\n",
       "    </tr>\n",
       "    <tr>\n",
       "      <td>max</td>\n",
       "      <td>3809.000000</td>\n",
       "      <td>0.988643</td>\n",
       "      <td>0.042887</td>\n",
       "      <td>0.989100</td>\n",
       "      <td>0.988340</td>\n",
       "      <td>168.541728</td>\n",
       "      <td>0.989100</td>\n",
       "      <td>9.885900e-01</td>\n",
       "      <td>0.037026</td>\n",
       "      <td>28.244517</td>\n",
       "      <td>...</td>\n",
       "      <td>65.839000</td>\n",
       "      <td>-9.369800</td>\n",
       "      <td>0.995507</td>\n",
       "      <td>65.839000</td>\n",
       "      <td>9.404700</td>\n",
       "      <td>14.745362</td>\n",
       "      <td>62.989022</td>\n",
       "      <td>1.648874</td>\n",
       "      <td>-7.835400</td>\n",
       "      <td>1.951229e+00</td>\n",
       "    </tr>\n",
       "  </tbody>\n",
       "</table>\n",
       "<p>8 rows × 121 columns</p>\n",
       "</div>"
      ],
      "text/plain": [
       "         series_id  orientation_X_mean  orientation_X_std  orientation_X_max  \\\n",
       "count  3048.000000         3048.000000        3048.000000        3048.000000   \n",
       "mean   1924.353675           -0.020085           0.004165          -0.012974   \n",
       "std    1097.663110            0.685110           0.006378           0.685504   \n",
       "min       1.000000           -0.988844           0.000012          -0.988590   \n",
       "25%     971.750000           -0.706948           0.000672          -0.701372   \n",
       "50%    1936.000000           -0.109708           0.001678          -0.095160   \n",
       "75%    2880.250000            0.649045           0.004509           0.657445   \n",
       "max    3809.000000            0.988643           0.042887           0.989100   \n",
       "\n",
       "       orientation_X_min  orientation_X_max_to_min  orientation_X_abs_max  \\\n",
       "count        3048.000000               3048.000000            3048.000000   \n",
       "mean           -0.027189                  1.060179               0.628869   \n",
       "std             0.684734                  3.095242               0.285156   \n",
       "min            -0.989100                -10.383904               0.002182   \n",
       "25%            -0.710263                  0.986129               0.399377   \n",
       "50%            -0.130605                  0.999131               0.683445   \n",
       "75%             0.642707                  1.008479               0.882240   \n",
       "max             0.988340                168.541728               0.989100   \n",
       "\n",
       "       orientation_X_abs_min  orientation_X_mad  orientation_X_kurtosis  ...  \\\n",
       "count           3.048000e+03        3048.000000             3048.000000  ...   \n",
       "mean            6.147604e-01           0.003589               -0.919026  ...   \n",
       "std             2.910434e-01           0.005507                0.825650  ...   \n",
       "min             7.084100e-07           0.000011               -1.721015  ...   \n",
       "25%             3.854625e-01           0.000568               -1.207027  ...   \n",
       "50%             6.625350e-01           0.001439               -1.134004  ...   \n",
       "75%             8.754875e-01           0.003881               -0.856117  ...   \n",
       "max             9.885900e-01           0.037026               28.244517  ...   \n",
       "\n",
       "       linear_acceleration_Z_max  linear_acceleration_Z_min  \\\n",
       "count                3048.000000                3048.000000   \n",
       "mean                   -3.508005                 -15.461424   \n",
       "std                     5.589626                   5.819928   \n",
       "min                    -9.404700                 -65.492000   \n",
       "25%                    -7.620075                 -18.185500   \n",
       "50%                    -5.335250                 -13.413500   \n",
       "75%                    -0.898588                 -11.148500   \n",
       "max                    65.839000                  -9.369800   \n",
       "\n",
       "       linear_acceleration_Z_max_to_min  linear_acceleration_Z_abs_max  \\\n",
       "count                       3048.000000                    3048.000000   \n",
       "mean                           0.352356                      15.463918   \n",
       "std                            0.376922                       5.837590   \n",
       "min                           -1.073698                       9.369800   \n",
       "25%                            0.050031                      11.148500   \n",
       "50%                            0.396611                      13.413500   \n",
       "75%                            0.682458                      18.185500   \n",
       "max                            0.995507                      65.839000   \n",
       "\n",
       "       linear_acceleration_Z_abs_min  linear_acceleration_Z_mad  \\\n",
       "count                    3048.000000                3048.000000   \n",
       "mean                        4.646486                   1.623608   \n",
       "std                         3.163314                   1.383997   \n",
       "min                         0.000190                   0.007470   \n",
       "25%                         1.173300                   0.550754   \n",
       "50%                         5.335250                   1.225715   \n",
       "75%                         7.620075                   2.367586   \n",
       "max                         9.404700                  14.745362   \n",
       "\n",
       "       linear_acceleration_Z_kurtosis  linear_acceleration_Z_skew  \\\n",
       "count                     3048.000000                 3048.000000   \n",
       "mean                         0.509915                   -0.040549   \n",
       "std                          1.943006                    0.338881   \n",
       "min                         -1.189077                   -7.389460   \n",
       "25%                         -0.294218                   -0.174877   \n",
       "50%                          0.077188                   -0.012278   \n",
       "75%                          0.768163                    0.120738   \n",
       "max                         62.989022                    1.648874   \n",
       "\n",
       "       linear_acceleration_Z_median  linear_acceleration_Z_rolling_avg_10  \n",
       "count                   3048.000000                          3.048000e+03  \n",
       "mean                      -9.354869                          1.951229e+00  \n",
       "std                        0.160136                          4.441621e-16  \n",
       "min                      -10.111000                          1.951229e+00  \n",
       "25%                       -9.435125                          1.951229e+00  \n",
       "50%                       -9.358950                          1.951229e+00  \n",
       "75%                       -9.284662                          1.951229e+00  \n",
       "max                       -7.835400                          1.951229e+00  \n",
       "\n",
       "[8 rows x 121 columns]"
      ]
     },
     "execution_count": 60,
     "metadata": {},
     "output_type": "execute_result"
    }
   ],
   "source": [
    "X_train.describe()"
   ]
  },
  {
   "cell_type": "code",
   "execution_count": 52,
   "metadata": {},
   "outputs": [
    {
     "data": {
      "text/plain": [
       "0.9662073490813649"
      ]
     },
     "execution_count": 52,
     "metadata": {},
     "output_type": "execute_result"
    }
   ],
   "source": [
    "rf.score(X_train,y_train)"
   ]
  },
  {
   "cell_type": "code",
   "execution_count": 53,
   "metadata": {},
   "outputs": [
    {
     "data": {
      "text/plain": [
       "0.8727034120734908"
      ]
     },
     "execution_count": 53,
     "metadata": {},
     "output_type": "execute_result"
    }
   ],
   "source": [
    "rf.score(X_valid,y_valid)"
   ]
  },
  {
   "cell_type": "code",
   "execution_count": 61,
   "metadata": {},
   "outputs": [],
   "source": [
    "pred=rf.predict(test_df)\n"
   ]
  },
  {
   "cell_type": "code",
   "execution_count": 62,
   "metadata": {},
   "outputs": [
    {
     "name": "stdout",
     "output_type": "stream",
     "text": [
      "Saved file: sub_2.csv\n"
     ]
    }
   ],
   "source": [
    "\n",
    "submission1=pd.DataFrame({'series_id':test_df['series_id'],'surface':pred})\n",
    "submission1.head\n",
    "filename = 'sub_2.csv'\n",
    "\n",
    "submission1.to_csv(filename,index=False)\n",
    "\n",
    "print('Saved file: ' + filename)"
   ]
  },
  {
   "cell_type": "code",
   "execution_count": 73,
   "metadata": {},
   "outputs": [
    {
     "data": {
      "text/plain": [
       "1.0"
      ]
     },
     "execution_count": 73,
     "metadata": {},
     "output_type": "execute_result"
    }
   ],
   "source": [
    "xgb=XGBClassifier(learning_rate = 0.1, n_estimators= 100, max_depth= 150, min_child_weight= 2)\n",
    "xgb.fit(X_train,y_train)\n",
    "xgb.score(X_train,y_train)"
   ]
  },
  {
   "cell_type": "code",
   "execution_count": 74,
   "metadata": {},
   "outputs": [
    {
     "data": {
      "text/plain": [
       "0.9002624671916011"
      ]
     },
     "execution_count": 74,
     "metadata": {},
     "output_type": "execute_result"
    }
   ],
   "source": [
    "xgb.score(X_valid,y_valid)"
   ]
  },
  {
   "cell_type": "code",
   "execution_count": 75,
   "metadata": {},
   "outputs": [],
   "source": [
    "res=xgb.predict(test_df)"
   ]
  },
  {
   "cell_type": "code",
   "execution_count": 77,
   "metadata": {},
   "outputs": [
    {
     "name": "stdout",
     "output_type": "stream",
     "text": [
      "Saved file: sub_1.csv\n"
     ]
    }
   ],
   "source": [
    "submission1=pd.DataFrame({'series_id':test_df['series_id'],'surface':res})\n",
    "submission1.head\n",
    "filename = 'sub_1.csv'\n",
    "\n",
    "submission1.to_csv(filename,index=False)\n",
    "\n",
    "print('Saved file: ' + filename)"
   ]
  },
  {
   "cell_type": "code",
   "execution_count": 67,
   "metadata": {},
   "outputs": [
    {
     "name": "stderr",
     "output_type": "stream",
     "text": [
      "/home/srinivas/.local/lib/python3.6/site-packages/sklearn/svm/base.py:193: FutureWarning: The default value of gamma will change from 'auto' to 'scale' in version 0.22 to account better for unscaled features. Set gamma explicitly to 'auto' or 'scale' to avoid this warning.\n",
      "  \"avoid this warning.\", FutureWarning)\n"
     ]
    },
    {
     "data": {
      "text/plain": [
       "0.8986220472440944"
      ]
     },
     "execution_count": 67,
     "metadata": {},
     "output_type": "execute_result"
    }
   ],
   "source": [
    "from sklearn.svm import SVC\n",
    "\n",
    "sv=SVC()\n",
    "sv.fit(X_train,y_train)\n",
    "sv.score(X_train,y_train)"
   ]
  },
  {
   "cell_type": "code",
   "execution_count": 68,
   "metadata": {},
   "outputs": [
    {
     "data": {
      "text/plain": [
       "0.38320209973753283"
      ]
     },
     "execution_count": 68,
     "metadata": {},
     "output_type": "execute_result"
    }
   ],
   "source": []
  },
  {
   "cell_type": "code",
   "execution_count": null,
   "metadata": {},
   "outputs": [],
   "source": []
  }
 ],
 "metadata": {
  "kernelspec": {
   "display_name": "Python 3",
   "language": "python",
   "name": "python3"
  },
  "language_info": {
   "codemirror_mode": {
    "name": "ipython",
    "version": 3
   },
   "file_extension": ".py",
   "mimetype": "text/x-python",
   "name": "python",
   "nbconvert_exporter": "python",
   "pygments_lexer": "ipython3",
   "version": "3.6.8"
  }
 },
 "nbformat": 4,
 "nbformat_minor": 2
}
