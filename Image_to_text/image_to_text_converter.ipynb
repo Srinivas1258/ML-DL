{
  "nbformat": 4,
  "nbformat_minor": 0,
  "metadata": {
    "colab": {
      "name": "image_to_text_converter.ipynb",
      "provenance": [],
      "collapsed_sections": [],
      "authorship_tag": "ABX9TyPrvw3ia2y91HQKOce55+CO",
      "include_colab_link": true
    },
    "kernelspec": {
      "name": "python3",
      "display_name": "Python 3"
    },
    "language_info": {
      "name": "python"
    },
    "accelerator": "GPU",
    "gpuClass": "standard",
    "widgets": {
      "application/vnd.jupyter.widget-state+json": {
        "fd5d7daf201e476ab8612e00df1ed5f9": {
          "model_module": "@jupyter-widgets/controls",
          "model_name": "HBoxModel",
          "model_module_version": "1.5.0",
          "state": {
            "_dom_classes": [],
            "_model_module": "@jupyter-widgets/controls",
            "_model_module_version": "1.5.0",
            "_model_name": "HBoxModel",
            "_view_count": null,
            "_view_module": "@jupyter-widgets/controls",
            "_view_module_version": "1.5.0",
            "_view_name": "HBoxView",
            "box_style": "",
            "children": [
              "IPY_MODEL_c45bf9284c864617afef9af3a7e67d14",
              "IPY_MODEL_e1212deeb04b49f695481c7d0ade05d5",
              "IPY_MODEL_cf97c5d23df84f45aa548f90baf96fab"
            ],
            "layout": "IPY_MODEL_08d56258609540ba9527cfeec092e805"
          }
        },
        "c45bf9284c864617afef9af3a7e67d14": {
          "model_module": "@jupyter-widgets/controls",
          "model_name": "HTMLModel",
          "model_module_version": "1.5.0",
          "state": {
            "_dom_classes": [],
            "_model_module": "@jupyter-widgets/controls",
            "_model_module_version": "1.5.0",
            "_model_name": "HTMLModel",
            "_view_count": null,
            "_view_module": "@jupyter-widgets/controls",
            "_view_module_version": "1.5.0",
            "_view_name": "HTMLView",
            "description": "",
            "description_tooltip": null,
            "layout": "IPY_MODEL_b9ac057663214b4892bf7be680686244",
            "placeholder": "​",
            "style": "IPY_MODEL_9238176b5e0340d28a4d473f35eda012",
            "value": "100%"
          }
        },
        "e1212deeb04b49f695481c7d0ade05d5": {
          "model_module": "@jupyter-widgets/controls",
          "model_name": "FloatProgressModel",
          "model_module_version": "1.5.0",
          "state": {
            "_dom_classes": [],
            "_model_module": "@jupyter-widgets/controls",
            "_model_module_version": "1.5.0",
            "_model_name": "FloatProgressModel",
            "_view_count": null,
            "_view_module": "@jupyter-widgets/controls",
            "_view_module_version": "1.5.0",
            "_view_name": "ProgressView",
            "bar_style": "success",
            "description": "",
            "description_tooltip": null,
            "layout": "IPY_MODEL_f62c5e83d36c42d4a183c4306ab5b0c5",
            "max": 300,
            "min": 0,
            "orientation": "horizontal",
            "style": "IPY_MODEL_35468c6e8e4f42dfb8dcdd0b6c74f926",
            "value": 300
          }
        },
        "cf97c5d23df84f45aa548f90baf96fab": {
          "model_module": "@jupyter-widgets/controls",
          "model_name": "HTMLModel",
          "model_module_version": "1.5.0",
          "state": {
            "_dom_classes": [],
            "_model_module": "@jupyter-widgets/controls",
            "_model_module_version": "1.5.0",
            "_model_name": "HTMLModel",
            "_view_count": null,
            "_view_module": "@jupyter-widgets/controls",
            "_view_module_version": "1.5.0",
            "_view_name": "HTMLView",
            "description": "",
            "description_tooltip": null,
            "layout": "IPY_MODEL_555d3904fe134552892c4aa379979485",
            "placeholder": "​",
            "style": "IPY_MODEL_763a44d892cd4637a1db505aebde7289",
            "value": " 300/300 [00:38&lt;00:00, 10.99it/s]"
          }
        },
        "08d56258609540ba9527cfeec092e805": {
          "model_module": "@jupyter-widgets/base",
          "model_name": "LayoutModel",
          "model_module_version": "1.2.0",
          "state": {
            "_model_module": "@jupyter-widgets/base",
            "_model_module_version": "1.2.0",
            "_model_name": "LayoutModel",
            "_view_count": null,
            "_view_module": "@jupyter-widgets/base",
            "_view_module_version": "1.2.0",
            "_view_name": "LayoutView",
            "align_content": null,
            "align_items": null,
            "align_self": null,
            "border": null,
            "bottom": null,
            "display": null,
            "flex": null,
            "flex_flow": null,
            "grid_area": null,
            "grid_auto_columns": null,
            "grid_auto_flow": null,
            "grid_auto_rows": null,
            "grid_column": null,
            "grid_gap": null,
            "grid_row": null,
            "grid_template_areas": null,
            "grid_template_columns": null,
            "grid_template_rows": null,
            "height": null,
            "justify_content": null,
            "justify_items": null,
            "left": null,
            "margin": null,
            "max_height": null,
            "max_width": null,
            "min_height": null,
            "min_width": null,
            "object_fit": null,
            "object_position": null,
            "order": null,
            "overflow": null,
            "overflow_x": null,
            "overflow_y": null,
            "padding": null,
            "right": null,
            "top": null,
            "visibility": null,
            "width": null
          }
        },
        "b9ac057663214b4892bf7be680686244": {
          "model_module": "@jupyter-widgets/base",
          "model_name": "LayoutModel",
          "model_module_version": "1.2.0",
          "state": {
            "_model_module": "@jupyter-widgets/base",
            "_model_module_version": "1.2.0",
            "_model_name": "LayoutModel",
            "_view_count": null,
            "_view_module": "@jupyter-widgets/base",
            "_view_module_version": "1.2.0",
            "_view_name": "LayoutView",
            "align_content": null,
            "align_items": null,
            "align_self": null,
            "border": null,
            "bottom": null,
            "display": null,
            "flex": null,
            "flex_flow": null,
            "grid_area": null,
            "grid_auto_columns": null,
            "grid_auto_flow": null,
            "grid_auto_rows": null,
            "grid_column": null,
            "grid_gap": null,
            "grid_row": null,
            "grid_template_areas": null,
            "grid_template_columns": null,
            "grid_template_rows": null,
            "height": null,
            "justify_content": null,
            "justify_items": null,
            "left": null,
            "margin": null,
            "max_height": null,
            "max_width": null,
            "min_height": null,
            "min_width": null,
            "object_fit": null,
            "object_position": null,
            "order": null,
            "overflow": null,
            "overflow_x": null,
            "overflow_y": null,
            "padding": null,
            "right": null,
            "top": null,
            "visibility": null,
            "width": null
          }
        },
        "9238176b5e0340d28a4d473f35eda012": {
          "model_module": "@jupyter-widgets/controls",
          "model_name": "DescriptionStyleModel",
          "model_module_version": "1.5.0",
          "state": {
            "_model_module": "@jupyter-widgets/controls",
            "_model_module_version": "1.5.0",
            "_model_name": "DescriptionStyleModel",
            "_view_count": null,
            "_view_module": "@jupyter-widgets/base",
            "_view_module_version": "1.2.0",
            "_view_name": "StyleView",
            "description_width": ""
          }
        },
        "f62c5e83d36c42d4a183c4306ab5b0c5": {
          "model_module": "@jupyter-widgets/base",
          "model_name": "LayoutModel",
          "model_module_version": "1.2.0",
          "state": {
            "_model_module": "@jupyter-widgets/base",
            "_model_module_version": "1.2.0",
            "_model_name": "LayoutModel",
            "_view_count": null,
            "_view_module": "@jupyter-widgets/base",
            "_view_module_version": "1.2.0",
            "_view_name": "LayoutView",
            "align_content": null,
            "align_items": null,
            "align_self": null,
            "border": null,
            "bottom": null,
            "display": null,
            "flex": null,
            "flex_flow": null,
            "grid_area": null,
            "grid_auto_columns": null,
            "grid_auto_flow": null,
            "grid_auto_rows": null,
            "grid_column": null,
            "grid_gap": null,
            "grid_row": null,
            "grid_template_areas": null,
            "grid_template_columns": null,
            "grid_template_rows": null,
            "height": null,
            "justify_content": null,
            "justify_items": null,
            "left": null,
            "margin": null,
            "max_height": null,
            "max_width": null,
            "min_height": null,
            "min_width": null,
            "object_fit": null,
            "object_position": null,
            "order": null,
            "overflow": null,
            "overflow_x": null,
            "overflow_y": null,
            "padding": null,
            "right": null,
            "top": null,
            "visibility": null,
            "width": null
          }
        },
        "35468c6e8e4f42dfb8dcdd0b6c74f926": {
          "model_module": "@jupyter-widgets/controls",
          "model_name": "ProgressStyleModel",
          "model_module_version": "1.5.0",
          "state": {
            "_model_module": "@jupyter-widgets/controls",
            "_model_module_version": "1.5.0",
            "_model_name": "ProgressStyleModel",
            "_view_count": null,
            "_view_module": "@jupyter-widgets/base",
            "_view_module_version": "1.2.0",
            "_view_name": "StyleView",
            "bar_color": null,
            "description_width": ""
          }
        },
        "555d3904fe134552892c4aa379979485": {
          "model_module": "@jupyter-widgets/base",
          "model_name": "LayoutModel",
          "model_module_version": "1.2.0",
          "state": {
            "_model_module": "@jupyter-widgets/base",
            "_model_module_version": "1.2.0",
            "_model_name": "LayoutModel",
            "_view_count": null,
            "_view_module": "@jupyter-widgets/base",
            "_view_module_version": "1.2.0",
            "_view_name": "LayoutView",
            "align_content": null,
            "align_items": null,
            "align_self": null,
            "border": null,
            "bottom": null,
            "display": null,
            "flex": null,
            "flex_flow": null,
            "grid_area": null,
            "grid_auto_columns": null,
            "grid_auto_flow": null,
            "grid_auto_rows": null,
            "grid_column": null,
            "grid_gap": null,
            "grid_row": null,
            "grid_template_areas": null,
            "grid_template_columns": null,
            "grid_template_rows": null,
            "height": null,
            "justify_content": null,
            "justify_items": null,
            "left": null,
            "margin": null,
            "max_height": null,
            "max_width": null,
            "min_height": null,
            "min_width": null,
            "object_fit": null,
            "object_position": null,
            "order": null,
            "overflow": null,
            "overflow_x": null,
            "overflow_y": null,
            "padding": null,
            "right": null,
            "top": null,
            "visibility": null,
            "width": null
          }
        },
        "763a44d892cd4637a1db505aebde7289": {
          "model_module": "@jupyter-widgets/controls",
          "model_name": "DescriptionStyleModel",
          "model_module_version": "1.5.0",
          "state": {
            "_model_module": "@jupyter-widgets/controls",
            "_model_module_version": "1.5.0",
            "_model_name": "DescriptionStyleModel",
            "_view_count": null,
            "_view_module": "@jupyter-widgets/base",
            "_view_module_version": "1.2.0",
            "_view_name": "StyleView",
            "description_width": ""
          }
        },
        "ca922d71251f41a7ad50b77cbbcfc78b": {
          "model_module": "@jupyter-widgets/controls",
          "model_name": "HBoxModel",
          "model_module_version": "1.5.0",
          "state": {
            "_dom_classes": [],
            "_model_module": "@jupyter-widgets/controls",
            "_model_module_version": "1.5.0",
            "_model_name": "HBoxModel",
            "_view_count": null,
            "_view_module": "@jupyter-widgets/controls",
            "_view_module_version": "1.5.0",
            "_view_name": "HBoxView",
            "box_style": "",
            "children": [
              "IPY_MODEL_9b0eea9a45db4dd6ba350f629a21038c",
              "IPY_MODEL_f140a25f9f454fee9d9c7e44e9cbeab9",
              "IPY_MODEL_4941738b9f514115a6547f65d594eaaf"
            ],
            "layout": "IPY_MODEL_91ae8b4f039b419d9f9acea483f0c597"
          }
        },
        "9b0eea9a45db4dd6ba350f629a21038c": {
          "model_module": "@jupyter-widgets/controls",
          "model_name": "HTMLModel",
          "model_module_version": "1.5.0",
          "state": {
            "_dom_classes": [],
            "_model_module": "@jupyter-widgets/controls",
            "_model_module_version": "1.5.0",
            "_model_name": "HTMLModel",
            "_view_count": null,
            "_view_module": "@jupyter-widgets/controls",
            "_view_module_version": "1.5.0",
            "_view_name": "HTMLView",
            "description": "",
            "description_tooltip": null,
            "layout": "IPY_MODEL_5f88fa79a1344ee98f7a9f760d1fdf5f",
            "placeholder": "​",
            "style": "IPY_MODEL_3fb14f56c2344d6699b442e7e8b18bb3",
            "value": "100%"
          }
        },
        "f140a25f9f454fee9d9c7e44e9cbeab9": {
          "model_module": "@jupyter-widgets/controls",
          "model_name": "FloatProgressModel",
          "model_module_version": "1.5.0",
          "state": {
            "_dom_classes": [],
            "_model_module": "@jupyter-widgets/controls",
            "_model_module_version": "1.5.0",
            "_model_name": "FloatProgressModel",
            "_view_count": null,
            "_view_module": "@jupyter-widgets/controls",
            "_view_module_version": "1.5.0",
            "_view_name": "ProgressView",
            "bar_style": "success",
            "description": "",
            "description_tooltip": null,
            "layout": "IPY_MODEL_cdc8e559f25a40ae8b18ccd75765c668",
            "max": 30,
            "min": 0,
            "orientation": "horizontal",
            "style": "IPY_MODEL_7e5b8b16bab94c5b9ae1bbe02b0343b3",
            "value": 30
          }
        },
        "4941738b9f514115a6547f65d594eaaf": {
          "model_module": "@jupyter-widgets/controls",
          "model_name": "HTMLModel",
          "model_module_version": "1.5.0",
          "state": {
            "_dom_classes": [],
            "_model_module": "@jupyter-widgets/controls",
            "_model_module_version": "1.5.0",
            "_model_name": "HTMLModel",
            "_view_count": null,
            "_view_module": "@jupyter-widgets/controls",
            "_view_module_version": "1.5.0",
            "_view_name": "HTMLView",
            "description": "",
            "description_tooltip": null,
            "layout": "IPY_MODEL_92946d746aab48d8937802f2658ddbb4",
            "placeholder": "​",
            "style": "IPY_MODEL_ea4d079cf4e941cca1142b9c1801f4fe",
            "value": " 30/30 [01:35&lt;00:00,  3.26s/it]"
          }
        },
        "91ae8b4f039b419d9f9acea483f0c597": {
          "model_module": "@jupyter-widgets/base",
          "model_name": "LayoutModel",
          "model_module_version": "1.2.0",
          "state": {
            "_model_module": "@jupyter-widgets/base",
            "_model_module_version": "1.2.0",
            "_model_name": "LayoutModel",
            "_view_count": null,
            "_view_module": "@jupyter-widgets/base",
            "_view_module_version": "1.2.0",
            "_view_name": "LayoutView",
            "align_content": null,
            "align_items": null,
            "align_self": null,
            "border": null,
            "bottom": null,
            "display": null,
            "flex": null,
            "flex_flow": null,
            "grid_area": null,
            "grid_auto_columns": null,
            "grid_auto_flow": null,
            "grid_auto_rows": null,
            "grid_column": null,
            "grid_gap": null,
            "grid_row": null,
            "grid_template_areas": null,
            "grid_template_columns": null,
            "grid_template_rows": null,
            "height": null,
            "justify_content": null,
            "justify_items": null,
            "left": null,
            "margin": null,
            "max_height": null,
            "max_width": null,
            "min_height": null,
            "min_width": null,
            "object_fit": null,
            "object_position": null,
            "order": null,
            "overflow": null,
            "overflow_x": null,
            "overflow_y": null,
            "padding": null,
            "right": null,
            "top": null,
            "visibility": null,
            "width": null
          }
        },
        "5f88fa79a1344ee98f7a9f760d1fdf5f": {
          "model_module": "@jupyter-widgets/base",
          "model_name": "LayoutModel",
          "model_module_version": "1.2.0",
          "state": {
            "_model_module": "@jupyter-widgets/base",
            "_model_module_version": "1.2.0",
            "_model_name": "LayoutModel",
            "_view_count": null,
            "_view_module": "@jupyter-widgets/base",
            "_view_module_version": "1.2.0",
            "_view_name": "LayoutView",
            "align_content": null,
            "align_items": null,
            "align_self": null,
            "border": null,
            "bottom": null,
            "display": null,
            "flex": null,
            "flex_flow": null,
            "grid_area": null,
            "grid_auto_columns": null,
            "grid_auto_flow": null,
            "grid_auto_rows": null,
            "grid_column": null,
            "grid_gap": null,
            "grid_row": null,
            "grid_template_areas": null,
            "grid_template_columns": null,
            "grid_template_rows": null,
            "height": null,
            "justify_content": null,
            "justify_items": null,
            "left": null,
            "margin": null,
            "max_height": null,
            "max_width": null,
            "min_height": null,
            "min_width": null,
            "object_fit": null,
            "object_position": null,
            "order": null,
            "overflow": null,
            "overflow_x": null,
            "overflow_y": null,
            "padding": null,
            "right": null,
            "top": null,
            "visibility": null,
            "width": null
          }
        },
        "3fb14f56c2344d6699b442e7e8b18bb3": {
          "model_module": "@jupyter-widgets/controls",
          "model_name": "DescriptionStyleModel",
          "model_module_version": "1.5.0",
          "state": {
            "_model_module": "@jupyter-widgets/controls",
            "_model_module_version": "1.5.0",
            "_model_name": "DescriptionStyleModel",
            "_view_count": null,
            "_view_module": "@jupyter-widgets/base",
            "_view_module_version": "1.2.0",
            "_view_name": "StyleView",
            "description_width": ""
          }
        },
        "cdc8e559f25a40ae8b18ccd75765c668": {
          "model_module": "@jupyter-widgets/base",
          "model_name": "LayoutModel",
          "model_module_version": "1.2.0",
          "state": {
            "_model_module": "@jupyter-widgets/base",
            "_model_module_version": "1.2.0",
            "_model_name": "LayoutModel",
            "_view_count": null,
            "_view_module": "@jupyter-widgets/base",
            "_view_module_version": "1.2.0",
            "_view_name": "LayoutView",
            "align_content": null,
            "align_items": null,
            "align_self": null,
            "border": null,
            "bottom": null,
            "display": null,
            "flex": null,
            "flex_flow": null,
            "grid_area": null,
            "grid_auto_columns": null,
            "grid_auto_flow": null,
            "grid_auto_rows": null,
            "grid_column": null,
            "grid_gap": null,
            "grid_row": null,
            "grid_template_areas": null,
            "grid_template_columns": null,
            "grid_template_rows": null,
            "height": null,
            "justify_content": null,
            "justify_items": null,
            "left": null,
            "margin": null,
            "max_height": null,
            "max_width": null,
            "min_height": null,
            "min_width": null,
            "object_fit": null,
            "object_position": null,
            "order": null,
            "overflow": null,
            "overflow_x": null,
            "overflow_y": null,
            "padding": null,
            "right": null,
            "top": null,
            "visibility": null,
            "width": null
          }
        },
        "7e5b8b16bab94c5b9ae1bbe02b0343b3": {
          "model_module": "@jupyter-widgets/controls",
          "model_name": "ProgressStyleModel",
          "model_module_version": "1.5.0",
          "state": {
            "_model_module": "@jupyter-widgets/controls",
            "_model_module_version": "1.5.0",
            "_model_name": "ProgressStyleModel",
            "_view_count": null,
            "_view_module": "@jupyter-widgets/base",
            "_view_module_version": "1.2.0",
            "_view_name": "StyleView",
            "bar_color": null,
            "description_width": ""
          }
        },
        "92946d746aab48d8937802f2658ddbb4": {
          "model_module": "@jupyter-widgets/base",
          "model_name": "LayoutModel",
          "model_module_version": "1.2.0",
          "state": {
            "_model_module": "@jupyter-widgets/base",
            "_model_module_version": "1.2.0",
            "_model_name": "LayoutModel",
            "_view_count": null,
            "_view_module": "@jupyter-widgets/base",
            "_view_module_version": "1.2.0",
            "_view_name": "LayoutView",
            "align_content": null,
            "align_items": null,
            "align_self": null,
            "border": null,
            "bottom": null,
            "display": null,
            "flex": null,
            "flex_flow": null,
            "grid_area": null,
            "grid_auto_columns": null,
            "grid_auto_flow": null,
            "grid_auto_rows": null,
            "grid_column": null,
            "grid_gap": null,
            "grid_row": null,
            "grid_template_areas": null,
            "grid_template_columns": null,
            "grid_template_rows": null,
            "height": null,
            "justify_content": null,
            "justify_items": null,
            "left": null,
            "margin": null,
            "max_height": null,
            "max_width": null,
            "min_height": null,
            "min_width": null,
            "object_fit": null,
            "object_position": null,
            "order": null,
            "overflow": null,
            "overflow_x": null,
            "overflow_y": null,
            "padding": null,
            "right": null,
            "top": null,
            "visibility": null,
            "width": null
          }
        },
        "ea4d079cf4e941cca1142b9c1801f4fe": {
          "model_module": "@jupyter-widgets/controls",
          "model_name": "DescriptionStyleModel",
          "model_module_version": "1.5.0",
          "state": {
            "_model_module": "@jupyter-widgets/controls",
            "_model_module_version": "1.5.0",
            "_model_name": "DescriptionStyleModel",
            "_view_count": null,
            "_view_module": "@jupyter-widgets/base",
            "_view_module_version": "1.2.0",
            "_view_name": "StyleView",
            "description_width": ""
          }
        },
        "7be5595971264a3e8bfff449287ce2f2": {
          "model_module": "@jupyter-widgets/controls",
          "model_name": "HBoxModel",
          "model_module_version": "1.5.0",
          "state": {
            "_dom_classes": [],
            "_model_module": "@jupyter-widgets/controls",
            "_model_module_version": "1.5.0",
            "_model_name": "HBoxModel",
            "_view_count": null,
            "_view_module": "@jupyter-widgets/controls",
            "_view_module_version": "1.5.0",
            "_view_name": "HBoxView",
            "box_style": "",
            "children": [
              "IPY_MODEL_e0214fadb6164bab8dd3e18ceee5fa6b",
              "IPY_MODEL_739b6ad700284e549f958f9fbb09f698",
              "IPY_MODEL_e3138d3bae4740b08b3704df5ff6fd61"
            ],
            "layout": "IPY_MODEL_0aa168a1d4b044b0935d14f16d7c0ae8"
          }
        },
        "e0214fadb6164bab8dd3e18ceee5fa6b": {
          "model_module": "@jupyter-widgets/controls",
          "model_name": "HTMLModel",
          "model_module_version": "1.5.0",
          "state": {
            "_dom_classes": [],
            "_model_module": "@jupyter-widgets/controls",
            "_model_module_version": "1.5.0",
            "_model_name": "HTMLModel",
            "_view_count": null,
            "_view_module": "@jupyter-widgets/controls",
            "_view_module_version": "1.5.0",
            "_view_name": "HTMLView",
            "description": "",
            "description_tooltip": null,
            "layout": "IPY_MODEL_2546a8412633460e8c28669dd7cacd34",
            "placeholder": "​",
            "style": "IPY_MODEL_9868649b771d416d81d273fae9c7c311",
            "value": "100%"
          }
        },
        "739b6ad700284e549f958f9fbb09f698": {
          "model_module": "@jupyter-widgets/controls",
          "model_name": "FloatProgressModel",
          "model_module_version": "1.5.0",
          "state": {
            "_dom_classes": [],
            "_model_module": "@jupyter-widgets/controls",
            "_model_module_version": "1.5.0",
            "_model_name": "FloatProgressModel",
            "_view_count": null,
            "_view_module": "@jupyter-widgets/controls",
            "_view_module_version": "1.5.0",
            "_view_name": "ProgressView",
            "bar_style": "success",
            "description": "",
            "description_tooltip": null,
            "layout": "IPY_MODEL_b1920334feb84a0d8ee391a762e86e6c",
            "max": 300,
            "min": 0,
            "orientation": "horizontal",
            "style": "IPY_MODEL_4e9b576e2b3e4050be9bf16c326dd90b",
            "value": 300
          }
        },
        "e3138d3bae4740b08b3704df5ff6fd61": {
          "model_module": "@jupyter-widgets/controls",
          "model_name": "HTMLModel",
          "model_module_version": "1.5.0",
          "state": {
            "_dom_classes": [],
            "_model_module": "@jupyter-widgets/controls",
            "_model_module_version": "1.5.0",
            "_model_name": "HTMLModel",
            "_view_count": null,
            "_view_module": "@jupyter-widgets/controls",
            "_view_module_version": "1.5.0",
            "_view_name": "HTMLView",
            "description": "",
            "description_tooltip": null,
            "layout": "IPY_MODEL_969a2d59ae9b4c6a86d5d08cd63c69c4",
            "placeholder": "​",
            "style": "IPY_MODEL_9356530c72cb4dca92605c76f8539a4f",
            "value": " 300/300 [00:31&lt;00:00, 10.13it/s]"
          }
        },
        "0aa168a1d4b044b0935d14f16d7c0ae8": {
          "model_module": "@jupyter-widgets/base",
          "model_name": "LayoutModel",
          "model_module_version": "1.2.0",
          "state": {
            "_model_module": "@jupyter-widgets/base",
            "_model_module_version": "1.2.0",
            "_model_name": "LayoutModel",
            "_view_count": null,
            "_view_module": "@jupyter-widgets/base",
            "_view_module_version": "1.2.0",
            "_view_name": "LayoutView",
            "align_content": null,
            "align_items": null,
            "align_self": null,
            "border": null,
            "bottom": null,
            "display": null,
            "flex": null,
            "flex_flow": null,
            "grid_area": null,
            "grid_auto_columns": null,
            "grid_auto_flow": null,
            "grid_auto_rows": null,
            "grid_column": null,
            "grid_gap": null,
            "grid_row": null,
            "grid_template_areas": null,
            "grid_template_columns": null,
            "grid_template_rows": null,
            "height": null,
            "justify_content": null,
            "justify_items": null,
            "left": null,
            "margin": null,
            "max_height": null,
            "max_width": null,
            "min_height": null,
            "min_width": null,
            "object_fit": null,
            "object_position": null,
            "order": null,
            "overflow": null,
            "overflow_x": null,
            "overflow_y": null,
            "padding": null,
            "right": null,
            "top": null,
            "visibility": null,
            "width": null
          }
        },
        "2546a8412633460e8c28669dd7cacd34": {
          "model_module": "@jupyter-widgets/base",
          "model_name": "LayoutModel",
          "model_module_version": "1.2.0",
          "state": {
            "_model_module": "@jupyter-widgets/base",
            "_model_module_version": "1.2.0",
            "_model_name": "LayoutModel",
            "_view_count": null,
            "_view_module": "@jupyter-widgets/base",
            "_view_module_version": "1.2.0",
            "_view_name": "LayoutView",
            "align_content": null,
            "align_items": null,
            "align_self": null,
            "border": null,
            "bottom": null,
            "display": null,
            "flex": null,
            "flex_flow": null,
            "grid_area": null,
            "grid_auto_columns": null,
            "grid_auto_flow": null,
            "grid_auto_rows": null,
            "grid_column": null,
            "grid_gap": null,
            "grid_row": null,
            "grid_template_areas": null,
            "grid_template_columns": null,
            "grid_template_rows": null,
            "height": null,
            "justify_content": null,
            "justify_items": null,
            "left": null,
            "margin": null,
            "max_height": null,
            "max_width": null,
            "min_height": null,
            "min_width": null,
            "object_fit": null,
            "object_position": null,
            "order": null,
            "overflow": null,
            "overflow_x": null,
            "overflow_y": null,
            "padding": null,
            "right": null,
            "top": null,
            "visibility": null,
            "width": null
          }
        },
        "9868649b771d416d81d273fae9c7c311": {
          "model_module": "@jupyter-widgets/controls",
          "model_name": "DescriptionStyleModel",
          "model_module_version": "1.5.0",
          "state": {
            "_model_module": "@jupyter-widgets/controls",
            "_model_module_version": "1.5.0",
            "_model_name": "DescriptionStyleModel",
            "_view_count": null,
            "_view_module": "@jupyter-widgets/base",
            "_view_module_version": "1.2.0",
            "_view_name": "StyleView",
            "description_width": ""
          }
        },
        "b1920334feb84a0d8ee391a762e86e6c": {
          "model_module": "@jupyter-widgets/base",
          "model_name": "LayoutModel",
          "model_module_version": "1.2.0",
          "state": {
            "_model_module": "@jupyter-widgets/base",
            "_model_module_version": "1.2.0",
            "_model_name": "LayoutModel",
            "_view_count": null,
            "_view_module": "@jupyter-widgets/base",
            "_view_module_version": "1.2.0",
            "_view_name": "LayoutView",
            "align_content": null,
            "align_items": null,
            "align_self": null,
            "border": null,
            "bottom": null,
            "display": null,
            "flex": null,
            "flex_flow": null,
            "grid_area": null,
            "grid_auto_columns": null,
            "grid_auto_flow": null,
            "grid_auto_rows": null,
            "grid_column": null,
            "grid_gap": null,
            "grid_row": null,
            "grid_template_areas": null,
            "grid_template_columns": null,
            "grid_template_rows": null,
            "height": null,
            "justify_content": null,
            "justify_items": null,
            "left": null,
            "margin": null,
            "max_height": null,
            "max_width": null,
            "min_height": null,
            "min_width": null,
            "object_fit": null,
            "object_position": null,
            "order": null,
            "overflow": null,
            "overflow_x": null,
            "overflow_y": null,
            "padding": null,
            "right": null,
            "top": null,
            "visibility": null,
            "width": null
          }
        },
        "4e9b576e2b3e4050be9bf16c326dd90b": {
          "model_module": "@jupyter-widgets/controls",
          "model_name": "ProgressStyleModel",
          "model_module_version": "1.5.0",
          "state": {
            "_model_module": "@jupyter-widgets/controls",
            "_model_module_version": "1.5.0",
            "_model_name": "ProgressStyleModel",
            "_view_count": null,
            "_view_module": "@jupyter-widgets/base",
            "_view_module_version": "1.2.0",
            "_view_name": "StyleView",
            "bar_color": null,
            "description_width": ""
          }
        },
        "969a2d59ae9b4c6a86d5d08cd63c69c4": {
          "model_module": "@jupyter-widgets/base",
          "model_name": "LayoutModel",
          "model_module_version": "1.2.0",
          "state": {
            "_model_module": "@jupyter-widgets/base",
            "_model_module_version": "1.2.0",
            "_model_name": "LayoutModel",
            "_view_count": null,
            "_view_module": "@jupyter-widgets/base",
            "_view_module_version": "1.2.0",
            "_view_name": "LayoutView",
            "align_content": null,
            "align_items": null,
            "align_self": null,
            "border": null,
            "bottom": null,
            "display": null,
            "flex": null,
            "flex_flow": null,
            "grid_area": null,
            "grid_auto_columns": null,
            "grid_auto_flow": null,
            "grid_auto_rows": null,
            "grid_column": null,
            "grid_gap": null,
            "grid_row": null,
            "grid_template_areas": null,
            "grid_template_columns": null,
            "grid_template_rows": null,
            "height": null,
            "justify_content": null,
            "justify_items": null,
            "left": null,
            "margin": null,
            "max_height": null,
            "max_width": null,
            "min_height": null,
            "min_width": null,
            "object_fit": null,
            "object_position": null,
            "order": null,
            "overflow": null,
            "overflow_x": null,
            "overflow_y": null,
            "padding": null,
            "right": null,
            "top": null,
            "visibility": null,
            "width": null
          }
        },
        "9356530c72cb4dca92605c76f8539a4f": {
          "model_module": "@jupyter-widgets/controls",
          "model_name": "DescriptionStyleModel",
          "model_module_version": "1.5.0",
          "state": {
            "_model_module": "@jupyter-widgets/controls",
            "_model_module_version": "1.5.0",
            "_model_name": "DescriptionStyleModel",
            "_view_count": null,
            "_view_module": "@jupyter-widgets/base",
            "_view_module_version": "1.2.0",
            "_view_name": "StyleView",
            "description_width": ""
          }
        },
        "e9562c28f0c24431b1523a11e8c9b900": {
          "model_module": "@jupyter-widgets/controls",
          "model_name": "HBoxModel",
          "model_module_version": "1.5.0",
          "state": {
            "_dom_classes": [],
            "_model_module": "@jupyter-widgets/controls",
            "_model_module_version": "1.5.0",
            "_model_name": "HBoxModel",
            "_view_count": null,
            "_view_module": "@jupyter-widgets/controls",
            "_view_module_version": "1.5.0",
            "_view_name": "HBoxView",
            "box_style": "",
            "children": [
              "IPY_MODEL_e0256ed5454543e9a6f48342edfca68c",
              "IPY_MODEL_df653db3334c46cc8d3367fbd3c8b749",
              "IPY_MODEL_059528737e464f1f87279ab0dfe0c7cc"
            ],
            "layout": "IPY_MODEL_5b74211f7c6b44f0ab4d4d5bb6035891"
          }
        },
        "e0256ed5454543e9a6f48342edfca68c": {
          "model_module": "@jupyter-widgets/controls",
          "model_name": "HTMLModel",
          "model_module_version": "1.5.0",
          "state": {
            "_dom_classes": [],
            "_model_module": "@jupyter-widgets/controls",
            "_model_module_version": "1.5.0",
            "_model_name": "HTMLModel",
            "_view_count": null,
            "_view_module": "@jupyter-widgets/controls",
            "_view_module_version": "1.5.0",
            "_view_name": "HTMLView",
            "description": "",
            "description_tooltip": null,
            "layout": "IPY_MODEL_c220d5a97bdf45588a515f377a1c8496",
            "placeholder": "​",
            "style": "IPY_MODEL_12fcdedcb83044819e4434669d6dd507",
            "value": "100%"
          }
        },
        "df653db3334c46cc8d3367fbd3c8b749": {
          "model_module": "@jupyter-widgets/controls",
          "model_name": "FloatProgressModel",
          "model_module_version": "1.5.0",
          "state": {
            "_dom_classes": [],
            "_model_module": "@jupyter-widgets/controls",
            "_model_module_version": "1.5.0",
            "_model_name": "FloatProgressModel",
            "_view_count": null,
            "_view_module": "@jupyter-widgets/controls",
            "_view_module_version": "1.5.0",
            "_view_name": "ProgressView",
            "bar_style": "success",
            "description": "",
            "description_tooltip": null,
            "layout": "IPY_MODEL_79fd9642ac5f48309cbbc443c30a2ec0",
            "max": 30,
            "min": 0,
            "orientation": "horizontal",
            "style": "IPY_MODEL_357934b7c7b043dca57ea907a62ad14d",
            "value": 30
          }
        },
        "059528737e464f1f87279ab0dfe0c7cc": {
          "model_module": "@jupyter-widgets/controls",
          "model_name": "HTMLModel",
          "model_module_version": "1.5.0",
          "state": {
            "_dom_classes": [],
            "_model_module": "@jupyter-widgets/controls",
            "_model_module_version": "1.5.0",
            "_model_name": "HTMLModel",
            "_view_count": null,
            "_view_module": "@jupyter-widgets/controls",
            "_view_module_version": "1.5.0",
            "_view_name": "HTMLView",
            "description": "",
            "description_tooltip": null,
            "layout": "IPY_MODEL_9d9b69e1b31449659f735a6893535cc4",
            "placeholder": "​",
            "style": "IPY_MODEL_de40cbe3e1e24628b29518cc0e108e4e",
            "value": " 30/30 [00:52&lt;00:00,  1.51s/it]"
          }
        },
        "5b74211f7c6b44f0ab4d4d5bb6035891": {
          "model_module": "@jupyter-widgets/base",
          "model_name": "LayoutModel",
          "model_module_version": "1.2.0",
          "state": {
            "_model_module": "@jupyter-widgets/base",
            "_model_module_version": "1.2.0",
            "_model_name": "LayoutModel",
            "_view_count": null,
            "_view_module": "@jupyter-widgets/base",
            "_view_module_version": "1.2.0",
            "_view_name": "LayoutView",
            "align_content": null,
            "align_items": null,
            "align_self": null,
            "border": null,
            "bottom": null,
            "display": null,
            "flex": null,
            "flex_flow": null,
            "grid_area": null,
            "grid_auto_columns": null,
            "grid_auto_flow": null,
            "grid_auto_rows": null,
            "grid_column": null,
            "grid_gap": null,
            "grid_row": null,
            "grid_template_areas": null,
            "grid_template_columns": null,
            "grid_template_rows": null,
            "height": null,
            "justify_content": null,
            "justify_items": null,
            "left": null,
            "margin": null,
            "max_height": null,
            "max_width": null,
            "min_height": null,
            "min_width": null,
            "object_fit": null,
            "object_position": null,
            "order": null,
            "overflow": null,
            "overflow_x": null,
            "overflow_y": null,
            "padding": null,
            "right": null,
            "top": null,
            "visibility": null,
            "width": null
          }
        },
        "c220d5a97bdf45588a515f377a1c8496": {
          "model_module": "@jupyter-widgets/base",
          "model_name": "LayoutModel",
          "model_module_version": "1.2.0",
          "state": {
            "_model_module": "@jupyter-widgets/base",
            "_model_module_version": "1.2.0",
            "_model_name": "LayoutModel",
            "_view_count": null,
            "_view_module": "@jupyter-widgets/base",
            "_view_module_version": "1.2.0",
            "_view_name": "LayoutView",
            "align_content": null,
            "align_items": null,
            "align_self": null,
            "border": null,
            "bottom": null,
            "display": null,
            "flex": null,
            "flex_flow": null,
            "grid_area": null,
            "grid_auto_columns": null,
            "grid_auto_flow": null,
            "grid_auto_rows": null,
            "grid_column": null,
            "grid_gap": null,
            "grid_row": null,
            "grid_template_areas": null,
            "grid_template_columns": null,
            "grid_template_rows": null,
            "height": null,
            "justify_content": null,
            "justify_items": null,
            "left": null,
            "margin": null,
            "max_height": null,
            "max_width": null,
            "min_height": null,
            "min_width": null,
            "object_fit": null,
            "object_position": null,
            "order": null,
            "overflow": null,
            "overflow_x": null,
            "overflow_y": null,
            "padding": null,
            "right": null,
            "top": null,
            "visibility": null,
            "width": null
          }
        },
        "12fcdedcb83044819e4434669d6dd507": {
          "model_module": "@jupyter-widgets/controls",
          "model_name": "DescriptionStyleModel",
          "model_module_version": "1.5.0",
          "state": {
            "_model_module": "@jupyter-widgets/controls",
            "_model_module_version": "1.5.0",
            "_model_name": "DescriptionStyleModel",
            "_view_count": null,
            "_view_module": "@jupyter-widgets/base",
            "_view_module_version": "1.2.0",
            "_view_name": "StyleView",
            "description_width": ""
          }
        },
        "79fd9642ac5f48309cbbc443c30a2ec0": {
          "model_module": "@jupyter-widgets/base",
          "model_name": "LayoutModel",
          "model_module_version": "1.2.0",
          "state": {
            "_model_module": "@jupyter-widgets/base",
            "_model_module_version": "1.2.0",
            "_model_name": "LayoutModel",
            "_view_count": null,
            "_view_module": "@jupyter-widgets/base",
            "_view_module_version": "1.2.0",
            "_view_name": "LayoutView",
            "align_content": null,
            "align_items": null,
            "align_self": null,
            "border": null,
            "bottom": null,
            "display": null,
            "flex": null,
            "flex_flow": null,
            "grid_area": null,
            "grid_auto_columns": null,
            "grid_auto_flow": null,
            "grid_auto_rows": null,
            "grid_column": null,
            "grid_gap": null,
            "grid_row": null,
            "grid_template_areas": null,
            "grid_template_columns": null,
            "grid_template_rows": null,
            "height": null,
            "justify_content": null,
            "justify_items": null,
            "left": null,
            "margin": null,
            "max_height": null,
            "max_width": null,
            "min_height": null,
            "min_width": null,
            "object_fit": null,
            "object_position": null,
            "order": null,
            "overflow": null,
            "overflow_x": null,
            "overflow_y": null,
            "padding": null,
            "right": null,
            "top": null,
            "visibility": null,
            "width": null
          }
        },
        "357934b7c7b043dca57ea907a62ad14d": {
          "model_module": "@jupyter-widgets/controls",
          "model_name": "ProgressStyleModel",
          "model_module_version": "1.5.0",
          "state": {
            "_model_module": "@jupyter-widgets/controls",
            "_model_module_version": "1.5.0",
            "_model_name": "ProgressStyleModel",
            "_view_count": null,
            "_view_module": "@jupyter-widgets/base",
            "_view_module_version": "1.2.0",
            "_view_name": "StyleView",
            "bar_color": null,
            "description_width": ""
          }
        },
        "9d9b69e1b31449659f735a6893535cc4": {
          "model_module": "@jupyter-widgets/base",
          "model_name": "LayoutModel",
          "model_module_version": "1.2.0",
          "state": {
            "_model_module": "@jupyter-widgets/base",
            "_model_module_version": "1.2.0",
            "_model_name": "LayoutModel",
            "_view_count": null,
            "_view_module": "@jupyter-widgets/base",
            "_view_module_version": "1.2.0",
            "_view_name": "LayoutView",
            "align_content": null,
            "align_items": null,
            "align_self": null,
            "border": null,
            "bottom": null,
            "display": null,
            "flex": null,
            "flex_flow": null,
            "grid_area": null,
            "grid_auto_columns": null,
            "grid_auto_flow": null,
            "grid_auto_rows": null,
            "grid_column": null,
            "grid_gap": null,
            "grid_row": null,
            "grid_template_areas": null,
            "grid_template_columns": null,
            "grid_template_rows": null,
            "height": null,
            "justify_content": null,
            "justify_items": null,
            "left": null,
            "margin": null,
            "max_height": null,
            "max_width": null,
            "min_height": null,
            "min_width": null,
            "object_fit": null,
            "object_position": null,
            "order": null,
            "overflow": null,
            "overflow_x": null,
            "overflow_y": null,
            "padding": null,
            "right": null,
            "top": null,
            "visibility": null,
            "width": null
          }
        },
        "de40cbe3e1e24628b29518cc0e108e4e": {
          "model_module": "@jupyter-widgets/controls",
          "model_name": "DescriptionStyleModel",
          "model_module_version": "1.5.0",
          "state": {
            "_model_module": "@jupyter-widgets/controls",
            "_model_module_version": "1.5.0",
            "_model_name": "DescriptionStyleModel",
            "_view_count": null,
            "_view_module": "@jupyter-widgets/base",
            "_view_module_version": "1.2.0",
            "_view_name": "StyleView",
            "description_width": ""
          }
        },
        "83b4542dbbfc40379156be7006adfc81": {
          "model_module": "@jupyter-widgets/controls",
          "model_name": "HBoxModel",
          "model_module_version": "1.5.0",
          "state": {
            "_dom_classes": [],
            "_model_module": "@jupyter-widgets/controls",
            "_model_module_version": "1.5.0",
            "_model_name": "HBoxModel",
            "_view_count": null,
            "_view_module": "@jupyter-widgets/controls",
            "_view_module_version": "1.5.0",
            "_view_name": "HBoxView",
            "box_style": "",
            "children": [
              "IPY_MODEL_cc09e993729f479d89bb1d61c7e37cf4",
              "IPY_MODEL_bf4e9c250669472eabb6076cf101b5dc",
              "IPY_MODEL_4aeed7da3f1841be997e33de44ced957"
            ],
            "layout": "IPY_MODEL_defa0f0b3ae449ddb9f3859aa6d430eb"
          }
        },
        "cc09e993729f479d89bb1d61c7e37cf4": {
          "model_module": "@jupyter-widgets/controls",
          "model_name": "HTMLModel",
          "model_module_version": "1.5.0",
          "state": {
            "_dom_classes": [],
            "_model_module": "@jupyter-widgets/controls",
            "_model_module_version": "1.5.0",
            "_model_name": "HTMLModel",
            "_view_count": null,
            "_view_module": "@jupyter-widgets/controls",
            "_view_module_version": "1.5.0",
            "_view_name": "HTMLView",
            "description": "",
            "description_tooltip": null,
            "layout": "IPY_MODEL_4f871b53fe384f6b84e5a27fe96ba259",
            "placeholder": "​",
            "style": "IPY_MODEL_531054ee5aa6438398c61f26ae4a8d1b",
            "value": "100%"
          }
        },
        "bf4e9c250669472eabb6076cf101b5dc": {
          "model_module": "@jupyter-widgets/controls",
          "model_name": "FloatProgressModel",
          "model_module_version": "1.5.0",
          "state": {
            "_dom_classes": [],
            "_model_module": "@jupyter-widgets/controls",
            "_model_module_version": "1.5.0",
            "_model_name": "FloatProgressModel",
            "_view_count": null,
            "_view_module": "@jupyter-widgets/controls",
            "_view_module_version": "1.5.0",
            "_view_name": "ProgressView",
            "bar_style": "success",
            "description": "",
            "description_tooltip": null,
            "layout": "IPY_MODEL_ff820b23a66d49c79c12d1924be6d0d7",
            "max": 300,
            "min": 0,
            "orientation": "horizontal",
            "style": "IPY_MODEL_ee4f886053f746a79ea25dee3c7b5a02",
            "value": 300
          }
        },
        "4aeed7da3f1841be997e33de44ced957": {
          "model_module": "@jupyter-widgets/controls",
          "model_name": "HTMLModel",
          "model_module_version": "1.5.0",
          "state": {
            "_dom_classes": [],
            "_model_module": "@jupyter-widgets/controls",
            "_model_module_version": "1.5.0",
            "_model_name": "HTMLModel",
            "_view_count": null,
            "_view_module": "@jupyter-widgets/controls",
            "_view_module_version": "1.5.0",
            "_view_name": "HTMLView",
            "description": "",
            "description_tooltip": null,
            "layout": "IPY_MODEL_abaf4674afb0416da0f439a133fb071c",
            "placeholder": "​",
            "style": "IPY_MODEL_818ff0f13e5e46e796b3333c06639738",
            "value": " 300/300 [00:51&lt;00:00,  9.37it/s]"
          }
        },
        "defa0f0b3ae449ddb9f3859aa6d430eb": {
          "model_module": "@jupyter-widgets/base",
          "model_name": "LayoutModel",
          "model_module_version": "1.2.0",
          "state": {
            "_model_module": "@jupyter-widgets/base",
            "_model_module_version": "1.2.0",
            "_model_name": "LayoutModel",
            "_view_count": null,
            "_view_module": "@jupyter-widgets/base",
            "_view_module_version": "1.2.0",
            "_view_name": "LayoutView",
            "align_content": null,
            "align_items": null,
            "align_self": null,
            "border": null,
            "bottom": null,
            "display": null,
            "flex": null,
            "flex_flow": null,
            "grid_area": null,
            "grid_auto_columns": null,
            "grid_auto_flow": null,
            "grid_auto_rows": null,
            "grid_column": null,
            "grid_gap": null,
            "grid_row": null,
            "grid_template_areas": null,
            "grid_template_columns": null,
            "grid_template_rows": null,
            "height": null,
            "justify_content": null,
            "justify_items": null,
            "left": null,
            "margin": null,
            "max_height": null,
            "max_width": null,
            "min_height": null,
            "min_width": null,
            "object_fit": null,
            "object_position": null,
            "order": null,
            "overflow": null,
            "overflow_x": null,
            "overflow_y": null,
            "padding": null,
            "right": null,
            "top": null,
            "visibility": null,
            "width": null
          }
        },
        "4f871b53fe384f6b84e5a27fe96ba259": {
          "model_module": "@jupyter-widgets/base",
          "model_name": "LayoutModel",
          "model_module_version": "1.2.0",
          "state": {
            "_model_module": "@jupyter-widgets/base",
            "_model_module_version": "1.2.0",
            "_model_name": "LayoutModel",
            "_view_count": null,
            "_view_module": "@jupyter-widgets/base",
            "_view_module_version": "1.2.0",
            "_view_name": "LayoutView",
            "align_content": null,
            "align_items": null,
            "align_self": null,
            "border": null,
            "bottom": null,
            "display": null,
            "flex": null,
            "flex_flow": null,
            "grid_area": null,
            "grid_auto_columns": null,
            "grid_auto_flow": null,
            "grid_auto_rows": null,
            "grid_column": null,
            "grid_gap": null,
            "grid_row": null,
            "grid_template_areas": null,
            "grid_template_columns": null,
            "grid_template_rows": null,
            "height": null,
            "justify_content": null,
            "justify_items": null,
            "left": null,
            "margin": null,
            "max_height": null,
            "max_width": null,
            "min_height": null,
            "min_width": null,
            "object_fit": null,
            "object_position": null,
            "order": null,
            "overflow": null,
            "overflow_x": null,
            "overflow_y": null,
            "padding": null,
            "right": null,
            "top": null,
            "visibility": null,
            "width": null
          }
        },
        "531054ee5aa6438398c61f26ae4a8d1b": {
          "model_module": "@jupyter-widgets/controls",
          "model_name": "DescriptionStyleModel",
          "model_module_version": "1.5.0",
          "state": {
            "_model_module": "@jupyter-widgets/controls",
            "_model_module_version": "1.5.0",
            "_model_name": "DescriptionStyleModel",
            "_view_count": null,
            "_view_module": "@jupyter-widgets/base",
            "_view_module_version": "1.2.0",
            "_view_name": "StyleView",
            "description_width": ""
          }
        },
        "ff820b23a66d49c79c12d1924be6d0d7": {
          "model_module": "@jupyter-widgets/base",
          "model_name": "LayoutModel",
          "model_module_version": "1.2.0",
          "state": {
            "_model_module": "@jupyter-widgets/base",
            "_model_module_version": "1.2.0",
            "_model_name": "LayoutModel",
            "_view_count": null,
            "_view_module": "@jupyter-widgets/base",
            "_view_module_version": "1.2.0",
            "_view_name": "LayoutView",
            "align_content": null,
            "align_items": null,
            "align_self": null,
            "border": null,
            "bottom": null,
            "display": null,
            "flex": null,
            "flex_flow": null,
            "grid_area": null,
            "grid_auto_columns": null,
            "grid_auto_flow": null,
            "grid_auto_rows": null,
            "grid_column": null,
            "grid_gap": null,
            "grid_row": null,
            "grid_template_areas": null,
            "grid_template_columns": null,
            "grid_template_rows": null,
            "height": null,
            "justify_content": null,
            "justify_items": null,
            "left": null,
            "margin": null,
            "max_height": null,
            "max_width": null,
            "min_height": null,
            "min_width": null,
            "object_fit": null,
            "object_position": null,
            "order": null,
            "overflow": null,
            "overflow_x": null,
            "overflow_y": null,
            "padding": null,
            "right": null,
            "top": null,
            "visibility": null,
            "width": null
          }
        },
        "ee4f886053f746a79ea25dee3c7b5a02": {
          "model_module": "@jupyter-widgets/controls",
          "model_name": "ProgressStyleModel",
          "model_module_version": "1.5.0",
          "state": {
            "_model_module": "@jupyter-widgets/controls",
            "_model_module_version": "1.5.0",
            "_model_name": "ProgressStyleModel",
            "_view_count": null,
            "_view_module": "@jupyter-widgets/base",
            "_view_module_version": "1.2.0",
            "_view_name": "StyleView",
            "bar_color": null,
            "description_width": ""
          }
        },
        "abaf4674afb0416da0f439a133fb071c": {
          "model_module": "@jupyter-widgets/base",
          "model_name": "LayoutModel",
          "model_module_version": "1.2.0",
          "state": {
            "_model_module": "@jupyter-widgets/base",
            "_model_module_version": "1.2.0",
            "_model_name": "LayoutModel",
            "_view_count": null,
            "_view_module": "@jupyter-widgets/base",
            "_view_module_version": "1.2.0",
            "_view_name": "LayoutView",
            "align_content": null,
            "align_items": null,
            "align_self": null,
            "border": null,
            "bottom": null,
            "display": null,
            "flex": null,
            "flex_flow": null,
            "grid_area": null,
            "grid_auto_columns": null,
            "grid_auto_flow": null,
            "grid_auto_rows": null,
            "grid_column": null,
            "grid_gap": null,
            "grid_row": null,
            "grid_template_areas": null,
            "grid_template_columns": null,
            "grid_template_rows": null,
            "height": null,
            "justify_content": null,
            "justify_items": null,
            "left": null,
            "margin": null,
            "max_height": null,
            "max_width": null,
            "min_height": null,
            "min_width": null,
            "object_fit": null,
            "object_position": null,
            "order": null,
            "overflow": null,
            "overflow_x": null,
            "overflow_y": null,
            "padding": null,
            "right": null,
            "top": null,
            "visibility": null,
            "width": null
          }
        },
        "818ff0f13e5e46e796b3333c06639738": {
          "model_module": "@jupyter-widgets/controls",
          "model_name": "DescriptionStyleModel",
          "model_module_version": "1.5.0",
          "state": {
            "_model_module": "@jupyter-widgets/controls",
            "_model_module_version": "1.5.0",
            "_model_name": "DescriptionStyleModel",
            "_view_count": null,
            "_view_module": "@jupyter-widgets/base",
            "_view_module_version": "1.2.0",
            "_view_name": "StyleView",
            "description_width": ""
          }
        },
        "317361d3c5e249aea0d06b51f3aea58f": {
          "model_module": "@jupyter-widgets/controls",
          "model_name": "HBoxModel",
          "model_module_version": "1.5.0",
          "state": {
            "_dom_classes": [],
            "_model_module": "@jupyter-widgets/controls",
            "_model_module_version": "1.5.0",
            "_model_name": "HBoxModel",
            "_view_count": null,
            "_view_module": "@jupyter-widgets/controls",
            "_view_module_version": "1.5.0",
            "_view_name": "HBoxView",
            "box_style": "",
            "children": [
              "IPY_MODEL_f277d560711945d7b715b023d530070b",
              "IPY_MODEL_2df7306bdc224e498f6f25533fc2bf8f",
              "IPY_MODEL_0b8de9c06dc349738d7e1e86bae536cc"
            ],
            "layout": "IPY_MODEL_9317b0d3a852462eb5e27155425ff719"
          }
        },
        "f277d560711945d7b715b023d530070b": {
          "model_module": "@jupyter-widgets/controls",
          "model_name": "HTMLModel",
          "model_module_version": "1.5.0",
          "state": {
            "_dom_classes": [],
            "_model_module": "@jupyter-widgets/controls",
            "_model_module_version": "1.5.0",
            "_model_name": "HTMLModel",
            "_view_count": null,
            "_view_module": "@jupyter-widgets/controls",
            "_view_module_version": "1.5.0",
            "_view_name": "HTMLView",
            "description": "",
            "description_tooltip": null,
            "layout": "IPY_MODEL_5282bfa0451b4a1a8d6d4bcc4d220482",
            "placeholder": "​",
            "style": "IPY_MODEL_e0baa5d3255943f68b778f18657d0ce2",
            "value": "100%"
          }
        },
        "2df7306bdc224e498f6f25533fc2bf8f": {
          "model_module": "@jupyter-widgets/controls",
          "model_name": "FloatProgressModel",
          "model_module_version": "1.5.0",
          "state": {
            "_dom_classes": [],
            "_model_module": "@jupyter-widgets/controls",
            "_model_module_version": "1.5.0",
            "_model_name": "FloatProgressModel",
            "_view_count": null,
            "_view_module": "@jupyter-widgets/controls",
            "_view_module_version": "1.5.0",
            "_view_name": "ProgressView",
            "bar_style": "success",
            "description": "",
            "description_tooltip": null,
            "layout": "IPY_MODEL_0450db89bb5b47ac9024b0c1c2dc2256",
            "max": 30,
            "min": 0,
            "orientation": "horizontal",
            "style": "IPY_MODEL_fe76d42392ee46b2baba2c810ca10648",
            "value": 30
          }
        },
        "0b8de9c06dc349738d7e1e86bae536cc": {
          "model_module": "@jupyter-widgets/controls",
          "model_name": "HTMLModel",
          "model_module_version": "1.5.0",
          "state": {
            "_dom_classes": [],
            "_model_module": "@jupyter-widgets/controls",
            "_model_module_version": "1.5.0",
            "_model_name": "HTMLModel",
            "_view_count": null,
            "_view_module": "@jupyter-widgets/controls",
            "_view_module_version": "1.5.0",
            "_view_name": "HTMLView",
            "description": "",
            "description_tooltip": null,
            "layout": "IPY_MODEL_6471603edb0f4f97935c4c6a7715cd8e",
            "placeholder": "​",
            "style": "IPY_MODEL_a278859bc7714ce8a81e203fcc41f696",
            "value": " 30/30 [01:02&lt;00:00,  1.99s/it]"
          }
        },
        "9317b0d3a852462eb5e27155425ff719": {
          "model_module": "@jupyter-widgets/base",
          "model_name": "LayoutModel",
          "model_module_version": "1.2.0",
          "state": {
            "_model_module": "@jupyter-widgets/base",
            "_model_module_version": "1.2.0",
            "_model_name": "LayoutModel",
            "_view_count": null,
            "_view_module": "@jupyter-widgets/base",
            "_view_module_version": "1.2.0",
            "_view_name": "LayoutView",
            "align_content": null,
            "align_items": null,
            "align_self": null,
            "border": null,
            "bottom": null,
            "display": null,
            "flex": null,
            "flex_flow": null,
            "grid_area": null,
            "grid_auto_columns": null,
            "grid_auto_flow": null,
            "grid_auto_rows": null,
            "grid_column": null,
            "grid_gap": null,
            "grid_row": null,
            "grid_template_areas": null,
            "grid_template_columns": null,
            "grid_template_rows": null,
            "height": null,
            "justify_content": null,
            "justify_items": null,
            "left": null,
            "margin": null,
            "max_height": null,
            "max_width": null,
            "min_height": null,
            "min_width": null,
            "object_fit": null,
            "object_position": null,
            "order": null,
            "overflow": null,
            "overflow_x": null,
            "overflow_y": null,
            "padding": null,
            "right": null,
            "top": null,
            "visibility": null,
            "width": null
          }
        },
        "5282bfa0451b4a1a8d6d4bcc4d220482": {
          "model_module": "@jupyter-widgets/base",
          "model_name": "LayoutModel",
          "model_module_version": "1.2.0",
          "state": {
            "_model_module": "@jupyter-widgets/base",
            "_model_module_version": "1.2.0",
            "_model_name": "LayoutModel",
            "_view_count": null,
            "_view_module": "@jupyter-widgets/base",
            "_view_module_version": "1.2.0",
            "_view_name": "LayoutView",
            "align_content": null,
            "align_items": null,
            "align_self": null,
            "border": null,
            "bottom": null,
            "display": null,
            "flex": null,
            "flex_flow": null,
            "grid_area": null,
            "grid_auto_columns": null,
            "grid_auto_flow": null,
            "grid_auto_rows": null,
            "grid_column": null,
            "grid_gap": null,
            "grid_row": null,
            "grid_template_areas": null,
            "grid_template_columns": null,
            "grid_template_rows": null,
            "height": null,
            "justify_content": null,
            "justify_items": null,
            "left": null,
            "margin": null,
            "max_height": null,
            "max_width": null,
            "min_height": null,
            "min_width": null,
            "object_fit": null,
            "object_position": null,
            "order": null,
            "overflow": null,
            "overflow_x": null,
            "overflow_y": null,
            "padding": null,
            "right": null,
            "top": null,
            "visibility": null,
            "width": null
          }
        },
        "e0baa5d3255943f68b778f18657d0ce2": {
          "model_module": "@jupyter-widgets/controls",
          "model_name": "DescriptionStyleModel",
          "model_module_version": "1.5.0",
          "state": {
            "_model_module": "@jupyter-widgets/controls",
            "_model_module_version": "1.5.0",
            "_model_name": "DescriptionStyleModel",
            "_view_count": null,
            "_view_module": "@jupyter-widgets/base",
            "_view_module_version": "1.2.0",
            "_view_name": "StyleView",
            "description_width": ""
          }
        },
        "0450db89bb5b47ac9024b0c1c2dc2256": {
          "model_module": "@jupyter-widgets/base",
          "model_name": "LayoutModel",
          "model_module_version": "1.2.0",
          "state": {
            "_model_module": "@jupyter-widgets/base",
            "_model_module_version": "1.2.0",
            "_model_name": "LayoutModel",
            "_view_count": null,
            "_view_module": "@jupyter-widgets/base",
            "_view_module_version": "1.2.0",
            "_view_name": "LayoutView",
            "align_content": null,
            "align_items": null,
            "align_self": null,
            "border": null,
            "bottom": null,
            "display": null,
            "flex": null,
            "flex_flow": null,
            "grid_area": null,
            "grid_auto_columns": null,
            "grid_auto_flow": null,
            "grid_auto_rows": null,
            "grid_column": null,
            "grid_gap": null,
            "grid_row": null,
            "grid_template_areas": null,
            "grid_template_columns": null,
            "grid_template_rows": null,
            "height": null,
            "justify_content": null,
            "justify_items": null,
            "left": null,
            "margin": null,
            "max_height": null,
            "max_width": null,
            "min_height": null,
            "min_width": null,
            "object_fit": null,
            "object_position": null,
            "order": null,
            "overflow": null,
            "overflow_x": null,
            "overflow_y": null,
            "padding": null,
            "right": null,
            "top": null,
            "visibility": null,
            "width": null
          }
        },
        "fe76d42392ee46b2baba2c810ca10648": {
          "model_module": "@jupyter-widgets/controls",
          "model_name": "ProgressStyleModel",
          "model_module_version": "1.5.0",
          "state": {
            "_model_module": "@jupyter-widgets/controls",
            "_model_module_version": "1.5.0",
            "_model_name": "ProgressStyleModel",
            "_view_count": null,
            "_view_module": "@jupyter-widgets/base",
            "_view_module_version": "1.2.0",
            "_view_name": "StyleView",
            "bar_color": null,
            "description_width": ""
          }
        },
        "6471603edb0f4f97935c4c6a7715cd8e": {
          "model_module": "@jupyter-widgets/base",
          "model_name": "LayoutModel",
          "model_module_version": "1.2.0",
          "state": {
            "_model_module": "@jupyter-widgets/base",
            "_model_module_version": "1.2.0",
            "_model_name": "LayoutModel",
            "_view_count": null,
            "_view_module": "@jupyter-widgets/base",
            "_view_module_version": "1.2.0",
            "_view_name": "LayoutView",
            "align_content": null,
            "align_items": null,
            "align_self": null,
            "border": null,
            "bottom": null,
            "display": null,
            "flex": null,
            "flex_flow": null,
            "grid_area": null,
            "grid_auto_columns": null,
            "grid_auto_flow": null,
            "grid_auto_rows": null,
            "grid_column": null,
            "grid_gap": null,
            "grid_row": null,
            "grid_template_areas": null,
            "grid_template_columns": null,
            "grid_template_rows": null,
            "height": null,
            "justify_content": null,
            "justify_items": null,
            "left": null,
            "margin": null,
            "max_height": null,
            "max_width": null,
            "min_height": null,
            "min_width": null,
            "object_fit": null,
            "object_position": null,
            "order": null,
            "overflow": null,
            "overflow_x": null,
            "overflow_y": null,
            "padding": null,
            "right": null,
            "top": null,
            "visibility": null,
            "width": null
          }
        },
        "a278859bc7714ce8a81e203fcc41f696": {
          "model_module": "@jupyter-widgets/controls",
          "model_name": "DescriptionStyleModel",
          "model_module_version": "1.5.0",
          "state": {
            "_model_module": "@jupyter-widgets/controls",
            "_model_module_version": "1.5.0",
            "_model_name": "DescriptionStyleModel",
            "_view_count": null,
            "_view_module": "@jupyter-widgets/base",
            "_view_module_version": "1.2.0",
            "_view_name": "StyleView",
            "description_width": ""
          }
        },
        "732d28ace74c4406a0a4661481fa53a0": {
          "model_module": "@jupyter-widgets/controls",
          "model_name": "HBoxModel",
          "model_module_version": "1.5.0",
          "state": {
            "_dom_classes": [],
            "_model_module": "@jupyter-widgets/controls",
            "_model_module_version": "1.5.0",
            "_model_name": "HBoxModel",
            "_view_count": null,
            "_view_module": "@jupyter-widgets/controls",
            "_view_module_version": "1.5.0",
            "_view_name": "HBoxView",
            "box_style": "",
            "children": [
              "IPY_MODEL_3994fb546f7f4df99816e9fb898ab929",
              "IPY_MODEL_4295c42bff4a438a895eea4e2e058987",
              "IPY_MODEL_c1a3eaa76e0b444cbf723cd937c46958"
            ],
            "layout": "IPY_MODEL_1d9dc07f18db40f8b86b49fe04c6d37f"
          }
        },
        "3994fb546f7f4df99816e9fb898ab929": {
          "model_module": "@jupyter-widgets/controls",
          "model_name": "HTMLModel",
          "model_module_version": "1.5.0",
          "state": {
            "_dom_classes": [],
            "_model_module": "@jupyter-widgets/controls",
            "_model_module_version": "1.5.0",
            "_model_name": "HTMLModel",
            "_view_count": null,
            "_view_module": "@jupyter-widgets/controls",
            "_view_module_version": "1.5.0",
            "_view_name": "HTMLView",
            "description": "",
            "description_tooltip": null,
            "layout": "IPY_MODEL_08ff48c1f9f24c989abefa93a5fb4dcf",
            "placeholder": "​",
            "style": "IPY_MODEL_59eca3754de44a1492152946f4086ea8",
            "value": "100%"
          }
        },
        "4295c42bff4a438a895eea4e2e058987": {
          "model_module": "@jupyter-widgets/controls",
          "model_name": "FloatProgressModel",
          "model_module_version": "1.5.0",
          "state": {
            "_dom_classes": [],
            "_model_module": "@jupyter-widgets/controls",
            "_model_module_version": "1.5.0",
            "_model_name": "FloatProgressModel",
            "_view_count": null,
            "_view_module": "@jupyter-widgets/controls",
            "_view_module_version": "1.5.0",
            "_view_name": "ProgressView",
            "bar_style": "success",
            "description": "",
            "description_tooltip": null,
            "layout": "IPY_MODEL_85d1cbef880e4246b29df0c605906312",
            "max": 900,
            "min": 0,
            "orientation": "horizontal",
            "style": "IPY_MODEL_d7d3f8320106482fb585450d4efb6978",
            "value": 900
          }
        },
        "c1a3eaa76e0b444cbf723cd937c46958": {
          "model_module": "@jupyter-widgets/controls",
          "model_name": "HTMLModel",
          "model_module_version": "1.5.0",
          "state": {
            "_dom_classes": [],
            "_model_module": "@jupyter-widgets/controls",
            "_model_module_version": "1.5.0",
            "_model_name": "HTMLModel",
            "_view_count": null,
            "_view_module": "@jupyter-widgets/controls",
            "_view_module_version": "1.5.0",
            "_view_name": "HTMLView",
            "description": "",
            "description_tooltip": null,
            "layout": "IPY_MODEL_c7e590fd239c43d0bad43c6cf52de31c",
            "placeholder": "​",
            "style": "IPY_MODEL_ac8f5ecd4ea04b928857a5d36e08d93e",
            "value": " 900/900 [01:57&lt;00:00,  8.12it/s]"
          }
        },
        "1d9dc07f18db40f8b86b49fe04c6d37f": {
          "model_module": "@jupyter-widgets/base",
          "model_name": "LayoutModel",
          "model_module_version": "1.2.0",
          "state": {
            "_model_module": "@jupyter-widgets/base",
            "_model_module_version": "1.2.0",
            "_model_name": "LayoutModel",
            "_view_count": null,
            "_view_module": "@jupyter-widgets/base",
            "_view_module_version": "1.2.0",
            "_view_name": "LayoutView",
            "align_content": null,
            "align_items": null,
            "align_self": null,
            "border": null,
            "bottom": null,
            "display": null,
            "flex": null,
            "flex_flow": null,
            "grid_area": null,
            "grid_auto_columns": null,
            "grid_auto_flow": null,
            "grid_auto_rows": null,
            "grid_column": null,
            "grid_gap": null,
            "grid_row": null,
            "grid_template_areas": null,
            "grid_template_columns": null,
            "grid_template_rows": null,
            "height": null,
            "justify_content": null,
            "justify_items": null,
            "left": null,
            "margin": null,
            "max_height": null,
            "max_width": null,
            "min_height": null,
            "min_width": null,
            "object_fit": null,
            "object_position": null,
            "order": null,
            "overflow": null,
            "overflow_x": null,
            "overflow_y": null,
            "padding": null,
            "right": null,
            "top": null,
            "visibility": null,
            "width": null
          }
        },
        "08ff48c1f9f24c989abefa93a5fb4dcf": {
          "model_module": "@jupyter-widgets/base",
          "model_name": "LayoutModel",
          "model_module_version": "1.2.0",
          "state": {
            "_model_module": "@jupyter-widgets/base",
            "_model_module_version": "1.2.0",
            "_model_name": "LayoutModel",
            "_view_count": null,
            "_view_module": "@jupyter-widgets/base",
            "_view_module_version": "1.2.0",
            "_view_name": "LayoutView",
            "align_content": null,
            "align_items": null,
            "align_self": null,
            "border": null,
            "bottom": null,
            "display": null,
            "flex": null,
            "flex_flow": null,
            "grid_area": null,
            "grid_auto_columns": null,
            "grid_auto_flow": null,
            "grid_auto_rows": null,
            "grid_column": null,
            "grid_gap": null,
            "grid_row": null,
            "grid_template_areas": null,
            "grid_template_columns": null,
            "grid_template_rows": null,
            "height": null,
            "justify_content": null,
            "justify_items": null,
            "left": null,
            "margin": null,
            "max_height": null,
            "max_width": null,
            "min_height": null,
            "min_width": null,
            "object_fit": null,
            "object_position": null,
            "order": null,
            "overflow": null,
            "overflow_x": null,
            "overflow_y": null,
            "padding": null,
            "right": null,
            "top": null,
            "visibility": null,
            "width": null
          }
        },
        "59eca3754de44a1492152946f4086ea8": {
          "model_module": "@jupyter-widgets/controls",
          "model_name": "DescriptionStyleModel",
          "model_module_version": "1.5.0",
          "state": {
            "_model_module": "@jupyter-widgets/controls",
            "_model_module_version": "1.5.0",
            "_model_name": "DescriptionStyleModel",
            "_view_count": null,
            "_view_module": "@jupyter-widgets/base",
            "_view_module_version": "1.2.0",
            "_view_name": "StyleView",
            "description_width": ""
          }
        },
        "85d1cbef880e4246b29df0c605906312": {
          "model_module": "@jupyter-widgets/base",
          "model_name": "LayoutModel",
          "model_module_version": "1.2.0",
          "state": {
            "_model_module": "@jupyter-widgets/base",
            "_model_module_version": "1.2.0",
            "_model_name": "LayoutModel",
            "_view_count": null,
            "_view_module": "@jupyter-widgets/base",
            "_view_module_version": "1.2.0",
            "_view_name": "LayoutView",
            "align_content": null,
            "align_items": null,
            "align_self": null,
            "border": null,
            "bottom": null,
            "display": null,
            "flex": null,
            "flex_flow": null,
            "grid_area": null,
            "grid_auto_columns": null,
            "grid_auto_flow": null,
            "grid_auto_rows": null,
            "grid_column": null,
            "grid_gap": null,
            "grid_row": null,
            "grid_template_areas": null,
            "grid_template_columns": null,
            "grid_template_rows": null,
            "height": null,
            "justify_content": null,
            "justify_items": null,
            "left": null,
            "margin": null,
            "max_height": null,
            "max_width": null,
            "min_height": null,
            "min_width": null,
            "object_fit": null,
            "object_position": null,
            "order": null,
            "overflow": null,
            "overflow_x": null,
            "overflow_y": null,
            "padding": null,
            "right": null,
            "top": null,
            "visibility": null,
            "width": null
          }
        },
        "d7d3f8320106482fb585450d4efb6978": {
          "model_module": "@jupyter-widgets/controls",
          "model_name": "ProgressStyleModel",
          "model_module_version": "1.5.0",
          "state": {
            "_model_module": "@jupyter-widgets/controls",
            "_model_module_version": "1.5.0",
            "_model_name": "ProgressStyleModel",
            "_view_count": null,
            "_view_module": "@jupyter-widgets/base",
            "_view_module_version": "1.2.0",
            "_view_name": "StyleView",
            "bar_color": null,
            "description_width": ""
          }
        },
        "c7e590fd239c43d0bad43c6cf52de31c": {
          "model_module": "@jupyter-widgets/base",
          "model_name": "LayoutModel",
          "model_module_version": "1.2.0",
          "state": {
            "_model_module": "@jupyter-widgets/base",
            "_model_module_version": "1.2.0",
            "_model_name": "LayoutModel",
            "_view_count": null,
            "_view_module": "@jupyter-widgets/base",
            "_view_module_version": "1.2.0",
            "_view_name": "LayoutView",
            "align_content": null,
            "align_items": null,
            "align_self": null,
            "border": null,
            "bottom": null,
            "display": null,
            "flex": null,
            "flex_flow": null,
            "grid_area": null,
            "grid_auto_columns": null,
            "grid_auto_flow": null,
            "grid_auto_rows": null,
            "grid_column": null,
            "grid_gap": null,
            "grid_row": null,
            "grid_template_areas": null,
            "grid_template_columns": null,
            "grid_template_rows": null,
            "height": null,
            "justify_content": null,
            "justify_items": null,
            "left": null,
            "margin": null,
            "max_height": null,
            "max_width": null,
            "min_height": null,
            "min_width": null,
            "object_fit": null,
            "object_position": null,
            "order": null,
            "overflow": null,
            "overflow_x": null,
            "overflow_y": null,
            "padding": null,
            "right": null,
            "top": null,
            "visibility": null,
            "width": null
          }
        },
        "ac8f5ecd4ea04b928857a5d36e08d93e": {
          "model_module": "@jupyter-widgets/controls",
          "model_name": "DescriptionStyleModel",
          "model_module_version": "1.5.0",
          "state": {
            "_model_module": "@jupyter-widgets/controls",
            "_model_module_version": "1.5.0",
            "_model_name": "DescriptionStyleModel",
            "_view_count": null,
            "_view_module": "@jupyter-widgets/base",
            "_view_module_version": "1.2.0",
            "_view_name": "StyleView",
            "description_width": ""
          }
        },
        "668d1424339b48dd89c5cffe6bc62663": {
          "model_module": "@jupyter-widgets/controls",
          "model_name": "HBoxModel",
          "model_module_version": "1.5.0",
          "state": {
            "_dom_classes": [],
            "_model_module": "@jupyter-widgets/controls",
            "_model_module_version": "1.5.0",
            "_model_name": "HBoxModel",
            "_view_count": null,
            "_view_module": "@jupyter-widgets/controls",
            "_view_module_version": "1.5.0",
            "_view_name": "HBoxView",
            "box_style": "",
            "children": [
              "IPY_MODEL_211214aa467341d68c19fe00a1530b6e",
              "IPY_MODEL_da286b6960d846889cbf2b9dc8e9251a",
              "IPY_MODEL_b2d1feb76c4449fdada4032a09b09319"
            ],
            "layout": "IPY_MODEL_a3bbbdf19a0b4057889cd0d47a142519"
          }
        },
        "211214aa467341d68c19fe00a1530b6e": {
          "model_module": "@jupyter-widgets/controls",
          "model_name": "HTMLModel",
          "model_module_version": "1.5.0",
          "state": {
            "_dom_classes": [],
            "_model_module": "@jupyter-widgets/controls",
            "_model_module_version": "1.5.0",
            "_model_name": "HTMLModel",
            "_view_count": null,
            "_view_module": "@jupyter-widgets/controls",
            "_view_module_version": "1.5.0",
            "_view_name": "HTMLView",
            "description": "",
            "description_tooltip": null,
            "layout": "IPY_MODEL_cc60803902304374b90957b77ecbd533",
            "placeholder": "​",
            "style": "IPY_MODEL_bdfb8bca9bc64aa3ad5df7f66f9d9ee6",
            "value": "100%"
          }
        },
        "da286b6960d846889cbf2b9dc8e9251a": {
          "model_module": "@jupyter-widgets/controls",
          "model_name": "FloatProgressModel",
          "model_module_version": "1.5.0",
          "state": {
            "_dom_classes": [],
            "_model_module": "@jupyter-widgets/controls",
            "_model_module_version": "1.5.0",
            "_model_name": "FloatProgressModel",
            "_view_count": null,
            "_view_module": "@jupyter-widgets/controls",
            "_view_module_version": "1.5.0",
            "_view_name": "ProgressView",
            "bar_style": "success",
            "description": "",
            "description_tooltip": null,
            "layout": "IPY_MODEL_65baef7b367845c8a441035f44197c76",
            "max": 90,
            "min": 0,
            "orientation": "horizontal",
            "style": "IPY_MODEL_3e333cf3d66f419d9f055907ade3cb03",
            "value": 90
          }
        },
        "b2d1feb76c4449fdada4032a09b09319": {
          "model_module": "@jupyter-widgets/controls",
          "model_name": "HTMLModel",
          "model_module_version": "1.5.0",
          "state": {
            "_dom_classes": [],
            "_model_module": "@jupyter-widgets/controls",
            "_model_module_version": "1.5.0",
            "_model_name": "HTMLModel",
            "_view_count": null,
            "_view_module": "@jupyter-widgets/controls",
            "_view_module_version": "1.5.0",
            "_view_name": "HTMLView",
            "description": "",
            "description_tooltip": null,
            "layout": "IPY_MODEL_28783a43beb0440990acea53ec807ea3",
            "placeholder": "​",
            "style": "IPY_MODEL_83170bd646e94453a443d548d62cd590",
            "value": " 90/90 [04:14&lt;00:00,  2.78s/it]"
          }
        },
        "a3bbbdf19a0b4057889cd0d47a142519": {
          "model_module": "@jupyter-widgets/base",
          "model_name": "LayoutModel",
          "model_module_version": "1.2.0",
          "state": {
            "_model_module": "@jupyter-widgets/base",
            "_model_module_version": "1.2.0",
            "_model_name": "LayoutModel",
            "_view_count": null,
            "_view_module": "@jupyter-widgets/base",
            "_view_module_version": "1.2.0",
            "_view_name": "LayoutView",
            "align_content": null,
            "align_items": null,
            "align_self": null,
            "border": null,
            "bottom": null,
            "display": null,
            "flex": null,
            "flex_flow": null,
            "grid_area": null,
            "grid_auto_columns": null,
            "grid_auto_flow": null,
            "grid_auto_rows": null,
            "grid_column": null,
            "grid_gap": null,
            "grid_row": null,
            "grid_template_areas": null,
            "grid_template_columns": null,
            "grid_template_rows": null,
            "height": null,
            "justify_content": null,
            "justify_items": null,
            "left": null,
            "margin": null,
            "max_height": null,
            "max_width": null,
            "min_height": null,
            "min_width": null,
            "object_fit": null,
            "object_position": null,
            "order": null,
            "overflow": null,
            "overflow_x": null,
            "overflow_y": null,
            "padding": null,
            "right": null,
            "top": null,
            "visibility": null,
            "width": null
          }
        },
        "cc60803902304374b90957b77ecbd533": {
          "model_module": "@jupyter-widgets/base",
          "model_name": "LayoutModel",
          "model_module_version": "1.2.0",
          "state": {
            "_model_module": "@jupyter-widgets/base",
            "_model_module_version": "1.2.0",
            "_model_name": "LayoutModel",
            "_view_count": null,
            "_view_module": "@jupyter-widgets/base",
            "_view_module_version": "1.2.0",
            "_view_name": "LayoutView",
            "align_content": null,
            "align_items": null,
            "align_self": null,
            "border": null,
            "bottom": null,
            "display": null,
            "flex": null,
            "flex_flow": null,
            "grid_area": null,
            "grid_auto_columns": null,
            "grid_auto_flow": null,
            "grid_auto_rows": null,
            "grid_column": null,
            "grid_gap": null,
            "grid_row": null,
            "grid_template_areas": null,
            "grid_template_columns": null,
            "grid_template_rows": null,
            "height": null,
            "justify_content": null,
            "justify_items": null,
            "left": null,
            "margin": null,
            "max_height": null,
            "max_width": null,
            "min_height": null,
            "min_width": null,
            "object_fit": null,
            "object_position": null,
            "order": null,
            "overflow": null,
            "overflow_x": null,
            "overflow_y": null,
            "padding": null,
            "right": null,
            "top": null,
            "visibility": null,
            "width": null
          }
        },
        "bdfb8bca9bc64aa3ad5df7f66f9d9ee6": {
          "model_module": "@jupyter-widgets/controls",
          "model_name": "DescriptionStyleModel",
          "model_module_version": "1.5.0",
          "state": {
            "_model_module": "@jupyter-widgets/controls",
            "_model_module_version": "1.5.0",
            "_model_name": "DescriptionStyleModel",
            "_view_count": null,
            "_view_module": "@jupyter-widgets/base",
            "_view_module_version": "1.2.0",
            "_view_name": "StyleView",
            "description_width": ""
          }
        },
        "65baef7b367845c8a441035f44197c76": {
          "model_module": "@jupyter-widgets/base",
          "model_name": "LayoutModel",
          "model_module_version": "1.2.0",
          "state": {
            "_model_module": "@jupyter-widgets/base",
            "_model_module_version": "1.2.0",
            "_model_name": "LayoutModel",
            "_view_count": null,
            "_view_module": "@jupyter-widgets/base",
            "_view_module_version": "1.2.0",
            "_view_name": "LayoutView",
            "align_content": null,
            "align_items": null,
            "align_self": null,
            "border": null,
            "bottom": null,
            "display": null,
            "flex": null,
            "flex_flow": null,
            "grid_area": null,
            "grid_auto_columns": null,
            "grid_auto_flow": null,
            "grid_auto_rows": null,
            "grid_column": null,
            "grid_gap": null,
            "grid_row": null,
            "grid_template_areas": null,
            "grid_template_columns": null,
            "grid_template_rows": null,
            "height": null,
            "justify_content": null,
            "justify_items": null,
            "left": null,
            "margin": null,
            "max_height": null,
            "max_width": null,
            "min_height": null,
            "min_width": null,
            "object_fit": null,
            "object_position": null,
            "order": null,
            "overflow": null,
            "overflow_x": null,
            "overflow_y": null,
            "padding": null,
            "right": null,
            "top": null,
            "visibility": null,
            "width": null
          }
        },
        "3e333cf3d66f419d9f055907ade3cb03": {
          "model_module": "@jupyter-widgets/controls",
          "model_name": "ProgressStyleModel",
          "model_module_version": "1.5.0",
          "state": {
            "_model_module": "@jupyter-widgets/controls",
            "_model_module_version": "1.5.0",
            "_model_name": "ProgressStyleModel",
            "_view_count": null,
            "_view_module": "@jupyter-widgets/base",
            "_view_module_version": "1.2.0",
            "_view_name": "StyleView",
            "bar_color": null,
            "description_width": ""
          }
        },
        "28783a43beb0440990acea53ec807ea3": {
          "model_module": "@jupyter-widgets/base",
          "model_name": "LayoutModel",
          "model_module_version": "1.2.0",
          "state": {
            "_model_module": "@jupyter-widgets/base",
            "_model_module_version": "1.2.0",
            "_model_name": "LayoutModel",
            "_view_count": null,
            "_view_module": "@jupyter-widgets/base",
            "_view_module_version": "1.2.0",
            "_view_name": "LayoutView",
            "align_content": null,
            "align_items": null,
            "align_self": null,
            "border": null,
            "bottom": null,
            "display": null,
            "flex": null,
            "flex_flow": null,
            "grid_area": null,
            "grid_auto_columns": null,
            "grid_auto_flow": null,
            "grid_auto_rows": null,
            "grid_column": null,
            "grid_gap": null,
            "grid_row": null,
            "grid_template_areas": null,
            "grid_template_columns": null,
            "grid_template_rows": null,
            "height": null,
            "justify_content": null,
            "justify_items": null,
            "left": null,
            "margin": null,
            "max_height": null,
            "max_width": null,
            "min_height": null,
            "min_width": null,
            "object_fit": null,
            "object_position": null,
            "order": null,
            "overflow": null,
            "overflow_x": null,
            "overflow_y": null,
            "padding": null,
            "right": null,
            "top": null,
            "visibility": null,
            "width": null
          }
        },
        "83170bd646e94453a443d548d62cd590": {
          "model_module": "@jupyter-widgets/controls",
          "model_name": "DescriptionStyleModel",
          "model_module_version": "1.5.0",
          "state": {
            "_model_module": "@jupyter-widgets/controls",
            "_model_module_version": "1.5.0",
            "_model_name": "DescriptionStyleModel",
            "_view_count": null,
            "_view_module": "@jupyter-widgets/base",
            "_view_module_version": "1.2.0",
            "_view_name": "StyleView",
            "description_width": ""
          }
        }
      }
    }
  },
  "cells": [
    {
      "cell_type": "markdown",
      "metadata": {
        "id": "view-in-github",
        "colab_type": "text"
      },
      "source": [
        "<a href=\"https://colab.research.google.com/github/Srinivas1258/ML-DL/blob/master/Image_to_text/image_to_text_converter.ipynb\" target=\"_parent\"><img src=\"https://colab.research.google.com/assets/colab-badge.svg\" alt=\"Open In Colab\"/></a>"
      ]
    },
    {
      "cell_type": "code",
      "execution_count": 1,
      "metadata": {
        "colab": {
          "base_uri": "https://localhost:8080/"
        },
        "id": "2j69K2MMEZwv",
        "outputId": "010a6646-a1d7-4d5d-9635-fa663831f7c3"
      },
      "outputs": [
        {
          "output_type": "stream",
          "name": "stdout",
          "text": [
            "Mounted at /content/drive\n"
          ]
        }
      ],
      "source": [
        "from google.colab import drive\n",
        "drive.mount('/content/drive')"
      ]
    },
    {
      "cell_type": "code",
      "source": [
        "!cp -r drive/MyDrive/Colab_Notebooks/Assignment_Data/ ."
      ],
      "metadata": {
        "id": "u7fO6H-YEhlW"
      },
      "execution_count": 2,
      "outputs": []
    },
    {
      "cell_type": "code",
      "source": [
        "!ls -lrth Assignment_Data/"
      ],
      "metadata": {
        "colab": {
          "base_uri": "https://localhost:8080/"
        },
        "id": "omrwKWpTFRji",
        "outputId": "ef493ece-426e-4a48-e421-f8a584ecfccc"
      },
      "execution_count": 3,
      "outputs": [
        {
          "output_type": "stream",
          "name": "stdout",
          "text": [
            "total 12K\n",
            "dr-x------ 4 root root 4.0K Aug  5 04:33 D2\n",
            "dr-x------ 4 root root 4.0K Aug  5 04:33 D1\n",
            "dr-x------ 4 root root 4.0K Aug  5 04:33 D3\n"
          ]
        }
      ]
    },
    {
      "cell_type": "code",
      "source": [
        "imgs_path='Assignment_Data/D1/IMAGES/'\n",
        "labels_path='Assignment_Data/D1/TEXT_LABELS/'\n",
        "# ! mv Assignment_Data/D1/TEXT_LABELS/*.gui Assignment_Data/D1/TEXT_LABELS/*.txt"
      ],
      "metadata": {
        "id": "tKOfyE_9FfNO"
      },
      "execution_count": 4,
      "outputs": []
    },
    {
      "cell_type": "code",
      "source": [
        "# ! for f in Assignment_Data/D1/TEXT_LABELS/*.gui; do mv \"$f\" \"$f.txt\"; done"
      ],
      "metadata": {
        "id": "Pj-l_kkTF8NP"
      },
      "execution_count": 5,
      "outputs": []
    },
    {
      "cell_type": "code",
      "source": [
        "labels_path"
      ],
      "metadata": {
        "colab": {
          "base_uri": "https://localhost:8080/",
          "height": 35
        },
        "id": "-ywDATZaJPl2",
        "outputId": "fbeaf1df-e119-4930-a7b5-cabcc6ea906b"
      },
      "execution_count": 6,
      "outputs": [
        {
          "output_type": "execute_result",
          "data": {
            "text/plain": [
              "'Assignment_Data/D1/TEXT_LABELS/'"
            ],
            "application/vnd.google.colaboratory.intrinsic+json": {
              "type": "string"
            }
          },
          "metadata": {},
          "execution_count": 6
        }
      ]
    },
    {
      "cell_type": "code",
      "source": [
        "import os\n",
        "for filename in sorted(os.listdir(labels_path)):\n",
        "  full_path=os.path.join(labels_path,filename)\n",
        "  os.rename(full_path,full_path[:-3]+'txt')"
      ],
      "metadata": {
        "id": "QG5J4KD_HRbb"
      },
      "execution_count": 7,
      "outputs": []
    },
    {
      "cell_type": "markdown",
      "source": [
        "# 2.A"
      ],
      "metadata": {
        "id": "x4JUIQ5KiCNH"
      }
    },
    {
      "cell_type": "code",
      "source": [
        "import os\n",
        "import pickle\n",
        "import numpy as np\n",
        "from tqdm.notebook import tqdm\n",
        "\n",
        "from tensorflow.keras.applications.vgg16 import VGG16, preprocess_input\n",
        "from tensorflow.keras.preprocessing.image import load_img, img_to_array\n",
        "from tensorflow.keras.preprocessing.text import Tokenizer\n",
        "from tensorflow.keras.preprocessing.sequence import pad_sequences\n",
        "from tensorflow.keras.models import Model\n",
        "from tensorflow.keras.utils import to_categorical, plot_model\n",
        "from tensorflow.keras.layers import Input, Dense, LSTM, Embedding, Dropout, add"
      ],
      "metadata": {
        "id": "sDm3FwDHJIHp"
      },
      "execution_count": 8,
      "outputs": []
    },
    {
      "cell_type": "code",
      "source": [
        "# load vgg16 model\n",
        "model = VGG16()\n",
        "# restructure the model\n",
        "model = Model(inputs=model.inputs, outputs=model.layers[-2].output)\n",
        "# summarize\n",
        "print(model.summary())"
      ],
      "metadata": {
        "colab": {
          "base_uri": "https://localhost:8080/"
        },
        "id": "NB5a3J8VLwPQ",
        "outputId": "29d7859f-fed5-4080-9519-dc708be32519"
      },
      "execution_count": 9,
      "outputs": [
        {
          "output_type": "stream",
          "name": "stdout",
          "text": [
            "Downloading data from https://storage.googleapis.com/tensorflow/keras-applications/vgg16/vgg16_weights_tf_dim_ordering_tf_kernels.h5\n",
            "553467904/553467096 [==============================] - 3s 0us/step\n",
            "553476096/553467096 [==============================] - 3s 0us/step\n",
            "Model: \"model\"\n",
            "_________________________________________________________________\n",
            " Layer (type)                Output Shape              Param #   \n",
            "=================================================================\n",
            " input_1 (InputLayer)        [(None, 224, 224, 3)]     0         \n",
            "                                                                 \n",
            " block1_conv1 (Conv2D)       (None, 224, 224, 64)      1792      \n",
            "                                                                 \n",
            " block1_conv2 (Conv2D)       (None, 224, 224, 64)      36928     \n",
            "                                                                 \n",
            " block1_pool (MaxPooling2D)  (None, 112, 112, 64)      0         \n",
            "                                                                 \n",
            " block2_conv1 (Conv2D)       (None, 112, 112, 128)     73856     \n",
            "                                                                 \n",
            " block2_conv2 (Conv2D)       (None, 112, 112, 128)     147584    \n",
            "                                                                 \n",
            " block2_pool (MaxPooling2D)  (None, 56, 56, 128)       0         \n",
            "                                                                 \n",
            " block3_conv1 (Conv2D)       (None, 56, 56, 256)       295168    \n",
            "                                                                 \n",
            " block3_conv2 (Conv2D)       (None, 56, 56, 256)       590080    \n",
            "                                                                 \n",
            " block3_conv3 (Conv2D)       (None, 56, 56, 256)       590080    \n",
            "                                                                 \n",
            " block3_pool (MaxPooling2D)  (None, 28, 28, 256)       0         \n",
            "                                                                 \n",
            " block4_conv1 (Conv2D)       (None, 28, 28, 512)       1180160   \n",
            "                                                                 \n",
            " block4_conv2 (Conv2D)       (None, 28, 28, 512)       2359808   \n",
            "                                                                 \n",
            " block4_conv3 (Conv2D)       (None, 28, 28, 512)       2359808   \n",
            "                                                                 \n",
            " block4_pool (MaxPooling2D)  (None, 14, 14, 512)       0         \n",
            "                                                                 \n",
            " block5_conv1 (Conv2D)       (None, 14, 14, 512)       2359808   \n",
            "                                                                 \n",
            " block5_conv2 (Conv2D)       (None, 14, 14, 512)       2359808   \n",
            "                                                                 \n",
            " block5_conv3 (Conv2D)       (None, 14, 14, 512)       2359808   \n",
            "                                                                 \n",
            " block5_pool (MaxPooling2D)  (None, 7, 7, 512)         0         \n",
            "                                                                 \n",
            " flatten (Flatten)           (None, 25088)             0         \n",
            "                                                                 \n",
            " fc1 (Dense)                 (None, 4096)              102764544 \n",
            "                                                                 \n",
            " fc2 (Dense)                 (None, 4096)              16781312  \n",
            "                                                                 \n",
            "=================================================================\n",
            "Total params: 134,260,544\n",
            "Trainable params: 134,260,544\n",
            "Non-trainable params: 0\n",
            "_________________________________________________________________\n",
            "None\n"
          ]
        }
      ]
    },
    {
      "cell_type": "code",
      "source": [
        "# extract features from image\n",
        "features = {}\n",
        "# directory = os.path.join(BASE_DIR, 'Images')\n",
        "directory=imgs_path\n",
        "\n",
        "for img_name in tqdm(os.listdir(directory)):\n",
        "    # load the image from file\n",
        "    img_path = directory + '/' + img_name\n",
        "    image = load_img(img_path, target_size=(224, 224))\n",
        "    # convert image pixels to numpy array\n",
        "    image = img_to_array(image)\n",
        "    # reshape data for model\n",
        "    image = image.reshape((1, image.shape[0], image.shape[1], image.shape[2]))\n",
        "    # preprocess image for vgg\n",
        "    image = preprocess_input(image)\n",
        "    # extract features\n",
        "    feature = model.predict(image, verbose=0)\n",
        "    # get image ID\n",
        "    image_id = img_name.split('.')[0]\n",
        "    # store feature\n",
        "    features[image_id] = feature"
      ],
      "metadata": {
        "colab": {
          "base_uri": "https://localhost:8080/",
          "height": 49,
          "referenced_widgets": [
            "fd5d7daf201e476ab8612e00df1ed5f9",
            "c45bf9284c864617afef9af3a7e67d14",
            "e1212deeb04b49f695481c7d0ade05d5",
            "cf97c5d23df84f45aa548f90baf96fab",
            "08d56258609540ba9527cfeec092e805",
            "b9ac057663214b4892bf7be680686244",
            "9238176b5e0340d28a4d473f35eda012",
            "f62c5e83d36c42d4a183c4306ab5b0c5",
            "35468c6e8e4f42dfb8dcdd0b6c74f926",
            "555d3904fe134552892c4aa379979485",
            "763a44d892cd4637a1db505aebde7289"
          ]
        },
        "id": "SWIabb5lL0Ll",
        "outputId": "611c7101-939c-4f69-aa01-96d91f3f70ef"
      },
      "execution_count": 10,
      "outputs": [
        {
          "output_type": "display_data",
          "data": {
            "text/plain": [
              "  0%|          | 0/300 [00:00<?, ?it/s]"
            ],
            "application/vnd.jupyter.widget-view+json": {
              "version_major": 2,
              "version_minor": 0,
              "model_id": "fd5d7daf201e476ab8612e00df1ed5f9"
            }
          },
          "metadata": {}
        }
      ]
    },
    {
      "cell_type": "code",
      "source": [
        "captions_doc=[]\n",
        "for file in os.listdir(labels_path):\n",
        "\n",
        "\n",
        "    with open(os.path.join(labels_path,file), 'r') as f:\n",
        "      # next(f)\n",
        "      captions_doc.append(f.read())\n",
        "print(captions_doc)"
      ],
      "metadata": {
        "colab": {
          "base_uri": "https://localhost:8080/"
        },
        "id": "TexUbIb4MD4O",
        "outputId": "d7e3b1d2-8317-4e57-a242-e429b25939ac"
      },
      "execution_count": 11,
      "outputs": [
        {
          "output_type": "stream",
          "name": "stdout",
          "text": [
            "['header {\\nbtn-active, btn-inactive\\n}\\nrow {\\nsingle {\\nsmall-title, text, btn-red\\n}\\n}\\nrow {\\ndouble {\\nsmall-title, text, btn-green\\n}\\ndouble {\\nsmall-title, text, btn-orange\\n}\\n}\\nrow {\\nquadruple {\\nsmall-title, text, btn-orange\\n}\\nquadruple {\\nsmall-title, text, btn-red\\n}\\nquadruple {\\nsmall-title, text, btn-orange\\n}\\nquadruple {\\nsmall-title, text, btn-orange\\n}\\n}\\n', 'header {\\nbtn-active, btn-inactive, btn-inactive\\n}\\nrow {\\nquadruple {\\nsmall-title, text, btn-orange\\n}\\nquadruple {\\nsmall-title, text, btn-orange\\n}\\nquadruple {\\nsmall-title, text, btn-orange\\n}\\nquadruple {\\nsmall-title, text, btn-green\\n}\\n}\\nrow {\\nsingle {\\nsmall-title, text, btn-red\\n}\\n}\\nrow {\\ndouble {\\nsmall-title, text, btn-green\\n}\\ndouble {\\nsmall-title, text, btn-green\\n}\\n}\\n', 'header {\\nbtn-inactive, btn-active\\n}\\nrow {\\ndouble {\\nsmall-title, text, btn-green\\n}\\ndouble {\\nsmall-title, text, btn-red\\n}\\n}\\nrow {\\nsingle {\\nsmall-title, text, btn-red\\n}\\n}\\n', 'header {\\nbtn-active, btn-inactive\\n}\\nrow {\\ndouble {\\nsmall-title, text, btn-green\\n}\\ndouble {\\nsmall-title, text, btn-orange\\n}\\n}\\nrow {\\nsingle {\\nsmall-title, text, btn-red\\n}\\n}\\nrow {\\ndouble {\\nsmall-title, text, btn-red\\n}\\ndouble {\\nsmall-title, text, btn-red\\n}\\n}\\n', 'header {\\nbtn-inactive, btn-active\\n}\\nrow {\\nquadruple {\\nsmall-title, text, btn-orange\\n}\\nquadruple {\\nsmall-title, text, btn-orange\\n}\\nquadruple {\\nsmall-title, text, btn-orange\\n}\\nquadruple {\\nsmall-title, text, btn-green\\n}\\n}\\n', 'header {\\nbtn-inactive, btn-active\\n}\\nrow {\\nquadruple {\\nsmall-title, text, btn-green\\n}\\nquadruple {\\nsmall-title, text, btn-red\\n}\\nquadruple {\\nsmall-title, text, btn-red\\n}\\nquadruple {\\nsmall-title, text, btn-green\\n}\\n}\\n', 'header {\\nbtn-inactive, btn-inactive, btn-active, btn-inactive\\n}\\nrow {\\nquadruple {\\nsmall-title, text, btn-green\\n}\\nquadruple {\\nsmall-title, text, btn-red\\n}\\nquadruple {\\nsmall-title, text, btn-red\\n}\\nquadruple {\\nsmall-title, text, btn-green\\n}\\n}\\nrow {\\nsingle {\\nsmall-title, text, btn-green\\n}\\n}\\nrow {\\ndouble {\\nsmall-title, text, btn-red\\n}\\ndouble {\\nsmall-title, text, btn-green\\n}\\n}\\n', 'header {\\nbtn-inactive, btn-inactive, btn-inactive, btn-active\\n}\\nrow {\\ndouble {\\nsmall-title, text, btn-orange\\n}\\ndouble {\\nsmall-title, text, btn-green\\n}\\n}\\n', 'header {\\nbtn-inactive, btn-active\\n}\\nrow {\\nquadruple {\\nsmall-title, text, btn-red\\n}\\nquadruple {\\nsmall-title, text, btn-orange\\n}\\nquadruple {\\nsmall-title, text, btn-red\\n}\\nquadruple {\\nsmall-title, text, btn-orange\\n}\\n}\\nrow {\\ndouble {\\nsmall-title, text, btn-green\\n}\\ndouble {\\nsmall-title, text, btn-orange\\n}\\n}\\n', 'header {\\nbtn-inactive, btn-inactive, btn-active\\n}\\nrow {\\ndouble {\\nsmall-title, text, btn-red\\n}\\ndouble {\\nsmall-title, text, btn-orange\\n}\\n}\\nrow {\\nsingle {\\nsmall-title, text, btn-orange\\n}\\n}\\nrow {\\nquadruple {\\nsmall-title, text, btn-red\\n}\\nquadruple {\\nsmall-title, text, btn-red\\n}\\nquadruple {\\nsmall-title, text, btn-orange\\n}\\nquadruple {\\nsmall-title, text, btn-red\\n}\\n}\\n', 'header {\\nbtn-inactive, btn-active\\n}\\nrow {\\nquadruple {\\nsmall-title, text, btn-orange\\n}\\nquadruple {\\nsmall-title, text, btn-orange\\n}\\nquadruple {\\nsmall-title, text, btn-red\\n}\\nquadruple {\\nsmall-title, text, btn-green\\n}\\n}\\nrow {\\nsingle {\\nsmall-title, text, btn-green\\n}\\n}\\nrow {\\ndouble {\\nsmall-title, text, btn-green\\n}\\ndouble {\\nsmall-title, text, btn-red\\n}\\n}\\n', 'header {\\nbtn-active, btn-inactive, btn-inactive, btn-inactive\\n}\\nrow {\\nsingle {\\nsmall-title, text, btn-green\\n}\\n}\\nrow {\\ndouble {\\nsmall-title, text, btn-red\\n}\\ndouble {\\nsmall-title, text, btn-orange\\n}\\n}\\nrow {\\nquadruple {\\nsmall-title, text, btn-red\\n}\\nquadruple {\\nsmall-title, text, btn-orange\\n}\\nquadruple {\\nsmall-title, text, btn-orange\\n}\\nquadruple {\\nsmall-title, text, btn-green\\n}\\n}\\n', 'header {\\nbtn-inactive, btn-active\\n}\\nrow {\\ndouble {\\nsmall-title, text, btn-green\\n}\\ndouble {\\nsmall-title, text, btn-orange\\n}\\n}\\nrow {\\nquadruple {\\nsmall-title, text, btn-green\\n}\\nquadruple {\\nsmall-title, text, btn-green\\n}\\nquadruple {\\nsmall-title, text, btn-red\\n}\\nquadruple {\\nsmall-title, text, btn-red\\n}\\n}\\nrow {\\nsingle {\\nsmall-title, text, btn-green\\n}\\n}\\n', 'header {\\nbtn-inactive, btn-inactive, btn-active, btn-inactive\\n}\\nrow {\\ndouble {\\nsmall-title, text, btn-orange\\n}\\ndouble {\\nsmall-title, text, btn-green\\n}\\n}\\nrow {\\nquadruple {\\nsmall-title, text, btn-orange\\n}\\nquadruple {\\nsmall-title, text, btn-green\\n}\\nquadruple {\\nsmall-title, text, btn-green\\n}\\nquadruple {\\nsmall-title, text, btn-red\\n}\\n}\\nrow {\\nsingle {\\nsmall-title, text, btn-green\\n}\\n}\\n', 'header {\\nbtn-active, btn-inactive, btn-inactive, btn-inactive, btn-inactive\\n}\\nrow {\\ndouble {\\nsmall-title, text, btn-orange\\n}\\ndouble {\\nsmall-title, text, btn-green\\n}\\n}\\nrow {\\nsingle {\\nsmall-title, text, btn-red\\n}\\n}\\nrow {\\nsingle {\\nsmall-title, text, btn-orange\\n}\\n}\\n', 'header {\\nbtn-inactive, btn-inactive, btn-inactive, btn-active, btn-inactive\\n}\\nrow {\\ndouble {\\nsmall-title, text, btn-green\\n}\\ndouble {\\nsmall-title, text, btn-green\\n}\\n}\\nrow {\\nsingle {\\nsmall-title, text, btn-orange\\n}\\n}\\nrow {\\nquadruple {\\nsmall-title, text, btn-red\\n}\\nquadruple {\\nsmall-title, text, btn-green\\n}\\nquadruple {\\nsmall-title, text, btn-red\\n}\\nquadruple {\\nsmall-title, text, btn-orange\\n}\\n}\\n', 'header {\\nbtn-inactive, btn-active, btn-inactive, btn-inactive, btn-inactive\\n}\\nrow {\\nsingle {\\nsmall-title, text, btn-green\\n}\\n}\\nrow {\\nquadruple {\\nsmall-title, text, btn-green\\n}\\nquadruple {\\nsmall-title, text, btn-green\\n}\\nquadruple {\\nsmall-title, text, btn-green\\n}\\nquadruple {\\nsmall-title, text, btn-green\\n}\\n}\\nrow {\\ndouble {\\nsmall-title, text, btn-red\\n}\\ndouble {\\nsmall-title, text, btn-orange\\n}\\n}\\n', 'header {\\nbtn-inactive, btn-active, btn-inactive, btn-inactive\\n}\\nrow {\\nquadruple {\\nsmall-title, text, btn-green\\n}\\nquadruple {\\nsmall-title, text, btn-green\\n}\\nquadruple {\\nsmall-title, text, btn-green\\n}\\nquadruple {\\nsmall-title, text, btn-green\\n}\\n}\\nrow {\\nsingle {\\nsmall-title, text, btn-orange\\n}\\n}\\nrow {\\ndouble {\\nsmall-title, text, btn-red\\n}\\ndouble {\\nsmall-title, text, btn-red\\n}\\n}\\n', 'header {\\nbtn-active, btn-inactive, btn-inactive, btn-inactive\\n}\\nrow {\\nquadruple {\\nsmall-title, text, btn-green\\n}\\nquadruple {\\nsmall-title, text, btn-red\\n}\\nquadruple {\\nsmall-title, text, btn-red\\n}\\nquadruple {\\nsmall-title, text, btn-red\\n}\\n}\\nrow {\\ndouble {\\nsmall-title, text, btn-green\\n}\\ndouble {\\nsmall-title, text, btn-red\\n}\\n}\\nrow {\\nsingle {\\nsmall-title, text, btn-green\\n}\\n}\\n', 'header {\\nbtn-inactive, btn-active, btn-inactive, btn-inactive\\n}\\nrow {\\nquadruple {\\nsmall-title, text, btn-red\\n}\\nquadruple {\\nsmall-title, text, btn-orange\\n}\\nquadruple {\\nsmall-title, text, btn-red\\n}\\nquadruple {\\nsmall-title, text, btn-orange\\n}\\n}\\nrow {\\ndouble {\\nsmall-title, text, btn-orange\\n}\\ndouble {\\nsmall-title, text, btn-green\\n}\\n}\\nrow {\\nsingle {\\nsmall-title, text, btn-orange\\n}\\n}\\n', 'header {\\nbtn-active, btn-inactive\\n}\\nrow {\\nquadruple {\\nsmall-title, text, btn-orange\\n}\\nquadruple {\\nsmall-title, text, btn-green\\n}\\nquadruple {\\nsmall-title, text, btn-red\\n}\\nquadruple {\\nsmall-title, text, btn-red\\n}\\n}\\n', 'header {\\nbtn-active, btn-inactive, btn-inactive\\n}\\nrow {\\nquadruple {\\nsmall-title, text, btn-orange\\n}\\nquadruple {\\nsmall-title, text, btn-orange\\n}\\nquadruple {\\nsmall-title, text, btn-green\\n}\\nquadruple {\\nsmall-title, text, btn-green\\n}\\n}\\nrow {\\nsingle {\\nsmall-title, text, btn-red\\n}\\n}\\nrow {\\ndouble {\\nsmall-title, text, btn-red\\n}\\ndouble {\\nsmall-title, text, btn-red\\n}\\n}\\n', 'header {\\nbtn-active, btn-inactive, btn-inactive, btn-inactive\\n}\\nrow {\\ndouble {\\nsmall-title, text, btn-green\\n}\\ndouble {\\nsmall-title, text, btn-orange\\n}\\n}\\nrow {\\nsingle {\\nsmall-title, text, btn-red\\n}\\n}\\n', 'header {\\nbtn-active, btn-inactive, btn-inactive\\n}\\nrow {\\nquadruple {\\nsmall-title, text, btn-orange\\n}\\nquadruple {\\nsmall-title, text, btn-red\\n}\\nquadruple {\\nsmall-title, text, btn-red\\n}\\nquadruple {\\nsmall-title, text, btn-green\\n}\\n}\\n', 'header {\\nbtn-active, btn-inactive\\n}\\nrow {\\ndouble {\\nsmall-title, text, btn-red\\n}\\ndouble {\\nsmall-title, text, btn-red\\n}\\n}\\nrow {\\nsingle {\\nsmall-title, text, btn-red\\n}\\n}\\nrow {\\nquadruple {\\nsmall-title, text, btn-green\\n}\\nquadruple {\\nsmall-title, text, btn-green\\n}\\nquadruple {\\nsmall-title, text, btn-red\\n}\\nquadruple {\\nsmall-title, text, btn-red\\n}\\n}\\n', 'header {\\nbtn-active, btn-inactive, btn-inactive\\n}\\nrow {\\ndouble {\\nsmall-title, text, btn-green\\n}\\ndouble {\\nsmall-title, text, btn-red\\n}\\n}\\nrow {\\nsingle {\\nsmall-title, text, btn-red\\n}\\n}\\nrow {\\nquadruple {\\nsmall-title, text, btn-orange\\n}\\nquadruple {\\nsmall-title, text, btn-orange\\n}\\nquadruple {\\nsmall-title, text, btn-green\\n}\\nquadruple {\\nsmall-title, text, btn-green\\n}\\n}\\n', 'header {\\nbtn-active, btn-inactive, btn-inactive, btn-inactive, btn-inactive\\n}\\nrow {\\nsingle {\\nsmall-title, text, btn-green\\n}\\n}\\nrow {\\nquadruple {\\nsmall-title, text, btn-green\\n}\\nquadruple {\\nsmall-title, text, btn-orange\\n}\\nquadruple {\\nsmall-title, text, btn-orange\\n}\\nquadruple {\\nsmall-title, text, btn-red\\n}\\n}\\nrow {\\ndouble {\\nsmall-title, text, btn-red\\n}\\ndouble {\\nsmall-title, text, btn-green\\n}\\n}\\n', 'header {\\nbtn-inactive, btn-inactive, btn-active, btn-inactive, btn-inactive\\n}\\nrow {\\ndouble {\\nsmall-title, text, btn-green\\n}\\ndouble {\\nsmall-title, text, btn-orange\\n}\\n}\\nrow {\\nsingle {\\nsmall-title, text, btn-green\\n}\\n}\\nrow {\\nquadruple {\\nsmall-title, text, btn-orange\\n}\\nquadruple {\\nsmall-title, text, btn-red\\n}\\nquadruple {\\nsmall-title, text, btn-red\\n}\\nquadruple {\\nsmall-title, text, btn-orange\\n}\\n}\\n', 'header {\\nbtn-active, btn-inactive, btn-inactive, btn-inactive, btn-inactive\\n}\\nrow {\\nquadruple {\\nsmall-title, text, btn-orange\\n}\\nquadruple {\\nsmall-title, text, btn-red\\n}\\nquadruple {\\nsmall-title, text, btn-red\\n}\\nquadruple {\\nsmall-title, text, btn-red\\n}\\n}\\nrow {\\ndouble {\\nsmall-title, text, btn-green\\n}\\ndouble {\\nsmall-title, text, btn-red\\n}\\n}\\nrow {\\nsingle {\\nsmall-title, text, btn-red\\n}\\n}\\n', 'header {\\nbtn-active, btn-inactive, btn-inactive\\n}\\nrow {\\nquadruple {\\nsmall-title, text, btn-red\\n}\\nquadruple {\\nsmall-title, text, btn-red\\n}\\nquadruple {\\nsmall-title, text, btn-orange\\n}\\nquadruple {\\nsmall-title, text, btn-orange\\n}\\n}\\n', 'header {\\nbtn-inactive, btn-inactive, btn-active\\n}\\nrow {\\nquadruple {\\nsmall-title, text, btn-green\\n}\\nquadruple {\\nsmall-title, text, btn-green\\n}\\nquadruple {\\nsmall-title, text, btn-green\\n}\\nquadruple {\\nsmall-title, text, btn-red\\n}\\n}\\nrow {\\nsingle {\\nsmall-title, text, btn-green\\n}\\n}\\nrow {\\ndouble {\\nsmall-title, text, btn-orange\\n}\\ndouble {\\nsmall-title, text, btn-green\\n}\\n}\\n', 'header {\\nbtn-inactive, btn-inactive, btn-active\\n}\\nrow {\\nsingle {\\nsmall-title, text, btn-red\\n}\\n}\\nrow {\\nquadruple {\\nsmall-title, text, btn-green\\n}\\nquadruple {\\nsmall-title, text, btn-orange\\n}\\nquadruple {\\nsmall-title, text, btn-orange\\n}\\nquadruple {\\nsmall-title, text, btn-orange\\n}\\n}\\nrow {\\ndouble {\\nsmall-title, text, btn-orange\\n}\\ndouble {\\nsmall-title, text, btn-orange\\n}\\n}\\n', 'header {\\nbtn-inactive, btn-active, btn-inactive, btn-inactive, btn-inactive\\n}\\nrow {\\ndouble {\\nsmall-title, text, btn-green\\n}\\ndouble {\\nsmall-title, text, btn-red\\n}\\n}\\nrow {\\nquadruple {\\nsmall-title, text, btn-green\\n}\\nquadruple {\\nsmall-title, text, btn-red\\n}\\nquadruple {\\nsmall-title, text, btn-orange\\n}\\nquadruple {\\nsmall-title, text, btn-green\\n}\\n}\\nrow {\\nsingle {\\nsmall-title, text, btn-red\\n}\\n}\\n', 'header {\\nbtn-inactive, btn-inactive, btn-active, btn-inactive\\n}\\nrow {\\nsingle {\\nsmall-title, text, btn-green\\n}\\n}\\nrow {\\ndouble {\\nsmall-title, text, btn-red\\n}\\ndouble {\\nsmall-title, text, btn-green\\n}\\n}\\nrow {\\nquadruple {\\nsmall-title, text, btn-green\\n}\\nquadruple {\\nsmall-title, text, btn-green\\n}\\nquadruple {\\nsmall-title, text, btn-red\\n}\\nquadruple {\\nsmall-title, text, btn-red\\n}\\n}\\n', 'header {\\nbtn-inactive, btn-active, btn-inactive\\n}\\nrow {\\nsingle {\\nsmall-title, text, btn-orange\\n}\\n}\\n', 'header {\\nbtn-inactive, btn-active\\n}\\nrow {\\ndouble {\\nsmall-title, text, btn-green\\n}\\ndouble {\\nsmall-title, text, btn-orange\\n}\\n}\\nrow {\\ndouble {\\nsmall-title, text, btn-red\\n}\\ndouble {\\nsmall-title, text, btn-orange\\n}\\n}\\n', 'header {\\nbtn-inactive, btn-active\\n}\\nrow {\\nsingle {\\nsmall-title, text, btn-green\\n}\\n}\\nrow {\\ndouble {\\nsmall-title, text, btn-orange\\n}\\ndouble {\\nsmall-title, text, btn-orange\\n}\\n}\\nrow {\\nquadruple {\\nsmall-title, text, btn-red\\n}\\nquadruple {\\nsmall-title, text, btn-green\\n}\\nquadruple {\\nsmall-title, text, btn-green\\n}\\nquadruple {\\nsmall-title, text, btn-orange\\n}\\n}\\n', 'header {\\nbtn-inactive, btn-active\\n}\\nrow {\\nsingle {\\nsmall-title, text, btn-red\\n}\\n}\\nrow {\\nquadruple {\\nsmall-title, text, btn-green\\n}\\nquadruple {\\nsmall-title, text, btn-red\\n}\\nquadruple {\\nsmall-title, text, btn-red\\n}\\nquadruple {\\nsmall-title, text, btn-orange\\n}\\n}\\n', 'header {\\nbtn-active, btn-inactive, btn-inactive\\n}\\nrow {\\nsingle {\\nsmall-title, text, btn-orange\\n}\\n}\\nrow {\\nquadruple {\\nsmall-title, text, btn-red\\n}\\nquadruple {\\nsmall-title, text, btn-green\\n}\\nquadruple {\\nsmall-title, text, btn-green\\n}\\nquadruple {\\nsmall-title, text, btn-green\\n}\\n}\\nrow {\\ndouble {\\nsmall-title, text, btn-orange\\n}\\ndouble {\\nsmall-title, text, btn-red\\n}\\n}\\n', 'header {\\nbtn-active, btn-inactive, btn-inactive, btn-inactive, btn-inactive\\n}\\nrow {\\ndouble {\\nsmall-title, text, btn-green\\n}\\ndouble {\\nsmall-title, text, btn-green\\n}\\n}\\nrow {\\nquadruple {\\nsmall-title, text, btn-orange\\n}\\nquadruple {\\nsmall-title, text, btn-red\\n}\\nquadruple {\\nsmall-title, text, btn-orange\\n}\\nquadruple {\\nsmall-title, text, btn-green\\n}\\n}\\nrow {\\nsingle {\\nsmall-title, text, btn-green\\n}\\n}\\n', 'header {\\nbtn-active, btn-inactive, btn-inactive\\n}\\nrow {\\ndouble {\\nsmall-title, text, btn-orange\\n}\\ndouble {\\nsmall-title, text, btn-red\\n}\\n}\\nrow {\\nsingle {\\nsmall-title, text, btn-green\\n}\\n}\\nrow {\\nquadruple {\\nsmall-title, text, btn-red\\n}\\nquadruple {\\nsmall-title, text, btn-green\\n}\\nquadruple {\\nsmall-title, text, btn-green\\n}\\nquadruple {\\nsmall-title, text, btn-orange\\n}\\n}\\n', 'header {\\nbtn-inactive, btn-active, btn-inactive, btn-inactive\\n}\\nrow {\\nsingle {\\nsmall-title, text, btn-red\\n}\\n}\\nrow {\\ndouble {\\nsmall-title, text, btn-red\\n}\\ndouble {\\nsmall-title, text, btn-red\\n}\\n}\\n', 'header {\\nbtn-inactive, btn-inactive, btn-active, btn-inactive\\n}\\nrow {\\nquadruple {\\nsmall-title, text, btn-red\\n}\\nquadruple {\\nsmall-title, text, btn-red\\n}\\nquadruple {\\nsmall-title, text, btn-orange\\n}\\nquadruple {\\nsmall-title, text, btn-green\\n}\\n}\\nrow {\\nsingle {\\nsmall-title, text, btn-green\\n}\\n}\\nrow {\\ndouble {\\nsmall-title, text, btn-green\\n}\\ndouble {\\nsmall-title, text, btn-orange\\n}\\n}\\n', 'header {\\nbtn-inactive, btn-inactive, btn-active\\n}\\nrow {\\nsingle {\\nsmall-title, text, btn-orange\\n}\\n}\\nrow {\\nquadruple {\\nsmall-title, text, btn-green\\n}\\nquadruple {\\nsmall-title, text, btn-red\\n}\\nquadruple {\\nsmall-title, text, btn-green\\n}\\nquadruple {\\nsmall-title, text, btn-red\\n}\\n}\\nrow {\\ndouble {\\nsmall-title, text, btn-red\\n}\\ndouble {\\nsmall-title, text, btn-orange\\n}\\n}\\n', 'header {\\nbtn-inactive, btn-active, btn-inactive, btn-inactive, btn-inactive\\n}\\nrow {\\nquadruple {\\nsmall-title, text, btn-red\\n}\\nquadruple {\\nsmall-title, text, btn-orange\\n}\\nquadruple {\\nsmall-title, text, btn-green\\n}\\nquadruple {\\nsmall-title, text, btn-green\\n}\\n}\\n', 'header {\\nbtn-active, btn-inactive\\n}\\nrow {\\nsingle {\\nsmall-title, text, btn-orange\\n}\\n}\\nrow {\\nquadruple {\\nsmall-title, text, btn-orange\\n}\\nquadruple {\\nsmall-title, text, btn-orange\\n}\\nquadruple {\\nsmall-title, text, btn-red\\n}\\nquadruple {\\nsmall-title, text, btn-red\\n}\\n}\\nrow {\\ndouble {\\nsmall-title, text, btn-orange\\n}\\ndouble {\\nsmall-title, text, btn-red\\n}\\n}\\n', 'header {\\nbtn-inactive, btn-inactive, btn-active\\n}\\nrow {\\ndouble {\\nsmall-title, text, btn-red\\n}\\ndouble {\\nsmall-title, text, btn-orange\\n}\\n}\\nrow {\\nsingle {\\nsmall-title, text, btn-red\\n}\\n}\\nrow {\\nsingle {\\nsmall-title, text, btn-green\\n}\\n}\\n', 'header {\\nbtn-inactive, btn-active, btn-inactive\\n}\\nrow {\\nquadruple {\\nsmall-title, text, btn-orange\\n}\\nquadruple {\\nsmall-title, text, btn-green\\n}\\nquadruple {\\nsmall-title, text, btn-green\\n}\\nquadruple {\\nsmall-title, text, btn-orange\\n}\\n}\\n', 'header {\\nbtn-inactive, btn-active\\n}\\nrow {\\nsingle {\\nsmall-title, text, btn-green\\n}\\n}\\nrow {\\nquadruple {\\nsmall-title, text, btn-green\\n}\\nquadruple {\\nsmall-title, text, btn-green\\n}\\nquadruple {\\nsmall-title, text, btn-orange\\n}\\nquadruple {\\nsmall-title, text, btn-orange\\n}\\n}\\nrow {\\ndouble {\\nsmall-title, text, btn-green\\n}\\ndouble {\\nsmall-title, text, btn-orange\\n}\\n}\\n', 'header {\\nbtn-inactive, btn-active, btn-inactive, btn-inactive, btn-inactive\\n}\\nrow {\\nsingle {\\nsmall-title, text, btn-green\\n}\\n}\\nrow {\\nquadruple {\\nsmall-title, text, btn-orange\\n}\\nquadruple {\\nsmall-title, text, btn-orange\\n}\\nquadruple {\\nsmall-title, text, btn-green\\n}\\nquadruple {\\nsmall-title, text, btn-red\\n}\\n}\\nrow {\\ndouble {\\nsmall-title, text, btn-orange\\n}\\ndouble {\\nsmall-title, text, btn-red\\n}\\n}\\n', 'header {\\nbtn-inactive, btn-inactive, btn-inactive, btn-active\\n}\\nrow {\\nquadruple {\\nsmall-title, text, btn-green\\n}\\nquadruple {\\nsmall-title, text, btn-green\\n}\\nquadruple {\\nsmall-title, text, btn-orange\\n}\\nquadruple {\\nsmall-title, text, btn-red\\n}\\n}\\nrow {\\ndouble {\\nsmall-title, text, btn-green\\n}\\ndouble {\\nsmall-title, text, btn-green\\n}\\n}\\nrow {\\nsingle {\\nsmall-title, text, btn-red\\n}\\n}\\n', 'header {\\nbtn-inactive, btn-active\\n}\\nrow {\\ndouble {\\nsmall-title, text, btn-green\\n}\\ndouble {\\nsmall-title, text, btn-red\\n}\\n}\\nrow {\\nquadruple {\\nsmall-title, text, btn-red\\n}\\nquadruple {\\nsmall-title, text, btn-orange\\n}\\nquadruple {\\nsmall-title, text, btn-red\\n}\\nquadruple {\\nsmall-title, text, btn-green\\n}\\n}\\nrow {\\nsingle {\\nsmall-title, text, btn-orange\\n}\\n}\\n', 'header {\\nbtn-inactive, btn-inactive, btn-active\\n}\\nrow {\\ndouble {\\nsmall-title, text, btn-orange\\n}\\ndouble {\\nsmall-title, text, btn-red\\n}\\n}\\nrow {\\nsingle {\\nsmall-title, text, btn-orange\\n}\\n}\\nrow {\\nquadruple {\\nsmall-title, text, btn-orange\\n}\\nquadruple {\\nsmall-title, text, btn-orange\\n}\\nquadruple {\\nsmall-title, text, btn-orange\\n}\\nquadruple {\\nsmall-title, text, btn-green\\n}\\n}\\n', 'header {\\nbtn-active, btn-inactive\\n}\\nrow {\\ndouble {\\nsmall-title, text, btn-orange\\n}\\ndouble {\\nsmall-title, text, btn-green\\n}\\n}\\nrow {\\nquadruple {\\nsmall-title, text, btn-green\\n}\\nquadruple {\\nsmall-title, text, btn-green\\n}\\nquadruple {\\nsmall-title, text, btn-green\\n}\\nquadruple {\\nsmall-title, text, btn-green\\n}\\n}\\nrow {\\nsingle {\\nsmall-title, text, btn-green\\n}\\n}\\n', 'header {\\nbtn-active, btn-inactive\\n}\\nrow {\\ndouble {\\nsmall-title, text, btn-red\\n}\\ndouble {\\nsmall-title, text, btn-green\\n}\\n}\\nrow {\\nsingle {\\nsmall-title, text, btn-green\\n}\\n}\\nrow {\\nquadruple {\\nsmall-title, text, btn-red\\n}\\nquadruple {\\nsmall-title, text, btn-orange\\n}\\nquadruple {\\nsmall-title, text, btn-red\\n}\\nquadruple {\\nsmall-title, text, btn-orange\\n}\\n}\\n', 'header {\\nbtn-active, btn-inactive\\n}\\nrow {\\ndouble {\\nsmall-title, text, btn-orange\\n}\\ndouble {\\nsmall-title, text, btn-green\\n}\\n}\\nrow {\\nsingle {\\nsmall-title, text, btn-green\\n}\\n}\\nrow {\\nquadruple {\\nsmall-title, text, btn-orange\\n}\\nquadruple {\\nsmall-title, text, btn-green\\n}\\nquadruple {\\nsmall-title, text, btn-red\\n}\\nquadruple {\\nsmall-title, text, btn-green\\n}\\n}\\n', 'header {\\nbtn-inactive, btn-inactive, btn-active\\n}\\nrow {\\nsingle {\\nsmall-title, text, btn-orange\\n}\\n}\\nrow {\\nquadruple {\\nsmall-title, text, btn-red\\n}\\nquadruple {\\nsmall-title, text, btn-green\\n}\\nquadruple {\\nsmall-title, text, btn-orange\\n}\\nquadruple {\\nsmall-title, text, btn-red\\n}\\n}\\nrow {\\ndouble {\\nsmall-title, text, btn-orange\\n}\\ndouble {\\nsmall-title, text, btn-green\\n}\\n}\\n', 'header {\\nbtn-active, btn-inactive, btn-inactive, btn-inactive\\n}\\nrow {\\nquadruple {\\nsmall-title, text, btn-red\\n}\\nquadruple {\\nsmall-title, text, btn-green\\n}\\nquadruple {\\nsmall-title, text, btn-green\\n}\\nquadruple {\\nsmall-title, text, btn-green\\n}\\n}\\n', 'header {\\nbtn-active, btn-inactive, btn-inactive, btn-inactive, btn-inactive\\n}\\nrow {\\nsingle {\\nsmall-title, text, btn-green\\n}\\n}\\nrow {\\nquadruple {\\nsmall-title, text, btn-red\\n}\\nquadruple {\\nsmall-title, text, btn-orange\\n}\\nquadruple {\\nsmall-title, text, btn-green\\n}\\nquadruple {\\nsmall-title, text, btn-green\\n}\\n}\\nrow {\\ndouble {\\nsmall-title, text, btn-orange\\n}\\ndouble {\\nsmall-title, text, btn-green\\n}\\n}\\n', 'header {\\nbtn-active, btn-inactive, btn-inactive, btn-inactive, btn-inactive\\n}\\nrow {\\nsingle {\\nsmall-title, text, btn-orange\\n}\\n}\\nrow {\\ndouble {\\nsmall-title, text, btn-green\\n}\\ndouble {\\nsmall-title, text, btn-green\\n}\\n}\\nrow {\\nquadruple {\\nsmall-title, text, btn-green\\n}\\nquadruple {\\nsmall-title, text, btn-green\\n}\\nquadruple {\\nsmall-title, text, btn-orange\\n}\\nquadruple {\\nsmall-title, text, btn-green\\n}\\n}\\n', 'header {\\nbtn-inactive, btn-inactive, btn-active\\n}\\nrow {\\ndouble {\\nsmall-title, text, btn-red\\n}\\ndouble {\\nsmall-title, text, btn-red\\n}\\n}\\nrow {\\nsingle {\\nsmall-title, text, btn-orange\\n}\\n}\\nrow {\\ndouble {\\nsmall-title, text, btn-green\\n}\\ndouble {\\nsmall-title, text, btn-green\\n}\\n}\\n', 'header {\\nbtn-active, btn-inactive, btn-inactive, btn-inactive, btn-inactive\\n}\\nrow {\\nsingle {\\nsmall-title, text, btn-orange\\n}\\n}\\nrow {\\nquadruple {\\nsmall-title, text, btn-orange\\n}\\nquadruple {\\nsmall-title, text, btn-green\\n}\\nquadruple {\\nsmall-title, text, btn-red\\n}\\nquadruple {\\nsmall-title, text, btn-green\\n}\\n}\\nrow {\\ndouble {\\nsmall-title, text, btn-orange\\n}\\ndouble {\\nsmall-title, text, btn-green\\n}\\n}\\n', 'header {\\nbtn-active, btn-inactive\\n}\\nrow {\\nquadruple {\\nsmall-title, text, btn-orange\\n}\\nquadruple {\\nsmall-title, text, btn-green\\n}\\nquadruple {\\nsmall-title, text, btn-orange\\n}\\nquadruple {\\nsmall-title, text, btn-red\\n}\\n}\\nrow {\\nsingle {\\nsmall-title, text, btn-green\\n}\\n}\\nrow {\\ndouble {\\nsmall-title, text, btn-green\\n}\\ndouble {\\nsmall-title, text, btn-red\\n}\\n}\\n', 'header {\\nbtn-inactive, btn-inactive, btn-inactive, btn-inactive, btn-active\\n}\\nrow {\\ndouble {\\nsmall-title, text, btn-orange\\n}\\ndouble {\\nsmall-title, text, btn-orange\\n}\\n}\\n', 'header {\\nbtn-active, btn-inactive\\n}\\nrow {\\nquadruple {\\nsmall-title, text, btn-red\\n}\\nquadruple {\\nsmall-title, text, btn-red\\n}\\nquadruple {\\nsmall-title, text, btn-orange\\n}\\nquadruple {\\nsmall-title, text, btn-red\\n}\\n}\\nrow {\\ndouble {\\nsmall-title, text, btn-orange\\n}\\ndouble {\\nsmall-title, text, btn-orange\\n}\\n}\\nrow {\\nsingle {\\nsmall-title, text, btn-orange\\n}\\n}\\n', 'header {\\nbtn-inactive, btn-active\\n}\\nrow {\\nsingle {\\nsmall-title, text, btn-orange\\n}\\n}\\nrow {\\ndouble {\\nsmall-title, text, btn-red\\n}\\ndouble {\\nsmall-title, text, btn-red\\n}\\n}\\nrow {\\nsingle {\\nsmall-title, text, btn-green\\n}\\n}\\n', 'header {\\nbtn-inactive, btn-active, btn-inactive\\n}\\nrow {\\nquadruple {\\nsmall-title, text, btn-orange\\n}\\nquadruple {\\nsmall-title, text, btn-green\\n}\\nquadruple {\\nsmall-title, text, btn-red\\n}\\nquadruple {\\nsmall-title, text, btn-red\\n}\\n}\\nrow {\\nsingle {\\nsmall-title, text, btn-red\\n}\\n}\\nrow {\\ndouble {\\nsmall-title, text, btn-green\\n}\\ndouble {\\nsmall-title, text, btn-green\\n}\\n}\\n', 'header {\\nbtn-active, btn-inactive, btn-inactive, btn-inactive\\n}\\nrow {\\ndouble {\\nsmall-title, text, btn-orange\\n}\\ndouble {\\nsmall-title, text, btn-red\\n}\\n}\\nrow {\\nsingle {\\nsmall-title, text, btn-red\\n}\\n}\\nrow {\\nquadruple {\\nsmall-title, text, btn-red\\n}\\nquadruple {\\nsmall-title, text, btn-orange\\n}\\nquadruple {\\nsmall-title, text, btn-red\\n}\\nquadruple {\\nsmall-title, text, btn-red\\n}\\n}\\n', 'header {\\nbtn-active, btn-inactive\\n}\\nrow {\\ndouble {\\nsmall-title, text, btn-orange\\n}\\ndouble {\\nsmall-title, text, btn-green\\n}\\n}\\nrow {\\nsingle {\\nsmall-title, text, btn-green\\n}\\n}\\nrow {\\nquadruple {\\nsmall-title, text, btn-red\\n}\\nquadruple {\\nsmall-title, text, btn-green\\n}\\nquadruple {\\nsmall-title, text, btn-orange\\n}\\nquadruple {\\nsmall-title, text, btn-red\\n}\\n}\\n', 'header {\\nbtn-inactive, btn-inactive, btn-active\\n}\\nrow {\\ndouble {\\nsmall-title, text, btn-green\\n}\\ndouble {\\nsmall-title, text, btn-green\\n}\\n}\\nrow {\\ndouble {\\nsmall-title, text, btn-red\\n}\\ndouble {\\nsmall-title, text, btn-orange\\n}\\n}\\nrow {\\nsingle {\\nsmall-title, text, btn-red\\n}\\n}\\n', 'header {\\nbtn-inactive, btn-inactive, btn-active, btn-inactive\\n}\\nrow {\\ndouble {\\nsmall-title, text, btn-orange\\n}\\ndouble {\\nsmall-title, text, btn-green\\n}\\n}\\nrow {\\nsingle {\\nsmall-title, text, btn-green\\n}\\n}\\nrow {\\nquadruple {\\nsmall-title, text, btn-orange\\n}\\nquadruple {\\nsmall-title, text, btn-red\\n}\\nquadruple {\\nsmall-title, text, btn-green\\n}\\nquadruple {\\nsmall-title, text, btn-green\\n}\\n}\\n', 'header {\\nbtn-active, btn-inactive, btn-inactive, btn-inactive\\n}\\nrow {\\ndouble {\\nsmall-title, text, btn-orange\\n}\\ndouble {\\nsmall-title, text, btn-green\\n}\\n}\\nrow {\\nsingle {\\nsmall-title, text, btn-green\\n}\\n}\\nrow {\\nquadruple {\\nsmall-title, text, btn-red\\n}\\nquadruple {\\nsmall-title, text, btn-orange\\n}\\nquadruple {\\nsmall-title, text, btn-green\\n}\\nquadruple {\\nsmall-title, text, btn-orange\\n}\\n}\\n', 'header {\\nbtn-active, btn-inactive, btn-inactive, btn-inactive, btn-inactive\\n}\\nrow {\\nquadruple {\\nsmall-title, text, btn-green\\n}\\nquadruple {\\nsmall-title, text, btn-green\\n}\\nquadruple {\\nsmall-title, text, btn-red\\n}\\nquadruple {\\nsmall-title, text, btn-green\\n}\\n}\\nrow {\\ndouble {\\nsmall-title, text, btn-red\\n}\\ndouble {\\nsmall-title, text, btn-orange\\n}\\n}\\nrow {\\nsingle {\\nsmall-title, text, btn-red\\n}\\n}\\n', 'header {\\nbtn-active, btn-inactive\\n}\\nrow {\\nsingle {\\nsmall-title, text, btn-green\\n}\\n}\\nrow {\\ndouble {\\nsmall-title, text, btn-green\\n}\\ndouble {\\nsmall-title, text, btn-green\\n}\\n}\\nrow {\\nquadruple {\\nsmall-title, text, btn-red\\n}\\nquadruple {\\nsmall-title, text, btn-orange\\n}\\nquadruple {\\nsmall-title, text, btn-orange\\n}\\nquadruple {\\nsmall-title, text, btn-green\\n}\\n}\\n', 'header {\\nbtn-active, btn-inactive\\n}\\nrow {\\nquadruple {\\nsmall-title, text, btn-green\\n}\\nquadruple {\\nsmall-title, text, btn-orange\\n}\\nquadruple {\\nsmall-title, text, btn-orange\\n}\\nquadruple {\\nsmall-title, text, btn-green\\n}\\n}\\nrow {\\ndouble {\\nsmall-title, text, btn-red\\n}\\ndouble {\\nsmall-title, text, btn-green\\n}\\n}\\nrow {\\nsingle {\\nsmall-title, text, btn-orange\\n}\\n}\\n', 'header {\\nbtn-inactive, btn-inactive, btn-inactive, btn-active\\n}\\nrow {\\nsingle {\\nsmall-title, text, btn-green\\n}\\n}\\nrow {\\ndouble {\\nsmall-title, text, btn-green\\n}\\ndouble {\\nsmall-title, text, btn-red\\n}\\n}\\nrow {\\nquadruple {\\nsmall-title, text, btn-red\\n}\\nquadruple {\\nsmall-title, text, btn-orange\\n}\\nquadruple {\\nsmall-title, text, btn-red\\n}\\nquadruple {\\nsmall-title, text, btn-orange\\n}\\n}\\n', 'header {\\nbtn-active, btn-inactive, btn-inactive, btn-inactive, btn-inactive\\n}\\nrow {\\nsingle {\\nsmall-title, text, btn-red\\n}\\n}\\nrow {\\ndouble {\\nsmall-title, text, btn-green\\n}\\ndouble {\\nsmall-title, text, btn-green\\n}\\n}\\nrow {\\nquadruple {\\nsmall-title, text, btn-orange\\n}\\nquadruple {\\nsmall-title, text, btn-red\\n}\\nquadruple {\\nsmall-title, text, btn-orange\\n}\\nquadruple {\\nsmall-title, text, btn-red\\n}\\n}\\n', 'header {\\nbtn-inactive, btn-active, btn-inactive, btn-inactive\\n}\\nrow {\\nsingle {\\nsmall-title, text, btn-orange\\n}\\n}\\nrow {\\ndouble {\\nsmall-title, text, btn-green\\n}\\ndouble {\\nsmall-title, text, btn-orange\\n}\\n}\\n', 'header {\\nbtn-active, btn-inactive, btn-inactive, btn-inactive\\n}\\nrow {\\ndouble {\\nsmall-title, text, btn-red\\n}\\ndouble {\\nsmall-title, text, btn-green\\n}\\n}\\nrow {\\nsingle {\\nsmall-title, text, btn-red\\n}\\n}\\nrow {\\nquadruple {\\nsmall-title, text, btn-red\\n}\\nquadruple {\\nsmall-title, text, btn-green\\n}\\nquadruple {\\nsmall-title, text, btn-orange\\n}\\nquadruple {\\nsmall-title, text, btn-orange\\n}\\n}\\n', 'header {\\nbtn-inactive, btn-active, btn-inactive, btn-inactive\\n}\\nrow {\\nsingle {\\nsmall-title, text, btn-red\\n}\\n}\\nrow {\\nquadruple {\\nsmall-title, text, btn-red\\n}\\nquadruple {\\nsmall-title, text, btn-orange\\n}\\nquadruple {\\nsmall-title, text, btn-red\\n}\\nquadruple {\\nsmall-title, text, btn-red\\n}\\n}\\nrow {\\ndouble {\\nsmall-title, text, btn-green\\n}\\ndouble {\\nsmall-title, text, btn-green\\n}\\n}\\n', 'header {\\nbtn-inactive, btn-inactive, btn-inactive, btn-active, btn-inactive\\n}\\nrow {\\nquadruple {\\nsmall-title, text, btn-red\\n}\\nquadruple {\\nsmall-title, text, btn-orange\\n}\\nquadruple {\\nsmall-title, text, btn-red\\n}\\nquadruple {\\nsmall-title, text, btn-orange\\n}\\n}\\nrow {\\nsingle {\\nsmall-title, text, btn-green\\n}\\n}\\nrow {\\ndouble {\\nsmall-title, text, btn-red\\n}\\ndouble {\\nsmall-title, text, btn-orange\\n}\\n}\\n', 'header {\\nbtn-active, btn-inactive\\n}\\nrow {\\nquadruple {\\nsmall-title, text, btn-red\\n}\\nquadruple {\\nsmall-title, text, btn-orange\\n}\\nquadruple {\\nsmall-title, text, btn-green\\n}\\nquadruple {\\nsmall-title, text, btn-green\\n}\\n}\\nrow {\\nsingle {\\nsmall-title, text, btn-orange\\n}\\n}\\nrow {\\ndouble {\\nsmall-title, text, btn-orange\\n}\\ndouble {\\nsmall-title, text, btn-orange\\n}\\n}\\n', 'header {\\nbtn-inactive, btn-inactive, btn-active, btn-inactive\\n}\\nrow {\\nsingle {\\nsmall-title, text, btn-red\\n}\\n}\\nrow {\\nsingle {\\nsmall-title, text, btn-orange\\n}\\n}\\n', 'header {\\nbtn-inactive, btn-active, btn-inactive, btn-inactive, btn-inactive\\n}\\nrow {\\nsingle {\\nsmall-title, text, btn-green\\n}\\n}\\nrow {\\nquadruple {\\nsmall-title, text, btn-green\\n}\\nquadruple {\\nsmall-title, text, btn-orange\\n}\\nquadruple {\\nsmall-title, text, btn-green\\n}\\nquadruple {\\nsmall-title, text, btn-orange\\n}\\n}\\nrow {\\ndouble {\\nsmall-title, text, btn-red\\n}\\ndouble {\\nsmall-title, text, btn-red\\n}\\n}\\n', 'header {\\nbtn-inactive, btn-active, btn-inactive, btn-inactive, btn-inactive\\n}\\nrow {\\ndouble {\\nsmall-title, text, btn-red\\n}\\ndouble {\\nsmall-title, text, btn-orange\\n}\\n}\\nrow {\\nsingle {\\nsmall-title, text, btn-orange\\n}\\n}\\nrow {\\nquadruple {\\nsmall-title, text, btn-red\\n}\\nquadruple {\\nsmall-title, text, btn-red\\n}\\nquadruple {\\nsmall-title, text, btn-green\\n}\\nquadruple {\\nsmall-title, text, btn-red\\n}\\n}\\n', 'header {\\nbtn-inactive, btn-inactive, btn-inactive, btn-inactive, btn-active\\n}\\nrow {\\nquadruple {\\nsmall-title, text, btn-orange\\n}\\nquadruple {\\nsmall-title, text, btn-orange\\n}\\nquadruple {\\nsmall-title, text, btn-green\\n}\\nquadruple {\\nsmall-title, text, btn-orange\\n}\\n}\\nrow {\\ndouble {\\nsmall-title, text, btn-orange\\n}\\ndouble {\\nsmall-title, text, btn-orange\\n}\\n}\\n', 'header {\\nbtn-inactive, btn-active\\n}\\nrow {\\ndouble {\\nsmall-title, text, btn-red\\n}\\ndouble {\\nsmall-title, text, btn-green\\n}\\n}\\nrow {\\ndouble {\\nsmall-title, text, btn-green\\n}\\ndouble {\\nsmall-title, text, btn-green\\n}\\n}\\nrow {\\ndouble {\\nsmall-title, text, btn-red\\n}\\ndouble {\\nsmall-title, text, btn-red\\n}\\n}\\n', 'header {\\nbtn-inactive, btn-active, btn-inactive, btn-inactive\\n}\\nrow {\\nsingle {\\nsmall-title, text, btn-red\\n}\\n}\\nrow {\\nquadruple {\\nsmall-title, text, btn-green\\n}\\nquadruple {\\nsmall-title, text, btn-green\\n}\\nquadruple {\\nsmall-title, text, btn-red\\n}\\nquadruple {\\nsmall-title, text, btn-green\\n}\\n}\\nrow {\\ndouble {\\nsmall-title, text, btn-green\\n}\\ndouble {\\nsmall-title, text, btn-red\\n}\\n}\\n', 'header {\\nbtn-inactive, btn-active, btn-inactive\\n}\\nrow {\\ndouble {\\nsmall-title, text, btn-green\\n}\\ndouble {\\nsmall-title, text, btn-orange\\n}\\n}\\nrow {\\nsingle {\\nsmall-title, text, btn-green\\n}\\n}\\nrow {\\ndouble {\\nsmall-title, text, btn-green\\n}\\ndouble {\\nsmall-title, text, btn-red\\n}\\n}\\n', 'header {\\nbtn-active, btn-inactive\\n}\\nrow {\\nquadruple {\\nsmall-title, text, btn-red\\n}\\nquadruple {\\nsmall-title, text, btn-orange\\n}\\nquadruple {\\nsmall-title, text, btn-red\\n}\\nquadruple {\\nsmall-title, text, btn-orange\\n}\\n}\\nrow {\\nsingle {\\nsmall-title, text, btn-orange\\n}\\n}\\nrow {\\ndouble {\\nsmall-title, text, btn-green\\n}\\ndouble {\\nsmall-title, text, btn-red\\n}\\n}\\n', 'header {\\nbtn-inactive, btn-inactive, btn-inactive, btn-active, btn-inactive\\n}\\nrow {\\nquadruple {\\nsmall-title, text, btn-orange\\n}\\nquadruple {\\nsmall-title, text, btn-green\\n}\\nquadruple {\\nsmall-title, text, btn-orange\\n}\\nquadruple {\\nsmall-title, text, btn-green\\n}\\n}\\nrow {\\nsingle {\\nsmall-title, text, btn-green\\n}\\n}\\nrow {\\ndouble {\\nsmall-title, text, btn-orange\\n}\\ndouble {\\nsmall-title, text, btn-orange\\n}\\n}\\n', 'header {\\nbtn-active, btn-inactive, btn-inactive, btn-inactive\\n}\\nrow {\\nsingle {\\nsmall-title, text, btn-red\\n}\\n}\\nrow {\\ndouble {\\nsmall-title, text, btn-red\\n}\\ndouble {\\nsmall-title, text, btn-orange\\n}\\n}\\nrow {\\nquadruple {\\nsmall-title, text, btn-orange\\n}\\nquadruple {\\nsmall-title, text, btn-orange\\n}\\nquadruple {\\nsmall-title, text, btn-red\\n}\\nquadruple {\\nsmall-title, text, btn-green\\n}\\n}\\n', 'header {\\nbtn-active, btn-inactive, btn-inactive, btn-inactive\\n}\\nrow {\\nsingle {\\nsmall-title, text, btn-green\\n}\\n}\\nrow {\\nquadruple {\\nsmall-title, text, btn-orange\\n}\\nquadruple {\\nsmall-title, text, btn-green\\n}\\nquadruple {\\nsmall-title, text, btn-red\\n}\\nquadruple {\\nsmall-title, text, btn-green\\n}\\n}\\n', 'header {\\nbtn-inactive, btn-active\\n}\\nrow {\\ndouble {\\nsmall-title, text, btn-red\\n}\\ndouble {\\nsmall-title, text, btn-green\\n}\\n}\\n', 'header {\\nbtn-inactive, btn-inactive, btn-inactive, btn-active, btn-inactive\\n}\\nrow {\\nsingle {\\nsmall-title, text, btn-green\\n}\\n}\\nrow {\\nsingle {\\nsmall-title, text, btn-orange\\n}\\n}\\n', 'header {\\nbtn-active, btn-inactive\\n}\\nrow {\\nsingle {\\nsmall-title, text, btn-red\\n}\\n}\\nrow {\\ndouble {\\nsmall-title, text, btn-orange\\n}\\ndouble {\\nsmall-title, text, btn-red\\n}\\n}\\n', 'header {\\nbtn-active, btn-inactive, btn-inactive, btn-inactive\\n}\\nrow {\\nquadruple {\\nsmall-title, text, btn-orange\\n}\\nquadruple {\\nsmall-title, text, btn-orange\\n}\\nquadruple {\\nsmall-title, text, btn-red\\n}\\nquadruple {\\nsmall-title, text, btn-orange\\n}\\n}\\nrow {\\ndouble {\\nsmall-title, text, btn-orange\\n}\\ndouble {\\nsmall-title, text, btn-orange\\n}\\n}\\nrow {\\nsingle {\\nsmall-title, text, btn-orange\\n}\\n}\\n', 'header {\\nbtn-active, btn-inactive\\n}\\nrow {\\ndouble {\\nsmall-title, text, btn-orange\\n}\\ndouble {\\nsmall-title, text, btn-red\\n}\\n}\\nrow {\\nquadruple {\\nsmall-title, text, btn-orange\\n}\\nquadruple {\\nsmall-title, text, btn-red\\n}\\nquadruple {\\nsmall-title, text, btn-red\\n}\\nquadruple {\\nsmall-title, text, btn-green\\n}\\n}\\nrow {\\nsingle {\\nsmall-title, text, btn-orange\\n}\\n}\\n', 'header {\\nbtn-active, btn-inactive\\n}\\nrow {\\ndouble {\\nsmall-title, text, btn-green\\n}\\ndouble {\\nsmall-title, text, btn-green\\n}\\n}\\nrow {\\nquadruple {\\nsmall-title, text, btn-green\\n}\\nquadruple {\\nsmall-title, text, btn-green\\n}\\nquadruple {\\nsmall-title, text, btn-orange\\n}\\nquadruple {\\nsmall-title, text, btn-green\\n}\\n}\\n', 'header {\\nbtn-active, btn-inactive, btn-inactive\\n}\\nrow {\\nquadruple {\\nsmall-title, text, btn-red\\n}\\nquadruple {\\nsmall-title, text, btn-orange\\n}\\nquadruple {\\nsmall-title, text, btn-orange\\n}\\nquadruple {\\nsmall-title, text, btn-red\\n}\\n}\\nrow {\\nquadruple {\\nsmall-title, text, btn-green\\n}\\nquadruple {\\nsmall-title, text, btn-red\\n}\\nquadruple {\\nsmall-title, text, btn-green\\n}\\nquadruple {\\nsmall-title, text, btn-green\\n}\\n}\\nrow {\\nsingle {\\nsmall-title, text, btn-orange\\n}\\n}\\n', 'header {\\nbtn-active, btn-inactive\\n}\\nrow {\\nquadruple {\\nsmall-title, text, btn-orange\\n}\\nquadruple {\\nsmall-title, text, btn-red\\n}\\nquadruple {\\nsmall-title, text, btn-red\\n}\\nquadruple {\\nsmall-title, text, btn-red\\n}\\n}\\nrow {\\nsingle {\\nsmall-title, text, btn-orange\\n}\\n}\\nrow {\\ndouble {\\nsmall-title, text, btn-orange\\n}\\ndouble {\\nsmall-title, text, btn-red\\n}\\n}\\n', 'header {\\nbtn-inactive, btn-active, btn-inactive, btn-inactive, btn-inactive\\n}\\nrow {\\nquadruple {\\nsmall-title, text, btn-green\\n}\\nquadruple {\\nsmall-title, text, btn-red\\n}\\nquadruple {\\nsmall-title, text, btn-orange\\n}\\nquadruple {\\nsmall-title, text, btn-red\\n}\\n}\\nrow {\\ndouble {\\nsmall-title, text, btn-orange\\n}\\ndouble {\\nsmall-title, text, btn-orange\\n}\\n}\\nrow {\\nsingle {\\nsmall-title, text, btn-red\\n}\\n}\\n', 'header {\\nbtn-active, btn-inactive, btn-inactive, btn-inactive, btn-inactive\\n}\\nrow {\\ndouble {\\nsmall-title, text, btn-green\\n}\\ndouble {\\nsmall-title, text, btn-orange\\n}\\n}\\nrow {\\nquadruple {\\nsmall-title, text, btn-green\\n}\\nquadruple {\\nsmall-title, text, btn-green\\n}\\nquadruple {\\nsmall-title, text, btn-orange\\n}\\nquadruple {\\nsmall-title, text, btn-orange\\n}\\n}\\nrow {\\nsingle {\\nsmall-title, text, btn-red\\n}\\n}\\n', 'header {\\nbtn-inactive, btn-inactive, btn-active\\n}\\nrow {\\nquadruple {\\nsmall-title, text, btn-red\\n}\\nquadruple {\\nsmall-title, text, btn-red\\n}\\nquadruple {\\nsmall-title, text, btn-orange\\n}\\nquadruple {\\nsmall-title, text, btn-orange\\n}\\n}\\nrow {\\ndouble {\\nsmall-title, text, btn-orange\\n}\\ndouble {\\nsmall-title, text, btn-orange\\n}\\n}\\nrow {\\nsingle {\\nsmall-title, text, btn-red\\n}\\n}\\n', 'header {\\nbtn-active, btn-inactive\\n}\\nrow {\\nquadruple {\\nsmall-title, text, btn-orange\\n}\\nquadruple {\\nsmall-title, text, btn-green\\n}\\nquadruple {\\nsmall-title, text, btn-orange\\n}\\nquadruple {\\nsmall-title, text, btn-orange\\n}\\n}\\nrow {\\ndouble {\\nsmall-title, text, btn-orange\\n}\\ndouble {\\nsmall-title, text, btn-orange\\n}\\n}\\nrow {\\nsingle {\\nsmall-title, text, btn-red\\n}\\n}\\n', 'header {\\nbtn-active, btn-inactive\\n}\\nrow {\\ndouble {\\nsmall-title, text, btn-red\\n}\\ndouble {\\nsmall-title, text, btn-red\\n}\\n}\\nrow {\\nquadruple {\\nsmall-title, text, btn-green\\n}\\nquadruple {\\nsmall-title, text, btn-green\\n}\\nquadruple {\\nsmall-title, text, btn-red\\n}\\nquadruple {\\nsmall-title, text, btn-red\\n}\\n}\\nrow {\\nsingle {\\nsmall-title, text, btn-red\\n}\\n}\\n', 'header {\\nbtn-inactive, btn-inactive, btn-inactive, btn-active\\n}\\nrow {\\ndouble {\\nsmall-title, text, btn-red\\n}\\ndouble {\\nsmall-title, text, btn-green\\n}\\n}\\nrow {\\nquadruple {\\nsmall-title, text, btn-orange\\n}\\nquadruple {\\nsmall-title, text, btn-orange\\n}\\nquadruple {\\nsmall-title, text, btn-orange\\n}\\nquadruple {\\nsmall-title, text, btn-orange\\n}\\n}\\nrow {\\nsingle {\\nsmall-title, text, btn-green\\n}\\n}\\n', 'header {\\nbtn-active, btn-inactive, btn-inactive\\n}\\nrow {\\nquadruple {\\nsmall-title, text, btn-green\\n}\\nquadruple {\\nsmall-title, text, btn-red\\n}\\nquadruple {\\nsmall-title, text, btn-red\\n}\\nquadruple {\\nsmall-title, text, btn-red\\n}\\n}\\nrow {\\ndouble {\\nsmall-title, text, btn-orange\\n}\\ndouble {\\nsmall-title, text, btn-green\\n}\\n}\\nrow {\\nsingle {\\nsmall-title, text, btn-orange\\n}\\n}\\n', 'header {\\nbtn-inactive, btn-active, btn-inactive\\n}\\nrow {\\nsingle {\\nsmall-title, text, btn-orange\\n}\\n}\\n', 'header {\\nbtn-inactive, btn-active, btn-inactive\\n}\\nrow {\\nquadruple {\\nsmall-title, text, btn-green\\n}\\nquadruple {\\nsmall-title, text, btn-red\\n}\\nquadruple {\\nsmall-title, text, btn-green\\n}\\nquadruple {\\nsmall-title, text, btn-green\\n}\\n}\\nrow {\\nquadruple {\\nsmall-title, text, btn-green\\n}\\nquadruple {\\nsmall-title, text, btn-green\\n}\\nquadruple {\\nsmall-title, text, btn-orange\\n}\\nquadruple {\\nsmall-title, text, btn-green\\n}\\n}\\nrow {\\nquadruple {\\nsmall-title, text, btn-green\\n}\\nquadruple {\\nsmall-title, text, btn-green\\n}\\nquadruple {\\nsmall-title, text, btn-green\\n}\\nquadruple {\\nsmall-title, text, btn-green\\n}\\n}\\n', 'header {\\nbtn-inactive, btn-active\\n}\\nrow {\\ndouble {\\nsmall-title, text, btn-green\\n}\\ndouble {\\nsmall-title, text, btn-red\\n}\\n}\\n', 'header {\\nbtn-inactive, btn-inactive, btn-inactive, btn-active\\n}\\nrow {\\nquadruple {\\nsmall-title, text, btn-green\\n}\\nquadruple {\\nsmall-title, text, btn-red\\n}\\nquadruple {\\nsmall-title, text, btn-orange\\n}\\nquadruple {\\nsmall-title, text, btn-orange\\n}\\n}\\nrow {\\nsingle {\\nsmall-title, text, btn-green\\n}\\n}\\nrow {\\ndouble {\\nsmall-title, text, btn-green\\n}\\ndouble {\\nsmall-title, text, btn-orange\\n}\\n}\\n', 'header {\\nbtn-inactive, btn-inactive, btn-inactive, btn-active, btn-inactive\\n}\\nrow {\\nquadruple {\\nsmall-title, text, btn-orange\\n}\\nquadruple {\\nsmall-title, text, btn-red\\n}\\nquadruple {\\nsmall-title, text, btn-red\\n}\\nquadruple {\\nsmall-title, text, btn-red\\n}\\n}\\nrow {\\nsingle {\\nsmall-title, text, btn-red\\n}\\n}\\n', 'header {\\nbtn-inactive, btn-active, btn-inactive\\n}\\nrow {\\nquadruple {\\nsmall-title, text, btn-green\\n}\\nquadruple {\\nsmall-title, text, btn-orange\\n}\\nquadruple {\\nsmall-title, text, btn-green\\n}\\nquadruple {\\nsmall-title, text, btn-orange\\n}\\n}\\nrow {\\nsingle {\\nsmall-title, text, btn-orange\\n}\\n}\\nrow {\\ndouble {\\nsmall-title, text, btn-green\\n}\\ndouble {\\nsmall-title, text, btn-orange\\n}\\n}\\n', 'header {\\nbtn-inactive, btn-inactive, btn-inactive, btn-active\\n}\\nrow {\\nsingle {\\nsmall-title, text, btn-green\\n}\\n}\\nrow {\\nquadruple {\\nsmall-title, text, btn-green\\n}\\nquadruple {\\nsmall-title, text, btn-green\\n}\\nquadruple {\\nsmall-title, text, btn-orange\\n}\\nquadruple {\\nsmall-title, text, btn-red\\n}\\n}\\nrow {\\ndouble {\\nsmall-title, text, btn-red\\n}\\ndouble {\\nsmall-title, text, btn-orange\\n}\\n}\\n', 'header {\\nbtn-inactive, btn-active\\n}\\nrow {\\nsingle {\\nsmall-title, text, btn-red\\n}\\n}\\nrow {\\ndouble {\\nsmall-title, text, btn-green\\n}\\ndouble {\\nsmall-title, text, btn-green\\n}\\n}\\nrow {\\nquadruple {\\nsmall-title, text, btn-red\\n}\\nquadruple {\\nsmall-title, text, btn-orange\\n}\\nquadruple {\\nsmall-title, text, btn-orange\\n}\\nquadruple {\\nsmall-title, text, btn-red\\n}\\n}\\n', 'header {\\nbtn-inactive, btn-inactive, btn-inactive, btn-active\\n}\\nrow {\\nsingle {\\nsmall-title, text, btn-orange\\n}\\n}\\nrow {\\nquadruple {\\nsmall-title, text, btn-orange\\n}\\nquadruple {\\nsmall-title, text, btn-red\\n}\\nquadruple {\\nsmall-title, text, btn-orange\\n}\\nquadruple {\\nsmall-title, text, btn-orange\\n}\\n}\\nrow {\\ndouble {\\nsmall-title, text, btn-orange\\n}\\ndouble {\\nsmall-title, text, btn-red\\n}\\n}\\n', 'header {\\nbtn-active, btn-inactive\\n}\\nrow {\\ndouble {\\nsmall-title, text, btn-orange\\n}\\ndouble {\\nsmall-title, text, btn-orange\\n}\\n}\\nrow {\\nquadruple {\\nsmall-title, text, btn-green\\n}\\nquadruple {\\nsmall-title, text, btn-orange\\n}\\nquadruple {\\nsmall-title, text, btn-red\\n}\\nquadruple {\\nsmall-title, text, btn-red\\n}\\n}\\nrow {\\nsingle {\\nsmall-title, text, btn-green\\n}\\n}\\n', 'header {\\nbtn-inactive, btn-active, btn-inactive\\n}\\nrow {\\ndouble {\\nsmall-title, text, btn-orange\\n}\\ndouble {\\nsmall-title, text, btn-green\\n}\\n}\\nrow {\\nquadruple {\\nsmall-title, text, btn-orange\\n}\\nquadruple {\\nsmall-title, text, btn-orange\\n}\\nquadruple {\\nsmall-title, text, btn-green\\n}\\nquadruple {\\nsmall-title, text, btn-red\\n}\\n}\\nrow {\\nsingle {\\nsmall-title, text, btn-green\\n}\\n}\\n', 'header {\\nbtn-active, btn-inactive\\n}\\nrow {\\nquadruple {\\nsmall-title, text, btn-red\\n}\\nquadruple {\\nsmall-title, text, btn-red\\n}\\nquadruple {\\nsmall-title, text, btn-orange\\n}\\nquadruple {\\nsmall-title, text, btn-green\\n}\\n}\\nrow {\\nquadruple {\\nsmall-title, text, btn-orange\\n}\\nquadruple {\\nsmall-title, text, btn-orange\\n}\\nquadruple {\\nsmall-title, text, btn-green\\n}\\nquadruple {\\nsmall-title, text, btn-green\\n}\\n}\\nrow {\\nsingle {\\nsmall-title, text, btn-red\\n}\\n}\\n', 'header {\\nbtn-active, btn-inactive, btn-inactive, btn-inactive\\n}\\nrow {\\nsingle {\\nsmall-title, text, btn-green\\n}\\n}\\nrow {\\nsingle {\\nsmall-title, text, btn-orange\\n}\\n}\\nrow {\\nquadruple {\\nsmall-title, text, btn-green\\n}\\nquadruple {\\nsmall-title, text, btn-green\\n}\\nquadruple {\\nsmall-title, text, btn-green\\n}\\nquadruple {\\nsmall-title, text, btn-orange\\n}\\n}\\n', 'header {\\nbtn-active, btn-inactive, btn-inactive, btn-inactive\\n}\\nrow {\\nquadruple {\\nsmall-title, text, btn-green\\n}\\nquadruple {\\nsmall-title, text, btn-orange\\n}\\nquadruple {\\nsmall-title, text, btn-green\\n}\\nquadruple {\\nsmall-title, text, btn-red\\n}\\n}\\nrow {\\ndouble {\\nsmall-title, text, btn-red\\n}\\ndouble {\\nsmall-title, text, btn-red\\n}\\n}\\nrow {\\nsingle {\\nsmall-title, text, btn-green\\n}\\n}\\n', 'header {\\nbtn-active, btn-inactive\\n}\\nrow {\\ndouble {\\nsmall-title, text, btn-green\\n}\\ndouble {\\nsmall-title, text, btn-orange\\n}\\n}\\nrow {\\nsingle {\\nsmall-title, text, btn-green\\n}\\n}\\nrow {\\nquadruple {\\nsmall-title, text, btn-red\\n}\\nquadruple {\\nsmall-title, text, btn-orange\\n}\\nquadruple {\\nsmall-title, text, btn-orange\\n}\\nquadruple {\\nsmall-title, text, btn-green\\n}\\n}\\n', 'header {\\nbtn-inactive, btn-inactive, btn-active\\n}\\nrow {\\nquadruple {\\nsmall-title, text, btn-red\\n}\\nquadruple {\\nsmall-title, text, btn-orange\\n}\\nquadruple {\\nsmall-title, text, btn-green\\n}\\nquadruple {\\nsmall-title, text, btn-red\\n}\\n}\\nrow {\\nsingle {\\nsmall-title, text, btn-green\\n}\\n}\\nrow {\\ndouble {\\nsmall-title, text, btn-green\\n}\\ndouble {\\nsmall-title, text, btn-green\\n}\\n}\\n', 'header {\\nbtn-inactive, btn-active, btn-inactive\\n}\\nrow {\\ndouble {\\nsmall-title, text, btn-orange\\n}\\ndouble {\\nsmall-title, text, btn-red\\n}\\n}\\nrow {\\nsingle {\\nsmall-title, text, btn-orange\\n}\\n}\\nrow {\\nquadruple {\\nsmall-title, text, btn-orange\\n}\\nquadruple {\\nsmall-title, text, btn-orange\\n}\\nquadruple {\\nsmall-title, text, btn-red\\n}\\nquadruple {\\nsmall-title, text, btn-orange\\n}\\n}\\n', 'header {\\nbtn-active, btn-inactive, btn-inactive\\n}\\nrow {\\nsingle {\\nsmall-title, text, btn-red\\n}\\n}\\nrow {\\ndouble {\\nsmall-title, text, btn-red\\n}\\ndouble {\\nsmall-title, text, btn-orange\\n}\\n}\\nrow {\\nquadruple {\\nsmall-title, text, btn-green\\n}\\nquadruple {\\nsmall-title, text, btn-red\\n}\\nquadruple {\\nsmall-title, text, btn-green\\n}\\nquadruple {\\nsmall-title, text, btn-orange\\n}\\n}\\n', 'header {\\nbtn-inactive, btn-inactive, btn-inactive, btn-active\\n}\\nrow {\\nquadruple {\\nsmall-title, text, btn-orange\\n}\\nquadruple {\\nsmall-title, text, btn-green\\n}\\nquadruple {\\nsmall-title, text, btn-green\\n}\\nquadruple {\\nsmall-title, text, btn-orange\\n}\\n}\\nrow {\\nsingle {\\nsmall-title, text, btn-red\\n}\\n}\\n', 'header {\\nbtn-inactive, btn-inactive, btn-active\\n}\\nrow {\\nsingle {\\nsmall-title, text, btn-red\\n}\\n}\\nrow {\\ndouble {\\nsmall-title, text, btn-green\\n}\\ndouble {\\nsmall-title, text, btn-red\\n}\\n}\\nrow {\\nquadruple {\\nsmall-title, text, btn-red\\n}\\nquadruple {\\nsmall-title, text, btn-green\\n}\\nquadruple {\\nsmall-title, text, btn-red\\n}\\nquadruple {\\nsmall-title, text, btn-orange\\n}\\n}\\n', 'header {\\nbtn-inactive, btn-inactive, btn-active\\n}\\nrow {\\nsingle {\\nsmall-title, text, btn-green\\n}\\n}\\nrow {\\ndouble {\\nsmall-title, text, btn-orange\\n}\\ndouble {\\nsmall-title, text, btn-red\\n}\\n}\\nrow {\\nquadruple {\\nsmall-title, text, btn-green\\n}\\nquadruple {\\nsmall-title, text, btn-green\\n}\\nquadruple {\\nsmall-title, text, btn-green\\n}\\nquadruple {\\nsmall-title, text, btn-orange\\n}\\n}\\n', 'header {\\nbtn-inactive, btn-inactive, btn-active\\n}\\nrow {\\nsingle {\\nsmall-title, text, btn-orange\\n}\\n}\\nrow {\\nquadruple {\\nsmall-title, text, btn-green\\n}\\nquadruple {\\nsmall-title, text, btn-orange\\n}\\nquadruple {\\nsmall-title, text, btn-red\\n}\\nquadruple {\\nsmall-title, text, btn-orange\\n}\\n}\\nrow {\\ndouble {\\nsmall-title, text, btn-green\\n}\\ndouble {\\nsmall-title, text, btn-orange\\n}\\n}\\n', 'header {\\nbtn-inactive, btn-active\\n}\\nrow {\\ndouble {\\nsmall-title, text, btn-orange\\n}\\ndouble {\\nsmall-title, text, btn-green\\n}\\n}\\nrow {\\nquadruple {\\nsmall-title, text, btn-green\\n}\\nquadruple {\\nsmall-title, text, btn-red\\n}\\nquadruple {\\nsmall-title, text, btn-orange\\n}\\nquadruple {\\nsmall-title, text, btn-orange\\n}\\n}\\nrow {\\nsingle {\\nsmall-title, text, btn-red\\n}\\n}\\n', 'header {\\nbtn-active, btn-inactive\\n}\\nrow {\\ndouble {\\nsmall-title, text, btn-orange\\n}\\ndouble {\\nsmall-title, text, btn-red\\n}\\n}\\nrow {\\nsingle {\\nsmall-title, text, btn-green\\n}\\n}\\nrow {\\nquadruple {\\nsmall-title, text, btn-orange\\n}\\nquadruple {\\nsmall-title, text, btn-red\\n}\\nquadruple {\\nsmall-title, text, btn-green\\n}\\nquadruple {\\nsmall-title, text, btn-red\\n}\\n}\\n', 'header {\\nbtn-inactive, btn-inactive, btn-active, btn-inactive\\n}\\nrow {\\ndouble {\\nsmall-title, text, btn-red\\n}\\ndouble {\\nsmall-title, text, btn-green\\n}\\n}\\n', 'header {\\nbtn-active, btn-inactive, btn-inactive, btn-inactive, btn-inactive\\n}\\nrow {\\ndouble {\\nsmall-title, text, btn-orange\\n}\\ndouble {\\nsmall-title, text, btn-orange\\n}\\n}\\nrow {\\nsingle {\\nsmall-title, text, btn-red\\n}\\n}\\nrow {\\nsingle {\\nsmall-title, text, btn-red\\n}\\n}\\n', 'header {\\nbtn-inactive, btn-active\\n}\\nrow {\\ndouble {\\nsmall-title, text, btn-red\\n}\\ndouble {\\nsmall-title, text, btn-red\\n}\\n}\\nrow {\\nsingle {\\nsmall-title, text, btn-orange\\n}\\n}\\nrow {\\nquadruple {\\nsmall-title, text, btn-orange\\n}\\nquadruple {\\nsmall-title, text, btn-red\\n}\\nquadruple {\\nsmall-title, text, btn-red\\n}\\nquadruple {\\nsmall-title, text, btn-orange\\n}\\n}\\n', 'header {\\nbtn-active, btn-inactive\\n}\\nrow {\\nquadruple {\\nsmall-title, text, btn-orange\\n}\\nquadruple {\\nsmall-title, text, btn-green\\n}\\nquadruple {\\nsmall-title, text, btn-orange\\n}\\nquadruple {\\nsmall-title, text, btn-red\\n}\\n}\\nrow {\\ndouble {\\nsmall-title, text, btn-orange\\n}\\ndouble {\\nsmall-title, text, btn-red\\n}\\n}\\nrow {\\nsingle {\\nsmall-title, text, btn-green\\n}\\n}\\n', 'header {\\nbtn-inactive, btn-inactive, btn-inactive, btn-active\\n}\\nrow {\\ndouble {\\nsmall-title, text, btn-green\\n}\\ndouble {\\nsmall-title, text, btn-orange\\n}\\n}\\nrow {\\nquadruple {\\nsmall-title, text, btn-green\\n}\\nquadruple {\\nsmall-title, text, btn-orange\\n}\\nquadruple {\\nsmall-title, text, btn-red\\n}\\nquadruple {\\nsmall-title, text, btn-red\\n}\\n}\\nrow {\\nsingle {\\nsmall-title, text, btn-red\\n}\\n}\\n', 'header {\\nbtn-inactive, btn-active, btn-inactive, btn-inactive\\n}\\nrow {\\ndouble {\\nsmall-title, text, btn-orange\\n}\\ndouble {\\nsmall-title, text, btn-red\\n}\\n}\\nrow {\\nsingle {\\nsmall-title, text, btn-green\\n}\\n}\\nrow {\\nquadruple {\\nsmall-title, text, btn-orange\\n}\\nquadruple {\\nsmall-title, text, btn-red\\n}\\nquadruple {\\nsmall-title, text, btn-orange\\n}\\nquadruple {\\nsmall-title, text, btn-red\\n}\\n}\\n', 'header {\\nbtn-inactive, btn-inactive, btn-active\\n}\\nrow {\\nsingle {\\nsmall-title, text, btn-green\\n}\\n}\\nrow {\\ndouble {\\nsmall-title, text, btn-orange\\n}\\ndouble {\\nsmall-title, text, btn-orange\\n}\\n}\\nrow {\\nquadruple {\\nsmall-title, text, btn-red\\n}\\nquadruple {\\nsmall-title, text, btn-green\\n}\\nquadruple {\\nsmall-title, text, btn-green\\n}\\nquadruple {\\nsmall-title, text, btn-red\\n}\\n}\\n', 'header {\\nbtn-inactive, btn-active, btn-inactive, btn-inactive, btn-inactive\\n}\\nrow {\\nsingle {\\nsmall-title, text, btn-orange\\n}\\n}\\n', 'header {\\nbtn-active, btn-inactive, btn-inactive\\n}\\nrow {\\nsingle {\\nsmall-title, text, btn-green\\n}\\n}\\nrow {\\nsingle {\\nsmall-title, text, btn-green\\n}\\n}\\nrow {\\nsingle {\\nsmall-title, text, btn-orange\\n}\\n}\\n', 'header {\\nbtn-active, btn-inactive, btn-inactive, btn-inactive, btn-inactive\\n}\\nrow {\\ndouble {\\nsmall-title, text, btn-red\\n}\\ndouble {\\nsmall-title, text, btn-green\\n}\\n}\\n', 'header {\\nbtn-inactive, btn-inactive, btn-active, btn-inactive\\n}\\nrow {\\ndouble {\\nsmall-title, text, btn-green\\n}\\ndouble {\\nsmall-title, text, btn-red\\n}\\n}\\nrow {\\nquadruple {\\nsmall-title, text, btn-red\\n}\\nquadruple {\\nsmall-title, text, btn-red\\n}\\nquadruple {\\nsmall-title, text, btn-green\\n}\\nquadruple {\\nsmall-title, text, btn-green\\n}\\n}\\nrow {\\nsingle {\\nsmall-title, text, btn-green\\n}\\n}\\n', 'header {\\nbtn-inactive, btn-inactive, btn-active\\n}\\nrow {\\nsingle {\\nsmall-title, text, btn-green\\n}\\n}\\n', 'header {\\nbtn-active, btn-inactive, btn-inactive, btn-inactive\\n}\\nrow {\\nsingle {\\nsmall-title, text, btn-green\\n}\\n}\\nrow {\\ndouble {\\nsmall-title, text, btn-orange\\n}\\ndouble {\\nsmall-title, text, btn-red\\n}\\n}\\nrow {\\nquadruple {\\nsmall-title, text, btn-green\\n}\\nquadruple {\\nsmall-title, text, btn-green\\n}\\nquadruple {\\nsmall-title, text, btn-orange\\n}\\nquadruple {\\nsmall-title, text, btn-orange\\n}\\n}\\n', 'header {\\nbtn-inactive, btn-active\\n}\\nrow {\\ndouble {\\nsmall-title, text, btn-orange\\n}\\ndouble {\\nsmall-title, text, btn-orange\\n}\\n}\\nrow {\\nquadruple {\\nsmall-title, text, btn-orange\\n}\\nquadruple {\\nsmall-title, text, btn-orange\\n}\\nquadruple {\\nsmall-title, text, btn-orange\\n}\\nquadruple {\\nsmall-title, text, btn-green\\n}\\n}\\nrow {\\ndouble {\\nsmall-title, text, btn-orange\\n}\\ndouble {\\nsmall-title, text, btn-green\\n}\\n}\\n', 'header {\\nbtn-inactive, btn-active, btn-inactive, btn-inactive\\n}\\nrow {\\nsingle {\\nsmall-title, text, btn-red\\n}\\n}\\nrow {\\nquadruple {\\nsmall-title, text, btn-orange\\n}\\nquadruple {\\nsmall-title, text, btn-orange\\n}\\nquadruple {\\nsmall-title, text, btn-green\\n}\\nquadruple {\\nsmall-title, text, btn-green\\n}\\n}\\nrow {\\ndouble {\\nsmall-title, text, btn-green\\n}\\ndouble {\\nsmall-title, text, btn-red\\n}\\n}\\n', 'header {\\nbtn-active, btn-inactive\\n}\\nrow {\\nsingle {\\nsmall-title, text, btn-green\\n}\\n}\\nrow {\\ndouble {\\nsmall-title, text, btn-green\\n}\\ndouble {\\nsmall-title, text, btn-orange\\n}\\n}\\n', 'header {\\nbtn-active, btn-inactive\\n}\\nrow {\\ndouble {\\nsmall-title, text, btn-orange\\n}\\ndouble {\\nsmall-title, text, btn-red\\n}\\n}\\nrow {\\ndouble {\\nsmall-title, text, btn-red\\n}\\ndouble {\\nsmall-title, text, btn-orange\\n}\\n}\\nrow {\\ndouble {\\nsmall-title, text, btn-orange\\n}\\ndouble {\\nsmall-title, text, btn-red\\n}\\n}\\n', 'header {\\nbtn-inactive, btn-active, btn-inactive, btn-inactive\\n}\\nrow {\\ndouble {\\nsmall-title, text, btn-red\\n}\\ndouble {\\nsmall-title, text, btn-red\\n}\\n}\\nrow {\\nquadruple {\\nsmall-title, text, btn-red\\n}\\nquadruple {\\nsmall-title, text, btn-red\\n}\\nquadruple {\\nsmall-title, text, btn-red\\n}\\nquadruple {\\nsmall-title, text, btn-red\\n}\\n}\\nrow {\\nsingle {\\nsmall-title, text, btn-orange\\n}\\n}\\n', 'header {\\nbtn-inactive, btn-inactive, btn-active\\n}\\nrow {\\nquadruple {\\nsmall-title, text, btn-red\\n}\\nquadruple {\\nsmall-title, text, btn-orange\\n}\\nquadruple {\\nsmall-title, text, btn-green\\n}\\nquadruple {\\nsmall-title, text, btn-orange\\n}\\n}\\nrow {\\ndouble {\\nsmall-title, text, btn-red\\n}\\ndouble {\\nsmall-title, text, btn-green\\n}\\n}\\nrow {\\nsingle {\\nsmall-title, text, btn-green\\n}\\n}\\n', 'header {\\nbtn-inactive, btn-active\\n}\\nrow {\\ndouble {\\nsmall-title, text, btn-orange\\n}\\ndouble {\\nsmall-title, text, btn-red\\n}\\n}\\nrow {\\ndouble {\\nsmall-title, text, btn-orange\\n}\\ndouble {\\nsmall-title, text, btn-red\\n}\\n}\\n', 'header {\\nbtn-inactive, btn-active\\n}\\nrow {\\nquadruple {\\nsmall-title, text, btn-orange\\n}\\nquadruple {\\nsmall-title, text, btn-orange\\n}\\nquadruple {\\nsmall-title, text, btn-red\\n}\\nquadruple {\\nsmall-title, text, btn-orange\\n}\\n}\\nrow {\\nsingle {\\nsmall-title, text, btn-green\\n}\\n}\\nrow {\\ndouble {\\nsmall-title, text, btn-orange\\n}\\ndouble {\\nsmall-title, text, btn-green\\n}\\n}\\n', 'header {\\nbtn-inactive, btn-inactive, btn-inactive, btn-active\\n}\\nrow {\\nquadruple {\\nsmall-title, text, btn-green\\n}\\nquadruple {\\nsmall-title, text, btn-red\\n}\\nquadruple {\\nsmall-title, text, btn-orange\\n}\\nquadruple {\\nsmall-title, text, btn-orange\\n}\\n}\\nrow {\\nsingle {\\nsmall-title, text, btn-green\\n}\\n}\\nrow {\\ndouble {\\nsmall-title, text, btn-orange\\n}\\ndouble {\\nsmall-title, text, btn-red\\n}\\n}\\n', 'header {\\nbtn-active, btn-inactive, btn-inactive, btn-inactive\\n}\\nrow {\\nsingle {\\nsmall-title, text, btn-red\\n}\\n}\\n', 'header {\\nbtn-inactive, btn-inactive, btn-inactive, btn-inactive, btn-active\\n}\\nrow {\\nquadruple {\\nsmall-title, text, btn-red\\n}\\nquadruple {\\nsmall-title, text, btn-orange\\n}\\nquadruple {\\nsmall-title, text, btn-green\\n}\\nquadruple {\\nsmall-title, text, btn-red\\n}\\n}\\nrow {\\nsingle {\\nsmall-title, text, btn-green\\n}\\n}\\nrow {\\ndouble {\\nsmall-title, text, btn-orange\\n}\\ndouble {\\nsmall-title, text, btn-red\\n}\\n}\\n', 'header {\\nbtn-inactive, btn-inactive, btn-inactive, btn-inactive, btn-active\\n}\\nrow {\\ndouble {\\nsmall-title, text, btn-orange\\n}\\ndouble {\\nsmall-title, text, btn-red\\n}\\n}\\nrow {\\nsingle {\\nsmall-title, text, btn-red\\n}\\n}\\n', 'header {\\nbtn-inactive, btn-inactive, btn-active, btn-inactive, btn-inactive\\n}\\nrow {\\nsingle {\\nsmall-title, text, btn-green\\n}\\n}\\nrow {\\nquadruple {\\nsmall-title, text, btn-red\\n}\\nquadruple {\\nsmall-title, text, btn-red\\n}\\nquadruple {\\nsmall-title, text, btn-green\\n}\\nquadruple {\\nsmall-title, text, btn-red\\n}\\n}\\nrow {\\ndouble {\\nsmall-title, text, btn-green\\n}\\ndouble {\\nsmall-title, text, btn-orange\\n}\\n}\\n', 'header {\\nbtn-active, btn-inactive, btn-inactive\\n}\\nrow {\\nsingle {\\nsmall-title, text, btn-red\\n}\\n}\\n', 'header {\\nbtn-inactive, btn-active\\n}\\nrow {\\nquadruple {\\nsmall-title, text, btn-red\\n}\\nquadruple {\\nsmall-title, text, btn-red\\n}\\nquadruple {\\nsmall-title, text, btn-green\\n}\\nquadruple {\\nsmall-title, text, btn-red\\n}\\n}\\nrow {\\nsingle {\\nsmall-title, text, btn-red\\n}\\n}\\nrow {\\ndouble {\\nsmall-title, text, btn-orange\\n}\\ndouble {\\nsmall-title, text, btn-orange\\n}\\n}\\n', 'header {\\nbtn-active, btn-inactive, btn-inactive, btn-inactive\\n}\\nrow {\\nquadruple {\\nsmall-title, text, btn-red\\n}\\nquadruple {\\nsmall-title, text, btn-red\\n}\\nquadruple {\\nsmall-title, text, btn-orange\\n}\\nquadruple {\\nsmall-title, text, btn-orange\\n}\\n}\\nrow {\\nsingle {\\nsmall-title, text, btn-red\\n}\\n}\\nrow {\\ndouble {\\nsmall-title, text, btn-green\\n}\\ndouble {\\nsmall-title, text, btn-orange\\n}\\n}\\n', 'header {\\nbtn-inactive, btn-inactive, btn-active\\n}\\nrow {\\nquadruple {\\nsmall-title, text, btn-green\\n}\\nquadruple {\\nsmall-title, text, btn-orange\\n}\\nquadruple {\\nsmall-title, text, btn-red\\n}\\nquadruple {\\nsmall-title, text, btn-orange\\n}\\n}\\nrow {\\nsingle {\\nsmall-title, text, btn-red\\n}\\n}\\nrow {\\ndouble {\\nsmall-title, text, btn-green\\n}\\ndouble {\\nsmall-title, text, btn-green\\n}\\n}\\n', 'header {\\nbtn-inactive, btn-active\\n}\\nrow {\\ndouble {\\nsmall-title, text, btn-green\\n}\\ndouble {\\nsmall-title, text, btn-red\\n}\\n}\\nrow {\\nquadruple {\\nsmall-title, text, btn-orange\\n}\\nquadruple {\\nsmall-title, text, btn-green\\n}\\nquadruple {\\nsmall-title, text, btn-orange\\n}\\nquadruple {\\nsmall-title, text, btn-red\\n}\\n}\\nrow {\\nsingle {\\nsmall-title, text, btn-green\\n}\\n}\\n', 'header {\\nbtn-inactive, btn-inactive, btn-active, btn-inactive, btn-inactive\\n}\\nrow {\\nquadruple {\\nsmall-title, text, btn-red\\n}\\nquadruple {\\nsmall-title, text, btn-orange\\n}\\nquadruple {\\nsmall-title, text, btn-green\\n}\\nquadruple {\\nsmall-title, text, btn-green\\n}\\n}\\nrow {\\nsingle {\\nsmall-title, text, btn-red\\n}\\n}\\nrow {\\ndouble {\\nsmall-title, text, btn-red\\n}\\ndouble {\\nsmall-title, text, btn-orange\\n}\\n}\\n', 'header {\\nbtn-inactive, btn-inactive, btn-active\\n}\\nrow {\\nquadruple {\\nsmall-title, text, btn-green\\n}\\nquadruple {\\nsmall-title, text, btn-orange\\n}\\nquadruple {\\nsmall-title, text, btn-green\\n}\\nquadruple {\\nsmall-title, text, btn-orange\\n}\\n}\\nrow {\\ndouble {\\nsmall-title, text, btn-orange\\n}\\ndouble {\\nsmall-title, text, btn-green\\n}\\n}\\nrow {\\nsingle {\\nsmall-title, text, btn-orange\\n}\\n}\\n', 'header {\\nbtn-inactive, btn-inactive, btn-active\\n}\\nrow {\\ndouble {\\nsmall-title, text, btn-orange\\n}\\ndouble {\\nsmall-title, text, btn-green\\n}\\n}\\nrow {\\nquadruple {\\nsmall-title, text, btn-red\\n}\\nquadruple {\\nsmall-title, text, btn-red\\n}\\nquadruple {\\nsmall-title, text, btn-orange\\n}\\nquadruple {\\nsmall-title, text, btn-green\\n}\\n}\\nrow {\\nsingle {\\nsmall-title, text, btn-orange\\n}\\n}\\n', 'header {\\nbtn-inactive, btn-inactive, btn-active, btn-inactive, btn-inactive\\n}\\nrow {\\ndouble {\\nsmall-title, text, btn-green\\n}\\ndouble {\\nsmall-title, text, btn-green\\n}\\n}\\nrow {\\nquadruple {\\nsmall-title, text, btn-orange\\n}\\nquadruple {\\nsmall-title, text, btn-red\\n}\\nquadruple {\\nsmall-title, text, btn-red\\n}\\nquadruple {\\nsmall-title, text, btn-orange\\n}\\n}\\nrow {\\nsingle {\\nsmall-title, text, btn-red\\n}\\n}\\n', 'header {\\nbtn-inactive, btn-active\\n}\\nrow {\\nsingle {\\nsmall-title, text, btn-orange\\n}\\n}\\nrow {\\nquadruple {\\nsmall-title, text, btn-red\\n}\\nquadruple {\\nsmall-title, text, btn-green\\n}\\nquadruple {\\nsmall-title, text, btn-green\\n}\\nquadruple {\\nsmall-title, text, btn-green\\n}\\n}\\nrow {\\ndouble {\\nsmall-title, text, btn-red\\n}\\ndouble {\\nsmall-title, text, btn-red\\n}\\n}\\n', 'header {\\nbtn-active, btn-inactive, btn-inactive\\n}\\nrow {\\ndouble {\\nsmall-title, text, btn-orange\\n}\\ndouble {\\nsmall-title, text, btn-orange\\n}\\n}\\n', 'header {\\nbtn-active, btn-inactive\\n}\\nrow {\\nquadruple {\\nsmall-title, text, btn-green\\n}\\nquadruple {\\nsmall-title, text, btn-green\\n}\\nquadruple {\\nsmall-title, text, btn-green\\n}\\nquadruple {\\nsmall-title, text, btn-green\\n}\\n}\\n', 'header {\\nbtn-inactive, btn-inactive, btn-active, btn-inactive, btn-inactive\\n}\\nrow {\\nsingle {\\nsmall-title, text, btn-orange\\n}\\n}\\nrow {\\nquadruple {\\nsmall-title, text, btn-orange\\n}\\nquadruple {\\nsmall-title, text, btn-orange\\n}\\nquadruple {\\nsmall-title, text, btn-red\\n}\\nquadruple {\\nsmall-title, text, btn-orange\\n}\\n}\\nrow {\\nsingle {\\nsmall-title, text, btn-red\\n}\\n}\\n', 'header {\\nbtn-inactive, btn-inactive, btn-inactive, btn-active, btn-inactive\\n}\\nrow {\\nquadruple {\\nsmall-title, text, btn-green\\n}\\nquadruple {\\nsmall-title, text, btn-red\\n}\\nquadruple {\\nsmall-title, text, btn-red\\n}\\nquadruple {\\nsmall-title, text, btn-red\\n}\\n}\\nrow {\\ndouble {\\nsmall-title, text, btn-orange\\n}\\ndouble {\\nsmall-title, text, btn-orange\\n}\\n}\\nrow {\\nsingle {\\nsmall-title, text, btn-red\\n}\\n}\\n', 'header {\\nbtn-active, btn-inactive\\n}\\nrow {\\nquadruple {\\nsmall-title, text, btn-red\\n}\\nquadruple {\\nsmall-title, text, btn-red\\n}\\nquadruple {\\nsmall-title, text, btn-orange\\n}\\nquadruple {\\nsmall-title, text, btn-green\\n}\\n}\\nrow {\\ndouble {\\nsmall-title, text, btn-green\\n}\\ndouble {\\nsmall-title, text, btn-green\\n}\\n}\\nrow {\\nquadruple {\\nsmall-title, text, btn-red\\n}\\nquadruple {\\nsmall-title, text, btn-green\\n}\\nquadruple {\\nsmall-title, text, btn-green\\n}\\nquadruple {\\nsmall-title, text, btn-red\\n}\\n}\\n', 'header {\\nbtn-inactive, btn-active\\n}\\nrow {\\ndouble {\\nsmall-title, text, btn-orange\\n}\\ndouble {\\nsmall-title, text, btn-red\\n}\\n}\\nrow {\\nsingle {\\nsmall-title, text, btn-red\\n}\\n}\\nrow {\\nquadruple {\\nsmall-title, text, btn-orange\\n}\\nquadruple {\\nsmall-title, text, btn-green\\n}\\nquadruple {\\nsmall-title, text, btn-green\\n}\\nquadruple {\\nsmall-title, text, btn-green\\n}\\n}\\n', 'header {\\nbtn-inactive, btn-active\\n}\\nrow {\\ndouble {\\nsmall-title, text, btn-orange\\n}\\ndouble {\\nsmall-title, text, btn-orange\\n}\\n}\\nrow {\\nsingle {\\nsmall-title, text, btn-green\\n}\\n}\\nrow {\\nquadruple {\\nsmall-title, text, btn-green\\n}\\nquadruple {\\nsmall-title, text, btn-green\\n}\\nquadruple {\\nsmall-title, text, btn-green\\n}\\nquadruple {\\nsmall-title, text, btn-green\\n}\\n}\\n', 'header {\\nbtn-inactive, btn-inactive, btn-active, btn-inactive, btn-inactive\\n}\\nrow {\\nsingle {\\nsmall-title, text, btn-orange\\n}\\n}\\nrow {\\ndouble {\\nsmall-title, text, btn-red\\n}\\ndouble {\\nsmall-title, text, btn-orange\\n}\\n}\\n', 'header {\\nbtn-inactive, btn-active, btn-inactive, btn-inactive, btn-inactive\\n}\\nrow {\\nquadruple {\\nsmall-title, text, btn-green\\n}\\nquadruple {\\nsmall-title, text, btn-red\\n}\\nquadruple {\\nsmall-title, text, btn-green\\n}\\nquadruple {\\nsmall-title, text, btn-red\\n}\\n}\\nrow {\\ndouble {\\nsmall-title, text, btn-red\\n}\\ndouble {\\nsmall-title, text, btn-green\\n}\\n}\\nrow {\\nsingle {\\nsmall-title, text, btn-orange\\n}\\n}\\n', 'header {\\nbtn-inactive, btn-active, btn-inactive, btn-inactive\\n}\\nrow {\\nsingle {\\nsmall-title, text, btn-red\\n}\\n}\\nrow {\\ndouble {\\nsmall-title, text, btn-red\\n}\\ndouble {\\nsmall-title, text, btn-red\\n}\\n}\\nrow {\\nquadruple {\\nsmall-title, text, btn-orange\\n}\\nquadruple {\\nsmall-title, text, btn-red\\n}\\nquadruple {\\nsmall-title, text, btn-orange\\n}\\nquadruple {\\nsmall-title, text, btn-green\\n}\\n}\\n', 'header {\\nbtn-active, btn-inactive, btn-inactive, btn-inactive, btn-inactive\\n}\\nrow {\\nsingle {\\nsmall-title, text, btn-red\\n}\\n}\\nrow {\\ndouble {\\nsmall-title, text, btn-orange\\n}\\ndouble {\\nsmall-title, text, btn-green\\n}\\n}\\n', 'header {\\nbtn-inactive, btn-inactive, btn-inactive, btn-active\\n}\\nrow {\\nsingle {\\nsmall-title, text, btn-green\\n}\\n}\\nrow {\\ndouble {\\nsmall-title, text, btn-green\\n}\\ndouble {\\nsmall-title, text, btn-orange\\n}\\n}\\nrow {\\nquadruple {\\nsmall-title, text, btn-green\\n}\\nquadruple {\\nsmall-title, text, btn-orange\\n}\\nquadruple {\\nsmall-title, text, btn-green\\n}\\nquadruple {\\nsmall-title, text, btn-green\\n}\\n}\\n', 'header {\\nbtn-inactive, btn-active, btn-inactive, btn-inactive\\n}\\nrow {\\ndouble {\\nsmall-title, text, btn-orange\\n}\\ndouble {\\nsmall-title, text, btn-green\\n}\\n}\\nrow {\\nsingle {\\nsmall-title, text, btn-green\\n}\\n}\\n', 'header {\\nbtn-inactive, btn-active, btn-inactive\\n}\\nrow {\\nquadruple {\\nsmall-title, text, btn-red\\n}\\nquadruple {\\nsmall-title, text, btn-red\\n}\\nquadruple {\\nsmall-title, text, btn-orange\\n}\\nquadruple {\\nsmall-title, text, btn-orange\\n}\\n}\\nrow {\\nsingle {\\nsmall-title, text, btn-orange\\n}\\n}\\nrow {\\ndouble {\\nsmall-title, text, btn-red\\n}\\ndouble {\\nsmall-title, text, btn-red\\n}\\n}\\n', 'header {\\nbtn-active, btn-inactive, btn-inactive\\n}\\nrow {\\nsingle {\\nsmall-title, text, btn-red\\n}\\n}\\n', 'header {\\nbtn-inactive, btn-active, btn-inactive\\n}\\nrow {\\ndouble {\\nsmall-title, text, btn-orange\\n}\\ndouble {\\nsmall-title, text, btn-red\\n}\\n}\\nrow {\\nquadruple {\\nsmall-title, text, btn-green\\n}\\nquadruple {\\nsmall-title, text, btn-green\\n}\\nquadruple {\\nsmall-title, text, btn-green\\n}\\nquadruple {\\nsmall-title, text, btn-orange\\n}\\n}\\nrow {\\nsingle {\\nsmall-title, text, btn-orange\\n}\\n}\\n', 'header {\\nbtn-inactive, btn-inactive, btn-inactive, btn-active\\n}\\nrow {\\nquadruple {\\nsmall-title, text, btn-red\\n}\\nquadruple {\\nsmall-title, text, btn-orange\\n}\\nquadruple {\\nsmall-title, text, btn-green\\n}\\nquadruple {\\nsmall-title, text, btn-red\\n}\\n}\\nrow {\\nsingle {\\nsmall-title, text, btn-green\\n}\\n}\\nrow {\\ndouble {\\nsmall-title, text, btn-red\\n}\\ndouble {\\nsmall-title, text, btn-red\\n}\\n}\\n', 'header {\\nbtn-active, btn-inactive, btn-inactive, btn-inactive\\n}\\nrow {\\nsingle {\\nsmall-title, text, btn-orange\\n}\\n}\\nrow {\\ndouble {\\nsmall-title, text, btn-orange\\n}\\ndouble {\\nsmall-title, text, btn-green\\n}\\n}\\nrow {\\nquadruple {\\nsmall-title, text, btn-orange\\n}\\nquadruple {\\nsmall-title, text, btn-red\\n}\\nquadruple {\\nsmall-title, text, btn-orange\\n}\\nquadruple {\\nsmall-title, text, btn-orange\\n}\\n}\\n', 'header {\\nbtn-inactive, btn-active, btn-inactive, btn-inactive, btn-inactive\\n}\\nrow {\\nquadruple {\\nsmall-title, text, btn-green\\n}\\nquadruple {\\nsmall-title, text, btn-orange\\n}\\nquadruple {\\nsmall-title, text, btn-orange\\n}\\nquadruple {\\nsmall-title, text, btn-red\\n}\\n}\\nrow {\\ndouble {\\nsmall-title, text, btn-green\\n}\\ndouble {\\nsmall-title, text, btn-orange\\n}\\n}\\n', 'header {\\nbtn-inactive, btn-inactive, btn-active\\n}\\nrow {\\nquadruple {\\nsmall-title, text, btn-red\\n}\\nquadruple {\\nsmall-title, text, btn-orange\\n}\\nquadruple {\\nsmall-title, text, btn-orange\\n}\\nquadruple {\\nsmall-title, text, btn-orange\\n}\\n}\\nrow {\\ndouble {\\nsmall-title, text, btn-red\\n}\\ndouble {\\nsmall-title, text, btn-red\\n}\\n}\\nrow {\\nsingle {\\nsmall-title, text, btn-orange\\n}\\n}\\n', 'header {\\nbtn-active, btn-inactive\\n}\\nrow {\\ndouble {\\nsmall-title, text, btn-green\\n}\\ndouble {\\nsmall-title, text, btn-red\\n}\\n}\\nrow {\\nquadruple {\\nsmall-title, text, btn-green\\n}\\nquadruple {\\nsmall-title, text, btn-green\\n}\\nquadruple {\\nsmall-title, text, btn-orange\\n}\\nquadruple {\\nsmall-title, text, btn-green\\n}\\n}\\nrow {\\nsingle {\\nsmall-title, text, btn-orange\\n}\\n}\\n', 'header {\\nbtn-inactive, btn-inactive, btn-active\\n}\\nrow {\\ndouble {\\nsmall-title, text, btn-orange\\n}\\ndouble {\\nsmall-title, text, btn-green\\n}\\n}\\nrow {\\nquadruple {\\nsmall-title, text, btn-orange\\n}\\nquadruple {\\nsmall-title, text, btn-orange\\n}\\nquadruple {\\nsmall-title, text, btn-green\\n}\\nquadruple {\\nsmall-title, text, btn-orange\\n}\\n}\\nrow {\\nsingle {\\nsmall-title, text, btn-green\\n}\\n}\\n', 'header {\\nbtn-inactive, btn-inactive, btn-active\\n}\\nrow {\\nquadruple {\\nsmall-title, text, btn-green\\n}\\nquadruple {\\nsmall-title, text, btn-red\\n}\\nquadruple {\\nsmall-title, text, btn-red\\n}\\nquadruple {\\nsmall-title, text, btn-green\\n}\\n}\\nrow {\\nsingle {\\nsmall-title, text, btn-green\\n}\\n}\\nrow {\\ndouble {\\nsmall-title, text, btn-red\\n}\\ndouble {\\nsmall-title, text, btn-green\\n}\\n}\\n', 'header {\\nbtn-inactive, btn-inactive, btn-active, btn-inactive, btn-inactive\\n}\\nrow {\\ndouble {\\nsmall-title, text, btn-green\\n}\\ndouble {\\nsmall-title, text, btn-green\\n}\\n}\\nrow {\\nsingle {\\nsmall-title, text, btn-orange\\n}\\n}\\nrow {\\nquadruple {\\nsmall-title, text, btn-orange\\n}\\nquadruple {\\nsmall-title, text, btn-green\\n}\\nquadruple {\\nsmall-title, text, btn-red\\n}\\nquadruple {\\nsmall-title, text, btn-green\\n}\\n}\\n', 'header {\\nbtn-inactive, btn-inactive, btn-active, btn-inactive, btn-inactive\\n}\\nrow {\\nsingle {\\nsmall-title, text, btn-orange\\n}\\n}\\nrow {\\nquadruple {\\nsmall-title, text, btn-green\\n}\\nquadruple {\\nsmall-title, text, btn-orange\\n}\\nquadruple {\\nsmall-title, text, btn-red\\n}\\nquadruple {\\nsmall-title, text, btn-orange\\n}\\n}\\nrow {\\ndouble {\\nsmall-title, text, btn-green\\n}\\ndouble {\\nsmall-title, text, btn-red\\n}\\n}\\n', 'header {\\nbtn-inactive, btn-active, btn-inactive, btn-inactive\\n}\\nrow {\\nsingle {\\nsmall-title, text, btn-red\\n}\\n}\\nrow {\\nquadruple {\\nsmall-title, text, btn-green\\n}\\nquadruple {\\nsmall-title, text, btn-red\\n}\\nquadruple {\\nsmall-title, text, btn-orange\\n}\\nquadruple {\\nsmall-title, text, btn-orange\\n}\\n}\\nrow {\\ndouble {\\nsmall-title, text, btn-green\\n}\\ndouble {\\nsmall-title, text, btn-orange\\n}\\n}\\n', 'header {\\nbtn-active, btn-inactive\\n}\\nrow {\\nquadruple {\\nsmall-title, text, btn-green\\n}\\nquadruple {\\nsmall-title, text, btn-green\\n}\\nquadruple {\\nsmall-title, text, btn-red\\n}\\nquadruple {\\nsmall-title, text, btn-orange\\n}\\n}\\nrow {\\nsingle {\\nsmall-title, text, btn-orange\\n}\\n}\\nrow {\\ndouble {\\nsmall-title, text, btn-green\\n}\\ndouble {\\nsmall-title, text, btn-red\\n}\\n}\\n', 'header {\\nbtn-active, btn-inactive, btn-inactive, btn-inactive\\n}\\nrow {\\nsingle {\\nsmall-title, text, btn-red\\n}\\n}\\nrow {\\nquadruple {\\nsmall-title, text, btn-red\\n}\\nquadruple {\\nsmall-title, text, btn-orange\\n}\\nquadruple {\\nsmall-title, text, btn-green\\n}\\nquadruple {\\nsmall-title, text, btn-orange\\n}\\n}\\n', 'header {\\nbtn-inactive, btn-inactive, btn-inactive, btn-active, btn-inactive\\n}\\nrow {\\nsingle {\\nsmall-title, text, btn-green\\n}\\n}\\nrow {\\ndouble {\\nsmall-title, text, btn-green\\n}\\ndouble {\\nsmall-title, text, btn-green\\n}\\n}\\nrow {\\nquadruple {\\nsmall-title, text, btn-red\\n}\\nquadruple {\\nsmall-title, text, btn-red\\n}\\nquadruple {\\nsmall-title, text, btn-red\\n}\\nquadruple {\\nsmall-title, text, btn-red\\n}\\n}\\n', 'header {\\nbtn-active, btn-inactive\\n}\\nrow {\\nquadruple {\\nsmall-title, text, btn-orange\\n}\\nquadruple {\\nsmall-title, text, btn-green\\n}\\nquadruple {\\nsmall-title, text, btn-red\\n}\\nquadruple {\\nsmall-title, text, btn-orange\\n}\\n}\\nrow {\\ndouble {\\nsmall-title, text, btn-green\\n}\\ndouble {\\nsmall-title, text, btn-green\\n}\\n}\\nrow {\\nsingle {\\nsmall-title, text, btn-red\\n}\\n}\\n', 'header {\\nbtn-active, btn-inactive, btn-inactive\\n}\\nrow {\\nquadruple {\\nsmall-title, text, btn-green\\n}\\nquadruple {\\nsmall-title, text, btn-red\\n}\\nquadruple {\\nsmall-title, text, btn-green\\n}\\nquadruple {\\nsmall-title, text, btn-red\\n}\\n}\\nrow {\\ndouble {\\nsmall-title, text, btn-red\\n}\\ndouble {\\nsmall-title, text, btn-orange\\n}\\n}\\nrow {\\ndouble {\\nsmall-title, text, btn-orange\\n}\\ndouble {\\nsmall-title, text, btn-green\\n}\\n}\\n', 'header {\\nbtn-inactive, btn-inactive, btn-active\\n}\\nrow {\\nquadruple {\\nsmall-title, text, btn-green\\n}\\nquadruple {\\nsmall-title, text, btn-orange\\n}\\nquadruple {\\nsmall-title, text, btn-green\\n}\\nquadruple {\\nsmall-title, text, btn-red\\n}\\n}\\nrow {\\nsingle {\\nsmall-title, text, btn-green\\n}\\n}\\nrow {\\ndouble {\\nsmall-title, text, btn-green\\n}\\ndouble {\\nsmall-title, text, btn-orange\\n}\\n}\\n', 'header {\\nbtn-active, btn-inactive, btn-inactive, btn-inactive, btn-inactive\\n}\\nrow {\\ndouble {\\nsmall-title, text, btn-orange\\n}\\ndouble {\\nsmall-title, text, btn-green\\n}\\n}\\nrow {\\nquadruple {\\nsmall-title, text, btn-green\\n}\\nquadruple {\\nsmall-title, text, btn-red\\n}\\nquadruple {\\nsmall-title, text, btn-green\\n}\\nquadruple {\\nsmall-title, text, btn-green\\n}\\n}\\nrow {\\nsingle {\\nsmall-title, text, btn-orange\\n}\\n}\\n', 'header {\\nbtn-active, btn-inactive, btn-inactive\\n}\\nrow {\\ndouble {\\nsmall-title, text, btn-green\\n}\\ndouble {\\nsmall-title, text, btn-orange\\n}\\n}\\nrow {\\nsingle {\\nsmall-title, text, btn-orange\\n}\\n}\\nrow {\\nquadruple {\\nsmall-title, text, btn-green\\n}\\nquadruple {\\nsmall-title, text, btn-red\\n}\\nquadruple {\\nsmall-title, text, btn-orange\\n}\\nquadruple {\\nsmall-title, text, btn-red\\n}\\n}\\n', 'header {\\nbtn-inactive, btn-inactive, btn-active\\n}\\nrow {\\nquadruple {\\nsmall-title, text, btn-green\\n}\\nquadruple {\\nsmall-title, text, btn-orange\\n}\\nquadruple {\\nsmall-title, text, btn-green\\n}\\nquadruple {\\nsmall-title, text, btn-green\\n}\\n}\\nrow {\\nsingle {\\nsmall-title, text, btn-red\\n}\\n}\\nrow {\\ndouble {\\nsmall-title, text, btn-orange\\n}\\ndouble {\\nsmall-title, text, btn-orange\\n}\\n}\\n', 'header {\\nbtn-active, btn-inactive, btn-inactive\\n}\\nrow {\\ndouble {\\nsmall-title, text, btn-green\\n}\\ndouble {\\nsmall-title, text, btn-green\\n}\\n}\\nrow {\\nsingle {\\nsmall-title, text, btn-red\\n}\\n}\\nrow {\\nquadruple {\\nsmall-title, text, btn-orange\\n}\\nquadruple {\\nsmall-title, text, btn-red\\n}\\nquadruple {\\nsmall-title, text, btn-red\\n}\\nquadruple {\\nsmall-title, text, btn-green\\n}\\n}\\n', 'header {\\nbtn-active, btn-inactive\\n}\\nrow {\\nquadruple {\\nsmall-title, text, btn-orange\\n}\\nquadruple {\\nsmall-title, text, btn-green\\n}\\nquadruple {\\nsmall-title, text, btn-green\\n}\\nquadruple {\\nsmall-title, text, btn-green\\n}\\n}\\n', 'header {\\nbtn-active, btn-inactive\\n}\\nrow {\\nsingle {\\nsmall-title, text, btn-orange\\n}\\n}\\nrow {\\nquadruple {\\nsmall-title, text, btn-red\\n}\\nquadruple {\\nsmall-title, text, btn-green\\n}\\nquadruple {\\nsmall-title, text, btn-red\\n}\\nquadruple {\\nsmall-title, text, btn-red\\n}\\n}\\nrow {\\nsingle {\\nsmall-title, text, btn-orange\\n}\\n}\\n', 'header {\\nbtn-inactive, btn-active\\n}\\nrow {\\ndouble {\\nsmall-title, text, btn-orange\\n}\\ndouble {\\nsmall-title, text, btn-red\\n}\\n}\\nrow {\\nquadruple {\\nsmall-title, text, btn-orange\\n}\\nquadruple {\\nsmall-title, text, btn-red\\n}\\nquadruple {\\nsmall-title, text, btn-green\\n}\\nquadruple {\\nsmall-title, text, btn-orange\\n}\\n}\\nrow {\\nsingle {\\nsmall-title, text, btn-green\\n}\\n}\\n', 'header {\\nbtn-inactive, btn-inactive, btn-inactive, btn-active\\n}\\nrow {\\nsingle {\\nsmall-title, text, btn-green\\n}\\n}\\nrow {\\nquadruple {\\nsmall-title, text, btn-green\\n}\\nquadruple {\\nsmall-title, text, btn-orange\\n}\\nquadruple {\\nsmall-title, text, btn-green\\n}\\nquadruple {\\nsmall-title, text, btn-green\\n}\\n}\\nrow {\\ndouble {\\nsmall-title, text, btn-red\\n}\\ndouble {\\nsmall-title, text, btn-orange\\n}\\n}\\n', 'header {\\nbtn-inactive, btn-active\\n}\\nrow {\\nquadruple {\\nsmall-title, text, btn-green\\n}\\nquadruple {\\nsmall-title, text, btn-red\\n}\\nquadruple {\\nsmall-title, text, btn-orange\\n}\\nquadruple {\\nsmall-title, text, btn-green\\n}\\n}\\n', 'header {\\nbtn-inactive, btn-inactive, btn-active\\n}\\nrow {\\ndouble {\\nsmall-title, text, btn-red\\n}\\ndouble {\\nsmall-title, text, btn-red\\n}\\n}\\nrow {\\nquadruple {\\nsmall-title, text, btn-orange\\n}\\nquadruple {\\nsmall-title, text, btn-red\\n}\\nquadruple {\\nsmall-title, text, btn-green\\n}\\nquadruple {\\nsmall-title, text, btn-green\\n}\\n}\\nrow {\\nsingle {\\nsmall-title, text, btn-orange\\n}\\n}\\n', 'header {\\nbtn-inactive, btn-active, btn-inactive, btn-inactive\\n}\\nrow {\\nsingle {\\nsmall-title, text, btn-orange\\n}\\n}\\nrow {\\nquadruple {\\nsmall-title, text, btn-green\\n}\\nquadruple {\\nsmall-title, text, btn-orange\\n}\\nquadruple {\\nsmall-title, text, btn-orange\\n}\\nquadruple {\\nsmall-title, text, btn-red\\n}\\n}\\nrow {\\ndouble {\\nsmall-title, text, btn-green\\n}\\ndouble {\\nsmall-title, text, btn-orange\\n}\\n}\\n', 'header {\\nbtn-inactive, btn-active\\n}\\nrow {\\nquadruple {\\nsmall-title, text, btn-orange\\n}\\nquadruple {\\nsmall-title, text, btn-red\\n}\\nquadruple {\\nsmall-title, text, btn-green\\n}\\nquadruple {\\nsmall-title, text, btn-orange\\n}\\n}\\nrow {\\ndouble {\\nsmall-title, text, btn-green\\n}\\ndouble {\\nsmall-title, text, btn-red\\n}\\n}\\nrow {\\nsingle {\\nsmall-title, text, btn-red\\n}\\n}\\n', 'header {\\nbtn-inactive, btn-inactive, btn-inactive, btn-active, btn-inactive\\n}\\nrow {\\nquadruple {\\nsmall-title, text, btn-orange\\n}\\nquadruple {\\nsmall-title, text, btn-red\\n}\\nquadruple {\\nsmall-title, text, btn-green\\n}\\nquadruple {\\nsmall-title, text, btn-orange\\n}\\n}\\nrow {\\nsingle {\\nsmall-title, text, btn-green\\n}\\n}\\n', 'header {\\nbtn-inactive, btn-inactive, btn-active, btn-inactive, btn-inactive\\n}\\nrow {\\nsingle {\\nsmall-title, text, btn-orange\\n}\\n}\\nrow {\\nquadruple {\\nsmall-title, text, btn-green\\n}\\nquadruple {\\nsmall-title, text, btn-red\\n}\\nquadruple {\\nsmall-title, text, btn-orange\\n}\\nquadruple {\\nsmall-title, text, btn-red\\n}\\n}\\nrow {\\ndouble {\\nsmall-title, text, btn-red\\n}\\ndouble {\\nsmall-title, text, btn-green\\n}\\n}\\n', 'header {\\nbtn-inactive, btn-active, btn-inactive\\n}\\nrow {\\nsingle {\\nsmall-title, text, btn-red\\n}\\n}\\nrow {\\nsingle {\\nsmall-title, text, btn-orange\\n}\\n}\\n', 'header {\\nbtn-active, btn-inactive\\n}\\nrow {\\nsingle {\\nsmall-title, text, btn-green\\n}\\n}\\n', 'header {\\nbtn-inactive, btn-active, btn-inactive, btn-inactive\\n}\\nrow {\\nquadruple {\\nsmall-title, text, btn-red\\n}\\nquadruple {\\nsmall-title, text, btn-red\\n}\\nquadruple {\\nsmall-title, text, btn-orange\\n}\\nquadruple {\\nsmall-title, text, btn-orange\\n}\\n}\\nrow {\\nsingle {\\nsmall-title, text, btn-orange\\n}\\n}\\nrow {\\ndouble {\\nsmall-title, text, btn-green\\n}\\ndouble {\\nsmall-title, text, btn-red\\n}\\n}\\n', 'header {\\nbtn-active, btn-inactive\\n}\\nrow {\\ndouble {\\nsmall-title, text, btn-orange\\n}\\ndouble {\\nsmall-title, text, btn-orange\\n}\\n}\\nrow {\\nsingle {\\nsmall-title, text, btn-green\\n}\\n}\\nrow {\\nquadruple {\\nsmall-title, text, btn-red\\n}\\nquadruple {\\nsmall-title, text, btn-orange\\n}\\nquadruple {\\nsmall-title, text, btn-green\\n}\\nquadruple {\\nsmall-title, text, btn-orange\\n}\\n}\\n', 'header {\\nbtn-active, btn-inactive, btn-inactive\\n}\\nrow {\\nsingle {\\nsmall-title, text, btn-red\\n}\\n}\\nrow {\\ndouble {\\nsmall-title, text, btn-green\\n}\\ndouble {\\nsmall-title, text, btn-red\\n}\\n}\\nrow {\\nquadruple {\\nsmall-title, text, btn-orange\\n}\\nquadruple {\\nsmall-title, text, btn-green\\n}\\nquadruple {\\nsmall-title, text, btn-red\\n}\\nquadruple {\\nsmall-title, text, btn-orange\\n}\\n}\\n', 'header {\\nbtn-active, btn-inactive, btn-inactive\\n}\\nrow {\\ndouble {\\nsmall-title, text, btn-green\\n}\\ndouble {\\nsmall-title, text, btn-orange\\n}\\n}\\nrow {\\nsingle {\\nsmall-title, text, btn-orange\\n}\\n}\\nrow {\\nquadruple {\\nsmall-title, text, btn-green\\n}\\nquadruple {\\nsmall-title, text, btn-green\\n}\\nquadruple {\\nsmall-title, text, btn-green\\n}\\nquadruple {\\nsmall-title, text, btn-red\\n}\\n}\\n', 'header {\\nbtn-inactive, btn-inactive, btn-active\\n}\\nrow {\\nquadruple {\\nsmall-title, text, btn-red\\n}\\nquadruple {\\nsmall-title, text, btn-red\\n}\\nquadruple {\\nsmall-title, text, btn-green\\n}\\nquadruple {\\nsmall-title, text, btn-red\\n}\\n}\\n', 'header {\\nbtn-inactive, btn-active, btn-inactive, btn-inactive, btn-inactive\\n}\\nrow {\\ndouble {\\nsmall-title, text, btn-red\\n}\\ndouble {\\nsmall-title, text, btn-orange\\n}\\n}\\nrow {\\nsingle {\\nsmall-title, text, btn-orange\\n}\\n}\\nrow {\\nquadruple {\\nsmall-title, text, btn-green\\n}\\nquadruple {\\nsmall-title, text, btn-green\\n}\\nquadruple {\\nsmall-title, text, btn-green\\n}\\nquadruple {\\nsmall-title, text, btn-orange\\n}\\n}\\n', 'header {\\nbtn-inactive, btn-inactive, btn-active\\n}\\nrow {\\nquadruple {\\nsmall-title, text, btn-red\\n}\\nquadruple {\\nsmall-title, text, btn-orange\\n}\\nquadruple {\\nsmall-title, text, btn-orange\\n}\\nquadruple {\\nsmall-title, text, btn-orange\\n}\\n}\\nrow {\\ndouble {\\nsmall-title, text, btn-red\\n}\\ndouble {\\nsmall-title, text, btn-red\\n}\\n}\\nrow {\\nsingle {\\nsmall-title, text, btn-red\\n}\\n}\\n', 'header {\\nbtn-active, btn-inactive, btn-inactive\\n}\\nrow {\\nquadruple {\\nsmall-title, text, btn-red\\n}\\nquadruple {\\nsmall-title, text, btn-green\\n}\\nquadruple {\\nsmall-title, text, btn-red\\n}\\nquadruple {\\nsmall-title, text, btn-orange\\n}\\n}\\nrow {\\nsingle {\\nsmall-title, text, btn-red\\n}\\n}\\nrow {\\ndouble {\\nsmall-title, text, btn-orange\\n}\\ndouble {\\nsmall-title, text, btn-red\\n}\\n}\\n', 'header {\\nbtn-inactive, btn-active, btn-inactive, btn-inactive, btn-inactive\\n}\\nrow {\\nquadruple {\\nsmall-title, text, btn-red\\n}\\nquadruple {\\nsmall-title, text, btn-green\\n}\\nquadruple {\\nsmall-title, text, btn-green\\n}\\nquadruple {\\nsmall-title, text, btn-red\\n}\\n}\\nrow {\\nsingle {\\nsmall-title, text, btn-red\\n}\\n}\\nrow {\\ndouble {\\nsmall-title, text, btn-green\\n}\\ndouble {\\nsmall-title, text, btn-green\\n}\\n}\\n', 'header {\\nbtn-inactive, btn-inactive, btn-active, btn-inactive, btn-inactive\\n}\\nrow {\\ndouble {\\nsmall-title, text, btn-red\\n}\\ndouble {\\nsmall-title, text, btn-red\\n}\\n}\\nrow {\\nquadruple {\\nsmall-title, text, btn-green\\n}\\nquadruple {\\nsmall-title, text, btn-green\\n}\\nquadruple {\\nsmall-title, text, btn-green\\n}\\nquadruple {\\nsmall-title, text, btn-red\\n}\\n}\\nrow {\\ndouble {\\nsmall-title, text, btn-red\\n}\\ndouble {\\nsmall-title, text, btn-red\\n}\\n}\\n', 'header {\\nbtn-inactive, btn-inactive, btn-active, btn-inactive\\n}\\nrow {\\ndouble {\\nsmall-title, text, btn-red\\n}\\ndouble {\\nsmall-title, text, btn-red\\n}\\n}\\nrow {\\nsingle {\\nsmall-title, text, btn-green\\n}\\n}\\nrow {\\nquadruple {\\nsmall-title, text, btn-green\\n}\\nquadruple {\\nsmall-title, text, btn-green\\n}\\nquadruple {\\nsmall-title, text, btn-orange\\n}\\nquadruple {\\nsmall-title, text, btn-red\\n}\\n}\\n', 'header {\\nbtn-active, btn-inactive, btn-inactive, btn-inactive\\n}\\nrow {\\ndouble {\\nsmall-title, text, btn-green\\n}\\ndouble {\\nsmall-title, text, btn-green\\n}\\n}\\n', 'header {\\nbtn-inactive, btn-inactive, btn-inactive, btn-active\\n}\\nrow {\\nsingle {\\nsmall-title, text, btn-orange\\n}\\n}\\nrow {\\ndouble {\\nsmall-title, text, btn-red\\n}\\ndouble {\\nsmall-title, text, btn-red\\n}\\n}\\nrow {\\nquadruple {\\nsmall-title, text, btn-red\\n}\\nquadruple {\\nsmall-title, text, btn-red\\n}\\nquadruple {\\nsmall-title, text, btn-orange\\n}\\nquadruple {\\nsmall-title, text, btn-red\\n}\\n}\\n', 'header {\\nbtn-inactive, btn-active\\n}\\nrow {\\ndouble {\\nsmall-title, text, btn-red\\n}\\ndouble {\\nsmall-title, text, btn-orange\\n}\\n}\\nrow {\\nsingle {\\nsmall-title, text, btn-green\\n}\\n}\\nrow {\\nquadruple {\\nsmall-title, text, btn-orange\\n}\\nquadruple {\\nsmall-title, text, btn-green\\n}\\nquadruple {\\nsmall-title, text, btn-orange\\n}\\nquadruple {\\nsmall-title, text, btn-orange\\n}\\n}\\n', 'header {\\nbtn-inactive, btn-active\\n}\\nrow {\\nsingle {\\nsmall-title, text, btn-green\\n}\\n}\\nrow {\\nquadruple {\\nsmall-title, text, btn-orange\\n}\\nquadruple {\\nsmall-title, text, btn-red\\n}\\nquadruple {\\nsmall-title, text, btn-red\\n}\\nquadruple {\\nsmall-title, text, btn-green\\n}\\n}\\nrow {\\ndouble {\\nsmall-title, text, btn-red\\n}\\ndouble {\\nsmall-title, text, btn-orange\\n}\\n}\\n', 'header {\\nbtn-inactive, btn-inactive, btn-active, btn-inactive, btn-inactive\\n}\\nrow {\\nquadruple {\\nsmall-title, text, btn-orange\\n}\\nquadruple {\\nsmall-title, text, btn-orange\\n}\\nquadruple {\\nsmall-title, text, btn-green\\n}\\nquadruple {\\nsmall-title, text, btn-orange\\n}\\n}\\nrow {\\ndouble {\\nsmall-title, text, btn-red\\n}\\ndouble {\\nsmall-title, text, btn-green\\n}\\n}\\nrow {\\nsingle {\\nsmall-title, text, btn-green\\n}\\n}\\n', 'header {\\nbtn-active, btn-inactive, btn-inactive, btn-inactive, btn-inactive\\n}\\nrow {\\nquadruple {\\nsmall-title, text, btn-red\\n}\\nquadruple {\\nsmall-title, text, btn-orange\\n}\\nquadruple {\\nsmall-title, text, btn-orange\\n}\\nquadruple {\\nsmall-title, text, btn-red\\n}\\n}\\nrow {\\nsingle {\\nsmall-title, text, btn-orange\\n}\\n}\\nrow {\\ndouble {\\nsmall-title, text, btn-green\\n}\\ndouble {\\nsmall-title, text, btn-orange\\n}\\n}\\n', 'header {\\nbtn-inactive, btn-inactive, btn-active\\n}\\nrow {\\ndouble {\\nsmall-title, text, btn-red\\n}\\ndouble {\\nsmall-title, text, btn-red\\n}\\n}\\nrow {\\nquadruple {\\nsmall-title, text, btn-green\\n}\\nquadruple {\\nsmall-title, text, btn-green\\n}\\nquadruple {\\nsmall-title, text, btn-orange\\n}\\nquadruple {\\nsmall-title, text, btn-red\\n}\\n}\\nrow {\\nsingle {\\nsmall-title, text, btn-red\\n}\\n}\\n', 'header {\\nbtn-inactive, btn-inactive, btn-active\\n}\\nrow {\\ndouble {\\nsmall-title, text, btn-red\\n}\\ndouble {\\nsmall-title, text, btn-red\\n}\\n}\\nrow {\\nquadruple {\\nsmall-title, text, btn-orange\\n}\\nquadruple {\\nsmall-title, text, btn-red\\n}\\nquadruple {\\nsmall-title, text, btn-orange\\n}\\nquadruple {\\nsmall-title, text, btn-orange\\n}\\n}\\nrow {\\nsingle {\\nsmall-title, text, btn-orange\\n}\\n}\\n', 'header {\\nbtn-active, btn-inactive, btn-inactive, btn-inactive\\n}\\nrow {\\nsingle {\\nsmall-title, text, btn-green\\n}\\n}\\nrow {\\ndouble {\\nsmall-title, text, btn-red\\n}\\ndouble {\\nsmall-title, text, btn-green\\n}\\n}\\nrow {\\nquadruple {\\nsmall-title, text, btn-orange\\n}\\nquadruple {\\nsmall-title, text, btn-red\\n}\\nquadruple {\\nsmall-title, text, btn-green\\n}\\nquadruple {\\nsmall-title, text, btn-green\\n}\\n}\\n', 'header {\\nbtn-active, btn-inactive\\n}\\nrow {\\ndouble {\\nsmall-title, text, btn-red\\n}\\ndouble {\\nsmall-title, text, btn-green\\n}\\n}\\nrow {\\nsingle {\\nsmall-title, text, btn-green\\n}\\n}\\n', 'header {\\nbtn-inactive, btn-inactive, btn-inactive, btn-active, btn-inactive\\n}\\nrow {\\nquadruple {\\nsmall-title, text, btn-orange\\n}\\nquadruple {\\nsmall-title, text, btn-orange\\n}\\nquadruple {\\nsmall-title, text, btn-green\\n}\\nquadruple {\\nsmall-title, text, btn-green\\n}\\n}\\nrow {\\nsingle {\\nsmall-title, text, btn-orange\\n}\\n}\\nrow {\\ndouble {\\nsmall-title, text, btn-red\\n}\\ndouble {\\nsmall-title, text, btn-red\\n}\\n}\\n', 'header {\\nbtn-inactive, btn-inactive, btn-active, btn-inactive\\n}\\nrow {\\nquadruple {\\nsmall-title, text, btn-orange\\n}\\nquadruple {\\nsmall-title, text, btn-green\\n}\\nquadruple {\\nsmall-title, text, btn-orange\\n}\\nquadruple {\\nsmall-title, text, btn-green\\n}\\n}\\nrow {\\nsingle {\\nsmall-title, text, btn-orange\\n}\\n}\\nrow {\\ndouble {\\nsmall-title, text, btn-green\\n}\\ndouble {\\nsmall-title, text, btn-green\\n}\\n}\\n', 'header {\\nbtn-active, btn-inactive\\n}\\nrow {\\nsingle {\\nsmall-title, text, btn-green\\n}\\n}\\nrow {\\nquadruple {\\nsmall-title, text, btn-red\\n}\\nquadruple {\\nsmall-title, text, btn-orange\\n}\\nquadruple {\\nsmall-title, text, btn-green\\n}\\nquadruple {\\nsmall-title, text, btn-orange\\n}\\n}\\nrow {\\ndouble {\\nsmall-title, text, btn-red\\n}\\ndouble {\\nsmall-title, text, btn-orange\\n}\\n}\\n', 'header {\\nbtn-inactive, btn-active, btn-inactive, btn-inactive, btn-inactive\\n}\\nrow {\\nquadruple {\\nsmall-title, text, btn-orange\\n}\\nquadruple {\\nsmall-title, text, btn-green\\n}\\nquadruple {\\nsmall-title, text, btn-red\\n}\\nquadruple {\\nsmall-title, text, btn-orange\\n}\\n}\\nrow {\\ndouble {\\nsmall-title, text, btn-orange\\n}\\ndouble {\\nsmall-title, text, btn-orange\\n}\\n}\\nrow {\\nsingle {\\nsmall-title, text, btn-green\\n}\\n}\\n', 'header {\\nbtn-active, btn-inactive, btn-inactive\\n}\\nrow {\\nquadruple {\\nsmall-title, text, btn-green\\n}\\nquadruple {\\nsmall-title, text, btn-red\\n}\\nquadruple {\\nsmall-title, text, btn-green\\n}\\nquadruple {\\nsmall-title, text, btn-green\\n}\\n}\\nrow {\\ndouble {\\nsmall-title, text, btn-orange\\n}\\ndouble {\\nsmall-title, text, btn-red\\n}\\n}\\nrow {\\nsingle {\\nsmall-title, text, btn-green\\n}\\n}\\n', 'header {\\nbtn-inactive, btn-active, btn-inactive, btn-inactive, btn-inactive\\n}\\nrow {\\nsingle {\\nsmall-title, text, btn-green\\n}\\n}\\nrow {\\ndouble {\\nsmall-title, text, btn-orange\\n}\\ndouble {\\nsmall-title, text, btn-red\\n}\\n}\\nrow {\\nquadruple {\\nsmall-title, text, btn-red\\n}\\nquadruple {\\nsmall-title, text, btn-orange\\n}\\nquadruple {\\nsmall-title, text, btn-orange\\n}\\nquadruple {\\nsmall-title, text, btn-red\\n}\\n}\\n', 'header {\\nbtn-active, btn-inactive, btn-inactive, btn-inactive, btn-inactive\\n}\\nrow {\\ndouble {\\nsmall-title, text, btn-red\\n}\\ndouble {\\nsmall-title, text, btn-orange\\n}\\n}\\nrow {\\nsingle {\\nsmall-title, text, btn-green\\n}\\n}\\nrow {\\nquadruple {\\nsmall-title, text, btn-green\\n}\\nquadruple {\\nsmall-title, text, btn-red\\n}\\nquadruple {\\nsmall-title, text, btn-orange\\n}\\nquadruple {\\nsmall-title, text, btn-red\\n}\\n}\\n', 'header {\\nbtn-inactive, btn-active, btn-inactive, btn-inactive, btn-inactive\\n}\\nrow {\\nquadruple {\\nsmall-title, text, btn-red\\n}\\nquadruple {\\nsmall-title, text, btn-green\\n}\\nquadruple {\\nsmall-title, text, btn-red\\n}\\nquadruple {\\nsmall-title, text, btn-red\\n}\\n}\\nrow {\\nsingle {\\nsmall-title, text, btn-orange\\n}\\n}\\nrow {\\ndouble {\\nsmall-title, text, btn-green\\n}\\ndouble {\\nsmall-title, text, btn-orange\\n}\\n}\\n', 'header {\\nbtn-inactive, btn-active, btn-inactive, btn-inactive, btn-inactive\\n}\\nrow {\\nquadruple {\\nsmall-title, text, btn-orange\\n}\\nquadruple {\\nsmall-title, text, btn-red\\n}\\nquadruple {\\nsmall-title, text, btn-orange\\n}\\nquadruple {\\nsmall-title, text, btn-orange\\n}\\n}\\nrow {\\nsingle {\\nsmall-title, text, btn-green\\n}\\n}\\n', 'header {\\nbtn-active, btn-inactive\\n}\\nrow {\\nquadruple {\\nsmall-title, text, btn-orange\\n}\\nquadruple {\\nsmall-title, text, btn-red\\n}\\nquadruple {\\nsmall-title, text, btn-red\\n}\\nquadruple {\\nsmall-title, text, btn-orange\\n}\\n}\\nrow {\\nsingle {\\nsmall-title, text, btn-green\\n}\\n}\\n', 'header {\\nbtn-inactive, btn-inactive, btn-active, btn-inactive\\n}\\nrow {\\ndouble {\\nsmall-title, text, btn-red\\n}\\ndouble {\\nsmall-title, text, btn-orange\\n}\\n}\\nrow {\\ndouble {\\nsmall-title, text, btn-red\\n}\\ndouble {\\nsmall-title, text, btn-red\\n}\\n}\\n', 'header {\\nbtn-inactive, btn-inactive, btn-inactive, btn-active\\n}\\nrow {\\nquadruple {\\nsmall-title, text, btn-orange\\n}\\nquadruple {\\nsmall-title, text, btn-orange\\n}\\nquadruple {\\nsmall-title, text, btn-red\\n}\\nquadruple {\\nsmall-title, text, btn-orange\\n}\\n}\\nrow {\\ndouble {\\nsmall-title, text, btn-green\\n}\\ndouble {\\nsmall-title, text, btn-orange\\n}\\n}\\nrow {\\nsingle {\\nsmall-title, text, btn-red\\n}\\n}\\n', 'header {\\nbtn-inactive, btn-inactive, btn-active\\n}\\nrow {\\nquadruple {\\nsmall-title, text, btn-green\\n}\\nquadruple {\\nsmall-title, text, btn-orange\\n}\\nquadruple {\\nsmall-title, text, btn-orange\\n}\\nquadruple {\\nsmall-title, text, btn-red\\n}\\n}\\nrow {\\ndouble {\\nsmall-title, text, btn-red\\n}\\ndouble {\\nsmall-title, text, btn-orange\\n}\\n}\\n', 'header {\\nbtn-inactive, btn-inactive, btn-inactive, btn-active, btn-inactive\\n}\\nrow {\\nsingle {\\nsmall-title, text, btn-red\\n}\\n}\\nrow {\\ndouble {\\nsmall-title, text, btn-orange\\n}\\ndouble {\\nsmall-title, text, btn-green\\n}\\n}\\nrow {\\nquadruple {\\nsmall-title, text, btn-orange\\n}\\nquadruple {\\nsmall-title, text, btn-green\\n}\\nquadruple {\\nsmall-title, text, btn-red\\n}\\nquadruple {\\nsmall-title, text, btn-orange\\n}\\n}\\n', 'header {\\nbtn-inactive, btn-active, btn-inactive\\n}\\nrow {\\nsingle {\\nsmall-title, text, btn-red\\n}\\n}\\nrow {\\nquadruple {\\nsmall-title, text, btn-red\\n}\\nquadruple {\\nsmall-title, text, btn-orange\\n}\\nquadruple {\\nsmall-title, text, btn-red\\n}\\nquadruple {\\nsmall-title, text, btn-orange\\n}\\n}\\nrow {\\ndouble {\\nsmall-title, text, btn-green\\n}\\ndouble {\\nsmall-title, text, btn-red\\n}\\n}\\n', 'header {\\nbtn-inactive, btn-inactive, btn-active, btn-inactive, btn-inactive\\n}\\nrow {\\nsingle {\\nsmall-title, text, btn-red\\n}\\n}\\nrow {\\nquadruple {\\nsmall-title, text, btn-orange\\n}\\nquadruple {\\nsmall-title, text, btn-red\\n}\\nquadruple {\\nsmall-title, text, btn-orange\\n}\\nquadruple {\\nsmall-title, text, btn-green\\n}\\n}\\nrow {\\ndouble {\\nsmall-title, text, btn-orange\\n}\\ndouble {\\nsmall-title, text, btn-green\\n}\\n}\\n', 'header {\\nbtn-inactive, btn-inactive, btn-inactive, btn-inactive, btn-active\\n}\\nrow {\\nsingle {\\nsmall-title, text, btn-red\\n}\\n}\\nrow {\\ndouble {\\nsmall-title, text, btn-green\\n}\\ndouble {\\nsmall-title, text, btn-red\\n}\\n}\\n', 'header {\\nbtn-inactive, btn-active\\n}\\nrow {\\nsingle {\\nsmall-title, text, btn-orange\\n}\\n}\\nrow {\\ndouble {\\nsmall-title, text, btn-green\\n}\\ndouble {\\nsmall-title, text, btn-red\\n}\\n}\\nrow {\\nquadruple {\\nsmall-title, text, btn-orange\\n}\\nquadruple {\\nsmall-title, text, btn-red\\n}\\nquadruple {\\nsmall-title, text, btn-red\\n}\\nquadruple {\\nsmall-title, text, btn-green\\n}\\n}\\n', 'header {\\nbtn-inactive, btn-active, btn-inactive, btn-inactive, btn-inactive\\n}\\nrow {\\ndouble {\\nsmall-title, text, btn-orange\\n}\\ndouble {\\nsmall-title, text, btn-green\\n}\\n}\\nrow {\\nquadruple {\\nsmall-title, text, btn-red\\n}\\nquadruple {\\nsmall-title, text, btn-red\\n}\\nquadruple {\\nsmall-title, text, btn-orange\\n}\\nquadruple {\\nsmall-title, text, btn-red\\n}\\n}\\nrow {\\nsingle {\\nsmall-title, text, btn-green\\n}\\n}\\n', 'header {\\nbtn-inactive, btn-active, btn-inactive\\n}\\nrow {\\ndouble {\\nsmall-title, text, btn-red\\n}\\ndouble {\\nsmall-title, text, btn-green\\n}\\n}\\nrow {\\nquadruple {\\nsmall-title, text, btn-green\\n}\\nquadruple {\\nsmall-title, text, btn-orange\\n}\\nquadruple {\\nsmall-title, text, btn-green\\n}\\nquadruple {\\nsmall-title, text, btn-green\\n}\\n}\\nrow {\\ndouble {\\nsmall-title, text, btn-orange\\n}\\ndouble {\\nsmall-title, text, btn-orange\\n}\\n}\\n', 'header {\\nbtn-active, btn-inactive, btn-inactive, btn-inactive, btn-inactive\\n}\\nrow {\\nquadruple {\\nsmall-title, text, btn-green\\n}\\nquadruple {\\nsmall-title, text, btn-orange\\n}\\nquadruple {\\nsmall-title, text, btn-orange\\n}\\nquadruple {\\nsmall-title, text, btn-orange\\n}\\n}\\nrow {\\ndouble {\\nsmall-title, text, btn-green\\n}\\ndouble {\\nsmall-title, text, btn-green\\n}\\n}\\nrow {\\nsingle {\\nsmall-title, text, btn-red\\n}\\n}\\n', 'header {\\nbtn-active, btn-inactive, btn-inactive, btn-inactive, btn-inactive\\n}\\nrow {\\nquadruple {\\nsmall-title, text, btn-red\\n}\\nquadruple {\\nsmall-title, text, btn-green\\n}\\nquadruple {\\nsmall-title, text, btn-red\\n}\\nquadruple {\\nsmall-title, text, btn-orange\\n}\\n}\\nrow {\\nsingle {\\nsmall-title, text, btn-red\\n}\\n}\\nrow {\\ndouble {\\nsmall-title, text, btn-red\\n}\\ndouble {\\nsmall-title, text, btn-orange\\n}\\n}\\n', 'header {\\nbtn-inactive, btn-active, btn-inactive\\n}\\nrow {\\nquadruple {\\nsmall-title, text, btn-red\\n}\\nquadruple {\\nsmall-title, text, btn-green\\n}\\nquadruple {\\nsmall-title, text, btn-green\\n}\\nquadruple {\\nsmall-title, text, btn-red\\n}\\n}\\nrow {\\ndouble {\\nsmall-title, text, btn-red\\n}\\ndouble {\\nsmall-title, text, btn-orange\\n}\\n}\\nrow {\\nsingle {\\nsmall-title, text, btn-green\\n}\\n}\\n', 'header {\\nbtn-inactive, btn-active\\n}\\nrow {\\nsingle {\\nsmall-title, text, btn-orange\\n}\\n}\\nrow {\\ndouble {\\nsmall-title, text, btn-red\\n}\\ndouble {\\nsmall-title, text, btn-red\\n}\\n}\\nrow {\\nsingle {\\nsmall-title, text, btn-orange\\n}\\n}\\n', 'header {\\nbtn-inactive, btn-inactive, btn-active\\n}\\nrow {\\nquadruple {\\nsmall-title, text, btn-green\\n}\\nquadruple {\\nsmall-title, text, btn-orange\\n}\\nquadruple {\\nsmall-title, text, btn-orange\\n}\\nquadruple {\\nsmall-title, text, btn-green\\n}\\n}\\nrow {\\nsingle {\\nsmall-title, text, btn-red\\n}\\n}\\nrow {\\ndouble {\\nsmall-title, text, btn-red\\n}\\ndouble {\\nsmall-title, text, btn-red\\n}\\n}\\n', 'header {\\nbtn-inactive, btn-inactive, btn-inactive, btn-active\\n}\\nrow {\\nquadruple {\\nsmall-title, text, btn-green\\n}\\nquadruple {\\nsmall-title, text, btn-orange\\n}\\nquadruple {\\nsmall-title, text, btn-orange\\n}\\nquadruple {\\nsmall-title, text, btn-orange\\n}\\n}\\nrow {\\ndouble {\\nsmall-title, text, btn-red\\n}\\ndouble {\\nsmall-title, text, btn-green\\n}\\n}\\nrow {\\nsingle {\\nsmall-title, text, btn-red\\n}\\n}\\n', 'header {\\nbtn-inactive, btn-active\\n}\\nrow {\\nsingle {\\nsmall-title, text, btn-green\\n}\\n}\\n', 'header {\\nbtn-inactive, btn-active, btn-inactive, btn-inactive, btn-inactive\\n}\\nrow {\\nquadruple {\\nsmall-title, text, btn-orange\\n}\\nquadruple {\\nsmall-title, text, btn-orange\\n}\\nquadruple {\\nsmall-title, text, btn-green\\n}\\nquadruple {\\nsmall-title, text, btn-orange\\n}\\n}\\nrow {\\nsingle {\\nsmall-title, text, btn-red\\n}\\n}\\nrow {\\ndouble {\\nsmall-title, text, btn-red\\n}\\ndouble {\\nsmall-title, text, btn-red\\n}\\n}\\n', 'header {\\nbtn-inactive, btn-active, btn-inactive, btn-inactive\\n}\\nrow {\\nsingle {\\nsmall-title, text, btn-red\\n}\\n}\\n', 'header {\\nbtn-inactive, btn-inactive, btn-inactive, btn-inactive, btn-active\\n}\\nrow {\\ndouble {\\nsmall-title, text, btn-orange\\n}\\ndouble {\\nsmall-title, text, btn-red\\n}\\n}\\nrow {\\nsingle {\\nsmall-title, text, btn-green\\n}\\n}\\nrow {\\nquadruple {\\nsmall-title, text, btn-orange\\n}\\nquadruple {\\nsmall-title, text, btn-red\\n}\\nquadruple {\\nsmall-title, text, btn-orange\\n}\\nquadruple {\\nsmall-title, text, btn-red\\n}\\n}\\n', 'header {\\nbtn-inactive, btn-inactive, btn-inactive, btn-inactive, btn-active\\n}\\nrow {\\nsingle {\\nsmall-title, text, btn-red\\n}\\n}\\nrow {\\nquadruple {\\nsmall-title, text, btn-green\\n}\\nquadruple {\\nsmall-title, text, btn-green\\n}\\nquadruple {\\nsmall-title, text, btn-red\\n}\\nquadruple {\\nsmall-title, text, btn-green\\n}\\n}\\nrow {\\ndouble {\\nsmall-title, text, btn-orange\\n}\\ndouble {\\nsmall-title, text, btn-red\\n}\\n}\\n', 'header {\\nbtn-inactive, btn-active, btn-inactive, btn-inactive\\n}\\nrow {\\nsingle {\\nsmall-title, text, btn-red\\n}\\n}\\nrow {\\nsingle {\\nsmall-title, text, btn-red\\n}\\n}\\nrow {\\ndouble {\\nsmall-title, text, btn-green\\n}\\ndouble {\\nsmall-title, text, btn-green\\n}\\n}\\n', 'header {\\nbtn-inactive, btn-active, btn-inactive\\n}\\nrow {\\nquadruple {\\nsmall-title, text, btn-red\\n}\\nquadruple {\\nsmall-title, text, btn-green\\n}\\nquadruple {\\nsmall-title, text, btn-orange\\n}\\nquadruple {\\nsmall-title, text, btn-red\\n}\\n}\\nrow {\\nsingle {\\nsmall-title, text, btn-red\\n}\\n}\\n', 'header {\\nbtn-active, btn-inactive\\n}\\nrow {\\nsingle {\\nsmall-title, text, btn-orange\\n}\\n}\\nrow {\\nquadruple {\\nsmall-title, text, btn-red\\n}\\nquadruple {\\nsmall-title, text, btn-red\\n}\\nquadruple {\\nsmall-title, text, btn-red\\n}\\nquadruple {\\nsmall-title, text, btn-green\\n}\\n}\\nrow {\\ndouble {\\nsmall-title, text, btn-green\\n}\\ndouble {\\nsmall-title, text, btn-orange\\n}\\n}\\n', 'header {\\nbtn-inactive, btn-inactive, btn-active, btn-inactive\\n}\\nrow {\\nsingle {\\nsmall-title, text, btn-orange\\n}\\n}\\nrow {\\ndouble {\\nsmall-title, text, btn-orange\\n}\\ndouble {\\nsmall-title, text, btn-red\\n}\\n}\\nrow {\\nquadruple {\\nsmall-title, text, btn-red\\n}\\nquadruple {\\nsmall-title, text, btn-red\\n}\\nquadruple {\\nsmall-title, text, btn-green\\n}\\nquadruple {\\nsmall-title, text, btn-red\\n}\\n}\\n', 'header {\\nbtn-inactive, btn-active\\n}\\nrow {\\nquadruple {\\nsmall-title, text, btn-red\\n}\\nquadruple {\\nsmall-title, text, btn-green\\n}\\nquadruple {\\nsmall-title, text, btn-orange\\n}\\nquadruple {\\nsmall-title, text, btn-green\\n}\\n}\\nrow {\\ndouble {\\nsmall-title, text, btn-red\\n}\\ndouble {\\nsmall-title, text, btn-red\\n}\\n}\\nrow {\\nsingle {\\nsmall-title, text, btn-orange\\n}\\n}\\n', 'header {\\nbtn-active, btn-inactive\\n}\\nrow {\\ndouble {\\nsmall-title, text, btn-green\\n}\\ndouble {\\nsmall-title, text, btn-red\\n}\\n}\\n', 'header {\\nbtn-inactive, btn-inactive, btn-active\\n}\\nrow {\\ndouble {\\nsmall-title, text, btn-orange\\n}\\ndouble {\\nsmall-title, text, btn-green\\n}\\n}\\nrow {\\nsingle {\\nsmall-title, text, btn-red\\n}\\n}\\nrow {\\ndouble {\\nsmall-title, text, btn-orange\\n}\\ndouble {\\nsmall-title, text, btn-orange\\n}\\n}\\n', 'header {\\nbtn-inactive, btn-inactive, btn-active, btn-inactive, btn-inactive\\n}\\nrow {\\nquadruple {\\nsmall-title, text, btn-red\\n}\\nquadruple {\\nsmall-title, text, btn-orange\\n}\\nquadruple {\\nsmall-title, text, btn-orange\\n}\\nquadruple {\\nsmall-title, text, btn-green\\n}\\n}\\nrow {\\nsingle {\\nsmall-title, text, btn-orange\\n}\\n}\\nrow {\\ndouble {\\nsmall-title, text, btn-red\\n}\\ndouble {\\nsmall-title, text, btn-red\\n}\\n}\\n', 'header {\\nbtn-inactive, btn-inactive, btn-active, btn-inactive\\n}\\nrow {\\ndouble {\\nsmall-title, text, btn-orange\\n}\\ndouble {\\nsmall-title, text, btn-red\\n}\\n}\\nrow {\\nquadruple {\\nsmall-title, text, btn-orange\\n}\\nquadruple {\\nsmall-title, text, btn-orange\\n}\\nquadruple {\\nsmall-title, text, btn-green\\n}\\nquadruple {\\nsmall-title, text, btn-red\\n}\\n}\\nrow {\\nsingle {\\nsmall-title, text, btn-orange\\n}\\n}\\n', 'header {\\nbtn-inactive, btn-inactive, btn-inactive, btn-active, btn-inactive\\n}\\nrow {\\ndouble {\\nsmall-title, text, btn-green\\n}\\ndouble {\\nsmall-title, text, btn-orange\\n}\\n}\\n', 'header {\\nbtn-active, btn-inactive, btn-inactive\\n}\\nrow {\\ndouble {\\nsmall-title, text, btn-red\\n}\\ndouble {\\nsmall-title, text, btn-orange\\n}\\n}\\nrow {\\nsingle {\\nsmall-title, text, btn-orange\\n}\\n}\\nrow {\\nquadruple {\\nsmall-title, text, btn-green\\n}\\nquadruple {\\nsmall-title, text, btn-red\\n}\\nquadruple {\\nsmall-title, text, btn-red\\n}\\nquadruple {\\nsmall-title, text, btn-red\\n}\\n}\\n', 'header {\\nbtn-inactive, btn-inactive, btn-active, btn-inactive, btn-inactive\\n}\\nrow {\\nquadruple {\\nsmall-title, text, btn-orange\\n}\\nquadruple {\\nsmall-title, text, btn-orange\\n}\\nquadruple {\\nsmall-title, text, btn-red\\n}\\nquadruple {\\nsmall-title, text, btn-red\\n}\\n}\\nrow {\\ndouble {\\nsmall-title, text, btn-red\\n}\\ndouble {\\nsmall-title, text, btn-red\\n}\\n}\\nrow {\\nsingle {\\nsmall-title, text, btn-orange\\n}\\n}\\n', 'header {\\nbtn-active, btn-inactive, btn-inactive\\n}\\nrow {\\ndouble {\\nsmall-title, text, btn-red\\n}\\ndouble {\\nsmall-title, text, btn-orange\\n}\\n}\\nrow {\\nquadruple {\\nsmall-title, text, btn-red\\n}\\nquadruple {\\nsmall-title, text, btn-orange\\n}\\nquadruple {\\nsmall-title, text, btn-red\\n}\\nquadruple {\\nsmall-title, text, btn-red\\n}\\n}\\nrow {\\nsingle {\\nsmall-title, text, btn-red\\n}\\n}\\n', 'header {\\nbtn-inactive, btn-active\\n}\\nrow {\\nquadruple {\\nsmall-title, text, btn-orange\\n}\\nquadruple {\\nsmall-title, text, btn-green\\n}\\nquadruple {\\nsmall-title, text, btn-green\\n}\\nquadruple {\\nsmall-title, text, btn-orange\\n}\\n}\\nrow {\\ndouble {\\nsmall-title, text, btn-orange\\n}\\ndouble {\\nsmall-title, text, btn-green\\n}\\n}\\n', 'header {\\nbtn-inactive, btn-active\\n}\\nrow {\\nsingle {\\nsmall-title, text, btn-red\\n}\\n}\\nrow {\\nsingle {\\nsmall-title, text, btn-green\\n}\\n}\\nrow {\\nsingle {\\nsmall-title, text, btn-red\\n}\\n}\\n', 'header {\\nbtn-inactive, btn-inactive, btn-active\\n}\\nrow {\\nquadruple {\\nsmall-title, text, btn-green\\n}\\nquadruple {\\nsmall-title, text, btn-orange\\n}\\nquadruple {\\nsmall-title, text, btn-orange\\n}\\nquadruple {\\nsmall-title, text, btn-orange\\n}\\n}\\nrow {\\ndouble {\\nsmall-title, text, btn-orange\\n}\\ndouble {\\nsmall-title, text, btn-orange\\n}\\n}\\nrow {\\nsingle {\\nsmall-title, text, btn-red\\n}\\n}\\n', 'header {\\nbtn-active, btn-inactive, btn-inactive, btn-inactive\\n}\\nrow {\\ndouble {\\nsmall-title, text, btn-red\\n}\\ndouble {\\nsmall-title, text, btn-red\\n}\\n}\\nrow {\\nsingle {\\nsmall-title, text, btn-orange\\n}\\n}\\nrow {\\nquadruple {\\nsmall-title, text, btn-red\\n}\\nquadruple {\\nsmall-title, text, btn-orange\\n}\\nquadruple {\\nsmall-title, text, btn-orange\\n}\\nquadruple {\\nsmall-title, text, btn-green\\n}\\n}\\n', 'header {\\nbtn-inactive, btn-active, btn-inactive\\n}\\nrow {\\ndouble {\\nsmall-title, text, btn-orange\\n}\\ndouble {\\nsmall-title, text, btn-orange\\n}\\n}\\nrow {\\nsingle {\\nsmall-title, text, btn-orange\\n}\\n}\\nrow {\\nquadruple {\\nsmall-title, text, btn-green\\n}\\nquadruple {\\nsmall-title, text, btn-red\\n}\\nquadruple {\\nsmall-title, text, btn-orange\\n}\\nquadruple {\\nsmall-title, text, btn-green\\n}\\n}\\n', 'header {\\nbtn-inactive, btn-inactive, btn-inactive, btn-inactive, btn-active\\n}\\nrow {\\nsingle {\\nsmall-title, text, btn-green\\n}\\n}\\nrow {\\ndouble {\\nsmall-title, text, btn-red\\n}\\ndouble {\\nsmall-title, text, btn-orange\\n}\\n}\\nrow {\\nquadruple {\\nsmall-title, text, btn-green\\n}\\nquadruple {\\nsmall-title, text, btn-red\\n}\\nquadruple {\\nsmall-title, text, btn-red\\n}\\nquadruple {\\nsmall-title, text, btn-orange\\n}\\n}\\n', 'header {\\nbtn-inactive, btn-active, btn-inactive, btn-inactive\\n}\\nrow {\\ndouble {\\nsmall-title, text, btn-green\\n}\\ndouble {\\nsmall-title, text, btn-green\\n}\\n}\\nrow {\\nsingle {\\nsmall-title, text, btn-green\\n}\\n}\\nrow {\\nquadruple {\\nsmall-title, text, btn-red\\n}\\nquadruple {\\nsmall-title, text, btn-orange\\n}\\nquadruple {\\nsmall-title, text, btn-green\\n}\\nquadruple {\\nsmall-title, text, btn-orange\\n}\\n}\\n', 'header {\\nbtn-active, btn-inactive\\n}\\nrow {\\nsingle {\\nsmall-title, text, btn-green\\n}\\n}\\nrow {\\nquadruple {\\nsmall-title, text, btn-orange\\n}\\nquadruple {\\nsmall-title, text, btn-red\\n}\\nquadruple {\\nsmall-title, text, btn-orange\\n}\\nquadruple {\\nsmall-title, text, btn-green\\n}\\n}\\nrow {\\ndouble {\\nsmall-title, text, btn-orange\\n}\\ndouble {\\nsmall-title, text, btn-green\\n}\\n}\\n', 'header {\\nbtn-inactive, btn-inactive, btn-inactive, btn-active, btn-inactive\\n}\\nrow {\\ndouble {\\nsmall-title, text, btn-green\\n}\\ndouble {\\nsmall-title, text, btn-red\\n}\\n}\\nrow {\\nsingle {\\nsmall-title, text, btn-green\\n}\\n}\\nrow {\\nquadruple {\\nsmall-title, text, btn-green\\n}\\nquadruple {\\nsmall-title, text, btn-green\\n}\\nquadruple {\\nsmall-title, text, btn-green\\n}\\nquadruple {\\nsmall-title, text, btn-orange\\n}\\n}\\n', 'header {\\nbtn-active, btn-inactive\\n}\\nrow {\\nquadruple {\\nsmall-title, text, btn-green\\n}\\nquadruple {\\nsmall-title, text, btn-green\\n}\\nquadruple {\\nsmall-title, text, btn-orange\\n}\\nquadruple {\\nsmall-title, text, btn-green\\n}\\n}\\n', 'header {\\nbtn-active, btn-inactive\\n}\\nrow {\\nsingle {\\nsmall-title, text, btn-orange\\n}\\n}\\nrow {\\nquadruple {\\nsmall-title, text, btn-red\\n}\\nquadruple {\\nsmall-title, text, btn-red\\n}\\nquadruple {\\nsmall-title, text, btn-orange\\n}\\nquadruple {\\nsmall-title, text, btn-red\\n}\\n}\\nrow {\\ndouble {\\nsmall-title, text, btn-orange\\n}\\ndouble {\\nsmall-title, text, btn-orange\\n}\\n}\\n', 'header {\\nbtn-inactive, btn-inactive, btn-inactive, btn-inactive, btn-active\\n}\\nrow {\\nsingle {\\nsmall-title, text, btn-green\\n}\\n}\\nrow {\\nquadruple {\\nsmall-title, text, btn-green\\n}\\nquadruple {\\nsmall-title, text, btn-green\\n}\\nquadruple {\\nsmall-title, text, btn-green\\n}\\nquadruple {\\nsmall-title, text, btn-red\\n}\\n}\\nrow {\\ndouble {\\nsmall-title, text, btn-red\\n}\\ndouble {\\nsmall-title, text, btn-red\\n}\\n}\\n', 'header {\\nbtn-inactive, btn-inactive, btn-active\\n}\\nrow {\\nquadruple {\\nsmall-title, text, btn-orange\\n}\\nquadruple {\\nsmall-title, text, btn-orange\\n}\\nquadruple {\\nsmall-title, text, btn-orange\\n}\\nquadruple {\\nsmall-title, text, btn-red\\n}\\n}\\nrow {\\nsingle {\\nsmall-title, text, btn-red\\n}\\n}\\nrow {\\ndouble {\\nsmall-title, text, btn-orange\\n}\\ndouble {\\nsmall-title, text, btn-orange\\n}\\n}\\n', 'header {\\nbtn-active, btn-inactive, btn-inactive\\n}\\nrow {\\nquadruple {\\nsmall-title, text, btn-orange\\n}\\nquadruple {\\nsmall-title, text, btn-orange\\n}\\nquadruple {\\nsmall-title, text, btn-green\\n}\\nquadruple {\\nsmall-title, text, btn-orange\\n}\\n}\\nrow {\\nquadruple {\\nsmall-title, text, btn-red\\n}\\nquadruple {\\nsmall-title, text, btn-green\\n}\\nquadruple {\\nsmall-title, text, btn-orange\\n}\\nquadruple {\\nsmall-title, text, btn-orange\\n}\\n}\\nrow {\\ndouble {\\nsmall-title, text, btn-orange\\n}\\ndouble {\\nsmall-title, text, btn-red\\n}\\n}\\n', 'header {\\nbtn-active, btn-inactive, btn-inactive\\n}\\nrow {\\ndouble {\\nsmall-title, text, btn-red\\n}\\ndouble {\\nsmall-title, text, btn-green\\n}\\n}\\nrow {\\nquadruple {\\nsmall-title, text, btn-orange\\n}\\nquadruple {\\nsmall-title, text, btn-green\\n}\\nquadruple {\\nsmall-title, text, btn-green\\n}\\nquadruple {\\nsmall-title, text, btn-green\\n}\\n}\\nrow {\\nsingle {\\nsmall-title, text, btn-green\\n}\\n}\\n', 'header {\\nbtn-inactive, btn-active, btn-inactive, btn-inactive, btn-inactive\\n}\\nrow {\\ndouble {\\nsmall-title, text, btn-orange\\n}\\ndouble {\\nsmall-title, text, btn-green\\n}\\n}\\nrow {\\nsingle {\\nsmall-title, text, btn-red\\n}\\n}\\nrow {\\nquadruple {\\nsmall-title, text, btn-orange\\n}\\nquadruple {\\nsmall-title, text, btn-orange\\n}\\nquadruple {\\nsmall-title, text, btn-green\\n}\\nquadruple {\\nsmall-title, text, btn-green\\n}\\n}\\n', 'header {\\nbtn-inactive, btn-active\\n}\\nrow {\\nsingle {\\nsmall-title, text, btn-orange\\n}\\n}\\nrow {\\nquadruple {\\nsmall-title, text, btn-green\\n}\\nquadruple {\\nsmall-title, text, btn-orange\\n}\\nquadruple {\\nsmall-title, text, btn-green\\n}\\nquadruple {\\nsmall-title, text, btn-orange\\n}\\n}\\n', 'header {\\nbtn-active, btn-inactive, btn-inactive\\n}\\nrow {\\ndouble {\\nsmall-title, text, btn-red\\n}\\ndouble {\\nsmall-title, text, btn-orange\\n}\\n}\\nrow {\\nsingle {\\nsmall-title, text, btn-orange\\n}\\n}\\nrow {\\nquadruple {\\nsmall-title, text, btn-orange\\n}\\nquadruple {\\nsmall-title, text, btn-orange\\n}\\nquadruple {\\nsmall-title, text, btn-orange\\n}\\nquadruple {\\nsmall-title, text, btn-orange\\n}\\n}\\n', 'header {\\nbtn-inactive, btn-active\\n}\\nrow {\\ndouble {\\nsmall-title, text, btn-orange\\n}\\ndouble {\\nsmall-title, text, btn-orange\\n}\\n}\\n']\n"
          ]
        }
      ]
    },
    {
      "cell_type": "code",
      "source": [
        "len(captions_doc)"
      ],
      "metadata": {
        "colab": {
          "base_uri": "https://localhost:8080/"
        },
        "id": "mvjl1sJjNeJL",
        "outputId": "5f898d1c-8cc9-4a0e-9fb4-138517bc060e"
      },
      "execution_count": 12,
      "outputs": [
        {
          "output_type": "execute_result",
          "data": {
            "text/plain": [
              "300"
            ]
          },
          "metadata": {},
          "execution_count": 12
        }
      ]
    },
    {
      "cell_type": "code",
      "source": [
        "mapping={}\n",
        "for line,image in zip(captions_doc,os.listdir(imgs_path)):\n",
        "    # print(line,image)\n",
        "    image_id = image.split('.')[0]\n",
        "    # convert caption list to string\n",
        "    # caption = \" \".join(line)\n",
        "    # create list if needed\n",
        "    if image_id not in mapping:\n",
        "        mapping[image_id] = []\n",
        "    # store the caption\n",
        "    mapping[image_id].append(line)\n"
      ],
      "metadata": {
        "id": "4Iyf0CZUNmPH"
      },
      "execution_count": 13,
      "outputs": []
    },
    {
      "cell_type": "code",
      "source": [
        "mapping"
      ],
      "metadata": {
        "colab": {
          "base_uri": "https://localhost:8080/"
        },
        "id": "VuZ1mYbTO_Pl",
        "outputId": "3c5c7f29-acb9-4770-f7c4-eda71f1eaed7"
      },
      "execution_count": 14,
      "outputs": [
        {
          "output_type": "execute_result",
          "data": {
            "text/plain": [
              "{'01357379-D6C2-4B01-AA66-C8790642D0B1': ['header {\\nbtn-inactive, btn-inactive, btn-inactive, btn-active, btn-inactive\\n}\\nrow {\\nquadruple {\\nsmall-title, text, btn-red\\n}\\nquadruple {\\nsmall-title, text, btn-orange\\n}\\nquadruple {\\nsmall-title, text, btn-red\\n}\\nquadruple {\\nsmall-title, text, btn-orange\\n}\\n}\\nrow {\\nsingle {\\nsmall-title, text, btn-green\\n}\\n}\\nrow {\\ndouble {\\nsmall-title, text, btn-red\\n}\\ndouble {\\nsmall-title, text, btn-orange\\n}\\n}\\n'],\n",
              " '01B6145F-B88B-4FF8-B7D7-BB8A321EDA85': ['header {\\nbtn-inactive, btn-inactive, btn-active, btn-inactive, btn-inactive\\n}\\nrow {\\nsingle {\\nsmall-title, text, btn-orange\\n}\\n}\\nrow {\\nquadruple {\\nsmall-title, text, btn-orange\\n}\\nquadruple {\\nsmall-title, text, btn-orange\\n}\\nquadruple {\\nsmall-title, text, btn-red\\n}\\nquadruple {\\nsmall-title, text, btn-orange\\n}\\n}\\nrow {\\nsingle {\\nsmall-title, text, btn-red\\n}\\n}\\n'],\n",
              " '02C4C780-79EA-43F1-B2AE-3A2C757F874C': ['header {\\nbtn-inactive, btn-inactive, btn-active\\n}\\nrow {\\ndouble {\\nsmall-title, text, btn-green\\n}\\ndouble {\\nsmall-title, text, btn-green\\n}\\n}\\nrow {\\ndouble {\\nsmall-title, text, btn-red\\n}\\ndouble {\\nsmall-title, text, btn-orange\\n}\\n}\\nrow {\\nsingle {\\nsmall-title, text, btn-red\\n}\\n}\\n'],\n",
              " '03806667-47A8-4965-8E93-21E205D5E8A7': ['header {\\nbtn-inactive, btn-active\\n}\\nrow {\\nquadruple {\\nsmall-title, text, btn-red\\n}\\nquadruple {\\nsmall-title, text, btn-red\\n}\\nquadruple {\\nsmall-title, text, btn-green\\n}\\nquadruple {\\nsmall-title, text, btn-red\\n}\\n}\\nrow {\\nsingle {\\nsmall-title, text, btn-red\\n}\\n}\\nrow {\\ndouble {\\nsmall-title, text, btn-orange\\n}\\ndouble {\\nsmall-title, text, btn-orange\\n}\\n}\\n'],\n",
              " '042B145D-1E0D-47CB-B16C-7F49B64DFF53': ['header {\\nbtn-active, btn-inactive\\n}\\nrow {\\nsingle {\\nsmall-title, text, btn-orange\\n}\\n}\\nrow {\\nquadruple {\\nsmall-title, text, btn-red\\n}\\nquadruple {\\nsmall-title, text, btn-red\\n}\\nquadruple {\\nsmall-title, text, btn-red\\n}\\nquadruple {\\nsmall-title, text, btn-green\\n}\\n}\\nrow {\\ndouble {\\nsmall-title, text, btn-green\\n}\\ndouble {\\nsmall-title, text, btn-orange\\n}\\n}\\n'],\n",
              " '0517B767-FC77-46BC-A715-ACC170F416FA': ['header {\\nbtn-active, btn-inactive, btn-inactive\\n}\\nrow {\\nquadruple {\\nsmall-title, text, btn-orange\\n}\\nquadruple {\\nsmall-title, text, btn-orange\\n}\\nquadruple {\\nsmall-title, text, btn-green\\n}\\nquadruple {\\nsmall-title, text, btn-green\\n}\\n}\\nrow {\\nsingle {\\nsmall-title, text, btn-red\\n}\\n}\\nrow {\\ndouble {\\nsmall-title, text, btn-red\\n}\\ndouble {\\nsmall-title, text, btn-red\\n}\\n}\\n'],\n",
              " '0566F61B-9B69-4A36-B868-3BDB4FB19CB8': ['header {\\nbtn-active, btn-inactive, btn-inactive, btn-inactive\\n}\\nrow {\\nquadruple {\\nsmall-title, text, btn-green\\n}\\nquadruple {\\nsmall-title, text, btn-red\\n}\\nquadruple {\\nsmall-title, text, btn-red\\n}\\nquadruple {\\nsmall-title, text, btn-red\\n}\\n}\\nrow {\\ndouble {\\nsmall-title, text, btn-green\\n}\\ndouble {\\nsmall-title, text, btn-red\\n}\\n}\\nrow {\\nsingle {\\nsmall-title, text, btn-green\\n}\\n}\\n'],\n",
              " '06A7AA3D-77F0-4A63-BA9F-CBA4F1CE8EC0': ['header {\\nbtn-active, btn-inactive\\n}\\nrow {\\ndouble {\\nsmall-title, text, btn-orange\\n}\\ndouble {\\nsmall-title, text, btn-green\\n}\\n}\\nrow {\\nquadruple {\\nsmall-title, text, btn-green\\n}\\nquadruple {\\nsmall-title, text, btn-green\\n}\\nquadruple {\\nsmall-title, text, btn-green\\n}\\nquadruple {\\nsmall-title, text, btn-green\\n}\\n}\\nrow {\\nsingle {\\nsmall-title, text, btn-green\\n}\\n}\\n'],\n",
              " '073F6243-61ED-43CD-B805-9A1F406F163B': ['header {\\nbtn-inactive, btn-active, btn-inactive, btn-inactive, btn-inactive\\n}\\nrow {\\ndouble {\\nsmall-title, text, btn-red\\n}\\ndouble {\\nsmall-title, text, btn-orange\\n}\\n}\\nrow {\\nsingle {\\nsmall-title, text, btn-orange\\n}\\n}\\nrow {\\nquadruple {\\nsmall-title, text, btn-green\\n}\\nquadruple {\\nsmall-title, text, btn-green\\n}\\nquadruple {\\nsmall-title, text, btn-green\\n}\\nquadruple {\\nsmall-title, text, btn-orange\\n}\\n}\\n'],\n",
              " '08451415-0C4B-4650-A2D0-2381AA7DBC71': ['header {\\nbtn-inactive, btn-active\\n}\\nrow {\\nquadruple {\\nsmall-title, text, btn-orange\\n}\\nquadruple {\\nsmall-title, text, btn-green\\n}\\nquadruple {\\nsmall-title, text, btn-green\\n}\\nquadruple {\\nsmall-title, text, btn-orange\\n}\\n}\\nrow {\\ndouble {\\nsmall-title, text, btn-orange\\n}\\ndouble {\\nsmall-title, text, btn-green\\n}\\n}\\n'],\n",
              " '09697EC7-054A-4354-88CB-A620190F4971': ['header {\\nbtn-active, btn-inactive\\n}\\nrow {\\nquadruple {\\nsmall-title, text, btn-green\\n}\\nquadruple {\\nsmall-title, text, btn-orange\\n}\\nquadruple {\\nsmall-title, text, btn-orange\\n}\\nquadruple {\\nsmall-title, text, btn-green\\n}\\n}\\nrow {\\ndouble {\\nsmall-title, text, btn-red\\n}\\ndouble {\\nsmall-title, text, btn-green\\n}\\n}\\nrow {\\nsingle {\\nsmall-title, text, btn-orange\\n}\\n}\\n'],\n",
              " '0BA2A4B4-4193-4506-8818-31564225EF8B': ['header {\\nbtn-inactive, btn-active, btn-inactive\\n}\\nrow {\\ndouble {\\nsmall-title, text, btn-orange\\n}\\ndouble {\\nsmall-title, text, btn-green\\n}\\n}\\nrow {\\nquadruple {\\nsmall-title, text, btn-orange\\n}\\nquadruple {\\nsmall-title, text, btn-orange\\n}\\nquadruple {\\nsmall-title, text, btn-green\\n}\\nquadruple {\\nsmall-title, text, btn-red\\n}\\n}\\nrow {\\nsingle {\\nsmall-title, text, btn-green\\n}\\n}\\n'],\n",
              " '0CE3600B-2BDB-4DE3-AA85-2D7D400680FF': ['header {\\nbtn-active, btn-inactive\\n}\\nrow {\\nquadruple {\\nsmall-title, text, btn-orange\\n}\\nquadruple {\\nsmall-title, text, btn-red\\n}\\nquadruple {\\nsmall-title, text, btn-red\\n}\\nquadruple {\\nsmall-title, text, btn-red\\n}\\n}\\nrow {\\nsingle {\\nsmall-title, text, btn-orange\\n}\\n}\\nrow {\\ndouble {\\nsmall-title, text, btn-orange\\n}\\ndouble {\\nsmall-title, text, btn-red\\n}\\n}\\n'],\n",
              " '0D864C09-F659-47FE-A0EA-7347E2963397': ['header {\\nbtn-inactive, btn-inactive, btn-active, btn-inactive\\n}\\nrow {\\ndouble {\\nsmall-title, text, btn-red\\n}\\ndouble {\\nsmall-title, text, btn-green\\n}\\n}\\n'],\n",
              " '0E3A4C67-C470-41F0-902D-3EB3B92E883E': ['header {\\nbtn-inactive, btn-active\\n}\\nrow {\\nsingle {\\nsmall-title, text, btn-orange\\n}\\n}\\nrow {\\ndouble {\\nsmall-title, text, btn-red\\n}\\ndouble {\\nsmall-title, text, btn-red\\n}\\n}\\nrow {\\nsingle {\\nsmall-title, text, btn-orange\\n}\\n}\\n'],\n",
              " '0EBD0467-076F-4946-8549-C3EEF47F37AF': ['header {\\nbtn-inactive, btn-active, btn-inactive, btn-inactive\\n}\\nrow {\\nsingle {\\nsmall-title, text, btn-red\\n}\\n}\\nrow {\\nsingle {\\nsmall-title, text, btn-red\\n}\\n}\\nrow {\\ndouble {\\nsmall-title, text, btn-green\\n}\\ndouble {\\nsmall-title, text, btn-green\\n}\\n}\\n'],\n",
              " '0EF165CE-974C-4747-92BB-C16156BF7944': ['header {\\nbtn-active, btn-inactive, btn-inactive, btn-inactive, btn-inactive\\n}\\nrow {\\nsingle {\\nsmall-title, text, btn-orange\\n}\\n}\\nrow {\\nquadruple {\\nsmall-title, text, btn-orange\\n}\\nquadruple {\\nsmall-title, text, btn-green\\n}\\nquadruple {\\nsmall-title, text, btn-red\\n}\\nquadruple {\\nsmall-title, text, btn-green\\n}\\n}\\nrow {\\ndouble {\\nsmall-title, text, btn-orange\\n}\\ndouble {\\nsmall-title, text, btn-green\\n}\\n}\\n'],\n",
              " '0FBAB0B3-24CB-42EF-8803-BFDEB8C3EFDC': ['header {\\nbtn-inactive, btn-inactive, btn-inactive, btn-active, btn-inactive\\n}\\nrow {\\nquadruple {\\nsmall-title, text, btn-orange\\n}\\nquadruple {\\nsmall-title, text, btn-orange\\n}\\nquadruple {\\nsmall-title, text, btn-green\\n}\\nquadruple {\\nsmall-title, text, btn-green\\n}\\n}\\nrow {\\nsingle {\\nsmall-title, text, btn-orange\\n}\\n}\\nrow {\\ndouble {\\nsmall-title, text, btn-red\\n}\\ndouble {\\nsmall-title, text, btn-red\\n}\\n}\\n'],\n",
              " '112913FD-F61A-4D30-923B-F8A20EF505AC': ['header {\\nbtn-inactive, btn-active, btn-inactive, btn-inactive\\n}\\nrow {\\ndouble {\\nsmall-title, text, btn-orange\\n}\\ndouble {\\nsmall-title, text, btn-red\\n}\\n}\\nrow {\\nsingle {\\nsmall-title, text, btn-green\\n}\\n}\\nrow {\\nquadruple {\\nsmall-title, text, btn-orange\\n}\\nquadruple {\\nsmall-title, text, btn-red\\n}\\nquadruple {\\nsmall-title, text, btn-orange\\n}\\nquadruple {\\nsmall-title, text, btn-red\\n}\\n}\\n'],\n",
              " '126F52F9-D9E8-43C4-9AAC-CC3A8BA6BCF7': ['header {\\nbtn-inactive, btn-active\\n}\\nrow {\\nquadruple {\\nsmall-title, text, btn-orange\\n}\\nquadruple {\\nsmall-title, text, btn-orange\\n}\\nquadruple {\\nsmall-title, text, btn-red\\n}\\nquadruple {\\nsmall-title, text, btn-orange\\n}\\n}\\nrow {\\nsingle {\\nsmall-title, text, btn-green\\n}\\n}\\nrow {\\ndouble {\\nsmall-title, text, btn-orange\\n}\\ndouble {\\nsmall-title, text, btn-green\\n}\\n}\\n'],\n",
              " '134BA84E-B4B2-4262-9278-F7E3B12E95CA': ['header {\\nbtn-inactive, btn-inactive, btn-active\\n}\\nrow {\\ndouble {\\nsmall-title, text, btn-orange\\n}\\ndouble {\\nsmall-title, text, btn-green\\n}\\n}\\nrow {\\nsingle {\\nsmall-title, text, btn-red\\n}\\n}\\nrow {\\ndouble {\\nsmall-title, text, btn-orange\\n}\\ndouble {\\nsmall-title, text, btn-orange\\n}\\n}\\n'],\n",
              " '15A48BCF-D9F2-4D59-87D2-977E340782E4': ['header {\\nbtn-inactive, btn-inactive, btn-active\\n}\\nrow {\\nquadruple {\\nsmall-title, text, btn-red\\n}\\nquadruple {\\nsmall-title, text, btn-orange\\n}\\nquadruple {\\nsmall-title, text, btn-orange\\n}\\nquadruple {\\nsmall-title, text, btn-orange\\n}\\n}\\nrow {\\ndouble {\\nsmall-title, text, btn-red\\n}\\ndouble {\\nsmall-title, text, btn-red\\n}\\n}\\nrow {\\nsingle {\\nsmall-title, text, btn-red\\n}\\n}\\n'],\n",
              " '166E414E-0001-4520-9354-B34BA5DE5A0E': ['header {\\nbtn-active, btn-inactive\\n}\\nrow {\\ndouble {\\nsmall-title, text, btn-green\\n}\\ndouble {\\nsmall-title, text, btn-orange\\n}\\n}\\nrow {\\nsingle {\\nsmall-title, text, btn-red\\n}\\n}\\nrow {\\ndouble {\\nsmall-title, text, btn-red\\n}\\ndouble {\\nsmall-title, text, btn-red\\n}\\n}\\n'],\n",
              " '16BDC373-989E-46D0-9390-A446E776F023': ['header {\\nbtn-inactive, btn-active\\n}\\nrow {\\nsingle {\\nsmall-title, text, btn-orange\\n}\\n}\\nrow {\\nquadruple {\\nsmall-title, text, btn-red\\n}\\nquadruple {\\nsmall-title, text, btn-green\\n}\\nquadruple {\\nsmall-title, text, btn-green\\n}\\nquadruple {\\nsmall-title, text, btn-green\\n}\\n}\\nrow {\\ndouble {\\nsmall-title, text, btn-red\\n}\\ndouble {\\nsmall-title, text, btn-red\\n}\\n}\\n'],\n",
              " '178E8EFA-5920-45B3-BAF5-6360A5BFA724': ['header {\\nbtn-inactive, btn-inactive, btn-inactive, btn-inactive, btn-active\\n}\\nrow {\\nsingle {\\nsmall-title, text, btn-red\\n}\\n}\\nrow {\\nquadruple {\\nsmall-title, text, btn-green\\n}\\nquadruple {\\nsmall-title, text, btn-green\\n}\\nquadruple {\\nsmall-title, text, btn-red\\n}\\nquadruple {\\nsmall-title, text, btn-green\\n}\\n}\\nrow {\\ndouble {\\nsmall-title, text, btn-orange\\n}\\ndouble {\\nsmall-title, text, btn-red\\n}\\n}\\n'],\n",
              " '17C0EF6F-8E6D-404A-9C76-B2F25E3486FB': ['header {\\nbtn-active, btn-inactive\\n}\\nrow {\\nsingle {\\nsmall-title, text, btn-red\\n}\\n}\\nrow {\\ndouble {\\nsmall-title, text, btn-green\\n}\\ndouble {\\nsmall-title, text, btn-orange\\n}\\n}\\nrow {\\nquadruple {\\nsmall-title, text, btn-orange\\n}\\nquadruple {\\nsmall-title, text, btn-red\\n}\\nquadruple {\\nsmall-title, text, btn-orange\\n}\\nquadruple {\\nsmall-title, text, btn-orange\\n}\\n}\\n'],\n",
              " '18533A43-8768-4436-84F3-8F53AE95B508': ['header {\\nbtn-inactive, btn-active, btn-inactive\\n}\\nrow {\\nsingle {\\nsmall-title, text, btn-red\\n}\\n}\\nrow {\\nsingle {\\nsmall-title, text, btn-orange\\n}\\n}\\n'],\n",
              " '1905468B-853B-497B-9DFB-54FEAB9CB0A6': ['header {\\nbtn-inactive, btn-active, btn-inactive, btn-inactive, btn-inactive\\n}\\nrow {\\nsingle {\\nsmall-title, text, btn-green\\n}\\n}\\nrow {\\nquadruple {\\nsmall-title, text, btn-orange\\n}\\nquadruple {\\nsmall-title, text, btn-orange\\n}\\nquadruple {\\nsmall-title, text, btn-green\\n}\\nquadruple {\\nsmall-title, text, btn-red\\n}\\n}\\nrow {\\ndouble {\\nsmall-title, text, btn-orange\\n}\\ndouble {\\nsmall-title, text, btn-red\\n}\\n}\\n'],\n",
              " '1995EC8A-7971-49B8-8FB3-B2F0563E6414': ['header {\\nbtn-active, btn-inactive, btn-inactive\\n}\\nrow {\\nsingle {\\nsmall-title, text, btn-orange\\n}\\n}\\nrow {\\nquadruple {\\nsmall-title, text, btn-red\\n}\\nquadruple {\\nsmall-title, text, btn-green\\n}\\nquadruple {\\nsmall-title, text, btn-green\\n}\\nquadruple {\\nsmall-title, text, btn-green\\n}\\n}\\nrow {\\ndouble {\\nsmall-title, text, btn-orange\\n}\\ndouble {\\nsmall-title, text, btn-red\\n}\\n}\\n'],\n",
              " '1B509DF8-DD9C-48D9-8614-0D12F2B73EB2': ['header {\\nbtn-active, btn-inactive, btn-inactive\\n}\\nrow {\\ndouble {\\nsmall-title, text, btn-orange\\n}\\ndouble {\\nsmall-title, text, btn-orange\\n}\\n}\\n'],\n",
              " '1BED7064-5591-4085-8319-76FA6E3CC306': ['header {\\nbtn-inactive, btn-inactive, btn-active\\n}\\nrow {\\nquadruple {\\nsmall-title, text, btn-green\\n}\\nquadruple {\\nsmall-title, text, btn-orange\\n}\\nquadruple {\\nsmall-title, text, btn-green\\n}\\nquadruple {\\nsmall-title, text, btn-orange\\n}\\n}\\nrow {\\ndouble {\\nsmall-title, text, btn-orange\\n}\\ndouble {\\nsmall-title, text, btn-green\\n}\\n}\\nrow {\\nsingle {\\nsmall-title, text, btn-orange\\n}\\n}\\n'],\n",
              " '1D70C31F-C198-4159-8388-18CB2BDA15D6': ['header {\\nbtn-inactive, btn-inactive, btn-inactive, btn-inactive, btn-active\\n}\\nrow {\\nsingle {\\nsmall-title, text, btn-red\\n}\\n}\\nrow {\\ndouble {\\nsmall-title, text, btn-green\\n}\\ndouble {\\nsmall-title, text, btn-red\\n}\\n}\\n'],\n",
              " '1EACEE7F-264D-4FB7-9A19-13122A6FD4E1': ['header {\\nbtn-inactive, btn-inactive, btn-active, btn-inactive\\n}\\nrow {\\nquadruple {\\nsmall-title, text, btn-orange\\n}\\nquadruple {\\nsmall-title, text, btn-green\\n}\\nquadruple {\\nsmall-title, text, btn-orange\\n}\\nquadruple {\\nsmall-title, text, btn-green\\n}\\n}\\nrow {\\nsingle {\\nsmall-title, text, btn-orange\\n}\\n}\\nrow {\\ndouble {\\nsmall-title, text, btn-green\\n}\\ndouble {\\nsmall-title, text, btn-green\\n}\\n}\\n'],\n",
              " '1EFAB8BE-3A26-4499-8F73-0AC06A3F4305': ['header {\\nbtn-inactive, btn-inactive, btn-active\\n}\\nrow {\\nquadruple {\\nsmall-title, text, btn-orange\\n}\\nquadruple {\\nsmall-title, text, btn-orange\\n}\\nquadruple {\\nsmall-title, text, btn-orange\\n}\\nquadruple {\\nsmall-title, text, btn-red\\n}\\n}\\nrow {\\nsingle {\\nsmall-title, text, btn-red\\n}\\n}\\nrow {\\ndouble {\\nsmall-title, text, btn-orange\\n}\\ndouble {\\nsmall-title, text, btn-orange\\n}\\n}\\n'],\n",
              " '1EFC9908-123D-40FB-8636-FEB5FA4FA96D': ['header {\\nbtn-active, btn-inactive, btn-inactive, btn-inactive, btn-inactive\\n}\\nrow {\\ndouble {\\nsmall-title, text, btn-green\\n}\\ndouble {\\nsmall-title, text, btn-orange\\n}\\n}\\nrow {\\nquadruple {\\nsmall-title, text, btn-green\\n}\\nquadruple {\\nsmall-title, text, btn-green\\n}\\nquadruple {\\nsmall-title, text, btn-orange\\n}\\nquadruple {\\nsmall-title, text, btn-orange\\n}\\n}\\nrow {\\nsingle {\\nsmall-title, text, btn-red\\n}\\n}\\n'],\n",
              " '1F0F8B17-BEE2-4E4D-8596-34AD56306F63': ['header {\\nbtn-inactive, btn-active, btn-inactive\\n}\\nrow {\\nquadruple {\\nsmall-title, text, btn-green\\n}\\nquadruple {\\nsmall-title, text, btn-orange\\n}\\nquadruple {\\nsmall-title, text, btn-green\\n}\\nquadruple {\\nsmall-title, text, btn-orange\\n}\\n}\\nrow {\\nsingle {\\nsmall-title, text, btn-orange\\n}\\n}\\nrow {\\ndouble {\\nsmall-title, text, btn-green\\n}\\ndouble {\\nsmall-title, text, btn-orange\\n}\\n}\\n'],\n",
              " '1F4F53E3-ED8C-40C8-9330-5793DF8D86F4': ['header {\\nbtn-inactive, btn-inactive, btn-active\\n}\\nrow {\\ndouble {\\nsmall-title, text, btn-orange\\n}\\ndouble {\\nsmall-title, text, btn-red\\n}\\n}\\nrow {\\nsingle {\\nsmall-title, text, btn-orange\\n}\\n}\\nrow {\\nquadruple {\\nsmall-title, text, btn-orange\\n}\\nquadruple {\\nsmall-title, text, btn-orange\\n}\\nquadruple {\\nsmall-title, text, btn-orange\\n}\\nquadruple {\\nsmall-title, text, btn-green\\n}\\n}\\n'],\n",
              " '1FE0BFB5-82F1-47CB-AECD-ABBC6B34CCC8': ['header {\\nbtn-inactive, btn-inactive, btn-inactive, btn-active, btn-inactive\\n}\\nrow {\\nsingle {\\nsmall-title, text, btn-red\\n}\\n}\\nrow {\\ndouble {\\nsmall-title, text, btn-orange\\n}\\ndouble {\\nsmall-title, text, btn-green\\n}\\n}\\nrow {\\nquadruple {\\nsmall-title, text, btn-orange\\n}\\nquadruple {\\nsmall-title, text, btn-green\\n}\\nquadruple {\\nsmall-title, text, btn-red\\n}\\nquadruple {\\nsmall-title, text, btn-orange\\n}\\n}\\n'],\n",
              " '20F0D401-CFD8-4066-B60B-1F3F73DE8ACF': ['header {\\nbtn-active, btn-inactive, btn-inactive\\n}\\nrow {\\nsingle {\\nsmall-title, text, btn-red\\n}\\n}\\n'],\n",
              " '22112515-5059-461B-8376-9DF21D083666': ['header {\\nbtn-inactive, btn-active, btn-inactive, btn-inactive\\n}\\nrow {\\nsingle {\\nsmall-title, text, btn-red\\n}\\n}\\nrow {\\nquadruple {\\nsmall-title, text, btn-green\\n}\\nquadruple {\\nsmall-title, text, btn-green\\n}\\nquadruple {\\nsmall-title, text, btn-red\\n}\\nquadruple {\\nsmall-title, text, btn-green\\n}\\n}\\nrow {\\ndouble {\\nsmall-title, text, btn-green\\n}\\ndouble {\\nsmall-title, text, btn-red\\n}\\n}\\n'],\n",
              " '234BAE99-9622-41C2-B9B1-8CD9B69C92D5': ['header {\\nbtn-active, btn-inactive, btn-inactive, btn-inactive\\n}\\nrow {\\nquadruple {\\nsmall-title, text, btn-red\\n}\\nquadruple {\\nsmall-title, text, btn-green\\n}\\nquadruple {\\nsmall-title, text, btn-green\\n}\\nquadruple {\\nsmall-title, text, btn-green\\n}\\n}\\n'],\n",
              " '23F6AE96-E095-4FF4-868B-5AC7F72C44E4': ['header {\\nbtn-inactive, btn-active, btn-inactive\\n}\\nrow {\\ndouble {\\nsmall-title, text, btn-orange\\n}\\ndouble {\\nsmall-title, text, btn-red\\n}\\n}\\nrow {\\nsingle {\\nsmall-title, text, btn-orange\\n}\\n}\\nrow {\\nquadruple {\\nsmall-title, text, btn-orange\\n}\\nquadruple {\\nsmall-title, text, btn-orange\\n}\\nquadruple {\\nsmall-title, text, btn-red\\n}\\nquadruple {\\nsmall-title, text, btn-orange\\n}\\n}\\n'],\n",
              " '241417BC-FB03-4AD5-B941-8461D56E79F4': ['header {\\nbtn-active, btn-inactive\\n}\\nrow {\\ndouble {\\nsmall-title, text, btn-red\\n}\\ndouble {\\nsmall-title, text, btn-red\\n}\\n}\\nrow {\\nquadruple {\\nsmall-title, text, btn-green\\n}\\nquadruple {\\nsmall-title, text, btn-green\\n}\\nquadruple {\\nsmall-title, text, btn-red\\n}\\nquadruple {\\nsmall-title, text, btn-red\\n}\\n}\\nrow {\\nsingle {\\nsmall-title, text, btn-red\\n}\\n}\\n'],\n",
              " '24201683-40FC-4959-90A0-DF5AD968DC59': ['header {\\nbtn-inactive, btn-inactive, btn-active\\n}\\nrow {\\nsingle {\\nsmall-title, text, btn-orange\\n}\\n}\\nrow {\\nquadruple {\\nsmall-title, text, btn-green\\n}\\nquadruple {\\nsmall-title, text, btn-orange\\n}\\nquadruple {\\nsmall-title, text, btn-red\\n}\\nquadruple {\\nsmall-title, text, btn-orange\\n}\\n}\\nrow {\\ndouble {\\nsmall-title, text, btn-green\\n}\\ndouble {\\nsmall-title, text, btn-orange\\n}\\n}\\n'],\n",
              " '246685E1-01FA-424A-892F-DC827722FA59': ['header {\\nbtn-inactive, btn-inactive, btn-active\\n}\\nrow {\\ndouble {\\nsmall-title, text, btn-red\\n}\\ndouble {\\nsmall-title, text, btn-red\\n}\\n}\\nrow {\\nquadruple {\\nsmall-title, text, btn-orange\\n}\\nquadruple {\\nsmall-title, text, btn-red\\n}\\nquadruple {\\nsmall-title, text, btn-green\\n}\\nquadruple {\\nsmall-title, text, btn-green\\n}\\n}\\nrow {\\nsingle {\\nsmall-title, text, btn-orange\\n}\\n}\\n'],\n",
              " '24AECE0E-BE79-4983-8B01-768103A5E448': ['header {\\nbtn-inactive, btn-active\\n}\\nrow {\\nsingle {\\nsmall-title, text, btn-green\\n}\\n}\\n'],\n",
              " '25BA3866-56F5-40F1-9C98-39C63146BAE5': ['header {\\nbtn-active, btn-inactive\\n}\\nrow {\\ndouble {\\nsmall-title, text, btn-orange\\n}\\ndouble {\\nsmall-title, text, btn-green\\n}\\n}\\nrow {\\nsingle {\\nsmall-title, text, btn-green\\n}\\n}\\nrow {\\nquadruple {\\nsmall-title, text, btn-orange\\n}\\nquadruple {\\nsmall-title, text, btn-green\\n}\\nquadruple {\\nsmall-title, text, btn-red\\n}\\nquadruple {\\nsmall-title, text, btn-green\\n}\\n}\\n'],\n",
              " '27A83B00-13E3-4E8A-8C69-636CA1E9BAA0': ['header {\\nbtn-inactive, btn-inactive, btn-inactive, btn-inactive, btn-active\\n}\\nrow {\\nsingle {\\nsmall-title, text, btn-green\\n}\\n}\\nrow {\\nquadruple {\\nsmall-title, text, btn-green\\n}\\nquadruple {\\nsmall-title, text, btn-green\\n}\\nquadruple {\\nsmall-title, text, btn-green\\n}\\nquadruple {\\nsmall-title, text, btn-red\\n}\\n}\\nrow {\\ndouble {\\nsmall-title, text, btn-red\\n}\\ndouble {\\nsmall-title, text, btn-red\\n}\\n}\\n'],\n",
              " '284DBA08-8E68-427E-8BB1-70EA967692A7': ['header {\\nbtn-active, btn-inactive\\n}\\nrow {\\ndouble {\\nsmall-title, text, btn-orange\\n}\\ndouble {\\nsmall-title, text, btn-red\\n}\\n}\\nrow {\\ndouble {\\nsmall-title, text, btn-red\\n}\\ndouble {\\nsmall-title, text, btn-orange\\n}\\n}\\nrow {\\ndouble {\\nsmall-title, text, btn-orange\\n}\\ndouble {\\nsmall-title, text, btn-red\\n}\\n}\\n'],\n",
              " '28715A0B-7D22-4F5E-9FC1-34A00BC1137E': ['header {\\nbtn-inactive, btn-inactive, btn-active, btn-inactive\\n}\\nrow {\\nsingle {\\nsmall-title, text, btn-red\\n}\\n}\\nrow {\\nsingle {\\nsmall-title, text, btn-orange\\n}\\n}\\n'],\n",
              " '28C6FDDB-1387-4E1F-9A73-10B9CD40D566': ['header {\\nbtn-active, btn-inactive\\n}\\nrow {\\nsingle {\\nsmall-title, text, btn-orange\\n}\\n}\\nrow {\\nquadruple {\\nsmall-title, text, btn-red\\n}\\nquadruple {\\nsmall-title, text, btn-green\\n}\\nquadruple {\\nsmall-title, text, btn-red\\n}\\nquadruple {\\nsmall-title, text, btn-red\\n}\\n}\\nrow {\\nsingle {\\nsmall-title, text, btn-orange\\n}\\n}\\n'],\n",
              " '2B4585C8-8A9A-4D5F-B41F-B70D9FCDB6CD': ['header {\\nbtn-active, btn-inactive, btn-inactive, btn-inactive\\n}\\nrow {\\ndouble {\\nsmall-title, text, btn-green\\n}\\ndouble {\\nsmall-title, text, btn-orange\\n}\\n}\\nrow {\\nsingle {\\nsmall-title, text, btn-red\\n}\\n}\\n'],\n",
              " '2B646D9C-F209-4ED7-A26E-CE2532110AA9': ['header {\\nbtn-active, btn-inactive, btn-inactive\\n}\\nrow {\\nquadruple {\\nsmall-title, text, btn-green\\n}\\nquadruple {\\nsmall-title, text, btn-red\\n}\\nquadruple {\\nsmall-title, text, btn-green\\n}\\nquadruple {\\nsmall-title, text, btn-red\\n}\\n}\\nrow {\\ndouble {\\nsmall-title, text, btn-red\\n}\\ndouble {\\nsmall-title, text, btn-orange\\n}\\n}\\nrow {\\ndouble {\\nsmall-title, text, btn-orange\\n}\\ndouble {\\nsmall-title, text, btn-green\\n}\\n}\\n'],\n",
              " '2BFB99B4-EA29-4F79-BF41-E46756689A58': ['header {\\nbtn-inactive, btn-inactive, btn-active, btn-inactive\\n}\\nrow {\\ndouble {\\nsmall-title, text, btn-orange\\n}\\ndouble {\\nsmall-title, text, btn-green\\n}\\n}\\nrow {\\nquadruple {\\nsmall-title, text, btn-orange\\n}\\nquadruple {\\nsmall-title, text, btn-green\\n}\\nquadruple {\\nsmall-title, text, btn-green\\n}\\nquadruple {\\nsmall-title, text, btn-red\\n}\\n}\\nrow {\\nsingle {\\nsmall-title, text, btn-green\\n}\\n}\\n'],\n",
              " '2C9CB527-F490-4318-9EF0-4D3DB32FBA16': ['header {\\nbtn-inactive, btn-active\\n}\\nrow {\\ndouble {\\nsmall-title, text, btn-green\\n}\\ndouble {\\nsmall-title, text, btn-red\\n}\\n}\\nrow {\\nquadruple {\\nsmall-title, text, btn-red\\n}\\nquadruple {\\nsmall-title, text, btn-orange\\n}\\nquadruple {\\nsmall-title, text, btn-red\\n}\\nquadruple {\\nsmall-title, text, btn-green\\n}\\n}\\nrow {\\nsingle {\\nsmall-title, text, btn-orange\\n}\\n}\\n'],\n",
              " '2DCC52E4-0115-44AC-BE4F-871896324913': ['header {\\nbtn-active, btn-inactive\\n}\\nrow {\\ndouble {\\nsmall-title, text, btn-green\\n}\\ndouble {\\nsmall-title, text, btn-green\\n}\\n}\\nrow {\\nquadruple {\\nsmall-title, text, btn-green\\n}\\nquadruple {\\nsmall-title, text, btn-green\\n}\\nquadruple {\\nsmall-title, text, btn-orange\\n}\\nquadruple {\\nsmall-title, text, btn-green\\n}\\n}\\n'],\n",
              " '3004A98D-0636-4755-AFE5-99E0D9A4549E': ['header {\\nbtn-inactive, btn-inactive, btn-active\\n}\\nrow {\\ndouble {\\nsmall-title, text, btn-orange\\n}\\ndouble {\\nsmall-title, text, btn-green\\n}\\n}\\nrow {\\nquadruple {\\nsmall-title, text, btn-red\\n}\\nquadruple {\\nsmall-title, text, btn-red\\n}\\nquadruple {\\nsmall-title, text, btn-orange\\n}\\nquadruple {\\nsmall-title, text, btn-green\\n}\\n}\\nrow {\\nsingle {\\nsmall-title, text, btn-orange\\n}\\n}\\n'],\n",
              " '30C284F0-37B6-4D1F-B6E1-807BD37137B7': ['header {\\nbtn-active, btn-inactive, btn-inactive, btn-inactive\\n}\\nrow {\\nsingle {\\nsmall-title, text, btn-green\\n}\\n}\\nrow {\\ndouble {\\nsmall-title, text, btn-red\\n}\\ndouble {\\nsmall-title, text, btn-orange\\n}\\n}\\nrow {\\nquadruple {\\nsmall-title, text, btn-red\\n}\\nquadruple {\\nsmall-title, text, btn-orange\\n}\\nquadruple {\\nsmall-title, text, btn-orange\\n}\\nquadruple {\\nsmall-title, text, btn-green\\n}\\n}\\n'],\n",
              " '38C2DC07-B2F6-4840-887C-87A5E1DC0FE5': ['header {\\nbtn-inactive, btn-inactive, btn-inactive, btn-active\\n}\\nrow {\\nquadruple {\\nsmall-title, text, btn-orange\\n}\\nquadruple {\\nsmall-title, text, btn-green\\n}\\nquadruple {\\nsmall-title, text, btn-green\\n}\\nquadruple {\\nsmall-title, text, btn-orange\\n}\\n}\\nrow {\\nsingle {\\nsmall-title, text, btn-red\\n}\\n}\\n'],\n",
              " '38FE103F-61D7-4630-BF47-E70ECE50FB7D': ['header {\\nbtn-inactive, btn-active, btn-inactive, btn-inactive, btn-inactive\\n}\\nrow {\\ndouble {\\nsmall-title, text, btn-red\\n}\\ndouble {\\nsmall-title, text, btn-orange\\n}\\n}\\nrow {\\nsingle {\\nsmall-title, text, btn-orange\\n}\\n}\\nrow {\\nquadruple {\\nsmall-title, text, btn-red\\n}\\nquadruple {\\nsmall-title, text, btn-red\\n}\\nquadruple {\\nsmall-title, text, btn-green\\n}\\nquadruple {\\nsmall-title, text, btn-red\\n}\\n}\\n'],\n",
              " '39C19125-6A16-4E34-B592-F6C9FB367D06': ['header {\\nbtn-inactive, btn-inactive, btn-inactive, btn-active, btn-inactive\\n}\\nrow {\\ndouble {\\nsmall-title, text, btn-green\\n}\\ndouble {\\nsmall-title, text, btn-green\\n}\\n}\\nrow {\\nsingle {\\nsmall-title, text, btn-orange\\n}\\n}\\nrow {\\nquadruple {\\nsmall-title, text, btn-red\\n}\\nquadruple {\\nsmall-title, text, btn-green\\n}\\nquadruple {\\nsmall-title, text, btn-red\\n}\\nquadruple {\\nsmall-title, text, btn-orange\\n}\\n}\\n'],\n",
              " '3AD39243-A1A7-472E-BB8B-A6ABA5730CA5': ['header {\\nbtn-active, btn-inactive, btn-inactive, btn-inactive, btn-inactive\\n}\\nrow {\\nquadruple {\\nsmall-title, text, btn-green\\n}\\nquadruple {\\nsmall-title, text, btn-orange\\n}\\nquadruple {\\nsmall-title, text, btn-orange\\n}\\nquadruple {\\nsmall-title, text, btn-orange\\n}\\n}\\nrow {\\ndouble {\\nsmall-title, text, btn-green\\n}\\ndouble {\\nsmall-title, text, btn-green\\n}\\n}\\nrow {\\nsingle {\\nsmall-title, text, btn-red\\n}\\n}\\n'],\n",
              " '3B66DC46-53FF-469C-90E5-8BE0DBA19CE2': ['header {\\nbtn-inactive, btn-active, btn-inactive\\n}\\nrow {\\nquadruple {\\nsmall-title, text, btn-red\\n}\\nquadruple {\\nsmall-title, text, btn-green\\n}\\nquadruple {\\nsmall-title, text, btn-green\\n}\\nquadruple {\\nsmall-title, text, btn-red\\n}\\n}\\nrow {\\ndouble {\\nsmall-title, text, btn-red\\n}\\ndouble {\\nsmall-title, text, btn-orange\\n}\\n}\\nrow {\\nsingle {\\nsmall-title, text, btn-green\\n}\\n}\\n'],\n",
              " '3BC6C27E-A9C1-4040-963F-B863E99938B5': ['header {\\nbtn-inactive, btn-active, btn-inactive\\n}\\nrow {\\nsingle {\\nsmall-title, text, btn-orange\\n}\\n}\\n'],\n",
              " '3BFD4398-FFBF-48BB-ADCA-607A102404D7': ['header {\\nbtn-active, btn-inactive\\n}\\nrow {\\ndouble {\\nsmall-title, text, btn-green\\n}\\ndouble {\\nsmall-title, text, btn-orange\\n}\\n}\\nrow {\\nsingle {\\nsmall-title, text, btn-green\\n}\\n}\\nrow {\\nquadruple {\\nsmall-title, text, btn-red\\n}\\nquadruple {\\nsmall-title, text, btn-orange\\n}\\nquadruple {\\nsmall-title, text, btn-orange\\n}\\nquadruple {\\nsmall-title, text, btn-green\\n}\\n}\\n'],\n",
              " '3CE9DD52-1F91-4677-8AB8-39D7BC5CCA7B': ['header {\\nbtn-inactive, btn-active, btn-inactive\\n}\\nrow {\\ndouble {\\nsmall-title, text, btn-orange\\n}\\ndouble {\\nsmall-title, text, btn-red\\n}\\n}\\nrow {\\nquadruple {\\nsmall-title, text, btn-green\\n}\\nquadruple {\\nsmall-title, text, btn-green\\n}\\nquadruple {\\nsmall-title, text, btn-green\\n}\\nquadruple {\\nsmall-title, text, btn-orange\\n}\\n}\\nrow {\\nsingle {\\nsmall-title, text, btn-orange\\n}\\n}\\n'],\n",
              " '3CFAE645-5CD0-48F2-98C3-6DDBAA392C89': ['header {\\nbtn-inactive, btn-active\\n}\\nrow {\\nsingle {\\nsmall-title, text, btn-red\\n}\\n}\\nrow {\\ndouble {\\nsmall-title, text, btn-green\\n}\\ndouble {\\nsmall-title, text, btn-green\\n}\\n}\\nrow {\\nquadruple {\\nsmall-title, text, btn-red\\n}\\nquadruple {\\nsmall-title, text, btn-orange\\n}\\nquadruple {\\nsmall-title, text, btn-orange\\n}\\nquadruple {\\nsmall-title, text, btn-red\\n}\\n}\\n'],\n",
              " '3D99910F-C6A3-4FF6-985D-F71AC4652DA7': ['header {\\nbtn-inactive, btn-inactive, btn-inactive, btn-inactive, btn-active\\n}\\nrow {\\nquadruple {\\nsmall-title, text, btn-red\\n}\\nquadruple {\\nsmall-title, text, btn-orange\\n}\\nquadruple {\\nsmall-title, text, btn-green\\n}\\nquadruple {\\nsmall-title, text, btn-red\\n}\\n}\\nrow {\\nsingle {\\nsmall-title, text, btn-green\\n}\\n}\\nrow {\\ndouble {\\nsmall-title, text, btn-orange\\n}\\ndouble {\\nsmall-title, text, btn-red\\n}\\n}\\n'],\n",
              " '3FFBB381-17C9-4078-B038-E2CA2F200BA7': ['header {\\nbtn-active, btn-inactive\\n}\\nrow {\\nquadruple {\\nsmall-title, text, btn-red\\n}\\nquadruple {\\nsmall-title, text, btn-red\\n}\\nquadruple {\\nsmall-title, text, btn-orange\\n}\\nquadruple {\\nsmall-title, text, btn-red\\n}\\n}\\nrow {\\ndouble {\\nsmall-title, text, btn-orange\\n}\\ndouble {\\nsmall-title, text, btn-orange\\n}\\n}\\nrow {\\nsingle {\\nsmall-title, text, btn-orange\\n}\\n}\\n'],\n",
              " '40068C38-6896-4568-A79D-18653E86A9F1': ['header {\\nbtn-inactive, btn-inactive, btn-active, btn-inactive\\n}\\nrow {\\ndouble {\\nsmall-title, text, btn-orange\\n}\\ndouble {\\nsmall-title, text, btn-red\\n}\\n}\\nrow {\\nquadruple {\\nsmall-title, text, btn-orange\\n}\\nquadruple {\\nsmall-title, text, btn-orange\\n}\\nquadruple {\\nsmall-title, text, btn-green\\n}\\nquadruple {\\nsmall-title, text, btn-red\\n}\\n}\\nrow {\\nsingle {\\nsmall-title, text, btn-orange\\n}\\n}\\n'],\n",
              " '4092B88C-AB71-4344-99AF-BC9CA300AC22': ['header {\\nbtn-active, btn-inactive\\n}\\nrow {\\nquadruple {\\nsmall-title, text, btn-orange\\n}\\nquadruple {\\nsmall-title, text, btn-green\\n}\\nquadruple {\\nsmall-title, text, btn-orange\\n}\\nquadruple {\\nsmall-title, text, btn-red\\n}\\n}\\nrow {\\ndouble {\\nsmall-title, text, btn-orange\\n}\\ndouble {\\nsmall-title, text, btn-red\\n}\\n}\\nrow {\\nsingle {\\nsmall-title, text, btn-green\\n}\\n}\\n'],\n",
              " '423EE3F0-871A-4436-8C2C-BD6434C8AA64': ['header {\\nbtn-inactive, btn-active\\n}\\nrow {\\ndouble {\\nsmall-title, text, btn-green\\n}\\ndouble {\\nsmall-title, text, btn-orange\\n}\\n}\\nrow {\\nquadruple {\\nsmall-title, text, btn-green\\n}\\nquadruple {\\nsmall-title, text, btn-green\\n}\\nquadruple {\\nsmall-title, text, btn-red\\n}\\nquadruple {\\nsmall-title, text, btn-red\\n}\\n}\\nrow {\\nsingle {\\nsmall-title, text, btn-green\\n}\\n}\\n'],\n",
              " '4296CE2A-F909-4A21-BDDF-3B483964E617': ['header {\\nbtn-active, btn-inactive, btn-inactive\\n}\\nrow {\\ndouble {\\nsmall-title, text, btn-green\\n}\\ndouble {\\nsmall-title, text, btn-red\\n}\\n}\\nrow {\\nsingle {\\nsmall-title, text, btn-red\\n}\\n}\\nrow {\\nquadruple {\\nsmall-title, text, btn-orange\\n}\\nquadruple {\\nsmall-title, text, btn-orange\\n}\\nquadruple {\\nsmall-title, text, btn-green\\n}\\nquadruple {\\nsmall-title, text, btn-green\\n}\\n}\\n'],\n",
              " '4367D6D6-6C72-4CE2-A4FE-52F37CB331F7': ['header {\\nbtn-inactive, btn-active, btn-inactive\\n}\\nrow {\\nquadruple {\\nsmall-title, text, btn-green\\n}\\nquadruple {\\nsmall-title, text, btn-red\\n}\\nquadruple {\\nsmall-title, text, btn-green\\n}\\nquadruple {\\nsmall-title, text, btn-green\\n}\\n}\\nrow {\\nquadruple {\\nsmall-title, text, btn-green\\n}\\nquadruple {\\nsmall-title, text, btn-green\\n}\\nquadruple {\\nsmall-title, text, btn-orange\\n}\\nquadruple {\\nsmall-title, text, btn-green\\n}\\n}\\nrow {\\nquadruple {\\nsmall-title, text, btn-green\\n}\\nquadruple {\\nsmall-title, text, btn-green\\n}\\nquadruple {\\nsmall-title, text, btn-green\\n}\\nquadruple {\\nsmall-title, text, btn-green\\n}\\n}\\n'],\n",
              " '43DDF132-B905-4A4C-B577-0E77A654F2AF': ['header {\\nbtn-inactive, btn-inactive, btn-inactive, btn-active\\n}\\nrow {\\ndouble {\\nsmall-title, text, btn-green\\n}\\ndouble {\\nsmall-title, text, btn-orange\\n}\\n}\\nrow {\\nquadruple {\\nsmall-title, text, btn-green\\n}\\nquadruple {\\nsmall-title, text, btn-orange\\n}\\nquadruple {\\nsmall-title, text, btn-red\\n}\\nquadruple {\\nsmall-title, text, btn-red\\n}\\n}\\nrow {\\nsingle {\\nsmall-title, text, btn-red\\n}\\n}\\n'],\n",
              " '4414C575-EF1C-4F9F-8645-3213EA59F4AC': ['header {\\nbtn-active, btn-inactive, btn-inactive, btn-inactive, btn-inactive\\n}\\nrow {\\ndouble {\\nsmall-title, text, btn-red\\n}\\ndouble {\\nsmall-title, text, btn-green\\n}\\n}\\n'],\n",
              " '4489A32F-DCA5-4694-A6C6-3F596F4D7F6D': ['header {\\nbtn-inactive, btn-inactive, btn-active\\n}\\nrow {\\nsingle {\\nsmall-title, text, btn-orange\\n}\\n}\\nrow {\\nquadruple {\\nsmall-title, text, btn-green\\n}\\nquadruple {\\nsmall-title, text, btn-red\\n}\\nquadruple {\\nsmall-title, text, btn-green\\n}\\nquadruple {\\nsmall-title, text, btn-red\\n}\\n}\\nrow {\\ndouble {\\nsmall-title, text, btn-red\\n}\\ndouble {\\nsmall-title, text, btn-orange\\n}\\n}\\n'],\n",
              " '44FF817A-C8E1-44EC-B286-6954734F3033': ['header {\\nbtn-inactive, btn-active, btn-inactive, btn-inactive\\n}\\nrow {\\ndouble {\\nsmall-title, text, btn-red\\n}\\ndouble {\\nsmall-title, text, btn-red\\n}\\n}\\nrow {\\nquadruple {\\nsmall-title, text, btn-red\\n}\\nquadruple {\\nsmall-title, text, btn-red\\n}\\nquadruple {\\nsmall-title, text, btn-red\\n}\\nquadruple {\\nsmall-title, text, btn-red\\n}\\n}\\nrow {\\nsingle {\\nsmall-title, text, btn-orange\\n}\\n}\\n'],\n",
              " '45BFC004-C65D-40D0-9E18-187FAE8196FF': ['header {\\nbtn-inactive, btn-inactive, btn-inactive, btn-active\\n}\\nrow {\\nquadruple {\\nsmall-title, text, btn-green\\n}\\nquadruple {\\nsmall-title, text, btn-red\\n}\\nquadruple {\\nsmall-title, text, btn-orange\\n}\\nquadruple {\\nsmall-title, text, btn-orange\\n}\\n}\\nrow {\\nsingle {\\nsmall-title, text, btn-green\\n}\\n}\\nrow {\\ndouble {\\nsmall-title, text, btn-orange\\n}\\ndouble {\\nsmall-title, text, btn-red\\n}\\n}\\n'],\n",
              " '463520C6-39DC-4D89-AA83-0398BE21AD5E': ['header {\\nbtn-active, btn-inactive\\n}\\nrow {\\ndouble {\\nsmall-title, text, btn-orange\\n}\\ndouble {\\nsmall-title, text, btn-orange\\n}\\n}\\nrow {\\nquadruple {\\nsmall-title, text, btn-green\\n}\\nquadruple {\\nsmall-title, text, btn-orange\\n}\\nquadruple {\\nsmall-title, text, btn-red\\n}\\nquadruple {\\nsmall-title, text, btn-red\\n}\\n}\\nrow {\\nsingle {\\nsmall-title, text, btn-green\\n}\\n}\\n'],\n",
              " '4775497A-7955-4426-B5FE-8D684BE95BA3': ['header {\\nbtn-active, btn-inactive\\n}\\nrow {\\nquadruple {\\nsmall-title, text, btn-orange\\n}\\nquadruple {\\nsmall-title, text, btn-green\\n}\\nquadruple {\\nsmall-title, text, btn-red\\n}\\nquadruple {\\nsmall-title, text, btn-red\\n}\\n}\\n'],\n",
              " '49354E6D-51AC-442D-9913-83B8101F7C83': ['header {\\nbtn-inactive, btn-active\\n}\\nrow {\\ndouble {\\nsmall-title, text, btn-orange\\n}\\ndouble {\\nsmall-title, text, btn-red\\n}\\n}\\nrow {\\nsingle {\\nsmall-title, text, btn-red\\n}\\n}\\nrow {\\nquadruple {\\nsmall-title, text, btn-orange\\n}\\nquadruple {\\nsmall-title, text, btn-green\\n}\\nquadruple {\\nsmall-title, text, btn-green\\n}\\nquadruple {\\nsmall-title, text, btn-green\\n}\\n}\\n'],\n",
              " '499285E1-07C8-4DE1-A8C0-CC80BA8B702F': ['header {\\nbtn-active, btn-inactive\\n}\\nrow {\\nquadruple {\\nsmall-title, text, btn-green\\n}\\nquadruple {\\nsmall-title, text, btn-green\\n}\\nquadruple {\\nsmall-title, text, btn-orange\\n}\\nquadruple {\\nsmall-title, text, btn-green\\n}\\n}\\n'],\n",
              " '4B323C11-960D-4857-BB07-792E51401C94': ['header {\\nbtn-active, btn-inactive, btn-inactive\\n}\\nrow {\\nquadruple {\\nsmall-title, text, btn-orange\\n}\\nquadruple {\\nsmall-title, text, btn-orange\\n}\\nquadruple {\\nsmall-title, text, btn-green\\n}\\nquadruple {\\nsmall-title, text, btn-orange\\n}\\n}\\nrow {\\nquadruple {\\nsmall-title, text, btn-red\\n}\\nquadruple {\\nsmall-title, text, btn-green\\n}\\nquadruple {\\nsmall-title, text, btn-orange\\n}\\nquadruple {\\nsmall-title, text, btn-orange\\n}\\n}\\nrow {\\ndouble {\\nsmall-title, text, btn-orange\\n}\\ndouble {\\nsmall-title, text, btn-red\\n}\\n}\\n'],\n",
              " '4C787128-EDE3-49F1-9907-7C3B80998721': ['header {\\nbtn-inactive, btn-active\\n}\\nrow {\\ndouble {\\nsmall-title, text, btn-green\\n}\\ndouble {\\nsmall-title, text, btn-orange\\n}\\n}\\nrow {\\ndouble {\\nsmall-title, text, btn-red\\n}\\ndouble {\\nsmall-title, text, btn-orange\\n}\\n}\\n'],\n",
              " '4CC9F457-BEDC-4F90-85A8-981F96D0C168': ['header {\\nbtn-inactive, btn-inactive, btn-active, btn-inactive, btn-inactive\\n}\\nrow {\\nsingle {\\nsmall-title, text, btn-red\\n}\\n}\\nrow {\\nquadruple {\\nsmall-title, text, btn-orange\\n}\\nquadruple {\\nsmall-title, text, btn-red\\n}\\nquadruple {\\nsmall-title, text, btn-orange\\n}\\nquadruple {\\nsmall-title, text, btn-green\\n}\\n}\\nrow {\\ndouble {\\nsmall-title, text, btn-orange\\n}\\ndouble {\\nsmall-title, text, btn-green\\n}\\n}\\n'],\n",
              " '4D588082-35DC-4E8C-B061-350E26DF6607': ['header {\\nbtn-inactive, btn-active\\n}\\nrow {\\nsingle {\\nsmall-title, text, btn-red\\n}\\n}\\nrow {\\nquadruple {\\nsmall-title, text, btn-green\\n}\\nquadruple {\\nsmall-title, text, btn-red\\n}\\nquadruple {\\nsmall-title, text, btn-red\\n}\\nquadruple {\\nsmall-title, text, btn-orange\\n}\\n}\\n'],\n",
              " '4DEEBE10-A29E-48C9-9CC6-EA6AA6AD4CA5': ['header {\\nbtn-inactive, btn-inactive, btn-inactive, btn-inactive, btn-active\\n}\\nrow {\\ndouble {\\nsmall-title, text, btn-orange\\n}\\ndouble {\\nsmall-title, text, btn-red\\n}\\n}\\nrow {\\nsingle {\\nsmall-title, text, btn-green\\n}\\n}\\nrow {\\nquadruple {\\nsmall-title, text, btn-orange\\n}\\nquadruple {\\nsmall-title, text, btn-red\\n}\\nquadruple {\\nsmall-title, text, btn-orange\\n}\\nquadruple {\\nsmall-title, text, btn-red\\n}\\n}\\n'],\n",
              " '4E51BB7C-B0EC-4F66-8EAF-8D23470A355E': ['header {\\nbtn-inactive, btn-active, btn-inactive, btn-inactive\\n}\\nrow {\\ndouble {\\nsmall-title, text, btn-orange\\n}\\ndouble {\\nsmall-title, text, btn-green\\n}\\n}\\nrow {\\nsingle {\\nsmall-title, text, btn-green\\n}\\n}\\n'],\n",
              " '4F672D7E-C100-4734-A702-3A4FBE35C752': ['header {\\nbtn-active, btn-inactive\\n}\\nrow {\\nquadruple {\\nsmall-title, text, btn-green\\n}\\nquadruple {\\nsmall-title, text, btn-green\\n}\\nquadruple {\\nsmall-title, text, btn-red\\n}\\nquadruple {\\nsmall-title, text, btn-orange\\n}\\n}\\nrow {\\nsingle {\\nsmall-title, text, btn-orange\\n}\\n}\\nrow {\\ndouble {\\nsmall-title, text, btn-green\\n}\\ndouble {\\nsmall-title, text, btn-red\\n}\\n}\\n'],\n",
              " '5050FFC1-D046-4D5C-BA6D-7271215FFDC6': ['header {\\nbtn-active, btn-inactive, btn-inactive, btn-inactive, btn-inactive\\n}\\nrow {\\ndouble {\\nsmall-title, text, btn-red\\n}\\ndouble {\\nsmall-title, text, btn-orange\\n}\\n}\\nrow {\\nsingle {\\nsmall-title, text, btn-green\\n}\\n}\\nrow {\\nquadruple {\\nsmall-title, text, btn-green\\n}\\nquadruple {\\nsmall-title, text, btn-red\\n}\\nquadruple {\\nsmall-title, text, btn-orange\\n}\\nquadruple {\\nsmall-title, text, btn-red\\n}\\n}\\n'],\n",
              " '50723564-51C0-4641-A9CE-2C1E6F5C1C18': ['header {\\nbtn-active, btn-inactive, btn-inactive, btn-inactive\\n}\\nrow {\\nsingle {\\nsmall-title, text, btn-green\\n}\\n}\\nrow {\\ndouble {\\nsmall-title, text, btn-red\\n}\\ndouble {\\nsmall-title, text, btn-green\\n}\\n}\\nrow {\\nquadruple {\\nsmall-title, text, btn-orange\\n}\\nquadruple {\\nsmall-title, text, btn-red\\n}\\nquadruple {\\nsmall-title, text, btn-green\\n}\\nquadruple {\\nsmall-title, text, btn-green\\n}\\n}\\n'],\n",
              " '50849C92-DAFA-4780-A1B5-7C97F3FEBA8A': ['header {\\nbtn-inactive, btn-inactive, btn-active\\n}\\nrow {\\nquadruple {\\nsmall-title, text, btn-red\\n}\\nquadruple {\\nsmall-title, text, btn-red\\n}\\nquadruple {\\nsmall-title, text, btn-green\\n}\\nquadruple {\\nsmall-title, text, btn-red\\n}\\n}\\n'],\n",
              " '50BB4B50-135A-42F9-ABDD-E5D79071DA2C': ['header {\\nbtn-inactive, btn-inactive, btn-active, btn-inactive, btn-inactive\\n}\\nrow {\\nquadruple {\\nsmall-title, text, btn-red\\n}\\nquadruple {\\nsmall-title, text, btn-orange\\n}\\nquadruple {\\nsmall-title, text, btn-orange\\n}\\nquadruple {\\nsmall-title, text, btn-green\\n}\\n}\\nrow {\\nsingle {\\nsmall-title, text, btn-orange\\n}\\n}\\nrow {\\ndouble {\\nsmall-title, text, btn-red\\n}\\ndouble {\\nsmall-title, text, btn-red\\n}\\n}\\n'],\n",
              " '529545C4-F682-4ADF-B73C-4E2D91F82D0E': ['header {\\nbtn-inactive, btn-active\\n}\\nrow {\\ndouble {\\nsmall-title, text, btn-orange\\n}\\ndouble {\\nsmall-title, text, btn-orange\\n}\\n}\\nrow {\\nquadruple {\\nsmall-title, text, btn-orange\\n}\\nquadruple {\\nsmall-title, text, btn-orange\\n}\\nquadruple {\\nsmall-title, text, btn-orange\\n}\\nquadruple {\\nsmall-title, text, btn-green\\n}\\n}\\nrow {\\ndouble {\\nsmall-title, text, btn-orange\\n}\\ndouble {\\nsmall-title, text, btn-green\\n}\\n}\\n'],\n",
              " '533A7F8F-D883-4D6C-A0BC-91AA7FA90E8F': ['header {\\nbtn-inactive, btn-active, btn-inactive, btn-inactive\\n}\\nrow {\\nsingle {\\nsmall-title, text, btn-red\\n}\\n}\\n'],\n",
              " '53931579-620D-45A4-B916-17E553692B18': ['header {\\nbtn-active, btn-inactive\\n}\\nrow {\\ndouble {\\nsmall-title, text, btn-red\\n}\\ndouble {\\nsmall-title, text, btn-green\\n}\\n}\\nrow {\\nsingle {\\nsmall-title, text, btn-green\\n}\\n}\\n'],\n",
              " '5398ED3F-CCC3-4D8D-8380-1F46F0FB2ED5': ['header {\\nbtn-inactive, btn-inactive, btn-active\\n}\\nrow {\\nsingle {\\nsmall-title, text, btn-green\\n}\\n}\\n'],\n",
              " '53FB4F3B-B0B2-427E-ADA5-82D5FEF3DB37': ['header {\\nbtn-inactive, btn-inactive, btn-active\\n}\\nrow {\\nquadruple {\\nsmall-title, text, btn-green\\n}\\nquadruple {\\nsmall-title, text, btn-orange\\n}\\nquadruple {\\nsmall-title, text, btn-orange\\n}\\nquadruple {\\nsmall-title, text, btn-red\\n}\\n}\\nrow {\\ndouble {\\nsmall-title, text, btn-red\\n}\\ndouble {\\nsmall-title, text, btn-orange\\n}\\n}\\n'],\n",
              " '563B9CA1-25F9-4915-B118-CD6E140F185A': ['header {\\nbtn-inactive, btn-active\\n}\\nrow {\\nsingle {\\nsmall-title, text, btn-orange\\n}\\n}\\nrow {\\ndouble {\\nsmall-title, text, btn-red\\n}\\ndouble {\\nsmall-title, text, btn-red\\n}\\n}\\nrow {\\nsingle {\\nsmall-title, text, btn-green\\n}\\n}\\n'],\n",
              " '569D0502-7315-47E0-AB27-D9BB3EB82D9D': ['header {\\nbtn-inactive, btn-inactive, btn-inactive, btn-active\\n}\\nrow {\\nquadruple {\\nsmall-title, text, btn-orange\\n}\\nquadruple {\\nsmall-title, text, btn-orange\\n}\\nquadruple {\\nsmall-title, text, btn-red\\n}\\nquadruple {\\nsmall-title, text, btn-orange\\n}\\n}\\nrow {\\ndouble {\\nsmall-title, text, btn-green\\n}\\ndouble {\\nsmall-title, text, btn-orange\\n}\\n}\\nrow {\\nsingle {\\nsmall-title, text, btn-red\\n}\\n}\\n'],\n",
              " '57021B2D-9959-4217-8B8F-17AC61772672': ['header {\\nbtn-active, btn-inactive, btn-inactive, btn-inactive\\n}\\nrow {\\ndouble {\\nsmall-title, text, btn-orange\\n}\\ndouble {\\nsmall-title, text, btn-red\\n}\\n}\\nrow {\\nsingle {\\nsmall-title, text, btn-red\\n}\\n}\\nrow {\\nquadruple {\\nsmall-title, text, btn-red\\n}\\nquadruple {\\nsmall-title, text, btn-orange\\n}\\nquadruple {\\nsmall-title, text, btn-red\\n}\\nquadruple {\\nsmall-title, text, btn-red\\n}\\n}\\n'],\n",
              " '5733B056-29D7-415D-954E-441D5D592F75': ['header {\\nbtn-active, btn-inactive, btn-inactive, btn-inactive, btn-inactive\\n}\\nrow {\\nsingle {\\nsmall-title, text, btn-orange\\n}\\n}\\nrow {\\ndouble {\\nsmall-title, text, btn-green\\n}\\ndouble {\\nsmall-title, text, btn-green\\n}\\n}\\nrow {\\nquadruple {\\nsmall-title, text, btn-green\\n}\\nquadruple {\\nsmall-title, text, btn-green\\n}\\nquadruple {\\nsmall-title, text, btn-orange\\n}\\nquadruple {\\nsmall-title, text, btn-green\\n}\\n}\\n'],\n",
              " '5908DD7C-2230-4000-A8DB-6A1D892AF336': ['header {\\nbtn-inactive, btn-inactive, btn-active\\n}\\nrow {\\ndouble {\\nsmall-title, text, btn-red\\n}\\ndouble {\\nsmall-title, text, btn-orange\\n}\\n}\\nrow {\\nsingle {\\nsmall-title, text, btn-orange\\n}\\n}\\nrow {\\nquadruple {\\nsmall-title, text, btn-red\\n}\\nquadruple {\\nsmall-title, text, btn-red\\n}\\nquadruple {\\nsmall-title, text, btn-orange\\n}\\nquadruple {\\nsmall-title, text, btn-red\\n}\\n}\\n'],\n",
              " '5936FBC5-0B94-401D-B463-12D02A07BBCC': ['header {\\nbtn-inactive, btn-active, btn-inactive\\n}\\nrow {\\ndouble {\\nsmall-title, text, btn-orange\\n}\\ndouble {\\nsmall-title, text, btn-orange\\n}\\n}\\nrow {\\nsingle {\\nsmall-title, text, btn-orange\\n}\\n}\\nrow {\\nquadruple {\\nsmall-title, text, btn-green\\n}\\nquadruple {\\nsmall-title, text, btn-red\\n}\\nquadruple {\\nsmall-title, text, btn-orange\\n}\\nquadruple {\\nsmall-title, text, btn-green\\n}\\n}\\n'],\n",
              " '5AAA1791-7970-4EE0-891B-2898CBE15C51': ['header {\\nbtn-inactive, btn-inactive, btn-active\\n}\\nrow {\\nquadruple {\\nsmall-title, text, btn-red\\n}\\nquadruple {\\nsmall-title, text, btn-orange\\n}\\nquadruple {\\nsmall-title, text, btn-green\\n}\\nquadruple {\\nsmall-title, text, btn-red\\n}\\n}\\nrow {\\nsingle {\\nsmall-title, text, btn-green\\n}\\n}\\nrow {\\ndouble {\\nsmall-title, text, btn-green\\n}\\ndouble {\\nsmall-title, text, btn-green\\n}\\n}\\n'],\n",
              " '5C65608B-F47F-4877-8922-E13E3D926253': ['header {\\nbtn-inactive, btn-active, btn-inactive, btn-inactive\\n}\\nrow {\\nsingle {\\nsmall-title, text, btn-red\\n}\\n}\\nrow {\\nquadruple {\\nsmall-title, text, btn-green\\n}\\nquadruple {\\nsmall-title, text, btn-red\\n}\\nquadruple {\\nsmall-title, text, btn-orange\\n}\\nquadruple {\\nsmall-title, text, btn-orange\\n}\\n}\\nrow {\\ndouble {\\nsmall-title, text, btn-green\\n}\\ndouble {\\nsmall-title, text, btn-orange\\n}\\n}\\n'],\n",
              " '5CA43D82-9772-4916-8DF0-A91F3920B5EB': ['header {\\nbtn-inactive, btn-inactive, btn-inactive, btn-active\\n}\\nrow {\\nsingle {\\nsmall-title, text, btn-orange\\n}\\n}\\nrow {\\ndouble {\\nsmall-title, text, btn-red\\n}\\ndouble {\\nsmall-title, text, btn-red\\n}\\n}\\nrow {\\nquadruple {\\nsmall-title, text, btn-red\\n}\\nquadruple {\\nsmall-title, text, btn-red\\n}\\nquadruple {\\nsmall-title, text, btn-orange\\n}\\nquadruple {\\nsmall-title, text, btn-red\\n}\\n}\\n'],\n",
              " '5CB6D212-84EF-4AA2-81E8-0F0DE69B0A6A': ['header {\\nbtn-inactive, btn-active\\n}\\nrow {\\ndouble {\\nsmall-title, text, btn-green\\n}\\ndouble {\\nsmall-title, text, btn-red\\n}\\n}\\nrow {\\nquadruple {\\nsmall-title, text, btn-orange\\n}\\nquadruple {\\nsmall-title, text, btn-green\\n}\\nquadruple {\\nsmall-title, text, btn-orange\\n}\\nquadruple {\\nsmall-title, text, btn-red\\n}\\n}\\nrow {\\nsingle {\\nsmall-title, text, btn-green\\n}\\n}\\n'],\n",
              " '5DE4CCA5-3DC2-4208-B8B5-9C434D450DF6': ['header {\\nbtn-active, btn-inactive, btn-inactive, btn-inactive\\n}\\nrow {\\ndouble {\\nsmall-title, text, btn-green\\n}\\ndouble {\\nsmall-title, text, btn-green\\n}\\n}\\n'],\n",
              " '5F1842D3-8DE0-48A7-A43B-C961BF2AED38': ['header {\\nbtn-inactive, btn-active, btn-inactive, btn-inactive, btn-inactive\\n}\\nrow {\\nsingle {\\nsmall-title, text, btn-orange\\n}\\n}\\n'],\n",
              " '5F71CD2D-049A-4F12-AA0D-BD3910D4B898': ['header {\\nbtn-active, btn-inactive\\n}\\nrow {\\nquadruple {\\nsmall-title, text, btn-red\\n}\\nquadruple {\\nsmall-title, text, btn-orange\\n}\\nquadruple {\\nsmall-title, text, btn-green\\n}\\nquadruple {\\nsmall-title, text, btn-green\\n}\\n}\\nrow {\\nsingle {\\nsmall-title, text, btn-orange\\n}\\n}\\nrow {\\ndouble {\\nsmall-title, text, btn-orange\\n}\\ndouble {\\nsmall-title, text, btn-orange\\n}\\n}\\n'],\n",
              " '5FC17573-C7E0-4FA1-B15D-98713575BE94': ['header {\\nbtn-active, btn-inactive, btn-inactive\\n}\\nrow {\\ndouble {\\nsmall-title, text, btn-green\\n}\\ndouble {\\nsmall-title, text, btn-orange\\n}\\n}\\nrow {\\nsingle {\\nsmall-title, text, btn-orange\\n}\\n}\\nrow {\\nquadruple {\\nsmall-title, text, btn-green\\n}\\nquadruple {\\nsmall-title, text, btn-green\\n}\\nquadruple {\\nsmall-title, text, btn-green\\n}\\nquadruple {\\nsmall-title, text, btn-red\\n}\\n}\\n'],\n",
              " '601173E2-D902-4478-968A-91DC5C59BED6': ['header {\\nbtn-inactive, btn-active, btn-inactive\\n}\\nrow {\\nquadruple {\\nsmall-title, text, btn-orange\\n}\\nquadruple {\\nsmall-title, text, btn-green\\n}\\nquadruple {\\nsmall-title, text, btn-green\\n}\\nquadruple {\\nsmall-title, text, btn-orange\\n}\\n}\\n'],\n",
              " '623BADB7-0078-4374-9FE8-DC98FE95B78B': ['header {\\nbtn-inactive, btn-inactive, btn-active, btn-inactive\\n}\\nrow {\\nsingle {\\nsmall-title, text, btn-green\\n}\\n}\\nrow {\\ndouble {\\nsmall-title, text, btn-red\\n}\\ndouble {\\nsmall-title, text, btn-green\\n}\\n}\\nrow {\\nquadruple {\\nsmall-title, text, btn-green\\n}\\nquadruple {\\nsmall-title, text, btn-green\\n}\\nquadruple {\\nsmall-title, text, btn-red\\n}\\nquadruple {\\nsmall-title, text, btn-red\\n}\\n}\\n'],\n",
              " '63954D63-A8E1-48BE-83D2-2EA8180AB7F1': ['header {\\nbtn-inactive, btn-active, btn-inactive, btn-inactive, btn-inactive\\n}\\nrow {\\nquadruple {\\nsmall-title, text, btn-green\\n}\\nquadruple {\\nsmall-title, text, btn-red\\n}\\nquadruple {\\nsmall-title, text, btn-orange\\n}\\nquadruple {\\nsmall-title, text, btn-red\\n}\\n}\\nrow {\\ndouble {\\nsmall-title, text, btn-orange\\n}\\ndouble {\\nsmall-title, text, btn-orange\\n}\\n}\\nrow {\\nsingle {\\nsmall-title, text, btn-red\\n}\\n}\\n'],\n",
              " '65381B1C-1E6E-4F89-84F4-9A082790FDE9': ['header {\\nbtn-active, btn-inactive, btn-inactive, btn-inactive, btn-inactive\\n}\\nrow {\\nquadruple {\\nsmall-title, text, btn-orange\\n}\\nquadruple {\\nsmall-title, text, btn-red\\n}\\nquadruple {\\nsmall-title, text, btn-red\\n}\\nquadruple {\\nsmall-title, text, btn-red\\n}\\n}\\nrow {\\ndouble {\\nsmall-title, text, btn-green\\n}\\ndouble {\\nsmall-title, text, btn-red\\n}\\n}\\nrow {\\nsingle {\\nsmall-title, text, btn-red\\n}\\n}\\n'],\n",
              " '65464850-0777-4513-9780-BC48F590FD2D': ['header {\\nbtn-inactive, btn-inactive, btn-active, btn-inactive, btn-inactive\\n}\\nrow {\\ndouble {\\nsmall-title, text, btn-green\\n}\\ndouble {\\nsmall-title, text, btn-green\\n}\\n}\\nrow {\\nsingle {\\nsmall-title, text, btn-orange\\n}\\n}\\nrow {\\nquadruple {\\nsmall-title, text, btn-orange\\n}\\nquadruple {\\nsmall-title, text, btn-green\\n}\\nquadruple {\\nsmall-title, text, btn-red\\n}\\nquadruple {\\nsmall-title, text, btn-green\\n}\\n}\\n'],\n",
              " '6549906D-62D4-4917-A286-D6A3276CC490': ['header {\\nbtn-inactive, btn-active\\n}\\nrow {\\nquadruple {\\nsmall-title, text, btn-green\\n}\\nquadruple {\\nsmall-title, text, btn-red\\n}\\nquadruple {\\nsmall-title, text, btn-orange\\n}\\nquadruple {\\nsmall-title, text, btn-green\\n}\\n}\\n'],\n",
              " '6593AD49-60AB-4366-83D6-25967E1C999E': ['header {\\nbtn-inactive, btn-inactive, btn-active, btn-inactive\\n}\\nrow {\\ndouble {\\nsmall-title, text, btn-red\\n}\\ndouble {\\nsmall-title, text, btn-orange\\n}\\n}\\nrow {\\ndouble {\\nsmall-title, text, btn-red\\n}\\ndouble {\\nsmall-title, text, btn-red\\n}\\n}\\n'],\n",
              " '65A60696-B327-4397-B67E-C56D9802B40E': ['header {\\nbtn-inactive, btn-inactive, btn-inactive, btn-inactive, btn-active\\n}\\nrow {\\nquadruple {\\nsmall-title, text, btn-orange\\n}\\nquadruple {\\nsmall-title, text, btn-orange\\n}\\nquadruple {\\nsmall-title, text, btn-green\\n}\\nquadruple {\\nsmall-title, text, btn-orange\\n}\\n}\\nrow {\\ndouble {\\nsmall-title, text, btn-orange\\n}\\ndouble {\\nsmall-title, text, btn-orange\\n}\\n}\\n'],\n",
              " '6680273A-17BA-4E4C-9C6C-2DB03D08610F': ['header {\\nbtn-inactive, btn-inactive, btn-active, btn-inactive, btn-inactive\\n}\\nrow {\\nquadruple {\\nsmall-title, text, btn-red\\n}\\nquadruple {\\nsmall-title, text, btn-orange\\n}\\nquadruple {\\nsmall-title, text, btn-green\\n}\\nquadruple {\\nsmall-title, text, btn-green\\n}\\n}\\nrow {\\nsingle {\\nsmall-title, text, btn-red\\n}\\n}\\nrow {\\ndouble {\\nsmall-title, text, btn-red\\n}\\ndouble {\\nsmall-title, text, btn-orange\\n}\\n}\\n'],\n",
              " '668E8674-EAAD-4F8A-BDC2-619DBB15DEFC': ['header {\\nbtn-active, btn-inactive\\n}\\nrow {\\nsingle {\\nsmall-title, text, btn-orange\\n}\\n}\\nrow {\\nquadruple {\\nsmall-title, text, btn-red\\n}\\nquadruple {\\nsmall-title, text, btn-red\\n}\\nquadruple {\\nsmall-title, text, btn-orange\\n}\\nquadruple {\\nsmall-title, text, btn-red\\n}\\n}\\nrow {\\ndouble {\\nsmall-title, text, btn-orange\\n}\\ndouble {\\nsmall-title, text, btn-orange\\n}\\n}\\n'],\n",
              " '66F8FAB4-AF3F-4B5C-92CB-B77E564C172F': ['header {\\nbtn-inactive, btn-active, btn-inactive, btn-inactive\\n}\\nrow {\\nquadruple {\\nsmall-title, text, btn-red\\n}\\nquadruple {\\nsmall-title, text, btn-orange\\n}\\nquadruple {\\nsmall-title, text, btn-red\\n}\\nquadruple {\\nsmall-title, text, btn-orange\\n}\\n}\\nrow {\\ndouble {\\nsmall-title, text, btn-orange\\n}\\ndouble {\\nsmall-title, text, btn-green\\n}\\n}\\nrow {\\nsingle {\\nsmall-title, text, btn-orange\\n}\\n}\\n'],\n",
              " '686D61A8-BD43-474B-90A1-63C39F945AC4': ['header {\\nbtn-inactive, btn-active\\n}\\nrow {\\nsingle {\\nsmall-title, text, btn-orange\\n}\\n}\\nrow {\\ndouble {\\nsmall-title, text, btn-green\\n}\\ndouble {\\nsmall-title, text, btn-red\\n}\\n}\\nrow {\\nquadruple {\\nsmall-title, text, btn-orange\\n}\\nquadruple {\\nsmall-title, text, btn-red\\n}\\nquadruple {\\nsmall-title, text, btn-red\\n}\\nquadruple {\\nsmall-title, text, btn-green\\n}\\n}\\n'],\n",
              " '68F14192-3771-478D-AE21-0656DB902DFD': ['header {\\nbtn-inactive, btn-inactive, btn-active\\n}\\nrow {\\nsingle {\\nsmall-title, text, btn-red\\n}\\n}\\nrow {\\ndouble {\\nsmall-title, text, btn-green\\n}\\ndouble {\\nsmall-title, text, btn-red\\n}\\n}\\nrow {\\nquadruple {\\nsmall-title, text, btn-red\\n}\\nquadruple {\\nsmall-title, text, btn-green\\n}\\nquadruple {\\nsmall-title, text, btn-red\\n}\\nquadruple {\\nsmall-title, text, btn-orange\\n}\\n}\\n'],\n",
              " '6952EB62-2CF3-4BF7-9099-FCBBF92D1152': ['header {\\nbtn-inactive, btn-active\\n}\\nrow {\\nquadruple {\\nsmall-title, text, btn-green\\n}\\nquadruple {\\nsmall-title, text, btn-red\\n}\\nquadruple {\\nsmall-title, text, btn-red\\n}\\nquadruple {\\nsmall-title, text, btn-green\\n}\\n}\\n'],\n",
              " '69D8EEF6-9969-4C85-BBD5-C3B52E10C619': ['header {\\nbtn-inactive, btn-active\\n}\\nrow {\\ndouble {\\nsmall-title, text, btn-red\\n}\\ndouble {\\nsmall-title, text, btn-green\\n}\\n}\\nrow {\\ndouble {\\nsmall-title, text, btn-green\\n}\\ndouble {\\nsmall-title, text, btn-green\\n}\\n}\\nrow {\\ndouble {\\nsmall-title, text, btn-red\\n}\\ndouble {\\nsmall-title, text, btn-red\\n}\\n}\\n'],\n",
              " '6C24F213-6C66-4DB9-B61B-31DFB41AAA83': ['header {\\nbtn-inactive, btn-inactive, btn-active\\n}\\nrow {\\ndouble {\\nsmall-title, text, btn-red\\n}\\ndouble {\\nsmall-title, text, btn-red\\n}\\n}\\nrow {\\nsingle {\\nsmall-title, text, btn-orange\\n}\\n}\\nrow {\\ndouble {\\nsmall-title, text, btn-green\\n}\\ndouble {\\nsmall-title, text, btn-green\\n}\\n}\\n'],\n",
              " '6EC55D94-03BE-416E-9861-92492D07CED5': ['header {\\nbtn-inactive, btn-active\\n}\\nrow {\\nsingle {\\nsmall-title, text, btn-orange\\n}\\n}\\nrow {\\nquadruple {\\nsmall-title, text, btn-green\\n}\\nquadruple {\\nsmall-title, text, btn-orange\\n}\\nquadruple {\\nsmall-title, text, btn-green\\n}\\nquadruple {\\nsmall-title, text, btn-orange\\n}\\n}\\n'],\n",
              " '6F1D6D83-3C61-4479-9B0B-94D59546D04C': ['header {\\nbtn-active, btn-inactive, btn-inactive\\n}\\nrow {\\nsingle {\\nsmall-title, text, btn-red\\n}\\n}\\nrow {\\ndouble {\\nsmall-title, text, btn-green\\n}\\ndouble {\\nsmall-title, text, btn-red\\n}\\n}\\nrow {\\nquadruple {\\nsmall-title, text, btn-orange\\n}\\nquadruple {\\nsmall-title, text, btn-green\\n}\\nquadruple {\\nsmall-title, text, btn-red\\n}\\nquadruple {\\nsmall-title, text, btn-orange\\n}\\n}\\n'],\n",
              " '6F83D5A9-E876-4B31-95DF-2B6568654C6C': ['header {\\nbtn-inactive, btn-inactive, btn-inactive, btn-active, btn-inactive\\n}\\nrow {\\nsingle {\\nsmall-title, text, btn-green\\n}\\n}\\nrow {\\ndouble {\\nsmall-title, text, btn-green\\n}\\ndouble {\\nsmall-title, text, btn-green\\n}\\n}\\nrow {\\nquadruple {\\nsmall-title, text, btn-red\\n}\\nquadruple {\\nsmall-title, text, btn-red\\n}\\nquadruple {\\nsmall-title, text, btn-red\\n}\\nquadruple {\\nsmall-title, text, btn-red\\n}\\n}\\n'],\n",
              " '72C8B188-5509-48A8-9E6F-987B24DAA467': ['header {\\nbtn-inactive, btn-inactive, btn-inactive, btn-active, btn-inactive\\n}\\nrow {\\nquadruple {\\nsmall-title, text, btn-orange\\n}\\nquadruple {\\nsmall-title, text, btn-red\\n}\\nquadruple {\\nsmall-title, text, btn-red\\n}\\nquadruple {\\nsmall-title, text, btn-red\\n}\\n}\\nrow {\\nsingle {\\nsmall-title, text, btn-red\\n}\\n}\\n'],\n",
              " '74E26FAA-6B21-4373-A7ED-5F40ED04EBD6': ['header {\\nbtn-active, btn-inactive, btn-inactive\\n}\\nrow {\\nsingle {\\nsmall-title, text, btn-red\\n}\\n}\\n'],\n",
              " '75062036-B8B4-4BA4-80B9-6BD5C42527D7': ['header {\\nbtn-inactive, btn-active\\n}\\nrow {\\ndouble {\\nsmall-title, text, btn-orange\\n}\\ndouble {\\nsmall-title, text, btn-orange\\n}\\n}\\n'],\n",
              " '75E3BCB3-BA79-43E0-A4B0-E1BE6A8DD18B': ['header {\\nbtn-inactive, btn-active\\n}\\nrow {\\ndouble {\\nsmall-title, text, btn-red\\n}\\ndouble {\\nsmall-title, text, btn-orange\\n}\\n}\\nrow {\\nsingle {\\nsmall-title, text, btn-green\\n}\\n}\\nrow {\\nquadruple {\\nsmall-title, text, btn-orange\\n}\\nquadruple {\\nsmall-title, text, btn-green\\n}\\nquadruple {\\nsmall-title, text, btn-orange\\n}\\nquadruple {\\nsmall-title, text, btn-orange\\n}\\n}\\n'],\n",
              " '766FEEAF-4249-4034-B832-362407C08ACE': ['header {\\nbtn-active, btn-inactive\\n}\\nrow {\\ndouble {\\nsmall-title, text, btn-red\\n}\\ndouble {\\nsmall-title, text, btn-red\\n}\\n}\\nrow {\\nsingle {\\nsmall-title, text, btn-red\\n}\\n}\\nrow {\\nquadruple {\\nsmall-title, text, btn-green\\n}\\nquadruple {\\nsmall-title, text, btn-green\\n}\\nquadruple {\\nsmall-title, text, btn-red\\n}\\nquadruple {\\nsmall-title, text, btn-red\\n}\\n}\\n'],\n",
              " '775AD0A5-EE72-4F6E-91A6-4F4594B435CF': ['header {\\nbtn-inactive, btn-inactive, btn-inactive, btn-active\\n}\\nrow {\\nquadruple {\\nsmall-title, text, btn-green\\n}\\nquadruple {\\nsmall-title, text, btn-orange\\n}\\nquadruple {\\nsmall-title, text, btn-orange\\n}\\nquadruple {\\nsmall-title, text, btn-orange\\n}\\n}\\nrow {\\ndouble {\\nsmall-title, text, btn-red\\n}\\ndouble {\\nsmall-title, text, btn-green\\n}\\n}\\nrow {\\nsingle {\\nsmall-title, text, btn-red\\n}\\n}\\n'],\n",
              " '7784F9B3-30DA-4DDA-8843-ED9037C71EC6': ['header {\\nbtn-active, btn-inactive\\n}\\nrow {\\ndouble {\\nsmall-title, text, btn-green\\n}\\ndouble {\\nsmall-title, text, btn-red\\n}\\n}\\n'],\n",
              " '790B9015-40DC-4B8B-AEDA-7EF6A0B687C9': ['header {\\nbtn-inactive, btn-inactive, btn-inactive, btn-active, btn-inactive\\n}\\nrow {\\nquadruple {\\nsmall-title, text, btn-green\\n}\\nquadruple {\\nsmall-title, text, btn-red\\n}\\nquadruple {\\nsmall-title, text, btn-red\\n}\\nquadruple {\\nsmall-title, text, btn-red\\n}\\n}\\nrow {\\ndouble {\\nsmall-title, text, btn-orange\\n}\\ndouble {\\nsmall-title, text, btn-orange\\n}\\n}\\nrow {\\nsingle {\\nsmall-title, text, btn-red\\n}\\n}\\n'],\n",
              " '793F2749-9E00-41D7-8193-86778FBB8629': ['header {\\nbtn-active, btn-inactive, btn-inactive, btn-inactive\\n}\\nrow {\\nquadruple {\\nsmall-title, text, btn-orange\\n}\\nquadruple {\\nsmall-title, text, btn-orange\\n}\\nquadruple {\\nsmall-title, text, btn-red\\n}\\nquadruple {\\nsmall-title, text, btn-orange\\n}\\n}\\nrow {\\ndouble {\\nsmall-title, text, btn-orange\\n}\\ndouble {\\nsmall-title, text, btn-orange\\n}\\n}\\nrow {\\nsingle {\\nsmall-title, text, btn-orange\\n}\\n}\\n'],\n",
              " '7A34A165-84F7-4FC0-B77B-05927E3695A3': ['header {\\nbtn-active, btn-inactive\\n}\\nrow {\\nsingle {\\nsmall-title, text, btn-green\\n}\\n}\\nrow {\\ndouble {\\nsmall-title, text, btn-green\\n}\\ndouble {\\nsmall-title, text, btn-green\\n}\\n}\\nrow {\\nquadruple {\\nsmall-title, text, btn-red\\n}\\nquadruple {\\nsmall-title, text, btn-orange\\n}\\nquadruple {\\nsmall-title, text, btn-orange\\n}\\nquadruple {\\nsmall-title, text, btn-green\\n}\\n}\\n'],\n",
              " '7C818073-24ED-41F0-B714-2DD22A6A5B08': ['header {\\nbtn-inactive, btn-inactive, btn-active, btn-inactive\\n}\\nrow {\\nsingle {\\nsmall-title, text, btn-orange\\n}\\n}\\nrow {\\ndouble {\\nsmall-title, text, btn-orange\\n}\\ndouble {\\nsmall-title, text, btn-red\\n}\\n}\\nrow {\\nquadruple {\\nsmall-title, text, btn-red\\n}\\nquadruple {\\nsmall-title, text, btn-red\\n}\\nquadruple {\\nsmall-title, text, btn-green\\n}\\nquadruple {\\nsmall-title, text, btn-red\\n}\\n}\\n'],\n",
              " '7DC5C1A5-86C7-445C-A0FE-C30A019DA612': ['header {\\nbtn-active, btn-inactive, btn-inactive\\n}\\nrow {\\nquadruple {\\nsmall-title, text, btn-green\\n}\\nquadruple {\\nsmall-title, text, btn-red\\n}\\nquadruple {\\nsmall-title, text, btn-green\\n}\\nquadruple {\\nsmall-title, text, btn-green\\n}\\n}\\nrow {\\ndouble {\\nsmall-title, text, btn-orange\\n}\\ndouble {\\nsmall-title, text, btn-red\\n}\\n}\\nrow {\\nsingle {\\nsmall-title, text, btn-green\\n}\\n}\\n'],\n",
              " '7EFBB693-B471-45CF-AE96-33A17BC016F1': ['header {\\nbtn-inactive, btn-active, btn-inactive, btn-inactive, btn-inactive\\n}\\nrow {\\nquadruple {\\nsmall-title, text, btn-red\\n}\\nquadruple {\\nsmall-title, text, btn-orange\\n}\\nquadruple {\\nsmall-title, text, btn-green\\n}\\nquadruple {\\nsmall-title, text, btn-green\\n}\\n}\\n'],\n",
              " '80D55A0E-8C17-44CE-B6A3-CA3C3CF1735A': ['header {\\nbtn-inactive, btn-inactive, btn-inactive, btn-inactive, btn-active\\n}\\nrow {\\nsingle {\\nsmall-title, text, btn-green\\n}\\n}\\nrow {\\ndouble {\\nsmall-title, text, btn-red\\n}\\ndouble {\\nsmall-title, text, btn-orange\\n}\\n}\\nrow {\\nquadruple {\\nsmall-title, text, btn-green\\n}\\nquadruple {\\nsmall-title, text, btn-red\\n}\\nquadruple {\\nsmall-title, text, btn-red\\n}\\nquadruple {\\nsmall-title, text, btn-orange\\n}\\n}\\n'],\n",
              " '80E62312-9C09-4A5B-9E2C-22F396D90F90': ['header {\\nbtn-inactive, btn-inactive, btn-active, btn-inactive\\n}\\nrow {\\nquadruple {\\nsmall-title, text, btn-green\\n}\\nquadruple {\\nsmall-title, text, btn-red\\n}\\nquadruple {\\nsmall-title, text, btn-red\\n}\\nquadruple {\\nsmall-title, text, btn-green\\n}\\n}\\nrow {\\nsingle {\\nsmall-title, text, btn-green\\n}\\n}\\nrow {\\ndouble {\\nsmall-title, text, btn-red\\n}\\ndouble {\\nsmall-title, text, btn-green\\n}\\n}\\n'],\n",
              " '82698535-BD3D-40CE-8570-6B7E6D1059FE': ['header {\\nbtn-active, btn-inactive, btn-inactive\\n}\\nrow {\\nsingle {\\nsmall-title, text, btn-green\\n}\\n}\\nrow {\\nsingle {\\nsmall-title, text, btn-green\\n}\\n}\\nrow {\\nsingle {\\nsmall-title, text, btn-orange\\n}\\n}\\n'],\n",
              " '82734013-A5BA-4160-AFD2-5A6BBAA2ED85': ['header {\\nbtn-inactive, btn-active, btn-inactive, btn-inactive, btn-inactive\\n}\\nrow {\\nsingle {\\nsmall-title, text, btn-green\\n}\\n}\\nrow {\\nquadruple {\\nsmall-title, text, btn-green\\n}\\nquadruple {\\nsmall-title, text, btn-orange\\n}\\nquadruple {\\nsmall-title, text, btn-green\\n}\\nquadruple {\\nsmall-title, text, btn-orange\\n}\\n}\\nrow {\\ndouble {\\nsmall-title, text, btn-red\\n}\\ndouble {\\nsmall-title, text, btn-red\\n}\\n}\\n'],\n",
              " '837749D1-9C4D-46C5-8C49-600EEE296577': ['header {\\nbtn-active, btn-inactive, btn-inactive, btn-inactive\\n}\\nrow {\\nquadruple {\\nsmall-title, text, btn-red\\n}\\nquadruple {\\nsmall-title, text, btn-red\\n}\\nquadruple {\\nsmall-title, text, btn-orange\\n}\\nquadruple {\\nsmall-title, text, btn-orange\\n}\\n}\\nrow {\\nsingle {\\nsmall-title, text, btn-red\\n}\\n}\\nrow {\\ndouble {\\nsmall-title, text, btn-green\\n}\\ndouble {\\nsmall-title, text, btn-orange\\n}\\n}\\n'],\n",
              " '83D7D7B8-BC5B-4491-B190-F726CE9787A1': ['header {\\nbtn-inactive, btn-inactive, btn-inactive, btn-active\\n}\\nrow {\\nquadruple {\\nsmall-title, text, btn-green\\n}\\nquadruple {\\nsmall-title, text, btn-red\\n}\\nquadruple {\\nsmall-title, text, btn-orange\\n}\\nquadruple {\\nsmall-title, text, btn-orange\\n}\\n}\\nrow {\\nsingle {\\nsmall-title, text, btn-green\\n}\\n}\\nrow {\\ndouble {\\nsmall-title, text, btn-green\\n}\\ndouble {\\nsmall-title, text, btn-orange\\n}\\n}\\n'],\n",
              " '8443F9E8-A3F6-4268-BF72-0CDD9A0C99DB': ['header {\\nbtn-active, btn-inactive, btn-inactive, btn-inactive, btn-inactive\\n}\\nrow {\\ndouble {\\nsmall-title, text, btn-orange\\n}\\ndouble {\\nsmall-title, text, btn-green\\n}\\n}\\nrow {\\nsingle {\\nsmall-title, text, btn-red\\n}\\n}\\nrow {\\nsingle {\\nsmall-title, text, btn-orange\\n}\\n}\\n'],\n",
              " '84A9D352-DC8B-4FA9-BF8F-E9C445F5928C': ['header {\\nbtn-inactive, btn-inactive, btn-active\\n}\\nrow {\\nsingle {\\nsmall-title, text, btn-green\\n}\\n}\\nrow {\\ndouble {\\nsmall-title, text, btn-orange\\n}\\ndouble {\\nsmall-title, text, btn-orange\\n}\\n}\\nrow {\\nquadruple {\\nsmall-title, text, btn-red\\n}\\nquadruple {\\nsmall-title, text, btn-green\\n}\\nquadruple {\\nsmall-title, text, btn-green\\n}\\nquadruple {\\nsmall-title, text, btn-red\\n}\\n}\\n'],\n",
              " '852206B3-587B-40F5-8DFC-4ABFACCAF9D2': ['header {\\nbtn-inactive, btn-inactive, btn-inactive, btn-active\\n}\\nrow {\\nsingle {\\nsmall-title, text, btn-green\\n}\\n}\\nrow {\\nquadruple {\\nsmall-title, text, btn-green\\n}\\nquadruple {\\nsmall-title, text, btn-green\\n}\\nquadruple {\\nsmall-title, text, btn-orange\\n}\\nquadruple {\\nsmall-title, text, btn-red\\n}\\n}\\nrow {\\ndouble {\\nsmall-title, text, btn-red\\n}\\ndouble {\\nsmall-title, text, btn-orange\\n}\\n}\\n'],\n",
              " '861291C8-E479-4EE2-9794-A6EC7620AFDE': ['header {\\nbtn-active, btn-inactive, btn-inactive, btn-inactive\\n}\\nrow {\\ndouble {\\nsmall-title, text, btn-red\\n}\\ndouble {\\nsmall-title, text, btn-red\\n}\\n}\\nrow {\\nsingle {\\nsmall-title, text, btn-orange\\n}\\n}\\nrow {\\nquadruple {\\nsmall-title, text, btn-red\\n}\\nquadruple {\\nsmall-title, text, btn-orange\\n}\\nquadruple {\\nsmall-title, text, btn-orange\\n}\\nquadruple {\\nsmall-title, text, btn-green\\n}\\n}\\n'],\n",
              " '86D636EE-7915-457A-92C1-EA9BA4D10309': ['header {\\nbtn-inactive, btn-active\\n}\\nrow {\\nquadruple {\\nsmall-title, text, btn-red\\n}\\nquadruple {\\nsmall-title, text, btn-green\\n}\\nquadruple {\\nsmall-title, text, btn-orange\\n}\\nquadruple {\\nsmall-title, text, btn-green\\n}\\n}\\nrow {\\ndouble {\\nsmall-title, text, btn-red\\n}\\ndouble {\\nsmall-title, text, btn-red\\n}\\n}\\nrow {\\nsingle {\\nsmall-title, text, btn-orange\\n}\\n}\\n'],\n",
              " '87CEEDB7-65EE-42BD-90D8-14A46112F6F1': ['header {\\nbtn-active, btn-inactive\\n}\\nrow {\\nsingle {\\nsmall-title, text, btn-green\\n}\\n}\\nrow {\\ndouble {\\nsmall-title, text, btn-green\\n}\\ndouble {\\nsmall-title, text, btn-orange\\n}\\n}\\n'],\n",
              " '8A511A78-DF46-4AEC-BA56-D07572CE64AA': ['header {\\nbtn-inactive, btn-active\\n}\\nrow {\\ndouble {\\nsmall-title, text, btn-orange\\n}\\ndouble {\\nsmall-title, text, btn-red\\n}\\n}\\nrow {\\nquadruple {\\nsmall-title, text, btn-orange\\n}\\nquadruple {\\nsmall-title, text, btn-red\\n}\\nquadruple {\\nsmall-title, text, btn-green\\n}\\nquadruple {\\nsmall-title, text, btn-orange\\n}\\n}\\nrow {\\nsingle {\\nsmall-title, text, btn-green\\n}\\n}\\n'],\n",
              " '8B03AC02-A718-4316-9A79-9DBE014789EC': ['header {\\nbtn-active, btn-inactive\\n}\\nrow {\\ndouble {\\nsmall-title, text, btn-orange\\n}\\ndouble {\\nsmall-title, text, btn-orange\\n}\\n}\\nrow {\\nsingle {\\nsmall-title, text, btn-green\\n}\\n}\\nrow {\\nquadruple {\\nsmall-title, text, btn-red\\n}\\nquadruple {\\nsmall-title, text, btn-orange\\n}\\nquadruple {\\nsmall-title, text, btn-green\\n}\\nquadruple {\\nsmall-title, text, btn-orange\\n}\\n}\\n'],\n",
              " '8C800285-4966-41CC-BBC2-826DF1F35D87': ['header {\\nbtn-inactive, btn-active, btn-inactive, btn-inactive\\n}\\nrow {\\nsingle {\\nsmall-title, text, btn-red\\n}\\n}\\nrow {\\nquadruple {\\nsmall-title, text, btn-orange\\n}\\nquadruple {\\nsmall-title, text, btn-orange\\n}\\nquadruple {\\nsmall-title, text, btn-green\\n}\\nquadruple {\\nsmall-title, text, btn-green\\n}\\n}\\nrow {\\ndouble {\\nsmall-title, text, btn-green\\n}\\ndouble {\\nsmall-title, text, btn-red\\n}\\n}\\n'],\n",
              " '8E1D77C9-8476-48C1-A29B-1BA833D536CA': ['header {\\nbtn-active, btn-inactive\\n}\\nrow {\\nquadruple {\\nsmall-title, text, btn-orange\\n}\\nquadruple {\\nsmall-title, text, btn-green\\n}\\nquadruple {\\nsmall-title, text, btn-green\\n}\\nquadruple {\\nsmall-title, text, btn-green\\n}\\n}\\n'],\n",
              " '8E499C05-D2E4-43B2-8502-E2255A629B3F': ['header {\\nbtn-inactive, btn-inactive, btn-inactive, btn-active, btn-inactive\\n}\\nrow {\\ndouble {\\nsmall-title, text, btn-green\\n}\\ndouble {\\nsmall-title, text, btn-orange\\n}\\n}\\n'],\n",
              " '8E630267-D197-4B24-BD32-FE0F4B142C73': ['header {\\nbtn-inactive, btn-inactive, btn-inactive, btn-active, btn-inactive\\n}\\nrow {\\nsingle {\\nsmall-title, text, btn-green\\n}\\n}\\nrow {\\nsingle {\\nsmall-title, text, btn-orange\\n}\\n}\\n'],\n",
              " '9016B035-ECA1-403B-899D-E97A37470CB1': ['header {\\nbtn-inactive, btn-inactive, btn-inactive, btn-inactive, btn-active\\n}\\nrow {\\ndouble {\\nsmall-title, text, btn-orange\\n}\\ndouble {\\nsmall-title, text, btn-orange\\n}\\n}\\n'],\n",
              " '909445A3-34E3-4FC6-A756-4D4D263D71CD': ['header {\\nbtn-inactive, btn-inactive, btn-active\\n}\\nrow {\\nquadruple {\\nsmall-title, text, btn-red\\n}\\nquadruple {\\nsmall-title, text, btn-orange\\n}\\nquadruple {\\nsmall-title, text, btn-green\\n}\\nquadruple {\\nsmall-title, text, btn-orange\\n}\\n}\\nrow {\\ndouble {\\nsmall-title, text, btn-red\\n}\\ndouble {\\nsmall-title, text, btn-green\\n}\\n}\\nrow {\\nsingle {\\nsmall-title, text, btn-green\\n}\\n}\\n'],\n",
              " '9119B32B-2D5B-4B97-B040-FA43D3CEE281': ['header {\\nbtn-inactive, btn-active, btn-inactive, btn-inactive\\n}\\nrow {\\nsingle {\\nsmall-title, text, btn-red\\n}\\n}\\nrow {\\ndouble {\\nsmall-title, text, btn-red\\n}\\ndouble {\\nsmall-title, text, btn-red\\n}\\n}\\n'],\n",
              " '918B9B0E-3BB0-40AB-8197-E89A46119C57': ['header {\\nbtn-active, btn-inactive, btn-inactive\\n}\\nrow {\\ndouble {\\nsmall-title, text, btn-red\\n}\\ndouble {\\nsmall-title, text, btn-orange\\n}\\n}\\nrow {\\nsingle {\\nsmall-title, text, btn-orange\\n}\\n}\\nrow {\\nquadruple {\\nsmall-title, text, btn-orange\\n}\\nquadruple {\\nsmall-title, text, btn-orange\\n}\\nquadruple {\\nsmall-title, text, btn-orange\\n}\\nquadruple {\\nsmall-title, text, btn-orange\\n}\\n}\\n'],\n",
              " '93010B40-2034-40B7-8543-228964153459': ['header {\\nbtn-active, btn-inactive, btn-inactive, btn-inactive\\n}\\nrow {\\nsingle {\\nsmall-title, text, btn-red\\n}\\n}\\nrow {\\nquadruple {\\nsmall-title, text, btn-red\\n}\\nquadruple {\\nsmall-title, text, btn-orange\\n}\\nquadruple {\\nsmall-title, text, btn-green\\n}\\nquadruple {\\nsmall-title, text, btn-orange\\n}\\n}\\n'],\n",
              " '935DC42F-82F6-4509-A392-11064C66BF3E': ['header {\\nbtn-inactive, btn-active\\n}\\nrow {\\nquadruple {\\nsmall-title, text, btn-orange\\n}\\nquadruple {\\nsmall-title, text, btn-orange\\n}\\nquadruple {\\nsmall-title, text, btn-orange\\n}\\nquadruple {\\nsmall-title, text, btn-green\\n}\\n}\\n'],\n",
              " '93ABD885-C510-400B-8F4A-ADFDFA477CD4': ['header {\\nbtn-inactive, btn-inactive, btn-active, btn-inactive\\n}\\nrow {\\ndouble {\\nsmall-title, text, btn-orange\\n}\\ndouble {\\nsmall-title, text, btn-green\\n}\\n}\\nrow {\\nsingle {\\nsmall-title, text, btn-green\\n}\\n}\\nrow {\\nquadruple {\\nsmall-title, text, btn-orange\\n}\\nquadruple {\\nsmall-title, text, btn-red\\n}\\nquadruple {\\nsmall-title, text, btn-green\\n}\\nquadruple {\\nsmall-title, text, btn-green\\n}\\n}\\n'],\n",
              " '9503FD2B-4030-42EA-8A97-B3F7CD6328ED': ['header {\\nbtn-inactive, btn-active\\n}\\nrow {\\nsingle {\\nsmall-title, text, btn-green\\n}\\n}\\nrow {\\nquadruple {\\nsmall-title, text, btn-green\\n}\\nquadruple {\\nsmall-title, text, btn-green\\n}\\nquadruple {\\nsmall-title, text, btn-orange\\n}\\nquadruple {\\nsmall-title, text, btn-orange\\n}\\n}\\nrow {\\ndouble {\\nsmall-title, text, btn-green\\n}\\ndouble {\\nsmall-title, text, btn-orange\\n}\\n}\\n'],\n",
              " '9563CB87-4E04-4CB0-8EA8-9B25AB511709': ['header {\\nbtn-active, btn-inactive, btn-inactive\\n}\\nrow {\\nquadruple {\\nsmall-title, text, btn-green\\n}\\nquadruple {\\nsmall-title, text, btn-red\\n}\\nquadruple {\\nsmall-title, text, btn-red\\n}\\nquadruple {\\nsmall-title, text, btn-red\\n}\\n}\\nrow {\\ndouble {\\nsmall-title, text, btn-orange\\n}\\ndouble {\\nsmall-title, text, btn-green\\n}\\n}\\nrow {\\nsingle {\\nsmall-title, text, btn-orange\\n}\\n}\\n'],\n",
              " '95B2021E-C4F2-4618-A8BC-493779E567E9': ['header {\\nbtn-active, btn-inactive\\n}\\nrow {\\ndouble {\\nsmall-title, text, btn-green\\n}\\ndouble {\\nsmall-title, text, btn-red\\n}\\n}\\nrow {\\nquadruple {\\nsmall-title, text, btn-green\\n}\\nquadruple {\\nsmall-title, text, btn-green\\n}\\nquadruple {\\nsmall-title, text, btn-orange\\n}\\nquadruple {\\nsmall-title, text, btn-green\\n}\\n}\\nrow {\\nsingle {\\nsmall-title, text, btn-orange\\n}\\n}\\n'],\n",
              " '95BEAA32-41F4-45D3-9531-B85AA514AF5F': ['header {\\nbtn-active, btn-inactive\\n}\\nrow {\\nquadruple {\\nsmall-title, text, btn-green\\n}\\nquadruple {\\nsmall-title, text, btn-green\\n}\\nquadruple {\\nsmall-title, text, btn-green\\n}\\nquadruple {\\nsmall-title, text, btn-green\\n}\\n}\\n'],\n",
              " '9656D730-3067-445B-9144-A2BDAD2C7F55': ['header {\\nbtn-inactive, btn-inactive, btn-active, btn-inactive, btn-inactive\\n}\\nrow {\\ndouble {\\nsmall-title, text, btn-green\\n}\\ndouble {\\nsmall-title, text, btn-green\\n}\\n}\\nrow {\\nquadruple {\\nsmall-title, text, btn-orange\\n}\\nquadruple {\\nsmall-title, text, btn-red\\n}\\nquadruple {\\nsmall-title, text, btn-red\\n}\\nquadruple {\\nsmall-title, text, btn-orange\\n}\\n}\\nrow {\\nsingle {\\nsmall-title, text, btn-red\\n}\\n}\\n'],\n",
              " '967A76E0-0B09-48D6-AD4A-5E40CE51FEFD': ['header {\\nbtn-inactive, btn-inactive, btn-active\\n}\\nrow {\\ndouble {\\nsmall-title, text, btn-orange\\n}\\ndouble {\\nsmall-title, text, btn-green\\n}\\n}\\nrow {\\nquadruple {\\nsmall-title, text, btn-orange\\n}\\nquadruple {\\nsmall-title, text, btn-orange\\n}\\nquadruple {\\nsmall-title, text, btn-green\\n}\\nquadruple {\\nsmall-title, text, btn-orange\\n}\\n}\\nrow {\\nsingle {\\nsmall-title, text, btn-green\\n}\\n}\\n'],\n",
              " '97025D8E-A8FA-4027-81EB-204F87FCA39A': ['header {\\nbtn-active, btn-inactive, btn-inactive, btn-inactive\\n}\\nrow {\\nquadruple {\\nsmall-title, text, btn-green\\n}\\nquadruple {\\nsmall-title, text, btn-orange\\n}\\nquadruple {\\nsmall-title, text, btn-green\\n}\\nquadruple {\\nsmall-title, text, btn-red\\n}\\n}\\nrow {\\ndouble {\\nsmall-title, text, btn-red\\n}\\ndouble {\\nsmall-title, text, btn-red\\n}\\n}\\nrow {\\nsingle {\\nsmall-title, text, btn-green\\n}\\n}\\n'],\n",
              " '97EEA143-758D-48A3-953E-E8A42343A7DD': ['header {\\nbtn-inactive, btn-active\\n}\\nrow {\\nquadruple {\\nsmall-title, text, btn-red\\n}\\nquadruple {\\nsmall-title, text, btn-orange\\n}\\nquadruple {\\nsmall-title, text, btn-red\\n}\\nquadruple {\\nsmall-title, text, btn-orange\\n}\\n}\\nrow {\\ndouble {\\nsmall-title, text, btn-green\\n}\\ndouble {\\nsmall-title, text, btn-orange\\n}\\n}\\n'],\n",
              " '98844172-E993-4405-8521-9715A6108C64': ['header {\\nbtn-active, btn-inactive\\n}\\nrow {\\nsingle {\\nsmall-title, text, btn-orange\\n}\\n}\\nrow {\\nquadruple {\\nsmall-title, text, btn-orange\\n}\\nquadruple {\\nsmall-title, text, btn-orange\\n}\\nquadruple {\\nsmall-title, text, btn-red\\n}\\nquadruple {\\nsmall-title, text, btn-red\\n}\\n}\\nrow {\\ndouble {\\nsmall-title, text, btn-orange\\n}\\ndouble {\\nsmall-title, text, btn-red\\n}\\n}\\n'],\n",
              " '988C829D-D37A-4A47-A5A6-D476F2FF8656': ['header {\\nbtn-inactive, btn-active, btn-inactive, btn-inactive, btn-inactive\\n}\\nrow {\\nquadruple {\\nsmall-title, text, btn-green\\n}\\nquadruple {\\nsmall-title, text, btn-orange\\n}\\nquadruple {\\nsmall-title, text, btn-orange\\n}\\nquadruple {\\nsmall-title, text, btn-red\\n}\\n}\\nrow {\\ndouble {\\nsmall-title, text, btn-green\\n}\\ndouble {\\nsmall-title, text, btn-orange\\n}\\n}\\n'],\n",
              " '99720969-917D-4843-BB69-D09AF953F258': ['header {\\nbtn-inactive, btn-inactive, btn-inactive, btn-active, btn-inactive\\n}\\nrow {\\ndouble {\\nsmall-title, text, btn-green\\n}\\ndouble {\\nsmall-title, text, btn-red\\n}\\n}\\nrow {\\nsingle {\\nsmall-title, text, btn-green\\n}\\n}\\nrow {\\nquadruple {\\nsmall-title, text, btn-green\\n}\\nquadruple {\\nsmall-title, text, btn-green\\n}\\nquadruple {\\nsmall-title, text, btn-green\\n}\\nquadruple {\\nsmall-title, text, btn-orange\\n}\\n}\\n'],\n",
              " '99D2A686-197B-4780-BA24-F77230325BD1': ['header {\\nbtn-active, btn-inactive, btn-inactive\\n}\\nrow {\\ndouble {\\nsmall-title, text, btn-red\\n}\\ndouble {\\nsmall-title, text, btn-orange\\n}\\n}\\nrow {\\nsingle {\\nsmall-title, text, btn-orange\\n}\\n}\\nrow {\\nquadruple {\\nsmall-title, text, btn-green\\n}\\nquadruple {\\nsmall-title, text, btn-red\\n}\\nquadruple {\\nsmall-title, text, btn-red\\n}\\nquadruple {\\nsmall-title, text, btn-red\\n}\\n}\\n'],\n",
              " '9B165065-26A7-4D9F-AC54-7A64A909DDC1': ['header {\\nbtn-inactive, btn-active, btn-inactive, btn-inactive\\n}\\nrow {\\nquadruple {\\nsmall-title, text, btn-red\\n}\\nquadruple {\\nsmall-title, text, btn-red\\n}\\nquadruple {\\nsmall-title, text, btn-orange\\n}\\nquadruple {\\nsmall-title, text, btn-orange\\n}\\n}\\nrow {\\nsingle {\\nsmall-title, text, btn-orange\\n}\\n}\\nrow {\\ndouble {\\nsmall-title, text, btn-green\\n}\\ndouble {\\nsmall-title, text, btn-red\\n}\\n}\\n'],\n",
              " '9BB1B2D3-20F9-4CA6-B4AE-62719B7729E1': ['header {\\nbtn-active, btn-inactive\\n}\\nrow {\\nquadruple {\\nsmall-title, text, btn-red\\n}\\nquadruple {\\nsmall-title, text, btn-red\\n}\\nquadruple {\\nsmall-title, text, btn-orange\\n}\\nquadruple {\\nsmall-title, text, btn-green\\n}\\n}\\nrow {\\nquadruple {\\nsmall-title, text, btn-orange\\n}\\nquadruple {\\nsmall-title, text, btn-orange\\n}\\nquadruple {\\nsmall-title, text, btn-green\\n}\\nquadruple {\\nsmall-title, text, btn-green\\n}\\n}\\nrow {\\nsingle {\\nsmall-title, text, btn-red\\n}\\n}\\n'],\n",
              " '9BDCA8BD-8505-4F33-93B9-A4B945666D73': ['header {\\nbtn-active, btn-inactive, btn-inactive, btn-inactive\\n}\\nrow {\\nsingle {\\nsmall-title, text, btn-red\\n}\\n}\\n'],\n",
              " '9C084C45-167D-4BCC-B862-93CFC2794B82': ['header {\\nbtn-active, btn-inactive\\n}\\nrow {\\nquadruple {\\nsmall-title, text, btn-red\\n}\\nquadruple {\\nsmall-title, text, btn-red\\n}\\nquadruple {\\nsmall-title, text, btn-orange\\n}\\nquadruple {\\nsmall-title, text, btn-green\\n}\\n}\\nrow {\\ndouble {\\nsmall-title, text, btn-green\\n}\\ndouble {\\nsmall-title, text, btn-green\\n}\\n}\\nrow {\\nquadruple {\\nsmall-title, text, btn-red\\n}\\nquadruple {\\nsmall-title, text, btn-green\\n}\\nquadruple {\\nsmall-title, text, btn-green\\n}\\nquadruple {\\nsmall-title, text, btn-red\\n}\\n}\\n'],\n",
              " '9D55B368-417A-48FD-B161-758784C96EB6': ['header {\\nbtn-inactive, btn-active, btn-inactive\\n}\\nrow {\\nsingle {\\nsmall-title, text, btn-orange\\n}\\n}\\n'],\n",
              " '9D8069D1-C0BA-428B-8454-7CDBA626659B': ['header {\\nbtn-inactive, btn-active\\n}\\nrow {\\nquadruple {\\nsmall-title, text, btn-orange\\n}\\nquadruple {\\nsmall-title, text, btn-red\\n}\\nquadruple {\\nsmall-title, text, btn-green\\n}\\nquadruple {\\nsmall-title, text, btn-orange\\n}\\n}\\nrow {\\ndouble {\\nsmall-title, text, btn-green\\n}\\ndouble {\\nsmall-title, text, btn-red\\n}\\n}\\nrow {\\nsingle {\\nsmall-title, text, btn-red\\n}\\n}\\n'],\n",
              " '9FED117B-BEB3-4DED-876F-9280B776F8AA': ['header {\\nbtn-active, btn-inactive, btn-inactive\\n}\\nrow {\\ndouble {\\nsmall-title, text, btn-red\\n}\\ndouble {\\nsmall-title, text, btn-green\\n}\\n}\\nrow {\\nquadruple {\\nsmall-title, text, btn-orange\\n}\\nquadruple {\\nsmall-title, text, btn-green\\n}\\nquadruple {\\nsmall-title, text, btn-green\\n}\\nquadruple {\\nsmall-title, text, btn-green\\n}\\n}\\nrow {\\nsingle {\\nsmall-title, text, btn-green\\n}\\n}\\n'],\n",
              " 'A05C8660-9179-4F0C-A32D-FCAA773F7718': ['header {\\nbtn-inactive, btn-active\\n}\\nrow {\\ndouble {\\nsmall-title, text, btn-red\\n}\\ndouble {\\nsmall-title, text, btn-red\\n}\\n}\\nrow {\\nsingle {\\nsmall-title, text, btn-orange\\n}\\n}\\nrow {\\nquadruple {\\nsmall-title, text, btn-orange\\n}\\nquadruple {\\nsmall-title, text, btn-red\\n}\\nquadruple {\\nsmall-title, text, btn-red\\n}\\nquadruple {\\nsmall-title, text, btn-orange\\n}\\n}\\n'],\n",
              " 'A0CB62C1-A855-45A0-B921-CF4D7DD62A36': ['header {\\nbtn-inactive, btn-inactive, btn-inactive, btn-active\\n}\\nrow {\\ndouble {\\nsmall-title, text, btn-red\\n}\\ndouble {\\nsmall-title, text, btn-green\\n}\\n}\\nrow {\\nquadruple {\\nsmall-title, text, btn-orange\\n}\\nquadruple {\\nsmall-title, text, btn-orange\\n}\\nquadruple {\\nsmall-title, text, btn-orange\\n}\\nquadruple {\\nsmall-title, text, btn-orange\\n}\\n}\\nrow {\\nsingle {\\nsmall-title, text, btn-green\\n}\\n}\\n'],\n",
              " 'A198653F-65BB-4E4C-9254-B6085C288529': ['header {\\nbtn-inactive, btn-active, btn-inactive, btn-inactive\\n}\\nrow {\\nsingle {\\nsmall-title, text, btn-red\\n}\\n}\\nrow {\\nquadruple {\\nsmall-title, text, btn-red\\n}\\nquadruple {\\nsmall-title, text, btn-orange\\n}\\nquadruple {\\nsmall-title, text, btn-red\\n}\\nquadruple {\\nsmall-title, text, btn-red\\n}\\n}\\nrow {\\ndouble {\\nsmall-title, text, btn-green\\n}\\ndouble {\\nsmall-title, text, btn-green\\n}\\n}\\n'],\n",
              " 'A1CAE354-407B-4455-806E-BF177EF3751F': ['header {\\nbtn-inactive, btn-inactive, btn-active, btn-inactive, btn-inactive\\n}\\nrow {\\nquadruple {\\nsmall-title, text, btn-orange\\n}\\nquadruple {\\nsmall-title, text, btn-orange\\n}\\nquadruple {\\nsmall-title, text, btn-red\\n}\\nquadruple {\\nsmall-title, text, btn-red\\n}\\n}\\nrow {\\ndouble {\\nsmall-title, text, btn-red\\n}\\ndouble {\\nsmall-title, text, btn-red\\n}\\n}\\nrow {\\nsingle {\\nsmall-title, text, btn-orange\\n}\\n}\\n'],\n",
              " 'A2468AFB-F976-4147-99B9-9E2743B36B87': ['header {\\nbtn-inactive, btn-inactive, btn-active\\n}\\nrow {\\nquadruple {\\nsmall-title, text, btn-red\\n}\\nquadruple {\\nsmall-title, text, btn-red\\n}\\nquadruple {\\nsmall-title, text, btn-orange\\n}\\nquadruple {\\nsmall-title, text, btn-orange\\n}\\n}\\nrow {\\ndouble {\\nsmall-title, text, btn-orange\\n}\\ndouble {\\nsmall-title, text, btn-orange\\n}\\n}\\nrow {\\nsingle {\\nsmall-title, text, btn-red\\n}\\n}\\n'],\n",
              " 'A2B72FC2-F5D9-419B-94C6-FE744A03CCF3': ['header {\\nbtn-active, btn-inactive, btn-inactive, btn-inactive, btn-inactive\\n}\\nrow {\\ndouble {\\nsmall-title, text, btn-green\\n}\\ndouble {\\nsmall-title, text, btn-green\\n}\\n}\\nrow {\\nquadruple {\\nsmall-title, text, btn-orange\\n}\\nquadruple {\\nsmall-title, text, btn-red\\n}\\nquadruple {\\nsmall-title, text, btn-orange\\n}\\nquadruple {\\nsmall-title, text, btn-green\\n}\\n}\\nrow {\\nsingle {\\nsmall-title, text, btn-green\\n}\\n}\\n'],\n",
              " 'A38766BD-B7DA-4DEC-A219-480A8D605F2B': ['header {\\nbtn-active, btn-inactive, btn-inactive, btn-inactive, btn-inactive\\n}\\nrow {\\nsingle {\\nsmall-title, text, btn-red\\n}\\n}\\nrow {\\ndouble {\\nsmall-title, text, btn-green\\n}\\ndouble {\\nsmall-title, text, btn-green\\n}\\n}\\nrow {\\nquadruple {\\nsmall-title, text, btn-orange\\n}\\nquadruple {\\nsmall-title, text, btn-red\\n}\\nquadruple {\\nsmall-title, text, btn-orange\\n}\\nquadruple {\\nsmall-title, text, btn-red\\n}\\n}\\n'],\n",
              " 'A47F0087-EBA9-4929-908C-0004C6D54E23': ['header {\\nbtn-active, btn-inactive\\n}\\nrow {\\nquadruple {\\nsmall-title, text, btn-red\\n}\\nquadruple {\\nsmall-title, text, btn-orange\\n}\\nquadruple {\\nsmall-title, text, btn-red\\n}\\nquadruple {\\nsmall-title, text, btn-orange\\n}\\n}\\nrow {\\nsingle {\\nsmall-title, text, btn-orange\\n}\\n}\\nrow {\\ndouble {\\nsmall-title, text, btn-green\\n}\\ndouble {\\nsmall-title, text, btn-red\\n}\\n}\\n'],\n",
              " 'A512F0C0-00F0-4CFE-818C-D589A5870B09': ['header {\\nbtn-inactive, btn-inactive, btn-active\\n}\\nrow {\\nquadruple {\\nsmall-title, text, btn-red\\n}\\nquadruple {\\nsmall-title, text, btn-orange\\n}\\nquadruple {\\nsmall-title, text, btn-orange\\n}\\nquadruple {\\nsmall-title, text, btn-orange\\n}\\n}\\nrow {\\ndouble {\\nsmall-title, text, btn-red\\n}\\ndouble {\\nsmall-title, text, btn-red\\n}\\n}\\nrow {\\nsingle {\\nsmall-title, text, btn-orange\\n}\\n}\\n'],\n",
              " 'A6CC2F02-4F12-4F4D-9550-AFD5BA936B1B': ['header {\\nbtn-inactive, btn-active, btn-inactive\\n}\\nrow {\\ndouble {\\nsmall-title, text, btn-red\\n}\\ndouble {\\nsmall-title, text, btn-green\\n}\\n}\\nrow {\\nquadruple {\\nsmall-title, text, btn-green\\n}\\nquadruple {\\nsmall-title, text, btn-orange\\n}\\nquadruple {\\nsmall-title, text, btn-green\\n}\\nquadruple {\\nsmall-title, text, btn-green\\n}\\n}\\nrow {\\ndouble {\\nsmall-title, text, btn-orange\\n}\\ndouble {\\nsmall-title, text, btn-orange\\n}\\n}\\n'],\n",
              " 'A73BE0E2-5131-4C23-B89F-0C0CF4470F6D': ['header {\\nbtn-inactive, btn-inactive, btn-inactive, btn-active\\n}\\nrow {\\nquadruple {\\nsmall-title, text, btn-red\\n}\\nquadruple {\\nsmall-title, text, btn-orange\\n}\\nquadruple {\\nsmall-title, text, btn-green\\n}\\nquadruple {\\nsmall-title, text, btn-red\\n}\\n}\\nrow {\\nsingle {\\nsmall-title, text, btn-green\\n}\\n}\\nrow {\\ndouble {\\nsmall-title, text, btn-red\\n}\\ndouble {\\nsmall-title, text, btn-red\\n}\\n}\\n'],\n",
              " 'A7FE1DEC-9FF6-4CF8-83F5-FB2048C3E2E9': ['header {\\nbtn-active, btn-inactive, btn-inactive, btn-inactive\\n}\\nrow {\\nsingle {\\nsmall-title, text, btn-green\\n}\\n}\\nrow {\\ndouble {\\nsmall-title, text, btn-orange\\n}\\ndouble {\\nsmall-title, text, btn-red\\n}\\n}\\nrow {\\nquadruple {\\nsmall-title, text, btn-green\\n}\\nquadruple {\\nsmall-title, text, btn-green\\n}\\nquadruple {\\nsmall-title, text, btn-orange\\n}\\nquadruple {\\nsmall-title, text, btn-orange\\n}\\n}\\n'],\n",
              " 'A83634E6-0C82-4A90-8A27-83CD433D9EE4': ['header {\\nbtn-active, btn-inactive, btn-inactive\\n}\\nrow {\\nquadruple {\\nsmall-title, text, btn-red\\n}\\nquadruple {\\nsmall-title, text, btn-red\\n}\\nquadruple {\\nsmall-title, text, btn-orange\\n}\\nquadruple {\\nsmall-title, text, btn-orange\\n}\\n}\\n'],\n",
              " 'A83CC202-B215-4C16-A955-5F2AFB6E6C81': ['header {\\nbtn-inactive, btn-inactive, btn-active\\n}\\nrow {\\nsingle {\\nsmall-title, text, btn-green\\n}\\n}\\nrow {\\ndouble {\\nsmall-title, text, btn-orange\\n}\\ndouble {\\nsmall-title, text, btn-red\\n}\\n}\\nrow {\\nquadruple {\\nsmall-title, text, btn-green\\n}\\nquadruple {\\nsmall-title, text, btn-green\\n}\\nquadruple {\\nsmall-title, text, btn-green\\n}\\nquadruple {\\nsmall-title, text, btn-orange\\n}\\n}\\n'],\n",
              " 'A8ACDE29-9881-41E1-B0B3-986C6774A857': ['header {\\nbtn-active, btn-inactive, btn-inactive\\n}\\nrow {\\nquadruple {\\nsmall-title, text, btn-red\\n}\\nquadruple {\\nsmall-title, text, btn-green\\n}\\nquadruple {\\nsmall-title, text, btn-red\\n}\\nquadruple {\\nsmall-title, text, btn-orange\\n}\\n}\\nrow {\\nsingle {\\nsmall-title, text, btn-red\\n}\\n}\\nrow {\\ndouble {\\nsmall-title, text, btn-orange\\n}\\ndouble {\\nsmall-title, text, btn-red\\n}\\n}\\n'],\n",
              " 'A8D12708-56B9-4F32-B4CC-07F59B58E62B': ['header {\\nbtn-inactive, btn-inactive, btn-active\\n}\\nrow {\\nquadruple {\\nsmall-title, text, btn-green\\n}\\nquadruple {\\nsmall-title, text, btn-orange\\n}\\nquadruple {\\nsmall-title, text, btn-green\\n}\\nquadruple {\\nsmall-title, text, btn-green\\n}\\n}\\nrow {\\nsingle {\\nsmall-title, text, btn-red\\n}\\n}\\nrow {\\ndouble {\\nsmall-title, text, btn-orange\\n}\\ndouble {\\nsmall-title, text, btn-orange\\n}\\n}\\n'],\n",
              " 'A904207C-6073-400C-B394-87CE3F8DE256': ['header {\\nbtn-active, btn-inactive, btn-inactive\\n}\\nrow {\\ndouble {\\nsmall-title, text, btn-orange\\n}\\ndouble {\\nsmall-title, text, btn-red\\n}\\n}\\nrow {\\nsingle {\\nsmall-title, text, btn-green\\n}\\n}\\nrow {\\nquadruple {\\nsmall-title, text, btn-red\\n}\\nquadruple {\\nsmall-title, text, btn-green\\n}\\nquadruple {\\nsmall-title, text, btn-green\\n}\\nquadruple {\\nsmall-title, text, btn-orange\\n}\\n}\\n'],\n",
              " 'A930EF50-9657-4A07-8619-E6F55B184681': ['header {\\nbtn-inactive, btn-inactive, btn-active\\n}\\nrow {\\nsingle {\\nsmall-title, text, btn-orange\\n}\\n}\\nrow {\\nquadruple {\\nsmall-title, text, btn-red\\n}\\nquadruple {\\nsmall-title, text, btn-green\\n}\\nquadruple {\\nsmall-title, text, btn-orange\\n}\\nquadruple {\\nsmall-title, text, btn-red\\n}\\n}\\nrow {\\ndouble {\\nsmall-title, text, btn-orange\\n}\\ndouble {\\nsmall-title, text, btn-green\\n}\\n}\\n'],\n",
              " 'A95F4328-6C35-4A15-A2EC-5390D49CF18B': ['header {\\nbtn-active, btn-inactive, btn-inactive, btn-inactive, btn-inactive\\n}\\nrow {\\ndouble {\\nsmall-title, text, btn-orange\\n}\\ndouble {\\nsmall-title, text, btn-green\\n}\\n}\\nrow {\\nquadruple {\\nsmall-title, text, btn-green\\n}\\nquadruple {\\nsmall-title, text, btn-red\\n}\\nquadruple {\\nsmall-title, text, btn-green\\n}\\nquadruple {\\nsmall-title, text, btn-green\\n}\\n}\\nrow {\\nsingle {\\nsmall-title, text, btn-orange\\n}\\n}\\n'],\n",
              " 'AA2C04EF-195F-4123-9964-6457BB6C5D1A': ['header {\\nbtn-inactive, btn-active, btn-inactive, btn-inactive, btn-inactive\\n}\\nrow {\\nquadruple {\\nsmall-title, text, btn-red\\n}\\nquadruple {\\nsmall-title, text, btn-green\\n}\\nquadruple {\\nsmall-title, text, btn-red\\n}\\nquadruple {\\nsmall-title, text, btn-red\\n}\\n}\\nrow {\\nsingle {\\nsmall-title, text, btn-orange\\n}\\n}\\nrow {\\ndouble {\\nsmall-title, text, btn-green\\n}\\ndouble {\\nsmall-title, text, btn-orange\\n}\\n}\\n'],\n",
              " 'AAD1DAFF-132E-436E-AF8A-1EE476B22345': ['header {\\nbtn-inactive, btn-inactive, btn-active\\n}\\nrow {\\nquadruple {\\nsmall-title, text, btn-green\\n}\\nquadruple {\\nsmall-title, text, btn-orange\\n}\\nquadruple {\\nsmall-title, text, btn-orange\\n}\\nquadruple {\\nsmall-title, text, btn-orange\\n}\\n}\\nrow {\\ndouble {\\nsmall-title, text, btn-orange\\n}\\ndouble {\\nsmall-title, text, btn-orange\\n}\\n}\\nrow {\\nsingle {\\nsmall-title, text, btn-red\\n}\\n}\\n'],\n",
              " 'AB94F798-DE63-42EF-BBE6-DCA1FF57996A': ['header {\\nbtn-inactive, btn-active, btn-inactive, btn-inactive\\n}\\nrow {\\nsingle {\\nsmall-title, text, btn-orange\\n}\\n}\\nrow {\\ndouble {\\nsmall-title, text, btn-green\\n}\\ndouble {\\nsmall-title, text, btn-orange\\n}\\n}\\n'],\n",
              " 'ABEC9F95-ABB3-450F-8A14-DD4BFC3DE03E': ['header {\\nbtn-active, btn-inactive\\n}\\nrow {\\nsingle {\\nsmall-title, text, btn-green\\n}\\n}\\nrow {\\nquadruple {\\nsmall-title, text, btn-red\\n}\\nquadruple {\\nsmall-title, text, btn-orange\\n}\\nquadruple {\\nsmall-title, text, btn-green\\n}\\nquadruple {\\nsmall-title, text, btn-orange\\n}\\n}\\nrow {\\ndouble {\\nsmall-title, text, btn-red\\n}\\ndouble {\\nsmall-title, text, btn-orange\\n}\\n}\\n'],\n",
              " 'ADE9B442-C9D4-4583-BF96-374D792ACF19': ['header {\\nbtn-inactive, btn-active, btn-inactive, btn-inactive, btn-inactive\\n}\\nrow {\\nquadruple {\\nsmall-title, text, btn-green\\n}\\nquadruple {\\nsmall-title, text, btn-red\\n}\\nquadruple {\\nsmall-title, text, btn-green\\n}\\nquadruple {\\nsmall-title, text, btn-red\\n}\\n}\\nrow {\\ndouble {\\nsmall-title, text, btn-red\\n}\\ndouble {\\nsmall-title, text, btn-green\\n}\\n}\\nrow {\\nsingle {\\nsmall-title, text, btn-orange\\n}\\n}\\n'],\n",
              " 'B009B6D3-2261-48C7-9BF6-B90E81CBC601': ['header {\\nbtn-active, btn-inactive, btn-inactive\\n}\\nrow {\\ndouble {\\nsmall-title, text, btn-green\\n}\\ndouble {\\nsmall-title, text, btn-orange\\n}\\n}\\nrow {\\nsingle {\\nsmall-title, text, btn-orange\\n}\\n}\\nrow {\\nquadruple {\\nsmall-title, text, btn-green\\n}\\nquadruple {\\nsmall-title, text, btn-red\\n}\\nquadruple {\\nsmall-title, text, btn-orange\\n}\\nquadruple {\\nsmall-title, text, btn-red\\n}\\n}\\n'],\n",
              " 'B017D3FD-567E-4EF5-BC4B-FEB095FF07AE': ['header {\\nbtn-inactive, btn-active, btn-inactive\\n}\\nrow {\\nquadruple {\\nsmall-title, text, btn-red\\n}\\nquadruple {\\nsmall-title, text, btn-green\\n}\\nquadruple {\\nsmall-title, text, btn-orange\\n}\\nquadruple {\\nsmall-title, text, btn-red\\n}\\n}\\nrow {\\nsingle {\\nsmall-title, text, btn-red\\n}\\n}\\n'],\n",
              " 'B21035AE-560B-480E-8883-8C677E54D470': ['header {\\nbtn-active, btn-inactive, btn-inactive, btn-inactive, btn-inactive\\n}\\nrow {\\ndouble {\\nsmall-title, text, btn-orange\\n}\\ndouble {\\nsmall-title, text, btn-orange\\n}\\n}\\nrow {\\nsingle {\\nsmall-title, text, btn-red\\n}\\n}\\nrow {\\nsingle {\\nsmall-title, text, btn-red\\n}\\n}\\n'],\n",
              " 'B2EC8B50-C6A4-4898-A46B-C7BC46E1B2CC': ['header {\\nbtn-active, btn-inactive\\n}\\nrow {\\ndouble {\\nsmall-title, text, btn-red\\n}\\ndouble {\\nsmall-title, text, btn-green\\n}\\n}\\nrow {\\nsingle {\\nsmall-title, text, btn-green\\n}\\n}\\nrow {\\nquadruple {\\nsmall-title, text, btn-red\\n}\\nquadruple {\\nsmall-title, text, btn-orange\\n}\\nquadruple {\\nsmall-title, text, btn-red\\n}\\nquadruple {\\nsmall-title, text, btn-orange\\n}\\n}\\n'],\n",
              " 'B30B3450-F7FE-4C23-9507-256AFFE57D4C': ['header {\\nbtn-inactive, btn-active, btn-inactive\\n}\\nrow {\\nsingle {\\nsmall-title, text, btn-red\\n}\\n}\\nrow {\\nquadruple {\\nsmall-title, text, btn-red\\n}\\nquadruple {\\nsmall-title, text, btn-orange\\n}\\nquadruple {\\nsmall-title, text, btn-red\\n}\\nquadruple {\\nsmall-title, text, btn-orange\\n}\\n}\\nrow {\\ndouble {\\nsmall-title, text, btn-green\\n}\\ndouble {\\nsmall-title, text, btn-red\\n}\\n}\\n'],\n",
              " 'B479BC23-941F-4D68-BF10-422C82FFC512': ['header {\\nbtn-inactive, btn-inactive, btn-active\\n}\\nrow {\\ndouble {\\nsmall-title, text, btn-red\\n}\\ndouble {\\nsmall-title, text, btn-red\\n}\\n}\\nrow {\\nquadruple {\\nsmall-title, text, btn-green\\n}\\nquadruple {\\nsmall-title, text, btn-green\\n}\\nquadruple {\\nsmall-title, text, btn-orange\\n}\\nquadruple {\\nsmall-title, text, btn-red\\n}\\n}\\nrow {\\nsingle {\\nsmall-title, text, btn-red\\n}\\n}\\n'],\n",
              " 'B5655E56-C305-4D5B-817C-9A2C45B10D59': ['header {\\nbtn-inactive, btn-inactive, btn-active\\n}\\nrow {\\nquadruple {\\nsmall-title, text, btn-green\\n}\\nquadruple {\\nsmall-title, text, btn-red\\n}\\nquadruple {\\nsmall-title, text, btn-red\\n}\\nquadruple {\\nsmall-title, text, btn-green\\n}\\n}\\nrow {\\nsingle {\\nsmall-title, text, btn-green\\n}\\n}\\nrow {\\ndouble {\\nsmall-title, text, btn-red\\n}\\ndouble {\\nsmall-title, text, btn-green\\n}\\n}\\n'],\n",
              " 'B686E87F-D0AC-453F-BB23-AB68E5F53FCE': ['header {\\nbtn-active, btn-inactive\\n}\\nrow {\\nsingle {\\nsmall-title, text, btn-green\\n}\\n}\\n'],\n",
              " 'B8E953E0-5998-4B3C-A252-C81760B0D180': ['header {\\nbtn-active, btn-inactive, btn-inactive, btn-inactive\\n}\\nrow {\\nsingle {\\nsmall-title, text, btn-orange\\n}\\n}\\nrow {\\ndouble {\\nsmall-title, text, btn-orange\\n}\\ndouble {\\nsmall-title, text, btn-green\\n}\\n}\\nrow {\\nquadruple {\\nsmall-title, text, btn-orange\\n}\\nquadruple {\\nsmall-title, text, btn-red\\n}\\nquadruple {\\nsmall-title, text, btn-orange\\n}\\nquadruple {\\nsmall-title, text, btn-orange\\n}\\n}\\n'],\n",
              " 'B96BD176-1C00-48F0-A28E-4282555261A3': ['header {\\nbtn-inactive, btn-active, btn-inactive, btn-inactive, btn-inactive\\n}\\nrow {\\nsingle {\\nsmall-title, text, btn-green\\n}\\n}\\nrow {\\ndouble {\\nsmall-title, text, btn-orange\\n}\\ndouble {\\nsmall-title, text, btn-red\\n}\\n}\\nrow {\\nquadruple {\\nsmall-title, text, btn-red\\n}\\nquadruple {\\nsmall-title, text, btn-orange\\n}\\nquadruple {\\nsmall-title, text, btn-orange\\n}\\nquadruple {\\nsmall-title, text, btn-red\\n}\\n}\\n'],\n",
              " 'BA7F0F6F-F5B2-4725-A6C9-8F3FC4A365C0': ['header {\\nbtn-inactive, btn-active, btn-inactive\\n}\\nrow {\\nquadruple {\\nsmall-title, text, btn-orange\\n}\\nquadruple {\\nsmall-title, text, btn-green\\n}\\nquadruple {\\nsmall-title, text, btn-red\\n}\\nquadruple {\\nsmall-title, text, btn-red\\n}\\n}\\nrow {\\nsingle {\\nsmall-title, text, btn-red\\n}\\n}\\nrow {\\ndouble {\\nsmall-title, text, btn-green\\n}\\ndouble {\\nsmall-title, text, btn-green\\n}\\n}\\n'],\n",
              " 'BEA2DB3E-E497-4FF9-8B0D-CA087565B8EF': ['header {\\nbtn-inactive, btn-inactive, btn-inactive, btn-active\\n}\\nrow {\\nsingle {\\nsmall-title, text, btn-orange\\n}\\n}\\nrow {\\nquadruple {\\nsmall-title, text, btn-orange\\n}\\nquadruple {\\nsmall-title, text, btn-red\\n}\\nquadruple {\\nsmall-title, text, btn-orange\\n}\\nquadruple {\\nsmall-title, text, btn-orange\\n}\\n}\\nrow {\\ndouble {\\nsmall-title, text, btn-orange\\n}\\ndouble {\\nsmall-title, text, btn-red\\n}\\n}\\n'],\n",
              " 'BF66ABD9-B1A4-4ABC-A57C-BA3BE57D5B0B': ['header {\\nbtn-active, btn-inactive, btn-inactive, btn-inactive, btn-inactive\\n}\\nrow {\\nsingle {\\nsmall-title, text, btn-green\\n}\\n}\\nrow {\\nquadruple {\\nsmall-title, text, btn-red\\n}\\nquadruple {\\nsmall-title, text, btn-orange\\n}\\nquadruple {\\nsmall-title, text, btn-green\\n}\\nquadruple {\\nsmall-title, text, btn-green\\n}\\n}\\nrow {\\ndouble {\\nsmall-title, text, btn-orange\\n}\\ndouble {\\nsmall-title, text, btn-green\\n}\\n}\\n'],\n",
              " 'C0078F8B-AFB2-4469-8C4E-397A1719796F': ['header {\\nbtn-inactive, btn-inactive, btn-inactive, btn-inactive, btn-active\\n}\\nrow {\\ndouble {\\nsmall-title, text, btn-orange\\n}\\ndouble {\\nsmall-title, text, btn-red\\n}\\n}\\nrow {\\nsingle {\\nsmall-title, text, btn-red\\n}\\n}\\n'],\n",
              " 'C0C22813-4C94-4DA1-85FF-9D01E9253038': ['header {\\nbtn-inactive, btn-inactive, btn-active, btn-inactive, btn-inactive\\n}\\nrow {\\nquadruple {\\nsmall-title, text, btn-orange\\n}\\nquadruple {\\nsmall-title, text, btn-orange\\n}\\nquadruple {\\nsmall-title, text, btn-green\\n}\\nquadruple {\\nsmall-title, text, btn-orange\\n}\\n}\\nrow {\\ndouble {\\nsmall-title, text, btn-red\\n}\\ndouble {\\nsmall-title, text, btn-green\\n}\\n}\\nrow {\\nsingle {\\nsmall-title, text, btn-green\\n}\\n}\\n'],\n",
              " 'C0E198D2-BE08-4862-87CD-E0A641364035': ['header {\\nbtn-inactive, btn-inactive, btn-active\\n}\\nrow {\\nquadruple {\\nsmall-title, text, btn-green\\n}\\nquadruple {\\nsmall-title, text, btn-orange\\n}\\nquadruple {\\nsmall-title, text, btn-orange\\n}\\nquadruple {\\nsmall-title, text, btn-green\\n}\\n}\\nrow {\\nsingle {\\nsmall-title, text, btn-red\\n}\\n}\\nrow {\\ndouble {\\nsmall-title, text, btn-red\\n}\\ndouble {\\nsmall-title, text, btn-red\\n}\\n}\\n'],\n",
              " 'C1BF3962-4E5C-4D74-A0A6-E2D3F2562056': ['header {\\nbtn-inactive, btn-inactive, btn-active, btn-inactive, btn-inactive\\n}\\nrow {\\nsingle {\\nsmall-title, text, btn-orange\\n}\\n}\\nrow {\\ndouble {\\nsmall-title, text, btn-red\\n}\\ndouble {\\nsmall-title, text, btn-orange\\n}\\n}\\n'],\n",
              " 'C4F1FEFD-3617-41FB-BD0E-22E7A58DB902': ['header {\\nbtn-inactive, btn-inactive, btn-active\\n}\\nrow {\\nquadruple {\\nsmall-title, text, btn-green\\n}\\nquadruple {\\nsmall-title, text, btn-orange\\n}\\nquadruple {\\nsmall-title, text, btn-red\\n}\\nquadruple {\\nsmall-title, text, btn-orange\\n}\\n}\\nrow {\\nsingle {\\nsmall-title, text, btn-red\\n}\\n}\\nrow {\\ndouble {\\nsmall-title, text, btn-green\\n}\\ndouble {\\nsmall-title, text, btn-green\\n}\\n}\\n'],\n",
              " 'C5BD1E13-2618-4195-8CA8-D4BBC5BF06CF': ['header {\\nbtn-inactive, btn-inactive, btn-active\\n}\\nrow {\\nsingle {\\nsmall-title, text, btn-red\\n}\\n}\\nrow {\\nquadruple {\\nsmall-title, text, btn-green\\n}\\nquadruple {\\nsmall-title, text, btn-orange\\n}\\nquadruple {\\nsmall-title, text, btn-orange\\n}\\nquadruple {\\nsmall-title, text, btn-orange\\n}\\n}\\nrow {\\ndouble {\\nsmall-title, text, btn-orange\\n}\\ndouble {\\nsmall-title, text, btn-orange\\n}\\n}\\n'],\n",
              " 'C61A732F-D300-488A-81C0-3303172A91E4': ['header {\\nbtn-inactive, btn-active\\n}\\nrow {\\nquadruple {\\nsmall-title, text, btn-orange\\n}\\nquadruple {\\nsmall-title, text, btn-orange\\n}\\nquadruple {\\nsmall-title, text, btn-red\\n}\\nquadruple {\\nsmall-title, text, btn-green\\n}\\n}\\nrow {\\nsingle {\\nsmall-title, text, btn-green\\n}\\n}\\nrow {\\ndouble {\\nsmall-title, text, btn-green\\n}\\ndouble {\\nsmall-title, text, btn-red\\n}\\n}\\n'],\n",
              " 'C6F1A3E4-FBC2-4371-AED5-2F1CF04C8E13': ['header {\\nbtn-inactive, btn-active, btn-inactive, btn-inactive, btn-inactive\\n}\\nrow {\\ndouble {\\nsmall-title, text, btn-green\\n}\\ndouble {\\nsmall-title, text, btn-red\\n}\\n}\\nrow {\\nquadruple {\\nsmall-title, text, btn-green\\n}\\nquadruple {\\nsmall-title, text, btn-red\\n}\\nquadruple {\\nsmall-title, text, btn-orange\\n}\\nquadruple {\\nsmall-title, text, btn-green\\n}\\n}\\nrow {\\nsingle {\\nsmall-title, text, btn-red\\n}\\n}\\n'],\n",
              " 'C72A8FCB-402F-41F5-9AAF-F9F31E383A7F': ['header {\\nbtn-inactive, btn-inactive, btn-inactive, btn-active\\n}\\nrow {\\ndouble {\\nsmall-title, text, btn-orange\\n}\\ndouble {\\nsmall-title, text, btn-green\\n}\\n}\\n'],\n",
              " 'C7ECB694-5EAA-4E83-8EE4-1E35485EC80D': ['header {\\nbtn-inactive, btn-active, btn-inactive, btn-inactive\\n}\\nrow {\\nsingle {\\nsmall-title, text, btn-red\\n}\\n}\\nrow {\\ndouble {\\nsmall-title, text, btn-red\\n}\\ndouble {\\nsmall-title, text, btn-red\\n}\\n}\\nrow {\\nquadruple {\\nsmall-title, text, btn-orange\\n}\\nquadruple {\\nsmall-title, text, btn-red\\n}\\nquadruple {\\nsmall-title, text, btn-orange\\n}\\nquadruple {\\nsmall-title, text, btn-green\\n}\\n}\\n'],\n",
              " 'C86665B6-D390-4C42-8C7B-CE75A1418AAC': ['header {\\nbtn-active, btn-inactive\\n}\\nrow {\\ndouble {\\nsmall-title, text, btn-orange\\n}\\ndouble {\\nsmall-title, text, btn-red\\n}\\n}\\nrow {\\nquadruple {\\nsmall-title, text, btn-orange\\n}\\nquadruple {\\nsmall-title, text, btn-red\\n}\\nquadruple {\\nsmall-title, text, btn-red\\n}\\nquadruple {\\nsmall-title, text, btn-green\\n}\\n}\\nrow {\\nsingle {\\nsmall-title, text, btn-orange\\n}\\n}\\n'],\n",
              " 'CAD4A495-504D-4B60-BEFB-3A5E2DA5777F': ['header {\\nbtn-active, btn-inactive\\n}\\nrow {\\nquadruple {\\nsmall-title, text, btn-orange\\n}\\nquadruple {\\nsmall-title, text, btn-green\\n}\\nquadruple {\\nsmall-title, text, btn-orange\\n}\\nquadruple {\\nsmall-title, text, btn-orange\\n}\\n}\\nrow {\\ndouble {\\nsmall-title, text, btn-orange\\n}\\ndouble {\\nsmall-title, text, btn-orange\\n}\\n}\\nrow {\\nsingle {\\nsmall-title, text, btn-red\\n}\\n}\\n'],\n",
              " 'CDE543E5-7D54-4392-BD46-C369BB53F6E4': ['header {\\nbtn-inactive, btn-inactive, btn-inactive, btn-active\\n}\\nrow {\\nsingle {\\nsmall-title, text, btn-green\\n}\\n}\\nrow {\\nquadruple {\\nsmall-title, text, btn-green\\n}\\nquadruple {\\nsmall-title, text, btn-orange\\n}\\nquadruple {\\nsmall-title, text, btn-green\\n}\\nquadruple {\\nsmall-title, text, btn-green\\n}\\n}\\nrow {\\ndouble {\\nsmall-title, text, btn-red\\n}\\ndouble {\\nsmall-title, text, btn-orange\\n}\\n}\\n'],\n",
              " 'CF987E30-DE3C-45B7-9FBD-F140E36E6B65': ['header {\\nbtn-active, btn-inactive, btn-inactive, btn-inactive, btn-inactive\\n}\\nrow {\\nquadruple {\\nsmall-title, text, btn-green\\n}\\nquadruple {\\nsmall-title, text, btn-green\\n}\\nquadruple {\\nsmall-title, text, btn-red\\n}\\nquadruple {\\nsmall-title, text, btn-green\\n}\\n}\\nrow {\\ndouble {\\nsmall-title, text, btn-red\\n}\\ndouble {\\nsmall-title, text, btn-orange\\n}\\n}\\nrow {\\nsingle {\\nsmall-title, text, btn-red\\n}\\n}\\n'],\n",
              " 'D2BF3934-D191-42B7-8DF8-FD62F3072E22': ['header {\\nbtn-inactive, btn-active\\n}\\nrow {\\ndouble {\\nsmall-title, text, btn-orange\\n}\\ndouble {\\nsmall-title, text, btn-green\\n}\\n}\\nrow {\\nquadruple {\\nsmall-title, text, btn-green\\n}\\nquadruple {\\nsmall-title, text, btn-red\\n}\\nquadruple {\\nsmall-title, text, btn-orange\\n}\\nquadruple {\\nsmall-title, text, btn-orange\\n}\\n}\\nrow {\\nsingle {\\nsmall-title, text, btn-red\\n}\\n}\\n'],\n",
              " 'D2C9DF9F-3D01-44AC-8B38-EAE1E2DA6548': ['header {\\nbtn-active, btn-inactive, btn-inactive, btn-inactive, btn-inactive\\n}\\nrow {\\nsingle {\\nsmall-title, text, btn-red\\n}\\n}\\nrow {\\ndouble {\\nsmall-title, text, btn-orange\\n}\\ndouble {\\nsmall-title, text, btn-green\\n}\\n}\\n'],\n",
              " 'D2FB17E7-7C5C-45BB-8EB0-2D8714D01954': ['header {\\nbtn-inactive, btn-inactive, btn-active\\n}\\nrow {\\ndouble {\\nsmall-title, text, btn-red\\n}\\ndouble {\\nsmall-title, text, btn-red\\n}\\n}\\nrow {\\nquadruple {\\nsmall-title, text, btn-orange\\n}\\nquadruple {\\nsmall-title, text, btn-red\\n}\\nquadruple {\\nsmall-title, text, btn-orange\\n}\\nquadruple {\\nsmall-title, text, btn-orange\\n}\\n}\\nrow {\\nsingle {\\nsmall-title, text, btn-orange\\n}\\n}\\n'],\n",
              " 'D355FB4D-ED25-4024-862E-98E5654D6098': ['header {\\nbtn-inactive, btn-active\\n}\\nrow {\\ndouble {\\nsmall-title, text, btn-green\\n}\\ndouble {\\nsmall-title, text, btn-red\\n}\\n}\\n'],\n",
              " 'D37AC25D-60C8-4656-9469-42B1970F4653': ['header {\\nbtn-inactive, btn-active, btn-inactive, btn-inactive, btn-inactive\\n}\\nrow {\\ndouble {\\nsmall-title, text, btn-orange\\n}\\ndouble {\\nsmall-title, text, btn-green\\n}\\n}\\nrow {\\nquadruple {\\nsmall-title, text, btn-red\\n}\\nquadruple {\\nsmall-title, text, btn-red\\n}\\nquadruple {\\nsmall-title, text, btn-orange\\n}\\nquadruple {\\nsmall-title, text, btn-red\\n}\\n}\\nrow {\\nsingle {\\nsmall-title, text, btn-green\\n}\\n}\\n'],\n",
              " 'D3B9CCEF-2D17-447A-93DF-15F3AC929106': ['header {\\nbtn-inactive, btn-active\\n}\\nrow {\\nsingle {\\nsmall-title, text, btn-green\\n}\\n}\\nrow {\\ndouble {\\nsmall-title, text, btn-orange\\n}\\ndouble {\\nsmall-title, text, btn-orange\\n}\\n}\\nrow {\\nquadruple {\\nsmall-title, text, btn-red\\n}\\nquadruple {\\nsmall-title, text, btn-green\\n}\\nquadruple {\\nsmall-title, text, btn-green\\n}\\nquadruple {\\nsmall-title, text, btn-orange\\n}\\n}\\n'],\n",
              " 'D5F2465B-F019-4CCD-A040-FF561EF5AC7B': ['header {\\nbtn-inactive, btn-active, btn-inactive, btn-inactive, btn-inactive\\n}\\nrow {\\nquadruple {\\nsmall-title, text, btn-red\\n}\\nquadruple {\\nsmall-title, text, btn-green\\n}\\nquadruple {\\nsmall-title, text, btn-green\\n}\\nquadruple {\\nsmall-title, text, btn-red\\n}\\n}\\nrow {\\nsingle {\\nsmall-title, text, btn-red\\n}\\n}\\nrow {\\ndouble {\\nsmall-title, text, btn-green\\n}\\ndouble {\\nsmall-title, text, btn-green\\n}\\n}\\n'],\n",
              " 'D60E118A-2646-4005-AFCC-AB8BD3333FE1': ['header {\\nbtn-inactive, btn-inactive, btn-inactive, btn-active\\n}\\nrow {\\nquadruple {\\nsmall-title, text, btn-green\\n}\\nquadruple {\\nsmall-title, text, btn-green\\n}\\nquadruple {\\nsmall-title, text, btn-orange\\n}\\nquadruple {\\nsmall-title, text, btn-red\\n}\\n}\\nrow {\\ndouble {\\nsmall-title, text, btn-green\\n}\\ndouble {\\nsmall-title, text, btn-green\\n}\\n}\\nrow {\\nsingle {\\nsmall-title, text, btn-red\\n}\\n}\\n'],\n",
              " 'D6659378-797D-49DD-B8E6-A2B5B0C70049': ['header {\\nbtn-inactive, btn-active, btn-inactive, btn-inactive, btn-inactive\\n}\\nrow {\\ndouble {\\nsmall-title, text, btn-orange\\n}\\ndouble {\\nsmall-title, text, btn-green\\n}\\n}\\nrow {\\nsingle {\\nsmall-title, text, btn-red\\n}\\n}\\nrow {\\nquadruple {\\nsmall-title, text, btn-orange\\n}\\nquadruple {\\nsmall-title, text, btn-orange\\n}\\nquadruple {\\nsmall-title, text, btn-green\\n}\\nquadruple {\\nsmall-title, text, btn-green\\n}\\n}\\n'],\n",
              " 'D8E84E94-486D-4159-A618-9CAB4E9DBC39': ['header {\\nbtn-inactive, btn-inactive, btn-active, btn-inactive, btn-inactive\\n}\\nrow {\\nsingle {\\nsmall-title, text, btn-green\\n}\\n}\\nrow {\\nquadruple {\\nsmall-title, text, btn-red\\n}\\nquadruple {\\nsmall-title, text, btn-red\\n}\\nquadruple {\\nsmall-title, text, btn-green\\n}\\nquadruple {\\nsmall-title, text, btn-red\\n}\\n}\\nrow {\\ndouble {\\nsmall-title, text, btn-green\\n}\\ndouble {\\nsmall-title, text, btn-orange\\n}\\n}\\n'],\n",
              " 'D943F883-7C5C-471B-BD66-20990CD672F0': ['header {\\nbtn-inactive, btn-inactive, btn-inactive, btn-active, btn-inactive\\n}\\nrow {\\nquadruple {\\nsmall-title, text, btn-orange\\n}\\nquadruple {\\nsmall-title, text, btn-green\\n}\\nquadruple {\\nsmall-title, text, btn-orange\\n}\\nquadruple {\\nsmall-title, text, btn-green\\n}\\n}\\nrow {\\nsingle {\\nsmall-title, text, btn-green\\n}\\n}\\nrow {\\ndouble {\\nsmall-title, text, btn-orange\\n}\\ndouble {\\nsmall-title, text, btn-orange\\n}\\n}\\n'],\n",
              " 'D9D57F95-2329-4B39-86A8-BE2AB196315C': ['header {\\nbtn-inactive, btn-inactive, btn-active\\n}\\nrow {\\nquadruple {\\nsmall-title, text, btn-green\\n}\\nquadruple {\\nsmall-title, text, btn-orange\\n}\\nquadruple {\\nsmall-title, text, btn-green\\n}\\nquadruple {\\nsmall-title, text, btn-red\\n}\\n}\\nrow {\\nsingle {\\nsmall-title, text, btn-green\\n}\\n}\\nrow {\\ndouble {\\nsmall-title, text, btn-green\\n}\\ndouble {\\nsmall-title, text, btn-orange\\n}\\n}\\n'],\n",
              " 'DB3C4CE6-4C28-42DD-BF1D-15EA3A32F022': ['header {\\nbtn-inactive, btn-inactive, btn-active, btn-inactive, btn-inactive\\n}\\nrow {\\ndouble {\\nsmall-title, text, btn-red\\n}\\ndouble {\\nsmall-title, text, btn-red\\n}\\n}\\nrow {\\nquadruple {\\nsmall-title, text, btn-green\\n}\\nquadruple {\\nsmall-title, text, btn-green\\n}\\nquadruple {\\nsmall-title, text, btn-green\\n}\\nquadruple {\\nsmall-title, text, btn-red\\n}\\n}\\nrow {\\ndouble {\\nsmall-title, text, btn-red\\n}\\ndouble {\\nsmall-title, text, btn-red\\n}\\n}\\n'],\n",
              " 'DBE4DDF4-997D-40A8-846B-C82BE096CDEE': ['header {\\nbtn-inactive, btn-inactive, btn-active, btn-inactive, btn-inactive\\n}\\nrow {\\nsingle {\\nsmall-title, text, btn-orange\\n}\\n}\\nrow {\\nquadruple {\\nsmall-title, text, btn-green\\n}\\nquadruple {\\nsmall-title, text, btn-orange\\n}\\nquadruple {\\nsmall-title, text, btn-red\\n}\\nquadruple {\\nsmall-title, text, btn-orange\\n}\\n}\\nrow {\\ndouble {\\nsmall-title, text, btn-green\\n}\\ndouble {\\nsmall-title, text, btn-red\\n}\\n}\\n'],\n",
              " 'DE8BEB83-425C-45F3-BB63-0905AE781870': ['header {\\nbtn-inactive, btn-active, btn-inactive, btn-inactive, btn-inactive\\n}\\nrow {\\nquadruple {\\nsmall-title, text, btn-orange\\n}\\nquadruple {\\nsmall-title, text, btn-orange\\n}\\nquadruple {\\nsmall-title, text, btn-green\\n}\\nquadruple {\\nsmall-title, text, btn-orange\\n}\\n}\\nrow {\\nsingle {\\nsmall-title, text, btn-red\\n}\\n}\\nrow {\\ndouble {\\nsmall-title, text, btn-red\\n}\\ndouble {\\nsmall-title, text, btn-red\\n}\\n}\\n'],\n",
              " 'DE9B1558-4339-4560-9B52-523131E1649E': ['header {\\nbtn-inactive, btn-inactive, btn-active, btn-inactive, btn-inactive\\n}\\nrow {\\nsingle {\\nsmall-title, text, btn-orange\\n}\\n}\\nrow {\\nquadruple {\\nsmall-title, text, btn-green\\n}\\nquadruple {\\nsmall-title, text, btn-red\\n}\\nquadruple {\\nsmall-title, text, btn-orange\\n}\\nquadruple {\\nsmall-title, text, btn-red\\n}\\n}\\nrow {\\ndouble {\\nsmall-title, text, btn-red\\n}\\ndouble {\\nsmall-title, text, btn-green\\n}\\n}\\n'],\n",
              " 'DFD138B4-A4C3-4259-AC0F-B6F924FD94EC': ['header {\\nbtn-inactive, btn-active, btn-inactive, btn-inactive\\n}\\nrow {\\ndouble {\\nsmall-title, text, btn-green\\n}\\ndouble {\\nsmall-title, text, btn-green\\n}\\n}\\nrow {\\nsingle {\\nsmall-title, text, btn-green\\n}\\n}\\nrow {\\nquadruple {\\nsmall-title, text, btn-red\\n}\\nquadruple {\\nsmall-title, text, btn-orange\\n}\\nquadruple {\\nsmall-title, text, btn-green\\n}\\nquadruple {\\nsmall-title, text, btn-orange\\n}\\n}\\n'],\n",
              " 'E1637792-9F70-41BC-844C-D6A9954ED63B': ['header {\\nbtn-active, btn-inactive, btn-inactive\\n}\\nrow {\\ndouble {\\nsmall-title, text, btn-red\\n}\\ndouble {\\nsmall-title, text, btn-orange\\n}\\n}\\nrow {\\nquadruple {\\nsmall-title, text, btn-red\\n}\\nquadruple {\\nsmall-title, text, btn-orange\\n}\\nquadruple {\\nsmall-title, text, btn-red\\n}\\nquadruple {\\nsmall-title, text, btn-red\\n}\\n}\\nrow {\\nsingle {\\nsmall-title, text, btn-red\\n}\\n}\\n'],\n",
              " 'E1715FDA-2D2D-470A-846E-2803DE6F051F': ['header {\\nbtn-inactive, btn-active, btn-inactive, btn-inactive\\n}\\nrow {\\nquadruple {\\nsmall-title, text, btn-green\\n}\\nquadruple {\\nsmall-title, text, btn-green\\n}\\nquadruple {\\nsmall-title, text, btn-green\\n}\\nquadruple {\\nsmall-title, text, btn-green\\n}\\n}\\nrow {\\nsingle {\\nsmall-title, text, btn-orange\\n}\\n}\\nrow {\\ndouble {\\nsmall-title, text, btn-red\\n}\\ndouble {\\nsmall-title, text, btn-red\\n}\\n}\\n'],\n",
              " 'E33FBC33-5C94-4BA2-A9BC-140588E186DB': ['header {\\nbtn-inactive, btn-inactive, btn-inactive, btn-active\\n}\\nrow {\\nsingle {\\nsmall-title, text, btn-green\\n}\\n}\\nrow {\\ndouble {\\nsmall-title, text, btn-green\\n}\\ndouble {\\nsmall-title, text, btn-orange\\n}\\n}\\nrow {\\nquadruple {\\nsmall-title, text, btn-green\\n}\\nquadruple {\\nsmall-title, text, btn-orange\\n}\\nquadruple {\\nsmall-title, text, btn-green\\n}\\nquadruple {\\nsmall-title, text, btn-green\\n}\\n}\\n'],\n",
              " 'E59DED37-C192-4976-A99D-2DBF663215F7': ['header {\\nbtn-inactive, btn-active, btn-inactive\\n}\\nrow {\\ndouble {\\nsmall-title, text, btn-green\\n}\\ndouble {\\nsmall-title, text, btn-orange\\n}\\n}\\nrow {\\nsingle {\\nsmall-title, text, btn-green\\n}\\n}\\nrow {\\ndouble {\\nsmall-title, text, btn-green\\n}\\ndouble {\\nsmall-title, text, btn-red\\n}\\n}\\n'],\n",
              " 'E5A6F66C-D727-4D75-A3EA-E6F37E58E333': ['header {\\nbtn-inactive, btn-active, btn-inactive, btn-inactive\\n}\\nrow {\\nsingle {\\nsmall-title, text, btn-orange\\n}\\n}\\nrow {\\nquadruple {\\nsmall-title, text, btn-green\\n}\\nquadruple {\\nsmall-title, text, btn-orange\\n}\\nquadruple {\\nsmall-title, text, btn-orange\\n}\\nquadruple {\\nsmall-title, text, btn-red\\n}\\n}\\nrow {\\ndouble {\\nsmall-title, text, btn-green\\n}\\ndouble {\\nsmall-title, text, btn-orange\\n}\\n}\\n'],\n",
              " 'E5D53F97-D3A2-4BB7-8107-6FB035F94722': ['header {\\nbtn-inactive, btn-active, btn-inactive, btn-inactive, btn-inactive\\n}\\nrow {\\nquadruple {\\nsmall-title, text, btn-orange\\n}\\nquadruple {\\nsmall-title, text, btn-red\\n}\\nquadruple {\\nsmall-title, text, btn-orange\\n}\\nquadruple {\\nsmall-title, text, btn-orange\\n}\\n}\\nrow {\\nsingle {\\nsmall-title, text, btn-green\\n}\\n}\\n'],\n",
              " 'E673E717-73D7-4D09-B0BC-BB96C227D512': ['header {\\nbtn-active, btn-inactive\\n}\\nrow {\\nquadruple {\\nsmall-title, text, btn-orange\\n}\\nquadruple {\\nsmall-title, text, btn-green\\n}\\nquadruple {\\nsmall-title, text, btn-red\\n}\\nquadruple {\\nsmall-title, text, btn-orange\\n}\\n}\\nrow {\\ndouble {\\nsmall-title, text, btn-green\\n}\\ndouble {\\nsmall-title, text, btn-green\\n}\\n}\\nrow {\\nsingle {\\nsmall-title, text, btn-red\\n}\\n}\\n'],\n",
              " 'E6D4B7D6-2DB2-4D21-8C57-D0F2846115A9': ['header {\\nbtn-inactive, btn-active\\n}\\nrow {\\ndouble {\\nsmall-title, text, btn-green\\n}\\ndouble {\\nsmall-title, text, btn-red\\n}\\n}\\nrow {\\nsingle {\\nsmall-title, text, btn-red\\n}\\n}\\n'],\n",
              " 'E8BEB0A0-599F-4FBE-B85A-8A2F6406605B': ['header {\\nbtn-active, btn-inactive, btn-inactive\\n}\\nrow {\\nsingle {\\nsmall-title, text, btn-red\\n}\\n}\\nrow {\\ndouble {\\nsmall-title, text, btn-red\\n}\\ndouble {\\nsmall-title, text, btn-orange\\n}\\n}\\nrow {\\nquadruple {\\nsmall-title, text, btn-green\\n}\\nquadruple {\\nsmall-title, text, btn-red\\n}\\nquadruple {\\nsmall-title, text, btn-green\\n}\\nquadruple {\\nsmall-title, text, btn-orange\\n}\\n}\\n'],\n",
              " 'E96459E9-5EF6-46C1-8C30-521CD7E95AB7': ['header {\\nbtn-inactive, btn-inactive, btn-inactive, btn-active\\n}\\nrow {\\nsingle {\\nsmall-title, text, btn-green\\n}\\n}\\nrow {\\ndouble {\\nsmall-title, text, btn-green\\n}\\ndouble {\\nsmall-title, text, btn-red\\n}\\n}\\nrow {\\nquadruple {\\nsmall-title, text, btn-red\\n}\\nquadruple {\\nsmall-title, text, btn-orange\\n}\\nquadruple {\\nsmall-title, text, btn-red\\n}\\nquadruple {\\nsmall-title, text, btn-orange\\n}\\n}\\n'],\n",
              " 'E9F4DE26-EA8E-4D8A-B7D0-C9BBD9E4E8DD': ['header {\\nbtn-active, btn-inactive, btn-inactive\\n}\\nrow {\\ndouble {\\nsmall-title, text, btn-green\\n}\\ndouble {\\nsmall-title, text, btn-green\\n}\\n}\\nrow {\\nsingle {\\nsmall-title, text, btn-red\\n}\\n}\\nrow {\\nquadruple {\\nsmall-title, text, btn-orange\\n}\\nquadruple {\\nsmall-title, text, btn-red\\n}\\nquadruple {\\nsmall-title, text, btn-red\\n}\\nquadruple {\\nsmall-title, text, btn-green\\n}\\n}\\n'],\n",
              " 'EAB35589-CD1C-4625-9EE1-D87DC52E999B': ['header {\\nbtn-active, btn-inactive, btn-inactive, btn-inactive\\n}\\nrow {\\nsingle {\\nsmall-title, text, btn-green\\n}\\n}\\nrow {\\nquadruple {\\nsmall-title, text, btn-orange\\n}\\nquadruple {\\nsmall-title, text, btn-green\\n}\\nquadruple {\\nsmall-title, text, btn-red\\n}\\nquadruple {\\nsmall-title, text, btn-green\\n}\\n}\\n'],\n",
              " 'EAC528EA-C97C-42A3-9D3F-BA04BDD20FC5': ['header {\\nbtn-inactive, btn-inactive, btn-active\\n}\\nrow {\\nquadruple {\\nsmall-title, text, btn-green\\n}\\nquadruple {\\nsmall-title, text, btn-green\\n}\\nquadruple {\\nsmall-title, text, btn-green\\n}\\nquadruple {\\nsmall-title, text, btn-red\\n}\\n}\\nrow {\\nsingle {\\nsmall-title, text, btn-green\\n}\\n}\\nrow {\\ndouble {\\nsmall-title, text, btn-orange\\n}\\ndouble {\\nsmall-title, text, btn-green\\n}\\n}\\n'],\n",
              " 'EACB242F-842B-4652-952B-D596A11FA64F': ['header {\\nbtn-inactive, btn-inactive, btn-inactive, btn-active, btn-inactive\\n}\\nrow {\\nquadruple {\\nsmall-title, text, btn-orange\\n}\\nquadruple {\\nsmall-title, text, btn-red\\n}\\nquadruple {\\nsmall-title, text, btn-green\\n}\\nquadruple {\\nsmall-title, text, btn-orange\\n}\\n}\\nrow {\\nsingle {\\nsmall-title, text, btn-green\\n}\\n}\\n'],\n",
              " 'EB142AF2-BA61-4B8F-A6A2-0160EF157B40': ['header {\\nbtn-inactive, btn-active\\n}\\nrow {\\ndouble {\\nsmall-title, text, btn-red\\n}\\ndouble {\\nsmall-title, text, btn-green\\n}\\n}\\n'],\n",
              " 'EBEC9F1E-90F1-4823-9893-F5E7D120A163': ['header {\\nbtn-active, btn-inactive, btn-inactive, btn-inactive\\n}\\nrow {\\nsingle {\\nsmall-title, text, btn-green\\n}\\n}\\nrow {\\nsingle {\\nsmall-title, text, btn-orange\\n}\\n}\\nrow {\\nquadruple {\\nsmall-title, text, btn-green\\n}\\nquadruple {\\nsmall-title, text, btn-green\\n}\\nquadruple {\\nsmall-title, text, btn-green\\n}\\nquadruple {\\nsmall-title, text, btn-orange\\n}\\n}\\n'],\n",
              " 'ED917467-B9A6-4FE3-9E51-55C3472236E9': ['header {\\nbtn-active, btn-inactive, btn-inactive, btn-inactive\\n}\\nrow {\\ndouble {\\nsmall-title, text, btn-red\\n}\\ndouble {\\nsmall-title, text, btn-green\\n}\\n}\\nrow {\\nsingle {\\nsmall-title, text, btn-red\\n}\\n}\\nrow {\\nquadruple {\\nsmall-title, text, btn-red\\n}\\nquadruple {\\nsmall-title, text, btn-green\\n}\\nquadruple {\\nsmall-title, text, btn-orange\\n}\\nquadruple {\\nsmall-title, text, btn-orange\\n}\\n}\\n'],\n",
              " 'EDF535A2-7E52-45ED-89D8-A7AFF455E4AC': ['header {\\nbtn-active, btn-inactive, btn-inactive, btn-inactive\\n}\\nrow {\\nsingle {\\nsmall-title, text, btn-red\\n}\\n}\\nrow {\\ndouble {\\nsmall-title, text, btn-red\\n}\\ndouble {\\nsmall-title, text, btn-orange\\n}\\n}\\nrow {\\nquadruple {\\nsmall-title, text, btn-orange\\n}\\nquadruple {\\nsmall-title, text, btn-orange\\n}\\nquadruple {\\nsmall-title, text, btn-red\\n}\\nquadruple {\\nsmall-title, text, btn-green\\n}\\n}\\n'],\n",
              " 'EE0095AF-CA37-43D6-A5BE-F7B8537F2D97': ['header {\\nbtn-active, btn-inactive, btn-inactive, btn-inactive, btn-inactive\\n}\\nrow {\\nsingle {\\nsmall-title, text, btn-green\\n}\\n}\\nrow {\\nquadruple {\\nsmall-title, text, btn-green\\n}\\nquadruple {\\nsmall-title, text, btn-orange\\n}\\nquadruple {\\nsmall-title, text, btn-orange\\n}\\nquadruple {\\nsmall-title, text, btn-red\\n}\\n}\\nrow {\\ndouble {\\nsmall-title, text, btn-red\\n}\\ndouble {\\nsmall-title, text, btn-green\\n}\\n}\\n'],\n",
              " 'EE3E2AF8-ABB0-46F2-8243-70722E3B37DE': ['header {\\nbtn-inactive, btn-active, btn-inactive, btn-inactive, btn-inactive\\n}\\nrow {\\nsingle {\\nsmall-title, text, btn-green\\n}\\n}\\nrow {\\nquadruple {\\nsmall-title, text, btn-green\\n}\\nquadruple {\\nsmall-title, text, btn-green\\n}\\nquadruple {\\nsmall-title, text, btn-green\\n}\\nquadruple {\\nsmall-title, text, btn-green\\n}\\n}\\nrow {\\ndouble {\\nsmall-title, text, btn-red\\n}\\ndouble {\\nsmall-title, text, btn-orange\\n}\\n}\\n'],\n",
              " 'F144C4B3-7CFA-4326-8C7B-48F9BCB35DFF': ['header {\\nbtn-active, btn-inactive\\n}\\nrow {\\nquadruple {\\nsmall-title, text, btn-orange\\n}\\nquadruple {\\nsmall-title, text, btn-green\\n}\\nquadruple {\\nsmall-title, text, btn-orange\\n}\\nquadruple {\\nsmall-title, text, btn-red\\n}\\n}\\nrow {\\nsingle {\\nsmall-title, text, btn-green\\n}\\n}\\nrow {\\ndouble {\\nsmall-title, text, btn-green\\n}\\ndouble {\\nsmall-title, text, btn-red\\n}\\n}\\n'],\n",
              " 'F213E610-E368-4B51-B6F7-C0C0AB889784': ['header {\\nbtn-inactive, btn-active\\n}\\nrow {\\nsingle {\\nsmall-title, text, btn-green\\n}\\n}\\nrow {\\nquadruple {\\nsmall-title, text, btn-orange\\n}\\nquadruple {\\nsmall-title, text, btn-red\\n}\\nquadruple {\\nsmall-title, text, btn-red\\n}\\nquadruple {\\nsmall-title, text, btn-green\\n}\\n}\\nrow {\\ndouble {\\nsmall-title, text, btn-red\\n}\\ndouble {\\nsmall-title, text, btn-orange\\n}\\n}\\n'],\n",
              " 'F2C09A0F-80AE-4817-AA0A-45E9F55CA55A': ['header {\\nbtn-active, btn-inactive, btn-inactive\\n}\\nrow {\\nquadruple {\\nsmall-title, text, btn-red\\n}\\nquadruple {\\nsmall-title, text, btn-orange\\n}\\nquadruple {\\nsmall-title, text, btn-orange\\n}\\nquadruple {\\nsmall-title, text, btn-red\\n}\\n}\\nrow {\\nquadruple {\\nsmall-title, text, btn-green\\n}\\nquadruple {\\nsmall-title, text, btn-red\\n}\\nquadruple {\\nsmall-title, text, btn-green\\n}\\nquadruple {\\nsmall-title, text, btn-green\\n}\\n}\\nrow {\\nsingle {\\nsmall-title, text, btn-orange\\n}\\n}\\n'],\n",
              " 'F44EE692-3050-4028-995E-CDAFB5E45BCE': ['header {\\nbtn-inactive, btn-active\\n}\\nrow {\\ndouble {\\nsmall-title, text, btn-orange\\n}\\ndouble {\\nsmall-title, text, btn-red\\n}\\n}\\nrow {\\ndouble {\\nsmall-title, text, btn-orange\\n}\\ndouble {\\nsmall-title, text, btn-red\\n}\\n}\\n'],\n",
              " 'F45323B1-EAA1-4971-B430-6265C249752B': ['header {\\nbtn-inactive, btn-inactive, btn-active\\n}\\nrow {\\ndouble {\\nsmall-title, text, btn-red\\n}\\ndouble {\\nsmall-title, text, btn-orange\\n}\\n}\\nrow {\\nsingle {\\nsmall-title, text, btn-red\\n}\\n}\\nrow {\\nsingle {\\nsmall-title, text, btn-green\\n}\\n}\\n'],\n",
              " 'F4F9BA11-C4DE-4E29-B006-EE52AFDC54C2': ['header {\\nbtn-active, btn-inactive, btn-inactive, btn-inactive\\n}\\nrow {\\ndouble {\\nsmall-title, text, btn-orange\\n}\\ndouble {\\nsmall-title, text, btn-green\\n}\\n}\\nrow {\\nsingle {\\nsmall-title, text, btn-green\\n}\\n}\\nrow {\\nquadruple {\\nsmall-title, text, btn-red\\n}\\nquadruple {\\nsmall-title, text, btn-orange\\n}\\nquadruple {\\nsmall-title, text, btn-green\\n}\\nquadruple {\\nsmall-title, text, btn-orange\\n}\\n}\\n'],\n",
              " 'F53AE058-8851-4BA5-B8F9-22F4751B1202': ['header {\\nbtn-active, btn-inactive\\n}\\nrow {\\nsingle {\\nsmall-title, text, btn-red\\n}\\n}\\nrow {\\ndouble {\\nsmall-title, text, btn-orange\\n}\\ndouble {\\nsmall-title, text, btn-red\\n}\\n}\\n'],\n",
              " 'F6FBE3E3-8238-464B-832A-5B88B6E600F5': ['header {\\nbtn-active, btn-inactive, btn-inactive\\n}\\nrow {\\nquadruple {\\nsmall-title, text, btn-orange\\n}\\nquadruple {\\nsmall-title, text, btn-orange\\n}\\nquadruple {\\nsmall-title, text, btn-orange\\n}\\nquadruple {\\nsmall-title, text, btn-green\\n}\\n}\\nrow {\\nsingle {\\nsmall-title, text, btn-red\\n}\\n}\\nrow {\\ndouble {\\nsmall-title, text, btn-green\\n}\\ndouble {\\nsmall-title, text, btn-green\\n}\\n}\\n'],\n",
              " 'F79FFC31-1C16-4E8D-8C20-5DC92D8BB743': ['header {\\nbtn-inactive, btn-inactive, btn-active, btn-inactive\\n}\\nrow {\\nquadruple {\\nsmall-title, text, btn-red\\n}\\nquadruple {\\nsmall-title, text, btn-red\\n}\\nquadruple {\\nsmall-title, text, btn-orange\\n}\\nquadruple {\\nsmall-title, text, btn-green\\n}\\n}\\nrow {\\nsingle {\\nsmall-title, text, btn-green\\n}\\n}\\nrow {\\ndouble {\\nsmall-title, text, btn-green\\n}\\ndouble {\\nsmall-title, text, btn-orange\\n}\\n}\\n'],\n",
              " 'F84F4BBA-C4E0-44EF-B477-7AB8E3E15334': ['header {\\nbtn-inactive, btn-active\\n}\\nrow {\\ndouble {\\nsmall-title, text, btn-orange\\n}\\ndouble {\\nsmall-title, text, btn-orange\\n}\\n}\\nrow {\\nsingle {\\nsmall-title, text, btn-green\\n}\\n}\\nrow {\\nquadruple {\\nsmall-title, text, btn-green\\n}\\nquadruple {\\nsmall-title, text, btn-green\\n}\\nquadruple {\\nsmall-title, text, btn-green\\n}\\nquadruple {\\nsmall-title, text, btn-green\\n}\\n}\\n'],\n",
              " 'F851CA55-2C9B-49A5-966F-3CF5A761879E': ['header {\\nbtn-inactive, btn-active, btn-inactive, btn-inactive, btn-inactive\\n}\\nrow {\\nquadruple {\\nsmall-title, text, btn-orange\\n}\\nquadruple {\\nsmall-title, text, btn-green\\n}\\nquadruple {\\nsmall-title, text, btn-red\\n}\\nquadruple {\\nsmall-title, text, btn-orange\\n}\\n}\\nrow {\\ndouble {\\nsmall-title, text, btn-orange\\n}\\ndouble {\\nsmall-title, text, btn-orange\\n}\\n}\\nrow {\\nsingle {\\nsmall-title, text, btn-green\\n}\\n}\\n'],\n",
              " 'F8844C2F-CF0B-481B-97D7-38D729FD651D': ['header {\\nbtn-inactive, btn-inactive, btn-active, btn-inactive, btn-inactive\\n}\\nrow {\\ndouble {\\nsmall-title, text, btn-green\\n}\\ndouble {\\nsmall-title, text, btn-orange\\n}\\n}\\nrow {\\nsingle {\\nsmall-title, text, btn-green\\n}\\n}\\nrow {\\nquadruple {\\nsmall-title, text, btn-orange\\n}\\nquadruple {\\nsmall-title, text, btn-red\\n}\\nquadruple {\\nsmall-title, text, btn-red\\n}\\nquadruple {\\nsmall-title, text, btn-orange\\n}\\n}\\n'],\n",
              " 'F91D61AD-CD67-4340-A60F-07FB7C19E148': ['header {\\nbtn-active, btn-inactive, btn-inactive\\n}\\nrow {\\nquadruple {\\nsmall-title, text, btn-orange\\n}\\nquadruple {\\nsmall-title, text, btn-red\\n}\\nquadruple {\\nsmall-title, text, btn-red\\n}\\nquadruple {\\nsmall-title, text, btn-green\\n}\\n}\\n'],\n",
              " 'F96621C3-BFED-4A7E-B67A-AF2B41EAEEB8': ['header {\\nbtn-active, btn-inactive, btn-inactive, btn-inactive, btn-inactive\\n}\\nrow {\\nquadruple {\\nsmall-title, text, btn-red\\n}\\nquadruple {\\nsmall-title, text, btn-orange\\n}\\nquadruple {\\nsmall-title, text, btn-orange\\n}\\nquadruple {\\nsmall-title, text, btn-red\\n}\\n}\\nrow {\\nsingle {\\nsmall-title, text, btn-orange\\n}\\n}\\nrow {\\ndouble {\\nsmall-title, text, btn-green\\n}\\ndouble {\\nsmall-title, text, btn-orange\\n}\\n}\\n'],\n",
              " 'F97A56D4-7880-4F8E-9428-4052FE548B0F': ['header {\\nbtn-inactive, btn-active\\n}\\nrow {\\nsingle {\\nsmall-title, text, btn-red\\n}\\n}\\nrow {\\nsingle {\\nsmall-title, text, btn-green\\n}\\n}\\nrow {\\nsingle {\\nsmall-title, text, btn-red\\n}\\n}\\n'],\n",
              " 'F991FF54-0127-417A-96A9-2D15C2D70C77': ['header {\\nbtn-active, btn-inactive\\n}\\nrow {\\nquadruple {\\nsmall-title, text, btn-orange\\n}\\nquadruple {\\nsmall-title, text, btn-red\\n}\\nquadruple {\\nsmall-title, text, btn-red\\n}\\nquadruple {\\nsmall-title, text, btn-orange\\n}\\n}\\nrow {\\nsingle {\\nsmall-title, text, btn-green\\n}\\n}\\n'],\n",
              " 'F9E88F2A-5270-4CFC-96CF-A6AF7D8D40FE': ['header {\\nbtn-active, btn-inactive\\n}\\nrow {\\nsingle {\\nsmall-title, text, btn-green\\n}\\n}\\nrow {\\nquadruple {\\nsmall-title, text, btn-orange\\n}\\nquadruple {\\nsmall-title, text, btn-red\\n}\\nquadruple {\\nsmall-title, text, btn-orange\\n}\\nquadruple {\\nsmall-title, text, btn-green\\n}\\n}\\nrow {\\ndouble {\\nsmall-title, text, btn-orange\\n}\\ndouble {\\nsmall-title, text, btn-green\\n}\\n}\\n'],\n",
              " 'FB7F8813-58F7-44E8-ADB3-1625E3900F62': ['header {\\nbtn-inactive, btn-inactive, btn-active, btn-inactive\\n}\\nrow {\\ndouble {\\nsmall-title, text, btn-green\\n}\\ndouble {\\nsmall-title, text, btn-red\\n}\\n}\\nrow {\\nquadruple {\\nsmall-title, text, btn-red\\n}\\nquadruple {\\nsmall-title, text, btn-red\\n}\\nquadruple {\\nsmall-title, text, btn-green\\n}\\nquadruple {\\nsmall-title, text, btn-green\\n}\\n}\\nrow {\\nsingle {\\nsmall-title, text, btn-green\\n}\\n}\\n'],\n",
              " 'FC261138-08E4-41AC-B411-D82D6FDE354F': ['header {\\nbtn-active, btn-inactive\\n}\\nrow {\\ndouble {\\nsmall-title, text, btn-orange\\n}\\ndouble {\\nsmall-title, text, btn-red\\n}\\n}\\nrow {\\nsingle {\\nsmall-title, text, btn-green\\n}\\n}\\nrow {\\nquadruple {\\nsmall-title, text, btn-orange\\n}\\nquadruple {\\nsmall-title, text, btn-red\\n}\\nquadruple {\\nsmall-title, text, btn-green\\n}\\nquadruple {\\nsmall-title, text, btn-red\\n}\\n}\\n'],\n",
              " 'FD1D6CE9-C7AE-43C7-8132-4859237203DF': ['header {\\nbtn-inactive, btn-active, btn-inactive\\n}\\nrow {\\nquadruple {\\nsmall-title, text, btn-red\\n}\\nquadruple {\\nsmall-title, text, btn-red\\n}\\nquadruple {\\nsmall-title, text, btn-orange\\n}\\nquadruple {\\nsmall-title, text, btn-orange\\n}\\n}\\nrow {\\nsingle {\\nsmall-title, text, btn-orange\\n}\\n}\\nrow {\\ndouble {\\nsmall-title, text, btn-red\\n}\\ndouble {\\nsmall-title, text, btn-red\\n}\\n}\\n'],\n",
              " 'FD977DC6-B220-4EC3-9A79-4A5E4B708707': ['header {\\nbtn-active, btn-inactive\\n}\\nrow {\\ndouble {\\nsmall-title, text, btn-orange\\n}\\ndouble {\\nsmall-title, text, btn-green\\n}\\n}\\nrow {\\nsingle {\\nsmall-title, text, btn-green\\n}\\n}\\nrow {\\nquadruple {\\nsmall-title, text, btn-red\\n}\\nquadruple {\\nsmall-title, text, btn-green\\n}\\nquadruple {\\nsmall-title, text, btn-orange\\n}\\nquadruple {\\nsmall-title, text, btn-red\\n}\\n}\\n'],\n",
              " 'FDC5BDA9-5E86-4020-82E7-2F231E0B890A': ['header {\\nbtn-active, btn-inactive, btn-inactive, btn-inactive, btn-inactive\\n}\\nrow {\\nquadruple {\\nsmall-title, text, btn-red\\n}\\nquadruple {\\nsmall-title, text, btn-green\\n}\\nquadruple {\\nsmall-title, text, btn-red\\n}\\nquadruple {\\nsmall-title, text, btn-orange\\n}\\n}\\nrow {\\nsingle {\\nsmall-title, text, btn-red\\n}\\n}\\nrow {\\ndouble {\\nsmall-title, text, btn-red\\n}\\ndouble {\\nsmall-title, text, btn-orange\\n}\\n}\\n'],\n",
              " 'FECC1897-8B91-426B-96F3-29DA91E30721': ['header {\\nbtn-inactive, btn-inactive, btn-active, btn-inactive\\n}\\nrow {\\ndouble {\\nsmall-title, text, btn-red\\n}\\ndouble {\\nsmall-title, text, btn-red\\n}\\n}\\nrow {\\nsingle {\\nsmall-title, text, btn-green\\n}\\n}\\nrow {\\nquadruple {\\nsmall-title, text, btn-green\\n}\\nquadruple {\\nsmall-title, text, btn-green\\n}\\nquadruple {\\nsmall-title, text, btn-orange\\n}\\nquadruple {\\nsmall-title, text, btn-red\\n}\\n}\\n']}"
            ]
          },
          "metadata": {},
          "execution_count": 14
        }
      ]
    },
    {
      "cell_type": "code",
      "source": [
        "len(mapping)"
      ],
      "metadata": {
        "colab": {
          "base_uri": "https://localhost:8080/"
        },
        "id": "u1kHAPwtQLEz",
        "outputId": "62cb20b1-0c2f-4219-d9e9-34f2fd1cc025"
      },
      "execution_count": 15,
      "outputs": [
        {
          "output_type": "execute_result",
          "data": {
            "text/plain": [
              "300"
            ]
          },
          "metadata": {},
          "execution_count": 15
        }
      ]
    },
    {
      "cell_type": "code",
      "source": [
        "def clean(mapping):\n",
        "    for key, captions in mapping.items():\n",
        "        for i in range(len(captions)):\n",
        "            # take one caption at a time\n",
        "            caption = captions[i]\n",
        "            # preprocessing steps\n",
        "            # convert to lowercase\n",
        "            caption = caption.lower()\n",
        "            # delete digits, special chars, etc., \n",
        "            caption = caption.replace('[^A-Za-z]', '')\n",
        "            # delete additional spaces\n",
        "            caption = caption.replace('\\s+', ' ')\n",
        "            # add start and end tags to the caption\n",
        "            caption = 'start ' + \" \".join([word for word in caption.split() if len(word)>1]) + ' end'\n",
        "            captions[i] = caption"
      ],
      "metadata": {
        "id": "EEf31VOeQVun"
      },
      "execution_count": 16,
      "outputs": []
    },
    {
      "cell_type": "code",
      "source": [
        "mapping['01B6145F-B88B-4FF8-B7D7-BB8A321EDA85']"
      ],
      "metadata": {
        "colab": {
          "base_uri": "https://localhost:8080/"
        },
        "id": "G6ZUQMjMQgfN",
        "outputId": "352544bc-b27a-460c-dc6f-f4bbaad74a26"
      },
      "execution_count": 17,
      "outputs": [
        {
          "output_type": "execute_result",
          "data": {
            "text/plain": [
              "['header {\\nbtn-inactive, btn-inactive, btn-active, btn-inactive, btn-inactive\\n}\\nrow {\\nsingle {\\nsmall-title, text, btn-orange\\n}\\n}\\nrow {\\nquadruple {\\nsmall-title, text, btn-orange\\n}\\nquadruple {\\nsmall-title, text, btn-orange\\n}\\nquadruple {\\nsmall-title, text, btn-red\\n}\\nquadruple {\\nsmall-title, text, btn-orange\\n}\\n}\\nrow {\\nsingle {\\nsmall-title, text, btn-red\\n}\\n}\\n']"
            ]
          },
          "metadata": {},
          "execution_count": 17
        }
      ]
    },
    {
      "cell_type": "code",
      "source": [
        "# preprocess the text\n",
        "clean(mapping)"
      ],
      "metadata": {
        "id": "POFXaPQ-QxcY"
      },
      "execution_count": 18,
      "outputs": []
    },
    {
      "cell_type": "code",
      "source": [
        "# after preprocess of text\n",
        "mapping['01B6145F-B88B-4FF8-B7D7-BB8A321EDA85']"
      ],
      "metadata": {
        "colab": {
          "base_uri": "https://localhost:8080/"
        },
        "id": "je96Ho60Q2BI",
        "outputId": "d7f8b551-8f99-4706-8898-5223e26cb19b"
      },
      "execution_count": 19,
      "outputs": [
        {
          "output_type": "execute_result",
          "data": {
            "text/plain": [
              "['start header btn-inactive, btn-inactive, btn-active, btn-inactive, btn-inactive row single small-title, text, btn-orange row quadruple small-title, text, btn-orange quadruple small-title, text, btn-orange quadruple small-title, text, btn-red quadruple small-title, text, btn-orange row single small-title, text, btn-red end']"
            ]
          },
          "metadata": {},
          "execution_count": 19
        }
      ]
    },
    {
      "cell_type": "code",
      "source": [
        "all_captions = []\n",
        "for key in mapping:\n",
        "    for caption in mapping[key]:\n",
        "        all_captions.append(caption)"
      ],
      "metadata": {
        "id": "UT-blQJLQ8Jj"
      },
      "execution_count": 20,
      "outputs": []
    },
    {
      "cell_type": "code",
      "source": [
        "len(all_captions)"
      ],
      "metadata": {
        "colab": {
          "base_uri": "https://localhost:8080/"
        },
        "id": "OqMJQVquRBKD",
        "outputId": "f03c8999-02b7-4dae-b6f1-ddb53ba72b2a"
      },
      "execution_count": 21,
      "outputs": [
        {
          "output_type": "execute_result",
          "data": {
            "text/plain": [
              "300"
            ]
          },
          "metadata": {},
          "execution_count": 21
        }
      ]
    },
    {
      "cell_type": "code",
      "source": [
        "all_captions[:10]"
      ],
      "metadata": {
        "colab": {
          "base_uri": "https://localhost:8080/"
        },
        "id": "k10CbBUCRDzN",
        "outputId": "86151a67-aa04-475f-99e3-66a92ef7e3cb"
      },
      "execution_count": 22,
      "outputs": [
        {
          "output_type": "execute_result",
          "data": {
            "text/plain": [
              "['start header btn-active, btn-inactive row single small-title, text, btn-red row double small-title, text, btn-green double small-title, text, btn-orange row quadruple small-title, text, btn-orange quadruple small-title, text, btn-red quadruple small-title, text, btn-orange quadruple small-title, text, btn-orange end',\n",
              " 'start header btn-active, btn-inactive, btn-inactive row quadruple small-title, text, btn-orange quadruple small-title, text, btn-orange quadruple small-title, text, btn-orange quadruple small-title, text, btn-green row single small-title, text, btn-red row double small-title, text, btn-green double small-title, text, btn-green end',\n",
              " 'start header btn-inactive, btn-active row double small-title, text, btn-green double small-title, text, btn-red row single small-title, text, btn-red end',\n",
              " 'start header btn-active, btn-inactive row double small-title, text, btn-green double small-title, text, btn-orange row single small-title, text, btn-red row double small-title, text, btn-red double small-title, text, btn-red end',\n",
              " 'start header btn-inactive, btn-active row quadruple small-title, text, btn-orange quadruple small-title, text, btn-orange quadruple small-title, text, btn-orange quadruple small-title, text, btn-green end',\n",
              " 'start header btn-inactive, btn-active row quadruple small-title, text, btn-green quadruple small-title, text, btn-red quadruple small-title, text, btn-red quadruple small-title, text, btn-green end',\n",
              " 'start header btn-inactive, btn-inactive, btn-active, btn-inactive row quadruple small-title, text, btn-green quadruple small-title, text, btn-red quadruple small-title, text, btn-red quadruple small-title, text, btn-green row single small-title, text, btn-green row double small-title, text, btn-red double small-title, text, btn-green end',\n",
              " 'start header btn-inactive, btn-inactive, btn-inactive, btn-active row double small-title, text, btn-orange double small-title, text, btn-green end',\n",
              " 'start header btn-inactive, btn-active row quadruple small-title, text, btn-red quadruple small-title, text, btn-orange quadruple small-title, text, btn-red quadruple small-title, text, btn-orange row double small-title, text, btn-green double small-title, text, btn-orange end',\n",
              " 'start header btn-inactive, btn-inactive, btn-active row double small-title, text, btn-red double small-title, text, btn-orange row single small-title, text, btn-orange row quadruple small-title, text, btn-red quadruple small-title, text, btn-red quadruple small-title, text, btn-orange quadruple small-title, text, btn-red end']"
            ]
          },
          "metadata": {},
          "execution_count": 22
        }
      ]
    },
    {
      "cell_type": "code",
      "source": [
        "# tokenize the text\n",
        "tokenizer = Tokenizer()\n",
        "tokenizer.fit_on_texts(all_captions)\n",
        "vocab_size = len(tokenizer.word_index) + 1"
      ],
      "metadata": {
        "id": "vCoSw7BKRG9C"
      },
      "execution_count": 23,
      "outputs": []
    },
    {
      "cell_type": "code",
      "source": [
        "vocab_size"
      ],
      "metadata": {
        "colab": {
          "base_uri": "https://localhost:8080/"
        },
        "id": "Iv1YoQ8aRLyg",
        "outputId": "0483ce36-326a-48c2-904d-6d8d5e0222c2"
      },
      "execution_count": 24,
      "outputs": [
        {
          "output_type": "execute_result",
          "data": {
            "text/plain": [
              "17"
            ]
          },
          "metadata": {},
          "execution_count": 24
        }
      ]
    },
    {
      "cell_type": "code",
      "source": [
        "# get maximum length of the caption available\n",
        "max_length = max(len(caption.split()) for caption in all_captions)\n",
        "max_length"
      ],
      "metadata": {
        "colab": {
          "base_uri": "https://localhost:8080/"
        },
        "id": "nGPD1ypCROKO",
        "outputId": "39799165-02c6-453e-9ba6-890f9055dbde"
      },
      "execution_count": 25,
      "outputs": [
        {
          "output_type": "execute_result",
          "data": {
            "text/plain": [
              "57"
            ]
          },
          "metadata": {},
          "execution_count": 25
        }
      ]
    },
    {
      "cell_type": "code",
      "source": [
        "image_ids = list(mapping.keys())\n",
        "split = int(len(image_ids) * 0.90)\n",
        "train = image_ids[:split]\n",
        "test = image_ids[split:]"
      ],
      "metadata": {
        "id": "RXGWyRKiRRZy"
      },
      "execution_count": 26,
      "outputs": []
    },
    {
      "cell_type": "code",
      "source": [
        "# create data generator to get data in batch (avoids session crash)\n",
        "def data_generator(data_keys, mapping, features, tokenizer, max_length, vocab_size, batch_size):\n",
        "    # loop over images\n",
        "    X1, X2, y = list(), list(), list()\n",
        "    n = 0\n",
        "    while 1:\n",
        "        for key in data_keys:\n",
        "            n += 1\n",
        "            captions = mapping[key]\n",
        "            # process each caption\n",
        "            for caption in captions:\n",
        "                # encode the sequence\n",
        "                seq = tokenizer.texts_to_sequences([caption])[0]\n",
        "                # split the sequence into X, y pairs\n",
        "                for i in range(1, len(seq)):\n",
        "                    # split into input and output pairs\n",
        "                    in_seq, out_seq = seq[:i], seq[i]\n",
        "                    # pad input sequence\n",
        "                    in_seq = pad_sequences([in_seq], maxlen=max_length)[0]\n",
        "                    # encode output sequence\n",
        "                    out_seq = to_categorical([out_seq], num_classes=vocab_size)[0]\n",
        "                    \n",
        "                    # store the sequences\n",
        "                    X1.append(features[key][0])\n",
        "                    X2.append(in_seq)\n",
        "                    y.append(out_seq)\n",
        "            if n == batch_size:\n",
        "                X1, X2, y = np.array(X1), np.array(X2), np.array(y)\n",
        "                yield [X1, X2], y\n",
        "                X1, X2, y = list(), list(), list()\n",
        "                n = 0"
      ],
      "metadata": {
        "id": "PTYjjUx_RU3a"
      },
      "execution_count": 27,
      "outputs": []
    },
    {
      "cell_type": "code",
      "source": [
        "# encoder model\n",
        "# image feature layers\n",
        "inputs1 = Input(shape=(4096,))\n",
        "fe1 = Dropout(0.4)(inputs1)\n",
        "fe2 = Dense(256, activation='relu')(fe1)\n",
        "# sequence feature layers\n",
        "inputs2 = Input(shape=(max_length,))\n",
        "se1 = Embedding(vocab_size, 256, mask_zero=True)(inputs2)\n",
        "se2 = Dropout(0.4)(se1)\n",
        "se3 = LSTM(256)(se2)\n",
        "\n",
        "# decoder model\n",
        "decoder1 = add([fe2, se3])\n",
        "decoder2 = Dense(256, activation='relu')(decoder1)\n",
        "outputs = Dense(vocab_size, activation='softmax')(decoder2)\n",
        "\n",
        "model = Model(inputs=[inputs1, inputs2], outputs=outputs)\n",
        "model.compile(loss='categorical_crossentropy', optimizer='adam')\n",
        "\n",
        "# plot the model\n",
        "plot_model(model, show_shapes=True)"
      ],
      "metadata": {
        "colab": {
          "base_uri": "https://localhost:8080/",
          "height": 754
        },
        "id": "rLzbUwK2RZQq",
        "outputId": "a577adbc-4b4c-4ed0-eb7d-c209f7ea6d15"
      },
      "execution_count": 28,
      "outputs": [
        {
          "output_type": "execute_result",
          "data": {
            "text/plain": [
              "<IPython.core.display.Image object>"
            ],
            "image/png": "[encoded data removed]"
          },
          "metadata": {},
          "execution_count": 28
        }
      ]
    },
    {
      "cell_type": "code",
      "source": [
        "# train the model\n",
        "epochs = 20\n",
        "batch_size = 32\n",
        "steps = len(train) // batch_size\n",
        "\n",
        "for i in range(epochs):\n",
        "    # create data generator\n",
        "    generator = data_generator(train, mapping, features, tokenizer, max_length, vocab_size, batch_size)\n",
        "    # fit for one epoch\n",
        "    model.fit(generator, epochs=1, steps_per_epoch=steps, verbose=1)"
      ],
      "metadata": {
        "colab": {
          "base_uri": "https://localhost:8080/"
        },
        "id": "bZEvMU0xRcbM",
        "outputId": "cd5e4ec7-5537-47e3-ae42-759ee04956b1"
      },
      "execution_count": 29,
      "outputs": [
        {
          "output_type": "stream",
          "name": "stdout",
          "text": [
            "8/8 [==============================] - 7s 270ms/step - loss: 3.5789\n",
            "8/8 [==============================] - 2s 260ms/step - loss: 2.6681\n",
            "8/8 [==============================] - 2s 259ms/step - loss: 2.4217\n",
            "8/8 [==============================] - 2s 266ms/step - loss: 2.1569\n",
            "8/8 [==============================] - 2s 262ms/step - loss: 1.5761\n",
            "8/8 [==============================] - 2s 308ms/step - loss: 1.0262\n",
            "8/8 [==============================] - 2s 263ms/step - loss: 0.7899\n",
            "8/8 [==============================] - 2s 258ms/step - loss: 0.6768\n",
            "8/8 [==============================] - 2s 249ms/step - loss: 0.6110\n",
            "8/8 [==============================] - 2s 262ms/step - loss: 0.5587\n",
            "8/8 [==============================] - 2s 256ms/step - loss: 0.5158\n",
            "8/8 [==============================] - 3s 343ms/step - loss: 0.4796\n",
            "8/8 [==============================] - 3s 361ms/step - loss: 0.4566\n",
            "8/8 [==============================] - 3s 350ms/step - loss: 0.4366\n",
            "8/8 [==============================] - 2s 266ms/step - loss: 0.4216\n",
            "8/8 [==============================] - 2s 302ms/step - loss: 0.4032\n",
            "8/8 [==============================] - 2s 277ms/step - loss: 0.4058\n",
            "8/8 [==============================] - 2s 250ms/step - loss: 0.3853\n",
            "8/8 [==============================] - 2s 261ms/step - loss: 0.3640\n",
            "8/8 [==============================] - 2s 256ms/step - loss: 0.3429\n"
          ]
        }
      ]
    },
    {
      "cell_type": "code",
      "source": [
        "def idx_to_word(integer, tokenizer):\n",
        "    for word, index in tokenizer.word_index.items():\n",
        "        if index == integer:\n",
        "            return word\n",
        "    return None"
      ],
      "metadata": {
        "id": "gKluQfxaRhU9"
      },
      "execution_count": 30,
      "outputs": []
    },
    {
      "cell_type": "code",
      "source": [
        "# generate caption for an image\n",
        "def predict_caption(model, image, tokenizer, max_length):\n",
        "    # add start tag for generation process\n",
        "    in_text = 'start'\n",
        "    # iterate over the max length of sequence\n",
        "    for i in range(max_length):\n",
        "        # encode input sequence\n",
        "        sequence = tokenizer.texts_to_sequences([in_text])[0]\n",
        "        # pad the sequence\n",
        "        sequence = pad_sequences([sequence], max_length)\n",
        "        # predict next word\n",
        "        yhat = model.predict([image, sequence], verbose=0)\n",
        "        # get index with high probability\n",
        "        yhat = np.argmax(yhat)\n",
        "        # convert index to word\n",
        "        word = idx_to_word(yhat, tokenizer)\n",
        "        # stop if word not found\n",
        "        if word is None:\n",
        "            break\n",
        "        # append word as input for generating next word\n",
        "        in_text += \" \" + word\n",
        "        # stop if we reach end tag\n",
        "        if word == 'end':\n",
        "            break\n",
        "      \n",
        "    return in_text"
      ],
      "metadata": {
        "id": "x00hwbKmSjGs"
      },
      "execution_count": 31,
      "outputs": []
    },
    {
      "cell_type": "code",
      "source": [
        "from nltk.translate.bleu_score import corpus_bleu\n",
        "# validate with test data\n",
        "actual, predicted = list(), list()\n",
        "\n",
        "for key in tqdm(test):\n",
        "    # get actual caption\n",
        "    captions = mapping[key]\n",
        "    # predict the caption for image\n",
        "    y_pred = predict_caption(model, features[key], tokenizer, max_length) \n",
        "    # split into words\n",
        "    actual_captions = [caption.split() for caption in captions]\n",
        "    y_pred = y_pred.split()\n",
        "    # append to the list\n",
        "    actual.append(actual_captions)\n",
        "    predicted.append(y_pred)\n",
        "    \n",
        "# calcuate BLEU score\n",
        "print(\"BLEU-1: %f\" % corpus_bleu(actual, predicted, weights=(1.0, 0, 0, 0)))\n",
        "print(\"BLEU-2: %f\" % corpus_bleu(actual, predicted, weights=(0.5, 0.5, 0, 0)))"
      ],
      "metadata": {
        "colab": {
          "base_uri": "https://localhost:8080/",
          "height": 292,
          "referenced_widgets": [
            "ca922d71251f41a7ad50b77cbbcfc78b",
            "9b0eea9a45db4dd6ba350f629a21038c",
            "f140a25f9f454fee9d9c7e44e9cbeab9",
            "4941738b9f514115a6547f65d594eaaf",
            "91ae8b4f039b419d9f9acea483f0c597",
            "5f88fa79a1344ee98f7a9f760d1fdf5f",
            "3fb14f56c2344d6699b442e7e8b18bb3",
            "cdc8e559f25a40ae8b18ccd75765c668",
            "7e5b8b16bab94c5b9ae1bbe02b0343b3",
            "92946d746aab48d8937802f2658ddbb4",
            "ea4d079cf4e941cca1142b9c1801f4fe"
          ]
        },
        "id": "EdDyk5hcSpGN",
        "outputId": "dec08ca2-e0cf-49b1-d593-dec283b90e2f"
      },
      "execution_count": 32,
      "outputs": [
        {
          "output_type": "display_data",
          "data": {
            "text/plain": [
              "  0%|          | 0/30 [00:00<?, ?it/s]"
            ],
            "application/vnd.jupyter.widget-view+json": {
              "version_major": 2,
              "version_minor": 0,
              "model_id": "ca922d71251f41a7ad50b77cbbcfc78b"
            }
          },
          "metadata": {}
        },
        {
          "output_type": "stream",
          "name": "stdout",
          "text": [
            "BLEU-1: 0.197227\n",
            "BLEU-2: 0.111984\n"
          ]
        },
        {
          "output_type": "stream",
          "name": "stderr",
          "text": [
            "/usr/local/lib/python3.7/dist-packages/nltk/translate/bleu_score.py:552: UserWarning: \n",
            "The hypothesis contains 0 counts of 3-gram overlaps.\n",
            "Therefore the BLEU score evaluates to 0, independently of\n",
            "how many N-gram overlaps of lower order it contains.\n",
            "Consider using lower n-gram order or use SmoothingFunction()\n",
            "  warnings.warn(_msg)\n",
            "/usr/local/lib/python3.7/dist-packages/nltk/translate/bleu_score.py:552: UserWarning: \n",
            "The hypothesis contains 0 counts of 4-gram overlaps.\n",
            "Therefore the BLEU score evaluates to 0, independently of\n",
            "how many N-gram overlaps of lower order it contains.\n",
            "Consider using lower n-gram order or use SmoothingFunction()\n",
            "  warnings.warn(_msg)\n"
          ]
        }
      ]
    },
    {
      "cell_type": "code",
      "source": [
        "from PIL import Image\n",
        "import matplotlib.pyplot as plt\n",
        "def generate_caption(image_name):\n",
        "    # load the image\n",
        "    # image_name = \"01357379-D6C2-4B01-AA66-C8790642D0B1.png\"\n",
        "    image_id = image_name.split('.')[0]\n",
        "    img_path = os.path.join(imgs_path, image_name)\n",
        "    image = Image.open(img_path)\n",
        "    captions = mapping[image_id]\n",
        "    print('---------------------Actual---------------------')\n",
        "    for caption in captions:\n",
        "        print(caption)\n",
        "    # predict the caption\n",
        "    y_pred = predict_caption(model, features[image_id], tokenizer, max_length)\n",
        "    print('--------------------Predicted--------------------')\n",
        "    print(y_pred)\n",
        "    plt.imshow(image)"
      ],
      "metadata": {
        "id": "RLWKgTaeSv4_"
      },
      "execution_count": 37,
      "outputs": []
    },
    {
      "cell_type": "code",
      "source": [
        "generate_caption(\"08451415-0C4B-4650-A2D0-2381AA7DBC71.png\")"
      ],
      "metadata": {
        "colab": {
          "base_uri": "https://localhost:8080/",
          "height": 304
        },
        "id": "HW7E2nLtTRBx",
        "outputId": "0a93afdf-f5b3-4545-d788-80f472551f3f"
      },
      "execution_count": 39,
      "outputs": [
        {
          "output_type": "stream",
          "name": "stdout",
          "text": [
            "---------------------Actual---------------------\n",
            "start header btn-inactive, btn-active row quadruple small-title, text, btn-orange quadruple small-title, text, btn-green quadruple small-title, text, btn-green quadruple small-title, text, btn-orange row double small-title, text, btn-orange double small-title, text, btn-green end\n",
            "--------------------Predicted--------------------\n",
            "start header btn inactive btn active btn inactive btn inactive btn inactive row double small title text btn orange double small title text btn orange row quadruple small title text btn orange quadruple small title text btn orange quadruple small title text btn orange row single small title text btn orange end\n"
          ]
        },
        {
          "output_type": "display_data",
          "data": {
            "text/plain": [
              "<Figure size 432x288 with 1 Axes>"
            ],
            "image/png": "[encoded data removed]"
          },
          "metadata": {
            "needs_background": "light"
          }
        }
      ]
    },
    {
      "cell_type": "markdown",
      "source": [
        "# 2.B"
      ],
      "metadata": {
        "id": "AW1C676uh4Rw"
      }
    },
    {
      "cell_type": "code",
      "source": [
        "imgs_path2='Assignment_Data/D2/IMAGES/'\n",
        "labels_path2='Assignment_Data/D2/TEXT_LABELS/'"
      ],
      "metadata": {
        "id": "DJVpixv5TWzp"
      },
      "execution_count": 40,
      "outputs": []
    },
    {
      "cell_type": "code",
      "source": [
        "for filename in sorted(os.listdir(labels_path)):\n",
        "  full_path=os.path.join(labels_path,filename)\n",
        "  os.rename(full_path,full_path[:-3]+'txt')"
      ],
      "metadata": {
        "id": "lTXbFA3vVPvy"
      },
      "execution_count": 41,
      "outputs": []
    },
    {
      "cell_type": "code",
      "source": [
        "# load vgg16 model\n",
        "model_1 = VGG16()\n",
        "# restructure the model\n",
        "model_1 = Model(inputs=model_1.inputs, outputs=model_1.layers[-2].output)\n",
        "# summarize\n",
        "print(model_1.summary())"
      ],
      "metadata": {
        "colab": {
          "base_uri": "https://localhost:8080/"
        },
        "id": "NUbtj4n3VvFr",
        "outputId": "e197d29e-17d6-4b7a-8560-a2d7b1326217"
      },
      "execution_count": 47,
      "outputs": [
        {
          "output_type": "stream",
          "name": "stdout",
          "text": [
            "Model: \"model_4\"\n",
            "_________________________________________________________________\n",
            " Layer (type)                Output Shape              Param #   \n",
            "=================================================================\n",
            " input_6 (InputLayer)        [(None, 224, 224, 3)]     0         \n",
            "                                                                 \n",
            " block1_conv1 (Conv2D)       (None, 224, 224, 64)      1792      \n",
            "                                                                 \n",
            " block1_conv2 (Conv2D)       (None, 224, 224, 64)      36928     \n",
            "                                                                 \n",
            " block1_pool (MaxPooling2D)  (None, 112, 112, 64)      0         \n",
            "                                                                 \n",
            " block2_conv1 (Conv2D)       (None, 112, 112, 128)     73856     \n",
            "                                                                 \n",
            " block2_conv2 (Conv2D)       (None, 112, 112, 128)     147584    \n",
            "                                                                 \n",
            " block2_pool (MaxPooling2D)  (None, 56, 56, 128)       0         \n",
            "                                                                 \n",
            " block3_conv1 (Conv2D)       (None, 56, 56, 256)       295168    \n",
            "                                                                 \n",
            " block3_conv2 (Conv2D)       (None, 56, 56, 256)       590080    \n",
            "                                                                 \n",
            " block3_conv3 (Conv2D)       (None, 56, 56, 256)       590080    \n",
            "                                                                 \n",
            " block3_pool (MaxPooling2D)  (None, 28, 28, 256)       0         \n",
            "                                                                 \n",
            " block4_conv1 (Conv2D)       (None, 28, 28, 512)       1180160   \n",
            "                                                                 \n",
            " block4_conv2 (Conv2D)       (None, 28, 28, 512)       2359808   \n",
            "                                                                 \n",
            " block4_conv3 (Conv2D)       (None, 28, 28, 512)       2359808   \n",
            "                                                                 \n",
            " block4_pool (MaxPooling2D)  (None, 14, 14, 512)       0         \n",
            "                                                                 \n",
            " block5_conv1 (Conv2D)       (None, 14, 14, 512)       2359808   \n",
            "                                                                 \n",
            " block5_conv2 (Conv2D)       (None, 14, 14, 512)       2359808   \n",
            "                                                                 \n",
            " block5_conv3 (Conv2D)       (None, 14, 14, 512)       2359808   \n",
            "                                                                 \n",
            " block5_pool (MaxPooling2D)  (None, 7, 7, 512)         0         \n",
            "                                                                 \n",
            " flatten (Flatten)           (None, 25088)             0         \n",
            "                                                                 \n",
            " fc1 (Dense)                 (None, 4096)              102764544 \n",
            "                                                                 \n",
            " fc2 (Dense)                 (None, 4096)              16781312  \n",
            "                                                                 \n",
            "=================================================================\n",
            "Total params: 134,260,544\n",
            "Trainable params: 134,260,544\n",
            "Non-trainable params: 0\n",
            "_________________________________________________________________\n",
            "None\n"
          ]
        }
      ]
    },
    {
      "cell_type": "code",
      "source": [
        "# extract features from image\n",
        "features2 = {}\n",
        "# directory = os.path.join(BASE_DIR, 'Images')\n",
        "directory=imgs_path2\n",
        "\n",
        "for img_name in tqdm(os.listdir(directory)):\n",
        "    # load the image from file\n",
        "    img_path = directory + '/' + img_name\n",
        "    image = load_img(img_path, target_size=(224, 224))\n",
        "    # convert image pixels to numpy array\n",
        "    image = img_to_array(image)\n",
        "    # reshape data for model\n",
        "    image = image.reshape((1, image.shape[0], image.shape[1], image.shape[2]))\n",
        "    # preprocess image for vgg\n",
        "    image = preprocess_input(image)\n",
        "    # extract features\n",
        "    feature = model_1.predict(image, verbose=0)\n",
        "    # get image ID\n",
        "    image_id = img_name.split('.')[0]\n",
        "    # store feature\n",
        "    features2[image_id] = feature"
      ],
      "metadata": {
        "colab": {
          "base_uri": "https://localhost:8080/",
          "height": 49,
          "referenced_widgets": [
            "7be5595971264a3e8bfff449287ce2f2",
            "e0214fadb6164bab8dd3e18ceee5fa6b",
            "739b6ad700284e549f958f9fbb09f698",
            "e3138d3bae4740b08b3704df5ff6fd61",
            "0aa168a1d4b044b0935d14f16d7c0ae8",
            "2546a8412633460e8c28669dd7cacd34",
            "9868649b771d416d81d273fae9c7c311",
            "b1920334feb84a0d8ee391a762e86e6c",
            "4e9b576e2b3e4050be9bf16c326dd90b",
            "969a2d59ae9b4c6a86d5d08cd63c69c4",
            "9356530c72cb4dca92605c76f8539a4f"
          ]
        },
        "id": "nQG6gjtRVa5W",
        "outputId": "c9f9ceca-4d55-4830-f06d-d16effc31ec1"
      },
      "execution_count": 52,
      "outputs": [
        {
          "output_type": "display_data",
          "data": {
            "text/plain": [
              "  0%|          | 0/300 [00:00<?, ?it/s]"
            ],
            "application/vnd.jupyter.widget-view+json": {
              "version_major": 2,
              "version_minor": 0,
              "model_id": "7be5595971264a3e8bfff449287ce2f2"
            }
          },
          "metadata": {}
        }
      ]
    },
    {
      "cell_type": "code",
      "source": [
        "captions_doc2=[]\n",
        "for file in os.listdir(labels_path2):\n",
        "\n",
        "\n",
        "    with open(os.path.join(labels_path2,file), 'r') as f:\n",
        "      # next(f)\n",
        "      captions_doc2.append(f.read())\n",
        "print(captions_doc2)"
      ],
      "metadata": {
        "colab": {
          "base_uri": "https://localhost:8080/"
        },
        "id": "SZIuY2Y_VraR",
        "outputId": "d3b468ac-c655-4e05-c6b2-6765022d44df"
      },
      "execution_count": 49,
      "outputs": [
        {
          "output_type": "stream",
          "name": "stdout",
          "text": [
            "['header {\\nsearch-bar, cart-link, burger-link\\n}\\nsidebar {\\nck-box, slider, icons\\n}\\ncanvas-header {\\nbtn-active\\n}\\nrow {\\nquadruple {\\nsmall-title, text, btn-red\\n}\\nquadruple {\\nsmall-title, text, btn-orange\\n}\\nquadruple {\\nsmall-title, text, btn-red\\n}\\nquadruple {\\nsmall-title, text, btn-orange\\n}\\n}\\nrow {\\ndouble {\\nsmall-title, text, btn-orange\\n}\\ndouble {\\nsmall-title, text, btn-red\\n}\\n}\\nrow {\\nsingle {\\nsmall-title, text, btn-orange\\n}\\n}\\n', 'header {\\npage-title, cart-link, burger-link\\n}\\nsidebar {\\nck-box, dropdn\\n}\\ncanvas-header {\\n}\\n', 'header {\\nsearch-bar, cart-link, burger-link\\n}\\nsidebar {\\nmedium-title, ck-box, radio, dropdn, slider, rating\\n}\\ncanvas-header {\\nbtn-inactive, btn-inactive, btn-inactive, btn-inactive, btn-active\\n}\\nrow {\\nquadruple {\\nsmall-title, text, btn-green\\n}\\nquadruple {\\nsmall-title, text, btn-green\\n}\\nquadruple {\\nsmall-title, text, btn-orange\\n}\\nquadruple {\\nsmall-title, text, btn-green\\n}\\n}\\n', 'header {\\npage-title, search-bar\\n}\\nsidebar {\\nmedium-title, icons\\n}\\ncanvas-header {\\n}\\nrow {\\nsingle {\\nsmall-title, text, btn-red\\n}\\n}\\n', 'header {\\nsearch-bar, cart-link, burger-link\\n}\\nsidebar {\\nmedium-title, radio, dropdn, slider, rating\\n}\\ncanvas-header {\\nbtn-active, btn-inactive, btn-inactive, btn-inactive, btn-inactive\\n}\\nrow {\\nsingle {\\nsmall-title, text, btn-green\\n}\\n}\\n', 'header {\\npage-title, cart-link\\n}\\nsidebar {\\nck-box, dropdn, slider, icons\\n}\\ncanvas-header {\\nbtn-inactive, btn-active, btn-inactive\\n}\\nrow {\\nsingle {\\nsmall-title, text, btn-red\\n}\\n}\\n', 'header {\\nsearch-bar\\n}\\nsidebar {\\nck-box, radio, rating, icons\\n}\\ncanvas-header {\\nbtn-active\\n}\\nrow {\\nquadruple {\\nsmall-title, text, btn-red\\n}\\nquadruple {\\nsmall-title, text, btn-orange\\n}\\nquadruple {\\nsmall-title, text, btn-orange\\n}\\nquadruple {\\nsmall-title, text, btn-green\\n}\\n}\\nrow {\\ndouble {\\nsmall-title, text, btn-red\\n}\\ndouble {\\nsmall-title, text, btn-green\\n}\\n}\\nrow {\\nsingle {\\nsmall-title, text, btn-red\\n}\\n}\\n', 'header {\\nsearch-bar, cart-link\\n}\\nsidebar {\\nmedium-title, dropdn, slider, rating\\n}\\ncanvas-header {\\nbtn-active, btn-inactive, btn-inactive, btn-inactive\\n}\\n', 'header {\\npage-title, burger-link\\n}\\nsidebar {\\nmedium-title, dropdn, slider\\n}\\ncanvas-header {\\nbtn-active, btn-inactive, btn-inactive, btn-inactive, btn-inactive\\n}\\nrow {\\nquadruple {\\nsmall-title, text, btn-orange\\n}\\nquadruple {\\nsmall-title, text, btn-red\\n}\\nquadruple {\\nsmall-title, text, btn-green\\n}\\nquadruple {\\nsmall-title, text, btn-green\\n}\\n}\\nrow {\\ndouble {\\nsmall-title, text, btn-red\\n}\\ndouble {\\nsmall-title, text, btn-orange\\n}\\n}\\n', 'header {\\npage-title, search-bar\\n}\\nsidebar {\\nslider\\n}\\ncanvas-header {\\nbtn-active, btn-inactive, btn-inactive, btn-inactive\\n}\\nrow {\\nquadruple {\\nsmall-title, text, btn-red\\n}\\nquadruple {\\nsmall-title, text, btn-red\\n}\\nquadruple {\\nsmall-title, text, btn-red\\n}\\nquadruple {\\nsmall-title, text, btn-green\\n}\\n}\\nrow {\\nsingle {\\nsmall-title, text, btn-green\\n}\\n}\\n', 'header {\\npage-title, search-bar, burger-link\\n}\\nsidebar {\\nmedium-title, ck-box, radio, dropdn, icons\\n}\\ncanvas-header {\\nbtn-active\\n}\\nrow {\\nsingle {\\nsmall-title, text, btn-orange\\n}\\n}\\n', 'header {\\nburger-link\\n}\\nsidebar {\\ndropdn, slider, rating, icons\\n}\\ncanvas-header {\\n}\\nrow {\\ndouble {\\nsmall-title, text, btn-orange\\n}\\ndouble {\\nsmall-title, text, btn-green\\n}\\n}\\n', 'header {\\npage-title, burger-link\\n}\\nsidebar {\\nmedium-title, ck-box, radio, dropdn, slider, rating, icons\\n}\\ncanvas-header {\\nbtn-inactive, btn-inactive, btn-active, btn-inactive, btn-inactive\\n}\\nrow {\\nquadruple {\\nsmall-title, text, btn-green\\n}\\nquadruple {\\nsmall-title, text, btn-red\\n}\\nquadruple {\\nsmall-title, text, btn-orange\\n}\\nquadruple {\\nsmall-title, text, btn-orange\\n}\\n}\\n', 'header {\\npage-title, search-bar, burger-link\\n}\\nsidebar {\\nmedium-title, slider, rating\\n}\\ncanvas-header {\\nbtn-inactive, btn-inactive, btn-active, btn-inactive, btn-inactive\\n}\\nrow {\\nquadruple {\\nsmall-title, text, btn-red\\n}\\nquadruple {\\nsmall-title, text, btn-orange\\n}\\nquadruple {\\nsmall-title, text, btn-red\\n}\\nquadruple {\\nsmall-title, text, btn-red\\n}\\n}\\nrow {\\ndouble {\\nsmall-title, text, btn-green\\n}\\ndouble {\\nsmall-title, text, btn-red\\n}\\n}\\nrow {\\nsingle {\\nsmall-title, text, btn-green\\n}\\n}\\n', 'header {\\ncart-link\\n}\\nsidebar {\\nradio, dropdn, slider, rating\\n}\\ncanvas-header {\\nbtn-active, btn-inactive, btn-inactive\\n}\\nrow {\\nquadruple {\\nsmall-title, text, btn-orange\\n}\\nquadruple {\\nsmall-title, text, btn-red\\n}\\nquadruple {\\nsmall-title, text, btn-red\\n}\\nquadruple {\\nsmall-title, text, btn-green\\n}\\n}\\n', 'header {\\npage-title, search-bar, cart-link\\n}\\nsidebar {\\nradio, dropdn, slider, icons\\n}\\ncanvas-header {\\nbtn-active\\n}\\nrow {\\ndouble {\\nsmall-title, text, btn-orange\\n}\\ndouble {\\nsmall-title, text, btn-red\\n}\\n}\\nrow {\\nsingle {\\nsmall-title, text, btn-red\\n}\\n}\\n', 'header {\\npage-title, search-bar, cart-link\\n}\\nsidebar {\\nmedium-title, radio, rating, icons\\n}\\ncanvas-header {\\nbtn-active, btn-inactive, btn-inactive\\n}\\nrow {\\nquadruple {\\nsmall-title, text, btn-green\\n}\\nquadruple {\\nsmall-title, text, btn-green\\n}\\nquadruple {\\nsmall-title, text, btn-red\\n}\\nquadruple {\\nsmall-title, text, btn-orange\\n}\\n}\\n', 'header {\\npage-title, cart-link\\n}\\nsidebar {\\nmedium-title, dropdn, rating\\n}\\ncanvas-header {\\nbtn-active, btn-inactive, btn-inactive, btn-inactive, btn-inactive\\n}\\nrow {\\nquadruple {\\nsmall-title, text, btn-orange\\n}\\nquadruple {\\nsmall-title, text, btn-red\\n}\\nquadruple {\\nsmall-title, text, btn-red\\n}\\nquadruple {\\nsmall-title, text, btn-green\\n}\\n}\\nrow {\\ndouble {\\nsmall-title, text, btn-green\\n}\\ndouble {\\nsmall-title, text, btn-red\\n}\\n}\\nrow {\\nsingle {\\nsmall-title, text, btn-green\\n}\\n}\\n', 'header {\\npage-title, search-bar, cart-link, burger-link\\n}\\nsidebar {\\nmedium-title, ck-box, dropdn, slider\\n}\\ncanvas-header {\\nbtn-inactive, btn-inactive, btn-inactive, btn-inactive, btn-active\\n}\\nrow {\\nquadruple {\\nsmall-title, text, btn-green\\n}\\nquadruple {\\nsmall-title, text, btn-orange\\n}\\nquadruple {\\nsmall-title, text, btn-orange\\n}\\nquadruple {\\nsmall-title, text, btn-green\\n}\\n}\\n', 'header {\\nsearch-bar, burger-link\\n}\\nsidebar {\\nmedium-title, icons\\n}\\ncanvas-header {\\nbtn-active, btn-inactive, btn-inactive, btn-inactive\\n}\\nrow {\\nquadruple {\\nsmall-title, text, btn-orange\\n}\\nquadruple {\\nsmall-title, text, btn-green\\n}\\nquadruple {\\nsmall-title, text, btn-orange\\n}\\nquadruple {\\nsmall-title, text, btn-red\\n}\\n}\\nrow {\\ndouble {\\nsmall-title, text, btn-orange\\n}\\ndouble {\\nsmall-title, text, btn-orange\\n}\\n}\\nrow {\\nsingle {\\nsmall-title, text, btn-red\\n}\\n}\\n', 'header {\\npage-title, search-bar\\n}\\nsidebar {\\nck-box, dropdn, rating\\n}\\ncanvas-header {\\n}\\nrow {\\nquadruple {\\nsmall-title, text, btn-green\\n}\\nquadruple {\\nsmall-title, text, btn-orange\\n}\\nquadruple {\\nsmall-title, text, btn-green\\n}\\nquadruple {\\nsmall-title, text, btn-red\\n}\\n}\\n', 'header {\\npage-title, search-bar\\n}\\nsidebar {\\nmedium-title, radio, dropdn, icons\\n}\\ncanvas-header {\\nbtn-inactive, btn-inactive, btn-active, btn-inactive\\n}\\nrow {\\nsingle {\\nsmall-title, text, btn-green\\n}\\n}\\n', 'header {\\nsearch-bar\\n}\\nsidebar {\\nck-box, radio, dropdn, icons\\n}\\ncanvas-header {\\nbtn-inactive, btn-active, btn-inactive\\n}\\nrow {\\ndouble {\\nsmall-title, text, btn-red\\n}\\ndouble {\\nsmall-title, text, btn-red\\n}\\n}\\n', 'header {\\npage-title, search-bar\\n}\\nsidebar {\\nmedium-title, ck-box, radio, icons\\n}\\ncanvas-header {\\nbtn-inactive, btn-inactive, btn-active\\n}\\nrow {\\nquadruple {\\nsmall-title, text, btn-orange\\n}\\nquadruple {\\nsmall-title, text, btn-red\\n}\\nquadruple {\\nsmall-title, text, btn-red\\n}\\nquadruple {\\nsmall-title, text, btn-green\\n}\\n}\\nrow {\\ndouble {\\nsmall-title, text, btn-orange\\n}\\ndouble {\\nsmall-title, text, btn-red\\n}\\n}\\n', 'header {\\ncart-link, burger-link\\n}\\nsidebar {\\nck-box, radio\\n}\\ncanvas-header {\\nbtn-inactive, btn-inactive, btn-active, btn-inactive\\n}\\nrow {\\nsingle {\\nsmall-title, text, btn-red\\n}\\n}\\n', 'header {\\npage-title, cart-link\\n}\\nsidebar {\\ndropdn, slider, rating, icons\\n}\\ncanvas-header {\\nbtn-active, btn-inactive, btn-inactive, btn-inactive, btn-inactive\\n}\\nrow {\\ndouble {\\nsmall-title, text, btn-red\\n}\\ndouble {\\nsmall-title, text, btn-red\\n}\\n}\\n', 'header {\\npage-title, search-bar\\n}\\nsidebar {\\nck-box, radio, dropdn, icons\\n}\\ncanvas-header {\\nbtn-inactive, btn-active, btn-inactive, btn-inactive\\n}\\nrow {\\nquadruple {\\nsmall-title, text, btn-green\\n}\\nquadruple {\\nsmall-title, text, btn-green\\n}\\nquadruple {\\nsmall-title, text, btn-orange\\n}\\nquadruple {\\nsmall-title, text, btn-red\\n}\\n}\\n', 'header {\\ncart-link\\n}\\nsidebar {\\nmedium-title, ck-box, dropdn, rating\\n}\\ncanvas-header {\\nbtn-inactive, btn-active, btn-inactive\\n}\\nrow {\\nsingle {\\nsmall-title, text, btn-green\\n}\\n}\\n', 'header {\\npage-title, cart-link\\n}\\nsidebar {\\nmedium-title, radio, slider\\n}\\ncanvas-header {\\nbtn-active\\n}\\nrow {\\nquadruple {\\nsmall-title, text, btn-orange\\n}\\nquadruple {\\nsmall-title, text, btn-green\\n}\\nquadruple {\\nsmall-title, text, btn-green\\n}\\nquadruple {\\nsmall-title, text, btn-red\\n}\\n}\\n', 'header {\\npage-title, search-bar, cart-link\\n}\\nsidebar {\\nmedium-title, dropdn, rating\\n}\\ncanvas-header {\\nbtn-active, btn-inactive, btn-inactive, btn-inactive\\n}\\nrow {\\nquadruple {\\nsmall-title, text, btn-orange\\n}\\nquadruple {\\nsmall-title, text, btn-orange\\n}\\nquadruple {\\nsmall-title, text, btn-red\\n}\\nquadruple {\\nsmall-title, text, btn-orange\\n}\\n}\\nrow {\\nsingle {\\nsmall-title, text, btn-green\\n}\\n}\\n', 'header {\\npage-title, search-bar, cart-link\\n}\\nsidebar {\\nslider, icons\\n}\\ncanvas-header {\\nbtn-inactive, btn-active\\n}\\n', 'header {\\npage-title, search-bar\\n}\\nsidebar {\\nmedium-title, radio, dropdn, slider, rating\\n}\\ncanvas-header {\\nbtn-inactive, btn-active\\n}\\nrow {\\nquadruple {\\nsmall-title, text, btn-red\\n}\\nquadruple {\\nsmall-title, text, btn-green\\n}\\nquadruple {\\nsmall-title, text, btn-red\\n}\\nquadruple {\\nsmall-title, text, btn-orange\\n}\\n}\\n', 'header {\\npage-title, search-bar, burger-link\\n}\\nsidebar {\\nmedium-title, ck-box, radio, icons\\n}\\ncanvas-header {\\nbtn-inactive, btn-inactive, btn-active, btn-inactive\\n}\\nrow {\\nquadruple {\\nsmall-title, text, btn-red\\n}\\nquadruple {\\nsmall-title, text, btn-orange\\n}\\nquadruple {\\nsmall-title, text, btn-green\\n}\\nquadruple {\\nsmall-title, text, btn-red\\n}\\n}\\nrow {\\ndouble {\\nsmall-title, text, btn-green\\n}\\ndouble {\\nsmall-title, text, btn-red\\n}\\n}\\nrow {\\nsingle {\\nsmall-title, text, btn-orange\\n}\\n}\\n', 'header {\\nburger-link\\n}\\nsidebar {\\nck-box, dropdn, slider, rating\\n}\\ncanvas-header {\\nbtn-inactive, btn-inactive, btn-inactive, btn-inactive, btn-active\\n}\\nrow {\\nsingle {\\nsmall-title, text, btn-red\\n}\\n}\\n', 'header {\\npage-title, burger-link\\n}\\nsidebar {\\nmedium-title, dropdn, icons\\n}\\ncanvas-header {\\nbtn-inactive, btn-active, btn-inactive, btn-inactive\\n}\\nrow {\\ndouble {\\nsmall-title, text, btn-orange\\n}\\ndouble {\\nsmall-title, text, btn-red\\n}\\n}\\n', 'header {\\ncart-link\\n}\\nsidebar {\\nmedium-title, radio, dropdn\\n}\\ncanvas-header {\\nbtn-inactive, btn-inactive, btn-inactive, btn-active\\n}\\nrow {\\nsingle {\\nsmall-title, text, btn-orange\\n}\\n}\\n', 'header {\\nsearch-bar\\n}\\nsidebar {\\nmedium-title, ck-box, radio, rating, icons\\n}\\ncanvas-header {\\nbtn-inactive, btn-inactive, btn-inactive, btn-active\\n}\\nrow {\\nquadruple {\\nsmall-title, text, btn-orange\\n}\\nquadruple {\\nsmall-title, text, btn-orange\\n}\\nquadruple {\\nsmall-title, text, btn-orange\\n}\\nquadruple {\\nsmall-title, text, btn-red\\n}\\n}\\nrow {\\ndouble {\\nsmall-title, text, btn-red\\n}\\ndouble {\\nsmall-title, text, btn-orange\\n}\\n}\\n', 'header {\\ncart-link\\n}\\nsidebar {\\nmedium-title, ck-box, radio, icons\\n}\\ncanvas-header {\\nbtn-inactive, btn-inactive, btn-inactive, btn-active\\n}\\nrow {\\nsingle {\\nsmall-title, text, btn-red\\n}\\n}\\n', 'header {\\ncart-link\\n}\\nsidebar {\\nmedium-title, ck-box, radio, slider, rating\\n}\\ncanvas-header {\\nbtn-inactive, btn-active\\n}\\n', 'header {\\nsearch-bar\\n}\\nsidebar {\\nck-box, slider\\n}\\ncanvas-header {\\nbtn-inactive, btn-inactive, btn-inactive, btn-active\\n}\\nrow {\\nquadruple {\\nsmall-title, text, btn-red\\n}\\nquadruple {\\nsmall-title, text, btn-green\\n}\\nquadruple {\\nsmall-title, text, btn-red\\n}\\nquadruple {\\nsmall-title, text, btn-red\\n}\\n}\\n', 'header {\\nsearch-bar\\n}\\nsidebar {\\nmedium-title, ck-box, radio, slider, icons\\n}\\ncanvas-header {\\nbtn-inactive, btn-active, btn-inactive\\n}\\nrow {\\nquadruple {\\nsmall-title, text, btn-red\\n}\\nquadruple {\\nsmall-title, text, btn-red\\n}\\nquadruple {\\nsmall-title, text, btn-green\\n}\\nquadruple {\\nsmall-title, text, btn-green\\n}\\n}\\nrow {\\ndouble {\\nsmall-title, text, btn-green\\n}\\ndouble {\\nsmall-title, text, btn-red\\n}\\n}\\nrow {\\nsingle {\\nsmall-title, text, btn-green\\n}\\n}\\n', 'header {\\ncart-link\\n}\\nsidebar {\\nmedium-title, radio, icons\\n}\\ncanvas-header {\\nbtn-active, btn-inactive, btn-inactive\\n}\\nrow {\\ndouble {\\nsmall-title, text, btn-green\\n}\\ndouble {\\nsmall-title, text, btn-green\\n}\\n}\\nrow {\\nsingle {\\nsmall-title, text, btn-red\\n}\\n}\\n', 'header {\\npage-title, search-bar\\n}\\nsidebar {\\nmedium-title, radio, rating\\n}\\ncanvas-header {\\nbtn-inactive, btn-inactive, btn-inactive, btn-active\\n}\\nrow {\\ndouble {\\nsmall-title, text, btn-green\\n}\\ndouble {\\nsmall-title, text, btn-green\\n}\\n}\\nrow {\\nsingle {\\nsmall-title, text, btn-orange\\n}\\n}\\n', 'header {\\npage-title, search-bar, burger-link\\n}\\nsidebar {\\nradio, slider, icons\\n}\\ncanvas-header {\\nbtn-active, btn-inactive, btn-inactive\\n}\\nrow {\\nquadruple {\\nsmall-title, text, btn-orange\\n}\\nquadruple {\\nsmall-title, text, btn-green\\n}\\nquadruple {\\nsmall-title, text, btn-green\\n}\\nquadruple {\\nsmall-title, text, btn-red\\n}\\n}\\nrow {\\nsingle {\\nsmall-title, text, btn-orange\\n}\\n}\\n', 'header {\\nsearch-bar, burger-link\\n}\\nsidebar {\\nck-box, dropdn, icons\\n}\\ncanvas-header {\\nbtn-inactive, btn-inactive, btn-active\\n}\\nrow {\\nsingle {\\nsmall-title, text, btn-green\\n}\\n}\\n', 'header {\\nsearch-bar, cart-link\\n}\\nsidebar {\\nck-box, radio, dropdn, slider, rating, icons\\n}\\ncanvas-header {\\n}\\nrow {\\nquadruple {\\nsmall-title, text, btn-green\\n}\\nquadruple {\\nsmall-title, text, btn-red\\n}\\nquadruple {\\nsmall-title, text, btn-orange\\n}\\nquadruple {\\nsmall-title, text, btn-orange\\n}\\n}\\nrow {\\nsingle {\\nsmall-title, text, btn-orange\\n}\\n}\\n', 'header {\\npage-title, search-bar, cart-link\\n}\\nsidebar {\\nmedium-title, radio, dropdn, slider, rating\\n}\\ncanvas-header {\\nbtn-inactive, btn-inactive, btn-active, btn-inactive, btn-inactive\\n}\\nrow {\\ndouble {\\nsmall-title, text, btn-green\\n}\\ndouble {\\nsmall-title, text, btn-orange\\n}\\n}\\n', 'header {\\nsearch-bar, cart-link\\n}\\nsidebar {\\nmedium-title, slider, rating, icons\\n}\\ncanvas-header {\\nbtn-inactive, btn-inactive, btn-active\\n}\\nrow {\\ndouble {\\nsmall-title, text, btn-green\\n}\\ndouble {\\nsmall-title, text, btn-orange\\n}\\n}\\nrow {\\nsingle {\\nsmall-title, text, btn-red\\n}\\n}\\n', 'header {\\npage-title\\n}\\nsidebar {\\nmedium-title, ck-box, dropdn, rating, icons\\n}\\ncanvas-header {\\nbtn-inactive, btn-inactive, btn-inactive, btn-active, btn-inactive\\n}\\nrow {\\nsingle {\\nsmall-title, text, btn-green\\n}\\n}\\n', 'header {\\ncart-link\\n}\\nsidebar {\\nradio, rating\\n}\\ncanvas-header {\\nbtn-inactive, btn-inactive, btn-active, btn-inactive, btn-inactive\\n}\\nrow {\\ndouble {\\nsmall-title, text, btn-orange\\n}\\ndouble {\\nsmall-title, text, btn-red\\n}\\n}\\nrow {\\nsingle {\\nsmall-title, text, btn-red\\n}\\n}\\n', 'header {\\npage-title, cart-link, burger-link\\n}\\nsidebar {\\nmedium-title, ck-box, radio\\n}\\ncanvas-header {\\nbtn-inactive, btn-active, btn-inactive, btn-inactive, btn-inactive\\n}\\nrow {\\ndouble {\\nsmall-title, text, btn-green\\n}\\ndouble {\\nsmall-title, text, btn-orange\\n}\\n}\\n', 'header {\\npage-title, search-bar, burger-link\\n}\\nsidebar {\\nradio, dropdn, rating, icons\\n}\\ncanvas-header {\\n}\\n', 'header {\\ncart-link, burger-link\\n}\\nsidebar {\\nradio, icons\\n}\\ncanvas-header {\\nbtn-inactive, btn-inactive, btn-inactive, btn-inactive, btn-active\\n}\\nrow {\\nquadruple {\\nsmall-title, text, btn-red\\n}\\nquadruple {\\nsmall-title, text, btn-orange\\n}\\nquadruple {\\nsmall-title, text, btn-red\\n}\\nquadruple {\\nsmall-title, text, btn-orange\\n}\\n}\\nrow {\\nsingle {\\nsmall-title, text, btn-orange\\n}\\n}\\n', 'header {\\npage-title, burger-link\\n}\\nsidebar {\\nck-box, dropdn, slider\\n}\\ncanvas-header {\\nbtn-inactive, btn-active\\n}\\nrow {\\nquadruple {\\nsmall-title, text, btn-red\\n}\\nquadruple {\\nsmall-title, text, btn-red\\n}\\nquadruple {\\nsmall-title, text, btn-orange\\n}\\nquadruple {\\nsmall-title, text, btn-red\\n}\\n}\\nrow {\\ndouble {\\nsmall-title, text, btn-red\\n}\\ndouble {\\nsmall-title, text, btn-red\\n}\\n}\\n', 'header {\\nsearch-bar, cart-link\\n}\\nsidebar {\\nmedium-title, radio, dropdn, rating\\n}\\ncanvas-header {\\nbtn-active\\n}\\n', 'header {\\nsearch-bar, burger-link\\n}\\nsidebar {\\nmedium-title, rating\\n}\\ncanvas-header {\\nbtn-inactive, btn-inactive, btn-active, btn-inactive, btn-inactive\\n}\\nrow {\\ndouble {\\nsmall-title, text, btn-orange\\n}\\ndouble {\\nsmall-title, text, btn-orange\\n}\\n}\\n', 'header {\\nsearch-bar\\n}\\nsidebar {\\nmedium-title, ck-box, radio, dropdn, slider, rating\\n}\\ncanvas-header {\\n}\\nrow {\\nquadruple {\\nsmall-title, text, btn-green\\n}\\nquadruple {\\nsmall-title, text, btn-orange\\n}\\nquadruple {\\nsmall-title, text, btn-green\\n}\\nquadruple {\\nsmall-title, text, btn-orange\\n}\\n}\\nrow {\\ndouble {\\nsmall-title, text, btn-orange\\n}\\ndouble {\\nsmall-title, text, btn-green\\n}\\n}\\n', 'header {\\nsearch-bar, cart-link\\n}\\nsidebar {\\nck-box, dropdn, icons\\n}\\ncanvas-header {\\nbtn-active\\n}\\nrow {\\ndouble {\\nsmall-title, text, btn-red\\n}\\ndouble {\\nsmall-title, text, btn-red\\n}\\n}\\n', 'header {\\npage-title, search-bar\\n}\\nsidebar {\\nmedium-title, radio\\n}\\ncanvas-header {\\nbtn-inactive, btn-inactive, btn-active, btn-inactive, btn-inactive\\n}\\nrow {\\nquadruple {\\nsmall-title, text, btn-orange\\n}\\nquadruple {\\nsmall-title, text, btn-green\\n}\\nquadruple {\\nsmall-title, text, btn-orange\\n}\\nquadruple {\\nsmall-title, text, btn-green\\n}\\n}\\nrow {\\nsingle {\\nsmall-title, text, btn-red\\n}\\n}\\n', 'header {\\npage-title, cart-link\\n}\\nsidebar {\\nmedium-title, ck-box, radio, rating\\n}\\ncanvas-header {\\nbtn-inactive, btn-inactive, btn-inactive, btn-active, btn-inactive\\n}\\n', 'header {\\nsearch-bar, cart-link, burger-link\\n}\\nsidebar {\\nck-box, radio, slider, rating\\n}\\ncanvas-header {\\nbtn-inactive, btn-active, btn-inactive, btn-inactive, btn-inactive\\n}\\nrow {\\nsingle {\\nsmall-title, text, btn-green\\n}\\n}\\n', 'header {\\nsearch-bar, cart-link\\n}\\nsidebar {\\nradio, dropdn, icons\\n}\\ncanvas-header {\\nbtn-inactive, btn-active\\n}\\nrow {\\nquadruple {\\nsmall-title, text, btn-orange\\n}\\nquadruple {\\nsmall-title, text, btn-red\\n}\\nquadruple {\\nsmall-title, text, btn-orange\\n}\\nquadruple {\\nsmall-title, text, btn-red\\n}\\n}\\n', 'header {\\nsearch-bar, cart-link, burger-link\\n}\\nsidebar {\\nmedium-title, radio, dropdn\\n}\\ncanvas-header {\\nbtn-inactive, btn-active\\n}\\nrow {\\nquadruple {\\nsmall-title, text, btn-green\\n}\\nquadruple {\\nsmall-title, text, btn-green\\n}\\nquadruple {\\nsmall-title, text, btn-green\\n}\\nquadruple {\\nsmall-title, text, btn-red\\n}\\n}\\nrow {\\nsingle {\\nsmall-title, text, btn-red\\n}\\n}\\n', 'header {\\npage-title, cart-link\\n}\\nsidebar {\\nmedium-title, radio, dropdn, slider, rating, icons\\n}\\ncanvas-header {\\nbtn-inactive, btn-active, btn-inactive\\n}\\nrow {\\ndouble {\\nsmall-title, text, btn-orange\\n}\\ndouble {\\nsmall-title, text, btn-orange\\n}\\n}\\nrow {\\nsingle {\\nsmall-title, text, btn-red\\n}\\n}\\n', 'header {\\ncart-link, burger-link\\n}\\nsidebar {\\nck-box, radio, rating, icons\\n}\\ncanvas-header {\\nbtn-inactive, btn-active, btn-inactive, btn-inactive, btn-inactive\\n}\\nrow {\\nquadruple {\\nsmall-title, text, btn-red\\n}\\nquadruple {\\nsmall-title, text, btn-red\\n}\\nquadruple {\\nsmall-title, text, btn-green\\n}\\nquadruple {\\nsmall-title, text, btn-orange\\n}\\n}\\nrow {\\nsingle {\\nsmall-title, text, btn-red\\n}\\n}\\n', 'header {\\npage-title, search-bar, cart-link, burger-link\\n}\\nsidebar {\\nck-box, radio, dropdn, slider, icons\\n}\\ncanvas-header {\\nbtn-inactive, btn-inactive, btn-active\\n}\\nrow {\\nquadruple {\\nsmall-title, text, btn-red\\n}\\nquadruple {\\nsmall-title, text, btn-red\\n}\\nquadruple {\\nsmall-title, text, btn-green\\n}\\nquadruple {\\nsmall-title, text, btn-orange\\n}\\n}\\nrow {\\ndouble {\\nsmall-title, text, btn-green\\n}\\ndouble {\\nsmall-title, text, btn-red\\n}\\n}\\n', 'header {\\nburger-link\\n}\\nsidebar {\\nmedium-title, ck-box, dropdn, rating, icons\\n}\\ncanvas-header {\\n}\\nrow {\\nquadruple {\\nsmall-title, text, btn-red\\n}\\nquadruple {\\nsmall-title, text, btn-orange\\n}\\nquadruple {\\nsmall-title, text, btn-red\\n}\\nquadruple {\\nsmall-title, text, btn-red\\n}\\n}\\nrow {\\ndouble {\\nsmall-title, text, btn-orange\\n}\\ndouble {\\nsmall-title, text, btn-orange\\n}\\n}\\nrow {\\nsingle {\\nsmall-title, text, btn-red\\n}\\n}\\n', 'header {\\nsearch-bar\\n}\\nsidebar {\\nmedium-title, ck-box, slider, icons\\n}\\ncanvas-header {\\nbtn-inactive, btn-active, btn-inactive\\n}\\nrow {\\nquadruple {\\nsmall-title, text, btn-orange\\n}\\nquadruple {\\nsmall-title, text, btn-orange\\n}\\nquadruple {\\nsmall-title, text, btn-orange\\n}\\nquadruple {\\nsmall-title, text, btn-green\\n}\\n}\\n', 'header {\\nsearch-bar, burger-link\\n}\\nsidebar {\\nradio, dropdn, rating\\n}\\ncanvas-header {\\nbtn-active, btn-inactive, btn-inactive\\n}\\n', 'header {\\npage-title, search-bar\\n}\\nsidebar {\\nrating\\n}\\ncanvas-header {\\nbtn-inactive, btn-active\\n}\\nrow {\\nquadruple {\\nsmall-title, text, btn-green\\n}\\nquadruple {\\nsmall-title, text, btn-orange\\n}\\nquadruple {\\nsmall-title, text, btn-green\\n}\\nquadruple {\\nsmall-title, text, btn-orange\\n}\\n}\\n', 'header {\\npage-title, burger-link\\n}\\nsidebar {\\nradio, icons\\n}\\ncanvas-header {\\nbtn-inactive, btn-inactive, btn-inactive, btn-active, btn-inactive\\n}\\nrow {\\nquadruple {\\nsmall-title, text, btn-green\\n}\\nquadruple {\\nsmall-title, text, btn-red\\n}\\nquadruple {\\nsmall-title, text, btn-green\\n}\\nquadruple {\\nsmall-title, text, btn-red\\n}\\n}\\nrow {\\ndouble {\\nsmall-title, text, btn-green\\n}\\ndouble {\\nsmall-title, text, btn-green\\n}\\n}\\n', 'header {\\nsearch-bar, cart-link\\n}\\nsidebar {\\nmedium-title, ck-box, rating, icons\\n}\\ncanvas-header {\\nbtn-active, btn-inactive, btn-inactive, btn-inactive\\n}\\nrow {\\nsingle {\\nsmall-title, text, btn-red\\n}\\n}\\n', 'header {\\nsearch-bar, cart-link\\n}\\nsidebar {\\nck-box, slider\\n}\\ncanvas-header {\\nbtn-inactive, btn-inactive, btn-inactive, btn-active, btn-inactive\\n}\\nrow {\\ndouble {\\nsmall-title, text, btn-red\\n}\\ndouble {\\nsmall-title, text, btn-orange\\n}\\n}\\nrow {\\nsingle {\\nsmall-title, text, btn-red\\n}\\n}\\n', 'header {\\nsearch-bar\\n}\\nsidebar {\\nmedium-title, radio\\n}\\ncanvas-header {\\nbtn-active\\n}\\nrow {\\nquadruple {\\nsmall-title, text, btn-orange\\n}\\nquadruple {\\nsmall-title, text, btn-orange\\n}\\nquadruple {\\nsmall-title, text, btn-green\\n}\\nquadruple {\\nsmall-title, text, btn-orange\\n}\\n}\\nrow {\\nsingle {\\nsmall-title, text, btn-orange\\n}\\n}\\n', 'header {\\nsearch-bar\\n}\\nsidebar {\\nradio\\n}\\ncanvas-header {\\nbtn-inactive, btn-active, btn-inactive, btn-inactive\\n}\\nrow {\\nquadruple {\\nsmall-title, text, btn-red\\n}\\nquadruple {\\nsmall-title, text, btn-red\\n}\\nquadruple {\\nsmall-title, text, btn-green\\n}\\nquadruple {\\nsmall-title, text, btn-green\\n}\\n}\\n', 'header {\\nburger-link\\n}\\nsidebar {\\nmedium-title, ck-box, slider, rating\\n}\\ncanvas-header {\\nbtn-active, btn-inactive, btn-inactive, btn-inactive\\n}\\nrow {\\nquadruple {\\nsmall-title, text, btn-green\\n}\\nquadruple {\\nsmall-title, text, btn-red\\n}\\nquadruple {\\nsmall-title, text, btn-orange\\n}\\nquadruple {\\nsmall-title, text, btn-green\\n}\\n}\\nrow {\\nsingle {\\nsmall-title, text, btn-orange\\n}\\n}\\n', 'header {\\npage-title, search-bar, cart-link, burger-link\\n}\\nsidebar {\\nmedium-title, radio, slider, rating\\n}\\ncanvas-header {\\nbtn-active, btn-inactive, btn-inactive\\n}\\nrow {\\ndouble {\\nsmall-title, text, btn-orange\\n}\\ndouble {\\nsmall-title, text, btn-orange\\n}\\n}\\nrow {\\nsingle {\\nsmall-title, text, btn-orange\\n}\\n}\\n', 'header {\\npage-title, burger-link\\n}\\nsidebar {\\nslider\\n}\\ncanvas-header {\\nbtn-active, btn-inactive, btn-inactive\\n}\\n', 'header {\\nsearch-bar, cart-link\\n}\\nsidebar {\\nmedium-title, radio, dropdn, slider, icons\\n}\\ncanvas-header {\\nbtn-inactive, btn-active, btn-inactive, btn-inactive, btn-inactive\\n}\\nrow {\\nquadruple {\\nsmall-title, text, btn-red\\n}\\nquadruple {\\nsmall-title, text, btn-orange\\n}\\nquadruple {\\nsmall-title, text, btn-green\\n}\\nquadruple {\\nsmall-title, text, btn-red\\n}\\n}\\nrow {\\ndouble {\\nsmall-title, text, btn-green\\n}\\ndouble {\\nsmall-title, text, btn-red\\n}\\n}\\nrow {\\nsingle {\\nsmall-title, text, btn-orange\\n}\\n}\\n', 'header {\\nsearch-bar\\n}\\nsidebar {\\nck-box, radio, rating\\n}\\ncanvas-header {\\nbtn-inactive, btn-active\\n}\\nrow {\\nquadruple {\\nsmall-title, text, btn-green\\n}\\nquadruple {\\nsmall-title, text, btn-red\\n}\\nquadruple {\\nsmall-title, text, btn-orange\\n}\\nquadruple {\\nsmall-title, text, btn-green\\n}\\n}\\n', 'header {\\nburger-link\\n}\\nsidebar {\\nmedium-title, ck-box, radio, rating, icons\\n}\\ncanvas-header {\\nbtn-active, btn-inactive\\n}\\nrow {\\ndouble {\\nsmall-title, text, btn-red\\n}\\ndouble {\\nsmall-title, text, btn-red\\n}\\n}\\nrow {\\nsingle {\\nsmall-title, text, btn-green\\n}\\n}\\n', 'header {\\nsearch-bar, cart-link\\n}\\nsidebar {\\nck-box, radio, dropdn, slider\\n}\\ncanvas-header {\\nbtn-inactive, btn-inactive, btn-active\\n}\\nrow {\\nquadruple {\\nsmall-title, text, btn-orange\\n}\\nquadruple {\\nsmall-title, text, btn-orange\\n}\\nquadruple {\\nsmall-title, text, btn-green\\n}\\nquadruple {\\nsmall-title, text, btn-red\\n}\\n}\\nrow {\\ndouble {\\nsmall-title, text, btn-green\\n}\\ndouble {\\nsmall-title, text, btn-orange\\n}\\n}\\nrow {\\nsingle {\\nsmall-title, text, btn-green\\n}\\n}\\n', 'header {\\ncart-link, burger-link\\n}\\nsidebar {\\ndropdn, icons\\n}\\ncanvas-header {\\nbtn-active, btn-inactive, btn-inactive, btn-inactive\\n}\\nrow {\\nquadruple {\\nsmall-title, text, btn-green\\n}\\nquadruple {\\nsmall-title, text, btn-green\\n}\\nquadruple {\\nsmall-title, text, btn-red\\n}\\nquadruple {\\nsmall-title, text, btn-green\\n}\\n}\\n', 'header {\\npage-title, search-bar, burger-link\\n}\\nsidebar {\\nmedium-title, radio, dropdn, rating, icons\\n}\\ncanvas-header {\\nbtn-inactive, btn-inactive, btn-active\\n}\\nrow {\\nquadruple {\\nsmall-title, text, btn-orange\\n}\\nquadruple {\\nsmall-title, text, btn-red\\n}\\nquadruple {\\nsmall-title, text, btn-red\\n}\\nquadruple {\\nsmall-title, text, btn-red\\n}\\n}\\n', 'header {\\nsearch-bar, cart-link\\n}\\nsidebar {\\nmedium-title, radio, dropdn, icons\\n}\\ncanvas-header {\\nbtn-inactive, btn-inactive, btn-active, btn-inactive, btn-inactive\\n}\\nrow {\\nquadruple {\\nsmall-title, text, btn-red\\n}\\nquadruple {\\nsmall-title, text, btn-green\\n}\\nquadruple {\\nsmall-title, text, btn-red\\n}\\nquadruple {\\nsmall-title, text, btn-orange\\n}\\n}\\nrow {\\ndouble {\\nsmall-title, text, btn-red\\n}\\ndouble {\\nsmall-title, text, btn-red\\n}\\n}\\n', 'header {\\nsearch-bar, cart-link\\n}\\nsidebar {\\nck-box, dropdn, rating, icons\\n}\\ncanvas-header {\\nbtn-active\\n}\\nrow {\\nquadruple {\\nsmall-title, text, btn-red\\n}\\nquadruple {\\nsmall-title, text, btn-orange\\n}\\nquadruple {\\nsmall-title, text, btn-green\\n}\\nquadruple {\\nsmall-title, text, btn-red\\n}\\n}\\nrow {\\ndouble {\\nsmall-title, text, btn-red\\n}\\ndouble {\\nsmall-title, text, btn-red\\n}\\n}\\n', 'header {\\nburger-link\\n}\\nsidebar {\\nck-box, slider, rating, icons\\n}\\ncanvas-header {\\nbtn-inactive, btn-active, btn-inactive\\n}\\nrow {\\nsingle {\\nsmall-title, text, btn-red\\n}\\n}\\n', 'header {\\nburger-link\\n}\\nsidebar {\\nmedium-title, dropdn, rating\\n}\\ncanvas-header {\\nbtn-inactive, btn-inactive, btn-inactive, btn-active\\n}\\nrow {\\nquadruple {\\nsmall-title, text, btn-green\\n}\\nquadruple {\\nsmall-title, text, btn-red\\n}\\nquadruple {\\nsmall-title, text, btn-green\\n}\\nquadruple {\\nsmall-title, text, btn-orange\\n}\\n}\\nrow {\\ndouble {\\nsmall-title, text, btn-red\\n}\\ndouble {\\nsmall-title, text, btn-orange\\n}\\n}\\n', 'header {\\nsearch-bar, burger-link\\n}\\nsidebar {\\nmedium-title, radio, rating, icons\\n}\\ncanvas-header {\\nbtn-active, btn-inactive\\n}\\nrow {\\nquadruple {\\nsmall-title, text, btn-red\\n}\\nquadruple {\\nsmall-title, text, btn-green\\n}\\nquadruple {\\nsmall-title, text, btn-green\\n}\\nquadruple {\\nsmall-title, text, btn-orange\\n}\\n}\\nrow {\\ndouble {\\nsmall-title, text, btn-orange\\n}\\ndouble {\\nsmall-title, text, btn-green\\n}\\n}\\n', 'header {\\nburger-link\\n}\\nsidebar {\\nmedium-title, ck-box, slider, icons\\n}\\ncanvas-header {\\nbtn-inactive, btn-inactive, btn-active, btn-inactive\\n}\\nrow {\\nquadruple {\\nsmall-title, text, btn-green\\n}\\nquadruple {\\nsmall-title, text, btn-red\\n}\\nquadruple {\\nsmall-title, text, btn-green\\n}\\nquadruple {\\nsmall-title, text, btn-green\\n}\\n}\\nrow {\\ndouble {\\nsmall-title, text, btn-red\\n}\\ndouble {\\nsmall-title, text, btn-orange\\n}\\n}\\nrow {\\nsingle {\\nsmall-title, text, btn-red\\n}\\n}\\n', 'header {\\npage-title, burger-link\\n}\\nsidebar {\\nmedium-title, radio, dropdn\\n}\\ncanvas-header {\\nbtn-inactive, btn-inactive, btn-active, btn-inactive, btn-inactive\\n}\\nrow {\\nquadruple {\\nsmall-title, text, btn-green\\n}\\nquadruple {\\nsmall-title, text, btn-orange\\n}\\nquadruple {\\nsmall-title, text, btn-orange\\n}\\nquadruple {\\nsmall-title, text, btn-red\\n}\\n}\\n', 'header {\\npage-title, cart-link, burger-link\\n}\\nsidebar {\\nck-box, radio, icons\\n}\\ncanvas-header {\\nbtn-inactive, btn-inactive, btn-active\\n}\\nrow {\\nquadruple {\\nsmall-title, text, btn-red\\n}\\nquadruple {\\nsmall-title, text, btn-orange\\n}\\nquadruple {\\nsmall-title, text, btn-green\\n}\\nquadruple {\\nsmall-title, text, btn-red\\n}\\n}\\nrow {\\ndouble {\\nsmall-title, text, btn-green\\n}\\ndouble {\\nsmall-title, text, btn-orange\\n}\\n}\\n', 'header {\\npage-title, cart-link\\n}\\nsidebar {\\nck-box, dropdn, slider, icons\\n}\\ncanvas-header {\\nbtn-inactive, btn-active, btn-inactive, btn-inactive\\n}\\nrow {\\nquadruple {\\nsmall-title, text, btn-green\\n}\\nquadruple {\\nsmall-title, text, btn-green\\n}\\nquadruple {\\nsmall-title, text, btn-red\\n}\\nquadruple {\\nsmall-title, text, btn-green\\n}\\n}\\n', 'header {\\nburger-link\\n}\\nsidebar {\\nck-box, dropdn, icons\\n}\\ncanvas-header {\\nbtn-active, btn-inactive\\n}\\nrow {\\nquadruple {\\nsmall-title, text, btn-orange\\n}\\nquadruple {\\nsmall-title, text, btn-red\\n}\\nquadruple {\\nsmall-title, text, btn-green\\n}\\nquadruple {\\nsmall-title, text, btn-red\\n}\\n}\\nrow {\\ndouble {\\nsmall-title, text, btn-green\\n}\\ndouble {\\nsmall-title, text, btn-orange\\n}\\n}\\nrow {\\nsingle {\\nsmall-title, text, btn-orange\\n}\\n}\\n', 'header {\\npage-title\\n}\\nsidebar {\\nck-box, radio, dropdn, slider, rating\\n}\\ncanvas-header {\\nbtn-inactive, btn-inactive, btn-inactive, btn-inactive, btn-active\\n}\\nrow {\\nquadruple {\\nsmall-title, text, btn-orange\\n}\\nquadruple {\\nsmall-title, text, btn-orange\\n}\\nquadruple {\\nsmall-title, text, btn-green\\n}\\nquadruple {\\nsmall-title, text, btn-red\\n}\\n}\\nrow {\\ndouble {\\nsmall-title, text, btn-red\\n}\\ndouble {\\nsmall-title, text, btn-orange\\n}\\n}\\n', 'header {\\nburger-link\\n}\\nsidebar {\\nradio, slider, rating, icons\\n}\\ncanvas-header {\\nbtn-active, btn-inactive\\n}\\nrow {\\ndouble {\\nsmall-title, text, btn-green\\n}\\ndouble {\\nsmall-title, text, btn-orange\\n}\\n}\\n', 'header {\\nburger-link\\n}\\nsidebar {\\nmedium-title, ck-box, rating\\n}\\ncanvas-header {\\nbtn-inactive, btn-active, btn-inactive\\n}\\nrow {\\nquadruple {\\nsmall-title, text, btn-red\\n}\\nquadruple {\\nsmall-title, text, btn-red\\n}\\nquadruple {\\nsmall-title, text, btn-orange\\n}\\nquadruple {\\nsmall-title, text, btn-red\\n}\\n}\\n', 'header {\\npage-title, search-bar, burger-link\\n}\\nsidebar {\\ndropdn, rating\\n}\\ncanvas-header {\\nbtn-inactive, btn-inactive, btn-active\\n}\\nrow {\\nquadruple {\\nsmall-title, text, btn-red\\n}\\nquadruple {\\nsmall-title, text, btn-green\\n}\\nquadruple {\\nsmall-title, text, btn-green\\n}\\nquadruple {\\nsmall-title, text, btn-orange\\n}\\n}\\nrow {\\nsingle {\\nsmall-title, text, btn-orange\\n}\\n}\\n', 'header {\\nsearch-bar, cart-link\\n}\\nsidebar {\\nck-box, radio, dropdn, slider, icons\\n}\\ncanvas-header {\\nbtn-inactive, btn-inactive, btn-active, btn-inactive, btn-inactive\\n}\\nrow {\\nquadruple {\\nsmall-title, text, btn-orange\\n}\\nquadruple {\\nsmall-title, text, btn-red\\n}\\nquadruple {\\nsmall-title, text, btn-orange\\n}\\nquadruple {\\nsmall-title, text, btn-red\\n}\\n}\\n', 'header {\\npage-title\\n}\\nsidebar {\\nmedium-title, ck-box, radio, dropdn, slider, rating, icons\\n}\\ncanvas-header {\\nbtn-inactive, btn-inactive, btn-inactive, btn-inactive, btn-active\\n}\\nrow {\\nquadruple {\\nsmall-title, text, btn-orange\\n}\\nquadruple {\\nsmall-title, text, btn-red\\n}\\nquadruple {\\nsmall-title, text, btn-green\\n}\\nquadruple {\\nsmall-title, text, btn-red\\n}\\n}\\nrow {\\ndouble {\\nsmall-title, text, btn-green\\n}\\ndouble {\\nsmall-title, text, btn-red\\n}\\n}\\nrow {\\nsingle {\\nsmall-title, text, btn-green\\n}\\n}\\n', 'header {\\ncart-link\\n}\\nsidebar {\\nmedium-title, dropdn\\n}\\ncanvas-header {\\n}\\nrow {\\nquadruple {\\nsmall-title, text, btn-orange\\n}\\nquadruple {\\nsmall-title, text, btn-red\\n}\\nquadruple {\\nsmall-title, text, btn-red\\n}\\nquadruple {\\nsmall-title, text, btn-red\\n}\\n}\\nrow {\\nsingle {\\nsmall-title, text, btn-red\\n}\\n}\\n', 'header {\\ncart-link, burger-link\\n}\\nsidebar {\\nck-box, dropdn\\n}\\ncanvas-header {\\nbtn-inactive, btn-inactive, btn-inactive, btn-active, btn-inactive\\n}\\nrow {\\nquadruple {\\nsmall-title, text, btn-orange\\n}\\nquadruple {\\nsmall-title, text, btn-red\\n}\\nquadruple {\\nsmall-title, text, btn-green\\n}\\nquadruple {\\nsmall-title, text, btn-green\\n}\\n}\\nrow {\\nsingle {\\nsmall-title, text, btn-green\\n}\\n}\\n', 'header {\\nsearch-bar, cart-link, burger-link\\n}\\nsidebar {\\nmedium-title, ck-box, radio, slider\\n}\\ncanvas-header {\\nbtn-active, btn-inactive\\n}\\nrow {\\nquadruple {\\nsmall-title, text, btn-red\\n}\\nquadruple {\\nsmall-title, text, btn-green\\n}\\nquadruple {\\nsmall-title, text, btn-orange\\n}\\nquadruple {\\nsmall-title, text, btn-green\\n}\\n}\\n', 'header {\\npage-title\\n}\\nsidebar {\\nck-box, radio\\n}\\ncanvas-header {\\nbtn-active, btn-inactive, btn-inactive, btn-inactive, btn-inactive\\n}\\nrow {\\ndouble {\\nsmall-title, text, btn-orange\\n}\\ndouble {\\nsmall-title, text, btn-green\\n}\\n}\\nrow {\\nsingle {\\nsmall-title, text, btn-green\\n}\\n}\\n', 'header {\\npage-title, search-bar, burger-link\\n}\\nsidebar {\\nmedium-title, dropdn, slider, rating\\n}\\ncanvas-header {\\nbtn-inactive, btn-inactive, btn-active\\n}\\nrow {\\ndouble {\\nsmall-title, text, btn-red\\n}\\ndouble {\\nsmall-title, text, btn-orange\\n}\\n}\\n', 'header {\\npage-title, search-bar, burger-link\\n}\\nsidebar {\\nmedium-title, radio, slider, icons\\n}\\ncanvas-header {\\nbtn-active\\n}\\n', 'header {\\npage-title, search-bar\\n}\\nsidebar {\\nmedium-title, radio, slider, icons\\n}\\ncanvas-header {\\nbtn-inactive, btn-active\\n}\\nrow {\\nquadruple {\\nsmall-title, text, btn-green\\n}\\nquadruple {\\nsmall-title, text, btn-orange\\n}\\nquadruple {\\nsmall-title, text, btn-red\\n}\\nquadruple {\\nsmall-title, text, btn-orange\\n}\\n}\\nrow {\\ndouble {\\nsmall-title, text, btn-green\\n}\\ndouble {\\nsmall-title, text, btn-orange\\n}\\n}\\nrow {\\nsingle {\\nsmall-title, text, btn-green\\n}\\n}\\n', 'header {\\nsearch-bar, cart-link, burger-link\\n}\\nsidebar {\\nmedium-title, dropdn, slider, icons\\n}\\ncanvas-header {\\nbtn-active, btn-inactive\\n}\\nrow {\\ndouble {\\nsmall-title, text, btn-green\\n}\\ndouble {\\nsmall-title, text, btn-red\\n}\\n}\\nrow {\\nsingle {\\nsmall-title, text, btn-green\\n}\\n}\\n', 'header {\\npage-title, cart-link\\n}\\nsidebar {\\nck-box, slider\\n}\\ncanvas-header {\\nbtn-inactive, btn-inactive, btn-active\\n}\\nrow {\\nquadruple {\\nsmall-title, text, btn-red\\n}\\nquadruple {\\nsmall-title, text, btn-green\\n}\\nquadruple {\\nsmall-title, text, btn-red\\n}\\nquadruple {\\nsmall-title, text, btn-orange\\n}\\n}\\nrow {\\nsingle {\\nsmall-title, text, btn-orange\\n}\\n}\\n', 'header {\\nsearch-bar, cart-link\\n}\\nsidebar {\\ndropdn, rating\\n}\\ncanvas-header {\\nbtn-inactive, btn-active, btn-inactive\\n}\\n', 'header {\\npage-title, cart-link, burger-link\\n}\\nsidebar {\\nck-box, radio, slider\\n}\\ncanvas-header {\\nbtn-active, btn-inactive\\n}\\n', 'header {\\npage-title\\n}\\nsidebar {\\nmedium-title, ck-box, radio, dropdn, slider\\n}\\ncanvas-header {\\nbtn-active, btn-inactive, btn-inactive, btn-inactive, btn-inactive\\n}\\nrow {\\nquadruple {\\nsmall-title, text, btn-green\\n}\\nquadruple {\\nsmall-title, text, btn-green\\n}\\nquadruple {\\nsmall-title, text, btn-orange\\n}\\nquadruple {\\nsmall-title, text, btn-green\\n}\\n}\\nrow {\\ndouble {\\nsmall-title, text, btn-orange\\n}\\ndouble {\\nsmall-title, text, btn-red\\n}\\n}\\n', 'header {\\nsearch-bar\\n}\\nsidebar {\\nmedium-title, ck-box, slider, icons\\n}\\ncanvas-header {\\nbtn-inactive, btn-inactive, btn-active, btn-inactive, btn-inactive\\n}\\nrow {\\nsingle {\\nsmall-title, text, btn-red\\n}\\n}\\n', 'header {\\nsearch-bar, cart-link, burger-link\\n}\\nsidebar {\\nmedium-title, radio, icons\\n}\\ncanvas-header {\\nbtn-inactive, btn-active\\n}\\nrow {\\nquadruple {\\nsmall-title, text, btn-red\\n}\\nquadruple {\\nsmall-title, text, btn-red\\n}\\nquadruple {\\nsmall-title, text, btn-green\\n}\\nquadruple {\\nsmall-title, text, btn-red\\n}\\n}\\nrow {\\ndouble {\\nsmall-title, text, btn-green\\n}\\ndouble {\\nsmall-title, text, btn-green\\n}\\n}\\nrow {\\nsingle {\\nsmall-title, text, btn-green\\n}\\n}\\n', 'header {\\nsearch-bar, cart-link, burger-link\\n}\\nsidebar {\\nmedium-title, ck-box, radio, dropdn, icons\\n}\\ncanvas-header {\\nbtn-inactive, btn-active, btn-inactive, btn-inactive, btn-inactive\\n}\\n', 'header {\\npage-title, burger-link\\n}\\nsidebar {\\nck-box, slider, rating, icons\\n}\\ncanvas-header {\\nbtn-active\\n}\\nrow {\\nquadruple {\\nsmall-title, text, btn-red\\n}\\nquadruple {\\nsmall-title, text, btn-orange\\n}\\nquadruple {\\nsmall-title, text, btn-green\\n}\\nquadruple {\\nsmall-title, text, btn-red\\n}\\n}\\n', 'header {\\npage-title, search-bar, burger-link\\n}\\nsidebar {\\nmedium-title, ck-box, slider, rating, icons\\n}\\ncanvas-header {\\nbtn-inactive, btn-inactive, btn-active, btn-inactive\\n}\\nrow {\\nquadruple {\\nsmall-title, text, btn-red\\n}\\nquadruple {\\nsmall-title, text, btn-green\\n}\\nquadruple {\\nsmall-title, text, btn-green\\n}\\nquadruple {\\nsmall-title, text, btn-orange\\n}\\n}\\nrow {\\ndouble {\\nsmall-title, text, btn-green\\n}\\ndouble {\\nsmall-title, text, btn-orange\\n}\\n}\\n', 'header {\\npage-title, search-bar, cart-link, burger-link\\n}\\nsidebar {\\nrating, icons\\n}\\ncanvas-header {\\nbtn-active\\n}\\nrow {\\nquadruple {\\nsmall-title, text, btn-orange\\n}\\nquadruple {\\nsmall-title, text, btn-green\\n}\\nquadruple {\\nsmall-title, text, btn-red\\n}\\nquadruple {\\nsmall-title, text, btn-orange\\n}\\n}\\nrow {\\ndouble {\\nsmall-title, text, btn-green\\n}\\ndouble {\\nsmall-title, text, btn-green\\n}\\n}\\n', 'header {\\nsearch-bar\\n}\\nsidebar {\\nslider, rating, icons\\n}\\ncanvas-header {\\nbtn-active, btn-inactive, btn-inactive\\n}\\n', 'header {\\nburger-link\\n}\\nsidebar {\\nmedium-title, dropdn, rating, icons\\n}\\ncanvas-header {\\nbtn-inactive, btn-inactive, btn-inactive, btn-active, btn-inactive\\n}\\nrow {\\ndouble {\\nsmall-title, text, btn-green\\n}\\ndouble {\\nsmall-title, text, btn-green\\n}\\n}\\nrow {\\nsingle {\\nsmall-title, text, btn-orange\\n}\\n}\\n', 'header {\\ncart-link, burger-link\\n}\\nsidebar {\\nmedium-title, ck-box, radio, dropdn\\n}\\ncanvas-header {\\nbtn-inactive, btn-active, btn-inactive\\n}\\nrow {\\nquadruple {\\nsmall-title, text, btn-orange\\n}\\nquadruple {\\nsmall-title, text, btn-green\\n}\\nquadruple {\\nsmall-title, text, btn-green\\n}\\nquadruple {\\nsmall-title, text, btn-green\\n}\\n}\\nrow {\\ndouble {\\nsmall-title, text, btn-red\\n}\\ndouble {\\nsmall-title, text, btn-red\\n}\\n}\\n', 'header {\\nsearch-bar, burger-link\\n}\\nsidebar {\\nmedium-title, icons\\n}\\ncanvas-header {\\nbtn-active, btn-inactive, btn-inactive\\n}\\nrow {\\nsingle {\\nsmall-title, text, btn-orange\\n}\\n}\\n', 'header {\\npage-title, cart-link\\n}\\nsidebar {\\nck-box, radio, slider, icons\\n}\\ncanvas-header {\\nbtn-inactive, btn-inactive, btn-active\\n}\\nrow {\\nquadruple {\\nsmall-title, text, btn-orange\\n}\\nquadruple {\\nsmall-title, text, btn-orange\\n}\\nquadruple {\\nsmall-title, text, btn-red\\n}\\nquadruple {\\nsmall-title, text, btn-green\\n}\\n}\\nrow {\\ndouble {\\nsmall-title, text, btn-red\\n}\\ndouble {\\nsmall-title, text, btn-red\\n}\\n}\\n', 'header {\\ncart-link, burger-link\\n}\\nsidebar {\\nradio, dropdn, rating\\n}\\ncanvas-header {\\nbtn-inactive, btn-active, btn-inactive, btn-inactive\\n}\\nrow {\\nquadruple {\\nsmall-title, text, btn-orange\\n}\\nquadruple {\\nsmall-title, text, btn-red\\n}\\nquadruple {\\nsmall-title, text, btn-red\\n}\\nquadruple {\\nsmall-title, text, btn-orange\\n}\\n}\\nrow {\\ndouble {\\nsmall-title, text, btn-green\\n}\\ndouble {\\nsmall-title, text, btn-green\\n}\\n}\\n', 'header {\\nburger-link\\n}\\nsidebar {\\nmedium-title, ck-box, dropdn, icons\\n}\\ncanvas-header {\\nbtn-active, btn-inactive, btn-inactive, btn-inactive, btn-inactive\\n}\\nrow {\\nquadruple {\\nsmall-title, text, btn-red\\n}\\nquadruple {\\nsmall-title, text, btn-red\\n}\\nquadruple {\\nsmall-title, text, btn-red\\n}\\nquadruple {\\nsmall-title, text, btn-green\\n}\\n}\\nrow {\\ndouble {\\nsmall-title, text, btn-red\\n}\\ndouble {\\nsmall-title, text, btn-green\\n}\\n}\\n', 'header {\\npage-title, search-bar, cart-link, burger-link\\n}\\nsidebar {\\nmedium-title, ck-box, radio, rating\\n}\\ncanvas-header {\\nbtn-inactive, btn-inactive, btn-active, btn-inactive, btn-inactive\\n}\\nrow {\\nquadruple {\\nsmall-title, text, btn-orange\\n}\\nquadruple {\\nsmall-title, text, btn-green\\n}\\nquadruple {\\nsmall-title, text, btn-green\\n}\\nquadruple {\\nsmall-title, text, btn-red\\n}\\n}\\nrow {\\ndouble {\\nsmall-title, text, btn-green\\n}\\ndouble {\\nsmall-title, text, btn-orange\\n}\\n}\\n', 'header {\\npage-title, burger-link\\n}\\nsidebar {\\nmedium-title, slider\\n}\\ncanvas-header {\\nbtn-inactive, btn-active, btn-inactive\\n}\\nrow {\\nsingle {\\nsmall-title, text, btn-green\\n}\\n}\\n', 'header {\\nsearch-bar\\n}\\nsidebar {\\nmedium-title, ck-box, dropdn, slider, rating\\n}\\ncanvas-header {\\nbtn-inactive, btn-inactive, btn-inactive, btn-active, btn-inactive\\n}\\nrow {\\nsingle {\\nsmall-title, text, btn-green\\n}\\n}\\n', 'header {\\npage-title, search-bar, burger-link\\n}\\nsidebar {\\nslider, rating, icons\\n}\\ncanvas-header {\\nbtn-inactive, btn-inactive, btn-active, btn-inactive, btn-inactive\\n}\\nrow {\\nquadruple {\\nsmall-title, text, btn-red\\n}\\nquadruple {\\nsmall-title, text, btn-green\\n}\\nquadruple {\\nsmall-title, text, btn-red\\n}\\nquadruple {\\nsmall-title, text, btn-orange\\n}\\n}\\nrow {\\ndouble {\\nsmall-title, text, btn-red\\n}\\ndouble {\\nsmall-title, text, btn-red\\n}\\n}\\nrow {\\nsingle {\\nsmall-title, text, btn-red\\n}\\n}\\n', 'header {\\npage-title, cart-link\\n}\\nsidebar {\\nck-box\\n}\\ncanvas-header {\\nbtn-inactive, btn-inactive, btn-active, btn-inactive, btn-inactive\\n}\\nrow {\\nsingle {\\nsmall-title, text, btn-orange\\n}\\n}\\n', 'header {\\npage-title, search-bar, burger-link\\n}\\nsidebar {\\nmedium-title, ck-box, dropdn, rating\\n}\\ncanvas-header {\\nbtn-inactive, btn-active, btn-inactive\\n}\\nrow {\\nquadruple {\\nsmall-title, text, btn-green\\n}\\nquadruple {\\nsmall-title, text, btn-red\\n}\\nquadruple {\\nsmall-title, text, btn-red\\n}\\nquadruple {\\nsmall-title, text, btn-red\\n}\\n}\\nrow {\\ndouble {\\nsmall-title, text, btn-red\\n}\\ndouble {\\nsmall-title, text, btn-green\\n}\\n}\\n', 'header {\\nsearch-bar\\n}\\nsidebar {\\nmedium-title, radio, dropdn\\n}\\ncanvas-header {\\nbtn-inactive, btn-inactive, btn-inactive, btn-active, btn-inactive\\n}\\nrow {\\ndouble {\\nsmall-title, text, btn-red\\n}\\ndouble {\\nsmall-title, text, btn-red\\n}\\n}\\n', 'header {\\ncart-link\\n}\\nsidebar {\\nradio, rating\\n}\\ncanvas-header {\\nbtn-active, btn-inactive, btn-inactive, btn-inactive, btn-inactive\\n}\\nrow {\\ndouble {\\nsmall-title, text, btn-green\\n}\\ndouble {\\nsmall-title, text, btn-orange\\n}\\n}\\n', 'header {\\nsearch-bar, burger-link\\n}\\nsidebar {\\nradio, dropdn, rating, icons\\n}\\ncanvas-header {\\nbtn-inactive, btn-active, btn-inactive, btn-inactive\\n}\\nrow {\\ndouble {\\nsmall-title, text, btn-red\\n}\\ndouble {\\nsmall-title, text, btn-red\\n}\\n}\\n', 'header {\\npage-title, search-bar, burger-link\\n}\\nsidebar {\\nmedium-title, ck-box, radio, slider\\n}\\ncanvas-header {\\nbtn-active, btn-inactive, btn-inactive, btn-inactive, btn-inactive\\n}\\nrow {\\ndouble {\\nsmall-title, text, btn-red\\n}\\ndouble {\\nsmall-title, text, btn-orange\\n}\\n}\\nrow {\\nsingle {\\nsmall-title, text, btn-orange\\n}\\n}\\n', 'header {\\nsearch-bar, cart-link\\n}\\nsidebar {\\nradio, dropdn, slider\\n}\\ncanvas-header {\\nbtn-inactive, btn-inactive, btn-active, btn-inactive, btn-inactive\\n}\\nrow {\\nquadruple {\\nsmall-title, text, btn-orange\\n}\\nquadruple {\\nsmall-title, text, btn-orange\\n}\\nquadruple {\\nsmall-title, text, btn-green\\n}\\nquadruple {\\nsmall-title, text, btn-green\\n}\\n}\\n', 'header {\\npage-title, search-bar\\n}\\nsidebar {\\nmedium-title, ck-box, radio, dropdn, rating\\n}\\ncanvas-header {\\nbtn-inactive, btn-inactive, btn-inactive, btn-active\\n}\\nrow {\\nquadruple {\\nsmall-title, text, btn-orange\\n}\\nquadruple {\\nsmall-title, text, btn-red\\n}\\nquadruple {\\nsmall-title, text, btn-orange\\n}\\nquadruple {\\nsmall-title, text, btn-orange\\n}\\n}\\nrow {\\ndouble {\\nsmall-title, text, btn-orange\\n}\\ndouble {\\nsmall-title, text, btn-orange\\n}\\n}\\n', 'header {\\nsearch-bar, cart-link\\n}\\nsidebar {\\nmedium-title, radio, slider\\n}\\ncanvas-header {\\nbtn-inactive, btn-inactive, btn-inactive, btn-inactive, btn-active\\n}\\n', 'header {\\npage-title, burger-link\\n}\\nsidebar {\\nck-box, dropdn, rating, icons\\n}\\ncanvas-header {\\nbtn-active, btn-inactive, btn-inactive, btn-inactive\\n}\\n', 'header {\\nsearch-bar, cart-link\\n}\\nsidebar {\\nmedium-title, radio, slider\\n}\\ncanvas-header {\\nbtn-active\\n}\\nrow {\\nquadruple {\\nsmall-title, text, btn-red\\n}\\nquadruple {\\nsmall-title, text, btn-green\\n}\\nquadruple {\\nsmall-title, text, btn-green\\n}\\nquadruple {\\nsmall-title, text, btn-green\\n}\\n}\\nrow {\\nsingle {\\nsmall-title, text, btn-green\\n}\\n}\\n', 'header {\\nsearch-bar, cart-link\\n}\\nsidebar {\\nradio, icons\\n}\\ncanvas-header {\\nbtn-active, btn-inactive, btn-inactive, btn-inactive, btn-inactive\\n}\\nrow {\\nquadruple {\\nsmall-title, text, btn-orange\\n}\\nquadruple {\\nsmall-title, text, btn-orange\\n}\\nquadruple {\\nsmall-title, text, btn-green\\n}\\nquadruple {\\nsmall-title, text, btn-green\\n}\\n}\\nrow {\\ndouble {\\nsmall-title, text, btn-red\\n}\\ndouble {\\nsmall-title, text, btn-red\\n}\\n}\\n', 'header {\\ncart-link\\n}\\nsidebar {\\nicons\\n}\\ncanvas-header {\\nbtn-inactive, btn-inactive, btn-inactive, btn-active, btn-inactive\\n}\\nrow {\\nquadruple {\\nsmall-title, text, btn-green\\n}\\nquadruple {\\nsmall-title, text, btn-orange\\n}\\nquadruple {\\nsmall-title, text, btn-orange\\n}\\nquadruple {\\nsmall-title, text, btn-orange\\n}\\n}\\nrow {\\nsingle {\\nsmall-title, text, btn-orange\\n}\\n}\\n', 'header {\\npage-title\\n}\\nsidebar {\\nck-box, dropdn, slider, icons\\n}\\ncanvas-header {\\nbtn-inactive, btn-inactive, btn-active, btn-inactive, btn-inactive\\n}\\n', 'header {\\npage-title, search-bar, cart-link\\n}\\nsidebar {\\nck-box, radio, dropdn, rating\\n}\\ncanvas-header {\\nbtn-inactive, btn-active\\n}\\nrow {\\nquadruple {\\nsmall-title, text, btn-green\\n}\\nquadruple {\\nsmall-title, text, btn-green\\n}\\nquadruple {\\nsmall-title, text, btn-red\\n}\\nquadruple {\\nsmall-title, text, btn-orange\\n}\\n}\\nrow {\\ndouble {\\nsmall-title, text, btn-orange\\n}\\ndouble {\\nsmall-title, text, btn-green\\n}\\n}\\nrow {\\nsingle {\\nsmall-title, text, btn-green\\n}\\n}\\n', 'header {\\nsearch-bar\\n}\\nsidebar {\\nmedium-title, ck-box\\n}\\ncanvas-header {\\nbtn-inactive, btn-inactive, btn-active, btn-inactive\\n}\\nrow {\\nquadruple {\\nsmall-title, text, btn-red\\n}\\nquadruple {\\nsmall-title, text, btn-green\\n}\\nquadruple {\\nsmall-title, text, btn-red\\n}\\nquadruple {\\nsmall-title, text, btn-red\\n}\\n}\\nrow {\\ndouble {\\nsmall-title, text, btn-green\\n}\\ndouble {\\nsmall-title, text, btn-red\\n}\\n}\\n', 'header {\\npage-title, burger-link\\n}\\nsidebar {\\nmedium-title, ck-box, radio, slider, icons\\n}\\ncanvas-header {\\nbtn-inactive, btn-inactive, btn-active\\n}\\nrow {\\nquadruple {\\nsmall-title, text, btn-green\\n}\\nquadruple {\\nsmall-title, text, btn-green\\n}\\nquadruple {\\nsmall-title, text, btn-orange\\n}\\nquadruple {\\nsmall-title, text, btn-green\\n}\\n}\\nrow {\\nsingle {\\nsmall-title, text, btn-green\\n}\\n}\\n', 'header {\\npage-title, cart-link, burger-link\\n}\\nsidebar {\\nck-box, radio, dropdn, slider, rating, icons\\n}\\ncanvas-header {\\nbtn-inactive, btn-active, btn-inactive, btn-inactive\\n}\\nrow {\\nsingle {\\nsmall-title, text, btn-orange\\n}\\n}\\n', 'header {\\npage-title, search-bar\\n}\\nsidebar {\\nradio, icons\\n}\\ncanvas-header {\\nbtn-active, btn-inactive\\n}\\nrow {\\nsingle {\\nsmall-title, text, btn-green\\n}\\n}\\n', 'header {\\nsearch-bar, cart-link, burger-link\\n}\\nsidebar {\\nmedium-title, dropdn, slider\\n}\\ncanvas-header {\\nbtn-active, btn-inactive, btn-inactive, btn-inactive, btn-inactive\\n}\\nrow {\\nquadruple {\\nsmall-title, text, btn-green\\n}\\nquadruple {\\nsmall-title, text, btn-red\\n}\\nquadruple {\\nsmall-title, text, btn-orange\\n}\\nquadruple {\\nsmall-title, text, btn-orange\\n}\\n}\\nrow {\\ndouble {\\nsmall-title, text, btn-orange\\n}\\ndouble {\\nsmall-title, text, btn-red\\n}\\n}\\n', 'header {\\nsearch-bar\\n}\\nsidebar {\\nmedium-title, ck-box, rating, icons\\n}\\ncanvas-header {\\nbtn-inactive, btn-active, btn-inactive\\n}\\nrow {\\ndouble {\\nsmall-title, text, btn-green\\n}\\ndouble {\\nsmall-title, text, btn-red\\n}\\n}\\nrow {\\nsingle {\\nsmall-title, text, btn-red\\n}\\n}\\n', 'header {\\npage-title, search-bar\\n}\\nsidebar {\\nck-box, radio, slider, rating\\n}\\ncanvas-header {\\nbtn-inactive, btn-inactive, btn-inactive, btn-active, btn-inactive\\n}\\nrow {\\nquadruple {\\nsmall-title, text, btn-green\\n}\\nquadruple {\\nsmall-title, text, btn-orange\\n}\\nquadruple {\\nsmall-title, text, btn-red\\n}\\nquadruple {\\nsmall-title, text, btn-orange\\n}\\n}\\nrow {\\ndouble {\\nsmall-title, text, btn-red\\n}\\ndouble {\\nsmall-title, text, btn-green\\n}\\n}\\n', 'header {\\nsearch-bar, burger-link\\n}\\nsidebar {\\nmedium-title, dropdn, slider\\n}\\ncanvas-header {\\nbtn-inactive, btn-active, btn-inactive, btn-inactive, btn-inactive\\n}\\n', 'header {\\nsearch-bar, burger-link\\n}\\nsidebar {\\nck-box, radio, dropdn, rating\\n}\\ncanvas-header {\\nbtn-active\\n}\\nrow {\\nquadruple {\\nsmall-title, text, btn-red\\n}\\nquadruple {\\nsmall-title, text, btn-green\\n}\\nquadruple {\\nsmall-title, text, btn-red\\n}\\nquadruple {\\nsmall-title, text, btn-red\\n}\\n}\\n', 'header {\\nsearch-bar, cart-link\\n}\\nsidebar {\\ndropdn, slider, icons\\n}\\ncanvas-header {\\nbtn-active, btn-inactive\\n}\\nrow {\\nquadruple {\\nsmall-title, text, btn-orange\\n}\\nquadruple {\\nsmall-title, text, btn-red\\n}\\nquadruple {\\nsmall-title, text, btn-red\\n}\\nquadruple {\\nsmall-title, text, btn-green\\n}\\n}\\nrow {\\nsingle {\\nsmall-title, text, btn-red\\n}\\n}\\n', 'header {\\npage-title, search-bar\\n}\\nsidebar {\\nmedium-title, slider, rating\\n}\\ncanvas-header {\\nbtn-inactive, btn-inactive, btn-inactive, btn-active\\n}\\nrow {\\nquadruple {\\nsmall-title, text, btn-orange\\n}\\nquadruple {\\nsmall-title, text, btn-green\\n}\\nquadruple {\\nsmall-title, text, btn-red\\n}\\nquadruple {\\nsmall-title, text, btn-orange\\n}\\n}\\n', 'header {\\npage-title, search-bar, burger-link\\n}\\nsidebar {\\nck-box, rating, icons\\n}\\ncanvas-header {\\nbtn-active, btn-inactive, btn-inactive\\n}\\nrow {\\nquadruple {\\nsmall-title, text, btn-green\\n}\\nquadruple {\\nsmall-title, text, btn-red\\n}\\nquadruple {\\nsmall-title, text, btn-red\\n}\\nquadruple {\\nsmall-title, text, btn-orange\\n}\\n}\\nrow {\\nsingle {\\nsmall-title, text, btn-green\\n}\\n}\\n', 'header {\\nsearch-bar\\n}\\nsidebar {\\nck-box, radio, dropdn, rating, icons\\n}\\ncanvas-header {\\nbtn-inactive, btn-active\\n}\\nrow {\\nquadruple {\\nsmall-title, text, btn-orange\\n}\\nquadruple {\\nsmall-title, text, btn-green\\n}\\nquadruple {\\nsmall-title, text, btn-green\\n}\\nquadruple {\\nsmall-title, text, btn-orange\\n}\\n}\\nrow {\\nsingle {\\nsmall-title, text, btn-green\\n}\\n}\\n', 'header {\\npage-title, search-bar, cart-link, burger-link\\n}\\nsidebar {\\nradio, rating\\n}\\ncanvas-header {\\nbtn-inactive, btn-inactive, btn-inactive, btn-active\\n}\\nrow {\\nquadruple {\\nsmall-title, text, btn-orange\\n}\\nquadruple {\\nsmall-title, text, btn-red\\n}\\nquadruple {\\nsmall-title, text, btn-orange\\n}\\nquadruple {\\nsmall-title, text, btn-orange\\n}\\n}\\nrow {\\nsingle {\\nsmall-title, text, btn-orange\\n}\\n}\\n', 'header {\\nsearch-bar, cart-link\\n}\\nsidebar {\\nmedium-title, ck-box, radio, slider, rating\\n}\\ncanvas-header {\\nbtn-inactive, btn-inactive, btn-active\\n}\\nrow {\\nquadruple {\\nsmall-title, text, btn-orange\\n}\\nquadruple {\\nsmall-title, text, btn-green\\n}\\nquadruple {\\nsmall-title, text, btn-green\\n}\\nquadruple {\\nsmall-title, text, btn-orange\\n}\\n}\\nrow {\\ndouble {\\nsmall-title, text, btn-orange\\n}\\ndouble {\\nsmall-title, text, btn-red\\n}\\n}\\n', 'header {\\npage-title, cart-link, burger-link\\n}\\nsidebar {\\nmedium-title, slider\\n}\\ncanvas-header {\\nbtn-inactive, btn-inactive, btn-active\\n}\\nrow {\\nquadruple {\\nsmall-title, text, btn-orange\\n}\\nquadruple {\\nsmall-title, text, btn-green\\n}\\nquadruple {\\nsmall-title, text, btn-green\\n}\\nquadruple {\\nsmall-title, text, btn-orange\\n}\\n}\\nrow {\\nsingle {\\nsmall-title, text, btn-orange\\n}\\n}\\n', 'header {\\npage-title, search-bar, burger-link\\n}\\nsidebar {\\nck-box\\n}\\ncanvas-header {\\nbtn-inactive, btn-inactive, btn-active, btn-inactive, btn-inactive\\n}\\nrow {\\nquadruple {\\nsmall-title, text, btn-green\\n}\\nquadruple {\\nsmall-title, text, btn-orange\\n}\\nquadruple {\\nsmall-title, text, btn-red\\n}\\nquadruple {\\nsmall-title, text, btn-green\\n}\\n}\\n', 'header {\\nsearch-bar, cart-link\\n}\\nsidebar {\\nck-box, radio, slider\\n}\\ncanvas-header {\\nbtn-active, btn-inactive, btn-inactive, btn-inactive, btn-inactive\\n}\\nrow {\\nsingle {\\nsmall-title, text, btn-red\\n}\\n}\\n', 'header {\\nsearch-bar\\n}\\nsidebar {\\nck-box, radio, rating, icons\\n}\\ncanvas-header {\\nbtn-active, btn-inactive, btn-inactive, btn-inactive, btn-inactive\\n}\\nrow {\\nquadruple {\\nsmall-title, text, btn-green\\n}\\nquadruple {\\nsmall-title, text, btn-orange\\n}\\nquadruple {\\nsmall-title, text, btn-red\\n}\\nquadruple {\\nsmall-title, text, btn-red\\n}\\n}\\n', 'header {\\ncart-link, burger-link\\n}\\nsidebar {\\nradio, slider, icons\\n}\\ncanvas-header {\\nbtn-active, btn-inactive\\n}\\nrow {\\nquadruple {\\nsmall-title, text, btn-green\\n}\\nquadruple {\\nsmall-title, text, btn-red\\n}\\nquadruple {\\nsmall-title, text, btn-green\\n}\\nquadruple {\\nsmall-title, text, btn-orange\\n}\\n}\\nrow {\\ndouble {\\nsmall-title, text, btn-green\\n}\\ndouble {\\nsmall-title, text, btn-orange\\n}\\n}\\n', 'header {\\npage-title, cart-link, burger-link\\n}\\nsidebar {\\nmedium-title, radio, rating\\n}\\ncanvas-header {\\nbtn-inactive, btn-active\\n}\\nrow {\\nquadruple {\\nsmall-title, text, btn-red\\n}\\nquadruple {\\nsmall-title, text, btn-green\\n}\\nquadruple {\\nsmall-title, text, btn-orange\\n}\\nquadruple {\\nsmall-title, text, btn-green\\n}\\n}\\n', 'header {\\nsearch-bar, cart-link, burger-link\\n}\\nsidebar {\\nmedium-title, radio, dropdn\\n}\\ncanvas-header {\\nbtn-inactive, btn-active, btn-inactive, btn-inactive, btn-inactive\\n}\\n', 'header {\\npage-title, burger-link\\n}\\nsidebar {\\nmedium-title, radio, dropdn, slider, icons\\n}\\ncanvas-header {\\nbtn-inactive, btn-inactive, btn-active, btn-inactive\\n}\\n', 'header {\\npage-title\\n}\\nsidebar {\\nslider, icons\\n}\\ncanvas-header {\\nbtn-inactive, btn-inactive, btn-inactive, btn-active\\n}\\nrow {\\nquadruple {\\nsmall-title, text, btn-green\\n}\\nquadruple {\\nsmall-title, text, btn-orange\\n}\\nquadruple {\\nsmall-title, text, btn-orange\\n}\\nquadruple {\\nsmall-title, text, btn-orange\\n}\\n}\\nrow {\\ndouble {\\nsmall-title, text, btn-green\\n}\\ndouble {\\nsmall-title, text, btn-red\\n}\\n}\\n', 'header {\\ncart-link\\n}\\nsidebar {\\nmedium-title, dropdn, icons\\n}\\ncanvas-header {\\nbtn-inactive, btn-inactive, btn-active\\n}\\nrow {\\nquadruple {\\nsmall-title, text, btn-orange\\n}\\nquadruple {\\nsmall-title, text, btn-red\\n}\\nquadruple {\\nsmall-title, text, btn-orange\\n}\\nquadruple {\\nsmall-title, text, btn-orange\\n}\\n}\\n', 'header {\\nburger-link\\n}\\nsidebar {\\nmedium-title\\n}\\ncanvas-header {\\nbtn-inactive, btn-active, btn-inactive, btn-inactive, btn-inactive\\n}\\nrow {\\nquadruple {\\nsmall-title, text, btn-red\\n}\\nquadruple {\\nsmall-title, text, btn-orange\\n}\\nquadruple {\\nsmall-title, text, btn-orange\\n}\\nquadruple {\\nsmall-title, text, btn-orange\\n}\\n}\\nrow {\\nsingle {\\nsmall-title, text, btn-red\\n}\\n}\\n', 'header {\\npage-title\\n}\\nsidebar {\\nmedium-title, radio, slider, rating\\n}\\ncanvas-header {\\nbtn-active, btn-inactive, btn-inactive\\n}\\nrow {\\nquadruple {\\nsmall-title, text, btn-green\\n}\\nquadruple {\\nsmall-title, text, btn-red\\n}\\nquadruple {\\nsmall-title, text, btn-orange\\n}\\nquadruple {\\nsmall-title, text, btn-green\\n}\\n}\\nrow {\\ndouble {\\nsmall-title, text, btn-red\\n}\\ndouble {\\nsmall-title, text, btn-red\\n}\\n}\\nrow {\\nsingle {\\nsmall-title, text, btn-orange\\n}\\n}\\n', 'header {\\npage-title, cart-link, burger-link\\n}\\nsidebar {\\nck-box, slider, rating, icons\\n}\\ncanvas-header {\\nbtn-inactive, btn-inactive, btn-active, btn-inactive, btn-inactive\\n}\\n', 'header {\\npage-title, search-bar, cart-link, burger-link\\n}\\nsidebar {\\nmedium-title, ck-box, dropdn\\n}\\ncanvas-header {\\nbtn-inactive, btn-inactive, btn-active, btn-inactive\\n}\\nrow {\\ndouble {\\nsmall-title, text, btn-orange\\n}\\ndouble {\\nsmall-title, text, btn-red\\n}\\n}\\nrow {\\nsingle {\\nsmall-title, text, btn-green\\n}\\n}\\n', 'header {\\npage-title, cart-link\\n}\\nsidebar {\\nmedium-title, slider\\n}\\ncanvas-header {\\nbtn-inactive, btn-inactive, btn-active, btn-inactive\\n}\\nrow {\\nquadruple {\\nsmall-title, text, btn-orange\\n}\\nquadruple {\\nsmall-title, text, btn-orange\\n}\\nquadruple {\\nsmall-title, text, btn-orange\\n}\\nquadruple {\\nsmall-title, text, btn-red\\n}\\n}\\nrow {\\nsingle {\\nsmall-title, text, btn-red\\n}\\n}\\n', 'header {\\ncart-link\\n}\\nsidebar {\\nmedium-title, ck-box, radio, slider, icons\\n}\\ncanvas-header {\\nbtn-inactive, btn-inactive, btn-active\\n}\\nrow {\\nquadruple {\\nsmall-title, text, btn-red\\n}\\nquadruple {\\nsmall-title, text, btn-green\\n}\\nquadruple {\\nsmall-title, text, btn-orange\\n}\\nquadruple {\\nsmall-title, text, btn-green\\n}\\n}\\nrow {\\ndouble {\\nsmall-title, text, btn-orange\\n}\\ndouble {\\nsmall-title, text, btn-green\\n}\\n}\\n', 'header {\\npage-title, search-bar, cart-link, burger-link\\n}\\nsidebar {\\nradio\\n}\\ncanvas-header {\\nbtn-active, btn-inactive\\n}\\n', 'header {\\nsearch-bar\\n}\\nsidebar {\\nck-box, slider, rating, icons\\n}\\ncanvas-header {\\nbtn-inactive, btn-active, btn-inactive, btn-inactive, btn-inactive\\n}\\nrow {\\nsingle {\\nsmall-title, text, btn-red\\n}\\n}\\n', 'header {\\npage-title, burger-link\\n}\\nsidebar {\\nmedium-title, ck-box, dropdn\\n}\\ncanvas-header {\\nbtn-active\\n}\\nrow {\\nquadruple {\\nsmall-title, text, btn-green\\n}\\nquadruple {\\nsmall-title, text, btn-orange\\n}\\nquadruple {\\nsmall-title, text, btn-orange\\n}\\nquadruple {\\nsmall-title, text, btn-green\\n}\\n}\\n', 'header {\\ncart-link\\n}\\nsidebar {\\ndropdn\\n}\\ncanvas-header {\\nbtn-inactive, btn-active, btn-inactive\\n}\\nrow {\\nquadruple {\\nsmall-title, text, btn-orange\\n}\\nquadruple {\\nsmall-title, text, btn-red\\n}\\nquadruple {\\nsmall-title, text, btn-red\\n}\\nquadruple {\\nsmall-title, text, btn-orange\\n}\\n}\\nrow {\\ndouble {\\nsmall-title, text, btn-orange\\n}\\ndouble {\\nsmall-title, text, btn-green\\n}\\n}\\nrow {\\nsingle {\\nsmall-title, text, btn-red\\n}\\n}\\n', 'header {\\npage-title, burger-link\\n}\\nsidebar {\\nmedium-title, dropdn, rating\\n}\\ncanvas-header {\\nbtn-active, btn-inactive, btn-inactive, btn-inactive, btn-inactive\\n}\\nrow {\\nsingle {\\nsmall-title, text, btn-red\\n}\\n}\\n', 'header {\\npage-title, search-bar, burger-link\\n}\\nsidebar {\\nck-box, slider, icons\\n}\\ncanvas-header {\\nbtn-active, btn-inactive, btn-inactive\\n}\\n', 'header {\\npage-title, search-bar, cart-link\\n}\\nsidebar {\\nmedium-title, ck-box, radio, slider, rating\\n}\\ncanvas-header {\\nbtn-inactive, btn-active, btn-inactive, btn-inactive\\n}\\nrow {\\nsingle {\\nsmall-title, text, btn-green\\n}\\n}\\n', 'header {\\nsearch-bar, burger-link\\n}\\nsidebar {\\nck-box, rating\\n}\\ncanvas-header {\\n}\\nrow {\\nquadruple {\\nsmall-title, text, btn-orange\\n}\\nquadruple {\\nsmall-title, text, btn-green\\n}\\nquadruple {\\nsmall-title, text, btn-red\\n}\\nquadruple {\\nsmall-title, text, btn-green\\n}\\n}\\nrow {\\nsingle {\\nsmall-title, text, btn-red\\n}\\n}\\n', 'header {\\nsearch-bar, cart-link, burger-link\\n}\\nsidebar {\\nslider, rating\\n}\\ncanvas-header {\\nbtn-inactive, btn-inactive, btn-active, btn-inactive\\n}\\n', 'header {\\ncart-link\\n}\\nsidebar {\\nck-box, radio, dropdn, icons\\n}\\ncanvas-header {\\nbtn-active, btn-inactive, btn-inactive\\n}\\nrow {\\nsingle {\\nsmall-title, text, btn-orange\\n}\\n}\\n', 'header {\\nsearch-bar, burger-link\\n}\\nsidebar {\\nmedium-title, radio, dropdn\\n}\\ncanvas-header {\\nbtn-inactive, btn-inactive, btn-active, btn-inactive\\n}\\n', 'header {\\nsearch-bar\\n}\\nsidebar {\\nmedium-title, rating\\n}\\ncanvas-header {\\nbtn-active, btn-inactive\\n}\\nrow {\\nquadruple {\\nsmall-title, text, btn-red\\n}\\nquadruple {\\nsmall-title, text, btn-green\\n}\\nquadruple {\\nsmall-title, text, btn-orange\\n}\\nquadruple {\\nsmall-title, text, btn-orange\\n}\\n}\\nrow {\\ndouble {\\nsmall-title, text, btn-green\\n}\\ndouble {\\nsmall-title, text, btn-orange\\n}\\n}\\n', 'header {\\npage-title, search-bar, cart-link, burger-link\\n}\\nsidebar {\\nck-box, slider, rating\\n}\\ncanvas-header {\\nbtn-inactive, btn-active, btn-inactive\\n}\\nrow {\\nquadruple {\\nsmall-title, text, btn-red\\n}\\nquadruple {\\nsmall-title, text, btn-red\\n}\\nquadruple {\\nsmall-title, text, btn-orange\\n}\\nquadruple {\\nsmall-title, text, btn-green\\n}\\n}\\nrow {\\ndouble {\\nsmall-title, text, btn-green\\n}\\ndouble {\\nsmall-title, text, btn-green\\n}\\n}\\nrow {\\nsingle {\\nsmall-title, text, btn-red\\n}\\n}\\n', 'header {\\npage-title, search-bar, burger-link\\n}\\nsidebar {\\nmedium-title, slider, icons\\n}\\ncanvas-header {\\nbtn-active, btn-inactive, btn-inactive\\n}\\nrow {\\nquadruple {\\nsmall-title, text, btn-green\\n}\\nquadruple {\\nsmall-title, text, btn-orange\\n}\\nquadruple {\\nsmall-title, text, btn-red\\n}\\nquadruple {\\nsmall-title, text, btn-red\\n}\\n}\\nrow {\\nsingle {\\nsmall-title, text, btn-orange\\n}\\n}\\n', 'header {\\npage-title, cart-link, burger-link\\n}\\nsidebar {\\nck-box, radio, dropdn, rating\\n}\\ncanvas-header {\\nbtn-inactive, btn-inactive, btn-active, btn-inactive, btn-inactive\\n}\\n', 'header {\\ncart-link\\n}\\nsidebar {\\nmedium-title, dropdn, slider\\n}\\ncanvas-header {\\n}\\nrow {\\nquadruple {\\nsmall-title, text, btn-red\\n}\\nquadruple {\\nsmall-title, text, btn-green\\n}\\nquadruple {\\nsmall-title, text, btn-red\\n}\\nquadruple {\\nsmall-title, text, btn-green\\n}\\n}\\nrow {\\ndouble {\\nsmall-title, text, btn-red\\n}\\ndouble {\\nsmall-title, text, btn-green\\n}\\n}\\nrow {\\nsingle {\\nsmall-title, text, btn-red\\n}\\n}\\n', 'header {\\ncart-link\\n}\\nsidebar {\\nmedium-title, ck-box\\n}\\ncanvas-header {\\nbtn-active, btn-inactive, btn-inactive, btn-inactive\\n}\\nrow {\\ndouble {\\nsmall-title, text, btn-green\\n}\\ndouble {\\nsmall-title, text, btn-green\\n}\\n}\\nrow {\\nsingle {\\nsmall-title, text, btn-red\\n}\\n}\\n', 'header {\\ncart-link, burger-link\\n}\\nsidebar {\\nmedium-title, ck-box, dropdn, slider, rating\\n}\\ncanvas-header {\\nbtn-inactive, btn-inactive, btn-inactive, btn-inactive, btn-active\\n}\\nrow {\\nquadruple {\\nsmall-title, text, btn-red\\n}\\nquadruple {\\nsmall-title, text, btn-red\\n}\\nquadruple {\\nsmall-title, text, btn-red\\n}\\nquadruple {\\nsmall-title, text, btn-green\\n}\\n}\\n', 'header {\\nsearch-bar\\n}\\nsidebar {\\nmedium-title, ck-box, radio, dropdn\\n}\\ncanvas-header {\\nbtn-inactive, btn-inactive, btn-active\\n}\\nrow {\\nquadruple {\\nsmall-title, text, btn-green\\n}\\nquadruple {\\nsmall-title, text, btn-red\\n}\\nquadruple {\\nsmall-title, text, btn-green\\n}\\nquadruple {\\nsmall-title, text, btn-orange\\n}\\n}\\nrow {\\nsingle {\\nsmall-title, text, btn-red\\n}\\n}\\n', 'header {\\ncart-link, burger-link\\n}\\nsidebar {\\nmedium-title, dropdn, slider\\n}\\ncanvas-header {\\nbtn-inactive, btn-active, btn-inactive, btn-inactive\\n}\\nrow {\\nquadruple {\\nsmall-title, text, btn-orange\\n}\\nquadruple {\\nsmall-title, text, btn-orange\\n}\\nquadruple {\\nsmall-title, text, btn-green\\n}\\nquadruple {\\nsmall-title, text, btn-orange\\n}\\n}\\nrow {\\ndouble {\\nsmall-title, text, btn-red\\n}\\ndouble {\\nsmall-title, text, btn-red\\n}\\n}\\n', 'header {\\ncart-link, burger-link\\n}\\nsidebar {\\nrating, icons\\n}\\ncanvas-header {\\nbtn-inactive, btn-inactive, btn-inactive, btn-inactive, btn-active\\n}\\nrow {\\nquadruple {\\nsmall-title, text, btn-orange\\n}\\nquadruple {\\nsmall-title, text, btn-red\\n}\\nquadruple {\\nsmall-title, text, btn-green\\n}\\nquadruple {\\nsmall-title, text, btn-red\\n}\\n}\\nrow {\\nsingle {\\nsmall-title, text, btn-orange\\n}\\n}\\n', 'header {\\nburger-link\\n}\\nsidebar {\\nck-box, radio, dropdn, slider, rating, icons\\n}\\ncanvas-header {\\nbtn-active, btn-inactive, btn-inactive, btn-inactive\\n}\\nrow {\\ndouble {\\nsmall-title, text, btn-red\\n}\\ndouble {\\nsmall-title, text, btn-orange\\n}\\n}\\n', 'header {\\npage-title, cart-link, burger-link\\n}\\nsidebar {\\ndropdn, icons\\n}\\ncanvas-header {\\nbtn-inactive, btn-inactive, btn-inactive, btn-active\\n}\\nrow {\\ndouble {\\nsmall-title, text, btn-orange\\n}\\ndouble {\\nsmall-title, text, btn-orange\\n}\\n}\\n', 'header {\\npage-title, cart-link\\n}\\nsidebar {\\nmedium-title, dropdn\\n}\\ncanvas-header {\\nbtn-active, btn-inactive\\n}\\nrow {\\nquadruple {\\nsmall-title, text, btn-green\\n}\\nquadruple {\\nsmall-title, text, btn-red\\n}\\nquadruple {\\nsmall-title, text, btn-green\\n}\\nquadruple {\\nsmall-title, text, btn-red\\n}\\n}\\nrow {\\ndouble {\\nsmall-title, text, btn-orange\\n}\\ndouble {\\nsmall-title, text, btn-red\\n}\\n}\\n', 'header {\\npage-title, search-bar\\n}\\nsidebar {\\nmedium-title, radio, slider, icons\\n}\\ncanvas-header {\\nbtn-inactive, btn-inactive, btn-active\\n}\\nrow {\\nquadruple {\\nsmall-title, text, btn-red\\n}\\nquadruple {\\nsmall-title, text, btn-green\\n}\\nquadruple {\\nsmall-title, text, btn-orange\\n}\\nquadruple {\\nsmall-title, text, btn-green\\n}\\n}\\nrow {\\ndouble {\\nsmall-title, text, btn-red\\n}\\ndouble {\\nsmall-title, text, btn-red\\n}\\n}\\n', 'header {\\npage-title\\n}\\nsidebar {\\nck-box, radio, slider\\n}\\ncanvas-header {\\nbtn-inactive, btn-inactive, btn-inactive, btn-active, btn-inactive\\n}\\nrow {\\nquadruple {\\nsmall-title, text, btn-green\\n}\\nquadruple {\\nsmall-title, text, btn-green\\n}\\nquadruple {\\nsmall-title, text, btn-orange\\n}\\nquadruple {\\nsmall-title, text, btn-green\\n}\\n}\\nrow {\\nsingle {\\nsmall-title, text, btn-green\\n}\\n}\\n', 'header {\\npage-title, search-bar\\n}\\nsidebar {\\nmedium-title, radio, slider, rating\\n}\\ncanvas-header {\\nbtn-inactive, btn-inactive, btn-active, btn-inactive, btn-inactive\\n}\\nrow {\\nsingle {\\nsmall-title, text, btn-red\\n}\\n}\\n', 'header {\\nburger-link\\n}\\nsidebar {\\nmedium-title, ck-box, slider, icons\\n}\\ncanvas-header {\\nbtn-inactive, btn-inactive, btn-active, btn-inactive, btn-inactive\\n}\\nrow {\\nquadruple {\\nsmall-title, text, btn-red\\n}\\nquadruple {\\nsmall-title, text, btn-red\\n}\\nquadruple {\\nsmall-title, text, btn-green\\n}\\nquadruple {\\nsmall-title, text, btn-red\\n}\\n}\\nrow {\\nsingle {\\nsmall-title, text, btn-red\\n}\\n}\\n', 'header {\\nsearch-bar\\n}\\nsidebar {\\nmedium-title, radio, slider, rating, icons\\n}\\ncanvas-header {\\nbtn-inactive, btn-inactive, btn-active, btn-inactive\\n}\\n', 'header {\\npage-title, search-bar, burger-link\\n}\\nsidebar {\\nmedium-title, radio, dropdn, slider, icons\\n}\\ncanvas-header {\\nbtn-inactive, btn-inactive, btn-inactive, btn-active, btn-inactive\\n}\\nrow {\\nquadruple {\\nsmall-title, text, btn-orange\\n}\\nquadruple {\\nsmall-title, text, btn-orange\\n}\\nquadruple {\\nsmall-title, text, btn-red\\n}\\nquadruple {\\nsmall-title, text, btn-red\\n}\\n}\\n', 'header {\\nsearch-bar, cart-link\\n}\\nsidebar {\\nck-box, radio, rating\\n}\\ncanvas-header {\\nbtn-active\\n}\\nrow {\\ndouble {\\nsmall-title, text, btn-green\\n}\\ndouble {\\nsmall-title, text, btn-green\\n}\\n}\\nrow {\\nsingle {\\nsmall-title, text, btn-green\\n}\\n}\\n', 'header {\\nsearch-bar, burger-link\\n}\\nsidebar {\\nmedium-title, ck-box, radio, dropdn, rating\\n}\\ncanvas-header {\\nbtn-inactive, btn-inactive, btn-active\\n}\\nrow {\\nquadruple {\\nsmall-title, text, btn-red\\n}\\nquadruple {\\nsmall-title, text, btn-green\\n}\\nquadruple {\\nsmall-title, text, btn-red\\n}\\nquadruple {\\nsmall-title, text, btn-red\\n}\\n}\\nrow {\\ndouble {\\nsmall-title, text, btn-orange\\n}\\ndouble {\\nsmall-title, text, btn-orange\\n}\\n}\\nrow {\\nsingle {\\nsmall-title, text, btn-red\\n}\\n}\\n', 'header {\\nsearch-bar, cart-link, burger-link\\n}\\nsidebar {\\nmedium-title, radio, dropdn, slider, icons\\n}\\ncanvas-header {\\nbtn-inactive, btn-active, btn-inactive, btn-inactive, btn-inactive\\n}\\nrow {\\ndouble {\\nsmall-title, text, btn-orange\\n}\\ndouble {\\nsmall-title, text, btn-orange\\n}\\n}\\n', 'header {\\npage-title, search-bar, cart-link, burger-link\\n}\\nsidebar {\\nicons\\n}\\ncanvas-header {\\nbtn-inactive, btn-inactive, btn-inactive, btn-active, btn-inactive\\n}\\nrow {\\ndouble {\\nsmall-title, text, btn-red\\n}\\ndouble {\\nsmall-title, text, btn-orange\\n}\\n}\\nrow {\\nsingle {\\nsmall-title, text, btn-orange\\n}\\n}\\n', 'header {\\npage-title, search-bar, burger-link\\n}\\nsidebar {\\nck-box, radio, dropdn, rating, icons\\n}\\ncanvas-header {\\nbtn-inactive, btn-inactive, btn-active\\n}\\nrow {\\nquadruple {\\nsmall-title, text, btn-orange\\n}\\nquadruple {\\nsmall-title, text, btn-red\\n}\\nquadruple {\\nsmall-title, text, btn-orange\\n}\\nquadruple {\\nsmall-title, text, btn-green\\n}\\n}\\n', 'header {\\npage-title, search-bar, cart-link\\n}\\nsidebar {\\nmedium-title, radio, rating\\n}\\ncanvas-header {\\nbtn-inactive, btn-inactive, btn-active\\n}\\nrow {\\nsingle {\\nsmall-title, text, btn-orange\\n}\\n}\\n', 'header {\\npage-title, cart-link, burger-link\\n}\\nsidebar {\\ndropdn, slider, rating, icons\\n}\\ncanvas-header {\\nbtn-inactive, btn-active\\n}\\nrow {\\nquadruple {\\nsmall-title, text, btn-red\\n}\\nquadruple {\\nsmall-title, text, btn-orange\\n}\\nquadruple {\\nsmall-title, text, btn-green\\n}\\nquadruple {\\nsmall-title, text, btn-green\\n}\\n}\\nrow {\\nsingle {\\nsmall-title, text, btn-orange\\n}\\n}\\n', 'header {\\ncart-link, burger-link\\n}\\nsidebar {\\nck-box, radio, rating, icons\\n}\\ncanvas-header {\\nbtn-active, btn-inactive\\n}\\nrow {\\nquadruple {\\nsmall-title, text, btn-red\\n}\\nquadruple {\\nsmall-title, text, btn-red\\n}\\nquadruple {\\nsmall-title, text, btn-green\\n}\\nquadruple {\\nsmall-title, text, btn-red\\n}\\n}\\nrow {\\ndouble {\\nsmall-title, text, btn-orange\\n}\\ndouble {\\nsmall-title, text, btn-red\\n}\\n}\\nrow {\\nsingle {\\nsmall-title, text, btn-red\\n}\\n}\\n', 'header {\\npage-title, cart-link\\n}\\nsidebar {\\nslider, rating, icons\\n}\\ncanvas-header {\\nbtn-inactive, btn-inactive, btn-inactive, btn-active\\n}\\nrow {\\ndouble {\\nsmall-title, text, btn-red\\n}\\ndouble {\\nsmall-title, text, btn-green\\n}\\n}\\n', 'header {\\npage-title, search-bar, burger-link\\n}\\nsidebar {\\nmedium-title, dropdn, slider, rating\\n}\\ncanvas-header {\\nbtn-active, btn-inactive, btn-inactive, btn-inactive, btn-inactive\\n}\\nrow {\\ndouble {\\nsmall-title, text, btn-green\\n}\\ndouble {\\nsmall-title, text, btn-green\\n}\\n}\\n', 'header {\\nsearch-bar\\n}\\nsidebar {\\nmedium-title, ck-box, radio, dropdn, slider, icons\\n}\\ncanvas-header {\\nbtn-inactive, btn-active, btn-inactive\\n}\\nrow {\\nquadruple {\\nsmall-title, text, btn-orange\\n}\\nquadruple {\\nsmall-title, text, btn-red\\n}\\nquadruple {\\nsmall-title, text, btn-red\\n}\\nquadruple {\\nsmall-title, text, btn-red\\n}\\n}\\nrow {\\nsingle {\\nsmall-title, text, btn-red\\n}\\n}\\n', 'header {\\ncart-link, burger-link\\n}\\nsidebar {\\nmedium-title, ck-box, radio, slider, rating, icons\\n}\\ncanvas-header {\\nbtn-inactive, btn-inactive, btn-inactive, btn-active, btn-inactive\\n}\\nrow {\\ndouble {\\nsmall-title, text, btn-orange\\n}\\ndouble {\\nsmall-title, text, btn-red\\n}\\n}\\n', 'header {\\nsearch-bar\\n}\\nsidebar {\\nck-box, slider, icons\\n}\\ncanvas-header {\\nbtn-active, btn-inactive, btn-inactive\\n}\\n', 'header {\\nsearch-bar, cart-link\\n}\\nsidebar {\\nmedium-title, ck-box, radio, slider, rating, icons\\n}\\ncanvas-header {\\nbtn-inactive, btn-inactive, btn-active, btn-inactive, btn-inactive\\n}\\nrow {\\nquadruple {\\nsmall-title, text, btn-green\\n}\\nquadruple {\\nsmall-title, text, btn-orange\\n}\\nquadruple {\\nsmall-title, text, btn-green\\n}\\nquadruple {\\nsmall-title, text, btn-orange\\n}\\n}\\nrow {\\ndouble {\\nsmall-title, text, btn-orange\\n}\\ndouble {\\nsmall-title, text, btn-red\\n}\\n}\\n', 'header {\\npage-title, search-bar, cart-link, burger-link\\n}\\nsidebar {\\nmedium-title, dropdn, slider\\n}\\ncanvas-header {\\nbtn-active, btn-inactive, btn-inactive\\n}\\nrow {\\nsingle {\\nsmall-title, text, btn-red\\n}\\n}\\n', 'header {\\npage-title, search-bar, burger-link\\n}\\nsidebar {\\nck-box, icons\\n}\\ncanvas-header {\\nbtn-active, btn-inactive, btn-inactive, btn-inactive, btn-inactive\\n}\\nrow {\\nquadruple {\\nsmall-title, text, btn-red\\n}\\nquadruple {\\nsmall-title, text, btn-green\\n}\\nquadruple {\\nsmall-title, text, btn-green\\n}\\nquadruple {\\nsmall-title, text, btn-green\\n}\\n}\\nrow {\\ndouble {\\nsmall-title, text, btn-red\\n}\\ndouble {\\nsmall-title, text, btn-red\\n}\\n}\\nrow {\\nsingle {\\nsmall-title, text, btn-green\\n}\\n}\\n', 'header {\\npage-title, search-bar, burger-link\\n}\\nsidebar {\\nradio, slider, rating\\n}\\ncanvas-header {\\nbtn-inactive, btn-active, btn-inactive, btn-inactive\\n}\\nrow {\\nquadruple {\\nsmall-title, text, btn-orange\\n}\\nquadruple {\\nsmall-title, text, btn-green\\n}\\nquadruple {\\nsmall-title, text, btn-red\\n}\\nquadruple {\\nsmall-title, text, btn-orange\\n}\\n}\\nrow {\\ndouble {\\nsmall-title, text, btn-orange\\n}\\ndouble {\\nsmall-title, text, btn-red\\n}\\n}\\n', 'header {\\nsearch-bar\\n}\\nsidebar {\\nmedium-title, ck-box, radio, dropdn, rating, icons\\n}\\ncanvas-header {\\nbtn-inactive, btn-inactive, btn-inactive, btn-active, btn-inactive\\n}\\n', 'header {\\npage-title, search-bar, cart-link, burger-link\\n}\\nsidebar {\\nmedium-title, ck-box, radio, slider, icons\\n}\\ncanvas-header {\\nbtn-active, btn-inactive, btn-inactive, btn-inactive\\n}\\nrow {\\nquadruple {\\nsmall-title, text, btn-red\\n}\\nquadruple {\\nsmall-title, text, btn-orange\\n}\\nquadruple {\\nsmall-title, text, btn-red\\n}\\nquadruple {\\nsmall-title, text, btn-orange\\n}\\n}\\nrow {\\ndouble {\\nsmall-title, text, btn-green\\n}\\ndouble {\\nsmall-title, text, btn-orange\\n}\\n}\\n', 'header {\\nsearch-bar, cart-link\\n}\\nsidebar {\\nck-box, radio, icons\\n}\\ncanvas-header {\\nbtn-active, btn-inactive, btn-inactive, btn-inactive, btn-inactive\\n}\\nrow {\\nquadruple {\\nsmall-title, text, btn-green\\n}\\nquadruple {\\nsmall-title, text, btn-orange\\n}\\nquadruple {\\nsmall-title, text, btn-red\\n}\\nquadruple {\\nsmall-title, text, btn-green\\n}\\n}\\nrow {\\ndouble {\\nsmall-title, text, btn-green\\n}\\ndouble {\\nsmall-title, text, btn-green\\n}\\n}\\nrow {\\nsingle {\\nsmall-title, text, btn-green\\n}\\n}\\n', 'header {\\npage-title, burger-link\\n}\\nsidebar {\\nmedium-title, ck-box, dropdn, rating\\n}\\ncanvas-header {\\nbtn-inactive, btn-active, btn-inactive\\n}\\nrow {\\nquadruple {\\nsmall-title, text, btn-red\\n}\\nquadruple {\\nsmall-title, text, btn-red\\n}\\nquadruple {\\nsmall-title, text, btn-green\\n}\\nquadruple {\\nsmall-title, text, btn-green\\n}\\n}\\nrow {\\ndouble {\\nsmall-title, text, btn-green\\n}\\ndouble {\\nsmall-title, text, btn-orange\\n}\\n}\\n', 'header {\\nsearch-bar, cart-link\\n}\\nsidebar {\\nmedium-title, dropdn, slider\\n}\\ncanvas-header {\\nbtn-inactive, btn-active\\n}\\nrow {\\ndouble {\\nsmall-title, text, btn-green\\n}\\ndouble {\\nsmall-title, text, btn-red\\n}\\n}\\nrow {\\nsingle {\\nsmall-title, text, btn-orange\\n}\\n}\\n', 'header {\\npage-title, search-bar, cart-link\\n}\\nsidebar {\\nmedium-title, ck-box, radio, icons\\n}\\ncanvas-header {\\nbtn-active, btn-inactive, btn-inactive\\n}\\nrow {\\nquadruple {\\nsmall-title, text, btn-green\\n}\\nquadruple {\\nsmall-title, text, btn-green\\n}\\nquadruple {\\nsmall-title, text, btn-orange\\n}\\nquadruple {\\nsmall-title, text, btn-red\\n}\\n}\\nrow {\\ndouble {\\nsmall-title, text, btn-orange\\n}\\ndouble {\\nsmall-title, text, btn-green\\n}\\n}\\nrow {\\nsingle {\\nsmall-title, text, btn-orange\\n}\\n}\\n', 'header {\\nsearch-bar, cart-link\\n}\\nsidebar {\\nck-box, icons\\n}\\ncanvas-header {\\nbtn-inactive, btn-inactive, btn-active\\n}\\nrow {\\nquadruple {\\nsmall-title, text, btn-red\\n}\\nquadruple {\\nsmall-title, text, btn-green\\n}\\nquadruple {\\nsmall-title, text, btn-green\\n}\\nquadruple {\\nsmall-title, text, btn-red\\n}\\n}\\n', 'header {\\npage-title, cart-link, burger-link\\n}\\nsidebar {\\nck-box, radio, dropdn, icons\\n}\\ncanvas-header {\\nbtn-inactive, btn-inactive, btn-inactive, btn-inactive, btn-active\\n}\\nrow {\\nquadruple {\\nsmall-title, text, btn-red\\n}\\nquadruple {\\nsmall-title, text, btn-red\\n}\\nquadruple {\\nsmall-title, text, btn-orange\\n}\\nquadruple {\\nsmall-title, text, btn-red\\n}\\n}\\nrow {\\ndouble {\\nsmall-title, text, btn-red\\n}\\ndouble {\\nsmall-title, text, btn-red\\n}\\n}\\nrow {\\nsingle {\\nsmall-title, text, btn-green\\n}\\n}\\n', 'header {\\npage-title, search-bar, burger-link\\n}\\nsidebar {\\nck-box, radio, slider, icons\\n}\\ncanvas-header {\\nbtn-active, btn-inactive, btn-inactive, btn-inactive\\n}\\nrow {\\nquadruple {\\nsmall-title, text, btn-red\\n}\\nquadruple {\\nsmall-title, text, btn-red\\n}\\nquadruple {\\nsmall-title, text, btn-green\\n}\\nquadruple {\\nsmall-title, text, btn-red\\n}\\n}\\n', 'header {\\ncart-link, burger-link\\n}\\nsidebar {\\nmedium-title, radio, dropdn, slider, icons\\n}\\ncanvas-header {\\nbtn-active, btn-inactive, btn-inactive, btn-inactive, btn-inactive\\n}\\nrow {\\ndouble {\\nsmall-title, text, btn-green\\n}\\ndouble {\\nsmall-title, text, btn-red\\n}\\n}\\n', 'header {\\npage-title, burger-link\\n}\\nsidebar {\\nmedium-title, ck-box, dropdn, slider\\n}\\ncanvas-header {\\nbtn-active, btn-inactive, btn-inactive, btn-inactive, btn-inactive\\n}\\n', 'header {\\nsearch-bar, cart-link\\n}\\nsidebar {\\nck-box, radio, dropdn, icons\\n}\\ncanvas-header {\\nbtn-inactive, btn-inactive, btn-active, btn-inactive, btn-inactive\\n}\\n', 'header {\\nsearch-bar, cart-link\\n}\\nsidebar {\\nmedium-title, radio, dropdn, slider, rating, icons\\n}\\ncanvas-header {\\nbtn-active, btn-inactive\\n}\\nrow {\\nquadruple {\\nsmall-title, text, btn-red\\n}\\nquadruple {\\nsmall-title, text, btn-red\\n}\\nquadruple {\\nsmall-title, text, btn-green\\n}\\nquadruple {\\nsmall-title, text, btn-orange\\n}\\n}\\nrow {\\nsingle {\\nsmall-title, text, btn-red\\n}\\n}\\n', 'header {\\npage-title, search-bar\\n}\\nsidebar {\\nmedium-title, radio, dropdn, slider, rating\\n}\\ncanvas-header {\\nbtn-active, btn-inactive, btn-inactive, btn-inactive\\n}\\nrow {\\ndouble {\\nsmall-title, text, btn-orange\\n}\\ndouble {\\nsmall-title, text, btn-red\\n}\\n}\\n', 'header {\\npage-title, burger-link\\n}\\nsidebar {\\nmedium-title, ck-box, dropdn, icons\\n}\\ncanvas-header {\\nbtn-active, btn-inactive\\n}\\nrow {\\nquadruple {\\nsmall-title, text, btn-green\\n}\\nquadruple {\\nsmall-title, text, btn-green\\n}\\nquadruple {\\nsmall-title, text, btn-orange\\n}\\nquadruple {\\nsmall-title, text, btn-green\\n}\\n}\\nrow {\\nsingle {\\nsmall-title, text, btn-orange\\n}\\n}\\n', 'header {\\ncart-link\\n}\\nsidebar {\\nmedium-title, ck-box, slider, rating, icons\\n}\\ncanvas-header {\\nbtn-inactive, btn-inactive, btn-inactive, btn-active, btn-inactive\\n}\\nrow {\\nquadruple {\\nsmall-title, text, btn-green\\n}\\nquadruple {\\nsmall-title, text, btn-green\\n}\\nquadruple {\\nsmall-title, text, btn-green\\n}\\nquadruple {\\nsmall-title, text, btn-orange\\n}\\n}\\nrow {\\nsingle {\\nsmall-title, text, btn-orange\\n}\\n}\\n', 'header {\\nsearch-bar, burger-link\\n}\\nsidebar {\\nck-box, radio, slider, rating, icons\\n}\\ncanvas-header {\\nbtn-inactive, btn-inactive, btn-inactive, btn-active\\n}\\nrow {\\nquadruple {\\nsmall-title, text, btn-red\\n}\\nquadruple {\\nsmall-title, text, btn-red\\n}\\nquadruple {\\nsmall-title, text, btn-green\\n}\\nquadruple {\\nsmall-title, text, btn-green\\n}\\n}\\nrow {\\ndouble {\\nsmall-title, text, btn-orange\\n}\\ndouble {\\nsmall-title, text, btn-green\\n}\\n}\\nrow {\\nsingle {\\nsmall-title, text, btn-orange\\n}\\n}\\n', 'header {\\nsearch-bar, burger-link\\n}\\nsidebar {\\nmedium-title, radio, dropdn\\n}\\ncanvas-header {\\nbtn-inactive, btn-active, btn-inactive, btn-inactive, btn-inactive\\n}\\nrow {\\nquadruple {\\nsmall-title, text, btn-orange\\n}\\nquadruple {\\nsmall-title, text, btn-orange\\n}\\nquadruple {\\nsmall-title, text, btn-orange\\n}\\nquadruple {\\nsmall-title, text, btn-green\\n}\\n}\\nrow {\\ndouble {\\nsmall-title, text, btn-orange\\n}\\ndouble {\\nsmall-title, text, btn-red\\n}\\n}\\nrow {\\nsingle {\\nsmall-title, text, btn-orange\\n}\\n}\\n', 'header {\\npage-title, search-bar\\n}\\nsidebar {\\nck-box, radio, dropdn, rating\\n}\\ncanvas-header {\\nbtn-inactive, btn-inactive, btn-inactive, btn-inactive, btn-active\\n}\\nrow {\\nquadruple {\\nsmall-title, text, btn-red\\n}\\nquadruple {\\nsmall-title, text, btn-orange\\n}\\nquadruple {\\nsmall-title, text, btn-green\\n}\\nquadruple {\\nsmall-title, text, btn-orange\\n}\\n}\\nrow {\\ndouble {\\nsmall-title, text, btn-orange\\n}\\ndouble {\\nsmall-title, text, btn-green\\n}\\n}\\n', 'header {\\npage-title, cart-link, burger-link\\n}\\nsidebar {\\nmedium-title\\n}\\ncanvas-header {\\nbtn-inactive, btn-inactive, btn-inactive, btn-active, btn-inactive\\n}\\nrow {\\nsingle {\\nsmall-title, text, btn-green\\n}\\n}\\n', 'header {\\npage-title, search-bar, cart-link, burger-link\\n}\\nsidebar {\\nmedium-title, dropdn, rating, icons\\n}\\ncanvas-header {\\nbtn-active, btn-inactive, btn-inactive\\n}\\nrow {\\nquadruple {\\nsmall-title, text, btn-red\\n}\\nquadruple {\\nsmall-title, text, btn-orange\\n}\\nquadruple {\\nsmall-title, text, btn-red\\n}\\nquadruple {\\nsmall-title, text, btn-red\\n}\\n}\\nrow {\\ndouble {\\nsmall-title, text, btn-green\\n}\\ndouble {\\nsmall-title, text, btn-green\\n}\\n}\\n', 'header {\\npage-title, search-bar, burger-link\\n}\\nsidebar {\\nradio, slider, rating\\n}\\ncanvas-header {\\nbtn-inactive, btn-active, btn-inactive\\n}\\nrow {\\ndouble {\\nsmall-title, text, btn-green\\n}\\ndouble {\\nsmall-title, text, btn-red\\n}\\n}\\n', 'header {\\nsearch-bar\\n}\\nsidebar {\\nradio, dropdn, slider\\n}\\ncanvas-header {\\nbtn-inactive, btn-inactive, btn-active, btn-inactive\\n}\\nrow {\\nquadruple {\\nsmall-title, text, btn-green\\n}\\nquadruple {\\nsmall-title, text, btn-orange\\n}\\nquadruple {\\nsmall-title, text, btn-red\\n}\\nquadruple {\\nsmall-title, text, btn-green\\n}\\n}\\n', 'header {\\npage-title\\n}\\nsidebar {\\nck-box, radio, icons\\n}\\ncanvas-header {\\nbtn-active, btn-inactive, btn-inactive, btn-inactive, btn-inactive\\n}\\nrow {\\nsingle {\\nsmall-title, text, btn-red\\n}\\n}\\n', 'header {\\npage-title, search-bar, burger-link\\n}\\nsidebar {\\nradio, dropdn, icons\\n}\\ncanvas-header {\\nbtn-active\\n}\\nrow {\\nquadruple {\\nsmall-title, text, btn-orange\\n}\\nquadruple {\\nsmall-title, text, btn-orange\\n}\\nquadruple {\\nsmall-title, text, btn-orange\\n}\\nquadruple {\\nsmall-title, text, btn-green\\n}\\n}\\n', 'header {\\nburger-link\\n}\\nsidebar {\\nmedium-title, rating, icons\\n}\\ncanvas-header {\\nbtn-inactive, btn-active, btn-inactive, btn-inactive, btn-inactive\\n}\\nrow {\\ndouble {\\nsmall-title, text, btn-red\\n}\\ndouble {\\nsmall-title, text, btn-red\\n}\\n}\\n', 'header {\\npage-title, cart-link\\n}\\nsidebar {\\nmedium-title, dropdn, rating, icons\\n}\\ncanvas-header {\\nbtn-active\\n}\\nrow {\\nquadruple {\\nsmall-title, text, btn-red\\n}\\nquadruple {\\nsmall-title, text, btn-green\\n}\\nquadruple {\\nsmall-title, text, btn-green\\n}\\nquadruple {\\nsmall-title, text, btn-red\\n}\\n}\\n', 'header {\\npage-title, search-bar, burger-link\\n}\\nsidebar {\\nmedium-title, ck-box, radio, dropdn, slider, rating\\n}\\ncanvas-header {\\nbtn-inactive, btn-inactive, btn-active\\n}\\nrow {\\nquadruple {\\nsmall-title, text, btn-red\\n}\\nquadruple {\\nsmall-title, text, btn-orange\\n}\\nquadruple {\\nsmall-title, text, btn-green\\n}\\nquadruple {\\nsmall-title, text, btn-orange\\n}\\n}\\nrow {\\ndouble {\\nsmall-title, text, btn-green\\n}\\ndouble {\\nsmall-title, text, btn-orange\\n}\\n}\\n', 'header {\\npage-title, burger-link\\n}\\nsidebar {\\nck-box, dropdn, slider, rating\\n}\\ncanvas-header {\\nbtn-inactive, btn-inactive, btn-inactive, btn-active\\n}\\n', 'header {\\npage-title, search-bar, cart-link, burger-link\\n}\\nsidebar {\\nck-box, dropdn, rating\\n}\\ncanvas-header {\\nbtn-inactive, btn-active, btn-inactive, btn-inactive\\n}\\nrow {\\nquadruple {\\nsmall-title, text, btn-red\\n}\\nquadruple {\\nsmall-title, text, btn-orange\\n}\\nquadruple {\\nsmall-title, text, btn-green\\n}\\nquadruple {\\nsmall-title, text, btn-orange\\n}\\n}\\nrow {\\ndouble {\\nsmall-title, text, btn-red\\n}\\ndouble {\\nsmall-title, text, btn-green\\n}\\n}\\nrow {\\nsingle {\\nsmall-title, text, btn-red\\n}\\n}\\n', 'header {\\npage-title, search-bar, cart-link\\n}\\nsidebar {\\nck-box, dropdn, slider, rating, icons\\n}\\ncanvas-header {\\nbtn-inactive, btn-inactive, btn-active, btn-inactive, btn-inactive\\n}\\nrow {\\nquadruple {\\nsmall-title, text, btn-orange\\n}\\nquadruple {\\nsmall-title, text, btn-green\\n}\\nquadruple {\\nsmall-title, text, btn-orange\\n}\\nquadruple {\\nsmall-title, text, btn-red\\n}\\n}\\n', 'header {\\npage-title, search-bar, cart-link\\n}\\nsidebar {\\nradio, dropdn, rating\\n}\\ncanvas-header {\\nbtn-active, btn-inactive, btn-inactive\\n}\\nrow {\\nquadruple {\\nsmall-title, text, btn-orange\\n}\\nquadruple {\\nsmall-title, text, btn-orange\\n}\\nquadruple {\\nsmall-title, text, btn-orange\\n}\\nquadruple {\\nsmall-title, text, btn-red\\n}\\n}\\nrow {\\ndouble {\\nsmall-title, text, btn-orange\\n}\\ndouble {\\nsmall-title, text, btn-red\\n}\\n}\\n', 'header {\\nsearch-bar, cart-link\\n}\\nsidebar {\\nmedium-title, ck-box, radio, dropdn, rating\\n}\\ncanvas-header {\\nbtn-active, btn-inactive, btn-inactive, btn-inactive\\n}\\nrow {\\nquadruple {\\nsmall-title, text, btn-orange\\n}\\nquadruple {\\nsmall-title, text, btn-green\\n}\\nquadruple {\\nsmall-title, text, btn-red\\n}\\nquadruple {\\nsmall-title, text, btn-red\\n}\\n}\\nrow {\\ndouble {\\nsmall-title, text, btn-red\\n}\\ndouble {\\nsmall-title, text, btn-orange\\n}\\n}\\n', 'header {\\npage-title, search-bar, cart-link, burger-link\\n}\\nsidebar {\\nmedium-title, rating\\n}\\ncanvas-header {\\n}\\nrow {\\ndouble {\\nsmall-title, text, btn-red\\n}\\ndouble {\\nsmall-title, text, btn-red\\n}\\n}\\n', 'header {\\nburger-link\\n}\\nsidebar {\\nradio, slider, rating, icons\\n}\\ncanvas-header {\\nbtn-active, btn-inactive, btn-inactive, btn-inactive\\n}\\nrow {\\nquadruple {\\nsmall-title, text, btn-orange\\n}\\nquadruple {\\nsmall-title, text, btn-green\\n}\\nquadruple {\\nsmall-title, text, btn-orange\\n}\\nquadruple {\\nsmall-title, text, btn-red\\n}\\n}\\nrow {\\nsingle {\\nsmall-title, text, btn-orange\\n}\\n}\\n', 'header {\\nsearch-bar, cart-link\\n}\\nsidebar {\\nmedium-title, dropdn, icons\\n}\\ncanvas-header {\\nbtn-inactive, btn-active, btn-inactive, btn-inactive, btn-inactive\\n}\\n', 'header {\\npage-title, search-bar, cart-link, burger-link\\n}\\nsidebar {\\nmedium-title, ck-box, radio, dropdn\\n}\\ncanvas-header {\\nbtn-inactive, btn-inactive, btn-active, btn-inactive, btn-inactive\\n}\\nrow {\\nsingle {\\nsmall-title, text, btn-green\\n}\\n}\\n', 'header {\\ncart-link, burger-link\\n}\\nsidebar {\\nradio, dropdn, slider, icons\\n}\\ncanvas-header {\\nbtn-inactive, btn-inactive, btn-inactive, btn-active, btn-inactive\\n}\\nrow {\\nquadruple {\\nsmall-title, text, btn-red\\n}\\nquadruple {\\nsmall-title, text, btn-red\\n}\\nquadruple {\\nsmall-title, text, btn-green\\n}\\nquadruple {\\nsmall-title, text, btn-orange\\n}\\n}\\nrow {\\nsingle {\\nsmall-title, text, btn-green\\n}\\n}\\n', 'header {\\nsearch-bar, cart-link, burger-link\\n}\\nsidebar {\\nradio, dropdn, slider, icons\\n}\\ncanvas-header {\\nbtn-active, btn-inactive\\n}\\nrow {\\nquadruple {\\nsmall-title, text, btn-green\\n}\\nquadruple {\\nsmall-title, text, btn-orange\\n}\\nquadruple {\\nsmall-title, text, btn-orange\\n}\\nquadruple {\\nsmall-title, text, btn-orange\\n}\\n}\\nrow {\\ndouble {\\nsmall-title, text, btn-green\\n}\\ndouble {\\nsmall-title, text, btn-red\\n}\\n}\\nrow {\\nsingle {\\nsmall-title, text, btn-red\\n}\\n}\\n', 'header {\\nsearch-bar, cart-link, burger-link\\n}\\nsidebar {\\nck-box, dropdn, rating, icons\\n}\\ncanvas-header {\\nbtn-inactive, btn-inactive, btn-inactive, btn-active, btn-inactive\\n}\\nrow {\\nquadruple {\\nsmall-title, text, btn-green\\n}\\nquadruple {\\nsmall-title, text, btn-orange\\n}\\nquadruple {\\nsmall-title, text, btn-green\\n}\\nquadruple {\\nsmall-title, text, btn-green\\n}\\n}\\n', 'header {\\npage-title, search-bar, cart-link\\n}\\nsidebar {\\nck-box, radio, dropdn, slider\\n}\\ncanvas-header {\\nbtn-inactive, btn-active, btn-inactive, btn-inactive\\n}\\nrow {\\nquadruple {\\nsmall-title, text, btn-green\\n}\\nquadruple {\\nsmall-title, text, btn-green\\n}\\nquadruple {\\nsmall-title, text, btn-orange\\n}\\nquadruple {\\nsmall-title, text, btn-orange\\n}\\n}\\nrow {\\nsingle {\\nsmall-title, text, btn-green\\n}\\n}\\n', 'header {\\nburger-link\\n}\\nsidebar {\\nck-box, radio, dropdn, slider, rating, icons\\n}\\ncanvas-header {\\nbtn-inactive, btn-inactive, btn-inactive, btn-inactive, btn-active\\n}\\nrow {\\nquadruple {\\nsmall-title, text, btn-orange\\n}\\nquadruple {\\nsmall-title, text, btn-orange\\n}\\nquadruple {\\nsmall-title, text, btn-orange\\n}\\nquadruple {\\nsmall-title, text, btn-green\\n}\\n}\\n', 'header {\\ncart-link\\n}\\nsidebar {\\nmedium-title, rating, icons\\n}\\ncanvas-header {\\n}\\nrow {\\ndouble {\\nsmall-title, text, btn-green\\n}\\ndouble {\\nsmall-title, text, btn-green\\n}\\n}\\n', 'header {\\nsearch-bar, burger-link\\n}\\nsidebar {\\nradio, slider, icons\\n}\\ncanvas-header {\\nbtn-active, btn-inactive, btn-inactive\\n}\\nrow {\\ndouble {\\nsmall-title, text, btn-orange\\n}\\ndouble {\\nsmall-title, text, btn-orange\\n}\\n}\\n', 'header {\\npage-title, search-bar, cart-link, burger-link\\n}\\nsidebar {\\nmedium-title, ck-box, radio, dropdn, slider, rating, icons\\n}\\ncanvas-header {\\nbtn-inactive, btn-active, btn-inactive\\n}\\nrow {\\ndouble {\\nsmall-title, text, btn-orange\\n}\\ndouble {\\nsmall-title, text, btn-red\\n}\\n}\\nrow {\\nsingle {\\nsmall-title, text, btn-green\\n}\\n}\\n', 'header {\\npage-title, burger-link\\n}\\nsidebar {\\nmedium-title, ck-box, slider, rating, icons\\n}\\ncanvas-header {\\nbtn-active, btn-inactive, btn-inactive, btn-inactive\\n}\\nrow {\\nsingle {\\nsmall-title, text, btn-orange\\n}\\n}\\n', 'header {\\nsearch-bar, cart-link\\n}\\nsidebar {\\nmedium-title, dropdn, slider, icons\\n}\\ncanvas-header {\\nbtn-active, btn-inactive, btn-inactive, btn-inactive, btn-inactive\\n}\\nrow {\\ndouble {\\nsmall-title, text, btn-red\\n}\\ndouble {\\nsmall-title, text, btn-green\\n}\\n}\\nrow {\\nsingle {\\nsmall-title, text, btn-red\\n}\\n}\\n', 'header {\\nsearch-bar, cart-link\\n}\\nsidebar {\\nmedium-title, radio, icons\\n}\\ncanvas-header {\\nbtn-inactive, btn-inactive, btn-active, btn-inactive\\n}\\nrow {\\nquadruple {\\nsmall-title, text, btn-red\\n}\\nquadruple {\\nsmall-title, text, btn-red\\n}\\nquadruple {\\nsmall-title, text, btn-orange\\n}\\nquadruple {\\nsmall-title, text, btn-red\\n}\\n}\\n', 'header {\\npage-title, cart-link, burger-link\\n}\\nsidebar {\\nck-box, radio, dropdn\\n}\\ncanvas-header {\\nbtn-inactive, btn-active, btn-inactive\\n}\\nrow {\\ndouble {\\nsmall-title, text, btn-red\\n}\\ndouble {\\nsmall-title, text, btn-green\\n}\\n}\\n', 'header {\\nsearch-bar\\n}\\nsidebar {\\nmedium-title, ck-box, slider, rating\\n}\\ncanvas-header {\\nbtn-inactive, btn-active\\n}\\nrow {\\nquadruple {\\nsmall-title, text, btn-red\\n}\\nquadruple {\\nsmall-title, text, btn-red\\n}\\nquadruple {\\nsmall-title, text, btn-red\\n}\\nquadruple {\\nsmall-title, text, btn-orange\\n}\\n}\\nrow {\\nsingle {\\nsmall-title, text, btn-green\\n}\\n}\\n', 'header {\\npage-title, search-bar, cart-link\\n}\\nsidebar {\\nck-box, radio, slider, rating\\n}\\ncanvas-header {\\nbtn-inactive, btn-inactive, btn-inactive, btn-active, btn-inactive\\n}\\nrow {\\nquadruple {\\nsmall-title, text, btn-green\\n}\\nquadruple {\\nsmall-title, text, btn-red\\n}\\nquadruple {\\nsmall-title, text, btn-green\\n}\\nquadruple {\\nsmall-title, text, btn-orange\\n}\\n}\\n', 'header {\\npage-title, burger-link\\n}\\nsidebar {\\nmedium-title, ck-box, dropdn, icons\\n}\\ncanvas-header {\\nbtn-active\\n}\\nrow {\\nquadruple {\\nsmall-title, text, btn-orange\\n}\\nquadruple {\\nsmall-title, text, btn-green\\n}\\nquadruple {\\nsmall-title, text, btn-orange\\n}\\nquadruple {\\nsmall-title, text, btn-orange\\n}\\n}\\nrow {\\ndouble {\\nsmall-title, text, btn-orange\\n}\\ndouble {\\nsmall-title, text, btn-orange\\n}\\n}\\nrow {\\nsingle {\\nsmall-title, text, btn-orange\\n}\\n}\\n', 'header {\\npage-title, search-bar, cart-link\\n}\\nsidebar {\\nck-box, radio, dropdn, slider\\n}\\ncanvas-header {\\nbtn-inactive, btn-inactive, btn-active, btn-inactive\\n}\\nrow {\\nquadruple {\\nsmall-title, text, btn-red\\n}\\nquadruple {\\nsmall-title, text, btn-green\\n}\\nquadruple {\\nsmall-title, text, btn-green\\n}\\nquadruple {\\nsmall-title, text, btn-orange\\n}\\n}\\nrow {\\ndouble {\\nsmall-title, text, btn-red\\n}\\ndouble {\\nsmall-title, text, btn-green\\n}\\n}\\n', 'header {\\nsearch-bar, cart-link\\n}\\nsidebar {\\nslider, rating, icons\\n}\\ncanvas-header {\\nbtn-inactive, btn-inactive, btn-active, btn-inactive\\n}\\nrow {\\ndouble {\\nsmall-title, text, btn-green\\n}\\ndouble {\\nsmall-title, text, btn-green\\n}\\n}\\nrow {\\nsingle {\\nsmall-title, text, btn-orange\\n}\\n}\\n', 'header {\\npage-title, search-bar, cart-link\\n}\\nsidebar {\\nmedium-title, icons\\n}\\ncanvas-header {\\nbtn-inactive, btn-inactive, btn-active, btn-inactive\\n}\\nrow {\\nsingle {\\nsmall-title, text, btn-green\\n}\\n}\\n', 'header {\\nsearch-bar, cart-link\\n}\\nsidebar {\\nck-box, dropdn\\n}\\ncanvas-header {\\nbtn-inactive, btn-inactive, btn-active, btn-inactive, btn-inactive\\n}\\n', 'header {\\npage-title, search-bar\\n}\\nsidebar {\\nck-box, radio, rating, icons\\n}\\ncanvas-header {\\n}\\nrow {\\ndouble {\\nsmall-title, text, btn-red\\n}\\ndouble {\\nsmall-title, text, btn-red\\n}\\n}\\nrow {\\nsingle {\\nsmall-title, text, btn-red\\n}\\n}\\n', 'header {\\npage-title, search-bar\\n}\\nsidebar {\\nck-box, radio, dropdn, rating\\n}\\ncanvas-header {\\nbtn-active, btn-inactive, btn-inactive, btn-inactive\\n}\\nrow {\\nquadruple {\\nsmall-title, text, btn-red\\n}\\nquadruple {\\nsmall-title, text, btn-red\\n}\\nquadruple {\\nsmall-title, text, btn-red\\n}\\nquadruple {\\nsmall-title, text, btn-red\\n}\\n}\\n', 'header {\\nsearch-bar\\n}\\nsidebar {\\nmedium-title, ck-box, slider\\n}\\ncanvas-header {\\nbtn-inactive, btn-inactive, btn-active, btn-inactive\\n}\\n', 'header {\\npage-title, cart-link, burger-link\\n}\\nsidebar {\\nradio, rating, icons\\n}\\ncanvas-header {\\nbtn-active, btn-inactive, btn-inactive\\n}\\n', 'header {\\npage-title\\n}\\nsidebar {\\nmedium-title, ck-box, radio, slider, rating\\n}\\ncanvas-header {\\nbtn-inactive, btn-inactive, btn-inactive, btn-active, btn-inactive\\n}\\nrow {\\nsingle {\\nsmall-title, text, btn-green\\n}\\n}\\n', 'header {\\nsearch-bar, cart-link\\n}\\nsidebar {\\nck-box, radio, slider\\n}\\ncanvas-header {\\nbtn-inactive, btn-inactive, btn-active, btn-inactive\\n}\\nrow {\\ndouble {\\nsmall-title, text, btn-green\\n}\\ndouble {\\nsmall-title, text, btn-red\\n}\\n}\\nrow {\\nsingle {\\nsmall-title, text, btn-orange\\n}\\n}\\n', 'header {\\npage-title, search-bar\\n}\\nsidebar {\\ndropdn, slider, rating\\n}\\ncanvas-header {\\nbtn-active, btn-inactive, btn-inactive\\n}\\n', 'header {\\nsearch-bar, cart-link\\n}\\nsidebar {\\nmedium-title, rating\\n}\\ncanvas-header {\\nbtn-active, btn-inactive, btn-inactive\\n}\\nrow {\\nquadruple {\\nsmall-title, text, btn-green\\n}\\nquadruple {\\nsmall-title, text, btn-orange\\n}\\nquadruple {\\nsmall-title, text, btn-red\\n}\\nquadruple {\\nsmall-title, text, btn-red\\n}\\n}\\n', 'header {\\nsearch-bar, cart-link\\n}\\nsidebar {\\nmedium-title, radio, dropdn, rating\\n}\\ncanvas-header {\\nbtn-active, btn-inactive, btn-inactive, btn-inactive\\n}\\nrow {\\nquadruple {\\nsmall-title, text, btn-green\\n}\\nquadruple {\\nsmall-title, text, btn-orange\\n}\\nquadruple {\\nsmall-title, text, btn-green\\n}\\nquadruple {\\nsmall-title, text, btn-green\\n}\\n}\\nrow {\\ndouble {\\nsmall-title, text, btn-green\\n}\\ndouble {\\nsmall-title, text, btn-green\\n}\\n}\\nrow {\\nsingle {\\nsmall-title, text, btn-orange\\n}\\n}\\n', 'header {\\npage-title, burger-link\\n}\\nsidebar {\\nmedium-title\\n}\\ncanvas-header {\\n}\\nrow {\\ndouble {\\nsmall-title, text, btn-orange\\n}\\ndouble {\\nsmall-title, text, btn-green\\n}\\n}\\nrow {\\nsingle {\\nsmall-title, text, btn-green\\n}\\n}\\n', 'header {\\npage-title, search-bar\\n}\\nsidebar {\\nmedium-title, slider, rating, icons\\n}\\ncanvas-header {\\nbtn-inactive, btn-inactive, btn-inactive, btn-inactive, btn-active\\n}\\nrow {\\nquadruple {\\nsmall-title, text, btn-red\\n}\\nquadruple {\\nsmall-title, text, btn-green\\n}\\nquadruple {\\nsmall-title, text, btn-green\\n}\\nquadruple {\\nsmall-title, text, btn-orange\\n}\\n}\\nrow {\\ndouble {\\nsmall-title, text, btn-red\\n}\\ndouble {\\nsmall-title, text, btn-orange\\n}\\n}\\n', 'header {\\nsearch-bar, cart-link, burger-link\\n}\\nsidebar {\\nck-box, radio, dropdn, slider, rating, icons\\n}\\ncanvas-header {\\nbtn-inactive, btn-active\\n}\\nrow {\\nquadruple {\\nsmall-title, text, btn-red\\n}\\nquadruple {\\nsmall-title, text, btn-red\\n}\\nquadruple {\\nsmall-title, text, btn-orange\\n}\\nquadruple {\\nsmall-title, text, btn-orange\\n}\\n}\\nrow {\\nsingle {\\nsmall-title, text, btn-red\\n}\\n}\\n', 'header {\\nsearch-bar, burger-link\\n}\\nsidebar {\\nradio, dropdn, rating\\n}\\ncanvas-header {\\nbtn-inactive, btn-active, btn-inactive, btn-inactive\\n}\\nrow {\\ndouble {\\nsmall-title, text, btn-green\\n}\\ndouble {\\nsmall-title, text, btn-red\\n}\\n}\\n', 'header {\\npage-title, search-bar, burger-link\\n}\\nsidebar {\\nmedium-title, radio, rating\\n}\\ncanvas-header {\\nbtn-inactive, btn-active, btn-inactive, btn-inactive, btn-inactive\\n}\\nrow {\\nquadruple {\\nsmall-title, text, btn-orange\\n}\\nquadruple {\\nsmall-title, text, btn-red\\n}\\nquadruple {\\nsmall-title, text, btn-green\\n}\\nquadruple {\\nsmall-title, text, btn-red\\n}\\n}\\nrow {\\ndouble {\\nsmall-title, text, btn-green\\n}\\ndouble {\\nsmall-title, text, btn-green\\n}\\n}\\n', 'header {\\nburger-link\\n}\\nsidebar {\\nmedium-title, radio, rating, icons\\n}\\ncanvas-header {\\nbtn-inactive, btn-inactive, btn-inactive, btn-inactive, btn-active\\n}\\nrow {\\nquadruple {\\nsmall-title, text, btn-orange\\n}\\nquadruple {\\nsmall-title, text, btn-green\\n}\\nquadruple {\\nsmall-title, text, btn-red\\n}\\nquadruple {\\nsmall-title, text, btn-red\\n}\\n}\\nrow {\\nsingle {\\nsmall-title, text, btn-green\\n}\\n}\\n', 'header {\\ncart-link, burger-link\\n}\\nsidebar {\\nck-box, icons\\n}\\ncanvas-header {\\nbtn-inactive, btn-active, btn-inactive, btn-inactive, btn-inactive\\n}\\nrow {\\nquadruple {\\nsmall-title, text, btn-red\\n}\\nquadruple {\\nsmall-title, text, btn-green\\n}\\nquadruple {\\nsmall-title, text, btn-green\\n}\\nquadruple {\\nsmall-title, text, btn-red\\n}\\n}\\nrow {\\nsingle {\\nsmall-title, text, btn-red\\n}\\n}\\n', 'header {\\nburger-link\\n}\\nsidebar {\\nradio, slider, rating\\n}\\ncanvas-header {\\nbtn-active\\n}\\nrow {\\nquadruple {\\nsmall-title, text, btn-orange\\n}\\nquadruple {\\nsmall-title, text, btn-orange\\n}\\nquadruple {\\nsmall-title, text, btn-green\\n}\\nquadruple {\\nsmall-title, text, btn-red\\n}\\n}\\nrow {\\ndouble {\\nsmall-title, text, btn-orange\\n}\\ndouble {\\nsmall-title, text, btn-red\\n}\\n}\\n', 'header {\\ncart-link\\n}\\nsidebar {\\nmedium-title, radio\\n}\\ncanvas-header {\\nbtn-active\\n}\\nrow {\\nquadruple {\\nsmall-title, text, btn-green\\n}\\nquadruple {\\nsmall-title, text, btn-orange\\n}\\nquadruple {\\nsmall-title, text, btn-green\\n}\\nquadruple {\\nsmall-title, text, btn-red\\n}\\n}\\nrow {\\ndouble {\\nsmall-title, text, btn-green\\n}\\ndouble {\\nsmall-title, text, btn-red\\n}\\n}\\n', 'header {\\npage-title, cart-link, burger-link\\n}\\nsidebar {\\nradio, dropdn, slider, rating, icons\\n}\\ncanvas-header {\\nbtn-active, btn-inactive, btn-inactive, btn-inactive\\n}\\nrow {\\nquadruple {\\nsmall-title, text, btn-green\\n}\\nquadruple {\\nsmall-title, text, btn-red\\n}\\nquadruple {\\nsmall-title, text, btn-orange\\n}\\nquadruple {\\nsmall-title, text, btn-orange\\n}\\n}\\nrow {\\ndouble {\\nsmall-title, text, btn-red\\n}\\ndouble {\\nsmall-title, text, btn-green\\n}\\n}\\n', 'header {\\nburger-link\\n}\\nsidebar {\\nicons\\n}\\ncanvas-header {\\nbtn-active\\n}\\nrow {\\nquadruple {\\nsmall-title, text, btn-orange\\n}\\nquadruple {\\nsmall-title, text, btn-orange\\n}\\nquadruple {\\nsmall-title, text, btn-orange\\n}\\nquadruple {\\nsmall-title, text, btn-orange\\n}\\n}\\nrow {\\ndouble {\\nsmall-title, text, btn-green\\n}\\ndouble {\\nsmall-title, text, btn-red\\n}\\n}\\nrow {\\nsingle {\\nsmall-title, text, btn-orange\\n}\\n}\\n', 'header {\\npage-title, search-bar, burger-link\\n}\\nsidebar {\\nmedium-title, radio, slider, icons\\n}\\ncanvas-header {\\nbtn-inactive, btn-inactive, btn-inactive, btn-active\\n}\\n', 'header {\\nsearch-bar\\n}\\nsidebar {\\ndropdn, slider, rating\\n}\\ncanvas-header {\\n}\\nrow {\\nquadruple {\\nsmall-title, text, btn-green\\n}\\nquadruple {\\nsmall-title, text, btn-red\\n}\\nquadruple {\\nsmall-title, text, btn-green\\n}\\nquadruple {\\nsmall-title, text, btn-red\\n}\\n}\\nrow {\\nsingle {\\nsmall-title, text, btn-orange\\n}\\n}\\n']\n"
          ]
        }
      ]
    },
    {
      "cell_type": "code",
      "source": [
        "mapping2={}\n",
        "for line,image in zip(captions_doc2,os.listdir(imgs_path2)):\n",
        "    # print(line,image)\n",
        "    image_id = image.split('.')[0]\n",
        "    # convert caption list to string\n",
        "    # caption = \" \".join(line)\n",
        "    # create list if needed\n",
        "    if image_id not in mapping2:\n",
        "        mapping2[image_id] = []\n",
        "    # store the caption\n",
        "    mapping2[image_id].append(line)"
      ],
      "metadata": {
        "id": "4cKt7fjOWze0"
      },
      "execution_count": 53,
      "outputs": []
    },
    {
      "cell_type": "code",
      "source": [
        "def clean(mapping):\n",
        "    for key, captions in mapping2.items():\n",
        "        for i in range(len(captions)):\n",
        "            # take one caption at a time\n",
        "            caption = captions[i]\n",
        "            # preprocessing steps\n",
        "            # convert to lowercase\n",
        "            caption = caption.lower()\n",
        "            # delete digits, special chars, etc., \n",
        "            caption = caption.replace('[^A-Za-z]', '')\n",
        "            # delete additional spaces\n",
        "            caption = caption.replace('\\s+', ' ')\n",
        "            # add start and end tags to the caption\n",
        "            caption = 'start ' + \" \".join([word for word in caption.split() if len(word)>1]) + ' end'\n",
        "            captions[i] = caption"
      ],
      "metadata": {
        "id": "L2fRRa7qXZ13"
      },
      "execution_count": 54,
      "outputs": []
    },
    {
      "cell_type": "code",
      "source": [
        "clean(mapping2)"
      ],
      "metadata": {
        "id": "Cw7eMMF0XmBc"
      },
      "execution_count": 55,
      "outputs": []
    },
    {
      "cell_type": "code",
      "source": [
        "all_captions2 = []\n",
        "for key in mapping2:\n",
        "    for caption in mapping2[key]:\n",
        "        all_captions2.append(caption)"
      ],
      "metadata": {
        "id": "w26p6JiCXxm4"
      },
      "execution_count": 56,
      "outputs": []
    },
    {
      "cell_type": "code",
      "source": [
        "tokenizer.fit_on_texts(all_captions2)\n",
        "vocab_size2 = len(tokenizer.word_index) + 1"
      ],
      "metadata": {
        "id": "9Qzi_iTNX01A"
      },
      "execution_count": 57,
      "outputs": []
    },
    {
      "cell_type": "code",
      "source": [
        "max_length2 = max(len(caption.split()) for caption in all_captions2)\n",
        "max_length2"
      ],
      "metadata": {
        "colab": {
          "base_uri": "https://localhost:8080/"
        },
        "id": "iONqcbdgYAz4",
        "outputId": "0043f4f6-aba1-491b-a9b1-6eaaae9ae3e5"
      },
      "execution_count": 58,
      "outputs": [
        {
          "output_type": "execute_result",
          "data": {
            "text/plain": [
              "49"
            ]
          },
          "metadata": {},
          "execution_count": 58
        }
      ]
    },
    {
      "cell_type": "code",
      "source": [
        "image_ids2 = list(mapping2.keys())\n",
        "split2 = int(len(image_ids2) * 0.90)\n",
        "train2 = image_ids2[:split2]\n",
        "test2 = image_ids2[split2:]"
      ],
      "metadata": {
        "id": "KUI0RG3mYLCG"
      },
      "execution_count": 59,
      "outputs": []
    },
    {
      "cell_type": "code",
      "source": [
        "# encoder model\n",
        "# image feature layers\n",
        "inputs1 = Input(shape=(4096,))\n",
        "fe1 = Dropout(0.4)(inputs1)\n",
        "fe2 = Dense(256, activation='relu')(fe1)\n",
        "# sequence feature layers\n",
        "inputs2 = Input(shape=(max_length2,))\n",
        "se1 = Embedding(vocab_size2, 256, mask_zero=True)(inputs2)\n",
        "se2 = Dropout(0.4)(se1)\n",
        "se3 = LSTM(256)(se2)\n",
        "\n",
        "# decoder model\n",
        "decoder1 = add([fe2, se3])\n",
        "decoder2 = Dense(256, activation='relu')(decoder1)\n",
        "outputs = Dense(vocab_size2, activation='softmax')(decoder2)\n",
        "\n",
        "model2 = Model(inputs=[inputs1, inputs2], outputs=outputs)\n",
        "model2.compile(loss='categorical_crossentropy', optimizer='adam')\n",
        "\n",
        "# plot the model\n",
        "plot_model(model2, show_shapes=True)"
      ],
      "metadata": {
        "colab": {
          "base_uri": "https://localhost:8080/",
          "height": 754
        },
        "id": "Pb10Zg9VYaHC",
        "outputId": "7a551983-9bb5-420b-9687-0d67c642a3e5"
      },
      "execution_count": 62,
      "outputs": [
        {
          "output_type": "execute_result",
          "data": {
            "text/plain": [
              "<IPython.core.display.Image object>"
            ],
            "image/png": "[encoded data removed]"
          },
          "metadata": {},
          "execution_count": 62
        }
      ]
    },
    {
      "cell_type": "code",
      "source": [
        "# train the model\n",
        "epochs = 10\n",
        "batch_size = 32\n",
        "steps = len(train2) // batch_size\n",
        "\n",
        "for i in range(epochs):\n",
        "    # create data generator\n",
        "    generator = data_generator(train2, mapping2, features2, tokenizer, max_length2, vocab_size2, batch_size)\n",
        "    # fit for one epoch\n",
        "    model2.fit(generator, epochs=1, steps_per_epoch=steps, verbose=1)"
      ],
      "metadata": {
        "colab": {
          "base_uri": "https://localhost:8080/"
        },
        "id": "LvplB2zsYohY",
        "outputId": "deb16f1b-9a25-4e06-ba75-e4c3727023b7"
      },
      "execution_count": 63,
      "outputs": [
        {
          "output_type": "stream",
          "name": "stdout",
          "text": [
            "8/8 [==============================] - 6s 226ms/step - loss: 3.8931\n",
            "8/8 [==============================] - 2s 242ms/step - loss: 3.1111\n",
            "8/8 [==============================] - 2s 231ms/step - loss: 2.8001\n",
            "8/8 [==============================] - 2s 239ms/step - loss: 2.5497\n",
            "8/8 [==============================] - 2s 281ms/step - loss: 2.3680\n",
            "8/8 [==============================] - 2s 272ms/step - loss: 2.1773\n",
            "8/8 [==============================] - 2s 247ms/step - loss: 1.8790\n",
            "8/8 [==============================] - 2s 239ms/step - loss: 1.4932\n",
            "8/8 [==============================] - 2s 236ms/step - loss: 1.1869\n",
            "8/8 [==============================] - 2s 244ms/step - loss: 1.0118\n"
          ]
        }
      ]
    },
    {
      "cell_type": "code",
      "source": [
        "actual2, predicted2 = list(), list()\n",
        "\n",
        "for key in tqdm(test2):\n",
        "    # get actual caption\n",
        "    captions = mapping2[key]\n",
        "    # predict the caption for image\n",
        "    y_pred = predict_caption(model2, features2[key], tokenizer, max_length2) \n",
        "    # split into words\n",
        "    actual_captions = [caption.split() for caption in captions]\n",
        "    y_pred = y_pred.split()\n",
        "    # append to the list\n",
        "    actual2.append(actual_captions)\n",
        "    predicted2.append(y_pred)\n",
        "    \n",
        "# calcuate BLEU score\n",
        "print(\"BLEU-1: %f\" % corpus_bleu(actual2, predicted2, weights=(1.0, 0, 0, 0)))\n",
        "print(\"BLEU-2: %f\" % corpus_bleu(actual2, predicted2, weights=(0.5, 0.5, 0, 0)))"
      ],
      "metadata": {
        "colab": {
          "base_uri": "https://localhost:8080/",
          "height": 292,
          "referenced_widgets": [
            "e9562c28f0c24431b1523a11e8c9b900",
            "e0256ed5454543e9a6f48342edfca68c",
            "df653db3334c46cc8d3367fbd3c8b749",
            "059528737e464f1f87279ab0dfe0c7cc",
            "5b74211f7c6b44f0ab4d4d5bb6035891",
            "c220d5a97bdf45588a515f377a1c8496",
            "12fcdedcb83044819e4434669d6dd507",
            "79fd9642ac5f48309cbbc443c30a2ec0",
            "357934b7c7b043dca57ea907a62ad14d",
            "9d9b69e1b31449659f735a6893535cc4",
            "de40cbe3e1e24628b29518cc0e108e4e"
          ]
        },
        "id": "74Cp2kASZAhi",
        "outputId": "c30f1183-a64c-409e-a170-8f76c9cc99f5"
      },
      "execution_count": 64,
      "outputs": [
        {
          "output_type": "display_data",
          "data": {
            "text/plain": [
              "  0%|          | 0/30 [00:00<?, ?it/s]"
            ],
            "application/vnd.jupyter.widget-view+json": {
              "version_major": 2,
              "version_minor": 0,
              "model_id": "e9562c28f0c24431b1523a11e8c9b900"
            }
          },
          "metadata": {}
        },
        {
          "output_type": "stream",
          "name": "stdout",
          "text": [
            "BLEU-1: 0.159915\n",
            "BLEU-2: 0.083933\n"
          ]
        },
        {
          "output_type": "stream",
          "name": "stderr",
          "text": [
            "/usr/local/lib/python3.7/dist-packages/nltk/translate/bleu_score.py:552: UserWarning: \n",
            "The hypothesis contains 0 counts of 3-gram overlaps.\n",
            "Therefore the BLEU score evaluates to 0, independently of\n",
            "how many N-gram overlaps of lower order it contains.\n",
            "Consider using lower n-gram order or use SmoothingFunction()\n",
            "  warnings.warn(_msg)\n",
            "/usr/local/lib/python3.7/dist-packages/nltk/translate/bleu_score.py:552: UserWarning: \n",
            "The hypothesis contains 0 counts of 4-gram overlaps.\n",
            "Therefore the BLEU score evaluates to 0, independently of\n",
            "how many N-gram overlaps of lower order it contains.\n",
            "Consider using lower n-gram order or use SmoothingFunction()\n",
            "  warnings.warn(_msg)\n"
          ]
        }
      ]
    },
    {
      "cell_type": "markdown",
      "source": [
        "# 2.C"
      ],
      "metadata": {
        "id": "oYp0-F40aF1A"
      }
    },
    {
      "cell_type": "code",
      "source": [
        "imgs_path3='Assignment_Data/D3/IMAGES/'\n",
        "labels_path3='Assignment_Data/D3/TEXT_LABELS/'"
      ],
      "metadata": {
        "id": "BGRqedplaYxo"
      },
      "execution_count": 65,
      "outputs": []
    },
    {
      "cell_type": "code",
      "source": [
        "for filename in sorted(os.listdir(labels_path3)):\n",
        "  full_path=os.path.join(labels_path3,filename)\n",
        "  os.rename(full_path,full_path[:-3]+'txt')"
      ],
      "metadata": {
        "id": "14qvMyNMab3B"
      },
      "execution_count": 66,
      "outputs": []
    },
    {
      "cell_type": "code",
      "source": [
        "def preprocess(imgs_path3,labels_path3):\n",
        "  features3 = {}\n",
        "  # directory = os.path.join(BASE_DIR, 'Images')\n",
        "  directory=imgs_path3\n",
        "\n",
        "  for img_name in tqdm(os.listdir(directory)):\n",
        "      # load the image from file\n",
        "      img_path = directory + '/' + img_name\n",
        "      image = load_img(img_path, target_size=(224, 224))\n",
        "      # convert image pixels to numpy array\n",
        "      image = img_to_array(image)\n",
        "      # reshape data for model\n",
        "      image = image.reshape((1, image.shape[0], image.shape[1], image.shape[2]))\n",
        "      # preprocess image for vgg\n",
        "      image = preprocess_input(image)\n",
        "      # extract features\n",
        "      feature = model_1.predict(image, verbose=0)\n",
        "      # get image ID\n",
        "      image_id = img_name.split('.')[0]\n",
        "      # store feature\n",
        "      features3[image_id] = feature\n",
        "\n",
        "\n",
        "\n",
        "      captions_doc3=[]\n",
        "      for file in os.listdir(labels_path3):\n",
        "\n",
        "\n",
        "          with open(os.path.join(labels_path3,file), 'r') as f:\n",
        "            # next(f)\n",
        "            captions_doc3.append(f.read())\n",
        "      # print(captions_doc2)\n",
        "\n",
        "\n",
        "\n",
        "\n",
        "      mapping3={}\n",
        "      for line,image in zip(captions_doc3,os.listdir(imgs_path3)):\n",
        "          # print(line,image)\n",
        "          image_id = image.split('.')[0]\n",
        "          # convert caption list to string\n",
        "          # caption = \" \".join(line)\n",
        "          # create list if needed\n",
        "          if image_id not in mapping3:\n",
        "              mapping3[image_id] = []\n",
        "          # store the caption\n",
        "          mapping3[image_id].append(line)\n",
        "\n",
        "\n",
        "  return (features3,mapping3)\n",
        "\n",
        "features3,mapping3=preprocess(imgs_path3,labels_path3)"
      ],
      "metadata": {
        "colab": {
          "base_uri": "https://localhost:8080/",
          "height": 49,
          "referenced_widgets": [
            "83b4542dbbfc40379156be7006adfc81",
            "cc09e993729f479d89bb1d61c7e37cf4",
            "bf4e9c250669472eabb6076cf101b5dc",
            "4aeed7da3f1841be997e33de44ced957",
            "defa0f0b3ae449ddb9f3859aa6d430eb",
            "4f871b53fe384f6b84e5a27fe96ba259",
            "531054ee5aa6438398c61f26ae4a8d1b",
            "ff820b23a66d49c79c12d1924be6d0d7",
            "ee4f886053f746a79ea25dee3c7b5a02",
            "abaf4674afb0416da0f439a133fb071c",
            "818ff0f13e5e46e796b3333c06639738"
          ]
        },
        "id": "25vNpIKzaoII",
        "outputId": "e0b2e69c-a168-477d-9108-ad40ae60b86c"
      },
      "execution_count": 76,
      "outputs": [
        {
          "output_type": "display_data",
          "data": {
            "text/plain": [
              "  0%|          | 0/300 [00:00<?, ?it/s]"
            ],
            "application/vnd.jupyter.widget-view+json": {
              "version_major": 2,
              "version_minor": 0,
              "model_id": "83b4542dbbfc40379156be7006adfc81"
            }
          },
          "metadata": {}
        }
      ]
    },
    {
      "cell_type": "code",
      "source": [
        "clean(mapping3)"
      ],
      "metadata": {
        "id": "DfNub0u8cAns"
      },
      "execution_count": 77,
      "outputs": []
    },
    {
      "cell_type": "code",
      "source": [
        "# mapping3"
      ],
      "metadata": {
        "id": "qOEa-jpWcLjE"
      },
      "execution_count": 79,
      "outputs": []
    },
    {
      "cell_type": "code",
      "source": [
        "all_captions3 = []\n",
        "for key in mapping3:\n",
        "    for caption in mapping3[key]:\n",
        "        all_captions3.append(caption)\n",
        "\n",
        "\n",
        "tokenizer.fit_on_texts(all_captions3)\n",
        "vocab_size3 = len(tokenizer.word_index) + 1\n",
        "\n",
        "\n",
        "max_length3 = max(len(caption.split()) for caption in all_captions3)\n",
        "# max_length3\n",
        "\n",
        "image_ids3 = list(mapping3.keys())\n",
        "split3 = int(len(image_ids3) * 0.90)\n",
        "train3 = image_ids3[:split3]\n",
        "test3 = image_ids3[split3:]\n"
      ],
      "metadata": {
        "id": "bH0Zj2nUcTNT"
      },
      "execution_count": 73,
      "outputs": []
    },
    {
      "cell_type": "code",
      "source": [
        "# encoder model\n",
        "# image feature layers\n",
        "inputs1 = Input(shape=(4096,))\n",
        "fe1 = Dropout(0.4)(inputs1)\n",
        "fe2 = Dense(256, activation='relu')(fe1)\n",
        "# sequence feature layers\n",
        "inputs2 = Input(shape=(max_length3,))\n",
        "se1 = Embedding(vocab_size3, 256, mask_zero=True)(inputs2)\n",
        "se2 = Dropout(0.4)(se1)\n",
        "se3 = LSTM(256)(se2)\n",
        "\n",
        "# decoder model\n",
        "decoder1 = add([fe2, se3])\n",
        "decoder2 = Dense(256, activation='relu')(decoder1)\n",
        "outputs = Dense(vocab_size3, activation='softmax')(decoder2)\n",
        "\n",
        "model3 = Model(inputs=[inputs1, inputs2], outputs=outputs)\n",
        "model3.compile(loss='categorical_crossentropy', optimizer='adam')\n",
        "\n",
        "# plot the model\n",
        "plot_model(model3, show_shapes=True)"
      ],
      "metadata": {
        "colab": {
          "base_uri": "https://localhost:8080/",
          "height": 754
        },
        "id": "WUuycckQdTbU",
        "outputId": "719ffa64-1981-414d-d712-99dafb17c40b"
      },
      "execution_count": 74,
      "outputs": [
        {
          "output_type": "execute_result",
          "data": {
            "text/plain": [
              "<IPython.core.display.Image object>"
            ],
            "image/png": "[encoded data removed]"
          },
          "metadata": {},
          "execution_count": 74
        }
      ]
    },
    {
      "cell_type": "code",
      "source": [
        "# train the model\n",
        "epochs = 10\n",
        "batch_size = 32\n",
        "steps = len(train3) // batch_size\n",
        "\n",
        "for i in range(epochs):\n",
        "    # create data generator\n",
        "    generator = data_generator(train3, mapping3, features3, tokenizer, max_length3, vocab_size3, batch_size)\n",
        "    # fit for one epoch\n",
        "    model3.fit(generator, epochs=1, steps_per_epoch=steps, verbose=1)"
      ],
      "metadata": {
        "colab": {
          "base_uri": "https://localhost:8080/"
        },
        "id": "m8b0n9X2df1C",
        "outputId": "616490bf-01d1-4fd3-993b-18133c468610"
      },
      "execution_count": 81,
      "outputs": [
        {
          "output_type": "stream",
          "name": "stdout",
          "text": [
            "8/8 [==============================] - 5s 200ms/step - loss: 3.7431\n",
            "8/8 [==============================] - 2s 202ms/step - loss: 3.1552\n",
            "8/8 [==============================] - 2s 204ms/step - loss: 2.8419\n",
            "8/8 [==============================] - 2s 199ms/step - loss: 2.4815\n",
            "8/8 [==============================] - 2s 195ms/step - loss: 2.1389\n",
            "8/8 [==============================] - 1s 186ms/step - loss: 1.9179\n",
            "8/8 [==============================] - 2s 197ms/step - loss: 1.7516\n",
            "8/8 [==============================] - 2s 192ms/step - loss: 1.6233\n",
            "8/8 [==============================] - 2s 189ms/step - loss: 1.4999\n",
            "8/8 [==============================] - 2s 203ms/step - loss: 1.3851\n"
          ]
        }
      ]
    },
    {
      "cell_type": "code",
      "source": [
        "actual3, predicted3 = list(), list()\n",
        "\n",
        "for key in tqdm(test3):\n",
        "    # get actual caption\n",
        "    captions = mapping3[key]\n",
        "    # predict the caption for image\n",
        "    y_pred = predict_caption(model3, features3[key], tokenizer, max_length3) \n",
        "    # split into words\n",
        "    actual_captions = [caption.split() for caption in captions]\n",
        "    y_pred = y_pred.split()\n",
        "    # append to the list\n",
        "    actual3.append(actual_captions)\n",
        "    predicted3.append(y_pred)\n",
        "    \n",
        "# calcuate BLEU score\n",
        "print(\"BLEU-1: %f\" % corpus_bleu(actual3, predicted3, weights=(1.0, 0, 0, 0)))\n",
        "print(\"BLEU-2: %f\" % corpus_bleu(actual3, predicted3, weights=(0.5, 0.5, 0, 0)))"
      ],
      "metadata": {
        "colab": {
          "base_uri": "https://localhost:8080/",
          "height": 84,
          "referenced_widgets": [
            "317361d3c5e249aea0d06b51f3aea58f",
            "f277d560711945d7b715b023d530070b",
            "2df7306bdc224e498f6f25533fc2bf8f",
            "0b8de9c06dc349738d7e1e86bae536cc",
            "9317b0d3a852462eb5e27155425ff719",
            "5282bfa0451b4a1a8d6d4bcc4d220482",
            "e0baa5d3255943f68b778f18657d0ce2",
            "0450db89bb5b47ac9024b0c1c2dc2256",
            "fe76d42392ee46b2baba2c810ca10648",
            "6471603edb0f4f97935c4c6a7715cd8e",
            "a278859bc7714ce8a81e203fcc41f696"
          ]
        },
        "id": "y1XyGG0meSxB",
        "outputId": "e1ca4342-9191-45f5-99e4-86abb8065360"
      },
      "execution_count": 82,
      "outputs": [
        {
          "output_type": "display_data",
          "data": {
            "text/plain": [
              "  0%|          | 0/30 [00:00<?, ?it/s]"
            ],
            "application/vnd.jupyter.widget-view+json": {
              "version_major": 2,
              "version_minor": 0,
              "model_id": "317361d3c5e249aea0d06b51f3aea58f"
            }
          },
          "metadata": {}
        },
        {
          "output_type": "stream",
          "name": "stdout",
          "text": [
            "BLEU-1: 0.240541\n",
            "BLEU-2: 0.074619\n"
          ]
        }
      ]
    },
    {
      "cell_type": "markdown",
      "source": [
        "# Task 3"
      ],
      "metadata": {
        "id": "15O8zaYxhs9J"
      }
    },
    {
      "cell_type": "code",
      "source": [
        "!mkdir Assignment_Data/TOT_images\n",
        "\n",
        "!mkdir Assignment_Data/ToT_labels\n",
        "\n",
        "!cp Assignment_Data/*/IMAGES/* Assignment_Data/TOT_images/\n",
        "!cp Assignment_Data/*/TEXT_LABELS/* Assignment_Data/ToT_labels/"
      ],
      "metadata": {
        "id": "WK5qOt98ewKg"
      },
      "execution_count": 83,
      "outputs": []
    },
    {
      "cell_type": "code",
      "source": [
        "imgs_path4='Assignment_Data/TOT_images'\n",
        "labels_path4='Assignment_Data/ToT_labels'\n"
      ],
      "metadata": {
        "id": "raribiKgemok"
      },
      "execution_count": 85,
      "outputs": []
    },
    {
      "cell_type": "code",
      "source": [
        "!ls lrth '$imgs_path4' | wc -l"
      ],
      "metadata": {
        "colab": {
          "base_uri": "https://localhost:8080/"
        },
        "id": "nf2eRrT6fZwf",
        "outputId": "746895ba-2e05-4c76-d9a1-b975376042e1"
      },
      "execution_count": 87,
      "outputs": [
        {
          "output_type": "stream",
          "name": "stdout",
          "text": [
            "ls: cannot access 'lrth': No such file or directory\n",
            "901\n"
          ]
        }
      ]
    },
    {
      "cell_type": "code",
      "source": [
        "features4,mapping4=preprocess(imgs_path4,labels_path4)"
      ],
      "metadata": {
        "colab": {
          "base_uri": "https://localhost:8080/",
          "height": 49,
          "referenced_widgets": [
            "732d28ace74c4406a0a4661481fa53a0",
            "3994fb546f7f4df99816e9fb898ab929",
            "4295c42bff4a438a895eea4e2e058987",
            "c1a3eaa76e0b444cbf723cd937c46958",
            "1d9dc07f18db40f8b86b49fe04c6d37f",
            "08ff48c1f9f24c989abefa93a5fb4dcf",
            "59eca3754de44a1492152946f4086ea8",
            "85d1cbef880e4246b29df0c605906312",
            "d7d3f8320106482fb585450d4efb6978",
            "c7e590fd239c43d0bad43c6cf52de31c",
            "ac8f5ecd4ea04b928857a5d36e08d93e"
          ]
        },
        "id": "2Jy5AkmDfhQo",
        "outputId": "c0314a84-8253-4a67-c6bb-7b56b48863f3"
      },
      "execution_count": 88,
      "outputs": [
        {
          "output_type": "display_data",
          "data": {
            "text/plain": [
              "  0%|          | 0/900 [00:00<?, ?it/s]"
            ],
            "application/vnd.jupyter.widget-view+json": {
              "version_major": 2,
              "version_minor": 0,
              "model_id": "732d28ace74c4406a0a4661481fa53a0"
            }
          },
          "metadata": {}
        }
      ]
    },
    {
      "cell_type": "code",
      "source": [
        "clean(mapping4)"
      ],
      "metadata": {
        "id": "sgbC5GvufzfA"
      },
      "execution_count": 89,
      "outputs": []
    },
    {
      "cell_type": "code",
      "source": [
        "all_captions4 = []\n",
        "for key in mapping4:\n",
        "    for caption in mapping4[key]:\n",
        "        all_captions4.append(caption)\n",
        "\n",
        "\n",
        "tokenizer.fit_on_texts(all_captions4)\n",
        "vocab_size4 = len(tokenizer.word_index) + 1\n",
        "\n",
        "\n",
        "max_length4 = max(len(caption.split()) for caption in all_captions4)\n",
        "# max_length3\n",
        "\n",
        "image_ids4 = list(mapping4.keys())\n",
        "split4 = int(len(image_ids4) * 0.90)\n",
        "train4 = image_ids4[:split4]\n",
        "test4 = image_ids4[split4:]\n"
      ],
      "metadata": {
        "id": "kbQ8P-BTf9pp"
      },
      "execution_count": 90,
      "outputs": []
    },
    {
      "cell_type": "code",
      "source": [
        "# encoder model\n",
        "# image feature layers\n",
        "inputs1 = Input(shape=(4096,))\n",
        "fe1 = Dropout(0.4)(inputs1)\n",
        "fe2 = Dense(256, activation='relu')(fe1)\n",
        "# sequence feature layers\n",
        "inputs2 = Input(shape=(max_length4,))\n",
        "se1 = Embedding(vocab_size4, 256, mask_zero=True)(inputs2)\n",
        "se2 = Dropout(0.4)(se1)\n",
        "se3 = LSTM(256)(se2)\n",
        "\n",
        "# decoder model\n",
        "decoder1 = add([fe2, se3])\n",
        "decoder2 = Dense(256, activation='relu')(decoder1)\n",
        "outputs = Dense(vocab_size4, activation='softmax')(decoder2)\n",
        "\n",
        "model4 = Model(inputs=[inputs1, inputs2], outputs=outputs)\n",
        "model4.compile(loss='categorical_crossentropy', optimizer='adam')\n",
        "\n",
        "# plot the model\n",
        "plot_model(model4, show_shapes=True)"
      ],
      "metadata": {
        "colab": {
          "base_uri": "https://localhost:8080/",
          "height": 754
        },
        "outputId": "9bbbda14-f101-4181-f556-a257b0bfd282",
        "id": "YR93Op7BgT0S"
      },
      "execution_count": 91,
      "outputs": [
        {
          "output_type": "execute_result",
          "data": {
            "text/plain": [
              "<IPython.core.display.Image object>"
            ],
            "image/png": "[encoded data removed]"
          },
          "metadata": {},
          "execution_count": 91
        }
      ]
    },
    {
      "cell_type": "code",
      "source": [
        "# train the model\n",
        "epochs = 10\n",
        "batch_size = 32\n",
        "steps = len(train4) // batch_size\n",
        "\n",
        "for i in range(epochs):\n",
        "    # create data generator\n",
        "    generator = data_generator(train4, mapping4, features4, tokenizer, max_length4, vocab_size4, batch_size)\n",
        "    # fit for one epoch\n",
        "    model4.fit(generator, epochs=1, steps_per_epoch=steps, verbose=1)"
      ],
      "metadata": {
        "colab": {
          "base_uri": "https://localhost:8080/"
        },
        "id": "8HvfQhPxgd6R",
        "outputId": "87fef448-fec2-453e-e3a0-2a8804bd11f1"
      },
      "execution_count": 92,
      "outputs": [
        {
          "output_type": "stream",
          "name": "stdout",
          "text": [
            "25/25 [==============================] - 11s 275ms/step - loss: 3.4175\n",
            "25/25 [==============================] - 9s 374ms/step - loss: 2.7306\n",
            "25/25 [==============================] - 8s 337ms/step - loss: 2.0523\n",
            "25/25 [==============================] - 10s 376ms/step - loss: 1.3926\n",
            "25/25 [==============================] - 8s 312ms/step - loss: 1.0734\n",
            "25/25 [==============================] - 8s 313ms/step - loss: 0.8616\n",
            "25/25 [==============================] - 8s 324ms/step - loss: 0.7231\n",
            "25/25 [==============================] - 8s 323ms/step - loss: 0.6329\n",
            "25/25 [==============================] - 7s 259ms/step - loss: 0.5745\n",
            "25/25 [==============================] - 7s 266ms/step - loss: 0.5357\n"
          ]
        }
      ]
    },
    {
      "cell_type": "code",
      "source": [
        "actual4, predicted4 = list(), list()\n",
        "\n",
        "for key in tqdm(test4):\n",
        "    # get actual caption\n",
        "    captions = mapping4[key]\n",
        "    # predict the caption for image\n",
        "    y_pred = predict_caption(model4, features4[key], tokenizer, max_length4) \n",
        "    # split into words\n",
        "    actual_captions = [caption.split() for caption in captions]\n",
        "    y_pred = y_pred.split()\n",
        "    # append to the list\n",
        "    actual4.append(actual_captions)\n",
        "    predicted4.append(y_pred)\n",
        "    \n",
        "# calcuate BLEU score\n",
        "print(\"BLEU-1: %f\" % corpus_bleu(actual4, predicted4, weights=(1.0, 0, 0, 0)))\n",
        "print(\"BLEU-2: %f\" % corpus_bleu(actual4, predicted4, weights=(0.5, 0.5, 0, 0)))"
      ],
      "metadata": {
        "colab": {
          "base_uri": "https://localhost:8080/",
          "height": 292,
          "referenced_widgets": [
            "668d1424339b48dd89c5cffe6bc62663",
            "211214aa467341d68c19fe00a1530b6e",
            "da286b6960d846889cbf2b9dc8e9251a",
            "b2d1feb76c4449fdada4032a09b09319",
            "a3bbbdf19a0b4057889cd0d47a142519",
            "cc60803902304374b90957b77ecbd533",
            "bdfb8bca9bc64aa3ad5df7f66f9d9ee6",
            "65baef7b367845c8a441035f44197c76",
            "3e333cf3d66f419d9f055907ade3cb03",
            "28783a43beb0440990acea53ec807ea3",
            "83170bd646e94453a443d548d62cd590"
          ]
        },
        "id": "fFzAGV05goEf",
        "outputId": "97749eaf-8bd6-4c73-e849-dead19486bb7"
      },
      "execution_count": 93,
      "outputs": [
        {
          "output_type": "display_data",
          "data": {
            "text/plain": [
              "  0%|          | 0/90 [00:00<?, ?it/s]"
            ],
            "application/vnd.jupyter.widget-view+json": {
              "version_major": 2,
              "version_minor": 0,
              "model_id": "668d1424339b48dd89c5cffe6bc62663"
            }
          },
          "metadata": {}
        },
        {
          "output_type": "stream",
          "name": "stdout",
          "text": [
            "BLEU-1: 0.115680\n",
            "BLEU-2: 0.053926\n"
          ]
        },
        {
          "output_type": "stream",
          "name": "stderr",
          "text": [
            "/usr/local/lib/python3.7/dist-packages/nltk/translate/bleu_score.py:552: UserWarning: \n",
            "The hypothesis contains 0 counts of 3-gram overlaps.\n",
            "Therefore the BLEU score evaluates to 0, independently of\n",
            "how many N-gram overlaps of lower order it contains.\n",
            "Consider using lower n-gram order or use SmoothingFunction()\n",
            "  warnings.warn(_msg)\n",
            "/usr/local/lib/python3.7/dist-packages/nltk/translate/bleu_score.py:552: UserWarning: \n",
            "The hypothesis contains 0 counts of 4-gram overlaps.\n",
            "Therefore the BLEU score evaluates to 0, independently of\n",
            "how many N-gram overlaps of lower order it contains.\n",
            "Consider using lower n-gram order or use SmoothingFunction()\n",
            "  warnings.warn(_msg)\n"
          ]
        }
      ]
    },
    {
      "cell_type": "code",
      "source": [
        ""
      ],
      "metadata": {
        "id": "hUzhTQBYg6Vo"
      },
      "execution_count": null,
      "outputs": []
    }
  ]
}