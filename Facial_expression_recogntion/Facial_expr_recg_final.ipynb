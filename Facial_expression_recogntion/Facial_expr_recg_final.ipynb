{
  "nbformat": 4,
  "nbformat_minor": 0,
  "metadata": {
    "colab": {
      "name": "Facial_expr_recg.ipynb",
      "provenance": [],
      "collapsed_sections": [],
      "authorship_tag": "ABX9TyMzxvJLgxRxLplqsXdWIfR7",
      "include_colab_link": true
    },
    "kernelspec": {
      "name": "python3",
      "display_name": "Python 3"
    },
    "accelerator": "GPU"
  },
  "cells": [
    {
      "cell_type": "markdown",
      "metadata": {
        "id": "view-in-github",
        "colab_type": "text"
      },
      "source": [
        "<a href=\"https://colab.research.google.com/github/Srinivas1258/ML-DL/blob/master/Facial_expression_recogntion/Facial_expr_recg_final.ipynb\" target=\"_parent\"><img src=\"https://colab.research.google.com/assets/colab-badge.svg\" alt=\"Open In Colab\"/></a>"
      ]
    },
    {
      "cell_type": "markdown",
      "metadata": {
        "id": "XT9uRS0c_wdL"
      },
      "source": [
        "importing the data from google drive "
      ]
    },
    {
      "cell_type": "code",
      "metadata": {
        "id": "ro5pguu48D_5",
        "colab": {
          "base_uri": "https://localhost:8080/"
        },
        "outputId": "f4059e11-0429-4444-bdcc-14c70b78cf88"
      },
      "source": [
        "!pip install tqdm\n",
        "!pip install facenet-pytorch"
      ],
      "execution_count": 1,
      "outputs": [
        {
          "output_type": "stream",
          "text": [
            "Requirement already satisfied: tqdm in /usr/local/lib/python3.6/dist-packages (4.41.1)\n",
            "Collecting facenet-pytorch\n",
            "\u001b[?25l  Downloading https://files.pythonhosted.org/packages/e9/e9/9dee8c3924478283d0f29c7b36b9d000a4e6928c00d8108e66df494218e6/facenet_pytorch-2.5.1-py3-none-any.whl (1.9MB)\n",
            "\u001b[K     |████████████████████████████████| 1.9MB 7.7MB/s \n",
            "\u001b[?25hRequirement already satisfied: torchvision in /usr/local/lib/python3.6/dist-packages (from facenet-pytorch) (0.8.1+cu101)\n",
            "Requirement already satisfied: pillow in /usr/local/lib/python3.6/dist-packages (from facenet-pytorch) (7.0.0)\n",
            "Requirement already satisfied: numpy in /usr/local/lib/python3.6/dist-packages (from facenet-pytorch) (1.18.5)\n",
            "Requirement already satisfied: requests in /usr/local/lib/python3.6/dist-packages (from facenet-pytorch) (2.23.0)\n",
            "Requirement already satisfied: torch==1.7.0 in /usr/local/lib/python3.6/dist-packages (from torchvision->facenet-pytorch) (1.7.0+cu101)\n",
            "Requirement already satisfied: certifi>=2017.4.17 in /usr/local/lib/python3.6/dist-packages (from requests->facenet-pytorch) (2020.11.8)\n",
            "Requirement already satisfied: idna<3,>=2.5 in /usr/local/lib/python3.6/dist-packages (from requests->facenet-pytorch) (2.10)\n",
            "Requirement already satisfied: chardet<4,>=3.0.2 in /usr/local/lib/python3.6/dist-packages (from requests->facenet-pytorch) (3.0.4)\n",
            "Requirement already satisfied: urllib3!=1.25.0,!=1.25.1,<1.26,>=1.21.1 in /usr/local/lib/python3.6/dist-packages (from requests->facenet-pytorch) (1.24.3)\n",
            "Requirement already satisfied: dataclasses in /usr/local/lib/python3.6/dist-packages (from torch==1.7.0->torchvision->facenet-pytorch) (0.8)\n",
            "Requirement already satisfied: typing-extensions in /usr/local/lib/python3.6/dist-packages (from torch==1.7.0->torchvision->facenet-pytorch) (3.7.4.3)\n",
            "Requirement already satisfied: future in /usr/local/lib/python3.6/dist-packages (from torch==1.7.0->torchvision->facenet-pytorch) (0.16.0)\n",
            "Installing collected packages: facenet-pytorch\n",
            "Successfully installed facenet-pytorch-2.5.1\n"
          ],
          "name": "stdout"
        }
      ]
    },
    {
      "cell_type": "code",
      "metadata": {
        "id": "VFsex6V5_LJw",
        "colab": {
          "base_uri": "https://localhost:8080/"
        },
        "outputId": "df68cd6e-e625-455d-8615-21604396b739"
      },
      "source": [
        "from google.colab import drive\n",
        "drive.mount('/content/drive')"
      ],
      "execution_count": 2,
      "outputs": [
        {
          "output_type": "stream",
          "text": [
            "Mounted at /content/drive\n"
          ],
          "name": "stdout"
        }
      ]
    },
    {
      "cell_type": "code",
      "metadata": {
        "id": "JB04q5ODBIfN",
        "colab": {
          "base_uri": "https://localhost:8080/"
        },
        "outputId": "8c83217c-bc45-421b-9cd1-e2367b312032"
      },
      "source": [
        "# ! cp drive/My\\ Drive/Projects_from_colab/fer2013_X.npy /content\n",
        "# ! cp drive/My\\ Drive/Projects_from_colab/fer2013_y.npy /content\n",
        "!! cp drive/My\\ Drive/Projects_from_colab/face_recognition.h5 /content\n",
        "\n",
        "# !tar -xzf fer2013.tar.gz\n",
        "# ! cp fer2013_y.npy 'drive/My Drive/'\n",
        "# ! ls  'drive/My Drive/'"
      ],
      "execution_count": 5,
      "outputs": [
        {
          "output_type": "execute_result",
          "data": {
            "text/plain": [
              "[]"
            ]
          },
          "metadata": {
            "tags": []
          },
          "execution_count": 5
        }
      ]
    },
    {
      "cell_type": "code",
      "metadata": {
        "id": "FcrYEewfAK7S",
        "colab": {
          "base_uri": "https://localhost:8080/"
        },
        "outputId": "0876bcd7-0e53-4c8a-db5b-c2c61c4f60db"
      },
      "source": [
        "!ls "
      ],
      "execution_count": 6,
      "outputs": [
        {
          "output_type": "stream",
          "text": [
            "drive  face_recognition.h5  fer2013_X.npy  fer2013_y.npy  sample_data\n"
          ],
          "name": "stdout"
        }
      ]
    },
    {
      "cell_type": "markdown",
      "metadata": {
        "id": "wtH1TLS-EDSr"
      },
      "source": [
        "Import essential libraries"
      ]
    },
    {
      "cell_type": "code",
      "metadata": {
        "id": "kMby5ArNECiI"
      },
      "source": [
        "import pandas as pd\n",
        "import numpy as np\n",
        "import cv2\n",
        "from tensorflow.keras.utils import  to_categorical\n",
        "import matplotlib.pyplot as plt\n",
        "from tensorflow.keras.layers import Dense,Conv2D,MaxPool2D,Flatten,Dropout,BatchNormalization,Activation\n",
        "from tensorflow.keras.models import Sequential\n",
        "from tensorflow.keras import regularizers\n",
        "from tqdm.notebook import tqdm\n"
      ],
      "execution_count": 7,
      "outputs": []
    },
    {
      "cell_type": "markdown",
      "metadata": {
        "id": "Os-wR6L3D5Rk"
      },
      "source": [
        "loading fer2013 dataset "
      ]
    },
    {
      "cell_type": "code",
      "metadata": {
        "id": "6XNe9thwBFZA"
      },
      "source": [
        "# data=pd.read_csv('fer2013/fer2013.csv')\n"
      ],
      "execution_count": null,
      "outputs": []
    },
    {
      "cell_type": "code",
      "metadata": {
        "id": "G8jXV-SgDR58",
        "colab": {
          "base_uri": "https://localhost:8080/",
          "height": 204
        },
        "outputId": "fd9ed83a-68c1-4099-84b3-a5e613aadfea"
      },
      "source": [
        "# data=data.drop(columns=['Usage'])\n",
        "# data.head()\n",
        "# X=data.iloc[:,1:]\n",
        "# Y=data.iloc[:,0:1]"
      ],
      "execution_count": null,
      "outputs": [
        {
          "output_type": "execute_result",
          "data": {
            "text/html": [
              "<div>\n",
              "<style scoped>\n",
              "    .dataframe tbody tr th:only-of-type {\n",
              "        vertical-align: middle;\n",
              "    }\n",
              "\n",
              "    .dataframe tbody tr th {\n",
              "        vertical-align: top;\n",
              "    }\n",
              "\n",
              "    .dataframe thead th {\n",
              "        text-align: right;\n",
              "    }\n",
              "</style>\n",
              "<table border=\"1\" class=\"dataframe\">\n",
              "  <thead>\n",
              "    <tr style=\"text-align: right;\">\n",
              "      <th></th>\n",
              "      <th>emotion</th>\n",
              "      <th>pixels</th>\n",
              "    </tr>\n",
              "  </thead>\n",
              "  <tbody>\n",
              "    <tr>\n",
              "      <th>0</th>\n",
              "      <td>0</td>\n",
              "      <td>70 80 82 72 58 58 60 63 54 58 60 48 89 115 121...</td>\n",
              "    </tr>\n",
              "    <tr>\n",
              "      <th>1</th>\n",
              "      <td>0</td>\n",
              "      <td>151 150 147 155 148 133 111 140 170 174 182 15...</td>\n",
              "    </tr>\n",
              "    <tr>\n",
              "      <th>2</th>\n",
              "      <td>2</td>\n",
              "      <td>231 212 156 164 174 138 161 173 182 200 106 38...</td>\n",
              "    </tr>\n",
              "    <tr>\n",
              "      <th>3</th>\n",
              "      <td>4</td>\n",
              "      <td>24 32 36 30 32 23 19 20 30 41 21 22 32 34 21 1...</td>\n",
              "    </tr>\n",
              "    <tr>\n",
              "      <th>4</th>\n",
              "      <td>6</td>\n",
              "      <td>4 0 0 0 0 0 0 0 0 0 0 0 3 15 23 28 48 50 58 84...</td>\n",
              "    </tr>\n",
              "  </tbody>\n",
              "</table>\n",
              "</div>"
            ],
            "text/plain": [
              "   emotion                                             pixels\n",
              "0        0  70 80 82 72 58 58 60 63 54 58 60 48 89 115 121...\n",
              "1        0  151 150 147 155 148 133 111 140 170 174 182 15...\n",
              "2        2  231 212 156 164 174 138 161 173 182 200 106 38...\n",
              "3        4  24 32 36 30 32 23 19 20 30 41 21 22 32 34 21 1...\n",
              "4        6  4 0 0 0 0 0 0 0 0 0 0 0 3 15 23 28 48 50 58 84..."
            ]
          },
          "metadata": {
            "tags": []
          },
          "execution_count": 16
        }
      ]
    },
    {
      "cell_type": "code",
      "metadata": {
        "id": "idUDRPsWFDwx"
      },
      "source": [
        "# X_train=X_train.reshape(-1,48,48,1)\n",
        "# X_test=X_test.reshape(X_test.shape[0],-1)/255.0\n",
        "# y_train=to_categorical(y_train)\n",
        "# y_test=to_categorical(y_test)\n",
        "# X_train\n"
      ],
      "execution_count": null,
      "outputs": []
    },
    {
      "cell_type": "markdown",
      "metadata": {
        "id": "djUL4sUlTycX"
      },
      "source": [
        "Data preprocessing"
      ]
    },
    {
      "cell_type": "code",
      "metadata": {
        "id": "unbekSE_JOMY"
      },
      "source": [
        "# FER2013_WIDTH = 48\n",
        "# FER2013_HEIGHT = 48\n",
        "\n"
      ],
      "execution_count": null,
      "outputs": []
    },
    {
      "cell_type": "code",
      "metadata": {
        "id": "Uwv9L_9kOQLP",
        "colab": {
          "base_uri": "https://localhost:8080/",
          "height": 69
        },
        "outputId": "bdd4c69c-db43-4458-906c-51c0928e4029"
      },
      "source": [
        "'''def fer2013_show_instance(index):\n",
        "    \"\"\"Shows the image and the emotion label of the index's instance.\"\"\"\n",
        "    image = np.reshape(data.at[index, \"pixels\"].split(\" \"), (FER2013_WIDTH, FER2013_HEIGHT)).astype(\"float\")\n",
        "    image -= np.mean(image)\n",
        "    image /= np.std(image)\n",
        "    print(Emotions[data.at[index, \"emotion\"]])\n",
        "    plt.imshow(image, cmap=\"gray\") '''"
      ],
      "execution_count": null,
      "outputs": [
        {
          "output_type": "execute_result",
          "data": {
            "application/vnd.google.colaboratory.intrinsic+json": {
              "type": "string"
            },
            "text/plain": [
              "'def fer2013_show_instance(index):\\n    \"\"\"Shows the image and the emotion label of the index\\'s instance.\"\"\"\\n    image = np.reshape(data.at[index, \"pixels\"].split(\" \"), (FER2013_WIDTH, FER2013_HEIGHT)).astype(\"float\")\\n    image -= np.mean(image)\\n    image /= np.std(image)\\n    print(Emotions[data.at[index, \"emotion\"]])\\n    plt.imshow(image, cmap=\"gray\") '"
            ]
          },
          "metadata": {
            "tags": []
          },
          "execution_count": 71
        }
      ]
    },
    {
      "cell_type": "code",
      "metadata": {
        "id": "BVdYc0tkOmHF"
      },
      "source": [
        "# fer2013_show_instance(np.random.randint(0,len(data)))"
      ],
      "execution_count": null,
      "outputs": []
    },
    {
      "cell_type": "code",
      "metadata": {
        "id": "wiCOxGlvOoGK",
        "colab": {
          "base_uri": "https://localhost:8080/",
          "height": 103
        },
        "outputId": "004c8baf-cb56-4ba9-c15c-5c28f3a2b9bf"
      },
      "source": [
        "'''\n",
        "def fer2013_to_X():\n",
        "    \"\"\"Transforms the (blank separated) pixel strings in the DataFrame to an 3-dimensional array \n",
        "    (1st dim: instances, 2nd and 3rd dims represent 2D image).\"\"\"\n",
        "    \n",
        "    X = []\n",
        "    pixels_list = data[\"pixels\"].values\n",
        "    \n",
        "    for pixels in pixels_list:\n",
        "        single_image = np.reshape(pixels.split(\" \"), (FER2013_WIDTH, FER2013_HEIGHT)).astype(\"float\")\n",
        "        X.append(single_image)\n",
        "        \n",
        "    # Convert list to 4D array:\n",
        "    X = np.expand_dims(np.array(X), -1)\n",
        "    \n",
        "    # Normalize image data:\n",
        "    X -= np.mean(X, axis=0)\n",
        "    X /= np.std(X, axis=0)\n",
        "    \n",
        "    return X '''"
      ],
      "execution_count": null,
      "outputs": [
        {
          "output_type": "execute_result",
          "data": {
            "application/vnd.google.colaboratory.intrinsic+json": {
              "type": "string"
            },
            "text/plain": [
              "'\\ndef fer2013_to_X():\\n    \"\"\"Transforms the (blank separated) pixel strings in the DataFrame to an 3-dimensional array \\n    (1st dim: instances, 2nd and 3rd dims represent 2D image).\"\"\"\\n    \\n    X = []\\n    pixels_list = data[\"pixels\"].values\\n    \\n    for pixels in pixels_list:\\n        single_image = np.reshape(pixels.split(\" \"), (FER2013_WIDTH, FER2013_HEIGHT)).astype(\"float\")\\n        X.append(single_image)\\n        \\n    # Convert list to 4D array:\\n    X = np.expand_dims(np.array(X), -1)\\n    \\n    # Normalize image data:\\n    X -= np.mean(X, axis=0)\\n    X /= np.std(X, axis=0)\\n    \\n    return X '"
            ]
          },
          "metadata": {
            "tags": []
          },
          "execution_count": 73
        }
      ]
    },
    {
      "cell_type": "markdown",
      "metadata": {
        "id": "gnMzlrfdoR5q"
      },
      "source": [
        "this data already preprocessed for computational purposes and directly to load as numpy array and preprocessing is done already"
      ]
    },
    {
      "cell_type": "code",
      "metadata": {
        "id": "kBkKn51CvNzB"
      },
      "source": [
        "X=np.load('fer2013_X.npy') # direct loading preprocessing data \n",
        "y=np.load('fer2013_y.npy')"
      ],
      "execution_count": 8,
      "outputs": []
    },
    {
      "cell_type": "code",
      "metadata": {
        "id": "N376CC8TOu-6",
        "colab": {
          "base_uri": "https://localhost:8080/"
        },
        "outputId": "5da09742-458f-4a21-8995-e108c677935f"
      },
      "source": [
        "# Get features (image data)\n",
        "# X = fer2013_to_X()\n",
        "X.shape"
      ],
      "execution_count": 9,
      "outputs": [
        {
          "output_type": "execute_result",
          "data": {
            "text/plain": [
              "(35887, 48, 48, 1)"
            ]
          },
          "metadata": {
            "tags": []
          },
          "execution_count": 9
        }
      ]
    },
    {
      "cell_type": "code",
      "metadata": {
        "id": "O5M9ZPruPDSC"
      },
      "source": [
        "# y = pd.get_dummies(data['emotion']).values\n",
        "# y.shape"
      ],
      "execution_count": null,
      "outputs": []
    },
    {
      "cell_type": "code",
      "metadata": {
        "id": "AsTP85yiPfC6"
      },
      "source": [
        "# Save data\n",
        "# np.save(\"fer2013_X\", X)\n",
        "# np.save(\"fer2013_y\", y)"
      ],
      "execution_count": null,
      "outputs": []
    },
    {
      "cell_type": "code",
      "metadata": {
        "id": "f_z9AkxEQCJc",
        "colab": {
          "base_uri": "https://localhost:8080/"
        },
        "outputId": "3accc9b3-fba6-4b1c-faf8-0131aa67731c"
      },
      "source": [
        "from sklearn.model_selection import train_test_split\n",
        "X_train,X_test,y_train,y_test = train_test_split(X,y,test_size=0.2,random_state=42,stratify=y)\n",
        "X_train.dtype"
      ],
      "execution_count": null,
      "outputs": [
        {
          "output_type": "execute_result",
          "data": {
            "text/plain": [
              "dtype('float64')"
            ]
          },
          "metadata": {
            "tags": []
          },
          "execution_count": 8
        }
      ]
    },
    {
      "cell_type": "code",
      "metadata": {
        "id": "2xhDcYMFaxT4"
      },
      "source": [
        "# X_train[0]"
      ],
      "execution_count": null,
      "outputs": []
    },
    {
      "cell_type": "code",
      "metadata": {
        "id": "LEer_33nR_93",
        "colab": {
          "base_uri": "https://localhost:8080/"
        },
        "outputId": "54ef026e-ce19-4112-b1ff-b1210775b045"
      },
      "source": [
        "model=Sequential()\n",
        "\n",
        "model.add(Conv2D(64,kernel_size=(3,3),activation='relu',padding='same',input_shape=(48,48,1)))\n",
        "model.add(BatchNormalization())\n",
        "\n",
        "model.add(Conv2D(64,kernel_size=(3,3),activation='relu',padding='same',kernel_regularizer=regularizers.l2(l=0.01)))\n",
        "model.add(BatchNormalization())\n",
        "model.add(MaxPool2D(pool_size=(2,2)))\n",
        "\n",
        "model.add(Conv2D(128,kernel_size=(3,3),activation='relu',padding='same',kernel_regularizer=regularizers.l2(l=0.01)))\n",
        "model.add(BatchNormalization())\n",
        "model.add(Conv2D(128,kernel_size=(3,3),activation='relu',padding='same',kernel_regularizer=regularizers.l2(l=0.01)))\n",
        "model.add(BatchNormalization())\n",
        "model.add(MaxPool2D(pool_size=(2,2)))\n",
        "model.add(Dropout(0.2))\n",
        "\n",
        "model.add(Conv2D(256,kernel_size=(3,3),activation='relu',padding='same',kernel_regularizer=regularizers.l2(l=0.01)))\n",
        "model.add(BatchNormalization())\n",
        "model.add(Conv2D(256,kernel_size=(3,3),activation='relu',padding='same',kernel_regularizer=regularizers.l2(l=0.01)))\n",
        "model.add(BatchNormalization())\n",
        "model.add(MaxPool2D(pool_size=(2,2)))\n",
        "model.add(Dropout(0.25))\n",
        "\n",
        "model.add(Conv2D(512,kernel_size=(3,3),activation='relu',padding='same',kernel_regularizer=regularizers.l2(l=0.01)))\n",
        "model.add(BatchNormalization())\n",
        "model.add(Conv2D(512,kernel_size=(3,3),activation='relu',padding='same',kernel_regularizer=regularizers.l2(l=0.01)))\n",
        "model.add(BatchNormalization())\n",
        "model.add(MaxPool2D(pool_size=(2,2)))\n",
        "model.add(Dropout(0.25))\n",
        "\n",
        "model.add(Flatten())\n",
        "\n",
        "model.add(Dense(1024))\n",
        "model.add(BatchNormalization())\n",
        "model.add(Activation('relu'))\n",
        "model.add(Dropout(0.25))\n",
        "\n",
        "model.add(Dense(512))\n",
        "model.add(BatchNormalization())\n",
        "model.add(Activation('relu'))\n",
        "model.add(Dropout(0.25))\n",
        "\n",
        "model.add(Dense(7,activation='softmax'))\n",
        "\n",
        "model.summary()\n",
        "\n",
        "\n",
        "\n",
        "model.compile(optimizer='adam',loss='categorical_crossentropy',metrics=['accuracy'])\n",
        "\n"
      ],
      "execution_count": null,
      "outputs": [
        {
          "output_type": "stream",
          "text": [
            "Model: \"sequential\"\n",
            "_________________________________________________________________\n",
            "Layer (type)                 Output Shape              Param #   \n",
            "=================================================================\n",
            "conv2d (Conv2D)              (None, 48, 48, 64)        640       \n",
            "_________________________________________________________________\n",
            "batch_normalization (BatchNo (None, 48, 48, 64)        256       \n",
            "_________________________________________________________________\n",
            "conv2d_1 (Conv2D)            (None, 48, 48, 64)        36928     \n",
            "_________________________________________________________________\n",
            "batch_normalization_1 (Batch (None, 48, 48, 64)        256       \n",
            "_________________________________________________________________\n",
            "max_pooling2d (MaxPooling2D) (None, 24, 24, 64)        0         \n",
            "_________________________________________________________________\n",
            "conv2d_2 (Conv2D)            (None, 24, 24, 128)       73856     \n",
            "_________________________________________________________________\n",
            "batch_normalization_2 (Batch (None, 24, 24, 128)       512       \n",
            "_________________________________________________________________\n",
            "conv2d_3 (Conv2D)            (None, 24, 24, 128)       147584    \n",
            "_________________________________________________________________\n",
            "batch_normalization_3 (Batch (None, 24, 24, 128)       512       \n",
            "_________________________________________________________________\n",
            "max_pooling2d_1 (MaxPooling2 (None, 12, 12, 128)       0         \n",
            "_________________________________________________________________\n",
            "dropout (Dropout)            (None, 12, 12, 128)       0         \n",
            "_________________________________________________________________\n",
            "conv2d_4 (Conv2D)            (None, 12, 12, 256)       295168    \n",
            "_________________________________________________________________\n",
            "batch_normalization_4 (Batch (None, 12, 12, 256)       1024      \n",
            "_________________________________________________________________\n",
            "conv2d_5 (Conv2D)            (None, 12, 12, 256)       590080    \n",
            "_________________________________________________________________\n",
            "batch_normalization_5 (Batch (None, 12, 12, 256)       1024      \n",
            "_________________________________________________________________\n",
            "max_pooling2d_2 (MaxPooling2 (None, 6, 6, 256)         0         \n",
            "_________________________________________________________________\n",
            "dropout_1 (Dropout)          (None, 6, 6, 256)         0         \n",
            "_________________________________________________________________\n",
            "conv2d_6 (Conv2D)            (None, 6, 6, 512)         1180160   \n",
            "_________________________________________________________________\n",
            "batch_normalization_6 (Batch (None, 6, 6, 512)         2048      \n",
            "_________________________________________________________________\n",
            "conv2d_7 (Conv2D)            (None, 6, 6, 512)         2359808   \n",
            "_________________________________________________________________\n",
            "batch_normalization_7 (Batch (None, 6, 6, 512)         2048      \n",
            "_________________________________________________________________\n",
            "max_pooling2d_3 (MaxPooling2 (None, 3, 3, 512)         0         \n",
            "_________________________________________________________________\n",
            "dropout_2 (Dropout)          (None, 3, 3, 512)         0         \n",
            "_________________________________________________________________\n",
            "flatten (Flatten)            (None, 4608)              0         \n",
            "_________________________________________________________________\n",
            "dense (Dense)                (None, 1024)              4719616   \n",
            "_________________________________________________________________\n",
            "batch_normalization_8 (Batch (None, 1024)              4096      \n",
            "_________________________________________________________________\n",
            "activation (Activation)      (None, 1024)              0         \n",
            "_________________________________________________________________\n",
            "dropout_3 (Dropout)          (None, 1024)              0         \n",
            "_________________________________________________________________\n",
            "dense_1 (Dense)              (None, 512)               524800    \n",
            "_________________________________________________________________\n",
            "batch_normalization_9 (Batch (None, 512)               2048      \n",
            "_________________________________________________________________\n",
            "activation_1 (Activation)    (None, 512)               0         \n",
            "_________________________________________________________________\n",
            "dropout_4 (Dropout)          (None, 512)               0         \n",
            "_________________________________________________________________\n",
            "dense_2 (Dense)              (None, 7)                 3591      \n",
            "=================================================================\n",
            "Total params: 9,946,055\n",
            "Trainable params: 9,939,143\n",
            "Non-trainable params: 6,912\n",
            "_________________________________________________________________\n"
          ],
          "name": "stdout"
        }
      ]
    },
    {
      "cell_type": "code",
      "metadata": {
        "id": "YWb8QHbGT8WB",
        "colab": {
          "base_uri": "https://localhost:8080/"
        },
        "outputId": "5ae12e0f-629b-4f6a-9346-25edff69bec4"
      },
      "source": [
        "history=model.fit(X_train,y_train,batch_size=64,epochs=100,steps_per_epoch=len(X_train)/128,validation_data=(X_test,y_test))\n"
      ],
      "execution_count": null,
      "outputs": [
        {
          "output_type": "stream",
          "text": [
            "Epoch 1/100\n",
            "225/224 [==============================] - 12s 51ms/step - loss: 9.9824 - accuracy: 0.3220 - val_loss: 4.3892 - val_accuracy: 0.1726\n",
            "Epoch 2/100\n",
            "225/224 [==============================] - 12s 51ms/step - loss: 2.8516 - accuracy: 0.4173 - val_loss: 2.4486 - val_accuracy: 0.3452\n",
            "Epoch 3/100\n",
            "225/224 [==============================] - 11s 50ms/step - loss: 2.1105 - accuracy: 0.4408 - val_loss: 2.0144 - val_accuracy: 0.4303\n",
            "Epoch 4/100\n",
            "225/224 [==============================] - 11s 50ms/step - loss: 1.9136 - accuracy: 0.4637 - val_loss: 1.9002 - val_accuracy: 0.4687\n",
            "Epoch 5/100\n",
            "225/224 [==============================] - 11s 51ms/step - loss: 1.8648 - accuracy: 0.4769 - val_loss: 1.8356 - val_accuracy: 0.4912\n",
            "Epoch 6/100\n",
            "225/224 [==============================] - 12s 51ms/step - loss: 1.8790 - accuracy: 0.4722 - val_loss: 1.8762 - val_accuracy: 0.4563\n",
            "Epoch 7/100\n",
            "225/224 [==============================] - 12s 52ms/step - loss: 1.8497 - accuracy: 0.4818 - val_loss: 1.8554 - val_accuracy: 0.4689\n",
            "Epoch 8/100\n",
            "225/224 [==============================] - 12s 52ms/step - loss: 1.8265 - accuracy: 0.4703 - val_loss: 1.9029 - val_accuracy: 0.4331\n",
            "Epoch 9/100\n",
            "225/224 [==============================] - 12s 53ms/step - loss: 1.8458 - accuracy: 0.4792 - val_loss: 1.9281 - val_accuracy: 0.4579\n",
            "Epoch 10/100\n",
            "225/224 [==============================] - 12s 53ms/step - loss: 1.8223 - accuracy: 0.4772 - val_loss: 1.9436 - val_accuracy: 0.4289\n",
            "Epoch 11/100\n",
            "225/224 [==============================] - 12s 52ms/step - loss: 1.8269 - accuracy: 0.4821 - val_loss: 1.9645 - val_accuracy: 0.4302\n",
            "Epoch 12/100\n",
            "225/224 [==============================] - 12s 52ms/step - loss: 1.8200 - accuracy: 0.4827 - val_loss: 1.8771 - val_accuracy: 0.4719\n",
            "Epoch 13/100\n",
            "225/224 [==============================] - 12s 52ms/step - loss: 1.8250 - accuracy: 0.4917 - val_loss: 1.8870 - val_accuracy: 0.4756\n",
            "Epoch 14/100\n",
            "225/224 [==============================] - 12s 52ms/step - loss: 1.8194 - accuracy: 0.4856 - val_loss: 1.9199 - val_accuracy: 0.4498\n",
            "Epoch 15/100\n",
            "225/224 [==============================] - 12s 52ms/step - loss: 1.8033 - accuracy: 0.4914 - val_loss: 1.9937 - val_accuracy: 0.3959\n",
            "Epoch 16/100\n",
            "225/224 [==============================] - 12s 52ms/step - loss: 1.8065 - accuracy: 0.4906 - val_loss: 1.8595 - val_accuracy: 0.4758\n",
            "Epoch 17/100\n",
            "225/224 [==============================] - 12s 52ms/step - loss: 1.7838 - accuracy: 0.4897 - val_loss: 1.8062 - val_accuracy: 0.4621\n",
            "Epoch 18/100\n",
            "225/224 [==============================] - 12s 52ms/step - loss: 1.7879 - accuracy: 0.4922 - val_loss: 1.8414 - val_accuracy: 0.4653\n",
            "Epoch 19/100\n",
            "225/224 [==============================] - 12s 52ms/step - loss: 1.7860 - accuracy: 0.4951 - val_loss: 1.8616 - val_accuracy: 0.4535\n",
            "Epoch 20/100\n",
            "225/224 [==============================] - 12s 52ms/step - loss: 1.7683 - accuracy: 0.4938 - val_loss: 1.8198 - val_accuracy: 0.4705\n",
            "Epoch 21/100\n",
            "225/224 [==============================] - 12s 52ms/step - loss: 1.7731 - accuracy: 0.4996 - val_loss: 1.7614 - val_accuracy: 0.5014\n",
            "Epoch 22/100\n",
            "225/224 [==============================] - 12s 52ms/step - loss: 1.7478 - accuracy: 0.5044 - val_loss: 1.8449 - val_accuracy: 0.4635\n",
            "Epoch 23/100\n",
            "225/224 [==============================] - 12s 52ms/step - loss: 1.7334 - accuracy: 0.5037 - val_loss: 1.8219 - val_accuracy: 0.4624\n",
            "Epoch 24/100\n",
            "225/224 [==============================] - 12s 52ms/step - loss: 1.7320 - accuracy: 0.5016 - val_loss: 1.7876 - val_accuracy: 0.4710\n",
            "Epoch 25/100\n",
            "225/224 [==============================] - 12s 52ms/step - loss: 1.7223 - accuracy: 0.5008 - val_loss: 1.8437 - val_accuracy: 0.4528\n",
            "Epoch 26/100\n",
            "225/224 [==============================] - 12s 51ms/step - loss: 1.6915 - accuracy: 0.5099 - val_loss: 1.7329 - val_accuracy: 0.4862\n",
            "Epoch 27/100\n",
            "225/224 [==============================] - 12s 52ms/step - loss: 1.6992 - accuracy: 0.5106 - val_loss: 1.7451 - val_accuracy: 0.4962\n",
            "Epoch 28/100\n",
            "225/224 [==============================] - 12s 52ms/step - loss: 1.6593 - accuracy: 0.5199 - val_loss: 1.7526 - val_accuracy: 0.4791\n",
            "Epoch 29/100\n",
            "225/224 [==============================] - 12s 52ms/step - loss: 1.6676 - accuracy: 0.5149 - val_loss: 1.7906 - val_accuracy: 0.4525\n",
            "Epoch 30/100\n",
            "225/224 [==============================] - 12s 51ms/step - loss: 1.6350 - accuracy: 0.5188 - val_loss: 1.6619 - val_accuracy: 0.5006\n",
            "Epoch 31/100\n",
            "225/224 [==============================] - 12s 52ms/step - loss: 1.6220 - accuracy: 0.5192 - val_loss: 1.6385 - val_accuracy: 0.5053\n",
            "Epoch 32/100\n",
            "225/224 [==============================] - 12s 52ms/step - loss: 1.5959 - accuracy: 0.5227 - val_loss: 1.6701 - val_accuracy: 0.5029\n",
            "Epoch 33/100\n",
            "225/224 [==============================] - 12s 52ms/step - loss: 1.5962 - accuracy: 0.5275 - val_loss: 1.6044 - val_accuracy: 0.5116\n",
            "Epoch 34/100\n",
            "225/224 [==============================] - 12s 51ms/step - loss: 1.5664 - accuracy: 0.5244 - val_loss: 1.5853 - val_accuracy: 0.5306\n",
            "Epoch 35/100\n",
            "225/224 [==============================] - 12s 52ms/step - loss: 1.5386 - accuracy: 0.5338 - val_loss: 1.5411 - val_accuracy: 0.5274\n",
            "Epoch 36/100\n",
            "225/224 [==============================] - 12s 52ms/step - loss: 1.5230 - accuracy: 0.5309 - val_loss: 1.5667 - val_accuracy: 0.5043\n",
            "Epoch 37/100\n",
            "225/224 [==============================] - 12s 52ms/step - loss: 1.5071 - accuracy: 0.5338 - val_loss: 1.6460 - val_accuracy: 0.4649\n",
            "Epoch 38/100\n",
            "225/224 [==============================] - 12s 51ms/step - loss: 1.4989 - accuracy: 0.5396 - val_loss: 1.4875 - val_accuracy: 0.5387\n",
            "Epoch 39/100\n",
            "225/224 [==============================] - 12s 52ms/step - loss: 1.4782 - accuracy: 0.5429 - val_loss: 1.5863 - val_accuracy: 0.4857\n",
            "Epoch 40/100\n",
            "225/224 [==============================] - 12s 51ms/step - loss: 1.4808 - accuracy: 0.5352 - val_loss: 1.4878 - val_accuracy: 0.5267\n",
            "Epoch 41/100\n",
            "225/224 [==============================] - 12s 51ms/step - loss: 1.4646 - accuracy: 0.5449 - val_loss: 1.6052 - val_accuracy: 0.4940\n",
            "Epoch 42/100\n",
            "225/224 [==============================] - 12s 51ms/step - loss: 1.4639 - accuracy: 0.5389 - val_loss: 1.4957 - val_accuracy: 0.5280\n",
            "Epoch 43/100\n",
            "225/224 [==============================] - 12s 51ms/step - loss: 1.4543 - accuracy: 0.5471 - val_loss: 1.7320 - val_accuracy: 0.4654\n",
            "Epoch 44/100\n",
            "225/224 [==============================] - 12s 51ms/step - loss: 1.4440 - accuracy: 0.5436 - val_loss: 1.5065 - val_accuracy: 0.5196\n",
            "Epoch 45/100\n",
            "225/224 [==============================] - 12s 52ms/step - loss: 1.4298 - accuracy: 0.5533 - val_loss: 1.4609 - val_accuracy: 0.5355\n",
            "Epoch 46/100\n",
            "225/224 [==============================] - 12s 51ms/step - loss: 1.4417 - accuracy: 0.5505 - val_loss: 1.5141 - val_accuracy: 0.5183\n",
            "Epoch 47/100\n",
            "225/224 [==============================] - 12s 51ms/step - loss: 1.4255 - accuracy: 0.5558 - val_loss: 1.4347 - val_accuracy: 0.5471\n",
            "Epoch 48/100\n",
            "225/224 [==============================] - 12s 51ms/step - loss: 1.4205 - accuracy: 0.5531 - val_loss: 1.4755 - val_accuracy: 0.5344\n",
            "Epoch 49/100\n",
            "225/224 [==============================] - 12s 51ms/step - loss: 1.4271 - accuracy: 0.5578 - val_loss: 1.6755 - val_accuracy: 0.4670\n",
            "Epoch 50/100\n",
            "225/224 [==============================] - 12s 51ms/step - loss: 1.4214 - accuracy: 0.5540 - val_loss: 1.4365 - val_accuracy: 0.5557\n",
            "Epoch 51/100\n",
            "225/224 [==============================] - 12s 51ms/step - loss: 1.4070 - accuracy: 0.5635 - val_loss: 1.5988 - val_accuracy: 0.4902\n",
            "Epoch 52/100\n",
            "225/224 [==============================] - 12s 51ms/step - loss: 1.4140 - accuracy: 0.5632 - val_loss: 1.4030 - val_accuracy: 0.5651\n",
            "Epoch 53/100\n",
            "225/224 [==============================] - 12s 51ms/step - loss: 1.4014 - accuracy: 0.5670 - val_loss: 1.4434 - val_accuracy: 0.5534\n",
            "Epoch 54/100\n",
            "225/224 [==============================] - 12s 51ms/step - loss: 1.4086 - accuracy: 0.5600 - val_loss: 1.4121 - val_accuracy: 0.5599\n",
            "Epoch 55/100\n",
            "225/224 [==============================] - 12s 51ms/step - loss: 1.3951 - accuracy: 0.5666 - val_loss: 1.4454 - val_accuracy: 0.5400\n",
            "Epoch 56/100\n",
            "225/224 [==============================] - 12s 51ms/step - loss: 1.4004 - accuracy: 0.5639 - val_loss: 1.4884 - val_accuracy: 0.5397\n",
            "Epoch 57/100\n",
            "225/224 [==============================] - 12s 51ms/step - loss: 1.3853 - accuracy: 0.5764 - val_loss: 1.3975 - val_accuracy: 0.5701\n",
            "Epoch 58/100\n",
            "225/224 [==============================] - 12s 51ms/step - loss: 1.3805 - accuracy: 0.5716 - val_loss: 1.4395 - val_accuracy: 0.5508\n",
            "Epoch 59/100\n",
            "225/224 [==============================] - 11s 51ms/step - loss: 1.3905 - accuracy: 0.5712 - val_loss: 1.3958 - val_accuracy: 0.5619\n",
            "Epoch 60/100\n",
            "225/224 [==============================] - 11s 51ms/step - loss: 1.3886 - accuracy: 0.5668 - val_loss: 1.4296 - val_accuracy: 0.5559\n",
            "Epoch 61/100\n",
            "225/224 [==============================] - 11s 51ms/step - loss: 1.3611 - accuracy: 0.5791 - val_loss: 1.3829 - val_accuracy: 0.5602\n",
            "Epoch 62/100\n",
            "225/224 [==============================] - 11s 51ms/step - loss: 1.3824 - accuracy: 0.5690 - val_loss: 1.3876 - val_accuracy: 0.5638\n",
            "Epoch 63/100\n",
            "225/224 [==============================] - 11s 51ms/step - loss: 1.3728 - accuracy: 0.5726 - val_loss: 1.4221 - val_accuracy: 0.5568\n",
            "Epoch 64/100\n",
            "225/224 [==============================] - 11s 51ms/step - loss: 1.3491 - accuracy: 0.5800 - val_loss: 1.4476 - val_accuracy: 0.5341\n",
            "Epoch 65/100\n",
            "225/224 [==============================] - 11s 51ms/step - loss: 1.3547 - accuracy: 0.5776 - val_loss: 1.4308 - val_accuracy: 0.5496\n",
            "Epoch 66/100\n",
            "225/224 [==============================] - 11s 51ms/step - loss: 1.3547 - accuracy: 0.5784 - val_loss: 1.4048 - val_accuracy: 0.5560\n",
            "Epoch 67/100\n",
            "225/224 [==============================] - 11s 51ms/step - loss: 1.3479 - accuracy: 0.5788 - val_loss: 1.3702 - val_accuracy: 0.5815\n",
            "Epoch 68/100\n",
            "225/224 [==============================] - 11s 51ms/step - loss: 1.3518 - accuracy: 0.5783 - val_loss: 1.4112 - val_accuracy: 0.5573\n",
            "Epoch 69/100\n",
            "225/224 [==============================] - 11s 51ms/step - loss: 1.3372 - accuracy: 0.5844 - val_loss: 1.3702 - val_accuracy: 0.5701\n",
            "Epoch 70/100\n",
            "225/224 [==============================] - 11s 51ms/step - loss: 1.3435 - accuracy: 0.5803 - val_loss: 1.3891 - val_accuracy: 0.5580\n",
            "Epoch 71/100\n",
            "225/224 [==============================] - 12s 51ms/step - loss: 1.3393 - accuracy: 0.5860 - val_loss: 1.4221 - val_accuracy: 0.5531\n",
            "Epoch 72/100\n",
            "225/224 [==============================] - 12s 51ms/step - loss: 1.3230 - accuracy: 0.5880 - val_loss: 1.3882 - val_accuracy: 0.5639\n",
            "Epoch 73/100\n",
            "225/224 [==============================] - 11s 51ms/step - loss: 1.3290 - accuracy: 0.5828 - val_loss: 1.4141 - val_accuracy: 0.5669\n",
            "Epoch 74/100\n",
            "225/224 [==============================] - 11s 51ms/step - loss: 1.3340 - accuracy: 0.5853 - val_loss: 1.3753 - val_accuracy: 0.5697\n",
            "Epoch 75/100\n",
            "225/224 [==============================] - 11s 51ms/step - loss: 1.3214 - accuracy: 0.5823 - val_loss: 1.3628 - val_accuracy: 0.5704\n",
            "Epoch 76/100\n",
            "225/224 [==============================] - 11s 51ms/step - loss: 1.3193 - accuracy: 0.5915 - val_loss: 1.3300 - val_accuracy: 0.5886\n",
            "Epoch 77/100\n",
            "225/224 [==============================] - 11s 51ms/step - loss: 1.3128 - accuracy: 0.5920 - val_loss: 1.3800 - val_accuracy: 0.5702\n",
            "Epoch 78/100\n",
            "225/224 [==============================] - 11s 51ms/step - loss: 1.3201 - accuracy: 0.5899 - val_loss: 1.3494 - val_accuracy: 0.5815\n",
            "Epoch 79/100\n",
            "225/224 [==============================] - 11s 51ms/step - loss: 1.3160 - accuracy: 0.5898 - val_loss: 1.4400 - val_accuracy: 0.5435\n",
            "Epoch 80/100\n",
            "225/224 [==============================] - 11s 51ms/step - loss: 1.3042 - accuracy: 0.5925 - val_loss: 1.3710 - val_accuracy: 0.5740\n",
            "Epoch 81/100\n",
            "225/224 [==============================] - 11s 51ms/step - loss: 1.3104 - accuracy: 0.5916 - val_loss: 1.3430 - val_accuracy: 0.5791\n",
            "Epoch 82/100\n",
            "225/224 [==============================] - 11s 51ms/step - loss: 1.2834 - accuracy: 0.6016 - val_loss: 1.3406 - val_accuracy: 0.5758\n",
            "Epoch 83/100\n",
            "225/224 [==============================] - 11s 51ms/step - loss: 1.2878 - accuracy: 0.6017 - val_loss: 1.3590 - val_accuracy: 0.5660\n",
            "Epoch 84/100\n",
            "225/224 [==============================] - 11s 51ms/step - loss: 1.2899 - accuracy: 0.5941 - val_loss: 1.3498 - val_accuracy: 0.5752\n",
            "Epoch 85/100\n",
            "225/224 [==============================] - 11s 51ms/step - loss: 1.2993 - accuracy: 0.5931 - val_loss: 1.3673 - val_accuracy: 0.5685\n",
            "Epoch 86/100\n",
            "225/224 [==============================] - 11s 51ms/step - loss: 1.2705 - accuracy: 0.6015 - val_loss: 1.3677 - val_accuracy: 0.5607\n",
            "Epoch 87/100\n",
            "225/224 [==============================] - 11s 51ms/step - loss: 1.2758 - accuracy: 0.5956 - val_loss: 1.3811 - val_accuracy: 0.5678\n",
            "Epoch 88/100\n",
            "225/224 [==============================] - 11s 51ms/step - loss: 1.2917 - accuracy: 0.5932 - val_loss: 1.3504 - val_accuracy: 0.5709\n",
            "Epoch 89/100\n",
            "225/224 [==============================] - 11s 51ms/step - loss: 1.2853 - accuracy: 0.6022 - val_loss: 1.3457 - val_accuracy: 0.5801\n",
            "Epoch 90/100\n",
            "225/224 [==============================] - 11s 51ms/step - loss: 1.2872 - accuracy: 0.5982 - val_loss: 1.3804 - val_accuracy: 0.5574\n",
            "Epoch 91/100\n",
            "225/224 [==============================] - 11s 51ms/step - loss: 1.2747 - accuracy: 0.6079 - val_loss: 1.3432 - val_accuracy: 0.5848\n",
            "Epoch 92/100\n",
            "225/224 [==============================] - 11s 51ms/step - loss: 1.2961 - accuracy: 0.5990 - val_loss: 1.3589 - val_accuracy: 0.5698\n",
            "Epoch 93/100\n",
            "225/224 [==============================] - 11s 51ms/step - loss: 1.2698 - accuracy: 0.6057 - val_loss: 1.3663 - val_accuracy: 0.5740\n",
            "Epoch 94/100\n",
            "225/224 [==============================] - 11s 51ms/step - loss: 1.2871 - accuracy: 0.6042 - val_loss: 1.3865 - val_accuracy: 0.5690\n",
            "Epoch 95/100\n",
            "225/224 [==============================] - 11s 51ms/step - loss: 1.2740 - accuracy: 0.6065 - val_loss: 1.3406 - val_accuracy: 0.5828\n",
            "Epoch 96/100\n",
            "225/224 [==============================] - 11s 51ms/step - loss: 1.2750 - accuracy: 0.6040 - val_loss: 1.3486 - val_accuracy: 0.5772\n",
            "Epoch 97/100\n",
            "225/224 [==============================] - 11s 51ms/step - loss: 1.2689 - accuracy: 0.6090 - val_loss: 1.4026 - val_accuracy: 0.5669\n",
            "Epoch 98/100\n",
            "225/224 [==============================] - 11s 51ms/step - loss: 1.2703 - accuracy: 0.6034 - val_loss: 1.3309 - val_accuracy: 0.5801\n",
            "Epoch 99/100\n",
            "225/224 [==============================] - 12s 51ms/step - loss: 1.2544 - accuracy: 0.6022 - val_loss: 1.3516 - val_accuracy: 0.5772\n",
            "Epoch 100/100\n",
            "225/224 [==============================] - 11s 51ms/step - loss: 1.2385 - accuracy: 0.6138 - val_loss: 1.3255 - val_accuracy: 0.5819\n"
          ],
          "name": "stdout"
        }
      ]
    },
    {
      "cell_type": "code",
      "metadata": {
        "id": "0gg8eYbaJTdG",
        "colab": {
          "base_uri": "https://localhost:8080/"
        },
        "outputId": "aeb3d6ec-9344-4bcc-e23f-c595743ad61d"
      },
      "source": [
        "model.evaluate(X_test,y_test)"
      ],
      "execution_count": null,
      "outputs": [
        {
          "output_type": "stream",
          "text": [
            "225/225 [==============================] - 2s 9ms/step - loss: 1.3256 - accuracy: 0.5819\n"
          ],
          "name": "stdout"
        },
        {
          "output_type": "execute_result",
          "data": {
            "text/plain": [
              "[1.3255500793457031, 0.5819169878959656]"
            ]
          },
          "metadata": {
            "tags": []
          },
          "execution_count": 11
        }
      ]
    },
    {
      "cell_type": "code",
      "metadata": {
        "id": "THgN8sdfdgvq"
      },
      "source": [
        "# model.save('drive/My\\ Drive/Facial_recognition/face_recognition.h5')\n",
        "# Recreate the exact same model, including its weights and the optimizer\n",
        "from tensorflow.keras.models import load_model\n",
        "model = load_model('face_recognition.h5')\n",
        "\n",
        "# Show the model architecture\n",
        "# new_model.summary()"
      ],
      "execution_count": 12,
      "outputs": []
    },
    {
      "cell_type": "code",
      "metadata": {
        "id": "hF_vse9Wai20",
        "colab": {
          "base_uri": "https://localhost:8080/",
          "height": 428
        },
        "outputId": "acf494e6-f93c-4a13-dfd0-7fb5865d6cae"
      },
      "source": [
        "plt.figure(figsize=[8,6])\n",
        "plt.plot(history.history['accuracy'],'r',linewidth=2.0)\n",
        "plt.plot(history.history['val_accuracy'],'b',linewidth=2.0)\n",
        "plt.legend(['Training accuracy', 'Validation accuracy'],fontsize=18)\n",
        "plt.xlabel('Epochs ',fontsize=16)\n",
        "plt.ylabel('accuracy',fontsize=16)\n",
        "plt.title('val accuracy',fontsize=16)"
      ],
      "execution_count": null,
      "outputs": [
        {
          "output_type": "execute_result",
          "data": {
            "text/plain": [
              "Text(0.5, 1.0, 'val accuracy')"
            ]
          },
          "metadata": {
            "tags": []
          },
          "execution_count": 12
        },
        {
          "output_type": "display_data",
          "data": {
            "image/png": "[encoded data removed]",
            "text/plain": [
              "<Figure size 576x432 with 1 Axes>"
            ]
          },
          "metadata": {
            "tags": [],
            "needs_background": "light"
          }
        }
      ]
    },
    {
      "cell_type": "code",
      "metadata": {
        "id": "uRm0IqrVcfDD",
        "colab": {
          "resources": {
            "http://localhost:8080/nbextensions/google.colab/files.js": {
              "data": "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",
              "ok": true,
              "headers": [
                [
                  "content-type",
                  "application/javascript"
                ]
              ],
              "status": 200,
              "status_text": ""
            }
          },
          "base_uri": "https://localhost:8080/",
          "height": 160
        },
        "outputId": "e7441cdf-88dc-4817-dcb2-0d33ab98a7ce"
      },
      "source": [
        "from google.colab import files\n",
        "files.upload()"
      ],
      "execution_count": null,
      "outputs": [
        {
          "output_type": "display_data",
          "data": {
            "text/html": [
              "\n",
              "     <input type=\"file\" id=\"files-2e8b3dfb-a04f-4fd1-afa9-4b40be6f636e\" name=\"files[]\" multiple disabled\n",
              "        style=\"border:none\" />\n",
              "     <output id=\"result-2e8b3dfb-a04f-4fd1-afa9-4b40be6f636e\">\n",
              "      Upload widget is only available when the cell has been executed in the\n",
              "      current browser session. Please rerun this cell to enable.\n",
              "      </output>\n",
              "      <script src=\"/nbextensions/google.colab/files.js\"></script> "
            ],
            "text/plain": [
              "<IPython.core.display.HTML object>"
            ]
          },
          "metadata": {
            "tags": []
          }
        },
        {
          "output_type": "stream",
          "text": [
            "Saving disgust.jpg to disgust.jpg\n",
            "Saving fear.jpg to fear.jpg\n"
          ],
          "name": "stdout"
        },
        {
          "output_type": "execute_result",
          "data": {
            "text/plain": [
              "{'disgust.jpg': b'\\xff\\xd8\\xff\\xe0\\x00\\x10JFIF\\x00\\x01\\x01\\x01\\x00H\\x00H\\x00\\x00\\xff\\xdb\\x00C\\x00\\x06\\x04\\x05\\x06\\x05\\x04\\x06\\x06\\x05\\x06\\x07\\x07\\x06\\x08\\n\\x10\\n\\n\\t\\t\\n\\x14\\x0e\\x0f\\x0c\\x10\\x17\\x14\\x18\\x18\\x17\\x14\\x16\\x16\\x1a\\x1d%\\x1f\\x1a\\x1b#\\x1c\\x16\\x16 , #&\\')*)\\x19\\x1f-0-(0%()(\\xff\\xdb\\x00C\\x01\\x07\\x07\\x07\\n\\x08\\n\\x13\\n\\n\\x13(\\x1a\\x16\\x1a((((((((((((((((((((((((((((((((((((((((((((((((((\\xff\\xc2\\x00\\x11\\x08\\x03R\\x025\\x03\\x01\"\\x00\\x02\\x11\\x01\\x03\\x11\\x01\\xff\\xc4\\x00\\x1b\\x00\\x01\\x00\\x02\\x03\\x01\\x01\\x00\\x00\\x00\\x00\\x00\\x00\\x00\\x00\\x00\\x00\\x00\\x02\\x03\\x01\\x04\\x05\\x06\\x07\\xff\\xc4\\x00\\x19\\x01\\x01\\x01\\x01\\x01\\x01\\x01\\x00\\x00\\x00\\x00\\x00\\x00\\x00\\x00\\x00\\x00\\x00\\x01\\x02\\x03\\x04\\x05\\xff\\xda\\x00\\x0c\\x03\\x01\\x00\\x02\\x10\\x03\\x10\\x00\\x00\\x01\\xfa\\xa0\\x00\\x00\\x00\\x00\\x00\\x00\\x00\\x00\\x00\\x00\\x00\\x00\\x00\\x00\\x00\\x00\\x00\\x00\\x00\\x00\\x00\\x00\\x00\\x00\\x00\\x00\\x00\\x00\\x00\\x00\\x00\\x00\\x00\\x00\\x00\\x00\\x05e\\x8eV\\x8cz7\\x99\\xcczG\\xcbS_S|\\x9e\\xaa\\xfa\\xd5?\"\\xae>\\xbd?\\x8dd\\xfbk\\xe4\\x1d\\x8a\\xfa;\\xcd\\xf7\\xaen\\x14\\x00\\x00\\x00\\x00\\x00\\x00\\x00\\x00\\x00\\x00\\x00\\x00\\x00\\x00\\x00\\x00\\x00\\x00c\\xce\\x9e\\x8b\\x85\\xe0\\xf9y\\xbe\\x8b\\x85M\\xf3y\\xdd\\x85\\xdc\\xf7\\xb5\\xad\\xd4\\xe7f\\xf3\\xb1\\xbbF\\xa5\\x12\\xb3Z\\xcbe\\xa3*\\xdc\\xa6\\x99K\\x1a\\xaf\\xac\\xab{R\\x93\\xe9>\\xaf\\xe2=]c\\xeb\\xae\\'o|\\xc2\\x80\\x00\\x00\\x00\\x00\\x00\\x00\\x00\\x00\\x00\\x00\\x00\\x00\\x00\\x00\\x06\\x0c\\xe8\\xf1\\xfcVoG\\x85Tq\\xbd\\x9c\\xeb\\xde\\xb3\\x9c,\\x97g\\xaf\\xcf\\xeacvq=\\x1f\\x9fNm[\\x11\\xd3\\x12\\xc5\\xba\\xcdP\\xba%4\\xe6\\x95\\xcet\\xa2lD\\xcd\\x8e\\'\\x83\\x7f\\xdb|\\xea\\xc6~\\xe3/\\x98\\xfd\\x17\\xaf-\\x91\\xa8\\x00\\x00\\x00\\x00\\x00\\x00\\x00\\x00\\x00\\x00\\x00\\x00\\x00\\x03\\x06<}^/\\x1a\\xd9\\xd0\\x84f\\xaa\\xb5\\xb8\\xb2\\xd8\\xa7Z^\\x8d\\xbc\\xfd\\xcc\\xdd\\xbe\\xbf\\x1b\\xb7\\x9dt\\xf8\\x1d\\xff\\x00;s\\xc5\\xae\\xca\\xb4\\x8en\\\\\\xe8\\xcb{:\\x9ah\\x08\\xd3\\xb1\\xce\\x9a\\x941\\x92s\\xd5\\xb2[\\xb3\\x99\\xe7X\\xedy\\xfb\\x19\\xfbN\\xff\\x00\\xc9~\\x9d\\xd7\\x96\\xe0\\xd6@\\x00\\x00\\x00\\x00\\x00\\x00\\x00\\x00\\x00\\x00\\x00\\x00x\\xdd\\x9f\\x9ce*\\xa7\\t\\xd2\\xa9U]m\\xc7\\\\m\\xdb\\xa7fu\\xb1\\xb9\\xa5\\xbf\\x9b\\xbf\\xd9\\xe5\\xfa\\x0cj|\\xae\\x97\\x9d\\xb3SB\\xe5\\xbar\\xb9\\xacF\\xe6\\x8d\\x9b\\xd1\\xd3\\xd7\\xb3kV\\xba\\x88\\xeb\\\\\\xa8N1\\x96\\xed\\xde|\\xe5\\xe8UU\\xb9\\xb9\\xf5\\x1e\\\\\\x9fs\\xb7\\xc3{\\x9e\\x9cC@\\x00\\x00\\x00\\x00\\x00\\x00\\x00\\x00\\x00\\x00\\x01\\xcc\\xe8|\\xc69Z\\x06z[\\xa7\\x18\\xd1*\\xeb9b,\\xbb;\\xf8\\xdd\\xbd\\x1b;\\\\\\xf7\\x9d\\x99s\\x92\\xbd\\x1b\\xa9kWWq\\xac\\xf3\\'\\xb7\\xa7\\xac\\xdc\\xd0\\xb2\\xe6z\\x9b\\x1a\\xe7>\\xbd\\xcd\\x1b+\\xcc!\\xa4\\xe5\\x8cFg]\\xa4\\xe5\\xabl\\xbb\\xd8\\xa6\\xfc\\xdd\\xdf\\xaa\\xfc\\x9b\\xd13\\xf4\\xe63\\xd7\\x98\\x00\\x00\\x00\\x00\\x00\\x00\\x00\\x00\\x00\\x00\\x08\\x9es\\xe6]\\xcf;\\x8dli\\xb3u\\n\\xa1+3\\x98\\xd9.\\xc5\\xb4\\xf4q\\xbb:\\x94o\\xf3\\xe9\\xb7\\xd3\\xaa\\xe6u5\\x9c\\xc6\\xb3^\\xc5\\x96iCz\\x9b\\x9au\\xb6a\\xa9\\xab\\xa5\\xbf\\xa7f\\xacTk5FT\\xd4\\xa1\\x0c\\xc5s\\xb2&c\\x88\\xd6\\xcck\\x94_e\\x12\\x97\\xa1\\xb7\\xcf\\xdc\\xc5\\xfa\\x87{\\xe6\\xff\\x00H\\xe9\\xc85\\x00\\x00\\x00\\x00\\x00\\x00\\x00\\x00\\x00\\x00r:\\xfe#/\\x0bM\\xd8\\x9b\\x8732\\xb0\\x85\\x8d[n\\xbe\\xd6uwR\\x1d\\x1e}%\\xd0\\xd5\\xdf\\xc6\\xba1\\xba\\x8dc\\x9d\\xad\\xb3Nu\\xabN\\xcd[\\xcdWU:\\xc5{z\\xc6\\xbe\\x8e\\xe6,\\xe7\\xeal\\xeajk\\xea\\xed\\xeb\\xeb4F\\xc8\\xdc\\xe2\\xda\\xe7-\\x94\\\\\\x96\\xbc.\\xb2\\xdc\\xeb\\xee\\xc6\\x9fS\\x95y\\xdb\\xfa\\xf7\\xc3\\xbe\\xa33\\xea\\xc7L\\x80\\x00\\x00\\x00\\x00\\x00\\x00\\x00\\x00\\x00\\xf9g\\xd2\\xbeU\\x8ds\\xf9\\x97\\xe9,\\xe3\\x1c\\xe9d\\xdb\\xd9\\xdc::\\xfd^]q\\xd0\\xbbw\\x96\\xe9\\xdb\\xb3a%\\x99Y\\xd3\\x9f3S\\xaf\\xa9\\x8d\\xf3\\xb5z\\x1a\\xab\\xa7F\\xedU\\xa9\\x1e\\x94\\xb58\\xd5z\\x0err\\xa1\\x7f7K\\xf5%n\\xb3\\xcd\\xa3\\xa9\\xa5s\\xac\\xb2:\\xc6l\\xaar\\xe6\\x17].#\\x9b\\x08k\\xeek\\xdc\\xdb\\xef\\xfe{\\xddO\\xb3\\xb1\\x9d\\xe0\\x00\\x00\\x00\\x00\\x00\\x00\\x00\\x00\\x00\\x0eG\\xce~\\x83\\xf2~[\\xe6\\xb6%\\xb5\\x17\\xd7L\\xd5\\xfbp\\xec\\xf3\\xe9gZ\\xbe\\x87\\x0e\\xf6l\\xaeL\\xd8\\x9e\\xf9\\xe6X\\x96\\xb2\\x85\\x8dMMm\\xf8\\xe3|\\xbc\\xf4\\xab\\xce\\xb5\\xb5\\xba\\x118\\xbc\\xdfQ\\xab\\x9dyyw\\xb4-\\xe0\\xf3=\\x06\\xae\\xb3\\xc3\\xd9\\xdd\\xe5\\xf5\\xe7\\x8a,\\x8e\\xf1\\x18\\xa6\\xcc-\\xa7\\x07j\\xbewg\\x1a\\xae\\x9e\\x85Vr\\xf6l\\xa7x\\xfb\\x86\\xe7\\x1b\\xb3\\xac\\x00\\x00\\x00\\x00\\x00\\x00\\x00\\x00\\x00\\x01\\xe2\\xbeu\\xde\\xe7\\xf2\\xe9F\\x8e\\xce\\x8dcoS\\xb2\\xe9\\xb1\\xd7\\xab\\xad\\xe7\\xefv\\xe5;\\x18\\xb6Y]\\x9a\\xcc\\xa7\\t\\xeb3\\x943\\xacI\\x1c\\x0cg\\x0b\\x96$C\\x13\\x10O%\\x15\\xeeb^O\\x1b\\xd6\\xc7\\x1b\\xf9\\xee\\xaf\\xd18\\xb3^#\\x9b\\xe9\\xf9\\xbdq\\xcb\\xae\\xc8u\\xe2\\xcdr\\xb9m\\xealK\\xe8wy=\\xceZ\\xe7\\xf2\\xfb\\xdc\\xbe\\x98\\xf7~\\xbf\\xc0\\xfb\\xee\\x9c\\x82\\x80\\x00\\x00\\x00\\x00\\x00\\x00\\x00\\x06\\xbe\\xc7&>k\\xaf\\xdb\\xf2\\xdcz\\xe8U\\x9b\\xba\\xcd\\x8fC\\xce\\xee\\xf0\\xf4\\xecnk\\xedp\\xebu\\xb5X\\x97YM\\x9a\\xcd\\x96S-f\\xd4qe\\x99\\x84\\xacg\\x01\\x9c\\x01 ,c\\x18\\x96X\\x8e!\\x0c\\xc3:\\xd4\\xf3\\xfe\\xa2\\x8co\\xe7\\xdc\\x8f\\xa2yn\\xb9\\xf3\\xf1\\xd9\\xa7\\xd1\\xc2\\x13\\xaaW;~\\xc3\\xc8\\xf5y\\xeb\\xd3\\xf1\\xbdG\\'\\x12\\x1fN\\xf9\\xef\\xd0\\xbd\\x1cB\\x80\\x00\\x00\\x00\\x00\\x00\\x00\\x00\\x07#\\xaf\\xc2\\xc5\\xf1\\xbe+\\xb3\\xc4\\xcfGOW\\xa6\\xd6\\xf7SG{\\xcd\\xea\\xda\\xba\\x9b\\xf1\\xa9\\xddU\\xb6JQ\\xcd\\xcc\\xe5\\x0c\\xd9nk\\x96\\x93\\x95rfl,\\xceq\\x82H\\xe4\\x961\\x138\\xc4%\\x9e+gHc\\x19\\xb9\\xc3\\x12\\xc3\\x9b\\xd5\\xc1\\xe0\\xb8\\xff\\x00D\\xf2\\x9ds\\xe7\\xaa\\xde\\xa3\\xd3\\xe7\\x8f\\x7f\\xcet\\x13\\xdbz\\x0f\\x1b\\xed8\\xb8\\xfe\\xef\\xcbzn\\xfc\\xae\\x1a\\x80\\x00\\x00\\x00\\x00\\x00\\x00\\x00\\x03\\xc6\\xfb\\x1f\\x9b\\xf3\\xd7\\x8e\\xd7\\xbe\\x17[\\x1d._[\\x9f]\\xed\\xed\\x1e\\x87\\x9b\\xd3}\\xd5]5e\\xd4\\xdbs9F\\xcdf)\\x93\\x12\\x94\\xac\\x8aX\\xb39\\xaf%\\x88\\x89f\\x18\\'\\x14F3\\x8c\\xdcBq\\x96\\xbcM5ZP\\x979\\xc6#<\\xde\\x85g\\x84\\xe6\\xfb_/\\xdf\\x9e\\x85Wg\\xd1\\xe7\\xea\\xfbO\\x9e\\xfa\\x1c\\xbd\\xafg\\x8d\\xda\\xd7=\\x81\\xbc\\x80\\x00\\x00\\x00\\x00\\x00\\x00\\x00\\x14\\xfc\\xbf\\xe9\\x9f2\\xe7\\xaf=F\\xc5M\\xdf\\xd1\\xe6\\xf4q\\xdb\\xa1\\xbf\\xcf\\xe8\\xf9\\xbb\\xedYU\\xb3S\\xba\\x9bY\\xbe\\xcal\\xdelbW,\\xe36#\\x9c\\x18J2\\xb0\\xcc\\xb1\\xcc\\xa4\\x91\\xceU\\x1cO%x\\x9ce\\x830\\xcd\\x8ce\\x89\\xacc8\\x96\\x15\\xd9Tj\\xf1{|\\xedO?WSO\\xd7\\xe6\\xd1\\xde\\xe8y\\xdd\\xf3\\xfa\\x97\\xa8\\xf0>\\xf5\\x8bF\\xf2\\x00\\x00\\x00\\x00\\x00\\x00\\x00\\x00k|\\xfb\\xe8\\xbf<\\xe7\\xaf;\\xc8\\xecs\\'M\\x8e\\xb6\\xa6\\xcf>\\xdb\\xfb\\xda;\\xbc;\\xec\\xdbU\\xd2\\xcaY\\xb1\\x98[\\x89Y\\x9b+\\xc6\\xa5\\xf2\\xd5\\x9d\\x9b1\\x8c\\xaeq\\tbX%\\x8c\\xdc\\x92\\xa4\\xa3\\x9b3\\x88\\xe2Yb\\x11\\x96U\\xd6\\xce\\xa7\\x86LF\\xc8\\xc4*\\xb2\\xb9h\\xd4\\xde\\xd5\\xb3W\\x87\\xd8\\xebz|\\xdc\\x9ewN\\xee\\xdc\\xb8\\x1fa\\xf9G\\xd3u\\x9e\\x80\\xb9\\x00\\x00\\x00\\x00\\x00\\x00\\x00\\x001\\xe4=?\\x03\\x1a\\xf9\\xa6$\\x9b\\xc7G\\x93\\xde\\xe5\\xe8\\xe9]\\x9bxv\\x96\\xc57&\\xc5\\x94\\xd9\\xacY$\\xb5\\x98\\xd5\\xb241\\xb7Fv\\xbb^e\\xea\\xf3s,\\xe31\\x88\\xe2+b#8\\x8eW5\\xd9\\x94\\xaas\\xccW\\x9c\\xe0\\xc5s\\x86uT\\xb3#\\x1a]\\xae\\x7fN~{r<\\xfd\\xce\\xfe\\x9fN^\\x9f\\'\\x07\\xdcx\\xff\\x00y.\\xc0\\xd6@\\x00\\x00\\x00\\x00\\x00\\x00\\x01]\\x94\\xc7\\x8b\\xbbR~oo\\x13\\xcf{\\xaf\\x07\\xd7\\x85\\xfe\\x93\\x8b\\xe9\\xb8\\xfa-\\x92\\xacj\\xdd\\x1al\\xd4\\x8d=\\x0b7\\x8d=\\xca\\xf5\\x0e\\xd5\\xder\\x8a\\xf4\\x95\\xf9\\xacg^\\xa6\\xcf?\\xd5\\xe5\\xd3\\xa1=+\\xe3s5KX\\xc4sT\\xb2\\xaa\\x8dY\\xad\\xfa9\\x9a\\x1b\\xcfN\\\\:\\xfac\\xd3c\\xcd\\xed\\'f\\x9d=\\x89l\\xde\\xe5\\xb3\\xae\\xfd\\xfc\\x1e\\xb6gwSn\\xcfW\\x97\\xcby?\\xa0x~]\\xfb\\xde\\x8b\\xc6z~\\xfe^\\x06\\xee\\xd6\\xbf\\x0fo\\xb2\\xbb\\x87\\xdc\\xef\\xe3\\rd\\x00\\x00\\x00\\x00\\x00\\x00\\x062>uoG\\x8d\\xe3\\xfa{\\xde/\\xd8y\\xbe\\xbe=\\x8fE\\xcd\\xebr\\xedV\\x96\\xfe\\xb6t\\xde\\xd6\\x9d\\x9bT\\xf9_;\\xdb\\x1f@\\xd2\\xf0\\xce\\x98\\xf5Ty+\\x93\\xd7n\\xf8n\\x8e{z\\xbc\\xe8mp\\xed\\xbb\\xbb\\xc7\\xde\\xe7zVQk-[\\xb5\\x97V\\xab*Y\\xd5\\xa9\\xe7\\xfag\\xb7\\xcd\\xe0\\xdd\\xdf\\xcd\\xd6\\xdb\\xf3\\xb5\\xef\\x1fA\\xec\\xfc\\x9a\\xcck\\xeb0\\xf0^\\xa7\\x97M\\xd8_O\\x1e\\x9e\\x8bk\\x95\\xd5\\xf6x\\xea\\xf1\\xde\\xe3\\xcd\\xcb\\xe5=\\x16\\x9d\\xf6\\xf5<\\xefgS\\xcf\\xee\\xf5\\x1dJ\\xec\\xf5|\\xd0\\xd6@\\x00\\x00\\x00\\x00\\x00\\x00\\x03\\x9b\\xe3\\xbe\\x81\\xf3\\xfe\\x1e\\x99Q-\\xee{\\x8d\\xd9\\xae\\\\i\\xdfV:C\\xcew8\\xbd3\\xe5\\xba\\xdd\\xce\\x9f~<J\\xbdT\\xb5<\\x1e\\xd7\\xac\\x81\\xc2\\xe2\\xfb\\x1evzio\\xe9\\xefs\\xe9v\\xd6\\xbe\\xd7\\x1e\\x9d-\\xa8\\xedLj\\xeb\\xf4\\xf5\\xce\\'?\\xa9\\xa3o#\\x95\\xde\\xe7\\xf7\\xcd\\xdb\\x17o\\xeb\\x9f\\x9a\\xd4\\xf67\\xf4\\xe1\\xe5\\xba\\xbb\\xac\\xeb\\xc1\\xd5\\xec\\xb5f\\xba;\\x9c~\\xc7\\x9f\\xbfC\\xd2\\xf9n\\xf6\\xb9t\\xb9=*\\xbb\\xf9\\xf80\\xear\\xf9\\xf6\\xa7{\\x97\\xdb\\xe7\\xe8\\xf4r=\\x7f8\\x00\\x00\\x00\\x00\\x00\\x00\\x00\\x00|\\xfb\\xe8>\\x0f\\x97\\xa3_\\xad\\xcd\\xecp\\xed\\xaf\\xaf\\xb3\\xa8\\x90\\xb6\\x9d\\xae}aGFZ\\x9a\\x97$\\xce#lt\\xa6\\x17E\\xadh\\xdd\\x85\\xa6\\x16Y\\x95;;6\\x13\\xd9\\xa6\\xfd\\xf3\\x8d7\\xd6r\\xea\\xdcs\\xde\\x8c\\xad\\x96\\xf3\\xab-\\x8c5U\\xd1\\x91*\\xec\\xcef\\xbcv\\xef\\x8dK7#Z\\x9b\\xda\\xb6WfQ\\xb3\\xd7\\xe1\\xd1\\xf3>\\x8b\\xccp\\xf5\\xcb\\xd5yoc5\\xd1\\x1e\\xaf\\x00\\x00\\x00\\x00\\x00\\x00\\x00\\x00\\x00\\xf1\\x1e\\xdf\\xc7r\\xef\\xab\\xd4\\xe6u\\xb8\\xf6\\xd7\\xe7\\xf4\\xf9\\x91^\\xce\\xb5\\xdc\\xbb\\xed]\\xab~\\xf35\\xd6k\\x1a\\x90\\xde\\x8d\\x9a1\\xddK\\xa0\\xde.\\xad\\xb9\\x94bq\\x95\\x92\\xba\\xbb5\\x9c\\xd5d\\rD\\xb3\\xcbq\\xa6\\xe9\\xd6\\xabn\\x1a\\x95\\xcd#3\\xc5\\x89\\x1b3\\x8b#T\\xea\\xc6\\xea\\x8ej\\x9b\\xf4Wj_\\xec\\xf9\\xfcnGK\\x9b\\xe7\\xf7\\xc7\\xd8y?c\\xae{\\xa3\\xd3\\xe1\\x00\\x00\\x00\\x00\\x00\\x00\\x00\\x00\\x1ek\\xd2\\xf21\\xd3\\x81\\xd1\\xe6t\\xbc\\xfe\\x97\\'\\xb1\\xc8(\\xb6\\x8b9zv6\\xb4v\\xac\\xdf\\xb7^\\xfe\\x9c&5\\x88\\xb3\\x025\\xd9Nu\\x155\\xe3{\\xd8\\x8c\\xf5-\\x9cg\\xac\\xc6\\x16\\xeb\\xcb\\\\%\\xaf\\xcfwf\\x8b\\x17ft\\xdb\\xbes\\x92Z\\xc62R\\xb9W\\x9dB\\xa9W\\x8e\\xb5W*\\xe6\\xbb\\xb7jl\\xfa\\xfc<\\x1d\\r\\x98\\xf9}\\xfb^\\xab\\xcez\\x8fG\\x8ec\\xb7\\x98\\x00\\x00\\x00\\x00\\x00\\x00\\x00\\x00s\\xba:\\x99\\xd7\\x8e\\xe9j_\\xe6\\xf7nr{\\\\}q\\xe7\\xce\\xa9q\\xf5\\xdf\\xb7\\xa5\\xb0\\x9b\\xfb\\x1a{\\x1b\\xe5\\xb0\\xaf:\\xc4\\xa0\\xaa%\\xa3o\\x9d\\xcf]\\xdb[\\xd9\\xb7]\\x0b\\xfar\\x8d\\xb0\\x9e\\xa4j\\xbe\\xb9u\\xf4w\\xb59t\\xd2\\xb7c\\x8f\\x9d\\xfa\\x0b\\xb8\\xbdM\\xe3nz\\xf6o\\x95\\x91\\x8e\\x0c\\xd7*\\xe6\\xeb\\xaeT\\xe7x\\x862\\xd7SsCo\\xd1\\xe3\\xf2\\xb7B\\xdf7\\xd0\\xefz\\x0e\\'o\\xd7\\xf3\\x03\\xa7 \\x00\\x00\\x00\\x00\\x00\\x00\\x00\\x01\\x19\\x0f#O\\xa3\\xf3\\xdeogc\\x95\\xd7\\xe6\\xeb\\x9f\\x067\\xd1\\xc3\\xd7m\\xfa\\xb7F\\xf6\\xd6\\x8e\\xcd\\xc6\\xd6j\\x96\\xb1\\x9ag\\xac\\xbc\\xfe]\\xdd\\x07n\\x94\\xf1\\'\\x0b.\\xa6\\xcdf\\xe2Z\\x8d{\\xf5\\xe6\\xb5\\xe8\\xba\\xbe=l\\xe4\\xf55S\\xcfz\\x0euW\\xaf\\xa7\\xb3Gk~{1\\x02\"\\xa6n5f\\xac\\xf4YU\\xd5\\xbb\\xb3\\xado_?\\x1bc[\\xb1\\xc3\\xd5\\xd8\\xde\\xc6}\\xdf,,\\x00\\x00\\x00\\x00\\x00\\x00\\x00\\x00\\x00FC\\x9f\\xc9\\xee\\xf19u\\xe3it\\xb4xz\\xa1mvg[\\x1bZ{\\t\\xb5*\\xa5s\\x8e^\\xe7-\\xd2\\xcd\\xeb\\x16U\\xb7\\xc9\\xb5\\x9e\\xbd\\xba\\x9b\\x17\\x17\\xce\\x8cjlQ\\x9as\\xaa\\xebj\\xf2\\xe9*\\xf5d\\xbb\\x1c\\xee\\xbdUOO\\x83\\xd7\\xe8\\xdc\\xc4\\x0eX\\xa6UMF\\x19\\xc6w\\x1b\\xea\\xbbSw\\xa9\\xce\\xf4\\x1d\\xfc\\xbc\\xbe\\xb5\\x8d\\xf2\\rd\\x00\\x00\\x00\\x00\\x00\\x00\\x00\\x00\\x00\\x00+\\xe0\\xfa\\x0e/=\\xf1t\\xf7\\xf4\\xb8z\\xaa\\x96s\\x8d\\xca\\xfanK\\xf3\\x11\\xa7\\x8az\\x97v\\xd5uw\\x97+\\x9f\\xd7\\xe7\\xba[\\xda\\xf3[\\xa7\\x7f\\x1a\\xab\\x9d\\xbdlhgQ\\xe5\\xdf\\x8ct\\x8fSS\\xa0\\xc5\\xebs\\xacr\\xa7\\xb9\\xa3\\xd2\\xf4\\x11\\x94\\xcdu\\xdd^m)c:[]\\xdb\\x9b\\xfe\\x8b\\xcf\\xfa/G\\x8f#\\xa70\\x00\\x00\\x00\\x00\\x00\\x00\\x00\\x00\\x00\\x00\\x03\\x1c\\xce\\xa6\\x8eo\\x9e\\xd0\\xeas\\xfc\\xfe\\xbad\\x967\\x8bad]\\x19\\xd6i\\xf4\\xf5v\\x978gY\\xd6\\xd2\\xeaQ\\x9dq\\xa3\\xd0\\xd1\\xbb\\xba\\xce%-z\\rnF\\xdc\\xb7_~\\xd6dw\\x1b\\x0eD\\xa3\\xbcW\\xaf\\xb3\\x8bi\\xb6\\xabV\\x15\\xddVl!f&\\xa3mv\\xeb=^\\xff\\x00\\x1f\\xb1\\xea\\xf1\\x06\\xf0\\x00\\x00\\x00\\x00\\x00\\x00\\x00\\x00\\x00\\x00\\x00)\\xba1\\xe6\\xb4\\xba\\xdc\\xff\\x00?\\xa7M8\\xe3\\xaaq\\xb36\\xc8Y\\x03\\x16\\xd7a\\x99\\xd3\\x1d.\\xae\\x9c]\\xe7\\x19\\x8bU\\xd5y\\xba\\xe7\\x92\\xe2lL\\xdd\\xb3\\xcf3\\xd2\\x8e\\xad\\xd9\\xe6c\\x08\\x9b%u[\\\\\\xd4IT-\\x85\\xfa\\xc7\\xa0\\xde\\xae\\xcf_\\x84(\\x00\\x00\\x00\\x00\\x00\\x00\\x00\\x00\\x00\\x00\\x00\\x03\\x99\\xca\\xf4\\\\\\x1e]ti\\xdc\\xd5\\xe3\\xe8\\x8d\\xb5\\xdb\\x8dO\\x12\\x10\\xccj5\\xf1Lzu\\xe8g\\xcaW\\xa7\\xacjQ\\'RR\\xd6,\\x8e\\xb7L\\xe7U>\\x1aue\\xe4h\\xd6\\xbd\\xde\\xd7\\x0b\\xa1\\xcb]eW\\xe3\\x8c\\x8c\\x95Wmk\\x1c\\xe35gOK\\xbb\\xd7\\xcf\\xba=>`\\x00\\x00\\x00\\x00\\x00\\x00\\x00\\x00\\x00\\x00\\x00\\x00\\x1c~\\xc5\\x19\\xbe\\x7fO\\xa1\\xa9\\xc3\\xd3\\xafer\\xe5\\xd6\\xe9C%P\\x93:\\xe0s}\\x95\\x1d\\xfa\\xf8k\\xfd\\x94\\xb5\\xbf7\\x7f\\xa3\\xd9O;\\xa9\\xeb\\xa3\\'\\x91\\xd9\\xf5K<\\x86\\x87\\xb7\\xd1\\xce\\xfc\\xeb\\xd1Jk\\xce\\xef\\xf5\\xef\\xcf*\\xacc\\x979\\xc5\\x1b\\x15\\xe6+\\x9b+\\xbbX\\xdd\\xf4\\x1a\\xbb~\\xbf\\x10o \\x00\\x00\\x00\\x00\\x00\\x00\\x00\\x00\\x00\\x00\\x00\\x00+\\xc7\\x07\\x1a\\xbfJ\\xfa\\xb8\\xf7\\xd2\\x85\\xb4\\xf3\\xedt\\xa8\\xb76,\\xa6\\xa1]\\xd1k\\n\\xf3\\xbd\\xd9uV\\xe9b\\xb5\\xcc\\xe9\\x94%\\xa36C:\\x96cf3\\x9b\\xa3\\x99\\xceP`\\xc41\\x88\\xce\\x12\\xd4\\x9fO\\x9f\\xdb\\xed\\xc3\\xa6=^P\\x00\\x00\\x00\\x00\\x00\\x00\\x00\\x00\\x00\\x00\\x00\\x00\\x18\\xce\\xa4h\\xf9\\xee\\xbf\\x97\\xe1\\xe8\\xe8\\xecro\\xe7\\xdf\\xa7\\xaaf\\xc6\\xca\\xf3\\x9btc)q\\x86\\x15\\x86\\x06c\\x05\\x9ca\\x93\\t\\tO\\x16\\x19\\x960\\x93V\\x89\\xe3\\x18\\x8cg\\x19\\xb1d6w\\x9a\\xf6|\\x97\\xa9\\xe9\\xcb\\xd5\\xb1\\x9f_\\x90\\x00\\x00\\x00\\x00\\x00\\x00\\x00\\x00\\x00\\x00\\x00\\x00\\x08hmrq\\xaeo\\x9d\\xearyzv\\xec\\xa6\\xee]\\xf1\\xb5\\xa5\\x9c\\xebz1\\x94\\xcc\\xa5\\x19K\\x9cJQ\\x19NvU+ge\\x12\\xbeU\\xaf\\x8d\\x8cI\\xae\\xba\\x19\\xb4\\xc6\\xe8\\xcbB\\xd8\\xae18\\x98-\\xb2|{\\xb8}3g\\xb7\\xf2\\xde\\xb7\\xa7.\\xe6q\\x9fW\\x90\\x00\\x00\\x00\\x00\\x00\\x00\\x00\\x00\\x00\\x00\\x00\\x00@\\xd6\\xe3u\\xb8\\\\\\xbaq\\xb9\\x1d\\x08\\xf3\\xee\\xd8\\x85\\xdc}5F\\xe8M/\\xd5\\xb26\\xac\\xd7\\xb9\\x8b\\xa5]\\x91)\\xd7\\x94\\xb2U\\xac\\xb9^l\\x9cq\\x82Q\\xc6f\\xb1\\x19W\\x19\\x8a2\\xb0\\x9d\\x8ee\\\\\\xcdj0\\xd7\\xb3\\xa6}o\\xa1\\xe5\\xf67\\xe5\\xe9\\xe6\\xb9z<\\xf2\\x14\\x00\\x00\\x00\\x00\\x00\\x00\\x00\\x00\\x00\\x00\\x00)\\x9d1G\\x9f\\xf4^g\\x9f^>\\x8f\\x9f\\xe8N\\xbe\\x83c_c\\xcb\\xeb\\x95s\\x96u\\xad\\x1b\\xab[/\\xd2\\xbagrT_qna6q\\x89\\xe2\\xa3&\\x16Y\\x86Ic\\x08\\xc6$!\\x86\\x8a\\xeequu\\xee\\xe5\\\\\\xa1uGK\\x99\\xe9z\\xf9\\xfd7S_s\\xb7\\x8e\\xca\\xed\\x87Nr\\x9c$X\\x84\\xab \\x00\\x00\\x00\\x00\\x00\\x00\\x00\\x00\\x0c`BQ\\x88\\xc6q+\\xf3>\\xa3\\x8f\\x9d\\xfc\\x9f\\xb3\\xce\\xedq\\xf6\\xeflk\\xdf\\xe7\\xed\\x99Fx\\xd6i\\xb8j/\\xa6\\x97k\\xe4\\xe8_\\xc9\\x93=w+3=\\\\r\\xe2u\\x9cJ\\xae\\xbb\\xf5\\xf0U\\xd8\\xd3\\xd1\\xa5\\xabu\\x8bkK\\x06+\\xba\\x9dJ\\xfd\\xf7\\x94\\xf7\\xfd\\xbc\\x9b7\\xc6\\xce\\xfe<\\xe3+1(\\xc8\\xceJ\\xceq\\x90\\x00\\x00\\x00\\x00\\x00\\x00\\x00\\x00\\xc63\\x83\\x18\\x96\"0\\xb2%u_T\\xbf:\\x8f\\xaa\\xf2\\xde_v\\xcd\\xd4\\xdd\\xc7\\xbd\\x86s\\xac\\xca\\xb9\\xc6j\\xb6&\\xac6kX\\xa35\\xc6g)+\\xc5\\xf8]j\\xf6\\xab\\xb7Z\\x1b\\x10\\xaa!uU\\\\n\\x81\\x06qs\\x1a\\xad\\xb3Y\\xf4\\x9e\\xab_o\\xd7\\xf3\\',K|\\xf3\\x19)\\x96A\\x9a\\xc8\\x00\\x00\\x00\\x00\\x00\\x00\\x00\\x00\\x0cbQ\\x18\\xca\"\\xce\\x08Fp4\\xbc?\\xbf\\xe2q\\xf4y\\xebi\\xb7\\xc9\\xee\\xbeu\\xd9\\x8dbI\\x11O\\x11\\\\-\\xc4\\xb5fr+\\x94\\xf2C\\x16\\n*\\xd8\\xaa\\xa8\\xae\\xe8]S\\x0bbU]\\xb1\\xaa\\xf1*\\xeea\\xeey>\\xbb\\xd5\\xe2\\x95\\xb4\\xcb\\xbf\\x92\\xfc\\xd7j2\\xcd\\x00\\xce%@\\x00\\x00\\x00\\x00\\x06\\x01\\x90\\x00\\x00\\x18\\xc6F\\x041\\x91\\x08\\xce%4\\xecS\\x9b\\xe3\\xf5\\xfd\\x1f\\x9c\\xf1\\xfd\\x0b\\xac\\xae\\xce=\\xa7(\\xce\\\\\\xe5\\x99#\\x1bpS\\x99\\xe6\\\\K9HB\\xe8-5_U\\xb4\\xc2\\xd8[Lo\\xa9i\\xae\\xd8\\xd5]\\n\\xfd\\xa7\\x7f5\\xd1g\\xd5\\xf3\\xe1)Ek\\xdc\\xe7\\xf4\\x13i\\t\\xef!IF@\\x00\\x00\\x00\\x00\\x00\\x00\\x00\\x00\\x06\\x19\\xc1\\x80\\x08\\xc6c\\x18D\\xa9\\xbe\\xb2\\x8f\\x1f\\xed<\\xdf\\x0fO>\\xc8\\xd9\\xe4\\xf6\\xe6x\\xcel\\xf3\\x89\\xc9\\x8cHc,\\x8cH\\x98\\x8c\\xa2\\xb5\\xd5l\\x1a\\xa66\\xc1j\\xaa\\xfa\\xd6\\x84\\xfb}1\\xd3\\xbeOw\\xcc\\xcc\\xd9\\xd61\\xad~e\\x9d\\xb2\\xce\\xa4o\\xa2\\xc4\\x90\\xd1(\\xe4\\xc8\\x00\\x00\\x00\\x00\\x00\\x00\\x00\\x00\\x063\\x83\\x0c\\xc2#]\\x91\\\\G(\\xceabC\\x9f\\xd2\\xa6_\\x1ff\\xd6\\xaf\\x83\\xe9K&7+j\\xb2%\\x19\\xc6H\\xb2\\x8c\\x8a\\xc4\\'\\t\\xaa\\xe38\\xac#dV\\xba\\xee\\xac\\xc7\\xae\\xd4\\xdc\\xf7\\xfc\\xf8\\xdb\\x8b;pc$\\x8d\\xf0\\xbe\\xb0\\x96,\\x8eX-FC8T\\x80\\x00\\x00\\x00\\x00\\x00\\x00\\x00\\x00\\x01\\x18\\xcb\\x11\\x88\\xc8W\\x1b\"\\xb0\\xccc\\x17\\xd7,Y\\xc7\\xe6z>\\x17\\x93\\xd7B\\xea\\xfc\\xfe\\x9cY\\x19\\xe7S\\xc4\\x970\\xc4\\xb1\\x91\\x9cTa8MF6\\x1a\\xaf\\x13\\x8eU\\xdd_\\x7f\\xbf\\x1d\\xbcF~\\xff\\x00\\x9d\\x993Lf\\xc2R\\xcel\\x8aX#\\x89`\\xc4\\xeb\\x16\\x99\\xac\\x80\\x00\\x00\\x00\\x00\\x00\\x00\\x00\\x00\\x02,\\xe0\\xc63\\x88FB\\xba\\xee\\x8c\\xba\\xf7B\\xa9v9\\x9d:c\\x83\\x8d\\xfd?\\x1f\\xba\\xb9O\\x18\\xdb\\x12\\xc4\\xb5\\xe5\\x98\\xc6%\\x828\\x9e\\x1a\\x8aQ\\x93\\x18\\x92+\\xf4Z=\\x0fg\\x8f6B\\xcfO\\x99\\x14\\xe5\\xcd\\xd1\\xb3P(\\x08\\xe2X\\x88bBS\\x84\\xcc\\x8a\\x00\\x00\\x00\\x00\\x00\\x00\\x00\\x00\\x00FX1\\x8c\\xe2\\x18\\xc8\\xc4g\\x82\\xbav#.\\xad\\xd1K\\x1d>\\x84%\\xe2\\xe3\\xa1\\xa3\\xe5\\xf5\\xe29\\xc6:A&k\\x13\\xcd\\x95,\\x15\\xc6\\xd8gX\\xd9\\xaf\\xad\\xdb\\x84\\xb3\\x89\\xfb<yg\\x06m\\x8d\\xc4\\x86\\xa38\\xc9\\x80#,Ds\\x9c\\x89c4\\x00\\x00\\x00\\x00\\x00\\x00\\x00\\x00\\x00\\x03\\x19\\xc1\\x8cda\\x9c\\x19\\x11\\x18\\xcf\\x054\\xedU,q\\t\\xca\\xe7\\xf4c5\\xc6\\x8e\\xc5~_]i\\xb1\\xacI\\x9b1\\x19\\xe1+Y\\xb7e\\x96\\xb3\\xec\\xf1\\xe6y\\\\\\xc6K\\x16Vc6\\x05\\x00\\x06\\x0c\\xc38\\x95\\x00\\x00\\x00\\x00\\x00\\x00\\x00\\x00\\x00\\x00\\x00\\x18\\xc4\\x84Y\\xc0\\x00\\x11\\x85\\xb1\\x8dzv\\xea\\x969\\xa6p\\xd0\\xe9U\\x9d\\xf2\\xf37\\x9b\\xd7\\x0cI),\\xdc\\xe7{\\x19\\xf4\\xf9\\x96\\xe2}9c\\x19\\xb21ll\\xa0\\xa0\\x06\\x06\\x08J2\\xa9\\x00\\x00\\x00\\x00\\x00\\x00\\x00\\x00\\x00\\x00\\x00\\x00\\x00\\x0c2\"\\x96\\x0cc\"\\x10\\xb6\\x11E\\x1bt\\xe7Q\\x9e\\xbd\\xa44z\\x9a\\xdc\\xfaj\\xe69\\xe5\\xdf;Umt\\xe5\\x8b\\x17v\\xe1\\x88K\\x16f\\xe0\\xceq\\x90(\\x04X\\x86c\"Y\\xc4\\xa8\\x00\\x00\\x00\\x00\\x00\\x00\\x00\\x00\\x00\\x00\\x00\\x00\\x00\\x00\\x03\\x0c\\x88\\xe2X+\\xae\\xf8e\\xa9V\\xd5SY\\x956&\\x9d=N\\x7f.\\xfb7\\xc7c\\xa7\\x11\\x8d\\xe67\\xe2f\\x0c\\x19\\xce2\\x050\\xc4#!\\x19\\xe2FrP\\x00\\x00\\x00\\x00\\x00\\x00\\x00\\x18\\xc8\\x00\\x00\\x00\\x00\\x00\\x00\\x00\\x0cdF6D\\xaa\\xbd\\x88e\\xafV\\xd5k\\x19\\xd5l,\\xcc\\xec\\x84\\xf2\\xa3*\\x88\\x8c\\xe7\\x19\\x02\\x98\\xc8\\x191 \\x00\\x00\\x00\\x00\\x00\\x00\\x00\\x00#(L\\x00\\x00\\x00\\x00\\x00\\x00\\x00\\x00\\x00\\xc6$+\\x85\\xd1\\x8a#~#\\x13\\xaed\\xb2\\xc51,\\x11\\xcb&E2\\x0c\\x80\\x00\\x00\\x00\\x00\\x18\\xc8\\x00\\x00\\x00\\x00\\x15Y\\xafq0\\x00\\x00\\x00\\x00\\x00\\x00\\x00\\x00\\x001\\x91\\x18\\xcf\\x05y\\x9e!\\x9cdc81,de\\x9a\\x00\\x00\\x00\\x00\\x00\\x18`J2\\x00\\x00\\x00\\x00\\x03N\\xf0\\x9c\\x80\\x00\\x00\\x00\\x00\\x00\\x00\\x00\\x00\\x00\\x001\\x82\\x00\\x00*@\\x00\\x00\\x00\\x00\\x00\"\\x04\\x80\\x00\\x00\\x00\\x00?\\xff\\xc4\\x00/\\x10\\x00\\x02\\x02\\x01\\x03\\x02\\x06\\x02\\x02\\x03\\x00\\x02\\x03\\x00\\x00\\x00\\x01\\x02\\x00\\x03\\x11\\x04\\x10\\x12!1\\x05\\x13 \"@P0A23\\x14#`\\x06\\x15$4p\\xff\\xda\\x00\\x08\\x01\\x01\\x00\\x01\\x05\\x02\\xff\\x00\\xf3\"\\xc0C}B\\x7f\\x93D\\x17\\xd4~\\xed\\x98(}}\\x0b\\x1f\\xc5\\x15`\\xf1A\\x9b<K\\xdb~\\xb1\\x9d\\xbf\\xf6\\x17\\x80u\\xfa\\x86\\x8f}\\xc6r\\xba7\\x9a\\xc7\\xfd\\x82y\\x875\\xeb\\xae\\xaeQ\\xe3v\\tG\\x8a\\xd4\\xf2\\xbb\\x16\\xc1\\xf6\\x9a\\xaf\\x14\\xd3\\xd15\\x1e7{\\xc6\\xd4]iVi\\xee\\x88#\\xb9\\x84\\x989L\\t\\xe6\\x08,\\x86\\xd4\\x9ecG\\xf7CX\\x8dY\\x9f\\xc6Q\\xab\\xb6\\xa3\\xa2\\xf1u`\\x8c\\xae\\xbfa\\xac\\xf1D\\xa6j\\xf5\\xf7\\xde\\x7f\\\\V\\n\\xf3\\x05fU_\\xbb\\x87\\xb6\\xc59\\xe1\\x89\\x80&c\\x1c\\xce\\x82r\\x13\\xdb:B\\xd02\\x18A\\x99\\x11I\\x13I\\xac\\xb2\\x87\\xd1\\xeb\\xd2\\xff\\x00\\xae\\xd4\\xea\\xaa\\xd3.\\xbb_v\\xa27X\\x04\\xff\\x00X\\x99\\x10r1\\x14\\x19\\xa7Ira_\\xdaY\\xfa\\x92L\\xea`\\xc8\\x9c\\xb3\\x0e\\'\\xeafeL\\xc6\\x18\\xb4\\xe3\\x99\\xcb\\x12\\xabJ\\x9f\\x0e\\xf1Eh\\x0eG\\xd5k<D,\\xb6\\xff\\x00s\\x12`\\x98H\\x1dq\\xd4\\x84X\\x83\\x06\\xa9p$Z&:\\xfb\\x04\\xe6\\' O)\\xc8\\x18Ef\\x1a\\x04t+\\x14\\x19\\xcc@D\\xc0\\xce`\\xc8\\x81\\x83O\\x0f\\xf1+4\\xc6\\x9bR\\xe4\\xfa~\\xc3\\xc4u\\xbc\\xa3\\xb1\\x8c\\xd8\\x80\\xe6)f\\x8bZ\\xc5\\xc4\\xe6\\x04[s\\x14\\xca0aP\\x12\\xccf\\xc2\\xc4\\xf18\\xe1\\xd4\\x84\\x9e\\xc1\\x03\\xce@\\xc3\\xd0r\\x00\\x1e\\xb1\\xba\\xccbr\\x99\\xf7v\\x9d\\xe2\\xd9\\x89\\xa4\\xd5Y\\xa3}&\\xa55U}7\\x8a\\xf8\\x87\\xb9\\xec\\xc9$\\xb4\\xef\\x00\\xcc\\x03\\x11\\xed\\xe0\\x0b\\xb3\\x94P\"\\xb4EiOg\\xfe\\x17\\x12K\\xf2\\xce@9\\xcc\\xc4L\\x10Pa\\xa8Y\\xc4\\x08\\xdc\\xc0\\xcad\\x93\\xb6\\x0cS\\x01\\x19+\\xd0\\xc4r\\x8d\\xa3\\xd4\\x7f\\x8ff\\x96\\xf4\\xd4U\\xf4\\x9e/\\xe2!Fz~\\x99\\xf38\\xcf0\\t\\xe6Oh\\x00\\xf4\\x072\\xae\\x91%#0\\xf4\\x16\\xba\\x18\\xfeQ%!&\\x0c\\x98,e \\x96\\x1f\\xc4\\x92#\\x96X\\xc6\\xab#S\\x88I\\x11Zg0\\x18\\x1b\\x01\\xd40\\xee\\x11\\x8a?\\x87\\xea\\xcd\\x16V\\xebb}\\x17\\x8ck\\xbc\\x84\\xc1&\\x16\\x9c\\x80\\x9dI\\x83\\x02w#\\x11rb\\x83*\\xaf2\\x852\\xe1,\\x0030\\'\\xae \\x03%^=x9\\xb5\\x07\\x999\\x08\\xd3\\x00\\xceX\\x84)\\x9c\\x9a\\x0e\\xb1p`%`\\xc3\\x0e\\xe2\\xbb\\n\\x1f\\x07\\xd5p?C\\xaf\\xd4\\x8d57\\xb3;\\x92KwVn\\xb3;v\\x80f/IXiU`\\x94\\xab\\x00\\xb0U\\xb2\\xf5\\x84\\x89\\xcb2\\xc5\\x9c\\xdcO2(\\xc4b\\xc6tiejaL\\x13\\xd3l\\xf4\\xfd\\xf23\\x19\\x8c`\\x7foX\\x1b\\xcc\\x18\\xcbil(\\xfe\\x1d\\xa8\\x17\\xd1\\xf3\\xd8\\x85_\\x12\\xd5y\\x97\\x12r\\x83!\\xdf0u\\x99\\xd8N\\xd1\\x10\\x91]R\\x94\\x94\\xd7\\x1aX\\xe4\\x12X\\xc2x\\xcf5Ln\\x060F_/\\x13\\xa2\\xc0\\xe7\\ra\\x86\\xc50\\x80A\\x18\\x879\\xcc;g\\x11z\\xccb!\\x8c\"2\\xd9:\\xb0\\xf0\\xbd_\\x95o\\xcf\\xf1\\x9dG\\x97S\\xb6X \\x96\\xd8^\\x0e\\x93;\\xe2\\'X\\x95\\x83\\x15@\\x94\\xa9\\x88x\\xcbXN\\xae\\x1a\\xb9\\xc5\\xf1\\xc1\\x8c\\x03\\x8cu\\xe9\\xc4\\x18\\xf5\\x11\\x19A\\x99*]\\x9cB\\x15\\x89f\\x9e\\xd3\\n\\xcc\\x1131\\xb7,\\x92\\xa5J6gBS,\\x17\\xbf\\x84j<\\xed7\\xcd\\'\\x03\\xc4\\xb5\\x06\\xfb\\x94s69\\xb2\\x10+\\x19\\xe4\\xd9\\xdb8\\x88\\x85\\x8a\\xae\\n\\x83+\\xe8j\\x06Z%\\x82d\\x06\\xe6\\xc2\\x13\\xca\\x7f\\xb0N\\xa67\\x11\\x01V\\x9e\\xceO\\xdd\\xabe\\x9d\\xa3`\\xc6\\xc8\\x9d&H\\x8aa\\x1e\\x80H\\x80\\x1c\\xe72\\xb6\\r\\x14\\xf1>\\x17\\xa8\\x15j~o\\x89\\xd9\\xc3M\\xaa<\\x9e\\xc21\\xfd\\nIf\\xec\\x07Y\\xd0N\\xd2\\xbeM\\x11\\x02-hHLJ\\xbbY\\x89`\\x06\\x15\\xb2\\x12\\xd0\\xf9\\x06yjI\\xae\\xd4\\x04\\xd9\\x0b$~0\\x8cF\\xc2\\xc2\\xd9.\\x04 \\x89\\x99\\xfa\\x993\\xdac\\x0c\\x113\\x88\\x84)\\xb0a\\xb3\\x88\\x1cp\\xa1\\xb8\\xdb\\xa6~t\\xfc\\xcf\\x1f\\xb8\\xac\\xc7\\x94\\x81V\\xb5v67E\\xd8u\\x9d\\xa2W\\x99R\\x16\\x88\\xa8\\x90\\x10Mq;8\\xebb!\\x9c:\\x9f5I\\xbd\\xf2MM\\x12\\xa0a\\xae\\xe0\\x1d\\xcf\\x154\\xcb\\x11\\x18\\xb2\\xb8\\x85A%a\\xca\\x93\\xd6b\\x0e\\xc0\\x10:\\x11\\xde\\x7f\\x19\\xd0\\xa8\\xe8\\x00\\x1c1\\x83S\\x0e5\\xf2\\x9e\\x03aj~g\\x88\\xda,\\xd4\\x85\\x97\\xd9\\xe6?D\\x81I\\x9cNz\\xb4J\\xb0B\\xa2E\\xe6\\xf1k\\x11\\x04Q\\x16\\x11\\x1dg\\xb6\\x1ftt\"1\\x9c3<\\xabV3j\\x04k\\x04\\xf6<\\xc5\\x82g1\\xe9\\x19p\\xeb0\\x0c#\\x1bv\\x9d\\xcc\\xc4\\xc1R\\x980{\\x19\\x87\\x97\\x18b)+<\\x16\\xde7|\\xbdCp\\xa2\\xd5\\xe6\\xda\\xdb\\xb9\\xd9\\xfc@\\x19\\x9f\\xca*\\xca\\xc2\\x88\\xa7\\x94\\xa6\\x90\\xb1\\x011P@ \\x18\\x83fY\\xc6=b\\x1a\\xcc*\\xf3\\x06/\\x1c+b\\x12\\x08\\xba\\x8a\\x9e>\\x95\\x84\\xb0\\xdb\\x12\\xecNq\\xd5LpV\\x111\\xb6`<f31\\x89\\xd3,\\x98*=\\xddg\\x86\\xdaV\\xc1\\xd4|\\xaf\\x14n:Mkyh`\\x13\\x05\\xa1\\xc09\\x95!&\\x94\\xc4\\xad\"\\x88 \\x1e\\x9cB\\xb9\\x8d\\\\5\\x91\\x07x\\xea\\x86>\\x96\\xb6\\x8fM\\xab9\\xb2\\xcc\\x87\\x96\\xd4\\xa6\\x1aYb\\xbf\\\\\\x83\\n\\xed\\x8d\\xb3\\x88\\x87\\x8b\\x00,\\x0c8\\xcc\\x00\\x96W\\xca\\xb79]#q\\xb7Hyi\\xbeW\\x89\\x90+\\xd4\\xbf;\\x95y\\x92\\x0f\"\\xd8\\x9d\\xe5I*\\xaeV\\x91R\\x01\\x07\\xaf\\x13\\x13\\x10\\xac\\xe1\\nN\\x11\\xd2\\x1a\\xc4\\xb3L\\x0cdz\\xc7C,\\xa4<j\\xcaNF7Y\\x9d\\xbfc\\xa4G*G\\xba\\xb4\\x1c\\x82\\x87Kn\\x01 _*\\xdf\\t~z/\\x95\\xe3\\xd7\\xf9b\\xb4\\xe4X\\xc6=%b 2\\xb4\\x95\\xae\"\\xc1\\xf91\\xb6&\\'\\x18j\\x8f\\xa7\\xcc\\xbfE\\x1e\\x9b\\x16\\x16\\x06]L9H\\xc0\\x19\\xdaw\\xd9{\\xd1a\\xac\\x81\\x81\\xa8Cj\\n\\xc5\\x81A\\xe1\\xff\\x00\\x8e>t\\xff\\x00+\\xc6\\xed\\xf3\\xb5k_\\x04s\\x92\\xc4E\\xeaiI]q\\x04\\x10A\\xf0\\xf1\\x1e\\xb0\\xd3Q\\xa2\\r-\\xd3YQ`\\x1c0\\xe2a\\xe9;\\xc0a\\xfe>\\x1e\\xfc\\xa6\\x9cyr\\xda\\xb8[\\xaa\\xc9O\\xfc}\\xf1g\\xc9\\xd47\\n1\\x86\\xb3\\xaa\\xdbg2\\x04\\xa9rj\\\\D\\x18\\x8b\\x06\\xc3\\xe2\\x99ea\\xa6\\xa3J\\t\\xbe\\xb2\\x0b\\xa66\\xed;\\xc4=A+47-\\xd58f\\xd3\\x95\\xf3+\\xf06)w\\xc9\\xf1&\\xc6\\x98S\\x8a\\xf5ve\\xb3\\x10fP\\x9dj\\x10A\\xd8m\\x9d\\xf3\\xf0\\xb3\\x0ca\\x91u \\x8b\\xe85\\x97\\xaf\\x1b~\\xe5G\\xad\\x0ch\\xb6\\xae\\x0e\\r~]\\xcf\\x85\\xf1\\x0f\\x93\\xaf=5\\xb6\\xf1\\x8f\\x17\\xac\\xa9eC\\xa2A\\x07oNf\\x7f\\x0efffv\\xce\\xc4\\xcc\\xcc\\xecFe\\xf4\\x82/\\xa7\\xcb.\\x84\\x123\\xb2\\x99S\\xf9\\xa9\\xe1\\xec\\x03q\\x0c|Ab\\x9c\\xaf\\xc8\\xd70\\x13^\\xfc\\xde$\\xac\\x13\\x13\\xa4X\\xbb\\x08>]\\xd4\\xe4j*\\xe1\\x19q\\x1dr%\\r\\xee\\xd3?\\xfbj<\\xce\\xb5r\\x94\\x9c\\xd5\\xf2<f\\xce\\x12\\xec\\xb3(\\x88%}bE\\x11v\\x1b\\xe3\\xe1\\xe3\\xd7\\xa8\\xa7\\x90\\xbe\\xbe\\x04\\xae\\'\\x10\\xd1:\\x15\\xb7\\x0b\\xa4\\xb3+z\\xf2M?\\xf4|\\x8f\\x13>e\\xcf\\xeen\\x91:\\x94\\x89\\x16\\x0f\\x81\\x99\\x9f\\xccf\\xa2\\xb1,B\\x84\\xc6\\xea\\x89\\xef_\\x0e\\xb3!l\\x94\\xf4\\xab\\xe3\\xdaq_\\x88\\x92\\xce\\xfd \\xc4C\\x89\\\\X\\xbb\\r\\x84\\x1f\\x93\\xaf\\xe7h\\xfd\\xae\\x037W\\xe50\\x1c\\x1e\\xc5\\xf2,\\xd3\\xbf\\x91}#\\xa2\\x7f\\x0f\\x8f\\xa9\\xfe\\x9dWX\\xeb\\xd5\\xbb\\xa1\\xea\\x91\"\\xc1\\xb8\\x80\\xcc\\xfe\\x1c\\xfe\\x1cLC\\xeah\\xd2\\xd5\\xcc\\xbc7\\x95OCxR=\\xd4\\xbf\\x85\\xea9\\n\\xbf\\x87\\xc7\\xd4\\x0eUk\\xc8\\xadx\\xf0\\xab\\xae*\\\\\\xc1\\x81\\x12.\\xf8\\xf8\\xc4\\xcc\\xfa\\x8e\\xd6\\x8e\\xbcA[+\\xf2\\xa2\\x05\\xb2\\x8dU\\x01\\xdbAa\\xd3\\xddI\\xcd\\x7f\\x1e\\xdf\\xeb\\xd4\\xa7\\x9b\\xa9\\xd7\\x1c\\x902S\\xd8\\xaaec\\xa2\\xc1\\xb0\\xdb\\x13\\x1b\\xe6\\x06\\x80\\xfaq1\\xeb&g\\xd2v\"\\x11,\\x11O\\x1b,Et\\x14\\xff\\x00\\x8e\\xc2\\xb4\\'\\xc8\\xe34_\\xfd\\x7f\\x91\\xaeA\\xa7\\x17\\xf7\\xa4f\\x06\\xe4\\xd5\\tX\\xe9\\x04X\\x04\\xc4\\xc4\\xc4\\xc4\"\\x111\\x16g\\xd5\\x99\\x9fF&\\'\\x19\\x89\\x8d\\xce\\xc0GN\\x852-\\x18\\x9aa\\xe6L\\x14_-\\xbc\\xa6\\xff\\x00a\\xf0\\xf1\\x8d7\\xc77(:\\xe5]B\\xea\\xc7\\xfb\\x9f\\xd9UC\\xadBW\\xdb\\xf7\\x01\\x81\\xc0\\x82\\xc19\\x88\\x0e\\xd8\\x86\\x1cL\\xc533;\\xb1\\xdf;ffg\\xd1\\x99\\x9d\\xd4u\\xc6\\x15\\x94\\xab\\xea\\x07M;\\x98\\xe2\\xcb(\\x03\\x9a\\x9f*\\xa3W\\x14O\\x8c\\xfd\\x16\\xcb\\x08\\xb5=\\xcb\\xac\\xa4\\x06\\xb8\\xf5\\xd3\\x0c\\x9a\\x84^\\x90\\x98\\xed\\xd0\\xdd\\xd7\\xcc3\\x99\\xcaZ\\xc2.\\xa3\\x11uB\\x7f\\x90\\xb8:\\x89\\xcf0\\x18\\x0c\\xcc\\xce\\xe7bai\\xccF\\xbb\\x11\\xb5-\\x06\\xa6\\rWO\\xf2g\\xf9\\x19\\x9f\\xe4A\\xa99\\xae\\xec\\xc0b\\xf7\\x03\\x92\\xda\\xa6j\\xd3\\xdb\\x9c[\\xa5\\xb3+\\xc80\\xd7h\\xb9\\xdb\\xa6%EG\\xd9\\xf1m\\xfe\\xb6p\\xf0\\x8fv\\xb93]\\xa3\\xdd\\xa4YZ\\xce\\xd1\\x8e#9x\\x95\\x92<\\x8cO$\\xe3\\xc81\\xab \\xe0\\x89\\x9c\\x1eg<\\x9c\\xca\\xac1Z\\x06\\x80\\xc0w&3Gx\\xecc\\xf2\\x9cZ`\\x88\\t\\x83\\xac\\t\\x984\\xe6y-\\x142\\xc4\\xb1\\x96P\\xfc\\xa5Q\\x87]J\\x0e:\\xaa\\xca\\xb2\\xb1a\\xa7\\xd4\\xa8[\\x19\\xac\\\\\\x84_\\r\\xb5\\xac_\\x8d\\xab\\x1eM\\xf9>X\\x04\\xe9\\xee\\xc1\\xb3F\\x98\\x95\\x8e\\x8d\\xdd\\x94\\x13Ux\\x80\\x01:G\\xb1k]E\\xf8\\x96\\xeb\\xa9\\xf2\\xdf[\\xa7\\x9f\\xe6\\xd0b\\xdfQ\\x88+3\\x8c\\x1d\"\\xb4C\\x987s\\x88\\xc7;b1@\\x1fYBF\\xf1*s\\xff\\x00\\xb2\\xaaW\\xaf\\xa0\\xd9\\xa6\\xd6R\\xe5lC0\\x0c)\\nD\\x1c\\x1a\\x8e\\xd2\\xc5\\xca\\xea\\x15\\xb8\\xd0\\xc6\\xa3\\xe1\\xf9f\\xd4Y\\xce^y\\xbf\\x87\\xd7\\xe5\\xe9\\xfe7\\x8b\\xd7\\xfe\\xde^^\\xa2\\xdc\\xa6\\x89+\\xcc\\xd3&\\x00\\xec\\xfb,.1\\xab\\xd7p/\\xac\\xb5\\x89W1\\xeb\\xe0\\x0fB*\\xc4\\xf7!\\xad\\x8c\\xaa\\xfc\\xc2`=k1Nwn\\xb1\\xa6e\\xb6\\xe2\\\\\\xdc\\x8b\\x02\\xed\\xe4\\x90\\x1e\\xb0\\x90\\xa0\\x05\\xa9 -\\x97Rh\\xf1+Ri\\xb5\\xa9x\\xcc&h\\xdf0wi\\xac\\xacK\\xab\\xe2)\\x16q\\xb0\\x84]Rc\\\\\\x83\\x0b\\xf1\\xb5\\xd5y\\xb4\\xdc\\xa0\\xea\\xed\\xebZ\\xd7\\xd2\\xb5\\xe8e\\xa7\\xa6a\\xb0,\\xd6_\\xc0\\xfb\\x98\\xe9(\\xebu~\\xeb\\xa9\\xf3\\xc2\\xe8\\xa3\\xa6\\x05\\x95/\\x92\\xaak#\\xb5g!;\\xa9\\xc1I\\x89\\x88\\xc2Y\\xd9\\xdb\\nre\\x9d\\xf4\\xb4\\x80uu\\xff\\x00\\xb3S\\xa66\\x8a\\xf4Na\\\\K\\x95\\x05V\\xa1\\rK\\xb5vi5h\\xe8\\xb6\\x8b\\r/\\xc5\\xf9m\\xa9NSR\\x86V\\xc36\\xff\\x00f\\xb1s\\xa8\\x1d\\xbe1\\xeda\\xc5\\xcb\\x8c\\xa0\\xc8\\xfd~\\xec9<zY\\xd8\\xd1\\xc9\\xa9\\xd3\\x0c\\x8d82\\xba\\xf0OH\\xca8\\xb5K\\x1e\\x8c\\xc7\\xd2\\xc4\\xad\\xea+_P=\\xea\\x99j\\xd7\\xa7\\x19\\x89`\\xe9`\\xf6\\xbd|\\x96\\xf4p\\xa9\\xa4yN\\x97\\x13\\xc8[\"\\xe9j\\xc8\\xa2\\xb3\\x1a\\xbaQ\\x9b&]\\xa3\\x06\\x7f\\x8a\\xb0iP5`LJ\\x0ejS,\\x11\\x86c\\x1f,\\xf3\\xe4Py\\x9f\\'X1mC\\xda\\x04i\\xfb\\xeeB\\x89\\xe5\\xacj\\xf1\\x15A\\x1c\\x04\\xc6&!\\x13\\x13\\x8e\\xdd& \\xaeV\\xb1\\x04\\x1b8\\xe9\\x89\\xc7\\x0b\\xfa\\xcev^\\xeb_^\\x03\\x93\\x0100F`L\\xc1\\\\\\x15\\x81\\x08\\x9aC\\x04a\\x1f\\xa0\\xbe\\xcc\\xb2\\t\\xa1\\\\\\x8f\\x91\\xae\\x1f\\xec\\xd3\\x0c\\xaa\\xff\\x00\\x17\\xed?k\\x04\\xc4\\xf2\\xfa\\xfb\\x84\\xe73\\x99\\x99\\x8c\\xccLF|DH\\x83\\xa2\\x887h{\\xe2\\x15\\xe3\\x00\\x06q\\x9c&\\x18Ot\\xeb8\\x93<\\xb8\\xab1\\xb3J\\x0e\\x1cw\\xee.=5\\x89\\xc5\\xa99\\x9a!\\x8a\\xbeF\\xb0\\x7f\\xb2\\x81\\xc5*\\xebK\\xf6;,\\x10Lfq\\x9dfN\\xd8\\x85g\\x13\\x02\\x011\\x17e\\xdd\\xbd\\x06\\xbcm\\x99\\x9fF71\\xa2\\x9fr\\x1c\\x8f\\xd6\\xb4\\xe0\\xea\\xff\\x00\\x85JD\\xd1\\x7f_\\xc8\\xd5\\xff\\x00oaO\\xf4Y\\xd9\\xb6\\x10E\\x83lLN3\\x8c\\xe3\\x0e\\xc3q\\xbbzq8\\xce3\\x8c\\x02cs\\x0c1\\x7f\\x95_\\xc73\\xc4;\\xdb\\xfdu\\t\\xa4\\x18\\xa7\\xe4kW\\xfd\\xf7\\xf7\\xd2\\x8ci\\xde<\\xcc\\x11LX=ga\\xeahfv\\x10m\\x89\\x89\\x8d\\xce\\xc6\\x18\\xbf\\xca\\xb3\\xd2j\\xff\\x00\\xbc\\x0eLk\\xe1(\\xfe\\xaf\\x91\\xadYi\\xc9\\xd2\\x1c\\xd4\\xf2\\xde\\xfb\\x08\\xb1`;\\x9d\\xcc-\\x88\\x1b\\xaa\\x9d\\x86\\xed\\xdc\\xc2g(6\\x1e\\xa33\\x0c0w\\xaf\\xb4\\xd4\\x1eV\\xd5\\x8eO\\xd6\\xe5\\xe8\\xbf#[\\xfdO4\\'\\xa3\\xcb\\xb7\\x11`\\x83l\\xed\\x98e\\xb6b)\\xf3\\x08\\x18e\\xd8o\\x88e\\x86g\\xa5v@`\\x80\\xfaN\\xc4\\xc3\\x04\\xae~\\x98\\xe5\\xa8\\xe9e\\x03\\x99\\xf9:\\x95\\xcdL&\\x90\\xe2\\xc7\\x12\\xed\\xc1\\x8ab\\x98&v\\xce\\xce\\xf8\\x17\\xd9\\xc9\\xb4\\xc3\\xdb\\x8e\\xab\\x07\\xa0\\xc3\\x1f\\xac\\xe1\\xd2\\xe3\\xc4\\xe9\\xee\\xccS33\\xe81\\x8c0\\xc5\\x89\\x1b\\xa2b*\\xcd\\n\\xfc\\xa3\\xd4\\\\\\xbcZ\\x9e\\x97\\x1e\\xd7\\x88{\\xc0b\\xc5\\x99\\xdc\\xc63P\\xf8\\x88\\xa5\\x99\\x17\\x0b\\xb2\\xfa\\x1a4\\xfd\\x89\\xabY\\xd5\\x1a\\x8b2\\x07\\xa4\\x98a3\\xf6\\xb1%\\xdd)X\\xa2i\\x17\\x8d\\x7f+UO1\\xc1\\x95\\xe5\\xc28\\xd8E\\x8b\\x04\\x13;X\\xd8\\x0f\\xef\\xb2\\x95\\xc1\\x06\\x1d\\x87\\xa1\\xa3E\\x13=o\\xea\\xae\\x99Z\\x1b\\x89F\\xce\\xd9\\xdd\\xa1\\xddbw\\xd4\\xff\\x00B\\xcd-E\\xc8\\xed\\xf2\\xc8\\x06^%\\x9d\\xac\\x1b\\x88\"\\xeeL\\xd4>\\x05\\x15\\xcct\\r\\x82\\x1b0o\\x9d\\x8c38\\x85\\xba\\xb1\\xcc\\xc7K\\x97\\x06\\x97\\xc8S\\xb90\\x98wY\\\\4y\\xb5\\xa6\\x84\\x02\\xaa\\x10|\\xdb\\x87\\xb6\\xce\\xcf\\x0e\\xc2\\x08\\xa6\\r\\x9c\\xcf\\xe7j,n\\xce\\xd85\\xd8\\x0cV\\xcc\\x07l\\xcc\\xc3\\x18\\xc6hlX\\x870G\\\\\\x85\\xf6:\\x19\\x9d\\x8c;\\x88\\xb2\\xa9_\\xf0\\xf9\\xed\\xda\\xe1\\xd5\\xe1\\xf4\\x086\\xb9\\xb0\\xbat\\xc0\\x11\\xa5\\x820\\xebM\\xfdQ\\xb33\\xd331\\xda]n!,\\xe5\\x04\\xacLLK\\x92Rz\\r\\x8f\\xa5e]\\xd7\\xb7\\xd0^:\\xb8\\x87\\xd0\\xbb\\x19o\\xb9\\xd0`C\\x1cF\\x13\\x12\\x97\\xe33\\x91\\x99\\x9e\\x8e\\xd0\\xccE\\x11\\x04]\\x98d\\x01\\xc5\\xc7\\xade\\x1d\\xfe\\x87R#\\xc3\\xe8\\x1b\\x19X\\xcd\\x9b\\x18\\xc2:\\xc3\\xd2r\\x11_\\x13\\xcc\\x86\\xe8\\xd6\\x01<\\xc0b\\x0c\\xc4X\\xa2\\x08v\\xb0E\\xf5\\x89\\xa5\\xfe\\x7fC\\xa9\\x1e\\xd7\\x8c:\\xee6n\\xd4\\x8e\\x9b\\xe22\\xc3^e\\x94FGY\\x97\\x80Xezrb\\xd0\\x04T\\x8a \\x1b\\x1d\\x8c_X\\x9a1\\xd7\\xe8l\\x19[\\x07[;\\xee6n\\xc9\\xfcw\\xcc&fg#\\x883\\xc9\\x06yagA3\\x01\\x8a\\xd0\\x1c\\xec}\\'\\xd2\\xb3J1_\\xd1\\\\0\\xce!\\x1b\\x8d\\x9b\\xb7\\xeafr\\x84\\xe7lfb\\x11\\x16\\x1111\\xbf,@\\xf3>\\x93\\xe8\\xfd\\xa0\\xc9A\\x85\\xfa-P\\x87\\xb1\\x1b\\x8d\\x9b\\xb4\\xccw\\x8afzr\\x02y\\x93\\xcc\\x06f\\x0cd\\x91\\x9eQ\\xec\\xc4\\xe6a\\xbc\\x08,\\x06d\\x88\\x8d\\xe9;\\x88&\\x953g\\xd1\\xd8\\xbc\\x94\\x8c\\x16\\x1b\\x8d\\x9b\\xb4n\\xc7\\xa16\\x005\\x1a\\xee\\'Myv[\\x14*07\\xe51c\\xa0]3\\xaf\\x10\\xe2k[\\t\\xfeWMU\\xdc\\x8e\\x9a\\xe6V\\xaa\\xf0\\xc2\\xa7\\x06)\\xcf\\xa0\\xee\"\\t\\xa6\\\\\\'\\xd2j\\x13\\x0c\\xc26\\xc3c\\xda7Y}\\x17su\\xb8\\xc3\\xa3v+\\xa2\\xb0E\\xa2\\xcc-\\x0e\\x1b\\x8b\\xc7\\xa6\\xc3+\\xa1\\xd0\\x00\\xc2Z\\x86\\xc5\\xff\\x00\\x04E\\xd1\\x08t\\x03+\\xa2\\x95h\\xb82.=\\x07\\xd1Br?Kb\\xf2V\\x11\\xc6\\xc3\\xd3\\x9e\\x9cD\\x00\\t\\xd2\\x05\\\\%hG\\x92\\x93\\xc9I\\xe4\\xa6<\\xa4\\x11\\xbc\\xb06\\xc4Q\\x89\\x9fX\\x8a:\\xd0\\x9cW\\xe9]\\x82\\xcb\\x7f\\x93\\xc3\\xb0>\\x82&q:\\x19\\xc7n\\xb3\\x91\\x99\\x9c\\x8eNa\\x1dF\\xe3s\\xb6}\\x1aJ\\xf2~\\x95\\xd8(\\xbe\\xde\\xa5\\xb2;\\xc6\\xd8\\x1fI\\x13\\x1b\\x0339Ns\\x9c\\xe79N\\xfbcl\\xcc\\xecO\\xa1F[L\\xc3?HN\\x06\\xa1\\xb35\\r\\x81M\\x9c\\xa9W\\x8d\\xd8\\xec\\x0f\\xaf33>\\x81\\xe9\\xcf\\xa9D\\xba\\xcf%4M\\xd7\\xe9-2\\xe3\\xd3R\\xd9\\x9a\\x7f\\xe1\\x9e\\xa8\\xf0\\xc3\\xf91111\\xf8\\xb2+O5\\xac\\xbbF\\'\\xeb\\xe8\\x98\\xe09\\x9a\\x97\\x96J\\xfb\\x18\\x0c\\r\\x9f\\xc1\\x89\\x89\\xc6p\\x9c\\'\\x19\\xc6q\\x98\\xdb\\x1e\\xb5\\x13]w#H\\xcd\\xdaq\\x88;}\\x13\\xcb\\x8e%\\xa69\\xeb_m\\x81\\xc4\\x07\\xd4&&?\\x16&=\\n&\\xa2\\xfe\\x99\\xe4t\\x89\\x9bj\\x83\\xb7\\xd14\\xbc\\xcb\\x0eM\\xad\\x89O\\xf1\\xdc\\x1cl \\xfc\\x19\\x99\\xfc@ME\\xf9\\x8e\\xdd)=4k\\xec\\xacA\\xdb\\xe8[\\xb3MY\\xc4s\\xd2\\xad)\\xe6\\xbd\\xe67S\\xb0\\xd8z33\\xf8\\xfb\\rE\\xfc\\xa11\\xcc\\xa3\\xbe\\x9dx\\xadbg\\x03?B\\xf1\\xfbk\\xbf\\x8f\\x9d]\\x01\\xb5\\xd6Z\\xf5\\xee\\xc3p`\\xfc\\x19\\x99\\xdf3>\\x86`\\x82\\xeb\\xcb\\x9c\\xe6\\x13\\x1axj\\xf2\\xbe\\xa1\\x10C\\xdafg\\xe7r\\x87\\xbbv\\xf1C\\xc6\\x8c\\xf5\\xd2\\x8fzz\\x08\\xc6\\xe0\\xc0`\\xf5bc\\xd4N%\\x9a\\x8cK,$\\xecv\\xf0\\x9a\\xfa \\xc4\\x1fG\\xfb3\\xc6\\x17\\xff\\x00\\x88\\xa2i\\x86\\x02zXo\\x98\\xaf\\x03\\x88\\x0f\\xaf3\\xccQ\\x1a\\xf5\\x11\\xf5\\x04\\xc7ra>\\x831\\x93\\xa2\\xaf\\xcb\\xad\\x04\\x1fHg\\x88\\xd6l\\xd2\\xa8\\xebX\\xc0X=%a\\xe9\\xe8\\xcc\\xe6g\\x98\\xd3\\xcci\\xcd\\xe1f\\x84\\x9d\\xf3\\x18\\xfa\\x8c\\xd0W\\xce\\xfa\\x93\\x00}3\\t\\xad\\xd3\\xf9:\\xa4\\x82\\x0fQ\\x84N\\xdb\\xe3\\xf0\\xe3\\xd2a\\x9e\\x15V+\\x03\\xe9\\xcc\\xf1*\\xf9\\xd0\\x90A\\xeb\\xc4\\xc4\\xc6\\xd8\\x98\\x98\\x98\\x98\\x84Lla\\x98\\xf4\\x19EF\\xebi\\xacV\\x83\\xea-Nh\\xc8Q\\xc4\\x1f\\x83\\x13\\x13\\x13\\x13\\x1e\\x83\\x0ef=8\\xdb\\xb9\\xf0\\xfd0\\xa6\\xb8\\xbfS\\xae\\xa7\\x9a\\xc1\\x07\\xa7\\x1b\\xe3lzO\\xe1\\xf0\\xbd.Oi\\x90\\'19\\x0f\\xa73\\xbc\\xd5U\\xe5\\xda \\xf5\\xe3\\xf0\\x1d\\x8e\\xd8\\xf4h\\xf4\\xde{\\xa8\\xe0;\\xec\\x04v\\xc4\\xac\\xf4\\xfa}}|\\xab\\x83\\xf0c\\xd4a\\x98\\x98\\x98\\x87lJik^\\x9a\\xc5U\\xf7\\xdc\\x9c\\x04\\x1c\\x9a/\\xd3\\xd82\\xac\\xbcZ\\x0f\\xc5\\x8d\\xce\\xc7c11\\x14rm5\"\\x9a\\xff\\x00{\\xb7X\\x8b\\x81\\x07\\xd1ffr\\xdb\\xf6f\\xb51g\\xa0~Lla\\x98\\x9e\\x1dD&\\r\\xccA\\xd7q\\xf4\\x07r\"\\xc3\\xb6\\xa59\\xa7c\\xb8\\xf8\\x15\\xd6l|qX=\\n>\\xa3\\xb6\\xe6j\\x17\\x16n?9\\x9a:\\xbc\\xba\\xa6=\\n=C\\xe8\\xf3\\x06\\xc6j\\x96c\\xd0?)\\x94\\';\\x8f\\xa8\\x0f\\xa9;\\x03\\xb3\\xaea\\x188\\xd8~,z\\x07}=a\\x07\\xa5G\\xe0\\x1fFD\\xed\\x01\\xc8=\\xafL\\x8d\\xb1\\xf9\\xb1\\x10b\\xbf@\\x83\\xf0\\x8f\\xa3\"v \\xe64\\xb2\\xbc|\\r=[\\r\\xc4\\x1f[\\x88D\\x1d\\x0f}\\xad\\xaf\\xf1\\xe2~\\xe55\\xf2o@\\x83\\xec\\x08\\x8aw\\xb1?\\x06=\\x08\\xbc\\x88\\x01G\\xa0A\\xf6$E0\\xf7\\xc4\\xb5q\\xf8\\xb1\\xd6\\xb4\\xe0=\\x02\\x0f\\xb20\\xc0s\\xb1\\x19\\x0e\\xbcO\\xe0\\xa56\\x1e\\x81\\xf6\\x84l\\x0ev#2\\xc4\\xc7\\xad\\x13\\x91\\x82\\r\\x86\\xc3\\xedH\\x86+gb2\\x19pv\\xc6\\xca\\t=\\x84\\xc6\\xe0}\\xc1\\x10\\x88\\xad\\x9d\\x98f\\x1e\\x87t\\x18\\x10\\r\\x89\\x8a>\\xe4\\xc2!\\x11Nv\\xb1r6A\\x93\\x00\\xd8\\x98\\xa3\\xee\\xcc#`v\\xb5q\\xb2\\x0fh\\x1b\\x13\\x00\\xcf\\xde\\x911\\xb00\\x8c\\x82\\xb8lu\\xdb\\x1f\\x7f\\x88F\\xcaa\\x19\\x8a:\\xcc\\x7f\\xc0\\xe2\\x111\\x07\\xfc.&& \\xfaq\\xff\\x00\\x0e>\\x83\\x1fN \\xff\\x00\\x86\\x10\\x7f\\xc3\\x7f\\xff\\xc4\\x00\\'\\x11\\x00\\x02\\x01\\x03\\x04\\x02\\x02\\x02\\x03\\x01\\x00\\x00\\x00\\x00\\x00\\x00\\x00\\x01\\x02\\x03\\x10\\x11\\x12 0@!1\\x13A\\x042BPQp\\xff\\xda\\x00\\x08\\x01\\x03\\x01\\x01?\\x01\\xfe\\xcf\\x06\\x93I\\xa4\\xd2i1\\xdb\\xd2(\\xf0\\xb8\\x1e\\xba\\xea\"\\\\9\\xbbY\\x1a\\xc7U-\\xcbnv\\xca8\\xe9\\xad\\xe8{\\xf3v\\xb1\\xd6H\\xf4{\\xe4\\x92\\xe8\\xad\\x89Y\\xf3>\\xa2[\\xf0c\\x82\\\\\\xf1\\xbaBF.\\xad\\x83I\\xa6\\xde\\x07\\x1d\\xaf\\xa0\\xbd^1\\xdc\\x99\\xa8\\xf1l\\x0e&\\x1a\\xda\\xfa\\n\\xd1B\\xe2\\xc8\\xa6xd\\xa1\\xb5\\x8f\\x95\\x1e\\xad\\x08\\xf3\"Q1w\\xcd\\x1fc\"G\\x93\\x1b%\\x1c\\x8d\\x08c\\xe5\\x8d\\xa2.\\x8c\\xe2;K\\x966\\x88\\xba,\\x95\\xa5\\xcb\\x1bAn\\xc6\\xfcn\\xa9\\xe0d\\xb9P\\x8aw\\xcd\\xb2\\'\\xbf&\\xa36l\\x8c\\x8a\\x96\\x97\"\\'\\x1f\\x02!\\xebnE!\\x18\\xbe-\\x96f\\xf23\\x86gR$\\x8a\\x0b0\\'\\x1d2\\xc7#\\x92\\x95$\\xc4}\\x11\\xb3\\x92G\\xc8|\\x8c\\x84\\xb2+\\xab6J\\xa35\\xb3\\xe4#,\\x9e\\xc9\\xac2\\x9b%\\xe4\\xfc7\\xa7\\xc17\\xaaY\\xe4\\xa2\\xdb\\xf0c\\x16\\x8f\\xa2i\\xfd\\x1f\\x19\\xa0\\xf8\\xd8\\xa1\\x81\\x08r\\x14\\xad\\x82T\\xcd\\x0c\\x8d3\\xe3\\x7fDb\\xfe\\xca\\xf1\\xfb\"Ed\\xfd\\x1a|\\xbf\\x8f\\xec\\xa8G\\x83#\\x16\\xcc[&I\\xf9\\x8d\\xa8#\\xf2|._\\xc7\\xf6T)\\xd9\\x992j3\\xc1\\x9b\\xa3\\xe8e%\\xe1\\x1f\\x95\\xeb\\x96\\x93\\xc4\\x89~\\xa5;2WF.\\xae\\xee\\x84}\\x12\\xf6G\\xc4J\\xef)r\\xc7\\xd9?\\xd4\\xa7f;\\xc2#\\x95\\xd0\\x85\\xe4\\x94qt+?c\\xf5\\x82\\xb7\\xed\\xcd\\t\\xea\\x89\\x1fb\\xb3\\xb2=-\\x91\\xb4}\\x8f\\xc8\\xee\\x89\\x1f\\xc8\\x9c\\xb4\\xa2O/<\\xf0\"\\xf6E\\r\\x8d[\\x04Q\\x8b&N\\xca\\xcc\\xa9,2Sr\\xf7\\xd0\\x81\\x1d\\x8f\\xc2\\xbe\\x0c\\x11Vv\\xce\\xc6U\\xf7\\xd1\\x89\\x1b\\xa2VV\\xd2i\\xb4\\xb72\\xa7\\xbe\\x94\\x1e\\xdc\\x1av\\xb8\\x9av\\xc8}(2;\\x12\\x1bH\\xd4k%S\\x06\\xb1O\\xe8\\x92\\xdbR]8\\xb2;\"h\\x88\\xf4#]3\\xe4\\xa7\\xfe\\x11\\xd2\\xfe\\xad)ld\\xe5\\x97\\xd3\\x8crDWL\\xc9\\xaa\\xfa\\x8dC\\xd9Q\\xf8\\xeaSF\\x93\\x1b\\xf3\\xbaD\\x97\\x8e\\x9cH\\x88\\xc7.>\\xca\\x9d8Yr\\xa8\\xff\\x00\\xa4\\x8a\\x9d8\\x11\\x8eX\\xb9\\x14mP\\x93\\xe9\\xc7\\xd9\\x05\\xb7\\x06\\x83\\xe3>3\\xe3>3B\\xbb+K\\xa8\\x8a/+\\x9aO\\x04\\xe5\\xa9\\xf5h\\xcfK\\x17-z\\x9fK\\xafJZ\\x97%z\\xba|+\\xbe\\xaf\\xe3\\xcb\\x0f\\x1cu\\'\\xa1do>_a<\\x11\\x96x\\xab\\xd4\\xd4\\xf1\\xda\\xa3/\\x18\\x17\\x05j\\x9ac\\xdb\\x8c\\xb4\\xb22\\xd4g}z\\x9a\\xbcw#-$e\\x9d\\x99\\xb5Z\\x9a|\\x0f\\xbb\\x19i\\x13\\xce\\xc9KJ\\x1b\\xcf~\\x12\\xd2g6\\xce\\t\\xcbW\\xf44\\xe5\\x8bT\\x97\\xd7\\xf4p\\x91\\'\\xff\\x00$\\xff\\xc4\\x00#\\x11\\x00\\x02\\x01\\x03\\x05\\x01\\x01\\x01\\x01\\x01\\x00\\x00\\x00\\x00\\x00\\x00\\x00\\x01\\x02\\x10\\x11\\x12\\x03 01@!A\\x13Pp\\xff\\xda\\x00\\x08\\x01\\x02\\x01\\x01?\\x01\\xff\\x00J\\xe6H\\xc8\\xc8\\xc8\\xc8\\xc8\\xbf\\xaf\"\\xfbm\\xb1O\\xd0\\xe5\\xc5j\\xf4\\'\\x7f+e\\xb6\\xb1l\\xb6\\xd5+\\xf8\\xdf\\x02\\xdfj\\xa7\\x7f\\x0b\\xda\\xd9~T\\xfe\\xf9X\\xc5\\xcd\\x1ew\\xb6R\\xe7b\\xe7\\x90\\xa8\\xd9&7\\xb6\\xe6FGt\\xbf\\x95\\xfde\\xe9)\\r\\xedh\\xc4\\xfbK\\x8aE\\xd3\\xda\\x9f\\x85\\x12$\\xf8\\xacb]\\xae\\xc8\\xccUdE\\xca\\xc8\\xfd\\xa4\\xe5\\xcf\\rJ\\xc8\\x8f4\\xfa \\x89\\x12\\xe4\\xbe\\xc8j\\t\\x92T\\x8f,\\xe9!\\xf8t\\xe4\"DyeI\\x0f\\xc3\\x124\\x8f,\\x88\\x92\\xe5\\xbe\\xed2<\\xd2\\xa6\\xa5lX\\xb7\\x05\\x8cj\\x89D\\xd3\\xa2\\xe5O\\xed5;\\xa2T\\xb21\\x1c\\x06\\xad\\xb5#\\x14`Y\\x0e\\xc2_K]\\x16\\xb3\"j\\xbb2/%~KZT\\xfd\\x1d#\\x03\\xf9\\x98\\x12\\x80\\xd6\\xd8\\xc6\\xe2\\xd3F\\x07\\xf2%\\xa7c\\xa2\\x0e\\xe8\\x92\\x11\\xac\\xaf\\xf4\\x8a\\xb2\\xb7&\\xa2\\xfd\\xab4\\xed\\xfa\\x7fDf9\\x99\\x12$X\\xc4\\x89\\x16df9\\x19\\xa2v\\xfc4_\\xe0\\xc6/\\xbf9uz\\xa4\\xb8UU2e\\xe9cO\\xbaH\\xd3\\xef\\x97W\\xa2$\\xa8\\x8b\\x16-\\xb1n\\xb5\\x18\\x84>\\xcd.\\xf9g\\xd0\\xbb\\'D*\\xb2\\xf5|\\x1f\\xa2?M>Yt.\\xc9UU\\x96\\x15\\x18\\xe8\\x9e\\xd4.\\x8f\\xd3O\\xaeiF\\xcc|R\\xaa\\xda\\x8f\\xc2*\\xecJ\\xdc\\xf2\\x1f\\x0b\\xaa\\xda\\x88\\xab\\x8a*=x&>\\x17\\xb1lF\\x9f\\x86D\\xbc(\\x87^)o\\xb1\\x89\\x89\\x8e\\xf4/\\x14\\xc7\\xb2\\xc6%\\xabc\\x01\\xad\\x88\\xd3_|rC\\xd8\\xa4eK\\x18\\x9d\\x19\\x0e[\\x11\\x05e\\xe3\\x94\\xac1\\xecR2222/\\xb7M}\\xf2H|\\xd1\\x17~9Q\\xf2\\xa5H\\xf8\\xe5G\\xc8\\xa8\\x88\\xf8\\xe4?\\x88|\\xa8DW\\x8d\\x93c\\xdd\\x91\\x91}\\xa8\\x87\\x97P|\\xa8\\x8cm\\xe5\\xd4\\x8d\\xf9\\xb4\\xa3\\xfb\\xe7\\xd4\\x8d\\x9f&\\x942\\xfbU\\xe5\\xd6\\x8f\\xcb\\xf1\\xc291|\\xf4?\\xa4\\x97\\x16\\x8c1^\\xadX\\xfd\\xb8\\xf84a\\x93\\xf5\\xc9d\\x89F\\xc5\\xb7X\\xd0\\x86?}\\x92\\x8d\\xc9F\\xdb-M-;\\xfd\\xf7J9\\r[da\\x93\\x12\\xb7\\xbeQ\\xc8h\\xb1k\\x91\\x8e?\\xe0\\xce4\\xd3\\x8f\\xef\\xf8s\\x89\\x1f\\xf9\\'\\xff\\xc4\\x00>\\x10\\x00\\x01\\x02\\x03\\x04\\x08\\x04\\x03\\x06\\x05\\x04\\x03\\x00\\x00\\x00\\x00\\x01\\x00\\x02\\x11!1\\x12\"AQ\\x03\\x102@Paq\\x81 0\\x91\\xa1B\\xb1\\xd1\\x13#R`b\\xc13r\\x82\\x92\\xf0\\x04p\\xe1\\xf1\\x80\\xa2\\xb2\\xff\\xda\\x00\\x08\\x01\\x01\\x00\\x06?\\x02\\xff\\x00l\\xa6B\\x9e\\x91\\x9e\\xab\\xf8\\xba?\\xeeR\\xd20\\xf7\\xe3qq\\x01mG\\xa2\\x96\\x8d\\xc4)\\xb2J\\xe8W\\x8b\\x8a\\x83$\\xb6\\x9f\\xd9m=Fk\\x0e\\xea`)\\x08wR{\\xbdU\\xe89\\x0bwU\\xc7\\x03\\xc5aj\\xdb\\xb2j#F\\xdb\\x03\\x92\\xbfh\\xf5R\\x9a\\x91\\xec\\xa9\\xee\\xa0\\x04\\x02\\xaa\\xdb[EJ\\xd7\\xa2\\x9b\\x8f\\xaa\\x93\\xd4\\x9c\\xd2\\xaf\\x85R\\x16\\x05J!]yA\\xbf\\xean\\x9c\\xd4ZA\\x1cF\\xce\\x88}\\xa3\\xfd\\x82\\x85\\xa3\\x0c\\x855M\\xc6*\\xe8:\\xa0\\x81\\xc9`\\xa6T\\x84z\\xac=\\x14\\xf4\\x83\\xfbT\\x88\\xfe\\xd51\\xec\\xa7\\x05\\x88Y\\xac\\x8f\\xa2\\xfcJ\\x8aJ\\xeb\\xa1\\xf2V]u\\xfc::Wv\\xc5Bz=\\x1f\\xe1\\x15=P\\xfa\\xea\\xc1\\xc5\\\\b\\x9c\\x1b\\xdf\\\\\\x16=W\\xec\\x84Z\\xa4\\x07ux\\x85\\x80\\xe8\\xbf\\x8b\\xee\\xb6\\xe2\\xb6\\x80Ul9\\xaa\\x05#g\\x92\\x83\\x95\\xc2\\xaf+\\xb2\\xebE\\xf6ziuR\\xe1e\\xba\\x18\\x1eh\\x9d\\xa7\\xe6\\xaf\\x95X)\\xdar\\x97\\xd5c\\x0erT\\x8a\\xa6\\xa9j\\x99\\xf4S\\xf9\\xa9EM\\xbe\\xa4\\xad\\x90\\x7f\\xa9\\x7f\\x0c\\xad\\x98\\x15w\\xe6\\xa7\\x1e\\xaa\\xb1P3Wf\\xb2r\\xbc\\xae\\xc5d\\x83t\\x97\\xb4h;Fb8D\\xd1c\\x0c\\x19\\xeeT1\\xf9*\\xc4\\xa8\\xb9J\\x8a\\xf4]\\xec\\xa4\\x07e\\x81Po\\xc9L\\x85\\x84\\n\\xadT\\xa7\\xcc\\xaa\\xb4\\x05\\x18\\x858z\\xa9\\xb8{(\\x80\\xee\\xa1\\xcb\\xf8\\x9aA\\xfc\\xca\\xa1\\xdd\\x95=\\xd4\\xc9\\x0b\\x07tU\\x8fU5_U\\x03\\xe8\\xa2\\x14D\\x9c\\xa0\\xea+Z3kG\\x88A\\xfa3\\xc1\\xfe\\xcbDz\\xea\\x96\\xcf\\xcdg\\x0f@\\xa2f\\xa7\\xe8\\x14$9)(\\x93h\\xa9(\\x9f\\x92\\xab}5\\x1a\\xbb\\xb5\\x16\\xc9P?E \\xb6\\x9c\\x11$Z\\xe6\\xa4{\\x15\\x12\\xde\\xe0\\xa8\\x7f\\xf5\"\\xb9d\\xe9\\xa9\\xc5\\x87\\x94\\xc2\\xc1\\xe1b\\x16\\x10P\\xf6*\\x1f\\xf6\\xa4\\xb9\\xaf\\x98CI\\xa0wV\\xa0\\xf6pS\\xa2\\xd1\\x1e\\xa5EE\\xeb\\xf6W\\x8d\\x90\\xae\\xc8f\\xa4`\\xa2=\\xd6\\\\\\x96*\\xb0S\\xfa\\xaa\\x90\\x8d\\xb5Gu\\x82\\x84\\xc7e#\\x10\\xa0\\x1a\"9\\xacA\\xe4V\\xdc?\\x98/\\x84\\xf4*\\xf4\\xba\\xad\\xb09\\x15\\xcb\\xd9_\\x109\\x85\\xf7n\\x8a\\xbc\\x14\\xa7\\xcbX\\xc7=Pv\\x149.yf\\x83\\xdb\\xb2j\\x10s\\x0cZx\\x1f\\xd9\\xb0\\xdf*\\xd3\\xa8\\xbfe\\x1cs\\xc9]\\xaeeD\\x95U\\xcf\\x9a\\xc7\\\\\\xcc\\x14v\\xbb*{\\xaa\\xfb\\xaaMm\\x10\\xb3\\xe6\\x02\\x99\\xecB\\x83KGuy\\xa7\\xb2\\x8bH\\xee \\xab\\x01\\xea\\xaf6?\\xca\\xae:\\x1c\\x95\\xe1\\xdc+\\xa5CH\\x15\\xd58\\x9e\\xaa!B\\x85K\\xd1D\\x7f\\xd2\\xb2\\xea\\xe0Q\\x05\\x06\\x13\\xf7n\\xa7.\\x04M]\\x80V\\xdfy\\xe7\\x05\\x08\\xa8\\x0e\\xe5A\\xa2*~\\n\\x80\\x145a\\x1ej\\x80\\xea;\\x07\\xba\\xba\\xd7\\x8e\\x90*\\x11?\\xd5\\xa3Wa\\xfd%N|\\x9c\\xd5\\x03\\xa2oc\\x05v\\xea\\x99\\x0e\\xff\\x00?\\xcc\\x14\\xc0\\xfe\\x92\\xa4\\xefUy\\\\$\\x0c\\x8c\\xd5;\\x85\\x05)\\x155\\x10\\xbe\\xf0O5\\x07v*-\\xaa\\xe60P28\\x15`\\xc8\\x8c\\x10\\xfcC\\x80\\x12h\\x11\\x86\\xd1\\x90\\xe5\\xa8\\xe0\\xc1S\\x9a\\x83vT\\xd4\\x86\\xa9If\\xa3@\\xa2#\\xd5P)\\x02\\xa0\\xae\\xd9\\x8f9#\\x16\\x9fH\\xa8\\x16\\xb3\\xfa\\x9b\\x05&\\x7fk\\xd5\\xe6i\\x07\\xba\\x93\\xa1\\xec\\xa6\\xe0G0\\xa5$ c\\xee\\xa6\\x01\\x1e\\xaa\\x7fUt\\xfe\\xfa\\xa5\\xed\\xaak0\\xa4\\xb9\\xaf\\xd9~\\x9f\\x92\\xb4\\xd5\\x07]+-#SI\\x90\\xa3\\x87\\x00\\xb2;\\xa3\\x99\\xa9V\\x9c`\\xcc\\xd0\\x14f\\rQ*T\\xd5\\xfb\\xa9\\xab\\xa2y\\x95\\x1cT\\xfd\\x94\\x87\\xaa\\x9c#\\xd1T\\x80\\x8d\\x92OE\\x91\\xfe\\xd5#\\xa4\\xea W\\xc2\\xef\\xe7i\\x0b\\xe1\\x1d\\x1e\\xa3\\x02z\\x88\\xa9\\x16\\x83\\x91\\x92\\xcf\\x9dP\\x12P\\xb6Zrr\\xbe\\xc8\\x8c\\xc2\\xbag\\x92\\xbd5)\\x1c\\x8a\\x9a\\x96\\xa9,\\x95\\xff\\x00U\\x10\\xae\\xf7\\x1a\\xa26\\xc5U\\xa6\\xce\\x15VI\\x9bw\\xe8\\x94\\xe3\\xf0\\xc6J?\\x03q\\xcd\\x00\\x05\\xdc\\x02\\x8b\\xa6\\xe3\\x82\\x9f\\x82k\\xf6_\\xb2\\x92\\xaa\\xcdB\\xc9!R\\x1c\\xdc\\x14m;\\xd6#\\xddM\\xac\\xea[\\x0fu\\xf7q#\\xf4\\xba\\xd2\\xbc\\xc3\\xdd\\xaa\\x83\\xb4\\x94\\xe3\\xdej\\xec\\x8f#\\x05\\xb5\\x08\\xe0\\xe0\\xa5\\xb3\\xec\\xbe\\x92S\\x87u\\xf5S\\xba\\xa1U\\xfb\\x1dR\\xf4\\xd5{\\xd5B\\xad\\xc9[a\\x9a\\xb4\\xda\\x8d\\xa0\\xad6J\\xd4$dP\\xc0\\x19\\x11\\xbf\\x10*\\xe9+\\x0c\\xef\\xc8+\\r\\x17\\x1bUi\\xdbf\\x83%\\x133\\xe1\\x94\\x82\\xea\\xa9e\\xaa\\xee\\xa9\\xc9m\\x02TE\\xe1\\xea\\xa7\\xa1\\x88\\xce\\x01^\\xb4\\xc3\\xca!\\x08iD\\x7fQW_\\xee\\xbe\\xf1\\x84\\xf4\\x9a\\xf8~J\\xb2\\xe6\\x16c\\x91Q\\xd9>\\x8b\\xf1s?P\\xae\\x9fU\\x1f\\x94\\xc2\\xe5\\xc9J\\x9e\\xcar*\\xf2\\xfd\\xd4\\xfdW\\xf95\\xcb\\xe4\\xa3\\xea\\x15\\xb6\\xabl\\xa6!\\x0f\\xc2p@\\x1a\\xe6\\x9aw\\xdb#\\x05\\x9e\\x99\\xfe\\xca\\xd3\\x8d(\\x14N\\xa9\\xea\\xe6\\xa2\\xea+\\x83\\xb9Q\\xaa\\xcdP\\xea\\xfa(\\xd9\\x05E\\xb6\\xda\\x7fI\\x8a\\x93\\xd8O1\\x05=\\x1f\\xa2\\x9d\\x96\\xf5j\\xb9\\xa5\\x1d\\x8c\\xd4\\x9d\\x15\\r+=\\x95\\xd6\\xff\\x00iR|O15\\x9a\\x98-\\xe8\\xae\\xba+\"\\xa6=\\x17\\xd1N\\x99\\xa9Ld\\xa2\\xd2\\xbfe\\x9buG\\x0f\\x92\\xff\\x00$\\xa3\\x82:3\\xb2\\xed\\x93\\x91R\\xdal\\xd4\\x0f]\\xf7H\\xf3\\xb0\\xd5\\xf6\\xbaI\\x13@\\xb9`\\xbfR\\xff\\x00\\x95?U\\x06\\xac\\xdc\\xa2\\xfb\\xce\\xc9JMS\\x99\\xe7\\xe1\\xd9\\x8a\\x98!I\\xe7\\xbc\\xd4\\xd8\\n\\x85;\\xac\\n\\xbbh*\\x8e\\xed_}\\xa1oP\\xae\\xb8\\xb7\\x91P\\x84G\\xe9*\\xc93\\xc9\\xd2Y\\x1ej\\x0f\\x16\\x82\\xbb.G\\\\\\xa5\\xf2Y9N\\xba\\xa2=\\x15\\xa6\\xccb\\x14\\xb6M\"\\xa3V\\x15\\x0f\\x84\\xa1\\xf8\\xc7\\xba\\rn\\xc1\\x98\\xdf\\x1e\\xec\\x82f\\x8f\\xf0\\xdfz\\x96\\xc8\\xa2\\x89\\xaa\\xb4\\xe5\\x90X\\xc1d\\x14\\x1b%\\x17\\xa9\\x08\\x0f\\x15V+\\x08\\xf4Rz\\xf8J\\x9e\\x8a<\\xc0_\\x13J\\xdb_\\t[ \\x15\\x1d\\x13\\xdc\\x17\\xde\\xb2\\xd41\\n\\xe9\\x96!\\xd3\\x0b\\xf0u\\x98T\\xb0\\xefe?\\x05\\xea)\\xd3\\x03\\x92\\x88\\xf4\\x1f\\xb2\\xb4\\xdfL\\xd4@\\x8e\\x8c\\xd7\\x92\\x99\\xbaqV\\x1c\\xa0v\\x99\\xf2A\\xcd\\xf8M\\xae\\xd8\\xef\\x87\\x9c\\x91lo\\xb8\\xc4\\xa2\\xe3\\xff\\x00j\\xd3\\x97%\\x99\\\\\\xf5Is\\xf3(\\x15\\x14\\xd8\\x15\\xd2\\xe6\\x95u\\xf6\\x82\\xbe\\xd8\\x15\\x82\\x98\\x9a\\xbae\\x92\\xcb\\x91\\xa2\\x87\\xfe\\xa5K\\xd1s_\\xb6\\xaeH\\x16\\xabL\\x91\\xc4(\\xb6\\x87i\\xaa\\x1f\\x01\\x9bNEZh\\x98M\\xd2\\r\\xa1\"\\x86Eh\\xc9\\xcb{\\x04\\xe15\\x03\\xddD\\xd3\\x00\\xa7U*\\xe6\\xa0\\x14\\xb7J),\\xc6Fk\\x9eK\\x9f\\xba\\xcd\\xaaj>\\x08\\x85i\\xab\\xed\\x01\\xff\\x00\\x85\\x03\\xdc+\\x0e\\xda\\xc3\\x9af\\x91\\xa2:3\"\\xa1V\\xd4\\x1c\\xd39K{\\xe8\\x14\\xf1\\x99Wd\\x14\\x05>{\\xd5\\x16}T\\x1e\\x08>\\xea-\\xa6~8F,5\\x08\\x19X4?\\x87\\xfe\\x10,\\xdb\\x18\\xf2Oc\\xbe)\\x8e\\xa8\\xe8\\x9f\\xb7\\xa2\\xa1\\xe4\\x9e\\xcf\\xc2w\\xb7~\\x16\\xa9\\xd4\\xcc\\xa3\\t\\x01\\x89X\\x9d\\xeeaQE\\x93\\x19*O/\\x0f5\\x1f^K\\xec\\x8e4\\x8a!\\xfb\\x07\\x13\\x82\\xba>\\xed\\xfb<\\x8ag\\xfa\\x8f\\x8e6^\\x8b9oOvANo\\xafu:bsPl\\x9b\\xbf\\xc6\\x8e\\xc0\\xa8i\\x07|\\xfcF\\x08\\xda\\xda\\xf8\\xbe\\xa9\\xcc\\xc4Qr\\xd3a\\x91Z0\\xe1\\x02\\x1d`\\xefE\\x17\\xe9jg5\\x0c2R\\x1c\\x02\\x06\\x8b\\x92\\x96\\xb9\\xa8>\\xb8\\x15k*\\x85\\x16\\x98\\xfd\\x13\\xb4Y\\x9bl\\xea\\x85\\x9aiCt\\x83\\xae\\xf4\\xd6\\xe6\\x9d\\xc9O\\x81@\\xd1Nm\\xcf\\\\\\xd4\\n\\x00\\xd5\\xb8\\xe6\\x13tyQG\\x16\\xd0\\xc1h\\xb4\\x98\\xb4\\xc4w@\\xef1\\xc9\\x19\\xc1\\xb9*,\\x14O\\x02\\xfd?%\\x1fu\\x10\\xb9\\xa8g\\xf3BVL*\\xa7\\x8a\\xcd0\\xf2\\xdeNh\\xa8)\\xf0C+\\xb8\\x85\\x11L\\n\\x94\\x8a\\x9d1A\\xa4\\xde\\xd1\\xd3\\x98M\\xb4o.X\\xa6G-\\xe4\\x93&\\xe6\\xa0\\xd5\\x06\\xd3\\x83\\x18(\\x84^6\\x84\\x9c3\\x19\\xab\\xb7\\xa1\\x82\\xb0\\xec>J\\x06\\x98\\xa6\\xef\\x0eP\\xf4F\\x1d\\xca\\xe4\\xbfQ\\xf6\\xe0\\xa2)\\xd2\\x88\\x15A\\xcd\\x83\\x87\\xcc \\xfd\\x14\\xf4N\\xa7\\xd15\\xfa;\\xccV\\x86\\xc9\\xa2\\x1b\\xc3\\x93\\x8a\\xb3\\xae\\'\\x82\\x83\\xf16\\xefP\\xae\\xd1\\xc6C\\'/\\xb3\\xb1\\xf7z{\\xcc1\\xd9z\\xb2v\\x9bU:9\\x08\\xef\\x04(\\xe0(\\xad\\xbe\\xaa\\'\\x83\\x91\\x81\\x92\\x04\\xce\\x15\\xe8\\x8b]=\\x1b\\xa7,\\n\\xcd\\xdb$\\xfc\\x8alv\\ni\\xe5\\xbc9Y;\"j\\xc0\\xc1r\\\\\\xca\\x97\\x05oU\\x13J+\\xa7\\xee]1\\xc9\\x10\\xfe\\x9d\\x93\\x81\\xa5Bh\\xcbyy\\x15r<\\xf1\\xe0\\xfd\\xb5\\x16<\\xdcx\\x8cy\\xa2\\xcd \\x88\\xa3\\xbe\\xaa\\xc9\\xdan\\xca\\xb5\\xa3\\x1bBc$\\xd8\\xef\\x10Pk\\xa5\\x19\\xa2\\xd1\\xb2\\xd5\\xcc\\xf9\\x15\\x1b\\xec\\n\\xa6\\xa2\\xc8\\xc3#\\x92\\xd1\\x96\\x7f\\x11\\x9f\\x0cj\\x10k\\x81\\x86\\x08\\xb0\\xc4\\xe9\\x01\\x92kA\\x12\\xdd\\xca1\\x8a-\\x11\\x11\\x91!JM\\x1eEV:\\xab\\xaa\\xbb\\xc45\\x07\\x11J\\xa0Q\\xc8\\xc8\\xa3\\x86\\x95\\x95\\x1c\\x94~3\\x83Jv\\x99\\xc2\\x06PA\\r\\xd9\\xc8\\xba\\x14\\xc1m@9DL\\x8c|P\\xc3^\\x1e*\\x95?.z\\xa8V\\x1a\\xaa\\xb1TTS\\xd7\\xd6\\xa8\\xc1Z\\t\\xaf\\xd0\\xc5\\x8fm>\\x8b\\xef\\xda\\x1b\\xd0)\\xb5\\xcd\\x11\\xa1Q(\\xc6\\x9b\\xb9\\x86\\n-\\x16\\x9b\\n(|\\x04G\\xa20S\\xf1\\xc4\\xd1E\\xa4\\x0e\\xaa6\\x84c0UU}\\x94\\x9f\\xec\\xa2\\x08\\xf3\"\\xe8\\x05Rz/\\xe1\\xb8\\xa1\\x1d\\x11W\\xa4\\xde\\x95F\\xc9\\x00\\x05_\\x04\\xb5\\x94\\xf6\\xc0I^\\x90!\\t\\\\\\x13\\x89(\\x86\\xd25VE\\x02\\x1c\\xf7p\\xec\\x1c\\x15\\x87P\\xb6\\n\\t\\xc7\\xc5TF*N\\x84P\\xb4L\\xd4O\\xba\\xa8#\\x96\\xaaIZeT\\xfc\\xa8\\x055*&\\xc4Vhg\\xcd\\x0bVLrQ\\xc1H\\xb8!nm\\xe4\\xae\\x9dp:\\xcc*d\\x9b\\x8c\\xaa\\xac1\\xb6\\x1aq\\x8ah\\x14\\xa2 P\\xa07~\\x8a9\\x15\\x84P\\x1a\\xc6\\xab\\xca\\x1a\\x17\\xc4e\\x96\\xa8\\xd9\\x8ak\\xa0\\xab\\x08*\\xa0\\x02\\r\\\\\\x95\\xa1E\\x0f&J\\xccP\\x8ai\\xc0\\x84\\x0bL\\x86\\xab&\\xa8\\x032\\x8c\\x01\\x01[mU\\xa7\\xb8\\x03\\x96J\\xed3@\\xa8\\xeb\\x92\\x83mwC \\xb4N\\x18\\xb7ytB\\xb4j\\x14\\xfc\\x14Y\\xf5Rl\\x14\\xda\\x86H\\xa2K\\x1b.H\\x1f\\xb2l\\xf9)1\\xa3\\xb6\\xa9*D)x\\xce\\xa80L\\xa8\\x90\\xa6T\\x1c%\\x9cT-\\x9fTE\\xb7G%&\\xdap\\xfcX(\\x16\\xd8\\xe9\\xaa\\x8aaP\\xfaj\\x1e\\x0eX\\xea\\xd0o/\\xea\\xb9\\xc3\\xc5O\\x15U|\\x14QS\\xf0\\x9dT\\xd5EU\\x19Q\\x03\\xaa\\x18x\\x88\\xf0Y\\xa8\\xc3P\\xe5\\xbc\\xbf\\xaa\\xe8|\\x89UQS\\xc7\\x13\\xe4\\xf2\\xf1S\\xcb\\x04\\x1a\\xcdOzwTy\\xa6\\x9f\\x1c\\x8a\\xa9\\xd5M\\xc2J~X\\xd6\\x16\\x8d\\x03\\xbd\\x15\\xd9\\x0e\\x12\\x02`\\xc7P\\xdec\\xa9\\xbc$\\xc6\\x80(\\xe6\\x84\\xd3w\\x90x[\\xfa\\xa0\\x10C{p\\xdec\\xb8\\x1e\\xaa%\\x03\\xbd\\x1dG\\xcf\\x8e\\xf2zk\\x8e\\xf5\\x04P\\xf3\\xc0\\xf2\\xc1Q\\xf3]\\xd3~\\x8bj\\x84\\xbc\\xd8y\\xf0\\xf3\\x0e\\xae[\\xed7\\xc8\\x8f2\\x11Sr\\x83xO!\\xe0\\x97\\x93X\\xa8\\xeb\\xe5\\xe5\\x8e\\x14|1\\n\\x0e\\xf1fU\\xee4\\x1b\\xe3\\x9d7Q\\xc2\\xc9\\xf2+\\xe0\\x96\\xe08\\x94\\xbc\\x13\\xdcc\\xc0\\x8f\\xe6\\xc08\\x1c|\\xea\\xf8*\\xa4\\xa8\\xb1SR\\xf3:pC\\xe5OT\\x1bUx\\xeb\\xa0F\\x8b=V\\xb2\\xd5%Yy\\x9dx,|\\x93e\\xd7T\\x14TZ`\\xa6B\\x8d\\xa5U\\xb4\\xb6\\x95Qi%|J\\x8a\\x8a\\xaa6\\x8f\\x18\\x9f\\x83\\x9a\\xe6\\xaa\\xaa\\xa8\\xa6\\x9dC\\nqI\\xa8\\xf9\\xd4Q\\xdc#\\xc1\\xa7\\xa8\\x1d\\xfa\\n\\xc8\\xe0\\xc7\\x80~\\xb2\\x87\\x07\\x86\\xb8\\x1d\\xec\\xb9\\xd4\\t\\xc5\\xd8\\xa1\\xc1\\xa1\\xbf\\x86\\xb6\\x81\\x04?\"\\x16\\xb6\\x9a\\xa3\\x97\\t\\x1b\\xdd\\x96\\xd3_^\\x0f*\\xa8\\xe9}\\x11\\xdebT\\x06\\xce\\xb8 8=\\xb7\\x98\\xbb\\x00\\x80\\x17F\\xf3\\x17.Yx:pw\\x15\\x99Q\\xde.\\xa9\\x9f\\tv|\\x1d\\xfb\\xb5F\\xa9)\\x9f\\x14\\x02\\x03.\\x0f\\xa4\\x02\\xb0\\xf3\\xea\\xaa\\xaa\\xaa\\xaa|\\xc8\\xe5\\xc2]+\\xa6c~\\xb5\\n\\xf0\\x98\\xe2\\'\\xbe\\x86\\x0cP\\x03\\x0e\\x12Fh\\xb4\\xe1\\xbeD\\xed\\x9a\\xf0\\xbbm\\xda\\x1b\\xdf\\xda\\xbcK\\x0e\\x1aF\\x18o3\\xd8\\x15\\xf1O\\x84G\\x16\\xef\\x10\\x08\\x01\\xe1\\x89\\xe1%\\x11\\xbb\\x00*T1\\xc4\\xf1\\x0bX\\x1d\\xdb\\xed\\x0fn\"wP\\xd0\\x83F\\x1cH\\xee\\x96\\xb1<N\\xd6\\xe6\\x04\"\\x148\\x99\\x19\\xa8n3\\xa2$c\\xc5c\\xb94c\\x0e-\\x11\\xb8Zwn1\\x11\\xe7r\\xe3Q\\x1ed\\x14\\x07\\xe4n|k\\x9f\\x99h\\xf1\\xcez\\xf9x\\xf9q\\xe9\\xf90\\xe3\\xf0?\\x92!\\xf9*:\\xba\\xfeE\\x82\\x82\\x87\\xe4s\\xff\\x00\\x9a?\\xff\\xc4\\x00+\\x10\\x00\\x02\\x01\\x03\\x03\\x02\\x06\\x03\\x01\\x01\\x01\\x01\\x00\\x00\\x00\\x00\\x00\\x01\\x11\\x10!1AQa q@\\x81\\x91\\xa1\\xb1\\xf0P\\xc1\\xd1\\xe1\\xf10p\\xff\\xda\\x00\\x08\\x01\\x01\\x00\\x01?!\\xff\\x00\\xe5\\xcd\\xa5\\x96\\x84\\xd3Vu\\xc1.\\xec\\xc4\\xc3\\xff\\x00(9\\x8e\\xd8\\xbf\\x9b\\x87\\x03\\x96a\\x8dz\\xdf\\x13\\x06GZ\\\\\\x8a\\x93\\x8b\\x82c\\xc7\\xa6)>\\x08\\xc9=\\x8cKv\\x96\\xcbZ\\x9d\\x8ex\\x14\\xb2-@\\xdc\\x04\\xfa1`\\xf3\\x841\\x1c\\xb5%\\x88x\\xfc\\xa3i)n\\xc37m\\x08!\\xd0\\x84\\xb2\\\\\\xfd\\xc1\\xa4\\x05\\x85\\x8d\\xc3\\xa3\\r\\xc7\\xfd\\xe8\\x16z\\x1e\\xc3j\\x82\\xf4\\x12VN\\xd7,\\xc7\\xbc\\xfe\\x08X\\x1cX9\\x9d{\\x8b\\xfc\\x80\\xd8_1\\xfc4>p\\xe1\\x82O\\xf6G\\xf1\\xd8H\\x0ff\\xac\\xc4\\x87\\xd6\\xa9\\xfeA\\x93M\\xf1|\\x83\\xf3H\\xcd\\x81\\x1a\\x9b\\x97\\xb6\\x82\\xfd\\x80Z{\\x8a\\x064\\x97\\xb8\\xbc\\xf1q\\xbd/\\xd1\\xbd\\x8f\\x1a\\xee\\x0e\\xdcz\\xc2\\'\\x15l\\x1cI1\\xd9\\xcd?4[\\x83\\xf9@\\xa1\\xfd\\x06\\xeb\\xe85\\x0fxd\\xab\\x07\\x88\\xea\\xc2b\\xcf\\x98\\x8e\\x83gG\\xf8\\xe8\\x80OD\\xc8x\\xe5\\xa3\\x10\\xea\\'\\x8d\\x83\\xb10\\xb8E\\x98\\x02\\x8b\\xf5\\x93%\\xd45\\x96\\xfb!\\t\\xdf\\x0f\\x82\\xc4q\\x1a\\x97\\x19-\\xc3\\x135~\\xc1\\xbf\\xb0\\x12\\xdb{\\x84\\xb1\\x13[\\x89,\\x94y\\x0bw\\x87aeg\\x9d\\x0c|\\xf20(\\xbc\\xdc\\x1f\\xc2\\r\\xdf\\xe6I\\x93r\\x1a@\\x93\\xe0\\x89\\xac\\t\\xcd\\xfb2\\x11\\xec\\x96\\x8c*f\\x94\\xf5\\xfcT\\xc1q&/\\xf8-Y\\xd4{\\xb1t\\xf9d\\x9f\\xecF\\xa3\\xa3\\x92\\xd1o`\\xb2\\x9f\\xa5\\x1f\\xf2\\x0b\\x10\\x93\\x87\\xfb=\\xc3 w\\x87\\xc8\\xe1\\xed\\x10\\x84\\xca|\\x8b\\xd9\\x97\\x91\\x9aX\\xac\\xfa>\\xc3GS\\x83\\xf5\\xa0\\xc8v\\x9f\\x0c\\x8c\\xc7\\xdc?\\xd0\\xdcW\\x11\\xea$c\\xc1\\x8d\\xec\\x16\\xa8Sb\\x0b7n\\\\\\r\\xd7amY\\xf8\\x86\\xd4\\x8d\\t\\x1d\\xe8\\xff\\x00\\\\\\x18F\\xb8\\x88\\xae\\xfdi\\xc2\\x19t\\xe1\\x16\\x05\\xf3`\\xd4\\x18!\\xb4n\\x10\\x8d\\xf37!h\\tL\\xee@\\xb0\\x93\\x93\"\\xb7\\xde\\x11/0\\x1d\\xf2W\\xf7a\"\\xf8\\x10\\x11Q\\xf67Dz\\xca\\xc8\\xae\\xfb`\\xa5I\\x89\\x81<\\xa0{\\x85\\xab\\x0c\\xb6\\x1b\\x84\\xfd\\x01rD\\xec\\xaf{\\x7fb\\xc6gVG\\x80\\xc7\\xb5\\xb7\\xa4J\\x93\\x10\\x9e\\x06\\xebo\\xc3L\\x08w5\\xa8\\xb8O\\xbf\\xbb,\\x93^\\x81\\xd9\\xdc\\t\\x99<\\x99\\x93\\xe0\\x11\\x01\\x03\"\\x89\\xbex\\x7f%\\xcc\\xc5G,,\\xfb`\\xfa\\xd4\\xbe\\xd2`\\x01m`{1\\xae\\x11nq\\xa3\\x1b\\x07\\xaf\\xf8>c\\xd5\\x1fHNO\\xd6\\x01\\xa0\\xfd\\x97\\xc8\\x96\\xb97\\xb4\\xbdC,\\xfb\\x1f\\x91-\\xed\\xc07\\\\\\x02T|\\x83\\x89\\xc4\\x84\\x1b\\x97\\xda\\x07,O\\xc0N\\x83#\\xbc|\\xc8\\xd2]\\xddFXFmC\\xba\\xdb\\xf0\\xb7\\x0f\\xe1\\x7f\\x08m&\\xcb#/:\"$8K\\xd8^\\xa7\\xbc\\x8a\\xc3\\xe6\\x19)\\x8f\\xdd\\x13\\xca\\x1e\\xecd\\xc2@\\xc6\\xd5\\xc2\\x19\\xd9\\xe8\\x7fKqy\\xc8\\\\a\\xe1\\xc1\\xb5\\xfc\\x08\\xbe\\xba\\x05c\\xde\\x8b`\\xc4i\\xcc\\x0fq\\x1f\\xb4\\xcc\\x8cZ~\\xd4%\\xc5\\xd6\\x8b\\x83W}\\xaehldL\\x12\\xc98\\xcdp\\xf5\\r4\\\\\\xc1?\"\\\\\\xd5\\x91+E\\xbf`\\x05\\xb9\\xdd\\xa1\\x06\\x00\\xd9q\\xac\\x12\\x9f\\xe0\\xd6\\xdbn\\xedh4M{\\x10\\xdd\\xee\\xa4)\\\\\\xef\\xb7\\xf0\\x15\\xcaH\\x1a3\\xb4\\x06\\xbb\\x9d\\xc1<\\x8d\\x99\\x1enhW\\x92\\x16%\\xaa+\\x0e\\x03(\\xd3\\x07g\\x1eB\\xc7\\xb5\\xc1/+\\xa8\\x12\\x99V\\xf9B\\xeb\\xb3q\\xf9>PI\\x17u\\xbe\\xc90\\x0c\\xcd\\x1b\\x80\\xd98W\\xd3C}\\xf4\\x0bW\\xe9\\x0c\\xcb\\xfbH\\xdd\\xbe(\\x96s\\x1e7\\x05\\x9dML\\x03\\xe0\\xdc\\x95\\xf5\\x0b\\xb3\\x0cv63\\xce\\x83\\x91r=\\xd7\\xdd\\xf8,\\xbd|\\xe1\\x85\\xad\\xebhB\\x85\\xed\\xf9\\xff\\x00\\x06\\x0b%\\xe3\\xec$\\xe7_\\xc1g\\xf6\\x8a\\xcb\\xeb\\xee9<\\xa8u\\xfa\\x96\\xa3\\xc9J\\x85\\xc9.`\\x8fo\\xcaA\\xb6,~\\xc8D;}\\xa9\\x91\\xbf\\xd1;\\xa2\\xc1\\x8bTM\\xc9\\x17\\xf4\\x16\\xce\\xc2.xq\\xfe\\x7f\\x0fTE\\x7f\\x8b\\x8c\\xed\\xe7\\xbd\\xefL\\x92\\x196\\xc8\\xe2\\x14\\x80\\x1b\\x95-A;\\xd4\\xe0V\\x93\\x83v1\\xc8\\x9f&x&^\\x8b\\xfb7\\xc8\\xa4\\x8f\\x18Sp\\xb3~\\xc2i\\xb0\\x1b\\x91\\'\\xc8,&\\xcd\\xff\\x00\\x00\\xf0\\xe3 \\xf7\\x1al\\x1b\\x0cC\\xe0\\x92\\'\\xff\\x00\\x06\\x1b\\xa0\\xf9\\x12\\xcbm\\x86\\x98E\\xb5\\xd1\\x1c\\xfb\\xea+\\x8fP\\xb5\\x00\\tlCP\\x8f\\xe4!\\t\\xe1c\\x1e\\xa4S\\xb0\\xb8:\\xfa?\\x03RAr~\\x83\\xdd<\\xc2{\\x80\\x8c3\\xca\\x7f\\xc0\\xd0JkA\\xb16\\xff\\x00\\xd1\\x99\\xab\\x99\\xd1\\xebk\\x0bU\\x9f_r9zK\\xe9\\x93?h\\xcc\\xcbp\\xa5\\x9b\\x18k]\\xcc\\x02\\xc8\\x1b\\xf9n\\\\\\xb2\\n\\xe7\\x80\\xba\\x9b}\\xc7\\x1e\\x8a-V\\x8f\\x95\\xb0\\xa1\\xa0NT\\xaf\\x1e\\xcf3\\x08j@s\\x08\\xc8\\xb6\\x90b\\x12;\\xa3\\x9b\\x8f\\xec\\xc7\\xb3\\xcf\\xb2\\x14M\\xae\\xf5b\\xdc\\xa7\\xbe\\x17\\x91\\r@\\xaf/P\\x92\\'\\xd8!\\xa4\\x11\\xed\\x88j\\xfbP\\xf4\\x8d\\xd8\\xc5e\\xf9\\x9f\\xe4H\\x97\\xd2:\\x0eS\\x9f\\xb0XJ\\xaf{_#mvO\\xb9\\x1a\\xb5\\xeaI\\x12\\x9e\\xa0_\\x0b\\xb4\\xb7\\xb9\\xe4HK\\x871\\xc92\\xf9\\x81+B;\\xe4la0\\xd4\\xa0[\\xed\\xca\\x1a>{\\n\\x1d\\xb2\\x12@s\\xef\\xcdj+\\xb29\\xf2^\\xb7\\xa2\\xdd\\x17\\xf6 \\x80\\x91nw^9L\\xc0\\x85\\xa7c\\xfb,\\x08D9e\\x0f2\\x9aBS^p\\xf5#|\\x9c\\x17\\x16\\xbd\\xa4\\x15\\xef\\xa2d\\xff\\x00\\x04U\\x89\\xe4NR4 ;\\xe4\\x17/M\\x1bO\\xe06I\\xf0\\xfd\\x82\\xeb\\xb8l-\\xcap\\x14\\x1bn~\\xe7\\x8f\\'\\xa8$\\x9f,#\"^w\\xa1s\\xa7\\xb4\\x16\\xa4\\xf7\\x7f\\x03\\x9cTw\\x84\\xce\\xecX\\xf7\\x13V\\xde\\x8fS\\xbe\\xdc\\xe0K\\xdd\\xd8\\xc9VB\\xeb\\x85\\xddR\\x94\\xf3\\xff\\x00\\x0c[\\n\\x0c\\x12K.\\x1d\\nc.\\x10\\xe5A\\xef\\x84\\x11\\xa8Zx\\xe6\\xbe\\xc0\\xf5]\\xb0F@\\xf5\\x02\\x8f\\xd2H~d\\x86\\x90\\xed\\xac/0P\\x92\\xec\\xb8\\x1e\\x1c\\xfdw\\xec?K\\xbeJn\\xccN\\n\\x98O,I\\xb8}_1\\t\\x1b\\x00\\xbd\\xd4+\\xd4pl\\x1d\\xcb|\\x85\\xc9\\xfe\\xab\\x9e\\xe4\\x15\\xbf\"S\\x19\\xbe\\x01g\\x8f\\x90\\x95\\xe6\\xb4_4\\xcd}K\\x1f,)\\xf7`\\xd3!\\xb1p\\x9b{\\xc9+\\xd4\\xb7\\xac\\xb7\\x03\\xb3\\x0b\\xd8\\xf4\"\\xef\\xec8\\xf3\\x1f\\xd1b\\xff\\x00Hz\\xae\\x18d^T6[\\xf4\\x10\\x17\\xca\\xcf\\xfe\\x83\\x9b\\x97Y\\xd4\\xee\\x90Z\\'\\xb8=\\xfc\\x99F\\xf6G\\x8dx\\xae4\\xc0\\xecB\\xb9\\x17\\xa8f\\xa5\\x18\\xe1\\x8dNu\\x92\\xc1B=\\xe2\\xd1\\xbeo\\xb73RZ\\xe6.\\x8b\\xcc\\xe9\\xb7\\xdd\\x06\\xb4z\\x88}BqP\\xa07\\xf3\\x195\\x0f\\xa0\\\\\\x90|\\xc10\\xa9\\x9e\\xe1\\x8c\\xf7\\x0cT\\xbe\\xb0\\x03\\xb3\\xc9\\x9fk\\xcc\\xbd\\x8f\\xda\\xbf\\x91`]\\x8b\\xfa\\x1e;y\\xaeI\\x1co\\xf5#\\x9f\\xfd\\x82\\xeb8\\xec<\\xa6\\xe6\\xf63r~y\\r\\x84x\\xb0 }m\\x98\\x96\\x80ej\\x85dG\\xd6\\xc3\\xd8\\x10\\xd3N\\xfa?\\xe9k\\xe7}\\xe8L\\xce>\\xbd\\x07eW\\xe5\\x1c\\x8b\\x04Hy7\\x03\\x0b\\xa5D<c\\x1b\\xde\\xf7\\xf0u\\xc4\\x8f\\xb1\\xd8,+\\xf2{\\x0f&\\xcfa\\x90\\xb6\\nh\\xd2\\xa6\\x17\\xe7\\x80i\\xbfM\\x85\\xff\\x00\\xb05p=\\x13B\\xdd\\xcb\\xd8\\x06\\x91\\xf9\\xe1c\\xf5\\x02\\xe5\\xdanK}\\x83k\\xf8\\x13\\xdb\\xb6\\xd6KT\\x88\\xd8\\xd5\\xee\\x7fG\\x13\\xf5a{\\x8e\\xef\\xe5\\x8fb\\x0f\\x0b\\x83\"\\xf9/\\xec\\xc9k\\x1c\\xb7\\x1e\\xe4\\'5\\xd3O\\xee\\xa5\\xd3\\x9dwE\\xee\\xcd\\xb6B\\x8d`W\\xb5\\xbb\\xb4ci\\xbd\\x9e\\xbf\\xe9b{\\x85G\\x00z\\xd7\\xd8\\x81\\xed\\xc0?\\xbb\\x92\\\\\\xe6\\xe2f\\xc0\\xc9\\xc0S\\x15\\x9f\\xee\\xbcg-\\xac\\x95\\xac\\xbf\\xc2\\x89u,\\x01s\\\\pF\\x96\\xdb\\x17\\xb9\\xff\\x00Q\\x8f\\xf8\\x88c\\xde\\xb8\\xc6\\x14!z\\x8d\\xbaH\\xce\\xf0I\\x19.\\x18s\\x9b\\xa3!{\\x8c\"\\xbeCN\\x10b\\x02\\xc2|\\xf3\\xfd\\x8d\\xc6]\\xd1x \\xf5@=]\\x8eE-\\x04\\x10\"\\xecd7\\xbb\\n\\xe7\\xcc\\xf8Y\\x91g[\\x1b\\x02\\xe4E\\xae\\xbe\\xf0-7n\\x1b\\r!.\\xd3\\xe4r&\\xfa\\xfa\\xe8Q\\xda <\\x80[\\x0cJf[G\\xb0\\x9cb\\xfd\\xe1\\x86Z\\xd3\\xd0\\x1a\\x07\\xe2\\xe1\\xba\\xba\\x11\\xe2?\\xf1\\'a\\xd3\\x918\\xbc\\x85\\x1a\\x11\\xf1`\\xee\\xcc\\x89\\x03\\xb1b\\x97\\xccFs\\xb9\\xd3Zi\\t\\x08j\\xc3JEN\\x83\\x8b_\\xccF\\x06\\xc7\\xe90\\x81\\xbe \\xcfC\\xa66\\xe3\\x90\\x82\\x1c;\\x8b\\'tMw\\x82\\x08\\x00\\xf6\\x89\\xfb&z=G\\xb2\\x17\\'\\x19\\xd45\\xf5\\x89\\xf9\\xec\\x18O\\x97&\\xcf(C\\xe9\\x965\\xec=au/!\\x91P\\x13~\\xdf~\\xd8s\\xdc\\x7f\\x9e\\xc4F\\x7f|\\x0f\\xcb#\\xe2\\xf8\\xd9\\xbb\\x8e\\x93\\xe4\\xea\\xb2y\\x863g\\xb1\\x8d\\x90)&\\xd3\\xcc\\xf3\\x9e\\xfd\\x05\\xa0\\x84*\\xb4;\\xb7\\x18\\x86\\xa8LQ(\\xce\\xea\\x1c\\xca\\x98b\\xf4\\x1e\\x17\\xb2\\x0b\\xf0\\xad\\xb8s\\x1b04\\xf2\\\\\\xd5\\xa3\\x13\\xb9\\xa0\\xb43.\\xf9\\x1e\\xc2\\xe7\\xb0h0\\x8f\\x99\\xc2o\\xb1\\x10\\x0f\\x18\\x99\\t\\xc1\\xf3o\\x07\\xf0\\x86\\x7f\\xc3#\\x9dO\\x17*\\xbf\\xe8f\\xfb\\x99\\xd0\\xbd\\x08\\x91\\x86\\xf4>q\\xd4f\\xc2#r\\xdaiFBP\\x84!U\\x8f\\xa2\\x03\\\\\\x11;F\\xafA\\x1b\\n\\x0cwS18h\\x1f}a\\xea\\'JZ0\\xc9\\x10\\xd7\\x90\\x86P\\xde\\x0cO\\xccg\\xb9,<\\xd5\\x16\\x028\\x7fX\\xee\\xa22^\\x8b\\xec\\xf9\\x9a\\x8c$\\x92\\x9e\\xe2\\xec\\xfc\\\\=\\x7f\\xb8\\xc8l\\xf2\\nR\\x84\\xd8l\\x0e;\\x91w!B\\xc5d!Q>\\x88\\xaa\\xe8c\\xa3\\x90\\x9a\\x01[\\x0c\\xcc\\xde\\xd4>G\\xe8\\r\\tO\"K\\xf6{\\x8f!5\\x115T\\x94\\xe1\\xb8\\xbam\\xa4\\x0f\\xedF\\x06\\x1a\\xad\\xb7[]\\xd2\\xf5&\\xdd@R\\xcd\\x7f\\xe7\\xf7\\xe2\\xb9mc\\xbf]d\\xe1\\rc\\x9c\\xc3\\xe0\\xe0\\xc1t\\x8d\"$\\x8d\\x11\\x85\\n\\xb5\\xd1?\\xf8\\xa1\\xd1\\xd1\\xba;\\xc1\\xe5\\xc4\\x90j\\x9e\\x89\\x81?\\x83\\x87\\x81\\xa1\\xee0f\\xff\\x00#\\x8b\\xb2\\xfdS<\\x80\\xbb\\xa1d_T\\x96g\\x92!\\xf5\\xff\\x00\\x83\\x15\\xb6\\xf1Z&j\\xff\\x00\\xd1v\\xf3$\\x82\\x1a\\x98\\x0e\\xc0{\\x13#\\xd2\\x8aV\\xa1\\x04\\xc4!4Bb\\xebc\\xa4\\x8cc\\xa0\\xbb\\xc8a\\xbe\\xe4A\\xa9|1\\xcf8\\r[\\xed\\x8d\\x8f%\\x9f\\xec%\\x80%A\\xdd\\xc6\\xd0\\xd6\\x00\\xd5\\xb9b%\\xcc\\xce\\xdb>\\xeeh\\xf7f\\xce\\xeb\\xc5*\\xd0.\\x04\\xbc\\xdb\\x8dq\\x06\\xc1\\xaa\\x97j\\x8aI\\xc0!\\x08Bp \\x84\\x93F.\\x84\\x1d\\x06$bM\\x81\\xd0f\\xb0cD\\x860\\t\\xd2\\x165\\x8c\\x85\\xc6\\x96\\x9b\\xa34U`r\\xa5%\\xa8\\xe7\\x11\\xe5\\x01\\xed)E\\xbb\\xa2\\xd0sr\\x9f\\x12\\xe1\\xb3\\xb2A\\xe4\\x00\\x9a\\x92\\xa6\\xcb\\x08\\xdd\\x1e\\x8a@\\x90\\xe4\\xc6\\x84\\xa8\\xb0UC\\x15U\\x1d.)\\xa3\\x91\\x93\\xb0\\xd8\\xd8\\xe8\\xe8\\x86\\xa5\\x13\\xd0\\xa4k\\xbb\\x04\\xfd\\x9ah\\x13\\xac\\xac\\xad\\x8fd\\xc8\\xe7\\xf0\\xf4\\x0c\\xbd$\\x11\\x06\\x94\\x8b\\xcd\\x05\\xf7\\xe4B\\xcc5\\xf1+H0\\xfd\\xca,\"u\\x1a\\x90\\x83\\xd0\\xa2\\xd0\\x82T!\\x08@\\x90\\x90\\x84\\xa9\"\\xe9c\\xa3\\xa3J\\xa5EF+\\x98\\xd5\\x06\\x07\\xc5\\xbfE\\x87\\xe8o}\\x8c\\x84w\\xc7\\x01\\xab9/\\xdc\\x10\\xed\\xacLras\\x13\\xc0\\x9f\\x12cD\\x0e\\xfb\\x87\\xd3\\x90\\xa2\\xf4\\x06\\xb0hI{\\rq\\x8e\"\\x10\\x84\\xc4v\\xa2\\x12\\x18\\xea\\x98\\xe8bh\\xc7GV:H\\xd9\\xccq;X\\xd3&\\xa8\\xfdWD\\xc4\\x11\\xce\\xb6]\\xd9\\x8dG\\xa5\\xeaydr\\x18\\x05\\x81\\xb7\\x88\\x9apAxC\\x03\\xfb\\x08\\x95\\xc4\\x04\\xfb\\x01\\x1af\\x83@\\x86\\x15\\x08$!\\xa4.\\x88,&\\x86\\xde\\x88\\xed/\\xb0\\x93!\\x8eH\\x91\\xf41\\x8cc\\xa2\\xf1\\xb6\\x18\\x1b\\xfc\\x94\\xdcw\\xc2V\\xd1,\\xa0\\xcc\\xf6\\xd5\\x89}\\xb1:N\\x84\\x90?HX\\xec\\xf8\\x86\\x80\\x93G7\\x19cL\\xf7!\\xd8\\xb0\\x88%\\x17&\\x0b0aJ\\x10\\xd4\\x10L],c\\x128\\x10\\x9d\"\\x8ca\\x84\\xa3\\x18\\xfa\\x14#\\xd9\\x99\\x07\\xfcAi\\xf6\\tvf2@\\x05-\\xa1\\xa6B2\\xc7+K\\xb1-\\xf7\\x88\\x9406\\xf6\\x81\\xc8U\\xda\\x0b\\xdc\\x19d\\xbdE\\x82s\\xb5\\x1c\\xc4*\\x14\\xd1\\x08M\\t\\xa3\\xb5\\x1dX\\x9d\\x10\\x93\\xde\\x88\\x9a7Q=W@\\x9f\\nEc\\x9b4mz?f\\x88\\xac\\xd8\\x1cU\\x93\\x1fY\\x95f.3\\x0eL\\xf1\\x04\\x9e\\xc1\\'i)\\x90\\x95\\xf7\\x87k@\\xbd(\\x04\\xa8X\\xe8\\x18\\xa3E,\\x91\\xf1F\\x8e\\xe1U#\\x1b&\\x93j!\"\\x0eC$\\xa97d,\\x05\\xca\\x0e5\\xe4c\\xde\\xbc+\\xa7\\xd4z\\nV\\x8c2\\xb5Z\\xdc\\x16$\\xcc\\x12M\\xed\\x1e!\\xe0\\xe3\\xec2g\\x90Rb\\xc4\\xa3\\xd2mS%r{\\xd5Z&;k\\xd9\\xb1-\\x87\\x84!\\xdcc\\xe4X$\\xc8\\xb8c\\xa9\\x84\\x11t1(\\xa7f^{\\x0e\\xdc\\xc8\\xbe$c\\x1bb\\t\\xc8\\xc7\\xd8\\xfa\\xc8\\xfc\\xc0\\x88\\xa6\\x02\\xb8\\xeaC\\xd6D\\xbb9\\xf1\\x0e\\xb3\\xba\"\\x1e\\x19\\x1e;\\x1ab\\x12F\\x88\\x8a[b\\x04\\x85\\x84\\x9b\\x02\\xa4\\x10\\xcad\\xef\\x15\\r!\\xa4\\xd4\\xa0\\xa9\\xa8&60\\x98\\xa8\\xc0QF\\xd1\\x01\\xa8\\xdc\\x8e\\xe4\\xa8w\\xb6,;%\\xa0]\\xc7 ;\\x8f\\xb2n\\xa7{\\x19\\xbcA$N8\\x04\\xed\\x9c\\tf\\x84g\\xc3\\xb4\\xa5\\xb0\\xa0t\\x9d\\x85l,IX\\xb9k0\\x17.\\xb8l\\x89\\x02\\x01\\nH\\xc4D\\xbc{\\x8f\\x08D\\\\\\xd4H\\x82m\\x02\\xb7\\xb0\\xf3&y\\xe5\\xf2\\xf1\\x04\\xc7J\\xa4\\x944*y\\x13\\xa0\\xcdD0\\xe2=\\xe1\\xb9\\xd8\\xabk\\xd0[5F`\\xc0\"\\x05\\xd3B\\xbba\\xff\\x00A\\xad&\\xfe\\xe0\\x8c+s d\\x00j\\x08f\\xc9&\\xf0\\xcc\\xe4Y\\x82 \\x84\\xaf\\xb0V\\r\\x98\\xd0\\xe4\\xba\\x00\\xd5\\x92w,\\x0fq\\x1e\\xe3\\x08XB\\xbfB\\x91`\\x9bC\\xb0\\xc6\\xe4\\xf8>\\xc47\\x82\\x18\\xee\\xa5\\xfa\\x08\\xa2M&%Y/\\x93\\xf4\\x9ct!X}\\xd1\\xb9o\\xe6k\\xbb\\x88}\\xe5\\x8e?1\\xcd\\x0b\\xc9\\x14&\\x8d/\\xba2\\x87\\x83\\x19\\xb6\\x18\\x85\\x9a\\xc6\\x01\"c*\\x9b\\x0e\\x99\\x95\\xcdJ\\x0c=\\xd2Ic\\x9e\\x91\\xea\"{\\x12-f\\x1e\\x19\\xa9Lj\\x81\\xaa\\'\\x90F[\\xa3aP^\\x8b\\x862\\x8d#\\x0c\\x13\\x951\\r\\xf1o\\xc0\\x8cX\\x1aK\\x1e\\xe4h|\\x89\\x0fl:4\\x16\\xcavcX\\x1bGB\\xa8o\\xa3F\\x84\\xd9\\xee\\n\\x1f\\xa0\\x08Iw\\x02\\xd5\"\\x7fn\\xac\\x9eCr\\xa8\\xdcA\\x80\\x84\\xaa3\\x0f1\\xacr\"1\\x03[\\xf0B\\xa7t\\xdcX(\\xdc9s\\x000=,\\x0eQw\\x87\\xed\\xa0\\'\\xd2\\x83w\\x83\\xd9c\\x1a\\x1cc\\xb9\\x01\\xeaX\\x17\\x0cgp\\xa3\\xe0\\\\\\x0b9\\x18\\x93\\xb8\\r;\\x16RY\\xd1\\x98\\x01\\x89&\\xa9\\xb5\\x0b4\\xc8\\x10\\xd1IhY\\xa8l\\x8dW=\\x1e\\xd6\\xf3\\x04@5\\'\\xa8\\x85\\x96]qa6\\x87\"I\\n\\\\.\\xc3\\xa8Z\\xb2=M\\xa1\\xabB\\x11~\\xeb\\x8fu\\x13\\x1d>A|(<\\x06k\\r\\xc3b2r%c\\x03\\x10\\x9bE\\xe1\\xec\\xcb-\\'aF;\\x8e8\\x0e\\xcc\\xc9\\x10x\"\\x066\\xd2\\xdd\\x8fd\\xf3\\xb89:\\xb7\\xa8\\xca\\x06\\x16\\xe0]\\xce\\x049\\xccZI\\xc1\\xde(R\\xc6Kf\\x98\\xd0\\xa4]\\x81\\x06\\xec\\x85\\x16\\xb9{/5\\x1f\\xcc\\x1d\\x91\\x94A\\x83\\x00Ll\\x10B\\xa9\\x8e\\xe8\\xf4@\\xc2\\x8d\\x88\\x1d\\xdc\\xe0M\\xee9\\xa3P\\'\\x94\\x96)[\\x8adr0\\xfb/\\xdc\\xcfI\\xf4\\x17\\xc4\\x08\\xd1A\\x8f\\xb7\\x87\\xbd\\xd1e\\x19$l\\x84+\\x97@\\x94\\x07D6\\xdc\\xec$:j\\x1b!0\\xd4\\x9cQ\\x08\\x03[\\x8f:v\\x11!\\xe1\\x8b\\xc7@\\xf7\\x00U\\x96\\rV\\x92\\x016dt\\x1e\\x14\\xd0\\x02\\xd0A\\xd3\\xa5&\\xad\\x1c\\xeb\\x0e\\x9c4\\xa9Y\\xcc\\x11*\\x99\\x96\\x17\\xa2\\'a(~\\xe0\\xc6\\xe40\\xf1\\x18KV\\x14\\xd0U\\x1c\\xa4$\\x94\\x1b\\x05\\xc1\\xaa2C@\\xce{\\t\\xd9A\\x946\\xe6\\x8d\\xf8\\x94\\xf7\\x01\\x1d\\xc4\\xc5\\x1c(b\\xd0\\xcb*R\\xa5\\x96\\xc5\\'\\xda\"!\\x97\\xb4;\\xee5\\x03\\x96\\x925\\xd0i\\x0f=K\\x01\\xd09\\xb4.8\\x16\\xa0\\xf8\\x06\\xa3\\x1e\\x814\\\\\\'\\x1b`+S\\x04\\xa9\\xd4X\\x91\\xe5\\x85Y\\x02\\x9a\\x86\\x8e(\\xef\\x900\\xd7B,f|\\xdb~\\xe2\\xf1#{\\xbcO\\xa8\\x08\\x1bi\\tk\\x16\\x03\\x15E\\xc6\\xa3@Z\\x929\\x06\\xba\\x07\\xc1\\r\\x83]\\\\\\x90\\x11\\xa0c\\xf8\\xccB\\x19\\xa5\\x0c\\xc0JY\\x03@E\\xa7\\x03t\\'\\xa9\\na\\t6\\xae\\x8a\\x88\\xea\\x8d\\xa1\\x8a\\xd0\\xe3\\x809\\xb7\\xb9\\xea\\x1e*\\xd2-d\\xce\\xf8\\xadY\\x18z\\x1b\\x82h\\xa5\\x7f\\xe0\\xf5Ft\\x1b=\\x06\\t\\xf8\\xf54\\x8b\\xee*\\x18\\x1a\\xe2\\xa6#\\x1a\\x16.f\\x0b\\xa0\\xc2\\t\\x89\\x10 \\x868\\xc4\\x05\\x00\\xc9\\x1cT\\x93\\x9b\\x94c\\x0fQ\\xef\\xef\\xe2V\\xdc^E\\x13<eN\\x83!\\x0e5\\n@\\xc3\\xa4\\xe4%]\\x04\\x0c[\\x08\\xf8\\xa1\\x88\\xd4C\\x98\\xe9\\xa0\\xc1\\x08\\x1fE\\xc1\\xdc|\\x06\\x1eu\\x995\\x08\\xc8\\x80\\xee\\xfb\\xf8\\x98\\x90\"\\xb1\"\\x00\\xf9\\xa3!\\\\5\\x07\\x1cD\\x10E\\x1d,zdB\\xa6F#\\x0cj\\x10\\x82\\x08EN\\xbe*V\\xc7L*\\xe5\\xff\\x00\\x05\\xc9\\xcb\\x81!Oo\\x13;\\xd3E\\xf0\\xf2\\x17M\\x8c!\\rq\\xc6\\xe8\\x1a\\x8cqti\\x10\\xa8Ti\\x18\\x90\\nC\\t\\xd0\\x84I#t0\\xf5\\x8d`\\xb0B(256\\xb0\\x908\\xf1?1)\\xa1\\x974!:\\xcfJ{\\x8cH\\xc3\\x88\\\\\\x8d\\xe0\\x1c\\x94-\\x84\\xb7\\xa1\\x0cc\\x02+\\x92A+\\x82q\\xa8M\\x18\\xc6\\x1b\\xda\\x83\\x99\\xde\\x94&oP\\xf0h\\x8a\\xd7\\xe7\\xc5v\\xb5\\xcb\\xc4\\x03\\x8aZ\\x87\\xd5\\x01\\t\\x18\\x9aS`F\\x7f\\\\\\r`\\xe2\\xa4\\x1aV\\xe2\\x08;GK\\x18 \\xc3d\\xa2\\x08H\\xdf@{\\x0cfb4\\xb0\\xa6_/l\\xf1K#jB\\x98\\xf4U\\xfb\\x16\\x84\\xe90\\xc2\\x12H\\xd4a\\x1d\\xf4%F\\x83\\x16\\x0b\\x05M(\\xc0\\xc8\\xc2\\t\\xe0\\xf3\\x17\\x0c@\\x8e\\x89\\xa3u\\x1e\\x83\\xb8\\xc8f5\\x11t\\xca\\xe5\\xf8\\xc6\\x8d\\xd9\\xb5\\x98\\xf1zQ1\\xd0\\xc3\\x0f#\\x0cM1\\x9cO1*n\\xb1\\x0e!\\x8f\\xa5\\x05\\x95Q\\x1b.\\x92hlc\\x0e6\\'\\x14=\\x83\\xc7%\\x083\\x80\\x90\\x89x\\xcc\\xe23d\\xb8^\\x1a\\x15\\x0e0\\x89\\xa5!\\xb9\\x02\\x97\\x968\\x0c\\xe5a1\\x08:\\xf6+\\x1b-\\xd1U\\x8aF\\xeaMENi\\x91-\\x02I7au\\x10\\xbck$\\xa6[\\x8b~\\xa4M(\"\\x04d\\x1b\\xbce\\x1eU\\x84\\xc5\\xe8\\x90\\xd5\\xcd7\\x909\\xc64\\x89\\xc3\\xaa\\x9a\\r\\x8c5\\x1d\\x1b\\r\\x1f\\x81\\x8b/@\\xb9\\x9a`B\\xf7\\xac\\xc9\\xe1\\xdfD\\xb0\\x93N\\x0c\\x063s\\xb9\\n\\x92\\xdeaE8\\xa0\\xbe\\x1eD=\\x0b5\\xd1-\\x07C\\x18\\xc5c*6*\\xfc\\x03#b\\xc1\\x9d\\x12\\xa9\\x0c{\\x98\\x884\\xaf\\xbdC^.\\tl1\\x07\\xbcm\\x8b,Bl\\x16:\\x11\\xe6#\\xda\\x8cc\\x18\\x85B8\\x85\\xf8\\x06k\\n(\\x97O\\x13\\x8f\\xed\\xd4U+x\\xd0\\x04d2\\xcdP[\\x99\\n!\\x12\\xbb3\\xb1\\x88\\xc61\\x9d\\x8b\\x8f\\x88\\x12P/\\xc0\\xc8\\x10\\x88GEP\\x81\\xde\\xec\\x9a@\\xc4\\xd5\\x99\\x95\\x98\\xf9M\\xd4\\x7fy\\xa5\\x90U\\x15H[a\\x8cc H\\xd2\\xcb\\xb6\\xf0/\\xc1\\xc8 j\\xf4T#0\\x90\\xb5C\\x80\\x81\\x98\\x03\\xceHz!h\\x84\\x0e\\xb4GA\\x923[\\xackM\\xf3\\x7f\\x02\\xfc\\x0b\\xa7Mz\\x8a\\x95I\\x048\\xd2\\xcdCLD\\xe3\\xd4\\r\\xaa&j\\x17\\x0c]\\x07F!\\x19\\x07\\x0e~\\t\\xd1\\xa4\\xd5*\\x15\\x048\\x13;\\x12\\x10\\x11.4Z\\t\\x91(\\x81&E\\xb0y\\x9d\\x87\\xc16S\\xc0\\xf2@\\xb64\\x19\\x97H\\xd0\\xe8y\\x1dH\\x07\\xa5\\xc2\\xfc\\x1cH\\xb0\\x91\\x0cT\\xa1\\x04\\xd0\\x8d\\xc5\\x04\\xac\\xd0k\\xc7\\xb0\\xa04H\\xb3\\xbd\"(I\\xd8rN\\xeeHb\\xf9\\xc3!\\x04\\xc6^\\xe0d\\xa6\\xacX@\\x85\\xd1\\xd0k\\xaa\\x17w\\x9f\\xc2\\x19ka\\x92!+T\\x10\\x82l\\x81|\\\\\\x91\\x93\\x1f\\xfa\\xa5\\x19[G\\xa1h\\xff\\x00\\x92 (j\\xd2\\x02F-v\\xded;\\x0b\\x80\\xbb\\x958\\xc1\\x81kI\\xa6D$E\\x89B\\x85\\xf8FO\\xa2\\tU\\x18Lc\\xcd\\x1a8\\x8e\\x03@\\x12\\x0e8\\xba\\xdc\\r\\xcb\\xc9#q\\x89\\xea\\x13\\xcd\"d\\x1a\\x00\\x95k\\t\\x9c\\x84t\\x8clfD\\xd0E\\xe5\\xe5\\xfe\\x19\\x00PL\\xf4i\\xb5v\\x8d\\xe2P \\x9bV\\x14 H\\x12N\\n\\xe3l\\xafE\\xc1\\x05\\x04\\x8b\"U7C\\xa2\\xc1sa\\x0b\\xf0\\xb2\\xa0\\xd7)9\\xf0n\\x02\\x0e\\x84\\x8e\\x89\\x93R\\xa4F\\xc2Q\\xa9\\x01\\xae\\xa3A\\xd8HHG\\x14<\\x86\\xfa\\x045H\\'\\xa7_?\\x85\\xb81\\xa9F\\xeb\\x14\\xaf\\x922\\xea\\'\\xa4bGR\\x11$\\xd1#c\\xe80<<\\x11M\\xf8]\\x130\\xc6\\x16*,\\x13\\x06T!:>\\x861\\x90\\xf6\\'B(!\\x93WETcv\\xae2\\x98\\xbf\\x08\\x08\\x88%(\\xb5h\\x80\\x8f\\xcd\\x10\\x84d\\x81!QE%\\x0c\\xb5 \\xa8ka\\x88\\xa2\\xa3\\x11\\xa8\\xf0 \\xbd\\x18\\xde\\x89\\x83\\xf0or\\x13/R<\\xa8\\xc6i\\t\\xd5\\x10\\x84!\\x04\\x10]\\x0e\\x8c\\x81\\x8e\\xa3\\x15\\x1ft[\\x8a\\xe3\\x93\\xb5\\x14\\xe2\\xfc\\x13p\\x86$\\'+\\xb3]\\x199\\x1a\\x88\\xb0\\xac\"I&\\x9c\\xa8\\x92F1\\x8cc\\xa6\\xb6\\xc6S\\xc9\\xef]#\\xa1b\\xfc\\x13\\xd1\\x8eE\\x0b\\x98\\x81\\xee\\r\\x16&\\x8eJ\\x98\\xa0\\x9d\\t\\xf4$T&\\x8d\\xd5\\xb1\\xb2GKH\\xc2F\\xcb\\xf9S\\x98\\x9bT\\xe8R\\x89_\\xe0Z\\xf40=\\x86&4\\'\\'\\xad\\x1aSPh\\xc5&\\x13\\x10\\xa8\\xc6\\xc9\\xa1T\\xe81\\xd2x\\x1bC@y)dB\\xb7\\x81\\xaaAA\\x08-\\xfe5\\xb8\\xa2\\xfa.9\\x1c\\xa6\\xdf\\'G\\x15<\\xa0\\xc9#\\'\\x1a\\x89\\x8chht1GF#&*\\xdb\\xf9&R351\\xf3U\\x11D%\\xd2\\xbcD\\x92:>\\x82\\x8b\\xe6\\xf4h*3f\\xa8AH\\x812\\xd4\\x92I\\x1a\\xee<\\xa2\\xc2\\\\\\xc5`\\xca\\xccs#\\xa3$dbv1\\xabB\\x1fJ\\xf0\\xee\\x8e\\x8f5p\\x1c\\x18E\\xb1u\\x8ab1\\x9aH\\xb61\\'U\\x03\\x03\\xdc\\xd0[\\x86^\\x8e\\xa2\\x06!\\xd9Q\\xc3\\xaf\\xad\\x10\\xba\\x15\\x17\\x87tuc$L\\x94*\\x91\\xe5ED1)\\xcb\\xc8W\\xa2\\nh\\xc7#C\\x18\\xd0\\xc3.GAx\\xddD\\x85E\\xd4\\xbc3\\xab\\x18\\xc7D\\xca.\\x94\\x1a\\x15Z\\x18b\\xcc\\x0b\\x91 \\xa9\\xb0\\xc3\\x06b\\x89P\\xc6E\\x1d\\xd9Oc\\x01\\xc8_ET**/\\x0c\\xfa\\x18\\xc61\\rt@\\x8ca\\x86\\xa1V\\x0e\\xf4haQ\\x89\\xdc\\\\c\\x92B\\x06\\x1a\\x18\\xd0\\xf8\\xa1\\xf2]\\te\\x90\\xa7p%5!\\xd1Ux\\x87\\xd0\\xc61\\x8d\\x16\\xc3\\xf8\\n\\xa2\\xa2 a\\x91BB\\x10\\xe8\\xc7C\\x18\\xc8\\x18\\xc63GLj\\x88\\x135\\xaa\\xe8^5\\x8e\\xa6\\x84Y\\x95\\xfa\\x1a\\xa2\\xa3C\\x10!\"\\x06\\x861\\x06\\x8eC\\x1e\\xe1\\xa1\\x90^\\x7fp!)(K\\x08\\x99\\x0e\\xee\\x86\\x90|\\x11]+\\xc6\\xb1\\x8cc\\xc9g\\xee\\n\\x84!t3\\x80\\x84A\\x03\\xa2Ca\\x86\\x10c\\n^{\\xd8\\xc5\\x9a\\x1b\\x95\"\\x90\\xfd9\\t\\rn\\x84/\\x0c\\xea\\xfaX\\xc6<\\x90\\xc2u\\xd1\\x89P\\xac!t@\\x96\\xe4\\n\\x87\\x1417#a\\x18\\xc3\\rA\\x90\\x8e?`m\\xb0\\x95\\x19\\'-d\\x16\\xb1x\\xc7\\xd0\\xc6\\xa3/\\x88\\xae\\x87W\\x82B\\x11\\x15>\\xb6>F0\\xe8\\xb8t\\nKh%\\xeby(C\\xa3\\xf4/\\x16\\xcb\\xba\\x07\\xb4\\x19\\r\\tI\\xf74\\x98\\xa8\\xa8Dt*1\\x8ce\\x87\\xc0\\xe0e\\xce[\\x12\\xe9\\x95\\x16\\xd5\\x82\\x05F1>\\x85\\xe2X\\xc61\\x8e\\x99\\x19TR\\x15\\xbd\\xc5j*\\x15\\x19\\x1d\\x0cc\\xa5\\xa8\\xd1\\xec\\x14\\x0f\"\\x08t\\x91\\xd5\\x8e\\x8dU\\xe2\\x98\\xc61\\x8e\\x86\\x8afK\\xf2/04*\\x98\\xc8\"\\x8cc\\x1a tw\\xe0\\x1b\\x02\\x15\\x1d\"Uc\\xaat^)\\x8cc\\x18\\xc4&\\t\\x90\\xf2@f\\x03\\xde\\xd45\\x15*\\xaa1\\x8cA\\xaa21\\x80\\xcf\\xde\\xe2D\\x84\\x87\\xd2:1\\x8chb\\x17\\x8ac\\xe8dP\\xbb\\xca\\xa1$\\x8eb\\x84\\x88,\\x10\\x86:\\xb1\\x8c\\x89;R\\x066p\\x10\\xa8\\x84\\x13\\xa1\\x8cc\\xadx\\x96::\\xb1\\x8dR\\xbc\\xc8RXC\\x8c\\x90A\\x04S\"\\x1a \\x8e\\x86\\xa9\\xa3\\xf6t\\x18\\x82\\xf51\\x8e\\x88^)\\xd1\\xf41\\x8e\\x8b(j\\x04QZ\\x18\\xb9\\x18\\xe9\\x04\\x10E\\x0c2\\xf4\\xf0\\xcd\\x10\\x86 \\x82\\xaa\\x1d\\x1fJ\\xf1Lc\\xe9c\\x1a\\xa1\\x05\\x98\\x95q\\x8c\\x9a\\xaa\\xa0d\\x0fJWb\\x1d\\xa8\\x82u\\xbf\\x1e\\xc7\\xd6\\xc65JK<\\xd0r%\\xca\\xc0\\xd5 \\x81t@\\x83\\xbc\\xa8\\x90\\x90\\xee \\x9f\\xf81Ux\\xc6>\\x85F1\\xa1\\x055\\x94*!\\xbc\\x03DUU\\x9f\\xa0\\x18\\x82C Au\\xba!x\\xf7\\xd6\\xc65A\\xaaC\\x14\\x972B\\x1a\\x1a\\xa2\\xa6`=\\x84\\x10b\\x10\\'[\\xa2\\x10\\xbf\\x02\\xfa\\x98\\xc6\\xa8)\\x81\\x90\\xd1hux\\x15\\x10\\x81+A\\x08$;\\xba\\x11G\\xd2\\xc7D/\\xc41\\x8cj\\xb5\\xcc\\x06C%\\x03\\xe8\\xbf<\\x99\\xa4\\x91\\xa4\\xa8\\xae\\xb61\\x88B\\xfcS\\x18\\x95\\x8c\\xa1\\x05\\xf3QS\\xca\\xcc\\xba\\t\\x11\\x1a\\xa2\\xebc\\x1d\\x17\\xe3X\\xd0\\xb4\\xb5&\\x1a%C\\x0cDT\\xa4\\xa8H\\x12\\x1f[\\x1fB\\xfc[\\xa3\\x1a\\xa0\\xee\\x198\\x89\\x03\\xcc\\xb04\\x12\\x841HK\\xff\\x00\\x16>\\x85\\xe1W\\x88cCC\\xa0j(%\\x93\\xda\\x90\\xc5B\\xa3\\xfc\\n\\xf1,\\x82\\x07@\\xc3\\x89Qt\\xa1x\\xf5\\xe2\\x99\\x04\\x0c0\\xa8/\\xc3\\x97\\x8bc \\x81\\x0b\\xa9\\x0b\\xc7\\xbf\\x8dt\\x8a\\x10\\xa8\\xc6/\\x04\\xea\\xbf\\xf4\\x7f\\x1ec\\x1d]\\x15\\x17\\x80~\\x06_\\x81U^\\t\\xd5\\x7f\\xe9\\xff\\xda\\x00\\x0c\\x03\\x01\\x00\\x02\\x00\\x03\\x00\\x00\\x00\\x10\\xf3\\xcf<\\xf3\\xcf<\\xf3\\xcf<\\xf3\\xcf<\\xf3\\xcf<\\xf3\\xcf<\\xf3\\xcf<\\xf3\\xcf<\\xf3\\xcf<\\xf3\\xcf<\\xf3\\xcf<\\xf3\\xcf<\\xf3\\xc0k{J\\x1fa\\xdf<\\xf3\\xcf<\\xf3\\xcf<\\xf3\\xcf<\\xf3\\xcf<\\xf3\\xcf<\\xf3\\xcf<\\xf7\\x8f\\'\\xda@\\x80S\\xc45\\xf3\\xcf<\\xf3\\xcf<\\xf3\\xcf<\\xf3\\xcf<\\xf3\\xcf<\\xf3\\xc3[\\xf7_\\xbf\\xf7\\x9b\\\\\\xf0=\\xcf\\xfb\\xcf<\\xf3\\xcf<\\xf3\\xcf<\\xf3\\xcf<\\xf3\\xcf<\\xf3fz]\\xff\\x00?\\xf6\\xff\\x00{\\x9a\\x9e\\x96\\xbb\\x8f<\\xf3\\xcf<\\xf3\\xcf<\\xf3\\xcf<\\xf3\\xcf<\\x9d[A\\x93\\xde\\xaf\\xc0\\x7f\\x1d\\xdf\\x7f\\x9d\\xfc\\x96\\xfc\\xf3\\xcf<\\xf3\\xcf<\\xf3\\xcf<\\xf3\\xcf!z\\x8d-\\xf9\\xe7\\xd0&\\xccj?B\\xe7zZ|\\xf3\\xcf<\\xf3\\xcf<\\xf3\\xcf<\\xf3\\xcf\\x17\\xb3\\x9fZ\\xab\\xdf?\\x7f\\xd6M\\xa3X4\\xfa\\xe9\\xd8\\xf3\\xcf<\\xf3\\xcf<\\xf3\\xcf<\\xf3\\xce\\xfa\\xbf\\xeb\\xdb7\\xcc\\xc9\\xdb\\xe3y\\xf0\\x1d<\\xf1\\xfb\\xe3\\xf3\\xcf<\\xf3\\xcf<\\xf3\\xcf<\\xf3\\xc763I\\xbd\\xa7\\xc5\\xa8[]v\\xf6a~\\xf0\\xc0\\xf6\\xd3\\xcf<\\xf3\\xcf<\\xf3\\xcf<\\xf3\\xc7\\xa8\\xba\\xfb\\xfcv\\xef.\\xda\\x15\\xfd\\x8by/z\\xd70s\\xcf<\\xf3\\xcf<\\xf3\\xcf<\\xf3\\xcb\\xb3\\xf1\\x16\\x00\\x90\\x93\\xad\\xe7\\xd3~\\xc3\\xac\\xb6\\xad,\\xd8W\\xcf<\\xf3\\xcf<\\xf3\\xcf<\\xf2S}\\xb3\\x95\\xfa\\xdf\\xf4\\xb6\\xdb\\xa2^\\xbe\\x9fw\\xe2\\xfb_\\xff\\x00\\xcf<\\xf3\\xcf<\\xf3\\xcf<\\xf3~\\xbb\\xa7\\xfa\\x1d\\xef\\x0f\\xcc\\xd7\\x95-\\xab\\xf6}\\xfb\\xacW\\x83\\xcf<\\xf3\\xcf<\\xf3\\xcf<\\xf1\\xef\\xc9+\\x8b$\\xfcO]\\xdbm\\x7fg\\x81V\\xf3i\\xf5\\x1b\\xcf<\\xf3\\xcf<\\xf3\\xcf<\\xf3\\xd6\\xb4\\xff\\x00mD?\\x97|\\xbb\\xad\\\\\\xb2\\xe9~\\xb7\\xf9~\\xeb\\xcf<\\xf3\\xcf<\\xf3\\xcf<\\xf1\\x17\\x8c\\xf3\\xee\\xef\\x93W\\xfd\\x15\\rz@\\x8dQ\\xb7\\x9e\\xfa\\xbb\\xcf<\\xf3\\xcf<\\xf3\\xcf<\\xf3n|d\\x11]c\\xddo\\xff\\x00\\\\\\xe4\\xf5\\xdaw\\xbd\\xe03G\\xcf<\\xf3\\xcf<\\xf3\\xcf<\\xfd\\x8f\\xbe5*6\\xdbo;O_\\xbd\\x1f\\xe2\\xa2\\xd2\\xef\\xab\\xc6\\x1f<\\xf3\\xcf<\\xf3\\xcf<\\xf2\\x1d\\xeb\\xbd\\x839YMe\\xa9\\xdf^\\xfe[T\\xc9\\xac\\xba\\xa4\\xaf<\\xf3\\xcf<\\xf3\\xcf<\\xf1\\xefOvnp\\x13\\xdbAu\\xd4~9\\xfd\\xfdU\\xbf\\xb9\\x87\\xcf<\\xf3\\xcf<\\xf3\\xcf<\\xf1L\\x89\\xf6\\xd3\\xf1\\xf4\\xdc\\xd0\\xf3\\x07\\xf1\\xfe\\x95\\xff\\x00\\xc3\\xc3G\\x9b\\xcf<\\xf3\\xcf<\\xf3\\xcf<\\xf1|{\\xfe\\xda\\xf8\\xfc\\xa6y\\xff\\x00\\x7f\\xfa5\\xde,\\xf8\\xe6\\xf0\\xcf\\xcf<\\xf3\\xcf<\\xf3\\xcf<\\xf3\\x1f\\x86\\xc3M\\xee\\xf7T\\\\\\xde\\xeaT\\xfaxC\\xeb\\xf62\\x7f\\xcf<\\xf3\\xcf<\\xf3\\xcf<\\xf0\\xa2\\x05B\\xc0\\xd7\\xdfN9\\xf3\\xfew\\x92\\xa3\\x82\\xde\\x9al+\\xcf<\\xf3\\xcf<\\xf3\\xcf<\\xf3\\xcct\\xeay\\xaf\\xe0\\xbc\\xb7}\\xcb\\x15\\xd0\\x0f$\\xdb\\x1b:\\x03\\xcf<\\xf3\\xcf<\\xf3\\xcf<\\xf3\\xca>\\xdf\\xb4\\x8d\\xe5Y\\xd7\\xf5}\\xed\\xf7\\xcb\\x9c\\xaf\\xd9\\x19\\xf3\\xcf<\\xf3\\xcf<\\xf3\\xcf<\\xf3\\xcf+gj\\xe8\\xf1\\xf3\\xeb\\x8b\\x97\\xaf:\\xc7q\\xfe\\x1f|\\xf3\\xcf<\\xf3\\xcf<\\xf3\\xcf<\\xf3\\xcf\\'\\xd0o\\xb5\\xf3\\xd3\\xbd\\xba\\xb4S\\xfe\\xc74m\\xca<\\xf3\\xcf<\\xf3\\xce<\\xf3\\xcf<\\xf3\\xcf\\x0e\\xd8\\xd8\\xdf\\xa3K\\x15s\\x89\\xa4\\xa9\\xdf\\xfa/\\xf7|\\xf3\\xcf<\\xf3\\xcb<\\xf3\\xcf<\\xf3\\xcf,\\xc3\\xcf\\xe3\\xbe7\\x0b\\x9fM\\xf8\\xfb\\x9d\\xbd\\xe7g<\\xf3\\xcf<\\xf3\\xcf<\\xf3\\xcf<\\xf3\\xcf<\\x1f\\xd2\\xe9\\xcf\\x988\\xab\\xc4\\xd2\\xf9n\\xcf\\xbe\\x1f<\\xf3\\xcf<\\xf3\\xcf<\\xf3\\xcf<\\xf3\\xcf<9\\xc7]\\xf0/+?\\xbf\\xee\\xed\\x8e\\xf9\\xe9\\xcf<\\xf3\\xcf<\\xf3\\xcf<\\xf3\\xcf<\\xf3\\xcf/\\xfeU\\x9e\\xff\\x00\\x8f|\\xff\\x00t4:\\xcax\\xf7\\xcf<\\xf3\\xcf<\\xf3\\xcf<\\xf3\\xcf<\\xf3\\xcf/\\xff\\x00\\xdb1\\xf2\\xe3}\\xf3\\x7f\\xa9\\xc7\\xdd\\x82\\xf3O<\\xf3\\xcf<\\xf3\\xcf<\\xf3\\xcf<\\xf3\\xca\\x1b\\xad\\xeb:t\\xafw\\x1d\\xde=A\\xa7\\xbd\\x9d/<\\xf3\\xcf<\\xf3\\xcf<\\xf3\\xcf<\\xf3\\x89~\\x07\\x87te\\xdf\\xb9;\\xee\\xe1\\xc6\\xbf\\x8f\\x8c\\x80\\x9c\\xd3\\xcf<\\xf3\\xcf<\\xf3\\xcf8\\xb1\\xecp\\xc0\\xff\\x00\\x88\\xe7[?\\x7f\\xebD\\xa5\\xdd\\x1c\\xe6\\xa2\\xb4\\xa3\\xcf<\\xf3\\xcf<\\xf3\\xcf(\\xf3mu\\x1fW\\x0f{\\xdfS^\\x8d\\x1c\\xda\\xf7\\x87}\\xae\\xbc\\x03\\xcf<\\xf3\\xcf<\\xf3\\xcf(\\xd3\\xab\\xad\\xf7W\\xa1{\\xe7\\xaa\\xe2\\xd7?r\\xfd<o\\xa7\\xb8S\\xcf<\\xf3\\xca<\\xf3\\xcf\\x00\\xf3\\xee\\xbb=\\x94\\xfa\\xdfNts\\xea\\xcaz\\xc5\\x94%\\xef(S\\xcf<\\xf3\\xcb\\x0c\\xf3\\xcf\\x08\\xd3\\xcc\\xbf\\xf4\\xe5(\\xff\\x00\\xd9Q\\xf7\\x9b\\xff\\x00\\xb3k\\xd7\\xe6\\x7f,S\\xcf<\\xf3\\xcf<\\xf3\\xcf,R\\xe7~\\xb5\\xf2\\x1d\\xbf\\xefU\\xa2\\xdd\\t\\xd7\\xe5\\xfd\\xd6\\xd5\\xbcS\\xcf<\\xf3\\xcf<\\xf3\\xcf<#\\xe6\\xec\\xaf\\xd7\\xd3\\xeb\\x9d\\xf5\\xbd\\x07\\xado\\xe4[\\xdf\\xd7|S\\xcf<\\xf3\\xcf<\\xf3\\xcf<\\xa2\\xcf\\x9b \\xa5\\xf0\\xb7\\x8e~\\xc1\\xfa\\xcb\\xff\\x00\\xf7\\xfc\\xb3\\xbevs\\xcf<\\xf3\\xcf<\\xf3\\xcf<\\xf1E\\xbe\\xfd\\x9e\\x8c\\xdbl4\\xf7\\xe9}\\xe7\\x97<\\xf1j\\x8c\\xf3\\xcf<\\xf3\\xcf<\\xf3\\xcf<\\xf1\\xc64\\x1b\\xfdz\\xf1\\x9ffn[S\\xe8\\xef<\\xe3\\xa6\\x1c\\xf3\\xcf<\\xf3\\xcf<\\xf3\\xcf<\\xf2\\xcc,2\\xc4\\xf9}\\xfc\\xfe\\x96\\x8ds\\xadO<\\xea\\xc5<\\xf3\\xcf<\\xf3\\xcf<\\xf3\\xcf<\\xf3\\xcf\\x08\\xc3O/\\xbb\\xcd\\xe5{\\x9dn\\xab\\xcc\\x1e\\xa9\\x8f<\\xf3\\xcf<\\xf3\\xcf<\\xf3\\xcf<\\xf3\\xcf<\\xb0\\x0c<\\xaf\\xcb\\xb8\\x9aZ\\xfe\\xa8\\x87\\x92\\xfbO<\\xf3\\xcf<\\xf3\\xcf<s\\xcf<\\xf3\\xcf<\\xf3\\xc3\\x10\\xd3\\xb7kn\\xec>\\xbb\\xc7\\x0c\\x93\\xcf<\\xf3\\xcf<\\xf3\\xcf<\\xe3\\xcf<\\xf3\\xcf<\\xf3\\xcf,\"\\x07\\x9b\\xfem\\xb6S\\xc9<\\xf3\\xcf<\\xe0\\x8f<\\xf3\\xcf<\\xf3O<\\xf3\\xcf<\\xf3\\xcf<\\xf2\\xc6\\x1c\\xda\\xad\\xae\\xe1\\xcf<\\xf3\\xcf<r\\x8f<\\xf3\\xcf<\\xf2\\x0f<\\xf3\\xcf<\\x81\\xcf<\\xf3\\xcf\\x00\\xfa(\\x9cs\\xcf<\\xf3\\xcf<\\x82\\x0f<\\xf3\\xcf<\\xff\\xc4\\x00%\\x11\\x01\\x01\\x01\\x00\\x03\\x00\\x02\\x03\\x01\\x00\\x02\\x03\\x01\\x00\\x00\\x00\\x01\\x00\\x11\\x10!1@A 0QaPqp\\x81\\xa1\\xc1\\xff\\xda\\x00\\x08\\x01\\x03\\x01\\x01?\\x10\\xff\\x00\\x92\\xc6\\x1b\\xf5j\\xd5\\xabr\\xa5\\x1e\\xfc\\xb16PYg\\x1a\\xf1\\x84\\x85\\xfc\\xa4z?\\x1d\\x1e\\xe1<\\xe08;\\x9bm\\xb5\\x85ud~\\xe7\\xf7\\xf1~\\xf7\\x80\\xba\\x86\\xfa\\xe2\\xdd\\xd9w\\x13H[6M\\xe9\\x93\\xe1\\xce\\xd9\\xc6\\xc4ODx<o\\x1dZ\\x91wd<m\\x99\\xf0Cc\\xf8K\\x1coa\\xda6\\xe6y,\\x9c\\xe5\\xbc\\x8f\\xd3\\x7f\\x8d\\xd1\\xf0\\x9f\\xf5\\xc1\\xc6\\x12\\xd7,\\xeb\\xa9ol$\\xe3\\xcbO\\xbb?\\x9c\\x8f\\xf6\\xeb#\\x8f\\xef=\\x82\\xf6;\\x8f\\xf3\\x8f#\\xdb:\\x9e\\x1e\\rK\"\\xcd\\xb2;\\xea\\x1f\\xa8u\\xfb\\xc7r\\xfdAm\\x7f8\\x04\\xb3\\xd3-,\\xb2\\xfbg\\xea\\xd4\\x89\\xe9b\\x98\\xb2,\\xd9!/_\\xbf\\xac\\xc8\\xb4\\x80\\tfx\\xc65\\xec0\\xc7\\x80\\xbe\\xcf\\x97\\xb2q\\xf3\\x93\\xb8\\xcf\\xc1\\xef\\x1c\\x99\\x99,\\xfc6\\x1c\\xc7\\xb6\\xf8\\xf5i\\xfe3\\xef|\\x1f\\xe5\\xefq\\x86?\\xb4k\\x92b\\rx2d\\x92\\xcb?\\x1c\\x82\\tu\\x8f\\x91\\xa4\\xb3\\xa7\\x83\\x83\\xfbDZ\\xc6\\x18p\\xf1\\x92I\\xc6Y\\x04\\x11B\\xcbr1\\xa4\\xe4\\xb8{\\xfd\\xbe\\xe3\\x8f\\x9e\\x19\\xb6^2\\xcb \\xe0\\xe5 \\xc8=\\x8eG}C\\xf7\\x0f\\xc3g\\x7f\\x03\\x8d\\xe3b?\\x03\\xd4>\\x02\\xfb\\x9c\\x07\\x9cl\\xb7\\xb2\\xec\\xfcB(g\\x1b\\xc7\\xb7l\\xbe\\xcf\\xdc(\\xec\\xbb\\xdb\\xb42\\xcb\\x95\\x8c\\xdb\\xc9\\xbd\\xd8\\xf0\\x16^B\\x9e\\x11\\xba\\xedz\\x8e\\x96\\xa3x\\xeb\\xf6z\\xbc\\xa9\\x97\\x8b\\xa4\\x1e\\xa5_\\'mK\\xfe\\x97\\xf2%\\xb3r\\x0f\\xae/R?V\\xe1ae\\xd4:*\\xdbt\\xdf\\xd9\\xd9\\xfd~\\xcf\\xb9P[\\xcc]\\x89\\xba\\t\\xfe\\x0e\\x01\\x88d\\x92<\\x19+\\xc8\\xa3^\\x90xo8\\xc8\\xc3},A\\xb0v\\x1fK*/\\xbf\\xd8c\\xfc\\x7f\\xfb\\xc6w\\x0c\\x8a \\xcfe}B_B\\xdc\\xba\\xbb\\xb8\\x96u\\xed\\xb1\\xd4\\x9b\\'\\xdd\\xdd\\xbc z\\x8b\\x18\\xceJ\\xff\\x00\\x92\\x9f\\xfc\\x9f\\xd9\\xeftn\\xe5\\xf5k?\\xe4\\x0f\\xdcu\\xc6O\\x13\\x9ba\\'V\\x07\\xb2Hlv\\x9fc^\\xe4\\xfe\\xdf\\xd6\\xeeo\\x0c\\x84\\xa2\\x0f\\xf3\\x87yfc\\xa7\\x8f!\\xb1-\\xecl\\xed\\x1e\\xec\\xd2}w\\xf7w\\x94\\xfb\\x88\\xf0\\xdeZ\\xce\\x1b\\xbb\\x04\\x9c7\\x83\\x1e\\x02\\x9c\\xdf\\xf2}\\x1e\\xfe\\xd7\\x85\\x88\\xbc\\x97q8\\xd9e\\xf67vK,\\xe5\\xdc\\x8e\\xbcT\\x8eg\\xa2<R\\xf1\\xfc\\xfd\\xc3\\x97\\xdc\\xf2=%\\xe2\\xc7\\\\\\x9f){\\x9boV\\xf5,\\x879\\x1cb8\\xae\\xac\\xd0\\x7f\\xb1\\xe8\\xda\\xcb\\xf7\\xab\\xaaY\\xe3>\\xed\\xde\\x14\\xcb\\xbf/.\\xd8ovq\\x19\\xc9\\xb1zo\\x80\\xbb\\xe0\\xf0w.\\xa8\\x86w\\x1c\\\\\\xce\\x0b\\x1b2\\xfb\\x88\\xbc|!c>}\\xdd\\x9e\\x1c\\x10\\xa1\\x13\\x84\\xb8\\xf3\\x83\\x87-\\xf8\\xb0\\x98l\\x12\\x02\\x14:\\x9b\\xa8\\xdf%\\x16pL\\xba\\x9e\\xbb\\xf0\\xbae\\xbc\\xe6\\xdfQt/\\xb0\\x7f\\x90^\\xb2\\x0e\\xa1\\r:\"]\\x17L\\x99\\xc1>Y\\x19\\xf0\\xf0g\\x16Y/\\xed\\xa7\\xd4\\x87\\xb2?\\x87\\x11\\x07UC\\xea\\xc3\\xc9\\xee\\xce\\x1e|JE\\x0c?\\x0e^\\xc6|f\\x7f\\xea\\x1c\\xf0\\x96\\x9d\\xccKg\\x0c\\xfd\\x0f\\x86\\x1btGH\\xc7\\xe5\\xbc\\x17\\xf0e\\x85\\x93\\xdf\\x865\\x86\\x11\\xeb\\x8es\\xb2\\xda\\xc3\\xc6\\xf2\\xb9o\\xd4\\xba\\xf8~\\xad\\x0b\\xcd\\x92I\\xces\\x91d\\xb7\\xdf\\x1c\\xbe\\x11{\\x9bF<d\\x92g\\x1bm\\xd7\\x1b\\x02\\xf9\\x19\\xdb2\\xc2\\xd7\\xe1\\xbc\\xe1\\x1c\\x92Y\\x16\\xa1_\\xf6\\xb1\\xfd\\x80\\x82x\\x11\\xd4\\xbf\\x14\\x84I\\x10\\xd9\\xc1\\xf8g\\x005\\xb7\\x19\\xf8\\x9dC\\xe3\\xf8\\x8bm\\xb6\\xdf\\xc1\\xb7~4Y\\xbf\\xdf\\xc3m\\x96\\x18\\x86\\xd9\\xb0\\xfd\\xcf\\xc6g\\x1a\\x1f\\xd5\\xb1\\xf8\\x9c\\xec\\n\\xa7o\\xa7\\x07V\\xcf\\xc18gzXF\\'\\xf09.\\xbf\\xe1/\\x0b\\xf1\\xf7\\xff\\x00\\tO#\\x16\\xdbt_o\\xca\\xcd\\x9bH\\xc6\\x91Fa\\xb7\\x92@\\xfa\\xe3\\xc9~8\\xcf\\xf6E\\xa4gH\\xb6\\xdc\\xe26,z\\xf0%\\xf9#\\x7f\\xb6\\xed\\x8cil\\x90C\\xa3;\\xd7\\xe6\\x8f\\n\\xa0\\xf6-\\x9c\\xb6U\\xbfS\\xf3\\x86KV<}I\\x7f\\xe07\\x8dLm\\x1d\\xff\\x00\\x82\\xdb\\xcf%\\xff\\x00\\xc0\\x1f\\xff\\xc4\\x00#\\x11\\x01\\x01\\x01\\x00\\x02\\x01\\x05\\x01\\x01\\x01\\x01\\x01\\x00\\x00\\x00\\x00\\x01\\x00\\x11\\x10!1 0@AQaqP`\\x91\\xff\\xda\\x00\\x08\\x01\\x02\\x01\\x01?\\x10\\xff\\x00\\xa5\\x8f\\xd9\\x0f\\xb8-\\x8e?\\xe6\\x04\\x07\\xc7\\xcbG\\xd4\\xeec\\x82\\xc5\\x99w\\xc6\\x1ea\\x1e\\xcf\\x8e\\x07D\\xab\\xe6\\xc9\\x96\\xf0\\xc5\\x8d\\x96\\x16,x\\x17\\xb9\\x0f\\xc5#\\xd1\\x18\\x96\\xeeI\\x87=\\xba\\xbbX\\xc8[\\x96}\\x91|2\\x8b,\\t\\x9b\\xcb7Xx\\xcesf\\xe6]\\xf9<\\xc47\\xe0\\xac\\xbf\\xd89\\xce[=D\\x11e\\xdd\\xbe\\x84\\xfc\\x93;,5\\xf0|\\xbb\\x07\\xdb\\xc39\\xdd{\\xb7\\xb88\\xd8y\\xcf\\xcb\\x7fy\\xc9;\\x96\\x9e\\xfa\\xea\\xd3\\xea\\x0c\\x99\\xe0[\\xea\\x18\\xe0\\xb6\\x18xm\\xcbg\\xae\\xe1\\xa5\\xd5\\xf7\\xdc~\\xde_\\xd6\\xde\\x08\\xec\\x93\\x18a\\xfd[\\xfc\\xb1\\t\\xe0\\xdd\\x91vm\\xcba\\x93\\xc3\\xef\\xff\\x00\\xf1\\xf0\\xf3a;\\x04\\x11\\xc0\\xb3\\xf8\\x92jX\\x9c\\xf1\\x1f\\xe8\\xbf\\xde\\x193\\x84z\\xf7\\xd75\\xfd\\x8c\\xb0\\xb5\\x88\\x88\\xb7\\xd2\\x96O\\xd7\\x05\\xd5\\xfarM\\xf3urr\\xd3\\xddXl\\xb7x8\\x16!\\x87\\xd8Yg\\xa7K\\xea\\x84{8\\x1b/\\xa8\\xf7VL\\tO^\\x0e6\\x1bx\\xdbm\\x97\\x8a\\xcf\\x1d\\x98\\xc6\\xdaF\\xef\\xbc\\xf0\\x0b\\xeb\\x8f\\x9f\\x04p\\x1c\\r\\xb6\\xcb\\xc3\\xe8\\xdbR\\xef\\x0f\\xb2{\\xee\\xf9\\x9c\\xfc\\xf8#\\x83\\x8c\\xe3,\\xb2g\\x86g\\x8c\\xaf0\\xce\\xbd\\xd3\\xdc\\xba\\xd6s\\xc8D<<\\x04K7xx:\\x96\\x90\\xfa\\xbe\\xfd\\xdc$\\xf8\\xcb\\xa7S\\x04\\x183s!\\xe0\\xb7\\x8f2bd\\x91\\xee\\xc7\\xbb\\xac\\x1aZ\\xde\\xfd\\xc6\\xf2\\xa3\\xcc\\xb6d\\x07\\x98KK?\\xb7\\xf5\\x9d\\xdb\\x0f\\\\n\\xdbC\\xd8$\\xa2\\xbcYF\\xc7N\\\\!\\x80\\xf74\\xe4!.\\xea\\xf2\\x89^\\xe0X/\\xc1\\x98\\xe9\\x93!\\x98\\x9e\\x9a\\xc2u?\\x86o2\\xdd\\xe9c7v\\xcf\\x19\\x1a,1\\xee\\x18\\xc5\\xdb\\xc1.\\xe48\\x01\\x82\\xcc\\xce\\x02\\x99\\x88|\\xc1\\xd8\\x19\\x90\\xfdNX\\xf0\\x9f\\xb84\\x9a=]/\\xf8\\xf7|\\x11\\xdb\\xc3\\xee\\x08\\xfe\\xc3\\xf9+l\\xd9\\x19,\\xe0\\xef\\x02\\xd8\\x1b\\xac\\xb0\\xf0\\xe3\\xbe\\xf4\\xf2\\x8f<<\\xf9g7\\xc7\\x07\\x18\\xf0\\xcc\\x9d\\xe7.\\xa7\\xde\\x1f_t\\xef\\x08z\\xb7y\\xc4]I\\x869f#\\xea]q\\x05\\xcftj\\xbaC\\xd4\\xc4\\xed\\x96\\xdb\\xd1\\x14\\xc4x\\xe2q\\x0c\\xb30\\xeeP|\\xa1\\xe5\\xef6\\x91\\xd2N\\x06\\xd9\\x8e\\x8b#\\x8f\\x0b\\xee[\\xb7p\\xcc\\xf3\\xde\\xf3\\xe4Y3\\xdf=\\xc7\\x92;g\\xbe\\x0bg/v]X\\xeag\\x91\\x1co\\x1c\\xf8\\x03\\xafEc\\xc4C-\\xbcv\\xd8/\\t\\x9e^\\x1f\\x04u\\x0e[bm\\xb3\\xfb!\\xf6\\xcc\\x1c\\r\\xb3\\xcc|\\x13\\t\\xe7 \\xb2.[\\x133%\\xb7\\x93\\x81\\xc3>\\x10\\xefc<\\x11\\xd6\\xdb\\xdd\\xd3\\x93S\\xd3l\\xfd->\\x1bB3l7]\\xbb\\xb6\\xdd\\xa9_\\xbc\\xab\\xae\\xdb~5\\xb2\\xcb_Dr\\xfd`X\\xfd\\x91\\xfb\"[/\\x1b\\x10\\xe3~\\x1a\\xe5\\xd9\\xbc\\xe5\\xe7m\\xb7\\xd6CY\\xf4\\xcf\\x86\\xa6}\\xcf\\xa7 \\x99\\xf4o\\x1f\\x84;\\xf8~\\x1c>\\xed\\xf4\\x10\\xdb3<\\r\\xbf\\x84z\\x8f\\x7f\\to\\x18\\x91\\xe7\\xc6\\xf1\\xbe\\x96\\xcb=\\x0e?\\x0c\\xf5t\\xfa\\x1bm\\xbc\\x85\\xdbx8\\x8d`\\xf8l1\\xe2\\xdb\\xc6\\xdb\\xc8\\xdbm\\xbc\\xf2d|L\\xbaL\\xf2\\xdb\\xc9\\xc6\\xc4X\\x9a\\xb4\\x8f\\x88\\xddT\\xf2\\xfa\\x0fF\\x8dx\\xe7~~\\x1e\\xcd\\xa43\\xea9|\\x88\\x03\\x0e<\\xd9\\x1f\\x0c\\x8e1\\xb1Rx}}\\x83\\xe5\\x82`\\xf8\\xf9\\x7fH\\xf3\\x92Y\\'\\x1d\\xbf\\xd1\\xf2[r<%x\\xcdH$\\xb3\\x92\\x8d}\\xf1\\xe6\\x0f\\x8e\\x91\\xd7P\\x1cgy%\\x90qKf\\xbcp\\xc1\\xf2R\\xfeD2u\\x8d\\x912a\\x19\\xc3\\xe6\\xa5\\xb1\\x8b\\x1e\\x9e&\\xd8D3\\xe7\\xa4?V\\xa6\\x9c\\x80\\xf9\\xe9\\'\\x18\\xbaC\\x0c\\xe0>~Iy\\xf3\\x07\\xfc<\\x8f\\xfc\\xe7\\xff\\xc4\\x00+\\x10\\x01\\x00\\x02\\x02\\x01\\x03\\x03\\x03\\x05\\x01\\x01\\x01\\x01\\x00\\x00\\x00\\x01\\x00\\x11!1AQaq\\x81\\x91\\xa1\\x10\\xb1\\xc1@P\\xd1\\xe1\\xf0 \\xf10p\\xff\\xda\\x00\\x08\\x01\\x01\\x00\\x01?\\x10\\xff\\x00\\xf2\\xedx\\xf2\\xcb\\x90\\'Q\\x951>\\x04R|\\x9a\\x89\\x92\\xaa{\\xff\\x00,\\xb3)\\xe1_\\x98g\\xf7\\xa6\\xa1e\\xadQ\\nE\\xdbpF\\xc2\\xa1\\x1b\\xfb\\xccS\\xed6\\xf7\\x81K\\x86\\x11\\x99\\x8b\\xa1\\xb2\\xb1\\xeb-\\xc1k\\x83$p\\xb9\\xb9,\\x0f\\xac\\xd7\\xdf\\x06\\xa7\\xcc\\xba\\xcf|\\xb1\\xdc\\xaf\\x9d\\xed\\x1b\\x102X?y\\x8d\\xd1\\xa8\\xff\\x00pzC\\x00\\xb5}\\xe3\\xc5g\\x85\\xfe\"\\xa8\\xbeb\\xe7SAm~\\xe8\\xe8\\x00\\xda\\xb2\\xe37sW\\x97R\\xe4\\x8bI\\xeb\\xf3\\xff\\x00\\x91\\xa5\\xdf\\xa9Q\\xa5Z1\\x8c\\xc2\\x968\\x968\\xb9\\xac\\xbd3\\xd2\\xf9\\xf4\\x84\\xdd\\xdb\\xdd\\xb9\\xc5\\x9bfA\\xfcG5\\xd6\\xe9\\xfb\\xd8\\xf1C\\x9c\\x8b\\xfe`\\x02\\xfb\\xd45\\xf6\\x87\\x97\\xba\\x87\\xde\\x13b\\xe0\\x17X\\xfbB\\x06\\x1bH]\\xf7\",\\xbf\\xe4\\xafZJ\\x01\\xd2\\x0c\\xbe\\xf9&\\xd7n\\xd9\\x1a\\xa5\\xd7\\xaf\\xc2b4\\xf3\\x7f\\xe27\\xd3\\x83\\xde] \\xa6+-\\x0c\\xdf\\xed\\xe8\\x0bZ\\x0eX\\x91\\xd5\\xa5>\\xf4\\x12\\xf7L\\xc7@\\xe7\\xcb\\x01E\\xe7h\\x07\\xe1\\n-\\x96\\x8d\\xbd\\x8c|\\xca\\x15U\\xb5\\x81]\\x88v\\xa9\\x80\\xc39h=\\xaf\\xac\\xcd\\xd1\\rW^\\x92\\xa1V\\x97k~\\xd9[\\xab|\\xd5\\xfb8\\x8d\\xaa\\xddQ\\x8e\\n\\xe8\\x16\\xbf\\x15\\x1f4|\\x88y\\x92\\xdd\\x85e\\xae.v_j\\x8e\\xa0_/\\xca0\\x05\\x88:l\\xc0\\r\\xe9\\xe5\\x7f\\xfb\\xe6P\\x96\\xe5S\\xddM\\xc4\\x08\\x87\\xbb2zK\\xe0>\\xad}\\xf7>\\x19:A\\x89\\x1c#\\x9e\\xc2Ks_w\\xd8\\x7fnkUr\\xbc$\\xb2\\x1b\\xb7\\x8b\\xbb\\x8f\\x12\\xc5\\xab\\xac\\x15z\\xbc\\xbe%\\n\\x0e\\xbd\\x01\\xeb\\xb8\\xe6\\x949\\xca\\xfc\\r|C4\\x17Bd{E@\\x1e,\\xbfx\\xdd\\xb9z\\xe0\\xeb\\x02g\\xc4\\xe1\\xef4\\np\\xcb\\x1b\\xe6\\xb9\\xd3\\x10\\x95YjR\\xff\\x00P\\xcdK\\xa1E_?\\xc46K\\xe9\\xb7\\xad\\xb5\\xf1\\x02\\xa1&\\x94\\x1a\\xf4\\xc4\\xdd\\x94\\xc3\\x97\\xa4+\\x03\\xc0\\xd3\\xe7L\\xae\\x8c\\xfa+\\x1a%n\\xcf\\xb6\\xcd\\x96\\xa3c\\x17\\xde#\\xa7S\\n\\xf4\\xb4*\\x9b\\xe1\\xc8|S*\\xe7\\xf0\\x18\\xf7\\x87H\\x17\\x9c(\\xfcB\\xb1\\x18\\xbb7\\xf0\\x93\\x03;\\xe7P~\\xa3\\xbb\\xeaq\\x1c@\\xf0\\xab\\xf9\\xe4\\x81\\x0ck\\x03c\\xfbR\\x02\\xad\\x06\\xd6Z\\x01d\\xf0\\xbf\\xbb\\xccF\\xc7=G\\xf8?\\xd9\\x8eH\\xdb\\x81\\x92\\xff\\x002\\xc2\\x97&[\\x9a\\xf1\\xc4/;\\x96\\xa1\\xfcA\";r{\\x10\\xa2\\xe0\\xd2\\xa9\\xf0\\x16\\xfd\\xa0U\\xe6\\xda\\xd8\\xfe\\xfdV=\\x0f\\x9d\\xa7\\xa0\\xcb\\x97\"g\\x83\\xec\\xcb\\xd0\\xe3\\r\\x1d\\xbde\\xe0q\\xe5(WW$t\\xa6\\xeb`\\xf9\\\\{@t\\t|\\xda\\xfb\\x9fh\\t\\x1d~\\x03^h\\x83\\x02a\\xb0W\\xb12a\\xebT\\x7f(~^\\xf7a\\xcf\\xc5\\xcb\\x92\\x85\\xd0}\\x8f\\xe6?\\x03\\xe7\\xf0*\\xfcF\\x00\\x19\\xc0\\x0f\\xe2\\xc6\\xa5\\x1f\\n|\\xf3P\\x9a\\xc6\\x10\\xa2x7\\xed\\x1a\\x8a]B\\xfe\\xd0\\xae\\x92\\xd5\\xe9\\xf5\\x8a\\xa65\\xa5\\xc8\\xfa\\xc7k\\xdd\\x83x\\x85\\n\\r\\xc0\\xd7\\xf5.\\xfd\\x95\\xfe4\\xc3\\x88\\xfcl\\xf3\\xfbC\\xc2\\x02\\xd5p\\x11q\\xd0\\xd5\\xaf\\xe0\\xfb\\xe0\\xd6\\xff\\x00\\xad\\x81\\xd8\\xe5\\xee\\xc0\\xa6\\x06\\xca\\xa4\\x83\\xc1\\xe7_\\x1d\\x08\\xd5\\x02\\xfb\\xc0\\xfeX\\x15\\\\\\xec,\\x1e\\x83~\\xec\\x03\\x85\\x95@}\\xd6P\\xec6\\xd7\\xa7X\\xfce\\xdd\\x00\\xf4j0\\xdf9\\xa0\\xfe\"\\tb\\xc2\\x0e\\xfdbt\"\\xd9\\x83\\xd3\\x9f\\x11\\xde\\xad\\x9b\\xa1\\xf1_\\x88\\xc1&\\xe0\\xb2|D.\\xad\\x16\\xfaF\\xd4+\\x84>\\xf2VDwo\\xdd\\\\\\xb6\\xa0:\\xc3\\xd7h6\\x19x.\\x03\\xca\\x7f\\x10\\x82k\\x9b\\xc3\\xf3\\x01F\\x8e_\\xc1\\x7f\\x98\\xe4\\xc1\\xc9\\xf6\\xaeOhE#s\\x84G\\xc7>\\xf2\\xe8\\x04\\x1d\\x84\\xf4\\x7f\\x0c\\x1b\\x05\\'[\\xfb\\xec\\x82\\x05M\\xc3S\\xe9\\xce8\\x98\\x86\\x90\\xc7\\xf9\\x85mp\\xe4e*\\xbdU\\x0c\\xbc%\\xaf\\xbc\\\\\\xb96\\xd8\\x90\\xbaX3\\xe5\\xfe\\xcc\\x80\\xabA\\xb5\\x95\\xe2\\x16p\\xf9\\xefQ\\x95\\'\\x9ar{\\xff\\x00\\x89\\\\<\\xe4\\xa6\\xba\\xaf\\x04\\xa3kya\\xe0\\x1d\\xf9`\\xd97\\xe2\\xd8\\xfe\\xe5\\x03%k\\x01\\xfe\\xbe \\x1a\\xff\\x00 \\xbf_\\xfc\\x94\\x85S\\xa9\\xf8\\x97\\x84=\\x8a\\xfe\\x08\\xc8`&-\\xa7lF\\xbb\\x1d\\x96\\x03\\xf1*\\x10:\\xe0\\xf9\\x84e\\x1f\\r/ig\\x17x\\x17\\xc6\\x0e<\\xf7\\x88t\\xbdP{K\\x1e\\xaa\\xa0\\xaf\\xbe3\\x11J}\\x1b\\x07\\xf6\\x94-\\xeb\\xf0\\xa7\\xeeT\\xa4Pa\\xa6|\\xd6\\xcf\\x88\\x84Se\\x82\\xfd\\x94\\xb8E\\xecv\\xa3\\xd7\\xab\\xd1\\x82:~\\xdd\\xdcm2\\xe9|sS\\xed\\xcf\\xb4T\\xe4F\\xd3\\xe1=V&\\x87\\x81V`\\x94h\\xbd\\x0b%\\x85\\xab\\x8d\\x9f\\xd4\\xadw\\xfd\\xb9\\xca\\xe1\\x1eF\\xbf\\xb4\\x888w\\xae\\xbf\\xc3\\x02T\\xa7\\xc3\\xaf\\xef\\x1e\\x18\\x13\\x94\\x1e\\xd32\\x8e\\x97\\x07\\x87\\xf9\\x98[8}\\xbe\\x8f\\xec\\xb8\\xd5\\xfc\\xe7\\xce\\xf5\\xe9\\x0c=\\xe7W*\\xf0_\\xcb\\xe2\\x00\\xc0\\x1a\\x86\\xfcw\\xb9Xw\\xf1\\xc3\\xcf\\xab(\\n\\xe8\\x8a_I\\x82\\xed\\xc2\\x8fj$\\xc3\\xc1m_c\\xa4\\xaaK\\x99\\xb0\\xbf\\xee\\xc7\\xb4\\xd4\\x0b\\xa1\\xcft\\xbf\\xbb\\x1c\\xd2=\\n=\\xf0{K\\xc4\\x12\\xf0\\xb4\\xf5\\xeb\\xd21U\\x97Cg\\xe4\\xa8\\xc32r\\x9a\\xf4\\xcc\\n\\x8cp\\xa8\\x87\\xbaF\\x96\\xb7\\xd4\\xfbc2\\x9b\\x81#\\xf1p\\xb7Lh\\x10\\xfb\\xd9i\\xc6\\xc7Oe\\x86\\x85\\xe1\\x18_LKb\\xd3\\xac?\\xcf\\xe6Qn.\\x1d\\x9e\\x9c\\xc3\\x81\\x05b\\x86~.Y\\xaeF\\xc7\\xf0T,\\xaay>\\xc4\\xff\\x00S\\x9c\\xfc\\x06\\x81\\xe9\\xfd\\xbe!,jx\\x13\\x18\\xc35Xyc\\xd3\\t\\xab\\x1c\\xca\\xcf\\xb4Ty\\x86\\x9d\\xbd\\x1f\\xc3\\x14\\x8d0\\xd0\\xdd\\xf2{K&%\\xeeVL\\xba\\x06n\\xfde\\xf8Y\\xc2\\xfa\\xf3\\xbc\\xa2\\x95\\x0f\\xba\\xeeu\\x80R\\x88J\\xfd\\x8a\\x9d\\xf5\\x13\\x93\\xd0\\xef(\\x13d6\\xf7\\x84\\x1b\\xd9\\xa1\\xa5\\xfc\\xbf\\x04\\x06\\x95w\\xae\\x07O\\xe7\\x18~\\x06~##ok\\xfe\\xb9\\xd0\\xd3\\xae#\\n.\\xc5\\x1f\\x01\\xfe\\xf1\\x1a\\xe2~\\xff\\x00\\xd4A\\x88\\xde.\\xeaa\\rI\\x89V5xW\\xecC\\xdf\\x9aZ5\\xf2M\\xd4\\xd7\\x95\\x12\\xa6R\\xf1maI\\xc5\\xb6\\x17\\xd6\\xdaV \\xac\\xee=\\xaa2\\xc2\\xcd\\xc3\\xf3\\x1a\\xfe!\\x02\\x87\\x8a\\'\\xe0\\x18\\xa3G\\x85o\\xa5\\xbe\\xd2\\xb2P\\x0c\\xd2\\xd7d+\\xed\\x00\\x1axE\\xed\\xaf\\x96cz\\xf6?\\x15O\\xdem\\x12\\xcd\\xeb\\xf1>\\x18Y\\x9bp\\xdd~\\xce\\x1fb3\\x08\\x8e\\x89\\xfbq1\\x12qt\\xb8\\xc9Bb\\xdc\\xa5\\xe5\\xa2^!\\xc0\\x0fM\\x8f^b\\x13\\xd0\\x8c\\xfa\\x9c\\xc5V\\x94\\x1c<\\x7f\\x87\\xd1\\x95[8\\xf4:\\x9d\\xbbA\\x85\\xf2\\x9am\\xee\\xeev\\x98\\xb3\\xac\\xda\\x0f\\x86\\r\\x19\\x1c\\x1d\\x1813F\\xfa\\x1e?b\\xd6\\x93\\\\\\xeb\\xac\\xdc\\xfa\\xc5\\xf9\\xa0y5\\xc8\\xc5\\x8e;\\x19\\x99Y}\\x85\\x0e\\x0e\\x84\\x0c\\x05\\xc0\\x85\\x9f\\x04KC]\\xae\\x0cj\\xbb\\xae\\xff\\x00\\xc1/T#\\xb3\\x97\\xcd~X\\x84\\x1at\\x0e\\x7f\\xaf\\xc4T \\n\\x12\\x02S\\x0f\\x03\\x7f\\x9b2\\x9f\\x97\\xa1\\xf0f\\x04WJ\\xb5w\\xeeFj\\xca\\xac>u\\x06\\xd2>\\x83>\\xf5\\xf8\\x8d\\xc9\\x16\\xcf\\xe4\\xf7\\xf1\\x06Io\"\\xf1K\\x0f\\xa5\\x9c\\xac{\\xea\\x8cTX\\xe3\\x9b\\xc2\\x11]+V\\xf7\\xed\\x89\\xc8\\'\\xa7\\xf0\\x99b\\xc6\\xf6\\x8dz\\xe4J\\x03\\xd1A~\\xb6%tK\\xc3\\x87\\xf6\\x97\\xf2GsN\\xc2\\xbf\\x18\\x04\\x0b\\xe9[\\xf6\\x96O^P\\x7f\\x9f\\x89\\x98Z\\xe5\\xba\\xf2F6\\xaf\\x0b!\\xe0\\xd9\\xe8\\xc0^\\xbao3\\x19w\\x90o\\xc9+*\\x97kQ\\xd0c\\x1a=\\xf8\\xfe`!\\x9a\\xeb\\xcay\\xea|\\x90\\xaaU\\x9b4\\xff\\x00\\xbf\\xdd\\xe8s?\\xd1\\xea{u=`\\x8c\\x08\\xe8/\\x19\\xe9\\x18\\xd2\\x8e\\x19md\\xf6\\x8e\\x8b\\x00\\xbf\\'_\\xd8+L\\x15v\\x8c\\xe7\\xb0]\\xafM\\xb2\\xf6\\xe7\\xaf\\xafc\\xb73\\nTS\\n\\xe9\\xe8@2\\x17R\\xfd\\x90%\\'i\\xcb\\x1eQ\\x9b\\'\\x1cS\\x16\\xc3\\xa4g\\xe0\\xe2)\\xda\\x86R\\xeb\\xba\\xbc\\xc0K\\xcat\\xb8?\\x96Y\\xad\\\\\\xb5\\xf6\\xe2`%\\xef=X\\xba\\xaakY/\\xae&\\x10c\\xa4\\xc1\\xf3\\xfcL\\x00\\'\\x80_\\x9db&K\\x1d\\x8d\\xfe\\xd4\\xca\\x19^\\xee\\x87\\xc5\\xbf\\x10\\xc8;\\x8a\\xa6\\xbd\\xd2\\xee\\x97\\x9bE\\xf4R\\x02\\x16m\\xd8\\x0f\\x81&\\xf2\\xd8\\xcc\\xf7\\x87\\xe1.\\xdb\\x86\\x81\\xf6\\xc0\\xfc\\xc4\\x14\\x17)>#\\x98\\xbd,\\x1cp\\n\\x1e\\x931)\\xab\\xc1}n\\x9fR\\x02\\x85oh\\x81\\xf0\\xe6\\xfcH\\xe8\\x05\\xec\\xa1\\xe8\\xff\\x002X\\xd9I\\xbc\\x87\\xf2|C\\x94\\xf3!Pc\\xe1\\xaa!kL\\xfb\\xc8\\x99\\x18\\xb0\\xe4\\xd97J\\xfb0\\x05\\x08us\\xe8\\xfe%\\x9c\\xbcw\\xc5\\xf1\\x00\\x9b\\xdb<\\xa1\\xefF\\xe0eH\\xe1\\r=\\xbe\\xe7\\xf9!K:N{\\xf7\\x92\\xb5-!\\x1c\\r_0\\xcd,K\\x1f\\xd7\\x92\\xe4,\\xba\\xae\\x91\\x05\\xd4\\x1cv?\\xdfh3U\\xf9\\x0e\\x87-\\xbe\\xf1 M\\x7f9\\x81\\x8e\\x11C\\xd3\\xc4p\\x04Q\\x05\\n<O\\xf5r\\xad>10\\n:\\xbb\\xc3\\xc5!\\xd4\\xf9\\x93^#\\x82\\xd8qL\\x07\\xfb\\xff\\x00e\\x90o\\x01U\\xe9\\x10\\x0c\\xfdrfS\\xa8\\xb0_\\x89\\xb5\\xae\\x06\\x87\\x9c}\\xe6C\\x06B\\xf8Z\\x98\\x03K\\xb1a\\xec\\xd8}\\xe3\\x1a\\xa1\\xda^\\xed\\xa1G\\xbb\\x8a\\x0f`B0\\xb5\\xc8]\\xf5\\xc2+&q\\xf9\\x1b\\xef2-:\\xb1\\xe3n[\\xc1\\t\\xb0\\xf9\\x05\\xfb\\xc7%\\x9d@<\\xe9\\xa5j\\xb9\\x94a\\x0c\\x8ek\\xc2\\xeb\\xd1\\x80\\x84n\\xea}\\xfd\\xd6T\\x19\\xd4\\xd7\\xb7\\x0f\\xc31\\xc1c\\xd1\\xf0\\xcb\\x91)\\xb5\\xa7\\xd1\\xe6\"M\\x8fG\\xfd\\xfe\\xa9n\\xd0\\xba\\xe9\\xfe\\xff\\x00T1+\\x7fE\\xff\\x00z@\\x15\\x85r\\xb4\\xc6\\xdbty?\\x98S\\x1d\\xb89\\xf7\\x8f\\x04\\xd7x=\\xe17a\\xcd\\xf3]S\\xb7\\xda\\x1c \\x1a\\xb7c\\xd1\\xaf\\x86yM\\xce{\\xff\\x00w\\x88\\xb5\\xa0\\xa4)Gbu\\xbff_P\\x80\\xb7\\xc6\\xfe?\\\\\\x8dQ*\\xf6\\x8f\\x0b\\x90\\xafu\\xbf\\xe3\\xe2\\x03.\\xf9r6\\xf8\\xfb\\xe2\\x18\\xca\\xd5\\xd6\\xbe\\xbe\\xde\\xc4\\xc2\\xf1b\\xd8\\x0f\\xe3\\xef\\x17\\x12\\xf5\\xa7A\\xfcN[\\xbc\\xac_\\xf0v\\x96\\x14m\\xf6s\\xeb\\xd3\\xef\\x01@\\t\\xc8V\\xbf\\x89\\xbcB\\xde\\x17\\xfe\\xf5\\x85N\\x8fB\\xdf\\x83U\\xde\\x12\\xac\\xa6\\xf6[\\xea\\xc0\\x19U\\xd2\\xd7\\xacr\\xb1{B\\xbd:\\xfd\\xa3\\xde\\xa3\\xc0\\xd7\\xe6e\\x103@\\x0fj\\xbc\\xc1{\\xdf\\x93\\x1f(O\\x99\\xad\\x1c\\xc81\\xe3\\x1fl\\xa6\\xfb\\x12/\\xc2\\xc8\\x19ye\\xf6\\xcbQ\\x01K\\xba\\x7fo\\xeeVCS6\\xa7\\xd0\\xdf\\xb4cB\\xf0\\r\\x0f\\x7f\\xead\\x96=\\xb0\\xf906z\\xd4%\\xfbW\\xe6\\x04\\xe5|\\x03)\\x05\\xbb\\xca\\x96\\xf6\\xc7\\xc4\\xc3Xwjx8\\xf7\\tQj\\xf8\\x0c\\xdf`\\xbf\\x98\\xdb\\x16\\xba\\xd9\\xfa\\x9a\\xf6\\xf5\\x96\\x15\\x0e\\xb2\\x8fq\\xfe.\\n\\x80\\xb7\\xd4\\xf0\\xe9\\x99\\xb6\\xadh\\xf7 U\\xe1F\\xd7\\xfb\\x1fh\\xa2\\xaeV\\xec\\xca\\xff\\x00s\\x07\\x04o\\xaa\\xfd\\xe1)\\xbd\\xcd\\xb5\\xdc\\x8f\\'x}\\x99\\xc5q)A\\x9f\\xb7\\xda5\\xc4Cy\\x1e\\x8fS\\xbc\\xa5o\\xa4\\xad>\\x1e\\xbd\\xbbKMu\\xc7_\\xb4\\x1b\\x04\\xd7\\xeb\\t\\xa8\\xc2\\xa6\\xc1\\xdb\\xed\\x08\\x1a\\xbeG\\x07O;\\xf6 k\\x12\\x91\\xb7\\xd3\\xbb\\xfd\\xca\\xd2\\x13\\xaa\\xb1\\xfe=\\xfe\\xe8\\xb1v\\xaf3\\xaa\\xb7n\\x0c\\xc0\\xe7\\xa5\\xe0\\xf1\\xfc\\xcdc7\\xe0\\x9a\\xf7}l\\xc0\\x880\\x8a||\\xf9\\xd4\\xa0a\\xac-\\xe7z\\xc4\\x0e\\x9d\\xbb\\xab\\xf2\\xf3\\xfe\\xc42\\xb0\\xf8(\\x8e-S\\x8a\\xb4\\xf7\\x89\\xb1\\xc7\\x18W\\xfe\\xc7\\xdf\\\\\\xa8|\\x9b\\xf8\\x83^\\xb8M\\x8fF\\x91\\xf5\\x83{AKM\\xe1O\\x85\\x84Z\\x1a\\xce<\\xa6\\x1f,\\xf5\\x84\\x83\\xed\\xcf\\xbc\\xbe&\\\\(~\\xe8\\x865\\xee\\x83\\xec\\xca-*\\x05_\\xdf\\xac\\xc6\\xcb\\xae\\xbc-\\xf9Mz\\xca\\x8b\\x7f\\xd6/7\\xb3\\xe0\\x81\\x0b\\xbb,K\\xf1\\xb7\\xebSa\\x7ft/\\xd6\\xcdF\\xdc\\x7f\\xeb\\x0e}\\xc8\\x05k\\xedD\\xf35\\xde\\xa9\\x16\\xff\\x00\\x1fH+Pn\\x9b\\xbc\\xf4\\xf5\\xf7\\x9aL\\x96Aa\\xf1\\xfc\\xfd\\xe1\\x10\\x149\\xaa\\xfe\\xbf\\xf5\\xc0\\xb6\\xc7\\xa2U=\\xce \\x0c?\\n%\\xbd\\xa9\\x83\\xedt{FyZb\\xf9\\xfeD\\xb8@x\\xb4\\x9d=\\xa6E\\x0e\\x99\\x03Q[\\xfa\\xbaOF0\\x824\\x9a-\\xbf\\xee\\n\\xbe\\x14-\\xcc7\\xca\\x12\\xe7\\xe1\\x1f\\xd6q\\x01Z\\xda\\xb6\\xd7\\x7f\\x89qE\\x16\\xbd\\x13\\x06\\x1fk\\xed\\xff\\x00\\x7fH2qp\\x10,#\\xba\\xbcy\\xfe c e\\\\\\xbf\\xc4k\\xab\\xe9\\x07@\\xbd\\x1c\\xbe\\xd1i\\x87\\xa8{r\\xf8\\x83w\\x98\\xf8\\xf0zJ$\\x07\\x97W\\xf9\\x81\\x94]c\\x07\\x83\\x8fx\\x857^\\xd1\\xf5\\xa7\\x04\\xb2\\xad\\xc9\\x95?\\xb9h3\\xa6\\xec?\\xed@\\x19\\xcc\\xabo-\\xfe&L\\xb3\\xa4\\x13\\xb9\\x94h\\x90\\x8d0{\\xe2\\x11G\\x84\\xa6>K\\xfbJx\\xa0\\x8a\\x11\\xf2\\x11\\xf3#H\\xe7\\xa8r\\xcb\\xb8\\x8d\\xe4\\xfc\\xccD\\xae\\xe3i\\xf7\\xbb>\\xb5\\x10]W\\x8b6W\\x90\\xfc\\x10\\xcdT\\xba\\xa2\\xf6\\xaf}\\xcdR\\xba\\xe8\\xf9)\\xf8gZ\\x16\\x8a_z\\xc7\\xda$\\xb98s\\xfe\\xb0\\x8d\\x9b\\xb7\\x9d;p\\xc4\\xd2;\\x13\\xd79\\xf4\\x88m\\xdd\\xf0\\x1f$\\x01\\xd9{\\x0b\\xbfs\\x87\\xb9\\x02C\\xc2\\x9b\\xaf\\xf7\\xfdF\\xdd)\\x0c]\\xceN\\xff\\x00iM\\xf1\\xdf\\x87\\xcd\\xd3\\xda*.~\\xc4\\xc9\\xd9\\x82\\xd4\\x92\\xc0\\xcf\\x8f\\xe7\\x08\\x12\\xd5\\xa0\\xe5]k\\x97\\xfe\\xe2\\x0c\\xde:\\xcd\\xeb\\xf3\\xaf\\xa3\\xdas\\x1f\\xa0\\x7f\\xde\\x92\\xea\\x82\\\\\\xf6\\x17\\xa3\\xf7\\xa9BZ\\xec\\x1c\\x9d\\xd4\\xb2*?\\xcf\\xa9\\xed\\xfa\\xc5E\\xb1\\xc8-h\\xe6\\x8c\\x1f.=\\xe3/e(\\xe48>\\xd2\\xe7\\xab\\x01\\xaa\\x82\\x1b\\x93(M\\x1d]\\xd8A}\\xdb\\xfc\\xc0U\\x0ew\\xb1\\xf0\\xf3\\x18A\\x9c\\r\\xd7v\\x10\\x06C*~\"\\x96\\x0b\\x9b\\x07\\x97G\\xfb\\x11\\x08aza;s\\xf2\\xe2TW\\x93\\x97\\xdbD\\x10\\xc5z\\x12\\x91\\x1fJ\\x84\\x01h:\\xc66\\xba\\x8c\\xe4\\'\\x93\\x92j\\xab\\xaaRz\\x9f\\xd4\\xba\\xe1\\x0e\\x0f\\x82\\x9a\\xf7\\x88\\xd3\\x87{{\\xf6\\x88\\x9d\\xbem\\x03\\xe9y\\x9c\\x8c\\x17x\\xcb\\xb5S\\x00zj\\x02|\\x97^\\xb0Pqb\"\\xf4\\xbbX\\xf53\\xb5z\\x86\\x91\\x86\\x80o\\xcf\\xee\\x87#G\\r\\xff\\x00&g\\xb1\\x12A\\r\\xfd\\xc3\\xaf\\xb4nD\\xd6\\xf9\\xf1\\xdf\\xbf\\xa4<\\xe1\\xde\\x1f_\\xfc\\x97\\xeb\\xef\\x96z<@\\xa6\\xfe^\\x1fI\\xb5\\xd99\\x86}N`\\x85\\xc7S\\xec8c\\x16\\xb7&\\xff\\x00\\xb9\\xc5\\x8f\\xaf\\xbb\\xe8\\xc2,\\xcf\\x16/\\xdb\\xc9\\xde7\\x18\\xe7\\xb3\\xd4\\xeb\\x1b\\x15\\x94\\xc6\\xa3D\\xb2\\xe3\\xa0^\\xf7\\xdf\\x9e=\\xe0\\x1ah\\xc7>\\x9c\\x1c\\xfb=\\xe0\\xe8\\x9b\\x89\\xd9\\x97\\x1aw\\xd7\\xb7I\\xf6f\\xabuv\\x0bK\\xdc~\\xff\\x00\\xac\\xff\\x00m\\x04c\\xe5\\xe6q\\x95\\xb7cQ!S\\xd2\\xbf2\\xa2\\xc5Xt\\xf5\\x86\\x9dt\\\\\\xf9\\x88\\x87g9\\xef\\x86\\x01M\\xfb\\xbc\\x1f\\x99@VG\\x16u\\xe9\\x18\\x92\\x1e\\x01\\x1fWp7\\x96d\\x1e;\\xd4P=\\xf4} \\x8d_x8\\x01p\\x91e\\xe3d\\xb5y\\xc4\\x16Q\\x1c5j>R\\xf4\\x89\\xfcF%\\x02\\xee=\\xc6g\\x83X\\xa6\\xa1\\xefr\\x8b\\xbf\\x9c)\\xf7\\x19K\\x15\\xfe\\x18\\xbf\\xb4\\xa8XuC\\xf1\\xfc!\\x08\\x97\\xe9g\\xed(\\xc6\\xf8\\x03\\xf8\\x81U\\x16\\x81P+\\xceqE\\x82P\\xc2\\xa2\\xd3\\xdb$\\x12I\\x88\\x16\\xfa\\xec\\x88\\x05%\\xb8\\xf4?\\x8c\\xd9\\x8e\\x05_\\xf0N\\xa7\\xbc\\xe4}a\\xba\\xbe/\\'\\x86+h\\x0b\\xdb[\\xf2J4\\xa0\\xd8^\\xbb\\xbf\\xc4\\xbf5\\xcd\\x1f\\xe6\\x98\\xc3M\\xb8w\\xd8\\xf5%\\x14\\xf7\\xb5\\xb3\\xfeZ\\x9a\\x19b\\x81\\\\\\xd4>\\xe7\\x1e5r\\xc4\\x94\\xda\\xb9\\xf5\\xc7\\xafx\\xe5k\\xb8c\\xe2\\xfcV|v\\x95\\xdc|\\x19o^\\xdc0\\xf9VJ\\xe7\\x90\\x85\\xe2\\xa6NT\\x1e\\xd4\\xfaN\\xf3\\x03\\xfa\\xb4\\x0bD\\xf7\\xbf\\xc5z\\xcc\\x9b1\\xbbn\\xa8\\xf1\\n\\xf9\\x84\\x15]\\xf0w\\x17\\xa6\\xbb\\xc1\\xd68n\\xbb\\x1f\\xdb\\x03\\x8d\\xba\\xa6\\x8e.e\\xdf\\xcb\\xa9\\x95\\'V\\xef0Nk\\xac\\xd4\"/\\xb4@\\xa2\\xd9\\x86\\x81\\xf39\\\\LX>\\x96\\x0ce~eE\\x0f0\\x13@1\\x15\\xab\\xbb\\xc4\\x0c\\x9cx\\x82\\xdb\\x13\\xda\"\"^\\xd8\\x7f\\x88\\xa5\\xa0\\xe7\\t\\xb0\\xcf,\\xafl\\xcd.\\x1c\\x80\\xff\\x00\\x12\\xd2\\xbaEO\\xa9\\xfcF\\xd5O\\xab\\x9f}\\xfcG=A\\xb7\\xd7\\x98\\x01eeK\\x1fIUK\\x9b{]\\x8b\\xd7\\xac>\\xa5\\xf7\\xca3b\\xea\\x9c\\xf8\\xe6\\x15D\\xe2\\xb2\\x94}i\\x91\\x84\\xda=\\x93o\\x0f\\xf3\\x0bJy\\x96k\\xfa\\x9aE\\x1b\\x03>\\x9e;K\\xb8\\xe1\\xb8\\x0b\\xe3\\xfd\\xff\\x00L\\xcb\\xb0\\xc7v?\\x1cC\\x06\\xdd\\xbe]^\\xbdWf\\xba\\xca\\xb9\\xc7\\r\\xe7\\xcf\\x8f\\xb47G\\x83\\xce>4\\xc7\\xa4\\xcc\\xf1z#\\xbf\\xc7\\xd6X\"\\xc9^h\\xab\\xfdZT]\\x8d\\xc9\\xc0\\xc71\\x98,.t\\x15u\\x8e^c\\n\\x1d\\xbd\\xf2\\x89m\\x81\\xa3\\x07m\\xfefJ\\t\\xe7\\x81\\xd8\\xed.P\\x87/S\\xcc\\x1cP\\xe6\\x95\\x80\\x99\\xaf\\xd7`\\x89\\x80\\xf8\\x99\\xa8\\xd4\\xac\\x06{$3z\\x8e\\xb7\\n~\\x85\\x99V5\\xe7\\xcc>,\\xae#\\xc9W\\xbc\\xe0\\x03\\xef)X\\xb6T\\xe6\\xe3\\xe7\\x03\\xe98.!\\x14\\xdb\\xe6\\xa0\\xcd\\x17\\x91\\xc3\\xdf\\x88b\\x1e\\xa9\\xec\\xbb?\\xd9\\x97\\xebz\\xdf\\x87\\x8f\\x99j\\x02f\\xdf\\xed\\x97V9N\\x9f\\xc7\\xa4\\x13\\x92x\\xd8\\x87~\\xa7\\xfb\\x10\\x89@\\xe9s\\xe1\\x99m\\xa7\\x84\\x96\\rk\\x82b\\xff\\x00\\xb8S\\x96\\xb8\\xad\\x7f\\xbaD\\xae\\x87\\x7f\\x91\\x02\\xbbW\\xfcK\\x01&\\xe9\\xb5\\xd6\\xbe\\x13\\xa6s)\\x91h\\xa5\\x02\\xe3\\xd9\\xbc\\'S\\xb4!\\x87\"\\x14\\x9d\\x1e\\xae\\x93\\xa9\\xe5\\x99\\xb0\\xeb\\xb1^_s\\x07\\xa1\\xccJ\\xaeb\\xb6\\xc3\\xf3oR+\\x1b/\\xde\\xae\\x7fW\\x92:\\x1eZ\\xfc\\xbe\\x92\\xeb\\x02\\xedh3^W/\\xfe\\xc6\\x10\\xa6\\x81\\xa7Z\\x8e\\xda\\xae\\xb7\\xbd_i\\xc4\\x14\\x1cs\\xea\\xcaQ1\\xd1\\xc7\\xf7\\x1c\\xd7\\x9a\\xc1\\xd22\\x17\\xb889\\xe9\\x005\\xf4\\xe2Tu7\\x95\\x83.(%\\xcb\\xbcT\\xa3\\x90\\xf4\\x94d\\x0fh\\x1c\\x8e\\xd8\\x97q(\\xa5\\x89\\xbc\\x84\\x9fuKz\\xc7\\xa4\\xb1\\x11\\xeao\\xdeV\\x05.\\xcc/\\xa3\\xcc\\xa6\\xe3\\x8b\\xe1\\xfc>|\\xca\\x16\\xee\\xd3~c\\x86\\x1fX\\x97\\xde\\x0e\\xc6\\xf2rDh\\xd9(\\xe7\\x07QAZ\\xfc\\xe0\\xb2\\xb7e\\x81\\xb3\\xa9\\x1f\\xdd\\xff\\x00\\xa0;\\x92\\xc0\\x8cd\\xbc\\xb1^\\x1b\\xc7\\xa7Ip\\xee\\xd6\\xdd\\xd2\\x93\\xbb\\xaf%0\\xbc\\rT\\xa0\\xc6\\xfd+~\\xb9\\x9e\\x9d\\xd6\\xb6\\xf7\\xe0i\\xf0\\xb33\\xb0\\x9a\\xdd\\x06\\xbd*\\xbd?T\\xe0\\x8a\\xa5Z\\xab\\xaf?l\\x11\\xb8\\x15\\x95\\xd8\\xe9\\xe9\\xf9\\xf1\\x0c\\x88\\xda\\xc9G@\\xfeb\\x90\\xb1\\xe5\\xdc)h^\\x02T\\xdbc\\xa9p\\xe5\\xed`\\x90\\x19a\\x02S\\xa9\\x10\\xc5\\x8b\\x8b&\\xb3\\t\\x06\\x01,\\xf13{\\x9b\\xe6#\\x96T\\xdf5\\x011q-\\xc4\\t\\xa4TD\\xcc\\xaf\\xc4P\\x07\\xd2W\\xf7\\x1e\\x18\\xa3\\x83f}}a\\xb8\\x83k\\n\\xed*\\x94\\x94\\xe1O\\xbc\\x11U\\x07\\x8e\\x9e%P\\xb5\\xc8#\\x81u\\xdf\\xfe\\xff\\x00~\\x1a\\xc3.\\xc7+\\x8c;\\xc06\\x1d;\"?\\xd4*rU\\x8c-d\\xaf\\xf6fl\\xb4\\xec\\xf1\\x87\\xde\\xbc7\\xcc\\xbeJV;\\xe7\\xbd\\x15\\xe9\\x06\\x7f\\x14\\x86\\x13\\x05\\xbe\\xf5\\x10\\x93\\x96\\xb97\\xf8\\xfc\\xdf\\xea\\x86\\xc2\\xab\\xbc\\xd6&\\xe5\\x8b\\xcc\\x9a\\xbe\\xad\\xfa\\x11\\xb4\\xa9\\xbe\\xd1\\xbd\\xc0\\x17\\x1e\\x85/z\\xfc\\xff\\x00\\xe4\\xbe\\x8d\\x1d\\xa2\\x845\\xcb\\xc4\\xa9\\xb9\\xe5v\\xb0\\x81MCv\\xdc\\xcf\\x99\\xc6(8\\x8f;\\x839\\x97\\xde\\x19J\\x97\\x99\\xc7\\xf7\\x0e\\x92\\xea_\\xd3=e\\xb3\\x98\\xab\\x99sn\\xd1q\\xf4\\xa8\\xde\\x98s\\x8a\\xeb\\x98\\xd9\\x0c\\xfeGX\\xef\\xf9}GF%\\xe7=\\xcb\\xb3\\x97\\xd7\\x88J\\xad\\xedq\\xac\\x03\\xa7<\\xf6\\x8c\\x8c\\x1co\\xe2\\xc3\\x81\\\\\\xab1\\xdb\\xc3\\xc3\\x16K\\x88#\\xdb\\xa7q\\xa6\\xbb\\xc0\\xba\\\\\\x1am2\\x1a\\xe3\\x03}\\n\\xeb\\x1dE.qPP\\xd7\\xa6N\\xf8\\x849\\x1b\\xda`}C\\xd5\\xef\\xfa\\x9e \\x16`\\xa9\\xd8\\xfe\\x84En\\xb8\\x03\\xa3\\xfe\\xeb\\xd6\\\\\\xb8\\xed\\x1d\\xbeo^\\xbf\\xc4\\xde\\x82\\xfbv\\xbe\\xb3\\x11/\\xed-+L\\x1a\\xba\\xce\\xde\\xd3\\x8a\\xb1+\\x84\\xe0\\x08G\\xff\\x00\\xb2\\xb7\\xa7\\xd2V\\x19\\x9dg\\xe8\\xbc\\xc7\\x9e\\xb2\\xc9\\xe8\\xfa\\\\\\xb9w\\x02\\\\QQ,\\xdd\\xc6\\xde\"4\\xc7\\x99S\\x19\\xde67BQ\\xf5\\xd4\\xf5\\x8cx\\\\\\xe7\\xb5u\\x95\\x82\\xfaa,n\\xaa\\x9b\\x8c\\xe0\\xe3\\xf3,6\\xbe\\x8d\\xcc\\xf7\\xb0\\x16\\xd8\\xf4\\x7f\\xbf\\xe2\\n\\x8c\\xb2\\xec\\xfc{R\\xfbK\\xa0\\x11I\\xd6\\x9eR\\xbe\\x19pA\\xda\\x81\\xa2\\xfb\\xef\\xdd\\x19\\xf6x\\xd5o\\xfa\\xf5~a\\x93\\xf5(u\\xac\\xaek\\x1c\\xc3.\\xb0\\xad\\x87\\x88v \\xadE\\xb9yV\\x1d\\xd3z\\xbcT\\xb0-_\\x90J\\xcf/2\\xf4\\x1a \\x1c4u\\x950\\x80Mq\\xf6\\x8b\\xbcz\\xcc\\x1e\\xef\\xac\\x91\\xd5p}bb|A\\x97,\\xe8\\xfd\\x00\\xeb\\x99V\\x1cr\\x96\\x11\\xcau\\x93\\xa4\\xc6\\xdb\\xfa\\x045\\xc4\\x03-\\x0el\\x86\\x17\\xd9\\xfefd\\xd7_\\xc3\\t\\xad\\'=?\\xa9m\\x82\\x8f\\xcfx\\xa6J\\xdb\\xa6\\xfe\\xcf\\xfa\\xe1\\x0e\\x0c\\x05\\xa30\\xe3\\xadW\\xa8r\\xc5Zj\\xc4\\xa6\\xeb9\\xfe\\xa3\\x1b\\xf7\\xec6\\xd6\\xff\\x00\\xdb\\x89l\\xe6\\xc3\\x1a\\xdf\\xac!4c\\xd4\\xfdA*P,\\x0c\\xdfC\\xab\\x92[/ulu\\x7f\\xef\\xa7\\x12\\x8a\\x17\\x9d\\xb5\\x987\\xa3\\x80\\x1f\\xc4\\xa4\\xe4\\xd1\\xc0B\\x10\\xb5\\xf2\\xc6\\xe4\\xcc\\xe9\\xc4 \\xfe!\\xea\\xc2\\xe9\\x0fY\\xcf3\\xa5\\xea<\\xd4\\xf2\\xa8\\xde%\\xf8\\xf5\\x87\\xbc\\x15\\xb4\\x96_\\x1e\\xa4\\nb\\xa6u\\x89\\x83\\x032\\x95\\xdaS\\xd5\\xf6\\x9d,\\xf9e\\x8ej)]\\xa3]UC\\x08\\xd6\\xf3*\\x9c]\\xc5S=k\\xcc\\x1d\\xdb\\x85EBi\\x17d3\\xb3\\xd2e\\xf0\\xeav\\x8ex/\\xb8\\xfb=\\xa1\\xabM\\xe6\\xff\\x00\\x91\\x00\\xa3\\x0e\\xa3\\xf3(\\x06\\xad\\x84_I\\xf5C\\xfcE\\xb9\\x89D\\xb0u\\x83\\xban2J\\xc9\\xa2\\xa9\\xe3\\xcf1\\x87&g\\xabI\\xf0\\x86\\x1d2\\x1d1\\xfa\\x8e \\xb6F\\x8f\\xbf\\xf1\\xef2\\x17*\\xf2\\x08\\xad\\x15\\xddh\\xfeX*\\'Lu\\xfd\\xceJ\\xaf\\xbeY\\xcac\\xbf\\x12\\xe1\\xc4\\n\\x0c\\xca\\xb6\\xc2\\x86\\xe5k^\\xb02\\x89N\\x8cOH\\x1eXi\\x04\\xc7\\x88\\x8f\\x154\\xe6\\xaedu\\xf4\\x8f\\xbb;\\xcb\\xf3\\x0b\\xb9\\x8d\\xcftGb_O\\x82[L\\xc1\\xccg%\\xc7-\\xfb\\xc6\\xc3\\x11\\xaf\\x0f\\x88\\xb9\\xb2[\\xa4\\xd1\\xacB\\'\\x1e#T\\x0e\\xf8\\xfb\\x8b\\xe1z\\x9d\\xe2\\x97\\x9f\\xe0\\xe1W\\x93Gfv\\xfc\\xf1\\xed\\xd2\\nt7\\xca\\x98\\x81e\\x94g\\x89\\xe1\\xa7\\xc3\\x02\\xe5\\\\Kuz\\'8\\x95!\\x02\\x07\\xd0\\xbc\\xfd\\xe1!\\x80\\x06\\xb5\\xfa\\x85\\xa1zM\\xb8\\x08\\xee\\xe2&I\\xd4Si\\xfcK\\x82\\xea\\xf7a\\xae\\xf8\\xe2X\\xdb\\xaa:%\\x82\\xf6\\xfc@\\n\\x1d\\xc5u\\x9du\\x95\\xa2>\\xd1\\xe3\\xbcoH\\xc4\\xfa*\\xf8\\x87\\x10\\x0e\\xfe\\xb2\\x9f\\xe2$\\xc5\\xfbK\\xf5\\x82\\xf4\\xa9\\xe0\\x8a\\xf9\\x98j[\\xcc\\xcb\\xac\\xbck\\xe6\\x0e\\xb2\\x9cO\\x1e\\xf0\\xb9.VmY\\xc5\\xc0\\x1c\\x10\\xd4\\n%\\xb1\\x00\\x8e\\xc4\\xd1\\x8em\\x9e\\xeb~ah\\xb2ZdN\\xbe!\\xc5t%O\\x1d\\x9f\\xe6\\x15\\x1e\\xb5r`\\xa7\\xb0\\xfa=e\\xc4$\\xf0h\\xd7\\xda\\xd3\\xc7X\\xcb.\\x82\\xd1`\\xaa\\xf8OIr1Fc\\x0e?\\x84\\xf6\\x9d\\x95W\\xcf\\xea:\\xaa0\\x8a6\\xd48^W\\xb1\\x10\\x9e[\\xbf\\x97C\\xb1\\x05\\x8b\\xd0\\xd3\\xcf\\xfb\\x9f2\\xd6:\\x0e\\x88\\x00\\x0f*LV\\xe0\\xbfX)kW*\\x84\\x07\\x04e\\xf5\\x99\\x98e\\xdc\\xc28\\x80\\x96.\\x0e\\x92\\xda\\xc7\\xde9q^\\xac\\xce\\xae)si\\xd0\\xb9A\\xd4\\xe0?\\x11\\x9c\\xde\\xb3\\x0b\\xb5\\xeeC,\\xd3\\xd6X\\xb2d\\xcf\\xcc\\xabc\\xe8\\xceJ\\xf5e\\n\\x8ey*8w\\x1e\\xb3\\xb9\\x82\\xfcv\\x80\\xae\\xb3N\\x9e \\xef\\x13Ip\\xd8;\\x96\\xf1\\xd7N\\x9d \\x92)P\\xd8\\xf4{8\\x83\\xaa\\x06\\x83,\\xc3_Ys\\n2\\xbf\\xcf\\x9f\\xc3\\x19\\xf4\\xa9\\xb2\\xe8w:\\x8d\\x9e\\x87Iab\\xa7\\x80<\\x95\\xe0e[\\xb3\\xf5\\x17\\x0c\\xeb\\x89\\x91\\x87\\x01\\xad\\xbc\\x1e\\x02\\x9f2\\x92\\xfbwn\\x7f\\xa4\\xa1\\xdf\\xde;\\xfb\\xcd\\t]\\xaei\\x89\\x176\\xea \\xb9\\xe2\\x1b\\x1c0`\\xe5%a\\x17\\xe9q\\\\.\\xb0\\xa2\\xb9\\xde\\xa60\\x8c\\xe3g\\xbc\\xe9\\x9f\\x98Z\\xce\\xa2\\x0f2\\x8d\\xa8y\\x86\\x91\\r\\xbb\\x88\\x0c\\x15\\xe5\\x96d\\xb9\\xbd\\xcd\\xa6\\x9f\\xa0\\x9bX\\x15\\xcf\\xbc\\xa9\\xc3Q\\x1b\\x98q\\xe6)\\xae#\\x9d\\x93\\xba\\x17al#{\\xfd\\x9e\\xb2\\xf1\\x1b\\x89\\xd8\\x99/\\xc9\\xe9)V\"Y\\xd7\\xa7\\xdb\\xc1\\xe7\\xb4Uk\\xb1\\xa2\\x8aN\\x94\\xaeN\\xfd\\xa5\\x84\\xe1\\x8e9\\x1f\\xf6\\xc2d*\\xc3~u\\xf3g\\xfeN\\xdc\\x94\\xfe\\xa0vv\\xe0\\x0csQ\\xcb\\xcb\\xfe\\xeb\\x1e\\xfa;\\xe1K\\xc7\\xa6\\x08U\\xabW\\xf8\\x8f\\xf7H\\x8fqW\\x04\\xb3|G\\x11\\xf3A\\xd6\\x88\\xdb(S\\xe25w\\xe83YD \\x1d\\xa0#w\\xed\\x0bXc\\xf39\\x13\\xb6\\xb9\\x8f\\xe9;\\xdb4\\xd4\\xaa\\xb7\\xf3\\x1c\\xe7G\\x14L\\x9cos\"\\x15r\\xeb\\x96\\xbb\\xc0:g;\\xe5*\\xb8Y@\\xe4\\x9d\\x9a\\x85\\x13\\x07\\xf50\\xf5\\x8e\\\\\\xcd\\xb7\\x98\\xab)b>\\x91:A\\x87R\\xdc\\xc28>t\\x91\\x85\\x18Bgx\\xcfi}\\x9a\\x1f9\\xb7\\x8e\\xe6|Q\\x04\\xc0\\xd9\\x92\\x1bN\\x8b\\x87\\xdc\\x81f\\xfeJ\\xcd]=<Z\\\\2F\\x93\\xd3\\xcf\\x92\\x08\\x15@\\xe3\\xf5\\x15.\\xf6Z\\xc1\\xc4/\\x17u\\xeb\\x828\\x8a\\r\\x1f\\x7f\\x99eF\\xbc\"7\\xb1x!\\xe0\\xb3\\xd5v\\xb1\\xd4\\xb8\\xecBPq\\xc985^\\x93?\\xec\\x96\\xef\\x05\\xd8.\\x1d$)\\x87\\x1f\\x13]X\\xba,\\xb5K^\\xb2\\xb8&\\x12\\xfaD_\\xf36\\xdaQ\\xfd\\xc6h\\x1a:A\\xd7\\xd8\\x13-\\xfcL\\x869\\x85\\xd5\\xd0\\xf8\\x86\\x1c,I\\xe3\\xc4C\\x8fy\\xe4\\x12\\x9e\\xaccP\\x13x{AF\\xbe\"3\\x0c\\xfe~\\x83\\xf3\\x19\\xff\\x00s\\x81K\\xfb\\xc0J\\xadL\\x81N\\x8d\\xe9\\xb9OOAj\\xbb\\x8e\\xd3\\xee\\x12\\xf5\\x86n?\\xe3\\xf3I\\x89]}\\x90/\\x16\\'\\xc2\\'\\xe6\\x02\\xba\\xf4\\xce\\x91\\xa7\\x1f\\xee&J\\x1d\\xa0hG\\xe7\\xf5\\x00r\\xd4\\x1d\\x8b-;N\\x0fv]6J\\xa9\\xf7\\xaf\\x98!\\xb0[\\xf1Z\\xfc\\xc5\\x19\\xb7\\xb3\\xa1\\x8b\\x8e\\x87X\\xd8\\xdf\\x1a\\x95\\xebP\\x004\\xf33\\xe7\\xdaZ\\xc3Al\\xb9\\xacw\\x87\\x08MD\\xe3\\xda\\x13\\x92\\xf1(r\\x93\\xc5\\xc6\\xa1\\xcdFzx\\x9c\\xdf\\xdd4\\xf1\\xc4\\xcb\\xb3\\xa4Cy\\x86\\xa3_\\xe50\\xdbT\\xc5\\x8a\\x8aU\\xe2a\\xa9{\\xab\\x849\\xcb\\xde\\x10\\x18\\xbf\\x10.\\xeaV k\\x0c\\xaa\\xf1\\x10su\\x12-\\xbb\\xdc\\xa1\\xf8\\xabU\\xf1,!{\\x1a\\x81J\\x18\\x88W]\\x1a.\\xb7\\xce\\x1fx\\xfa\\xaaD\\xc5\\xee\\xa9\\xcd\\xddwS\\xa5\\x86\\xc2rY\\x84\\x15\\xab\\xf5\\xcf\\x14\\xf9\\n\\x08v\\xb58\\xe9\\xeb\\x17U\\xaa\\xa7A[\\xf4\\xfdFv6<\\x11\\x95{\\xe6d`\\x84\\xac\\x85\\xd4\\x9cx\\x98\\x1d\\x11^s\\x9b\\xf7\\x96\\n\\xd4\\xaa\\xfc\\xceq*^\\xf7\\xd2`\\xdb\\xef\\x00m\\xb9\\x8c\\xb7\\xebqh>\\xe4\\xa1vf\\x1a\\xc5T!\\xb3\\x00\\xc3\\x01\\xa1}\\xe5\\xcd?\\x99~\\x12\\x82P\\xd9,\\xe6]\\xfbE*\\x00`\\xef\\xa4\\xcf\\x89\\xe0\\xf5~\\x85\\xd6\\x1f0/\\xccF\\x96\\x1dK\\x8df\\xc9c\\xa6\\x10\\xb6\\xbd\\xe6,>\\xcc\\xd4\\xbc\\xc1\\xb2@\\n\\xe4\\x86:r\\xd7\\xbc\\xbb\\xe6\\x00\\xa6\\xde\\x91\\xd5X\\xac\\xae*\\x1a\\xac\\x8e5\\xa8m\\xf0\\x13r\\r\\x8e\\x7f\\xdb\\x8a\\nT\\xce\\xc6\\x17{\\xe4/u\\\\\\xca9\\x81m\\x0fN\\xcc\\x17w\\x15\\r\\xba-9\\xf5\\x98\\xea\\xb0S?\\xa6\\xe2>\\xfca\\x02F\\xb2\\xaa\\x8ca\\xd6\\x89L9\\xd4+\\x96\\xf5\\x9ew\\xbb.\\xbb\\xab\\xb0\\xef\\xa8\\x80\\xd6\\xdb<L,O\\x11(\\x08\\xea`,\\x11(\\xbe\\xaf\\xda$\\xf6\\xc1@\\xd2\\xa5\\xcf\\x98\\x00\\xa8r\\xdb.\\xa2\\x13m\\xc1\\x11U\\xef\\xa8u\\x9b\\xd6%h:\\xdd\\xf3\\x18\\xd3\\x8fV\\x87]:\\x8am\\x8e\\x89\\r\\x8b*1]\\xa5A\\x98\\x8a\\xf3\\x00\\x94\\x162\\xe3\\x9cnd\\x84T\\xb4\\xaf\\xcc\\xa8\\xa2TS\\t\\x9c\\xa1l\\xebu\\xc4\\xdd\\x0599\\x8c\\xf05\\xces+\\xa9C\\xcf\\xf7-iR\\xf5\\x1d\\xa2w\\xcd\\x15\\xfcA[\\xd4`Vx\\x80\\x8b\\x0f\\x8e\\xcc\\xb1\\xa9\\x94~~a\\xae\\xde\\xaa\\xc4q\\x94r\\x85\\xa7\\xf5\\xc33\\xb2\\xe0V\\xd7=g6_5\\xd2\\x05\\x02\\x81Qk\\xc3\\xb2\\xd8\\x9c\\xc7Aj\\x0b\\xdf\\x17\\x1cB\\x9d\\xe25[_\\xa5\\xe2\\x00\\xdb-\\x0e\\xb5\\x1b\\xb6\\xf5\\x15\\xde\\xce\\xd2\\xa8:\\xc8\\xf8\\x98\\xbeCLWh\\xe01\\x03=\\x89pk?\\xb4*\\xe2\\xd8s\\xe8\\xc5AV\\xa7v4\\xe9\\xd6\\x95\\xf18B\\xf92\\x97\\xbaoZ\\xa9\\xa0\\x07\\xd9\\x04\\'n)\\xf8\\x8c\\x90\\xdf\\x94B\\xb5\\x97\\x96+\\x0b\\xf9\\\\\\xc3\\n5\\x8c\\xda9\\xb4\\xbeI\\xb8\\xe6\\x9e&0\\xca\\xb8&\\x8f\\xe63\\x9a\\xe5\\xff\\x00\\xeb3\\x86\\xf0@\\x0e1\\t%\\xb1V\\xab\\x1c#0\\x99\\xafS\\x11\\xae\\x19\\xe9\\xff\\x00T\\xb8\\xd2{\\x7f\\x842q\\xf7\\xc1\\x18!uY\\x18R_\\x98e\\xcd\\xafBcK\\x00\\xbb\\xbcFT_9#\\xd6\\x80\\xf6q93\\xce\\xc9q\\xd3\\xa5\\x1b#\\r\\xa6t\\xfaD\\xcbJ\\xbf!-\\x87\\\\tq/\\x9av]\\x1e?\\x89E\\xb7Po(\\xadw\\xeeA\\xb4\\xd5\\xaa|N\\x83y\\xba\\x8d$\\xd5\\x04C\\x05\\x9cu\\x8fa\\xd8r\\xf4\\x8a\\xee\\xb6\\x03\\x8e\\xd2\\xf7\\xfaR\\x03\\xa4\\xa6c\\xa1U\\xe4W\\xfa\\x9c\\xb8M\\x8b\\xd7X\\xf0\\xc4\\x87\\x80\\xb6;J\\xaf\\x96\\x165\\xb4Y\\xb8\\xb9E\\xd4\\xaa\\xc3\\\\\\xc06\\xf4\\xac1\\x10\\xab\\xf2\\xe2$\\xd7=`\\x05TL.o\\x01\\x028\\xbc\\xf8\\x85\\x8d\\xabv\\xc7k\\xec\\xe4\\xbf\\x11\\x87F\\x14W4\\xe3\\x9fHb\\xde\\xd7(\\xa8\\xaa\\x0b\\x8d\\xd9~\\xf2\\xb5\\xcb\\xe7\\x0c{@|\\xee\\xece\\xd9E\\x19\\x19g\\x8f\\x1b\\xdc+\\xca\\x12\\x81\\x84\\xc715W\\x12\\x96\\xc7.\\x96\\x00m\\xdcE\\x9cx\\x81{\\xd4i\\x90\\xf6\\x8f\\x82\\x1c\\xaa\\x81\\xb8\\xfc\\x7f$\\xb8\\xb8(PF\\xd8e\\xca\\xb7^3\\x10\\xd1\\x96\\x15^\\xaf\\x01\\xf9\\x80\\x98B\\xc8/\\xa0m\\x83\\x82\\xd7\\x8b\\x99\"\\xa2\\r\\x10\\x1b\\xaf\\xb4\\xcc\\xeb\\xd1\\x8a\\x88^\\x02du3q\\xd5\\xbc\\xc0\\xaed\\xddE\\x16\\x03U\\xdes\\xf7\\x8dR\\xa8\\x82\\xd9\\xaaG\\r{\\x9f\\x11\\xa0\\xddc\\x95\\xd2\\x0e\\n\\x84\\xd8\\xeb\\'\\x97%\\x13,\\xca\\xab\\xbfXwC\\x7f\\xc7\\x12\\xbfM]j\\xb5z\\'\\xf8\\x84\\x89\\x0c:g\\x1f\\x99^]\\xef\\xc8t\\xfe\\xa7\\x10Z\\xf2E=\\xe7{\\x98\\x81Q\\x00\\xb7N\\xa0\\xe2\\xae\\xf9\\x96)\\xd0\\xe2dU\\xcd\\x8f\\xcc\\xabW\\x18!OL?\\x0f\\x88b+Y\\x85\\xf9\\xe3\\xd6QP\\xd8\\x89C\\xf1\\x1c\\x9c[\\x8bW\\xda\\x1a\\xf8 \\xbdF7Q,\\xec@\"T\\x06\\xf4\\x8c[g\\xb0\\xe65?\\x96 \\xb1\\xc4\\xb4N\\xb0]\\xcfHzz\\xdc\\xb5/^e\\xc6\\xec\\x965\\xa8\\xa8\\xc7\\xcc\\xcfN\\x08\\xe9\\xcf\\xcd\\xe9\\x10\\xdf\\x15\\xb8;\\xc6\\x80\\x85\\xddJ\\xe2\\r\\x86@5~\\xb0a6\\x06\\xd4z\\xcb5\\xd4\\x95v\\x98\\xa7Y.[l\\x99*\\xb3\\xc4R\\xd9,\\x17\\xcd\\xff\\x00R\\xda*l\\xd8\\xf7%d\\xe6i\\x16\\xe1\\xe5\\x9b\\xe6X/\\xb5L\\x8a9!3\\x83\\xcc\\xbc{B\\xa1\\x9b@\\xe7\\xcdja\\xc5\\xe2\\x13`\\x8f\\x8fpy}`\\x14\\x08\\x00\\xea\\x13C\\x02\\x1e\\xd0\\xfd1Q\\x15\\xc7\\x8d1\\x12\\rs\\xc8k\\xf8\\x99\\x03\\r+\\xee@)\\xd6\\xd4\\xe5x\\xf6\\x96\\x0b\\x02\\x81\\x087HJq\\xf1(\\x95\\xed\\x9e\\xf3x\\xe1\\x8e\\xfd\\xd3\\xd3\\xb3\\xa8QU\\xf9Y\\xb9N\\xfe\\x16\\xbd#\\x96\\xa0a\\xb1\\xc4\\xb0\\x05yj\\x1bT\\xef\\xba\\x81\\xd0\\x8a\\x82\\x95\\x895Ql\\xc0U,@\\xc1t\\xe2(&\\xc4\\xc4M\\xfa%\\x05\\xd0y\\x8d\\x07\\x1e\\xa1\\x196=\\xa7l\\x8e\\xab\\xb8\\xac\\xfaDM\\x17\\x10W\\xb5\\xf6\\xc2\\n\\x85\\xe4e\\x97\\xdf\\xce\\x17t\\xc3\\xbe\\xb0\\xb8\\xf3\\xb8\\x01\\xe1q\\xb60X\\xdb\\xd0K\\xc0X\\xc5\\xd9~\\xb0?\\x02\\x96\\xb2\\xb1\\x90\\x96\\xc3\\x84W\\x107\\x96\\xb2\\x90aV\\xc7\\xcbl\\xa5+\\xda\\xa1{F\\xab\\xd3\\x9a\\x85\\x93\\x9enZ\\x82\\xee\\xa5\\x82\\xb99}\\xfe!\\x1a]\\n\\x18\\xefb\\x85\\r-\\xc0\\xeb\\xa9\\x91\\xd4\\xc1\\xeb\\x08\\x8c\\x8b\\\\\\x8f\\xf7\\x02\\x0b\\xba~\\x9c\\xf7\\xa1%\\xf7%\\x0b\\xeb\\xb9[\\x12\\x85\\x91\\xfe\\xdcQ-\\x8eY\\x88\\xcf\\xb6\\xa3\\xb0\\xdd\\xa4\\xa1:Fh=\\xd9%\\xa5.\\x1d\\x82\\x0fBh\\xc4\\x0e(\\xf7\\xcdx\\x8d\\x94\\x0c\\xce\\xb8\\xc1\\xe3?\\x11\\xf7\\xd4E\\rk\\x83\\x1d\\xaa&\\x80\\xb9\\x0b]u\\xd2d\\x89\\x96\\xc6.\\x11\\x1d\\x12\\x01\\xeb\\x1d\\x1a\\xdf\\xb114\\xb5\\xa8$cB\\xf1^:\\xc2\\x1d\\xbd\\x83\\xc7h\\xa3\\xadFM`\\xf9\\x803\\x0bv\\xd4 \\xc5\\xcc\\xa9\\xa4\\xe4`H\\xcd\\xcc\\xacv\\xca#\\x16\\x8a\\x9b?\\x96%\\x97\\x1d\\x19@\\x9d\\xd9\\x1e\\xd1\\x94\\xbf\\xad\\xc3]%\\xef\\xca6\\xbd\\x94\\xf4\\x822yqZ\\xb4\\n\\xa8)m\\x94\\x02\\xfe\\xbf\\xcc\\xba\\xbe\\xb4~S\\xac[\\xb4\\xadY\\xb8\\xbek\\x92\\xbf$5m\\xd0A\\xf6\\x8e\\x189\\xd6fYB\\xfd\\x08\\xc2\\xb8\\\\x\\x97Z\\x04s\\x9dK\\xe2\\x83\\x80\\xf5bG\\r\\\\4t\\xf3i*\\xe6\\xe9qp\\x03V\\xaf\\xa5\\x90\\xd7\\xe9\\xd9bt#R\\x82\\xe6FU\\xab\\xf3\\x89\\x8a\\x81\\xa0\\x0fH\\xa9\\xff\\x00\\xaa.\\x1d\\xa12\\x17\\x06\\xc8\\xbd\\xad\\x8e,\\x0b\\xd5\\xcc<\\xca\\xb3\\x08V\\xce \\x92\\x81/J\\x03\\xd2]b\\xd5\\xde\"\\xc8\\xb1\\xa2\\x0bc7\\xcd\\\\|\\xc1G.~ \\x13w\\xd8\\xb9\\xbc\\x9f\\x12]\\xc5\\x99O\\x08\\xf3Ze\\x82\\x82h\\x02\\x9fh^\\x10\\xf3R\\xc4T$\\xb4\\xb1\\xc2\\x99S=\\x90\\xe6\\xa0\\x1aBs:K\\xbf&\\x16Dt\\xdf\\xe2\\x08\\xda\\x9ft\\x7f\\x12\\x83\\xa3q\\xaeJ\\x94\\x9a\\x1d5\\x92-\\xda\\xd6\\x82\\xb0L\\xf2\\x8f\\\\\\xb0\\xa1/r\\x80\\x93\\xb9\\x04\\xc0\\xfa\\xd8\\x01\\xb9\\xdc\\xb5{\\x85\\x02\\x1a\\xe2%\\x19pa\\x86\\x95\\x80\\xe3\\x88\\xe2\\xddgx\\xd8\\x9f2\\xbd*\\xdb\\x07\\x88\\x19V\\xbfZ\\xfdC/M\\xff\\x00,\\xb2\\xb9\\x0f\\xa4\\x17\\xef.\\xe72\\x80.b\\xb4L\\xac\\xc7\\x8a\\xfaR(\\xa8\\xaa\\xe0[9\\x95\\xb3\\xf7\\x92\\x86\\x1cz$k\\x1f\\x08\\x17G\\xb2\\xc2\\xae\\xe8\\xed*\\x1a\\xaf<z\\x93\\x0e\\x1b\\xf5\\xbf\\x9d\\xcc@\\x97\\x8a\\xcd\\xc0\\xadm\\xd7D\\x1c\\x84%S\\x98i\\xa9\\xadCup\\xb8q\\xb9\\x92\\xd7\\x98\\xe6\\xbdw|\\xc4}W=\\xa6~\\xd1\\xe4\\x95X\\xb3\\xb8\\xcc\\x8b4\\xf5\\xdb42\\x85\\xdd^\"\\xc0%\\x9c\\x90K\\xd7s\\x06\\x8cT-!\\t\\xdb\\x0c\\xc6\\xa5\\xb6s\\x0fR\\xc78\\x9b\\x8df\\xda\\xe4\\xa6\\x16<T\\x9c^\\xfeH\\xe0<\\xb6\\xe1\\xaas\\xfa\\x95\\xc7\\xdc\\xc2\\xb8\\xdc\\xe7\\x8c\\x1f\\xccj\\xa6E\\xb3q\\xcf\\x11U\\xfecr\\xcclf%\\xd4v\\xd6\\xba\\xb0\\xcc\\x87LLf\\xc7\\xde8T1[Q\\xd6]0\\x9f3\\x9e{J\\x9b\\xc5\\xf0J\\x87S\\x16\\xd4\\xe1\\x8b\\xdd!\\xde`\\x05\\x80)\\x91Y\\x94BY{\\x8d_xs.\\xd6\\xe1\\x1a\\x9c2\\xc5\\x14qD\\xa4\\xb1\\xf9\\x9d\\x0b\\xf7\\x8f@\\xd3\\xe6g\\xad\\xcb\\xdcT\\xb3\\xd1\\x99\\x12\\xd3\\xb4\\x151\\xe2b\\xbf\\xa0\\xea\\xd27r\\x86nP\\xc8YE\\x1c\\xd4a\\x0e\\xf7\\x94^\\x90\\x94X\\xf0\\x05\\xf6\\x88\\xdf\\xa3\\x1fo\\xd4\\xf4\\xb8\\xc3\\xbeeV\\x1b\\x80ya\\nk\\x17\\xf7fo3xL\\xfa\\xdch\\x95\\x89j\\xa9`v\\x9a\\x18\\x80\\x99>!\\xde\\xa2/\\x1f@\\xb5\\xa5\\xcc\\x0c\\x13\\x1c\\xc3r\\x83g\\xacx.P|~`\\xb3\\xb4\\xe3qD\\xaeI\\x89)\\xe9R\\xfa9\\x8f\\x14\\xc0W*T\\xc2\\xf2\\x12\\xd7\\x93\\xd9c\\x1f\\xd4\\xee\\xa3\\x86Ox@\\xac\\xc5\\xd2T\"3(\\xe54\\xc3\\x1a\\xabf\\xa3U;z\\xc0\\t\\x02c{\\xf1\\x1a,f\\xafQ\\x94\\x8c\\xce\\xf0J\\xfdG\\x13\\x00m\\x18D\\xec)\\xf6c!\\xba~\\xf6\\x0c#\\xd6\\x04w\\x8c\\xcdI\\x93r\\x84\\xcf\\xd0\\xc1\\xde\\x1b\\x8cR$\\xecF\\x8dL\\xe52\\xccI\\xdc\\x94M\\xaa\\xa5\\xe8\\xf6\\x8b\\x1e\\x92\\xa9\\xedR\\x9c\\xe2\\xacf\\n\\xaf\\x12\\x82\\\\\\xb9\\xf3\\xf4\\x8b\\x81\\x02\\x01\\xf4j8\\xed\\xfa\\x1b\\x98\\xecqK\\x9b\\x84\\r\\xdfxI\\x9d\\xdcf\\xa2\\x15\\xb8\\x97\\xe3\\xc0\\xfbf!\\\\\\x13\\xaa&\\xf9\\x9b\\xfa\\x91\\x7f\\x00\\xdc\\xae;O\\xb4\\x0c|\\x83\\xf7\\x84\\x06\\xfa\\xc1gQ\\xe6:\\x98>~\\xa1\\x8a\\x0e&\\xf7\\n\\xaa^;\\xc3\\x9b\\x94_\\xf3/\\x05\\x82\\xd0q2<\\xcc*=\\xcaF\\xab>\\x92\\xe0\\x82V\\x87H\\x0b,\\xb3S\\x14]\\xe6\\xbfCO3Iti\\xf4\\xb0]E\\xfeeB\\xe5\\xccJ\\xf3\\xafh,\\xdf\\xbc\\x149\\xa2\\xf8\\x94\\xf1\\x96\\xa20\\xc1\\x0c\\xed\\x80?S\\xa7\\xd1;\\xd8\\x96\\xccX\\x91\\x93\\xcfPf\\xfd\"\\xce\\xe5\\x11\\xaaG\\tH\\xac\\xe9\\xf5\\x95\\x16\\x15\\xee`\\xc2\\xc6XF-\\xe3\\x12Z\\x98\\xc5}#\\xc8\\xf5\\x9a>c\\x99\\xae\\xa0\\xcf\\xacb\\xd2b\\x17(\\x16<\\xc0\\xcaf\\xfa\\x19G\\x11s\\x13Q\\xaanD\\xb8\\xaf\\xa0\\x8b9\\x06\\xca\\x8b\\x03bkqd\\x9a\\xab\\x8dg\\xb6~ah\\xd9\\x97\\x15\\xc7_\\xc4\\xad\\xfe\\xa6\\x8en\\x04\\xb2\\x15\\x96\\xf4\\x88\\x0b\\x05\\xe3\\xa3R\\xc3.\\x01S)Z\\x9d\\xf8\\xed\\xab\\xef)\\xc4\\xcb\\xe99o\\x10\\x95]K\\x87\\x88e|,#\\x05H(!\\xbe\\'gY\\xc2U\\x8e\"\\x0e\\xf3#\\x9a\\x84\\xa9\\xcc\\xcc\\x0e1\\x1c\\n.\\x00\\xe5B\\x05LS\\x14\\xcaQu\\x16\\xc8\\xc9F~\\xf0\\x19\\xccA\\x96s\\xd2\\xe5\\xca6\\xbcf\\xa5\\xac\\xe92\\xe5\\xb3g\\xa4N\\xcc}\\xff\\x00T:\\xe0H\\xc0\\xe9\\x16\\x06e]\\x91X\\xb1\\xce \\x1b\\xeb\\x99\\x93(q>I\\xc95\\x90\\xb00\\xd3\\xea\\xa9\\xb8\\xc8\\x0ea\\xf76\\x82hl\\xd44\\x04\\xa9\\xa7\\xb4f\\xcc\\x14\\xa7\\x17*Q\\x89\\xc4v\\xa4U\\x07\\xa30p\\xa0x\\xba\\xa4`\\x1c\\xf5\\n\\xebq\\x19}!\\x16\\x9e#KEo\\x12\\x8b\\x9672u\\x8d\\xa8\\xc9\\x068\\xb2\\xa5\\x0b\\xe8\\xde:@K\\xd9\\x01\\xa4\\x97\\x1a\\xe69\\xa2\\x96\\xfd?W\\x86\\n\\x99:\\xc2uJ\\xf1)\\xa7g2\\xeao\\x0e.^\\xd7\\x89\\xb4\\xd7R\\x8c\\xe6_Y\\x94\\x02\\x15T\\xf7\\'S\\x01\\n\\xd7I\\x98t1\\xa0R\\x02\\x95\\x1d\\xa3\\xd22\\xb5\\x12U\\x08\\x17Q\\xd5\\xf5\\x8bP\\xdd\\x94\\xc3\\xab\\x95\\x14\\x03\\x8b\\xe9\\xef1)\\x98\\xe7i\\xa9P\\xcd\\xc3\\x0c\\xcb_ie\\xc7\\xba\\x98\\n\\x89\\x7fI\\x15%\\xcc\\xd1\\xa4\\x08\\xd4\\xd5\\x8c i`K\\\\\\xa8\\xc9\\x91`\\x91\\xa0(\\'\\x7f\\xd5\\x81\\xef\\x05\\xc1\\xc2hN!(\\xac\\xeeV\\xd2f\\x98\\xd4Z\\x95T\\n#+q\\xb1\\x04*a\\xf9x\\x0e\\xacM\\x8ee\\xef;$p\\xd6\\x03\\xaec\\x0fY\\xaa\\xb9\\x8c\\xc3~\\x90\\xb5U\\x19R\\x99\\x97}\\xe0\\x1f0\\x06\\xdcD\\x9cj[VS\\x94\\xc4\\xdbN\\xb2\\xc3\\xb4\\xcb\\x7fI.%\\xcb#\\xcc\\x0e\\xefQ\\x15\\xa0\\xae\\x90_\\xdfB\\xc5V\\xc6\\xa1\\'\\x03\\x81\\xb8AC\\x83\\xf5\\xcb\\x042J\\x14\\xe6Y\\xe8\\xd4\\xab>e\\x13\\x84H\\xca9\\x8a\\xc9\\xa4\\xa0[\\x96\\xd3k\\xf3<\\rC\\xb2i\\x01=\\xe6\\x0f/+p\\xa8^y\\x98;\\xc1\\x06.\\xd1~f\\x00\\xe2fnW\\x8d3\\x06p\\x1c\\xdc\\xbe\\x97\\x8e\\x07\\xe6\\\\\\x05t \\xc6\\x0b\\x152\\xfe\\xcf\\x99id\\xbaT\\xff\\x0034\\xb1\\x8fiM36\\xae\\xb1*\\'t\\xae&\\xb9\\xa8k\\xc5\\t\\x9f\\xd6\\xb2\\xa3\\xda(\\x93\\xdadp/56\\x86\\xa8\\xfa\\x0e\\xf1\\xf4\\xaa\\x1a!r\\x95\\xf3\\x10\\x96\\x97\\x95\\xef(\\x18\\xc4\\xce\\x94[X\\x8b`\\x9e\\x92\\x10c\\xe3\\xd5\\x04\\xdb/\\xacM\\xab\\x12\\xad\\xe5u!\\x98&\\x17\\xb4G\\xca\\xd7F\\x08\\xaa\\xb5s\\x01\\x0c\\x18\\x04\\xaa\\x95\\xf4\\xa6\\x9e\\x8c\\xa4\\x1d\\xf2G\\xf4\\xda\\xe1\\xb6^\\xeb\\xac\\xdat3\\re\\r\\x8eF\\x0e\\xc4\\x1f\\xb0\\x1f\\xa4\\xea\\xf5\\xc1\\x99\\xdeVfOX\\x14\\xd5@\\x90\\xd1\\xfd\\xc6\\xa9n\\n\\xef\\xe0\\x94\\xbe\\xd1j\\r\\x97\\xf6\\x97Y)\\x97-f\\x10G\\xbd\\x0c7b\\xe2\\xf5\\x952\\x1cQ\\xe7\\xac\\xb0R\\xd7pL\\xb3\\x80\\x94\\x8a\\xe2\\x02\\xaa\\xb5*\\xae\\xa5\\xbd\\x93\\x88jy\\xb2\\xfd&\\xbb\\x9bA\\x97\\xe8(Y\\x99pkFH\\xcb\\x96\\xdf\\xc44\\x07\\xec#\\x1618\\xef6\\x13\\xb5*\\x99Y\\x98UA\\x95\\x1b,mP\\xc3\\x8a\\xed\\x98\\xe6\\x19w\\x12\\xcbj\\\\V7\\x14\\xbe\\x92\\x96\\xb9[\\xbb\\x8c\\x11@\\xed\\xf4+v\\xb2\\xef\\x02\\x9a\\x1cJ\\x93\\xa9\\x05\\x18\\x95c/cy\\x933\\x01X\\x9e3\\x12fo\\xe8\\x10\\xe1\\x8d\\xbd\\xce\\xe2t\\xa6\\xff\\x00a2\\x95\\xae\\xd2\\xa5\\x96?EY\\x92\\x04\\xd8\\xc4\\xd7\\xbcyB[\\x99\\x9d\\x81P\\xce\\x161\\xd7%\\x06\\x88|\"\"\\xa6\\xfcF#c\\xbc/.nRw\\x81\\x96\\xab\\xeb\\t\\x02\\rc0\\x8c\\xd4\\xc5)\\\\C\\x87\\xa43\\x01!\\xcb\\xa3\\x12\\xde\\xf0\\xa1\\xd6fj\\x0b\\x9d\\x1c\\xcd\\x8dk\\x8e\\x90\\x16^\\xa4g=F\\xe7\\x1f\\xb0\\x19B\\xe4.!SW\\x12\\x8dj\\x0f\\x19Y\\xb9\\xac\\x19\\x9aK\\x11\\x00\\xf1D-\\x85\\x92\\xa9\\n\\x1c=e\\x16\\x04\\xdc\\x19\\xef\\x1be\\x1c\\xa8\\xae\\xa0\\xb5\\x08c\\x19\\xd4\\x01\\xd4\\xa1\\xb8\\x0bvWy\\xac\\x96\\x1e#\\xc6\\xf7.\\x9cK\\xa6f\\xde\\xf9\\x8a\\'\\x87\\xd3i:\\xd9p\\xb2\\x0e7\\xe2\\x05;\\xde\\xa6\\xbbV\\xf8\\x87\\xec\\x02\\x1b\\x11\\xe6^\\x95\\xdaV:\\xa6mJ\\xeb5\\x83_I\\xb7\\xe2b\\n\\x9a}*k\\r\\xc6!\\x00\\xcfQ\\x1d\\x18\\xc4\\xcc\\xf4\\xe24\\xb2\\xe2n\\xf1\\xe2\\r\\xc5\\xccL\\xd7\\x98\\x05\\x17(\\x0e\\xd0\\x96f<\\xb0\\xd9\\xb8\\xf1eTt\\xc0\\xb2\\xe5Q\\t\\x14\\xa0\\xbe\\xfcAf-`\\xe7\\xaa\\xc9\\xd29\\xf6Z\\xae`\\x17\\xc0?cS@\\xdc\\n;JV&\\xe6d\\x14C\\x0e^ \\xba\\x86\\x18\\xca8\\xd4f=\\xe1 M\\x87\\xb9\\x1a\\xc0W\\x17\\x0c\\xf9y\\xa6-\\x9c\\x07\\x99z\\x00C\\x99\\xa67(5o\\x1d\\xcb\\xba\\xf1-e\\x86\\x0b\\x05g\\x11`\\x17\\xd0\\xb5\\x116\\xb0%\\x19f*X6@\\xa6\\x1a&D\\r\\\\\\x18\\xea\\x1c\\xf6\\x94m\\xcc%\\x98 0`\\xfd\\x8caR\\xe6\\xac\\x99\\x81E\\xcb\\xda\\xc6\\x9fxw\\xf4\\x8cC\\xc4Kx\\x80\\xacj\\xa3l]L\\x90>\\xb2\\xf24V\\xa5$\\x1f\\x95\\xc1\\x12\\xd5=tAq\\x18\\x87]Lc<\\x89pmo\\x0f\\xb4{J\\xaeGx\\xd2\\x08J\\xa1\\x14\\x1d\\xc4\\xe7J`\\xef\\x85\\xddD\\xb4\\xbdmA+G\\xcc\\x02\\xc1q\\xa3\\xd3\\xbc\\xd6nP1\\x1cF\\xc7(Pis,\\xc72\\xbc\\xeb?\\xa7\\xec\\xac#\\xc8C\\xb6\\xf6J\\x95\\xa9Y\\xa8\\xa9\\x95=f\\xee\\xa9\\x0e\\xdb\\x85\\x80]\\xcbP\\xecsP6\\xf2rL\\xe1X\\x1e\\xc8\\xe8\\x95@\\xbc\\\\\\x18\\xe9\\xadC\\xab\\xf1\\x97\\xba\\x8cZ&\\xfaBi\\x7fI\\xd7\\xe0\\x82\"\\xbc[O\\xb4;\\xc7\\xde\\x01\\n<\\xf1(#OA\\xcc\\xc4hx[&]\\x99\\xd4\\xfb\\xc1\\x8eQs\\x1c\\xbbDr]\\xb0\\x9aL\\xbd%v\\x90v\\xd7\\x10\\xc8(\\n?e\\x17\\'\\xb2 c$\\xb2\\xde\\xa4p\\xe7\\xac\\xa1&2\\x13-\\xc4X\\x97e\\x9f\\x12\\xa2\\x0cv\\x16\\x1e<K\\x85\\x14f!\\xca][0B\\xbdc\\x01\\xd6\\x10\\x19n\\xb9\"\\x96%Z1W3.4(*\\xa0&\\xdbT,a#\\xf8\\xc3\\x9e%\\x91a\\x86\\xae\\xcf\\xfd\\x94j\\xa3X\\x8dI\\xc2\\xe0\\x85\\x93z\\xd4R\\xc0\\xb8X\\xa3\\x89\\x9e\\t\\xaa\\xb2\\\\\\\\\\xc2_\\xa3\\x03\\xe68\\xe9a\\x81Q|C\\xf6FZV]\\x1deLu\\xd4E!\\x8d\\x90},&^\\x11\\xdeKc\\x7f\\xf9--\\xe6\\x16Q\\xf7\\x84`[\\xbc\\x1a\\x8c?de\\xbf\\xa4ip\\xbe3\\x0eio\\xd6b\\xab\\xbe\\x90%\\xcd\\\\u\\x91\\xdc\\xdc\\xdaWY\\xc5D\\xa5\\xb1<!\\x1cG\\xbc}\\xa5\\x06~\\x853\\r^\\xb9\\x98nb\\x8a5\\xfb+\\xb4\\xcf\\x04\\xb4\\xf2\\x18+\\xb84\\xcb\\x8a\\xcbP\\x95\\xac}\\x15?h\\x14\\xf3\\r\"2\\xec\\x88>`lF\\xabLc\\x17d\\x01\\xb41,J1r\\xe6\\x91\\x98\\xab\\'\\x12[nzFx\\xa9\\xd6\\xcc\\x10L54&/\\xa1x\\x96Ch\\x10\\x05\\xbb\\x88\\xdcN\\x97\\xaf\\xec\\xa2m$v\\xbc\\xd6\\x08 \\xdeR\\xe5`\\xab\\x16U\\xb7\\x99X\\xae\\xfb\"\\xd3\\x99\\xefK\\xbd\\xe6kr\\xed\\xed<\\xe2\\xac\\xbc\\xca\\x11/?E\\xe5\\x16w\\x06\\xf7\\x1f\\xd3y\\xf2\\xfa\\x1e\\xe9\\x95\\xcf\\x14\\xc9\\x81i+\\x135\\xc0\\xcb(\\xac\\xb4\\xeb\\x11+\\x9f\\xd9m\\x10\\xe0\\x94\\xdc\\xe9\\xa6P_:c{\\x93\\x8b\\x99\\x8d\\xd41\\xc0\\xea\\x10\\xa4\\xd4\\x8f\\x18\\x96\\x12\\xec\\xcci\\xde/IjJSP\\xb5\\xa8^\"M\\x8c\\x17\\x94\\x135\\x07y\\'jV\\\\\\x15\\xa9\\x83\\x1fd\\xb9s\\xcaV#\\xe9\\x01Z&\\x84\\r\\xd7W\\xa4\\xb1#Pp\\x1c\\x11\\x8eK\\xc4\\xd5\\xe3\\xf6;\\x17\\x97P\\x02\\xba\\x88\\x1f\\xcc8\\xbeVcb\\xccT7\\x92\\x00g\\x1cK\\xc7\\x99k\\xddEq=~\\x8b\\x19\\x88\\xf1r\\xf8Z\\x1fH\\xad\\x90\\x01\\x82\\x07I[\\x18\\x9c\\x02x\\xfd`\\xe54\\xd4\\nD\\xcf\\xd0s\\x8ea\\x97\\x84\\x96\\xb1\\xddw=\\xd9\\xddl\\x00\\x0e\\'\\xc4\\xfd\\x8e\\xeapG\\x1d\\xf3\\x16\\xcb\\xb5\\x98\\x1d\\ti\\x9cYq\\xb8\\xa8`\\x05\\xb9w\\x1bS\"a\\xcc#\\xb9\\xda\\x81\\x02\\x10\\x94LNa. 0\\xde*8\\\\7;PW\\xa9\\x90\\xccoH/\\xcc,.\\x03k\\xc45\\x1a8b\\xcbmC`\\xe2\\x06\\x90\\x9f\\x0b\\xf6+\\x87\\xa4\\xc4\\xb1\\xd5qwq(\\xb81\\x05!\\x95\\x8d^\\xb8\\xcc\\xb8\\x9cW2\\x91\\xb2\"\\xdc!w;\\xd1\\x93.\\x98)\\x1fxP\\x84\\x11tn\\n\\xd8\\xea\\x8d\\xb9\\x94\\xf3\\x15\\xb7\\n\\xf1\\x07_\\xa1Tb\\xe2g\\xa4\\x00\\xb2\\x06J\\xeaUk\\x7f\\xa7\\xc4\\xa9f\\\\\\xba\\xac\\xa8k*\\xd6\\x11S\\xe1~\\xc5Uz\\xce\\xb8\\xd8\\xf1\\xc4zE\\x94\\x06\\xd6 tj\\xbc=eZuu\\x1d\\xa2bg\\r\\x92\\xa6\\xd2\\x99u$sTC+\\xa434\\xeb,\\xdc\\x05\\xf1R\\x92\\xf7(%\\xdc\\xd3\\xb9Q.\\xc5\\xc7\\x94l\\xa6\\xa3x\\x06\\xb5b\\x0c\\xa4\\xeb\\x9f9\\x81_\\xa4\\xe4:\\xd1*,\\xb5)\\x08R\\xb2\\xc9\\xcfW\\xec8\\x87I\\xbe;v,}\\xa52h\\x0c\\xbej^\\x8f\\xf9\\xac\\x163f\\r=\\xa58i\\x97M\\xa5-3\\x98\\x98\\xf1.9\\x88N\\xf2\\xb1-\\x11\\x12\\x08e\\x89[,e\\xe3\\x0c\\xe92\\xce\"\\xcfx\\x1d\\xc4\\xb6b\\xfa\\xf4r\\xc7\\xca\\xd7\\xa1\\x8e\\xad\\x1a\\xb7\\x1a\\xd7\\xa4\\xa4\\xb6w\\xeb+\\ne\\xd4\\xa4u\\x86\\xd1\\xcf\\xd2\\xc71\\xa0GO\\xeb\\x03f!h#\\xf6a\\xcaQ\\x9b%}\\xa3#\\x9d\\xca\\xe3\\xc4\\xb2\\xce\\x08\\xa8\\x12\\x18k\\x8f\\xa0\\xa4\\xaa\\x88\\xac\\x93y!L$nP\\x16\\x1azBj\\xe0<LY\\x82\\x05\\xc0\\xaf\\xa3\\xd9)\\x15)\\x83R\\xa0\\x02\\x18\\xa4\\x1dV\\x04\\xe6\\xf5j.C\\xf5\\x99\\xcd\\x97\\x8a\\xe0\\x8fmx\\x9c\\xd9\\xa0\\xe5\\x8cq\\xa8`k<\\x1d&i\\xa4\\xa1`@\\x86 \\xb1_\\xea\\x18S\\x0c\\xaa;\\xb8\\x86\\xd462\\xe5\\xe8~fIcL\\xb9\\xa4\\x1b\\x0fI\\xb4\\n`\\xb8\\x86}\\xb3\\x0bN\\x19I\\xacG7\\xef\\x18e\\xb2>\\xad\\xaf1\\xc5\\x89\\x01\\x94\\xa6:\\xca\\x1c\\xcc\\xa5\\x0eH\\x13$\\xf5\\x8fU\\xef3\\x92\\xbe\\xc4\\xb0\\x03\\xbd\\xcck\\xe5\\xe6\\x92ml\\xaa\\xdc\\xab\\xde\\xa6~%V\\xb6\\xa0\\xef6\\x1d\\x01z\\xb2\\x82\\xdb\\x86\\xbe\\x83L\\x18f\\x07\\xeaK\\xe8\\xa3\\x99\\x90\\xed\\x99\\xd7\\xe9\\x07n\\xd4w\"h\\xcd\\xd4\\x03\\xe0&$`\\xf6eSO\\xa3\\x0e9>\\x95s)T\\xce\\xe0A\\x16\\x1c\\xf4\\x81\\\\\\xc1y\\xef\\x18\\xcbzM\\x14\\xf2\\xef\\xed;\\x1f\\xa4w\\xf0\\xc6\\xf3\\xfa\\xc4\\xaa\\xfb\\xd2\\xd2\\xe5\\xf6\\x8e9a\\x170\\xe2\"\\xeea\\x05@\\xbb\\x87\\xb3\\r\\xc5\\x04Y\\xfb\\xf8\\x807\\xc4\\xd0\\xaf\\xa7x\\xed\\x95\\x03\\xf5\\x80J\\xc4\\xaa\\x16\\x08q\\x03\\xc3\\x8bQ\\xb5\\xa1\\x8c\\xec\\xf7\\x83\\x11\\x16J\\xc0V\\x1fI\\x86\\xe5\\xe6\\x0fxq\\xf4\\x85l\\xc3,\\xd1\\xb3\\xa9\\x10,\\xcc\\xa1\\xdcK\\xc2\\xfb\\xc1\\xdd3\\xd2Z\\xb5\\n\\xe7\\xe25\\xef\\xe2\\x07\\xab?\\xdc\\xc4{Jn\\xe5\\x08\\xdb\\x01D\\xa1\\x0cbe\\xdesy\\x95u\\x9e\\xef\\xafH\\xd4\\\\0\\xca\\xfa\\x02\\x07\\xebM&\\x90C\\x0b~H6s\\xd1\\xed\\xcc\\xc8.wn;\\xae\\xb0\\xa4\\xa8\\xdb\\'C\\x0ckS|\\xfd.\\xd4\\xb8\\xcc\\xba\\xb7\\xe9\\x1f\\x18\\xc4j\\xa3q-\\x1e5\\xeav\\x04\\xeb1$\\xc2\\x05\\x83\\xe2P.e\\x82\\x0e\\xbf\\x13-\\xe0\\x8b\\x14j\\x16\\xfbh\\xd6\\x0c\\xc0`\\x96\\xec bk;@\\xfdx\\x1c\\xc3\\x043y\\xa9t\\x97<\\xea\\xa9dy\\x1fx\\xfaK\\x1c\\x92\\x87\\x89\\xd9-5\\xf5\\x95z\\x9e\\x94\\xcd\\x9d\\xce\\xa4\\xa5C\\xc5\\x06j0\\xe9-Z\\xb8\\xfa\"\\xe8\\x8c\\xe8N\\xb5\\xbe`\\x1e&L\\xf6\\xa08N\\xa9Z\\xca`{z\\x02\\x00\"7\\xd0\\xecK\\x95\\xc1\\x06?\\xe2\\xab\\xcf\\xfd\\x07\\xff\\x00[\\xff\\x00\\xb7\\xfe\\\\\\xcd\\xbe\\xa6\\xf2\\xa2\\xe7\\x00\\\\\\xd73\\x8a\\x9c\\xc6\\xee s:\\x89\\x93\\x89\\x9e\\xa6\\\\NQ\\x856J3\\x08I\\xd2w\\'K\\x10\\x10\\xeb<!\\x9e\\x10\\xf7\\x95\\xee\\xc2\\xbcz\\xc4\\x1cCz\\xcdA\\xd0\\xb7\\xac=f\\xf8&\\xfa\\xa6coX\\x00\\x07\\x13\\x1a\\xd5\\x97\\xf0\\xbe\\xd2\\xa82\\xef\\x0c\\xca\\xc7\\xfd\\x87\\xff\\x00Z\\xff\\x00\\xeb_Q\\x06\\x1c>`Xu\\xa9T_\\x8e\\x99\\x11\\x15L*\\xa6)\\xc9\\x0cc\\xe8B\\xa2B\\xf1,ss\\xa6\\xb3;S)D=\\xa1\\xb3P!p}\\x0c\\xb4\\\\\\xe6p\\xbd!\\xe9\\xa8\\xfb#\\xd1\"\\xda\\xea\\xe8B\\xb4:\\x0e\"\\xada\\x8dQ\\x98o\\xc7\\x98\\x17m\\xad\\xcc\\x89\\xcf\\xe8\\x95\\xff\\x00\\xdcA\\rC\\x87\\xcc\\x19\\xd4\\xc5\\xff\\x00zs\\x1d7\\xc32\\xd7\\x11\\xd7\\x18\\x8cgL:J\\x95\\x00\\xb5Q0(\\xd4\\x07Xa\\xb8\\xe1\\t< Z#6\\xc3\\xbe\\xb3\\x07H\\x10\\xdc\\xb1\\xb7\\\\\\x10_\\xfb\\x07\\xac\\x1d\\x8a\\xbd\\xde\\xb1\\xad`Q\\x08;\\xa7\\x8c\\x94\\xa8\\x97~\\xc7\\x01\\r\\xc1\\x86\\t%K\\x12\\xa3\\x05\\xdcMI\\xc4=u\\r\\xaa\\xb1(\\xf3\\x98Z\\x81\\xd6T\\xe6m\\xd2X\\xc5af b\\xbe\\x97\\x84\\xb4nS\\xb7\\x98\\x8d\\xcb\\x88\\x06e\\xb5%\\x10\\x80\\n\\xcfY;K\\xe9VB:\\x18(q\\xc1\\x00)\\x9e~\\x85\\xe1f\\x9f\\xb0\\x10n\\x1b\\x06c\\xf4\\x949\\x85\\x97\\xa9\\r@\\xb2)\\x13\\r>eH\\x90\\xe2\\xa0\\xeb\\xa9K\\x81\\xa9D\\xb1*\\xfaJ\\xe7\\x882\\xe3\\xdaf\\xa7\\\\\\xf5\\xa1X\\x0e\\xd8]\\x10\\xa1\\x98]\\x0fh\\xfc\\xc1J\\xdeB\\xfd\\xe5\\xc0`\\xcd\\xc8\\x13\\x99\\xecL\\xab\\xc4\\x15\\x04\\xac\\xcb\\n\\xfdyT\\xbe\\xd13\\x0c\\xe3\\xe8zT?Mh\\xb8+G2\\x9a\\x16\\x18c\\x0e\\xa0\\xc5@\\x9e&\\xb2\\xbc\\xca\\xcc\\xa4\\xfa,u\\x95\\xdb\\x10c$D\\xad\\xe5ew+\\x94\\x12F\\xf2\\xce\\x90\\xa8\\x04\\xaf\\xf4\\x0eV\\x12\\xd4\\x01\\x89W)\\xa7\\xd1\\xccc\\xccs\\x03\\xe8\\x12\\xa6\\r\\x9f\\xae\\x190C\\x05A\\xbc36\\x13\\x02\\x9e\\x92\\xac\\x99\\xa1\\xb4\\xe3\\x1f\\xac\\xe2`Y:\\x19\\xb4\\xe9\\x95\\xf4yL<C\\x1af\\xa3\\xbd\\xb11\\xf6\\xb9O\\x82U\\xb7\\x1aq\\xa2\\x10L\\xfbM\\xe2c\\xbc\\xf0p@\\xb5\\xbb\\x99\\xa6\\x04\\x12\\xa6G\\x82\\x07\\xd4?`\\x81\\x04\\x10C:\\x19b\\x9d13\\r\\x88\\xa0\\x06LE\\x04\\xa6,\\xcc\\xb8\\xf5\\x9d\\x1c\\xc2\\xcd\\x90\\x97a\\x06nvL\\t\\xc47\\x02\\xea\\n\\xf3:\\x92\\x9d \\xbc\\xb8\\x94]BJ\\x86F\\x8a\\x94\\x00h\\n\\xa8k\\xe8\\x08%[S\\x01+\\xea\\x12\\xa0\\xd3\\t1\\xf4\\xdb\\xf5\\xa0A\\x07\\xd2\\xb6\\x0e\\xa0m\\xcc2DqC\\x7f#\\x10\\x91\\x14\\x15\\xdc\\x81\\x9b\\xd4vf=\\xa2\\x8e>\\x8b%\\x19^\\xb2\\xfc\\x13\\xa8@\\x95<b\\xcf\\x9e@\\xd3\\x02\\x07\\xbf\\xb4:L\\x9e\\xf1\\xa5Q\\x17\\x1c\\xcc\\x97\\x02T\\x12\\xa0\\xfd\\x8c\\xd0\\xa8#\\xf4\\x17\\nv\\x1e\\xa7O\\xa4`\\x07^.clN\\xc7\\xd1J\\xe91\"\\xaf\\xaa\\x94\\x88\\xfaUX\\xca\\'\\xa4\\xc9\\x97\\xf9u,,\\x00|\\xc2t\\x86h\\x96_\\xa5A\\xff\\x00\\x03\\xea\\tQY_\\xb0\\x00\\x82]\\xf4/\\xdc$\\xb5\\x7f\\xe6\\x0bba\\x88\\x13\\xbegI\\xbc\\xdb1\\x83\\x08\\xe2%\\xa1\\xeb\\xf4\\xb4\\x94\\x95z\\x95)\\xbe\\xd1,\\x8fbT\\x19\\x9c\\x9fy\\xb6\\x18b5k\\x8f\\xa5\\xc9+\\xfe\\xc1*\\x1a\\x7fa\\x02\\x0f\\xa5l\\xb7M\\xcc+I\\xf0\\xe6eO\\xba\\x13\\xb3_C\\xe8\\x86\\xe0\\xa6\\x19\\xfa\\x1c&\\xf3\\x0f\\xa2\\xc5*\\x0b!P\\xf3\\xff\\x00\\x08\\xf44q\\x0c5\\x1f\\x12\\xc7\\xe9\\x1a?\\xf8\\n\\x81\\x03\\xf6 \\x10}b\\xe5\\xf8\\xe2\\x06elf\\xe2\\xf2ALu\\xe2xE\\xb7P3\\x03+\\xb4\\xcap\\xe9\\x07MF\\xcc\\xdb{\\xb7\\xa1\\x0cj9\\xeb6\\xc30\\xc0\\xb7\\xe9P\\x7f\\xf2\\x04\\x0f\\xd8\\x8a\\x82\\x1f\\xac\\x18\\xd3\\xf7\\xc1V\\x841\\xed0\\x0e{\\xed\\x18\\xf1(\\xb8\\xfdN&#\\x99h\\xed6\\xba\\x08\\x16=\\xee\\xdd\\xa6\\xdf\\xadd\\xed\\xf4\\xac\\x81\\xff\\x00k\\xe8\\x08\\x1f\\xac?@\\xff\\x00\\xa0\\x82]\\xf4\\x90l\\x94\\xebW\\xcc\\xd3Q\\xc2.\\xe2\\x93|e\\x93\\xb2T(\\x82\\xe5v\\x8d\\xfaA\\x08\\xc1\\xea\\x8e\\xdf\\xa5Q\\x1f\\x040\\xfaF\\x8f\\xda@\\x95\\xf4\\xaf\\xf9\\x0f\\xac0\\xd9\\xb2\\t\\xa7\\x1ft\\xb4\\xa5\\x9b\\x88\\xe9\\x95\\xcfH\\xcb\\xa9g\\x89a*\\xb1\\x02bSY\\x8dy\\xc3q\\x80\\x02\\x83\\x01,\\xfaJ\\x8b\\x976\\xc2(\\xff\\x00\\xab\\x8a_\\xecb\\xa0\\xff\\x00\\xa1\\x07\\xd6\\x10l\\x85\\xc0\\xeb\\xeb\\xf4\\x89\\x06\\xc67k\\x8f\\xa6\\xdfC5D\\x05\\xd5\\x08t\\xf5\\xeb\\r\\xb1\\xa5\\x04\\xf4?@\\x80\\xfd\\xb8\\x15*W\\xfc\\x03\\xe9Y(\\xc9>\\x01z\\xc3\\x98j;\\xe1\\x85\\x03H\\xc3\\xb4\\xcd@\\xb6u\\x06{J\\xb7\\xd0\\xa2y\\x19\\x830T\\x0f\\xfaQE\\xfbH\\xaf\\xab\\x98!\\xfa\\xc5M\\x92\\xb5\\xb94\\xc6\\x02\\x89\\x8cU\\xd7\\xe9Yz\\xc9\\x8f\\x0f\\xd1\\xa8\\x941\\xb8\\xcbh*s\\xff\\x007\\xf5\\x17\\xd4\\x1f\\xb4\\xd4\\xaf\\xa0\\xff\\x00\\x88)1\\x94\\xa9\\xdf\\xd2\\xc7\\xbf\\x8e+\\x95O9K\\xdb\\x94\\x12\\xa25\\x8c\\xa8\\xff\\x00\\xe6\\x02\\x07\\xe9\\x87\\xe9\\x87\\xd0\\x7f\\xc4\\x02\\x8e \\nc\\xb1\\xb1\\x83_.!\\'Y\\xa8Qr\\xe5\\xb2\\xaf\\xfeA*\\x04\\x0f\\xdbJ\\x83\\xebY\\xbe\\x83+%\\xb8c\\xb8\\xca\\xb1\\x99.\\xf0,\\xebJ\\xaf\\xfe%J\\x95*\\x04\\x0f\\xdb\\xc20\\xfdP\\x83r\\xec0\\x85Ne}\\x15\\xf5\\\\\\xff\\x00\\xf0*T\\xaf\\xd3\\xb8~\\x9a\\xbe\\xa20\\xfdWC\\x1f\\xfc/\\xe9\\xb6\\x07\\xfc\\xeeT\\xaf\\xd4\\xac~\\xadPA\\x18~\\x83\\xfa\\xd4\\xaf\\xfa*W\\xeb\\x01\\xfd`\\x95\\x18\\xc3P\\xfd\\x15\\xff\\x00\\x00>\\x81+\\xff\\x00\\xba\\xff\\x00\\xfb\\x87\\x07\\xf5\\x95\\x04\\x10J\\xfd0_\\xa0p\\xfd\\xd8?\\xfd\\xc6\\x7f\\xff\\xd9',\n",
              " 'fear.jpg': b'\\xff\\xd8\\xff\\xe0\\x00\\x10JFIF\\x00\\x01\\x01\\x00\\x00\\x01\\x00\\x01\\x00\\x00\\xff\\xdb\\x00\\x84\\x00\\t\\x06\\x07\\x13\\x13\\x12\\x13\\x13\\x13\\x12\\x16\\x16\\x15\\x17\\x18\\x18\\x19\\x19\\x18\\x18\\x18\\x18\\x15\\x1a\\x18\\x17\\x18\\x18\\x18\\x16\\x18\\x18\\x18\\x18\\x1d\\x1d( \\x1b\\x1d%\\x1d\\x19\\x15#1!%)+...\\x1a\\x1f383,7(-.+\\x01\\n\\n\\n\\x0e\\r\\x0e\\x1b\\x10\\x10\\x1a-%\\x1f%7---5-----------------------------------------/---\\xff\\xc0\\x00\\x11\\x08\\x00\\xc2\\x01\\x03\\x03\\x01\"\\x00\\x02\\x11\\x01\\x03\\x11\\x01\\xff\\xc4\\x00\\x1c\\x00\\x01\\x00\\x02\\x03\\x01\\x01\\x01\\x00\\x00\\x00\\x00\\x00\\x00\\x00\\x00\\x00\\x00\\x05\\x06\\x03\\x04\\x07\\x02\\x01\\x08\\xff\\xc4\\x00C\\x10\\x00\\x01\\x03\\x01\\x04\\x07\\x06\\x03\\x06\\x05\\x02\\x05\\x05\\x00\\x00\\x00\\x01\\x00\\x02\\x11\\x03\\x04\\x12!1\\x05\\x06AQaq\\x81\\x13\"\\x91\\xa1\\xb1\\xc1\\x072\\xf0#BRr\\xd1\\xe1\\x14b\\x82\\xb2\\xf13\\xc2%c\\x83\\xa2\\xb3\\x15$CSs\\xff\\xc4\\x00\\x1a\\x01\\x01\\x00\\x03\\x01\\x01\\x01\\x00\\x00\\x00\\x00\\x00\\x00\\x00\\x00\\x00\\x00\\x00\\x01\\x02\\x03\\x04\\x05\\x06\\xff\\xc4\\x001\\x11\\x00\\x02\\x01\\x03\\x02\\x04\\x04\\x05\\x02\\x07\\x00\\x00\\x00\\x00\\x00\\x00\\x00\\x01\\x02\\x03\\x111\\x12!\\x04\"2AQq\\xc1\\xf03a\\x81\\xb1\\xd1\\x13#\\x05BCR\\xa1\\xe1\\xf1\\xff\\xda\\x00\\x0c\\x03\\x01\\x00\\x02\\x11\\x03\\x11\\x00?\\x00\\xee(\\x88\\x80\"\"\\x00\\x88\\x88\\x02\" \\x08\\x8bOKi:Vzf\\xadWCGR\\xe2rkF\\xd2Pd\\xdcU\\xed9\\xad\\x14\\xe8\\xf7i\\xc5G\\xf3\\xee\\x8eeS\\xf4\\xe6\\xb8\\xbe\\xb6\\x03\\xb8\\xdf\\xc0\\x0c\\x92\\x7f\\x98\\xf8p\\n\\xadh\\xd2X\\x80L\\x93\\xb3\\xf6\\xdd\\xcds\\xce\\xb7h\\x9d0\\xa1\\xdeE\\x8bM\\xeb\\xed\\xa0\\xb4\\xc3\\xc56m-\\x11\\xe0L\\x99\\xe2!r\\xfd-\\xac/\\xac\\xf2d\\x91\\xb4\\xb8\\x92O\\x17\\x1flV\\xc6\\xb0\\xd6q\\x1d\\xfd\\xb9\\x0f\\xd0n\\x1fR\\xab\\x8e\\xa2p\\x19\\x0cI\\xfa\\xe6\\x90W\\xdd\\x96\\x9f.\\xd1F\\x1d!o{\\x88\\x92I>\\x9b\\x97\\x8b\\xe5\\xa0\\x11\\xc4F\\xc0>\\x87\\xd4\\xacnd\\xbacw\\xf8J\\xaf!\\xa7y\\x89\\x11\\xe1\\xe4\\xb69\\xef\\xdc\\xc8\\xfbs\\x88\\x8d\\x93\\x8cH\\x81\\xd2\\x17\\xa3jpx\\x87\\x1f\\xac\\x16\\x95\\x97\\x08\\xe7\\x8a\\xcd?3\\x8e\\xc9\\xfa\\x1e\\tavLh\\xfd`\\xac\\xc7\\x11|\\xe1 \\x13\\xbb\\xd69B\\xb9j\\x9e\\xbfW\\xa2\\xe8mL\\'\\x1ao\\xef\\xb5\\xdf\\x94\\xe6\\x0f\\xd6+\\x99\\xd0v\\xfd\\xb9\\x1d\\xc5H\\xd3\\xa6o\\x00F>\\x87\\x82\\xa4\\xa2\\xbb\\x1aFO\\x0fs\\xf5\\x06\\xac\\xebu\\x1bX\\x00w*ma9\\xef\\xbav\\xf2\\xcdX\\x97\\xe6\\xad\\x0bh\\xa8\\x1a/5\\xc0\\x0c\\x9d\\x06[\\xee\\xe1\\xe6\\x17N\\xd5\\x9dz\\xec\\xeeR\\xb4\\xbaZb\\xedY\\x98\\xfc\\xc7h\\xe3\\x9e\\xfc\\x8cDj\\xefi\\x13:\\x1b^\\'GE\\xf1\\x8e\\x04\\x02\\x08 \\xe2\\x08\\xc4\\x10v\\x85\\xf5ls\\x84D@\\x11\\x11\\x00DD\\x01\\x11\\x10\\x04D@\\x11\\x11\\x00DD\\x01\\x11\\x10\\x04D@a\\xb5\\xdaYI\\x8e\\xa8\\xf7\\x06\\xb1\\x80\\xb9\\xc4\\xec\\x03\\x12\\xb8n\\x9d\\xd6\\xb7\\xdbk:\\xa9\\x91M\\x86\\xed\\x16n\\x9c$\\xefq\\xf2\\x95i\\xf8\\xc9\\xa7\\xc0k,Lq\\xbc\\xe2\\x1fR2\\xb9\\x8d\\xd0z\\xe3\\xd0.U\\xfcM\\xd8lF\\x05\\xc39\\x19G,\\xe7\\xaa\\xc2\\xaboduQ\\x8a\\\\\\xcc\\x94\\xb3\\xda\\x9c\\xe7\\xb87&\\xfc\\xce\\xdaN\\xe0\\xb2YCX\\x1fU\\xc2wF\\xed\\x8d\\x1c\\\\v\\xeeP\\x94\\xef\\\\\\xba0\\xbc}3\\'\\xac\\xf8\\x053\\xa3\\xbb\\xe40|\\xac\\x12I\\xdaN\\xdfx\\xdc!a%c\\xa1;\\x91v\\xdan{\\x9dQ\\xe3\\xbcp\\x8f\\xc2\\x0e!\\xa3\\xd7\\xfc\\xa8\\xba\\xed\\x80g\\x1d\\xff\\x00[v+E\\xa6\\x89v@\\xf0\\xdego3\\x9a\\x8c\\xad\\xa3\\xdc\\xe7]\\x8c\\x07\\xcd\\xc4\\xec\\x1f\\xaa\\xb4&\\xbb\\x91:~\\x04\\x15\\x1a\\x1d\\xd99\\x9f\\x7f\\xad\\x8a:\\xda\\xc31\\xc5[*\\xd9\\x87\\x86C\\xdf\\xa7\\xec\\xa3ih\\xfb\\xce\\xcb\\xebg\\xd6\\xe8[F\\xa2\\xc9\\x8c\\xe8\\xbc\"\\x12\\x930\\x9e<\\xf2\\nB\\xcdb/\\x04s>kz\\xad\\x8f\\x10\"\"`n\\x81\\xfeU\\xbbUt4Q\\xaa\\xe8\\xc7!\\xcc\\xc9\\xf7\\n\\xb3\\xabe\\xb14\\xe8o\\xb9D\\xb4h\\xfb\\xb7|\\xfd\\xd5\\x82\\xcfa\\xec\\x9fN\\xf6G\\xbav\\xee\\x0b.\\x91\\xb2e\\x86\\xd3\\xeb\\nf\\xd5\\xa3M\\xd8;\\x1a\\x1c< \\xfa\\xaceV\\xe9\\x1d1\\xa0\\xa2\\xd9\\x1bi\\xa9I\\xa4\\xcb\\x9d;\\xe4\\xfa\\xca\\x91\\xd1U[U\\xb7\\\\K\\x9av\\xfd\\xe6\\x9d\\x87\\x98\\xc3\\x1c\\xf0\\xc7\\x15\\xf3I\\xe8{\\xed\\x901-\\xcb\\xcf\\xd9W\\xf4Ug\\xd9\\xeb\\x06\\xbabb\\x0f\\xd6#\\xf6<\\xaa\\xb9\\xa3\\xb6I{;<\\x1d\\x9bPt\\xe9\\xa7v\\xc5_1=\\x93\\xf6\\x10q\\r\\xe5\\x18\\xb7\\x86\\x18B\\xbe\\xae?Q\\xb7\\xe9\\xb6\\xa3I\\xbdL\\xc8#8\\x99\\xf28\\xf8\\xae\\xaf\\xa3m\\x1d\\xa5*u?\\x1b\\x1a\\xef\\x10\\n\\xe9\\xa1=J\\xc7\\x0f\\x11OK\\xba6Q\\x11ns\\x84D@\\x11\\x11\\x00DD\\x01\\x11\\x10\\x04D@\\x11\\x11\\x00DD\\x01|s\\xa0I_V\\x8e\\x9c\\xa9v\\xcd]\\xc2dR\\xa8p\\xcf\\x06\\x13\\x82\\x03\\xf3\\xad\\xb7H\\xba\\xd7k\\xadY\\xd8\\xf6\\x8eq\\x1f\\xcbL|\\xa3\\xc0\\x01\\xd1k[\\x1c\\xd0\\\\v\\x93tp\\r\\xcc\\xf98\\xf5\\x0b\\x0e\\x8d\\xa8\\x18\\xe7\\x1d\\x98x\\r\\x9dV\\xb57\\x97:w\\x0c9\\xe6|\\xe1r\\xda\\xf2\\xb9\\xdf\\x88\\xa4l1\\xde&\\x00\\x1b\\x86\\xc1\\xcdY4]\\x9e\\xed6oy.\\'\\xf9bG\\x88\\x8f\\x1e*\\x06\\xc5f\\xbc\\xe6\\x89\\x89 N\\xe0~c\\xd1\\xb3\\xe4\\xacTm\"I\\xc9\\xbb\\x00\\xd83 zt\\x0b*\\x8f\\xb1\\xac\\x11\"\\xca{\\x00\\xc7\\xdc\\xe4\\'\\xcc\\xf0\\xe6\\xbcZ,\\xcdh#=\\xe639\\x92\\xbcY-\\'f\\x04\\xce[\\x06\\xdfn\\x80,\\xf5\\xd9\\x00^\\xe6}\\x87\\xd7\\x15\\x89\\xad\\x88;E\\x98C\\xa4@\\x80L~\\x1c\\x80\\xe6\\xe3\\x87\\x8e\\xe2\\xa4t\\x16\\x8c\\x1d\\xf78\\t\\r\\x9e\\xae\\x93\\x87 <\\xd7\\x93L\\xb9\\xcd\\x07\\xe5\\xf9\\x8e\\xccro\\x86>\\x1cT\\xce\\x8d\\x11N\\xa9;D\\xfa\\xc0S~\\xc4\\xb8\\x95J\\x16K\\xd5\\x8e\\x18Lz\\x8fux\\xd0\\x96;\\xb4\"1&|#\\xf4Q\\x1a2\\xc81<\\xbde[)\\x8b\\x94\\x81\\xe1>H\\x9d\\xd9\\x13\\xd8\\xa1\\x1b\\x1d\\xe79\\xb1\\x93\\xc9\\xf4V})d\\xee\\x9264\\xb7\\xc5\\xb1\\xfa,:&\\xc5.\\x04\\xe6\\\\I\\xf1>\\xc0\\xa9\\x8bK/5\\xc3\\xa2\\xaa\\xdc\\xb4\\x9f1\\x1e\\xcb0\\x808*f\\xb6h\\xc8\\xef\\x0c\\xc6!t+\\xa1Ak\\x15\\x10Y\\xd5L^\\x97r\\xb9\\xd8\\xd7\\xd5;U\\xf6\\xb9\\xa7\\xe88O\\xa4x.\\x8d\\xa8\\x96\\xa2h\\x1aN\\xf9\\xa98\\xb7\\xfaN \\xfa\\xaeQ\\xaa\\xe6\\xeb\\xea\\x7f@\\xf0i\\x9f%\\x7f\\xd4\\x9bI5\\xc1\\xd9R\\x99\\x07\\xf30\\xfe\\x92\\xb6\\xa2\\xf4\\xcc\\xc3\\x88\\x8d\\xe2\\xcb\\xe2\".\\xf3\\xcd\\x08\\x88\\x80\"\"\\x00\\x88\\x88\\x02\" \\x08\\x88\\x80\"\"\\x00\\x88\\x88\\x02\\x8d\\xd6WE\\x92\\xd2\\x7f\\xe4\\xd4\\xfe\\xc2\\xa4\\x96\\x9e\\x99\\x00\\xd9\\xeb\\xcf\\xff\\x00[\\xf3\\xfc\\xa5C\\xc1+\\'\\xe6+u;\\xa5\\xcd\\x1bp\\xf1_l\\x16|\\'\\xeaIM/S\\xed$m\\x93\\xe9\\xfa\\xad\\xfd\\x1a\\xce\\xe0\\xf1\\xf7\\xf6\\\\\\xad\\xda\\'\\xa1\\x15y\\x9e\\xe86\\xeb\\x9d\\x1fq\\xb1\\xfdN\\x00\\x7f\\xb8\\xf8/m|7\\x90\\xfa\\xf3\\x85\\xe5\\xac3S\\x8dC\\xe0\\x0b\\x80\\xf6[n\\xa0#\\x9b[\\xfd\\xc7\\xf4X6tA\\x12\\x1a\\x14\\xedw<\\x8f\\xd6\\xf5\\xb9i\\xefF\\x11%iY\\xeb\\x86\\xe6vG\\x97\\xf9[\\xb6\\x9bk!\\xa0c\\x03g%\\x91\\xa5\\xb7\\x14\\xd8\\x05H\\xdc\\x14\\x93\\x84R|n>\\xa5B\\xb6\\xbc\\xba\\xf0\\xdd\\x07\\xc9LP\\xc5\\xa6x\\xfa\\x05\\x17!\\xa3\\xce\\x8e8S\\x1f\\xcb\\x8f@\\xa7\\xb4\\x89\\x8aq\\xc2\\x14\\x06\\x88l\\x93\\xfc\\xadw\\x98\\x9fu?\\xa46\\r\\xe6z\\x05e\\x82\\x92\\\\\\xc7\\xcd\\x19D\\x01;\\x87\\xec\\xb3\\xddZ\\xf4\\xea\\x90\\xd4u\\xa8\\x0c\\xc1\\x85=\\x8a\\xd9\\xb6{{T>\\x9a\\x12\\xce\\xa1H\\xb6\\xd8\\xc7\\x18k\\x81Z\\xd6\\xear\\x142\\xe9Y\\x95\\xcb3\\x052F\\xd3\\'\\xa1\\x90\\xdf\\xae\\n\\xd7\\xa8\\xef\\xfbJ<\\x1c\\xf1\\xe2\\xc2\\xaa\\x96\\xda\\x07\\xb4i\\xd9\\x1eb\\xf0\\xf7W-E\\xa7\\x15\\x19\\x86\\xd7\\x1f\\xfbHW\\xa5\\xd6\\x8aV\\xf8l\\xe8H\\x88\\xbd3\\xc8\\x08\\x88\\x80\"\"\\x00\\x88\\x88\\x02\" \\x08\\x88\\x80\"\"\\x00\\x88\\x88\\x02\\xd3\\xd34\\\\\\xfb=v3\\xe6u:\\x8do\\xe6- y\\xc2\\xdcD\\x07\\xe5\\r\\'N\\x0fC\\xeb\\nkAw\\xd8\\x06\\xf1\\x87F\\x91\\xee\\xb55\\x9e\\xcc\\xe1Z\\xbbO\\xdd\\xa9U\\xbe\\x0f\"\\x16\\x1d\\rn4\\xda\\x1d\\xf8}\\xe7\\xf6\\\\\\x93W\\x89\\xe8A\\xdad\\xfbi\\x98\\x07\\xafQ\\xfb\\xac\\xd5\\xa8\\x92\\xd6\\x8c\\xb6\\x127I1\\xe6\\x16\\xabt\\x85\\xf9 `vq\\xcb\\xeb\\xa6\\xe5-G\\x16\\t\\xe1\\xe3\\xb5r\\xca\\xe8\\xec\\x8e\\xe7\\xaa\\x161\\x03v\\x0b\\xcd\\xa2\\x88\\x1b\\x16\\xf3_u\\xa0\\xf0Q5\\xad\\x8es\\xa2\\xeef\\x15\\rR2X)\\xce\\x1b\\xc8\\xf2\\xc5X\\xact\\xf0\\x8f\\xac\\x8a\\x8a\\xb0\\x8b\\xa4\\x07\\x08\\'%+c|\\x189\\xa9Fs\\xc1\\xf3B\\xd27\\x9f\\xc7\\xf7\\x1e\\xca^\\xb1\\x97r\\x10\\xbc\\xd8\\xe9\\x00\\t\\x0b\\rg\\xe2\\xaf\\x18\\xd9\\x19\\xb7vgq\\x0b\\xe0\\xa6\\x0ej9\\xd6\\x938y\\xaf\\x1f\\xc5<~\\x13\\xe2=B\\x86\\xcb(\\xb2F\\xbd\\x95\\xae\\x11\\x11\\xc4`\\xb5f%\\xa4\\xc9\\x03\\xc4,\\xb6{Xp\\xe2\\xb1\\xdb[\"FpG\\x8a\\x827[\\x10\\xf66\\xf6\\x90F@\\x18\\xeaH\\n\\xf5\\xa9v`\\x1dP\\xfe\\x16\\x86\\x8e\\xa4\\x92|\\x95\\x1a\\xcc\\xe74\\x86\\x01\\x83F{\\xcf\\xd7\\xa9W\\x8f\\x87\\xa0\\xdc\\xaaI\\xc4\\x96\\x9f\\xee[p\\xeb\\x9d\\x1c\\xfcK\\xe4e\\xb9\\x11\\x17\\xa0y\\xa1\\x11\\x10\\x04D@\\x11\\x11\\x00DD\\x01\\x11\\x10\\x04D@\\x11\\x11\\x00P\\x9a\\xd3\\xac\\xf4l4\\xda\\xfa\\xb7\\x9c\\\\Hk\\x18\\x01s\\xa33\\x89\\x00\\x01\\x84\\x92v\\x856\\xb9\\x7f\\xc6\\x1b1s\\xe8\\x11\\xb1\\x8e\\xfe\\xe1>\\x81gRzcs~\\x1e\\x9a\\xa9QE\\x94=h\\xd2T\\xadU\\xea\\xd6\\xa7M\\xf4\\xc5Cz\\xeb\\xee\\xc8u\\xd0\\x1d\\xf2\\x921 \\x9e\\xaa\\x0e\\x8d\\x18o\\xd6r\\xb7\\x0eQ\\xb7bQ\\xc47x8\\xaemg\\xa3*:]\\x8c\\xf6:q\\x01Y,\\xed\\x00\\tP\\x96a\\xde\\n\\xc0\\xc6\\x07\\x00\\xb9\\xe6\\xee\\xcdc\\xb1\\xafY\\xf5+T\\x14\\xe8\\xb4\\x1cb]\\x83\\x1b\\xc4\\xedq\\xe0\\x15m\\xdaa\\xe2\\xb8\\xa6+\\x89.\\x86\\x00\\xd6\\xb4\\x10\\xd9\\x92Ip\\r\\x06\\x0efU\\xb6\\x95\\x075\\xd2\\xd3\\n\\x16\\xbe\\xa82\\xa3\\xef\\x10>b`\\x8b\\xc0N$\\x0cD\\x8cr2\\xb5\\xa3*k\\xa8\\xc7\\x88\\x8dW\\xd0\\xcb5\\x16\\n\\x96?\\xe2/K\\x04\\x87\\xcc\\x02\\xc2\\xdco4\\x80$\\x0c\\x0e\"a|\\xaa\\xe3\\xf6d\\xe6@\\x95\\xf6\\xc3O\\xb2\\xa3\\xd9^.l\\x92A\\x00\\x02N\\xf0:\\x0e\\x8bR\\xbd[\\xce\\xe4\\xab7\\x1b\\xf2\\x93J3\\xb5\\xa4Z,\\xd5E\\xc5\\xa7Xw]\\xf5\\xc9c\\xb3T\\xc1ej\\xad\\xee[N\\x92\\xa1\\xaf\\x16\\xb7Y[\\x8b\\xdc\\r\\xd0\\xe7\\\\\\xferCZ\\x0fBI< /Z\\xa4\\xf7\\xdaj>\\x8bm\\x06\\xf8k\\x9e\\xd7\\x87v\\x8cqahsH2\\xd2;\\xd8\\x16\\xc6JkJh\\x1au\\xcc\\xd4\\x93\\x84l\"3\\x82\\xd2\\x08\"SD\\xe8a@\\xb8\\xd3\\xc0\\x96\\xdd\\x9c0\\x18\\x12\\x00\\x00@$\\x0f\\x00\\xba\\x14\\xe9\\xa8\\xda\\xc73\\xa7Y\\xce\\xfa\\xb62X\\\\\\xe9sj\\x00\\x1e\\xd3\\x04\\x8f\\x95\\xd1\\xb4m\\x1c\\x8f\\x9a\\x91{p\\x0b\\xc5*\\x00,\\xd5\\x06\\x01s\\x1dRda\\x80]\\x868\\xfb\\xfe\\x8a\\xfd\\xaa\\x16\\x1e\\xce\\x80q\\xcd\\xe0\\x1eCb\\xa3\\x9b1s\\x8c\\x18\\x98\\xf0\\xc6}W\\xbbN\\x91}\\x12.\\xba\\xa8kc\\x10\\xe3\\x03\\xa4\\xe4\\xafN\\xa2\\xa6\\xee\\xd1\\x94\\xe8\\xba\\xaa\\xc9\\x9dI\\x14~\\x82\\xd2\\x1d\\xbd\\x16\\xbc\\xe7\\x93\\xb9\\x8d\\xbdp=T\\x82\\xf4SM]\\x1eT\\xa2\\xe2\\xec\\xc2\") \"\"\\x00\\x88\\x88\\x02\" \\x08\\x88\\x80\"\"\\x00\\x88\\x88\\x02\\xa7\\xfcK\\xb2^\\xb3\\xb6\\xa4Ic\\x88\\xe8\\xe1\\xfa\\x80\\xae\\x0bKMYEZ\\x15i\\x9f\\xbc\\xc3\\x1c\\xe2G\\x9c*T\\x8e\\xa84kFz*)\\x1f\\x9dk\\xb2\\x1a\\x0e\\xd5\\x86\\xca\\xfe\\xf4\\x1c\\xca\\xdb\\xd2\\x0e\\x01\\xa0n\\'\\xf6Z6F^\\xa8\\xdcc\\x1f\\xaf\\xd1p\\xc7t{\\xb5V\\xc4\\xce\\x8d\\xb3\\x97\\xbe\\x01\\xcb\\x153Fi\\xbd\\xa0\\x90C\\xa6\\x0f\\x11\\x98*?A\\xd1\"\\xd0\\xf0\\x0eP=\\xd4\\x95\\x92\\x80}Z\\xc1\\xc7\\xfd3\\x80\\xfe\\x90g\\xcc\\xac\\xa5\\x92\\xb1\\xb5\\xb7%\\xd8\\x01^\\xae\\xf0Z\\xd6w]u\\xdd\\x90\\x08\\x9fE\\xbc!\"\\xca\\xc9X\\xd3\\xae0P\\x96\\xaa\\x90\\xe0\\x06\\xf5?l!\\xad.9\\x00I\\xe8\\xabZ:\\x83\\xaa<U\"\\x1af9\\x15,\\x98\\x16\\x0b\\x1f\\xca\\xb7\\xac\\xce\\x95\\xea\\xc5E\\xb0\\x97n\\xbf\\x81\\xc1BV*\\xdd\\xcd\\x96\\xb1zY\\x18\\x16+E@\\xd0I\\xc1is$h\\xe9\\x1bki\\xb6N$\\x98\\x03y+\\x1d:\\xefp\\x04\\xb4]\\xe7\\x8f\\xee\\xa3K\\r\\xaa\\xe9\\xc8\\x03y\\xa3\\x19\\xca$\\xf8\\xe4\\xa5*\\x02)\\x00>\\xb1\\x95\\x9d\\xeen\\xe2\\x92\\xb7sf\\xcc\\xe1z\\x0c\\xe2\\x16= \\xce\\xeb\\xc4N\\x1e\\xeb\\xd5\\x9e\\x9b\\xe4^t\\xe0#\\x00\\x08\\xf0\\xd8\\xa4\\xb4M\\x93\\xb6\\xadt\\x8e\\xe3qwL\\x87T\\xd2\\xe5\\xb7\\x89\\x9d\\xd49\\xbc\\x0b\\x16\\xab\\xd9\\x8b,\\xec\\x077w\\xba\\x1c\\xbc\\x80R\\xcb\\xe0\\x0b\\xea\\xf5#\\x1d)#\\xc6\\x9c\\xb5I\\xcb\\xc4\"\"\\xb1P\\x88\\x88\\x02\" \\x08\\x88\\x80\"\"\\x00\\x88\\x88\\x02\" \\x08\\x88\\x80\\xfc\\xef\\xaeZ=\\xd4-u\\xa98Gx\\x96\\xe1\\x81c\\xb1i\\x1d0\\xe6\\n\\x82\\xb36\\x1d#\\x9a\\xfd\\x1b\\xacz\\xb5g\\xb6\\xb06\\xb3q\\x1f+\\xdb\\x83\\xdb;\\x8e\\xee\\x06B\\xe5\\xfa\\xe5\\xf0\\xfe\\x9d\\x8a\\xca\\xfa\\xed\\xae\\xf7\\x9b\\xcdh\\x05\\xadh\\x87\\x1d\\xb1\\x99\\xf0\\\\\\xb2\\xa4\\xe3\\x8c\\x1e\\xad>.3IK&\\x86\\xa6Y\\xdc\\xee\\xf9\\xc6\\xf1&z\\x95\\xb5`\\x13l\\xb4n/\\x03\\xc1\\xa0-\\xddN\\xa7\\x14Y\\xc9y\\xd5\\xdb8}J\\x95\\x7f\\x13\\xdc|\\xccyB\\xe3}\\xce\\x85,\\x99\\xad\\xe0\\n\\x8d\\xe4G\\xa2\\xdd\\xa0\\xb4\\xe9\\xdd\\x16\\x9bC_\\x8e\\x00\\xb7n\\x05\\x80G\\x88+e\\xac\\xb8\\\\6\\x0cG\"\\xa1d\\xb3\\xc1\\x1d\\xad\\x00\\x9aa\\x83\\xef9\\xa0\\xf2\\xcdi\\xe9\\x9b\\x15k\\xb4\\xfb\\x17\\x16\\x86\\x8c\\x86\\xd3\\xc4m\\nP\\xd4\\x0e8\\xe2\\x16\\xe5\\x16I\\x12\\xa5=\\xc8\\xbe\\x94i\\xe8GT,oi\\x83\\xf1\\x06\\x06\\x19\\xe7\\x0bZ\\xc8\\xda\\xed\\xae\\xf1Q\\xe5\\xcc-\\xc0\\xc4\\x00g \\x15\\x9d\\xb4\\x06\\x06\\x16:\\x94\\xbc\\x15\\x9cJ\\xaa\\xbb\\xb3\\xeb_\\x84\\xa8\\xdd5i\\x06\\x8dQ\"n;\\xfbJ\\xcdm\\xb4\\xdc\\xa6\\xf7~\\x16\\x93\\xe5\\x87\\x9a\\xd5\\xd14\\xc3Y\\xda?\\xbcv\\xef.P\\xd91\\x8d\\xb9\\x8f\\x9a5\\xb7)\\xc8\\xdc\\xb6!\\xc5\\x83\\x92\\xf1b\\xa0\\xe3I\\xbc\\x82\\x90\\xb1\\xd3\\xeec\\xb1Qn\\'\":\\x83\\xdc\\x1c?)\\x1ddb\\xafZ\\xabc\\xb9F\\xf1\\x1d\\xe7\\x9b\\xc7\\x96\\xcf\\xd7\\xaa\\xaehm\\x17\\xdbV\\x82{\\xa0K\\xb9H\\xc0s\\x85{\\x02\\x17_\\rO}L\\xe2\\xe2\\xeb&\\xb4/\\xa9\\xf5\\x11\\x17i\\xe7\\x84D@\\x11\\x11\\x00DD\\x01\\x11\\x10\\x04D@\\x11\\x11\\x00DD\\x01\\x11\\x10\\x05H\\xf8\\xc4?\\xe1\\xce;\\xaaS\\xf5\\x8fuwT\\xaf\\x8c\\x03\\xfe\\x19W\\xf3\\xd2\\xff\\x00\\xc8\\xd0\\xab,2\\xf4\\xfa\\xd1L\\xd5\\x9bDY\\x9cfa\\xa4\\xf9J\\xda\\xd4\\xc7}\\x93y(\\xed^lY*\\x19\\xc2\\xe3\\xbc\\x81[\\xda\\x97H\\x8ax\\xfdH\\xdc\\xbc\\xc3\\xd8xg\\xda\\xe7\\xff\\x00yR\\x06\\xc6z-\\xbd/P\\xb4\\x03\\xbcz,V\\x07\\x83h\\xaev\\xdf \\x7fL7\\xd9d\\xd63\\x83\\x07?ER\\xe9\\xee\\x91\\x1be\\xaa\\xa4\\xe9\\xda\\xda3*\\xb5Z\\xd0\\x063\\x03iZ\\x15u\\x96\\x93NNw\\x11\\x8a\\xb4Sx.\\xe0\\xb3&t6i\\x16\\xc6c\\xc5{m\\xa9\\xae\\xc8\\x82\\xb9\\xa1\\xd7;8\\x99\\xbf\\xca\\xe9\\xfd#\\xcdg\\xd1\\x1a\\xddF\\xbb\\xcb[y\\x8e\\x1b\\xe0H\\xe8J\\xbb\\x8c\\xedv\\x8c\\xf4\\xd2n\\xcaJ\\xe5\\xa7Y+\\xc5\\'\\x01\\xb5\\xcch\\xea\\xf6\\x85\\xbfK\\xfd0#\\x05V\\xd6;x\\xbbBNu\\x99=\\x0f\\xee\\x15\\xca\\xc4\\xe0X\\x16m\\x12\\xf6CF\\x1f\\xb2\\x1c\\x97\\xbao\\x80G\\x15\\xe6\\x93p1\\x94\\x9fU\\xea\\xcc\\xce\\xe9\\xe6\\xa1\\x19\\xbc\\xb6J\\xea]I\\xabW\\xf2\\x8fUnU\\x9dL\\xa0\\x07l\\xed\\xb2\\xd6\\xf8I\\xff\\x00r\\xb3/G\\x87_\\xb6\\x8f3\\x89w\\xa8\\xec\\x11\\x11l`\\x11\\x11\\x00DD\\x01\\x11\\x10\\x04D@\\x11\\x11\\x00DD\\x01\\x11\\x10\\x04D@\\x15G\\xe2\\xc5+\\xda.\\xd3\\xc3\\xb2w\\x85VO\\x94\\xabr\\xa5\\xfc`\\xadwEZ?\\x99\\xd4[\\xd0\\xd6d\\xf9\\x02\\xa1\\xe0\\xb4:\\x91\\xce\\xf4EBlUF\\xdb\\x85O\\xeau@h\\xb4\\xf0\\x1e\\x8a\\xbf`\\xeeY\\x8c\\xfd\\xeag\\xcc)}N%\\xb4\\x9a\\x0e\\xe5\\xe5\\xdc\\xf6Z\\xd9\\x9e\\xf4S\\x0fmWwiS\\xfb\\xc9[\\x9a\\xd1D\\xf6`\\x81\\x88#\\xceB\\xd4\\xb0:-\\x15\\xb7\\x17\\xc8\\xea\\x01\\xf7S\\x1an\\x99u,6A\\xe7\\x06aUw%\\xbeds-e\\xb2TeF\\xd3|\\x00Z\\x1c\\x1a\\x0f\\x12;\\xdcdd\\xa3Yb\\x9d\\x8a\\xfdj\\xb4Y\\xed\\x14\\x85\\xf2\\xc6\\xd4d\\xcd\\xe3\\x05\\xd3\\x02XN\\x07,\\x86^\\xb1t\\xf4}9\\x02\\xf6\\x12\\xb6\\xd7m\\x91\\xbc\\x1e\\xdc\\xebr\\x9d\\xa4\\xb4^\\x07\\x05Y\\xa1M\\xec\\xa8\\\\\\xdf\\x99\\x84}r]\\x0fO\\xd1\\xec\\x9a\\xe2\\r\\xe1\\xe8v,\\xba3F\\xdc\\xd1\\x7fh\\xe6\\xba\\xa5W\\xdf\\x81\\x12\\x0b\\xa04e2\\x1a\\x01;\\xb2[S\\xa8\\xd4w98\\xaaq\\x9c\\xe3\\xa3$(\\xd2\\x7f\\xc4U\\xb24\\xe4\\xe7L\\x1e\\x18\\xfb.\\xb5g\\xa5\\xf6`\\r\\xcb\\x90h\\xed\\x1eM\\xbe\\x9bY\\x95\\x10\\t\\xe6vxJ\\xed\\x16f\\xc3B\\xc2\\xaaWI\\x17n[\\xdf\\xc7\\xd1z\\xdc\\xf5bl4\\x85\\xea\\x8f\\xdeX\\xaco\\xc5\\xfc\\xf0\\xf0\\x0b\\xeb\\x0fy\\xdcVk\\x05\\x1eKF\\xaa\\x8f\\xb1<^\\xefa\\xec\\xa6TF\\xab\\x7f\\xa3\\xfdnR\\xeb\\xd2\\xa5\\xd0\\x8f.\\xaf[\\x08\\x88\\xb43\\x08\\x88\\x80\"\"\\x00\\x88\\x88\\x02\" \\x08\\x88\\x80\"\"\\x00\\x88\\x88\\x02\" \\n7Y4CmvZ\\xd6g\\xe5Q\\x84\\x03\\x9d\\xd7f\\xc7sk\\x83OE!R\\xa0h%\\xc4\\x003$\\xc0\\x1dUr\\xdf\\xaf\\xda2\\x89!\\xf6\\xda23\\rwi\\x11\\x9f\\xc9;\\xd0\\x95~\\xc7\\x0f\\xa7nx\\xa0i;\\x07\\xb6X\\xe1\\xf8\\\\\\xd2ZG\\x88*\\xdf\\xa1\\xab\\x8e\\xcd\\x91\\xf8[\\xe8\\xa0~#U\\xb2\\x9bg\\xf1\\x16J\\xd4\\xeaS\\xaf\\x8b\\xc3O\\xcbTE\\xe2Fp\\xe0Zg}\\xf5\\x97BZ\\xfb\\xa0l^mjzp{\\x14\\xa7\\xa9\\x16;\\x14v\\x84\\xef>j\\xc01loU\\xfb\\x18\\xc4\\x15=D\\xe0\\xb2\\x895\\n6\\x91\\xd1\\x0emW]\\x17\\x9aL\\x86\\x9d\\x93\\x89\\x8e\\xb2\\xbe\\xd9,t\\xa7\\xbe\\xc28\\x10\\xad\\x96\\xfb<\\x90\\xed\\xa3\\xea\\x12\\x8bA\\nw\\xc1\\xd0\\xb8\\x87\\xa4\\x80u\\x8a\\xccA\\xbd#\\x96\\xde\\x8bB\\xd7ck\\x1a\\xea\\x8ce\\xc6\\xb4\\x12^\\xe1\\x8c\\x0cp\\n\\xe6\\xea`l\\n\\xaf\\xa7\\\\j\\xd5\\x14A\\xee\\xb6\\x0b\\xf8\\xbb6\\xb7\\xa6g\\xa2\\x91\\x1a\\xad\\xe0\\x89\\xd4=\\x1cIug\\x88s\\xc9q\\x9e\\'#\\xd2\\x17G\\xa7\\x92\\x8a\\xd1\\x96P\\xc6\\xa9\\x12\\xec\\x11\\xbb\\xbb\\xb3\\x9eo\\xb21\\xb0C\\x8f\\x15\\xe2\\xd1V\\x1c:\\xaf\\xa4\\xc0\\x95]\\xd6=\\'\\xd9\\xb0\\x90{\\xc7\\x06\\xf3;z,\\xfeE\\xa3\\x1dL\\xebZ\\x12\\xceYE\\x80\\xe6E\\xe3\\xc0\\xbb\\xbd\\x1d&:-\\xe5\\xc65\\x7f\\xe2\\xe5f:-\\x8c\\x15i\\x98\\xef\\xb0\\x06\\xbd\\x9b\\xcd\\xd1\\x83\\xc7\\x0c\\x0ey\\xe4\\xba\\xe6\\x8b\\xd2T\\xad\\x14\\xdbV\\x8d@\\xf6;\"<\\xc1\\x19\\x827\\x1cB\\xf5\\xa0\\xd5\\xac\\x8f*\\xbd\\x1a\\x94\\xe5y\\xa3m\\x11\\x15\\xcc\\x02\" \\x08\\x88\\x80\"\"\\x00\\x88\\x88\\x02\"\\x8a\\xd6Ma\\xa1b\\xa2kW|\\x0c\\x9a\\xd0%\\xcftM\\xd6\\xb7i\\xf2\\x1ba\\tI\\xbd\\x91*\\xa1t\\xce\\xb5\\xd8\\xec\\xa4\\n\\xf6\\x865\\xc7\\xee\\x89{\\xb9\\x96\\xb0\\x17\\x01\\xc4\\x88_\\x9f5\\x9f\\\\-\\x16\\xda\\x8euJ\\xf5)\\xb4\\x93v\\x93^\\xe6\\xb1\\xad\\x9f\\x96\\xe8 8\\xc6d\\xe2ye^i\\xbb\\x0c.\\x00\\x9c\\x88\\x00c\\xb33\\x19,\\xdc\\xfc\\x0e\\xd8p\\x7f\\xde\\xf6\\xf9}\\x8f\\xd0:C\\xe2\\xd6\\x8f\\xa6\\r\\xde\\xd6\\xa9\\x98\\xee\\xd3\\xba\\x0f\\x19yn\\n:\\xa7\\xc6\\x8b/\\xdd\\xb3Z\\t\\x83\\x81\\xec\\xc6;>\\xf9\\xc3,x\\xae(\\xf68\\x88.\\x1b\\x8c\\x81\\x1e\\x0b\\x0e,\\r \\xe00\\x83\\x99\\x03d\\x83\\xd5W[f\\xf2\\xe1)\\xc7\\xb3\\xb7\\xcf\\xfd\\x1d\\x9e\\xb7\\xc6L\\x8b,b?\\x9a\\xae{\\x80\\x86`\\xa3\\xab|m\\xabt\\x86\\xd8\\xd8\\x1fx\\t5\\x0b\\x83Z\\x7f\\x13`\\x12x\\x829`\\xb9u\\x06\\xb4\\xb6d\\x80vK\\xb03\\xc7%\\xe6\\xa3\\x00\\xfb\\xd18^\\'\\xc0b\\xa1M\\x97|-=)\\xa8\\xff\\x00\\x92_]u\\xbe\\xb5\\xbe\\xd4\\xe7V\\x05\\x8c\\x0che \\xf2\\xe64\\t.|@\\x92O\\r\\xc3b\\xabW\\x9c\\x1d\\x84\\x112s\\x8cH\\x86\\xf3[/\\xa2^\\xc6\\x078a\\xdd$\\x0cq\\xcb\\x1f\\xac\\xd6\\x07=\\xa08\\x13.\\x03\\x0f\\xe5\\x11\\x11\\x8e\\xdf\\xd5]3\\x9ep\\xb2\\xb6\\x17o\\xc7\\xa1\\xabF\\xd4\\xeb\\xc0\\x13\\x87\\x8a\\xb6h\\xcd,\\x18\\xd9s\\xb2\\xc7\\x0e`c\\xbb\\x12\\x15)\\xb1<\\x16\\xe5\\x07c0\\xd06\\x91\\x06\\x06N\\x04\\x1d\\x898)-\\xcchUqgM\\xb0\\xeb}6L\\x83\\xdd\\x89\\xcbn\\xf98e\\x9a\\x9d\\xb3\\xeb\\xcd\\x9f\\x00C\\xc6\\x137A\\xf2\\x06O@\\xb9e\\x97\\x02\\xdcd\\xcd\\xd3\\x80\\xca0\\x81\\xbaG\\x9a\\xcfA\\xd3vO\\xe2i\\x91\\x9cH\\xf5nK\\x95\\xd1\\x8a\\xc1\\xea\\xc5)\\xe5{\\xf6\\xce\\xb1O\\\\,o\\xff\\x00\\xe5\\x8d\\x98\\xb5\\xde\\xa0B\\xfbKJ\\xd3.\\xeeTk\\x81\\xdcf9\\xee\\xcc.L)\\x80\\xd8\\xff\\x00\\x99\\x86\\xfc\\x1d\\xb3lB\\xcfM\\xe48\\xba\\xf1\\x06\\xf1p#c@\\xf4\\xc1C\\xa4\\xbb2U$\\xbf\\xe9\\xd5\\xad\\xfaX2\\x9b\\x9d9\\x0c\\xb7\\x9c\\x80\\xeapQZ+\\xf1<\\xe2{\\xce;\\xc9\\xc4\\xaa\\x1dM0\\xfa\\xae\\x01\\xcf\\xc1\\xa6@\\x1fx\\x8d\\xa7\\x968/U\\xedoyl\\x93\\x07 I\\xe7\\x11\\xb0\\xe1\\n\\x8e\\x93\\xeeZ\\x9c\\x14\\x96\\xc7I\\xab\\xac\\xb6f\\xe1\\xda\\x82F\\xc6\\xf7\\xbc\\xc6\\n\\x1e\\xd5\\xae\\xe0\\x1b\\xb4\\xe9\\x8e\\x05\\xc7\\x9f\\xdd\\x1f\\xaa\\xa29\\xd8\\x1d\\xedu\\xd3\\xcb\\x0808\\x10\\x7f\\xca\\xfbx\\x02d\\xed\\xc0o\\x10\\'\\x99\\xcf\\xc1[\\xf4\\x91\\xa4(\\xc29,v\\x9dm\\xae\\xed\\xa1\\xb9\\xe48\\xf1\\x95\\x17\\xa44\\x8b\\xaa\\xc5\\xe7La\\xe3\\x8c\\xa8\\xc7Vf\"\\t2N;s8N8La\\xbdy\\xa2E\\xd7D|\\xc7,1\\x123\\xde\\xae\\xa9\\xa5\\xbd\\x82\\x9aR\\xb4l}s\\xf7\\xa9M\\x15\\xac\\xd6\\x9b+\\xae\\xd9\\xeb\\xba\\x95\\xf1\\xde\\x02\\x08v\\x11\\x91\\x04^\\x18w\\xb3QE\\xa4\\xe2\\xa3j\\xd5\\x87_\\x90Z\\t\\x020\\x83\\xb8\\xad\"\\xaee\\xc4T\\xd2\\xac\\xd6\\xcf\\xecu\\x9d_\\xf8\\xc1]\\x94nU\\xa2+\\xbd\\xae#\\xb45;2\\xe6\\xec\\x04\\x06\\x11xb\\'n\\nI\\x9f\\x1a\\x0c\\x82lm\\xb91\\xfe\\xb4\\xbb\\x98\\xeeGE\\xc9\\x1a@\\x91\\xc2\\xf1_n\\x88`\\x81\\x81\\x05N\\xb6b\\xb8JMn\\xb7\\xfa\\x9d\\xae\\xcd\\xf1\\x8e\\xce]u\\xf6j\\xad\\xe2\\xd71\\xf8m$\\x12<\\x04\\xab.\\x88\\xd7\\xfd\\x1fh7Yh\\rv@T\\x06\\x94\\x9d\\xc0\\xb8\\x00O\\x00e~m\\xa8\\xf2/bI \\xc4\\r\\x8308\\xac\\xcd\\x06\\x1a\\xd9\\x9c6\\xed\\xe2T\\xfe\\xa4\\x91W\\xc0\\xd2\\x93i]{\\xdb\\xf2~\\xb3E\\xf9\\xfbT\\xfe!\\xda\\xac\\x8ek\\x1e\\xe3^\\x80\\x80Z\\xfc\\\\\\x07\\xf2<\\x99\\x11\\xb1\\xa7\\r\\x98L\\x8e\\xe1\\xa0\\xf4\\xdd\\x0b]>\\xd2\\x85@\\xf6\\xed\\x199\\xa6&\\xeb\\x9b\\x9bO5\\xa4f\\xa4y\\xd5\\xf8i\\xd2\\xce<I\\x14DW9\\xc2\" \\x0b\\x82|v\\xae\\xef\\xfdF\\x8b/:\\xe8\\xa0\\xc2\\x1b&\\x01s\\xea\\x87\\x102\\x04\\xddl\\xef\\xba7\"(\\x96\\rhu\\xa3\\x9d\\xdb\\xbeO\\x0fe\\xe6\\xc4o1\\xa5\\xd8\\x99v\\'\\x14E\\x8f\\xf2\\x9e\\xa7\\xf5\\xad\\xf2\\xf5F\\x0e\\xd0\\xden\\'f\\xdf\\xff\\x00O\\xd0,\\xb5\\xfe\\xff\\x00\\xe5o\\xb2\\xf8\\x8a\\xdd\\xccb\\xdb\\x8b\\xbf\\xbd\\x99\\xf6\\xd0>\\xd0\\xf0o\\xb8[t\\xda&#`\\xf7DT\\x96\\x0e\\xaaK\\xf7\\x1f\\x9f\\xe4\\xf9l\\x1ff\\xfeEVk\\xe6\\xbe\\xa2\\xbd,\\x1c\\xbf\\xc4\\xba\\x97\\x97\\xe4\\xc6\\x16zF\\x1c\\xd8\\xc3\\x10\\x88\\xb5<\\xe8\\xe4\\x96?/\\xfd@:wD-\\xcb3\\x89\\xa8\\xd0q\\x13=n\\x03\\xee|Q\\x16\\x0f\\x0c\\xf5\\xe9\\xf5G\\xce>\\xa6[!\\xc3\\xfe\\xa3\\xff\\x00\\xde\\x16\\xd5&\\x8b\\xa7\\r\\x8f\\xfe\\xe4E\\x94\\xb2z4:\\x17\\x97\\xe0\\x8b\\xb2\\x0f\\xb5\\x7f\\xe7\\x1e\\x9f\\xb9[\\xef\\xc8\\xfeq\\xfd\\xcd>\\xe5}Eid\\xcb\\x85\\xf8o\\xeaGi\\n\\x84\\x1aPH\\x9b\\xb3\\x8ex\\x81\\x8a\\xdb\\xb3\\x0cO1\\xe6\\xf1>\\xa5\\x11K\\xe9E)\\xbb\\xd7\\x97\\xd3\\xecg\\xac\\xc0H\\x04\\x02.\\xbfg\\xe5Z\\xed\\x19\\x8e(\\x8a\\xab\\x06\\xf5\\x12\\xfdO~\\x07\\xd6\\x8d\\x9fY\\x05\\x1dXw\\xda6v\\x87\\x0f\\x04Ehd\\xe6\\xe2\\xbaW\\x99\\x9a\\xc9\\x8bL\\xe3 \\xcc\\xe3=\\xe2\\xb6\\x07\\xccz{\\xa2$\\xb2\\xc8\\xa5\\xd1\\x1f\\xa7\\xa9\\x80\\xb8\\xdd\\x18\\xfd\\xff\\x00\\xf7-\\xc7\\xfdx\\x85\\xf1\\x12F\\x94\\xba_\\x92\\xf5>\\xd2\\xf9O\\xe6]\\x07\\xe0\\xedB-\\xe0\\x02@u*\\x92\\'\\x03\\x05\\xb1;\\xe2J\"\\xaa\\xeaD\\xd7\\xf8\\x0f\\xc8\\xee(\\x88\\xba\\xcf\\x9b\\x08\\x88\\x80\\xff\\xd9'}"
            ]
          },
          "metadata": {
            "tags": []
          },
          "execution_count": 71
        }
      ]
    },
    {
      "cell_type": "code",
      "metadata": {
        "id": "7xHJsw2adMsU"
      },
      "source": [
        "def get_labels(pred):\n",
        "   labels=[]\n",
        "   for i in pred:\n",
        "     if i==0:\n",
        "       labels.append('Angry')\n",
        "     elif i==1:\n",
        "       labels.append('Disgust')\n",
        "     elif i==2:\n",
        "        labels.append('Fear')\n",
        "     elif i==3:\n",
        "        labels.append('Happy')\n",
        "     elif i==4:\n",
        "        labels.append('Sad')\n",
        "     elif i==5:\n",
        "        labels.append('Surprise')\n",
        "     else:\n",
        "        labels.append('Neutral')\n",
        "   return labels"
      ],
      "execution_count": null,
      "outputs": []
    },
    {
      "cell_type": "markdown",
      "metadata": {
        "id": "EgmZcffihF5v"
      },
      "source": [
        "testing the image here upload image and get the predictions\n",
        "\n",
        "sometimes model doesn't perfrom really well in some images.\n",
        "\n",
        "check for top 2 predictions will give best results max."
      ]
    },
    {
      "cell_type": "code",
      "metadata": {
        "id": "0zp28_vxtx2J"
      },
      "source": [
        "from google.colab import files  # external image uploading and testing\n",
        "files.upload()"
      ],
      "execution_count": null,
      "outputs": []
    },
    {
      "cell_type": "code",
      "metadata": {
        "id": "4uPXlSHb4lzx"
      },
      "source": [
        "from facenet_pytorch import MTCNN\n",
        "from PIL import Image\n",
        "\n",
        "file_name='photo.jpg'          # enter the file name to test\n",
        "img1=cv2.imread(file_name,0)\n",
        "# IMG_PATH = 'happy_face.jpg'\n",
        "img = Image.open(file_name)\n",
        "\n",
        "face_model = MTCNN(keep_all=True)        # pretrained multitask CNN for finding faces\n",
        "bboxes, probs = face_model.detect(img)\n",
        "x1, y1, width, height=bboxes[0][0],bboxes[0][1],bboxes[0][2],bboxes[0][3]\n",
        "face = img1[int(y1):int(height),int(x1):int(width)]\n",
        "plt.imshow(face)"
      ],
      "execution_count": null,
      "outputs": []
    },
    {
      "cell_type": "code",
      "metadata": {
        "id": "avTi7JpZMgFw"
      },
      "source": [
        "# for x,y,w,h in bboxes:\n",
        "  # print(x,w,w,h)"
      ],
      "execution_count": null,
      "outputs": []
    },
    {
      "cell_type": "code",
      "metadata": {
        "id": "Wz4Cr9uQb2uN"
      },
      "source": [
        "import cv2\n",
        "# img=cv2.imread('angry.jpg',0)\n",
        "img2=cv2.resize(face,(48,48))\n",
        "plt.imshow((img2))\n",
        "img2=img2.astype(np.float64)\n",
        "img2 -= np.mean(img2, axis=0)\n",
        "img2 /= np.std(img2, axis=0)\n",
        "img2=img2.reshape(-1,48,48,1)\n",
        "new_image_pred=model.predict(img2)\n",
        "# classes=model.predict_classes(img2)\n",
        "# prob=model.predict_proba(img2)\n",
        "label=np.argmax(new_image_pred,axis=1)\n",
        "# print(new_image_pred)\n",
        "label=get_labels(label)\n",
        "label"
      ],
      "execution_count": null,
      "outputs": []
    },
    {
      "cell_type": "code",
      "metadata": {
        "id": "pQYlKLC0PsL1",
        "colab": {
          "base_uri": "https://localhost:8080/",
          "height": 265
        },
        "outputId": "3bdbe951-ab9f-488b-ac49-912f40d42bed"
      },
      "source": [
        "Emotions = [\"Angry\", \"Disgust\", \"Fear\", \"Happy\", \"Sad\", \"Surprise\", \"Neutral\"]\n",
        "pred_results=pd.DataFrame(data=new_image_pred,columns=Emotions)\n",
        "# pred_results.head()\n",
        "import seaborn as sns\n",
        "# sns.set_theme(style=\"darkgrid\")\n",
        "ax=sns.barplot(data=pred_results)\n",
        "plt.show()"
      ],
      "execution_count": null,
      "outputs": [
        {
          "output_type": "display_data",
          "data": {
            "image/png": "[encoded data removed]",
            "text/plain": [
              "<Figure size 432x288 with 1 Axes>"
            ]
          },
          "metadata": {
            "tags": [],
            "needs_background": "light"
          }
        }
      ]
    },
    {
      "cell_type": "markdown",
      "metadata": {
        "id": "jmH8UBXBlSj3"
      },
      "source": [
        "code below is the alternative to use webcam in colab as we have to google api to do that .so we have to capture image and then apply model to get predictions"
      ]
    },
    {
      "cell_type": "code",
      "metadata": {
        "id": "2kzs7BiXTObh"
      },
      "source": [
        "from IPython.display import display, Javascript\n",
        "from google.colab.output import eval_js\n",
        "from base64 import b64decode\n",
        "\n",
        "def take_photo(filename='photo.jpg', quality=0.8):\n",
        "  js = Javascript('''\n",
        "    async function takePhoto(quality) {\n",
        "      const div = document.createElement('div');\n",
        "      const capture = document.createElement('button');\n",
        "      capture.textContent = 'Capture';\n",
        "      div.appendChild(capture);\n",
        "\n",
        "      const video = document.createElement('video');\n",
        "      video.style.display = 'block';\n",
        "      const stream = await navigator.mediaDevices.getUserMedia({video: true});\n",
        "\n",
        "      document.body.appendChild(div);\n",
        "      div.appendChild(video);\n",
        "      video.srcObject = stream;\n",
        "      await video.play();\n",
        "\n",
        "      // Resize the output to fit the video element.\n",
        "      google.colab.output.setIframeHeight(document.documentElement.scrollHeight, true);\n",
        "\n",
        "      // Wait for Capture to be clicked.\n",
        "      await new Promise((resolve) => capture.onclick = resolve);\n",
        "\n",
        "      const canvas = document.createElement('canvas');\n",
        "      canvas.width = video.videoWidth;\n",
        "      canvas.height = video.videoHeight;\n",
        "      canvas.getContext('2d').drawImage(video, 0, 0);\n",
        "      stream.getVideoTracks()[0].stop();\n",
        "      div.remove();\n",
        "      return canvas.toDataURL('image/jpeg', quality);\n",
        "    }\n",
        "    ''')\n",
        "  display(js)\n",
        "  data = eval_js('takePhoto({})'.format(quality))\n",
        "  binary = b64decode(data.split(',')[1])\n",
        "  with open(filename, 'wb') as f:\n",
        "    f.write(binary)\n",
        "  return filename"
      ],
      "execution_count": 13,
      "outputs": []
    },
    {
      "cell_type": "code",
      "metadata": {
        "id": "diIvkzGiTfrm"
      },
      "source": [
        "from IPython.display import Image\n",
        "try:\n",
        "  filename = take_photo()\n",
        "  print('Saved to {}'.format(filename))\n",
        "  \n",
        "  # Show the image which was just taken.\n",
        "  display(Image(filename))\n",
        "except Exception as err:\n",
        "  # Errors will be thrown if the user does not have a webcam or if they do not\n",
        "  # grant the page permission to access it.\n",
        "  print(str(err))"
      ],
      "execution_count": null,
      "outputs": []
    },
    {
      "cell_type": "code",
      "metadata": {
        "id": "R9rtIezdorVs"
      },
      "source": [
        "from facenet_pytorch import MTCNN\n",
        "from PIL import Image\n",
        "Emotions = [\"Angry\", \"Disgust\", \"Fear\", \"Happy\", \"Sad\", \"Surprise\", \"Neutral\"]\n",
        "\n",
        "file_name='photo.jpg'          # enter the file name to test\n",
        "img1=cv2.imread(file_name,0)\n",
        "# IMG_PATH = 'happy_face.jpg'\n",
        "img = Image.open(file_name)\n",
        "\n",
        "face_model = MTCNN(keep_all=True)        # pretrained multitask CNN for finding faces\n",
        "bboxes, probs = face_model.detect(img)\n",
        "x1, y1, width, height=bboxes[0][0],bboxes[0][1],bboxes[0][2],bboxes[0][3]\n",
        "face = img1[int(y1):int(height),int(x1):int(width)]\n",
        "plt.imshow(face)\n",
        "\n",
        "\n"
      ],
      "execution_count": null,
      "outputs": []
    },
    {
      "cell_type": "code",
      "metadata": {
        "id": "AUSm-mT8-7xN"
      },
      "source": [
        "\n",
        "import cv2\n",
        "# img=cv2.imread('angry.jpg',0)\n",
        "img2=cv2.resize(face,(48,48))\n",
        "plt.imshow((img2))\n",
        "img2=img2.astype(np.float64)\n",
        "img2 -= np.mean(img2, axis=0)\n",
        "img2 /= np.std(img2, axis=0)\n",
        "img2=img2.reshape(-1,48,48,1)\n",
        "new_image_pred=model.predict(img2)\n",
        "# classes=model.predict_classes(img2)\n",
        "# prob=model.predict_proba(img2)\n",
        "label=np.argmax(new_image_pred)\n",
        "# print(new_image_pred)\n",
        "\n",
        "label=Emotions[label]\n",
        "print(label)"
      ],
      "execution_count": null,
      "outputs": []
    },
    {
      "cell_type": "code",
      "metadata": {
        "id": "X-3O0z7ZkVbj",
        "colab": {
          "base_uri": "https://localhost:8080/",
          "height": 265
        },
        "outputId": "0b269766-2c5e-4dd8-da7a-ce9c7ea51b83"
      },
      "source": [
        "pred_results=pd.DataFrame(data=new_image_pred,columns=Emotions)\n",
        "# pred_results.head()\n",
        "import seaborn as sns\n",
        "# sns.set_theme(style=\"darkgrid\")\n",
        "ax=sns.barplot(data=pred_results)\n",
        "plt.show()"
      ],
      "execution_count": 17,
      "outputs": [
        {
          "output_type": "display_data",
          "data": {
            "image/png": "[encoded data removed]",
            "text/plain": [
              "<Figure size 432x288 with 1 Axes>"
            ]
          },
          "metadata": {
            "tags": [],
            "needs_background": "light"
          }
        }
      ]
    },
    {
      "cell_type": "markdown",
      "metadata": {
        "id": "8B4EGf2PkyBT"
      },
      "source": [
        "In order to detect from webcam colab not supported to use our local hardware bcoz we r using colab as iaas. so the below the code will run sucessfully in our local system if all the required the packages are installed"
      ]
    },
    {
      "cell_type": "code",
      "metadata": {
        "id": "pR7aZ5_sjtch",
        "colab": {
          "base_uri": "https://localhost:8080/",
          "height": 137
        },
        "outputId": "810266a1-fbcd-4651-abce-ea317a812929"
      },
      "source": [
        "'''' this is code to run your webcam on your system not using colab webcam api\n",
        "import cv2\n",
        "import numpy as np\n",
        "from PIL import Image\n",
        "from tensorflow.keras import models\n",
        "\n",
        "#Load the saved model\n",
        "model = models.load_model('face_recognition.h5')  # externally load the model \n",
        "video = cv2.VideoCapture(0)\n",
        "\n",
        "while True:\n",
        "        \n",
        "      ret, frame = video.read()\n",
        "        # plt.imshow(frame)\n",
        "      if ret==True:\n",
        "          print('entering ')\n",
        "          #Convert the captured frame into gray\n",
        "          gray = cv2.cvtColor(frame, cv2.COLOR_BGR2GRAY)\n",
        "          bboxes, probs = face_model.detect(gray)\n",
        "          for x,y,w,h in bboxes:\n",
        "              face = gray[int(y):int(h),int(x):int(w)]\n",
        "\n",
        "            #Resizing into 128x128 because we trained the model with this image size.\n",
        "              im = face.resize((48,48))\n",
        "              img2 -= np.mean(im, axis=0)\n",
        "              img2 /= np.std(img2, axis=0)\n",
        "              img2=img2.reshape(-1,48,48,1)\n",
        "              img_array = np.array(img2)\n",
        "\n",
        "              #Our keras model used a 4D tensor, (images x height x width x channel)\n",
        "              #So changing dimension 128x128x3 into 1x128x128x3 \n",
        "              # img_array = np.expand_dims(img_array, axis=0)\n",
        "\n",
        "              #Calling the predict method on model to predict 'me' on the image\n",
        "              prediction = model.predict(img_array)\n",
        "              label=np.argmax(prediction)\n",
        "              score = np.max(prediction)\n",
        "              label=get_labels(label)\n",
        "              cv2.putText(frame, label+\"  \"+str(score*100)+'%', (x, y), font, 1, (0, 255, 0), 2)\n",
        "              cv2.rectangle(frame, (x, y), (w, h), (0, 0, 255), 2)\n",
        "\n",
        "\n",
        "          cv2.imshow('image',frame)\n",
        "        \n",
        "          if cv2.waitKey(1) == 10:\n",
        "                break\n",
        "      else :\n",
        "        print('error')\n",
        "\n",
        "        \n",
        "video.release()\n",
        "cv2.destroyAllWindows() '''"
      ],
      "execution_count": 28,
      "outputs": [
        {
          "output_type": "execute_result",
          "data": {
            "application/vnd.google.colaboratory.intrinsic+json": {
              "type": "string"
            },
            "text/plain": [
              "'\\' this is code to run your webcam on your system not using colab webcam api\\nimport cv2\\nimport numpy as np\\nfrom PIL import Image\\nfrom tensorflow.keras import models\\n\\n#Load the saved model\\nmodel = models.load_model(\\'face_recognition.h5\\')  # externally load the model \\nvideo = cv2.VideoCapture(0)\\n\\nwhile True:\\n        \\n      ret, frame = video.read()\\n        # plt.imshow(frame)\\n      if ret==True:\\n          print(\\'entering \\')\\n          #Convert the captured frame into gray\\n          gray = cv2.cvtColor(frame, cv2.COLOR_BGR2GRAY)\\n          bboxes, probs = face_model.detect(gray)\\n          for x,y,w,h in bboxes:\\n              face = gray[int(y):int(h),int(x):int(w)]\\n\\n            #Resizing into 128x128 because we trained the model with this image size.\\n              im = face.resize((48,48))\\n              img2 -= np.mean(im, axis=0)\\n              img2 /= np.std(img2, axis=0)\\n              img2=img2.reshape(-1,48,48,1)\\n              img_array = np.array(img2)\\n\\n              #Our keras model used a 4D tensor, (images x height x width x channel)\\n              #So changing dimension 128x128x3 into 1x128x128x3 \\n              # img_array = np.expand_dims(img_array, axis=0)\\n\\n              #Calling the predict method on model to predict \\'me\\' on the image\\n              prediction = model.predict(img_array)\\n              label=np.argmax(prediction)\\n              score = np.max(prediction)\\n              label=get_labels(label)\\n              cv2.putText(frame, label+\"  \"+str(score*100)+\\'%\\', (x, y), font, 1, (0, 255, 0), 2)\\n              cv2.rectangle(frame, (x, y), (w, h), (0, 0, 255), 2)\\n\\n\\n          cv2.imshow(\\'image\\',frame)\\n        \\n          if cv2.waitKey(1) == 10:\\n                break\\n      else :\\n        print(\\'error\\')\\n\\n        \\nvideo.release()\\ncv2.destroyAllWindows() '"
            ]
          },
          "metadata": {
            "tags": []
          },
          "execution_count": 28
        }
      ]
    },
    {
      "cell_type": "markdown",
      "metadata": {
        "id": "f6vGdRXp_ws5"
      },
      "source": [
        "Recording video using webcam and then predicting on each frame in video..."
      ]
    },
    {
      "cell_type": "code",
      "metadata": {
        "id": "feYNfHpHE39T"
      },
      "source": [
        "from IPython.display import display, Javascript\n",
        "from google.colab.output import eval_js\n",
        "from base64 import b64decode\n",
        "\n",
        "def record_video(filename='video.mp4'):\n",
        "\n",
        "  # This function uses the take_photo() function provided by the Colab team as a  \n",
        "  # starting point, along with a bunch of stuff from Stack overflow, and some sample code \n",
        "  # from: https://developer.mozilla.org/enUS/docs/Web/API/MediaStream_Recording_API\n",
        "\n",
        "  js = Javascript(\"\"\"\n",
        "    async function recordVideo() {\n",
        "      const options = { mimeType: \"video/webm; codecs=vp9\" };\n",
        "      const div = document.createElement('div');\n",
        "      const capture = document.createElement('button');\n",
        "      const stopCapture = document.createElement(\"button\");\n",
        "      capture.textContent = \"Start Recording\";\n",
        "      capture.style.background = \"green\";\n",
        "      capture.style.color = \"white\";\n",
        "\n",
        "      stopCapture.textContent = \"Stop Recording\";\n",
        "      stopCapture.style.background = \"red\";\n",
        "      stopCapture.style.color = \"white\";\n",
        "      div.appendChild(capture);\n",
        "\n",
        "      const video = document.createElement('video');\n",
        "      const recordingVid = document.createElement(\"video\");\n",
        "      video.style.display = 'block';\n",
        "\n",
        "      const stream = await navigator.mediaDevices.getUserMedia({video: true});\n",
        "      let recorder = new MediaRecorder(stream, options);\n",
        "      document.body.appendChild(div);\n",
        "      div.appendChild(video);\n",
        "      video.srcObject = stream;\n",
        "      await video.play();\n",
        "\n",
        "      // Resize the output to fit the video element.\n",
        "      google.colab.output.setIframeHeight(document.documentElement.scrollHeight, true);\n",
        "\n",
        "      await new Promise((resolve) => {\n",
        "        capture.onclick = resolve;\n",
        "      });\n",
        "      recorder.start();\n",
        "      capture.replaceWith(stopCapture);\n",
        "      await new Promise((resolve) => stopCapture.onclick = resolve);\n",
        "      recorder.stop();\n",
        "\n",
        "      let recData = await new Promise((resolve) => recorder.ondataavailable = resolve);\n",
        "      let arrBuff = await recData.data.arrayBuffer();\n",
        "      stream.getVideoTracks()[0].stop();\n",
        "      div.remove();\n",
        "\n",
        "      let binaryString = \"\";\n",
        "      let bytes = new Uint8Array(arrBuff);\n",
        "      bytes.forEach((byte) => {\n",
        "        binaryString += String.fromCharCode(byte);\n",
        "      })\n",
        "      return btoa(binaryString);\n",
        "    }\n",
        "    \"\"\")\n",
        "  try:\n",
        "    display(js)\n",
        "    data = eval_js('recordVideo({})')\n",
        "    binary = b64decode(data)\n",
        "    with open(filename, \"wb\") as video_file:\n",
        "      video_file.write(binary)\n",
        "    print(\n",
        "        f\"Finished recording video. Saved binary under filename in current working directory: {filename}\"\n",
        "    )\n",
        "  except Exception as err:\n",
        "      # In case any exceptions arise\n",
        "      print(str(err))\n",
        "  return filename"
      ],
      "execution_count": 19,
      "outputs": []
    },
    {
      "cell_type": "code",
      "metadata": {
        "id": "VKN38ewHrSFy"
      },
      "source": [
        "# Run the function, get the video path as saved in your notebook, and play it back here.\n",
        "from IPython.display import HTML\n",
        "from base64 import b64encode\n",
        "\n",
        "video_width = 300\n",
        "\n",
        "video_path = record_video()\n",
        "video_file = open(video_path, \"r+b\").read()\n",
        "\n",
        "video_url = f\"data:video/mp4;base64,{b64encode(video_file).decode()}\"\n",
        "HTML(f\"\"\"<video width={video_width} controls><source src=\"{video_url}\"></video>\"\"\")"
      ],
      "execution_count": null,
      "outputs": []
    },
    {
      "cell_type": "markdown",
      "metadata": {
        "id": "ue3YfQSWABAc"
      },
      "source": [
        "enter the name of video if not video.mp4"
      ]
    },
    {
      "cell_type": "code",
      "metadata": {
        "id": "FJn8Gn4BrWcz"
      },
      "source": [
        "import cv2\n",
        "import numpy as np\n",
        "from PIL import Image\n",
        "from tensorflow.keras import models\n",
        "from google.colab.patches import cv2_imshow\n",
        "emotion =  ['Anger', 'Disgust', 'Fear', 'Happy', 'Sad', 'Surprise', 'Neutral']\n",
        "font = cv2.FONT_HERSHEY_SIMPLEX\n",
        "face_cascade = cv2.CascadeClassifier(cv2.data.haarcascades + 'haarcascade_frontalface_default.xml')\n",
        "\n",
        "#Load the saved model\n",
        "# model = models.load_model('face_recognition.h5')  # externally load the model \n",
        "video = cv2.VideoCapture('video.mp4')     # please enter the name of video recorded\n",
        "\n",
        "while True:\n",
        "        \n",
        "      ret, frame = video.read()\n",
        "        # plt.imshow(frame)\n",
        "      if ret==True:\n",
        "              # print('entering ')\n",
        "              #Convert the captured frame into gray\n",
        "              img = cv2.cvtColor(frame, cv2.COLOR_BGR2GRAY)\n",
        "              # print(img.shape)\n",
        "\n",
        "              faces = face_cascade.detectMultiScale(img, 1.3, 5) \n",
        "  \n",
        "              for (x,y,w,h) in faces: \n",
        "                  \n",
        "                im = img[y:y+h, x:x+w] \n",
        "                # roi_color = img[y:y+h, x:x+w] \n",
        "                # plt.imshow(im)\n",
        "              # bboxes, probs = face_model.detect(gray)\n",
        "              # print(bboxes)\n",
        "              # for x,y,w,h in bboxes:\n",
        "                # face = gray[int(y):int(h),int(x):int(w)]\n",
        "\n",
        "              #Resizing into 128x128 because we trained the model with this image size.\n",
        "                im = cv2.resize(im,(48,48))\n",
        "                # plt.imshow(im)\n",
        "                # img2=img2.astype(np.float64)\n",
        "                im=np.array(im).astype(np.float64)\n",
        "                im -= np.mean(im, axis=0)\n",
        "                im /= np.std(im, axis=0)\n",
        "                im=im.reshape(-1,48,48,1)\n",
        "                # img_array = np.array(im)\n",
        "\n",
        "                #Our keras model used a 4D tensor, (images x height x width x channel)\n",
        "                #So changing dimension 128x128x3 into 1x128x128x3 \n",
        "                # img_array = np.expand_dims(img_array, axis=0)\n",
        "\n",
        "                #Calling the predict method on model to predict 'me' on the image\n",
        "                prediction = model.predict(im)\n",
        "                label=np.argmax(prediction)\n",
        "                score = np.max(prediction)\n",
        "                label=emotion[label]\n",
        "                cv2.putText(frame, label+\"  \"+str(score*100)+'%', (x, y), font, 1, (0, 255, 0), 2)\n",
        "                # cv2.rectangle(frame, (x, y), (w, h), (0, 0, 255), 2)\n",
        "                # cv2.rectangle(img,(x,y),(x+w,y+h),(255,255,0),2)\n",
        "                cv2.rectangle(frame, (x, y), (x+w, y+h), (0, 0, 255), 2)\n",
        "\n",
        "\n",
        "                cv2_imshow(frame)\n",
        "        \n",
        "                k = cv2.waitKey(1) & 0xff\n",
        "                if k == 27: \n",
        "                  break\n",
        "          # if cv2.waitKey(1) == 10:\n",
        "                #  break\n",
        "      else :\n",
        "        break\n",
        "\n",
        "        \n",
        "video.release()\n",
        "cv2.destroyAllWindows()"
      ],
      "execution_count": null,
      "outputs": []
    },
    {
      "cell_type": "code",
      "metadata": {
        "colab": {
          "base_uri": "https://localhost:8080/"
        },
        "id": "GHK0BTsWzkW4",
        "outputId": "408f35b9-2422-4651-c2ef-7b2cbb7b6ad4"
      },
      "source": [
        "!ls"
      ],
      "execution_count": null,
      "outputs": [
        {
          "output_type": "stream",
          "text": [
            "drive\t\t     fer2013_X.npy  happy_face.jpg  sample_data\n",
            "face_recognition.h5  fer2013_y.npy  photo.jpg\t    video.mp4\n"
          ],
          "name": "stdout"
        }
      ]
    },
    {
      "cell_type": "markdown",
      "metadata": {
        "id": "M5RlfJ0ZAQsM"
      },
      "source": [
        ""
      ]
    },
    {
      "cell_type": "code",
      "metadata": {
        "id": "sP8wWwRgsN0r"
      },
      "source": [
        "'''\n",
        "from google.colab.patches import cv2_imshow\n",
        "face_cascade = cv2.CascadeClassifier(cv2.data.haarcascades + 'haarcascade_frontalface_default.xml')\n",
        "eye_cascade = cv2.CascadeClassifier(cv2.data.haarcascades + 'haarcascade_eye.xml')\n",
        "img = cv2.imread('happy_face.jpg')\n",
        "gray = cv2.cvtColor(img, cv2.COLOR_BGR2GRAY)\n",
        "faces = face_cascade.detectMultiScale(gray, 1.3, 5)\n",
        "for (x,y,w,h) in faces:\n",
        "    img = cv2.rectangle(img,(x,y),(x+w,y+h),(255,0,0),2)\n",
        "    roi_gray = gray[y:y+h, x:x+w]\n",
        "    roi_color = img[y:y+h, x:x+w]\n",
        "    eyes = eye_cascade.detectMultiScale(roi_gray)\n",
        "    for (ex,ey,ew,eh) in eyes:\n",
        "        cv2.rectangle(roi_color,(ex,ey),(ex+ew,ey+eh),(0,255,0),2)\n",
        "\n",
        "cv2_imshow(img)\n",
        "cv2.waitKey(0)\n",
        "cv2.destroyAllWindows() \n",
        "'''"
      ],
      "execution_count": null,
      "outputs": []
    },
    {
      "cell_type": "markdown",
      "metadata": {
        "id": "NAHy9qBx8ZY7"
      },
      "source": [
        "Prediction to fetch on youtube "
      ]
    },
    {
      "cell_type": "code",
      "metadata": {
        "id": "w0djXxzvzO2y"
      },
      "source": [
        "!pip install youtube-search-python"
      ],
      "execution_count": null,
      "outputs": []
    },
    {
      "cell_type": "code",
      "metadata": {
        "id": "8UWNzmmItcyq"
      },
      "source": [
        "from youtubesearchpython import SearchVideos # if label is single then only it will predict\n",
        "\n",
        "search = SearchVideos(label, offset = 1, mode = \"json\", max_results = 10)\n",
        "print(search.result())"
      ],
      "execution_count": null,
      "outputs": []
    }
  ]
}