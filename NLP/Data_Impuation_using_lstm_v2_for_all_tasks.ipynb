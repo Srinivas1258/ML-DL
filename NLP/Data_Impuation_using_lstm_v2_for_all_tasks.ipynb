{
  "nbformat": 4,
  "nbformat_minor": 0,
  "metadata": {
    "colab": {
      "name": "Data_Impuation_using_lstm_v2_for all tasks.ipynb",
      "provenance": [],
      "collapsed_sections": [],
      "authorship_tag": "ABX9TyNLgY5fK0cSvZkn3eYWHufE",
      "include_colab_link": true
    },
    "kernelspec": {
      "name": "python3",
      "display_name": "Python 3"
    },
    "language_info": {
      "name": "python"
    },
    "accelerator": "GPU"
  },
  "cells": [
    {
      "cell_type": "markdown",
      "metadata": {
        "id": "view-in-github",
        "colab_type": "text"
      },
      "source": [
        "<a href=\"https://colab.research.google.com/github/Srinivas1258/ML-DL/blob/master/NLP/Data_Impuation_using_lstm_v2_for_all_tasks.ipynb\" target=\"_parent\"><img src=\"https://colab.research.google.com/assets/colab-badge.svg\" alt=\"Open In Colab\"/></a>"
      ]
    },
    {
      "cell_type": "markdown",
      "metadata": {
        "id": "lcaGetr32Xxk"
      },
      "source": [
        "Getting the dataset\n",
        "\n",
        "**Data Set Information:**\n",
        "\n",
        "This data set includes hourly air pollutants data from 12 nationally-controlled air-quality monitoring sites. The air-quality data are from the Beijing Municipal Environmental Monitoring Center. The meteorological data in each air-quality site are matched with the nearest weather station from the China Meteorological Administration. The time period is from March 1st, 2013 to February 28th, 2017. Missing data are denoted as NA.\n",
        "\n",
        "\n",
        "**Attribute Information:**\n",
        "\n",
        "No: row number\n",
        "\n",
        "year: year of data in this row\n",
        "\n",
        "month: month of data in this row\n",
        "\n",
        "day: day of data in this row\n",
        "\n",
        "hour: hour of data in this row\n",
        "\n",
        "PM2.5: PM2.5 concentration (ug/m^3)\n",
        "\n",
        "PM10: PM10 concentration (ug/m^3)\n",
        "\n",
        "SO2: SO2 concentration (ug/m^3)\n",
        "\n",
        "NO2: NO2 concentration (ug/m^3)\n",
        "\n",
        "CO: CO concentration (ug/m^3)\n",
        "\n",
        "O3: O3 concentration (ug/m^3)\n",
        "\n",
        "TEMP: temperature (degree Celsius)\n",
        "\n",
        "PRES: pressure (hPa)\n",
        "\n",
        "DEWP: dew point temperature (degree Celsius)\n",
        "\n",
        "RAIN: precipitation (mm)\n",
        "\n",
        "wd: wind direction\n",
        "\n",
        "WSPM: wind speed (m/s)\n",
        "\n",
        "station: name of the air-quality monitoring site"
      ]
    },
    {
      "cell_type": "code",
      "metadata": {
        "colab": {
          "base_uri": "https://localhost:8080/"
        },
        "id": "WvRb9jmw2IAZ",
        "outputId": "63a40002-4491-49f8-fa76-259c5d0c4d45"
      },
      "source": [
        "!wget https://archive.ics.uci.edu/ml/machine-learning-databases/00501/PRSA2017_Data_20130301-20170228.zip"
      ],
      "execution_count": null,
      "outputs": [
        {
          "output_type": "stream",
          "text": [
            "--2021-03-28 09:11:56--  https://archive.ics.uci.edu/ml/machine-learning-databases/00501/PRSA2017_Data_20130301-20170228.zip\n",
            "Resolving archive.ics.uci.edu (archive.ics.uci.edu)... 128.195.10.252\n",
            "Connecting to archive.ics.uci.edu (archive.ics.uci.edu)|128.195.10.252|:443... connected.\n",
            "HTTP request sent, awaiting response... 200 OK\n",
            "Length: 7959991 (7.6M) [application/x-httpd-php]\n",
            "Saving to: ‘PRSA2017_Data_20130301-20170228.zip’\n",
            "\n",
            "PRSA2017_Data_20130 100%[===================>]   7.59M  12.0MB/s    in 0.6s    \n",
            "\n",
            "2021-03-28 09:11:57 (12.0 MB/s) - ‘PRSA2017_Data_20130301-20170228.zip’ saved [7959991/7959991]\n",
            "\n"
          ],
          "name": "stdout"
        }
      ]
    },
    {
      "cell_type": "code",
      "metadata": {
        "colab": {
          "base_uri": "https://localhost:8080/"
        },
        "id": "6OBHr6kf2cW4",
        "outputId": "10611c2b-0081-4ffc-8d2e-32ca03f0b51d"
      },
      "source": [
        "!ls -lrth "
      ],
      "execution_count": null,
      "outputs": [
        {
          "output_type": "stream",
          "text": [
            "total 7.6M\n",
            "-rw-r--r-- 1 root root 7.6M Sep 21  2019 PRSA2017_Data_20130301-20170228.zip\n",
            "drwxr-xr-x 1 root root 4.0K Mar 18 13:36 sample_data\n"
          ],
          "name": "stdout"
        }
      ]
    },
    {
      "cell_type": "code",
      "metadata": {
        "colab": {
          "base_uri": "https://localhost:8080/"
        },
        "id": "lbz0m1Ap2fDF",
        "outputId": "8058b7e8-c560-4556-ce47-d721ce3e8963"
      },
      "source": [
        "!unzip PRSA2017_Data_20130301-20170228.zip"
      ],
      "execution_count": null,
      "outputs": [
        {
          "output_type": "stream",
          "text": [
            "Archive:  PRSA2017_Data_20130301-20170228.zip\n",
            "   creating: PRSA_Data_20130301-20170228/\n",
            "  inflating: PRSA_Data_20130301-20170228/PRSA_Data_Aotizhongxin_20130301-20170228.csv  \n",
            "  inflating: PRSA_Data_20130301-20170228/PRSA_Data_Changping_20130301-20170228.csv  \n",
            "  inflating: PRSA_Data_20130301-20170228/PRSA_Data_Dingling_20130301-20170228.csv  \n",
            "  inflating: PRSA_Data_20130301-20170228/PRSA_Data_Dongsi_20130301-20170228.csv  \n",
            "  inflating: PRSA_Data_20130301-20170228/PRSA_Data_Guanyuan_20130301-20170228.csv  \n",
            "  inflating: PRSA_Data_20130301-20170228/PRSA_Data_Gucheng_20130301-20170228.csv  \n",
            "  inflating: PRSA_Data_20130301-20170228/PRSA_Data_Huairou_20130301-20170228.csv  \n",
            "  inflating: PRSA_Data_20130301-20170228/PRSA_Data_Nongzhanguan_20130301-20170228.csv  \n",
            "  inflating: PRSA_Data_20130301-20170228/PRSA_Data_Shunyi_20130301-20170228.csv  \n",
            "  inflating: PRSA_Data_20130301-20170228/PRSA_Data_Tiantan_20130301-20170228.csv  \n",
            "  inflating: PRSA_Data_20130301-20170228/PRSA_Data_Wanliu_20130301-20170228.csv  \n",
            "  inflating: PRSA_Data_20130301-20170228/PRSA_Data_Wanshouxigong_20130301-20170228.csv  \n"
          ],
          "name": "stdout"
        }
      ]
    },
    {
      "cell_type": "code",
      "metadata": {
        "colab": {
          "base_uri": "https://localhost:8080/"
        },
        "id": "LTgMsXzA2isX",
        "outputId": "e861303f-04f9-42a9-d3d8-094f599b8cfc"
      },
      "source": [
        "!ls -lrth"
      ],
      "execution_count": null,
      "outputs": [
        {
          "output_type": "stream",
          "text": [
            "total 7.7M\n",
            "drwxr-xr-x 2 root root 4.0K Aug 23  2019 PRSA_Data_20130301-20170228\n",
            "-rw-r--r-- 1 root root 7.6M Sep 21  2019 PRSA2017_Data_20130301-20170228.zip\n",
            "drwxr-xr-x 1 root root 4.0K Mar 18 13:36 sample_data\n"
          ],
          "name": "stdout"
        }
      ]
    },
    {
      "cell_type": "markdown",
      "metadata": {
        "id": "Nl6DhDSo24Xt"
      },
      "source": [
        "Importing the necessary libraries"
      ]
    },
    {
      "cell_type": "code",
      "metadata": {
        "id": "3RRfr85y2z3c"
      },
      "source": [
        "import pandas as pd\n",
        "import numpy as np\n",
        "import matplotlib.pyplot as plt\n",
        "import seaborn as sns\n"
      ],
      "execution_count": null,
      "outputs": []
    },
    {
      "cell_type": "code",
      "metadata": {
        "id": "4mqEihSC3Iy_",
        "colab": {
          "base_uri": "https://localhost:8080/"
        },
        "outputId": "4ff03a66-d05e-4bf2-dc18-f03e0e6a7ee9"
      },
      "source": [
        "d1=pd.read_csv('PRSA_Data_20130301-20170228/PRSA_Data_Aotizhongxin_20130301-20170228.csv')\n",
        "d2=pd.read_csv('PRSA_Data_20130301-20170228/PRSA_Data_Changping_20130301-20170228.csv')\n",
        "d3=pd.read_csv('PRSA_Data_20130301-20170228/PRSA_Data_Dingling_20130301-20170228.csv')\n",
        "d4=pd.read_csv('PRSA_Data_20130301-20170228/PRSA_Data_Dongsi_20130301-20170228.csv')\n",
        "d5=pd.read_csv('PRSA_Data_20130301-20170228/PRSA_Data_Guanyuan_20130301-20170228.csv')\n",
        "d6=pd.read_csv('PRSA_Data_20130301-20170228/PRSA_Data_Gucheng_20130301-20170228.csv')\n",
        "d7=pd.read_csv('PRSA_Data_20130301-20170228/PRSA_Data_Huairou_20130301-20170228.csv')\n",
        "d8=pd.read_csv('PRSA_Data_20130301-20170228/PRSA_Data_Nongzhanguan_20130301-20170228.csv')\n",
        "d9=pd.read_csv('PRSA_Data_20130301-20170228/PRSA_Data_Shunyi_20130301-20170228.csv')\n",
        "d10=pd.read_csv('PRSA_Data_20130301-20170228/PRSA_Data_Tiantan_20130301-20170228.csv')\n",
        "d11=pd.read_csv('PRSA_Data_20130301-20170228/PRSA_Data_Wanliu_20130301-20170228.csv')\n",
        "d12=pd.read_csv('PRSA_Data_20130301-20170228/PRSA_Data_Wanshouxigong_20130301-20170228.csv')\n",
        "frames=[d1,d2,d3,d4,d5,d6,d7,d8,d9,d10,d11,d12]\n",
        "df=pd.concat(frames)\n",
        "df.info()"
      ],
      "execution_count": null,
      "outputs": [
        {
          "output_type": "stream",
          "text": [
            "<class 'pandas.core.frame.DataFrame'>\n",
            "Int64Index: 420768 entries, 0 to 35063\n",
            "Data columns (total 18 columns):\n",
            " #   Column   Non-Null Count   Dtype  \n",
            "---  ------   --------------   -----  \n",
            " 0   No       420768 non-null  int64  \n",
            " 1   year     420768 non-null  int64  \n",
            " 2   month    420768 non-null  int64  \n",
            " 3   day      420768 non-null  int64  \n",
            " 4   hour     420768 non-null  int64  \n",
            " 5   PM2.5    412029 non-null  float64\n",
            " 6   PM10     414319 non-null  float64\n",
            " 7   SO2      411747 non-null  float64\n",
            " 8   NO2      408652 non-null  float64\n",
            " 9   CO       400067 non-null  float64\n",
            " 10  O3       407491 non-null  float64\n",
            " 11  TEMP     420370 non-null  float64\n",
            " 12  PRES     420375 non-null  float64\n",
            " 13  DEWP     420365 non-null  float64\n",
            " 14  RAIN     420378 non-null  float64\n",
            " 15  wd       418946 non-null  object \n",
            " 16  WSPM     420450 non-null  float64\n",
            " 17  station  420768 non-null  object \n",
            "dtypes: float64(11), int64(5), object(2)\n",
            "memory usage: 61.0+ MB\n"
          ],
          "name": "stdout"
        }
      ]
    },
    {
      "cell_type": "code",
      "metadata": {
        "colab": {
          "base_uri": "https://localhost:8080/",
          "height": 204
        },
        "id": "ZEOljZsZ3Pwh",
        "outputId": "57309682-6fb7-433d-92e8-c9f7039ca9d8"
      },
      "source": [
        "df.sample(5)"
      ],
      "execution_count": null,
      "outputs": [
        {
          "output_type": "execute_result",
          "data": {
            "text/html": [
              "<div>\n",
              "<style scoped>\n",
              "    .dataframe tbody tr th:only-of-type {\n",
              "        vertical-align: middle;\n",
              "    }\n",
              "\n",
              "    .dataframe tbody tr th {\n",
              "        vertical-align: top;\n",
              "    }\n",
              "\n",
              "    .dataframe thead th {\n",
              "        text-align: right;\n",
              "    }\n",
              "</style>\n",
              "<table border=\"1\" class=\"dataframe\">\n",
              "  <thead>\n",
              "    <tr style=\"text-align: right;\">\n",
              "      <th></th>\n",
              "      <th>No</th>\n",
              "      <th>year</th>\n",
              "      <th>month</th>\n",
              "      <th>day</th>\n",
              "      <th>hour</th>\n",
              "      <th>PM2.5</th>\n",
              "      <th>PM10</th>\n",
              "      <th>SO2</th>\n",
              "      <th>NO2</th>\n",
              "      <th>CO</th>\n",
              "      <th>O3</th>\n",
              "      <th>TEMP</th>\n",
              "      <th>PRES</th>\n",
              "      <th>DEWP</th>\n",
              "      <th>RAIN</th>\n",
              "      <th>wd</th>\n",
              "      <th>WSPM</th>\n",
              "      <th>station</th>\n",
              "    </tr>\n",
              "  </thead>\n",
              "  <tbody>\n",
              "    <tr>\n",
              "      <th>1879</th>\n",
              "      <td>1880</td>\n",
              "      <td>2013</td>\n",
              "      <td>5</td>\n",
              "      <td>18</td>\n",
              "      <td>7</td>\n",
              "      <td>182.0</td>\n",
              "      <td>231.0</td>\n",
              "      <td>47.0</td>\n",
              "      <td>56.0</td>\n",
              "      <td>NaN</td>\n",
              "      <td>35.5572</td>\n",
              "      <td>19.2</td>\n",
              "      <td>1002.9</td>\n",
              "      <td>15.9</td>\n",
              "      <td>0.0</td>\n",
              "      <td>SSW</td>\n",
              "      <td>1.9</td>\n",
              "      <td>Guanyuan</td>\n",
              "    </tr>\n",
              "    <tr>\n",
              "      <th>30406</th>\n",
              "      <td>30407</td>\n",
              "      <td>2016</td>\n",
              "      <td>8</td>\n",
              "      <td>18</td>\n",
              "      <td>22</td>\n",
              "      <td>30.0</td>\n",
              "      <td>30.0</td>\n",
              "      <td>2.0</td>\n",
              "      <td>9.0</td>\n",
              "      <td>1600.0</td>\n",
              "      <td>40.0000</td>\n",
              "      <td>23.1</td>\n",
              "      <td>993.9</td>\n",
              "      <td>22.6</td>\n",
              "      <td>0.0</td>\n",
              "      <td>NW</td>\n",
              "      <td>1.2</td>\n",
              "      <td>Dingling</td>\n",
              "    </tr>\n",
              "    <tr>\n",
              "      <th>16860</th>\n",
              "      <td>16861</td>\n",
              "      <td>2015</td>\n",
              "      <td>2</td>\n",
              "      <td>1</td>\n",
              "      <td>12</td>\n",
              "      <td>77.0</td>\n",
              "      <td>89.0</td>\n",
              "      <td>51.0</td>\n",
              "      <td>79.0</td>\n",
              "      <td>2400.0</td>\n",
              "      <td>11.0000</td>\n",
              "      <td>1.0</td>\n",
              "      <td>1026.0</td>\n",
              "      <td>-19.5</td>\n",
              "      <td>0.0</td>\n",
              "      <td>E</td>\n",
              "      <td>1.0</td>\n",
              "      <td>Gucheng</td>\n",
              "    </tr>\n",
              "    <tr>\n",
              "      <th>30017</th>\n",
              "      <td>30018</td>\n",
              "      <td>2016</td>\n",
              "      <td>8</td>\n",
              "      <td>2</td>\n",
              "      <td>17</td>\n",
              "      <td>21.0</td>\n",
              "      <td>75.0</td>\n",
              "      <td>2.0</td>\n",
              "      <td>16.0</td>\n",
              "      <td>500.0</td>\n",
              "      <td>214.0000</td>\n",
              "      <td>34.6</td>\n",
              "      <td>1000.2</td>\n",
              "      <td>19.8</td>\n",
              "      <td>0.0</td>\n",
              "      <td>NW</td>\n",
              "      <td>1.1</td>\n",
              "      <td>Gucheng</td>\n",
              "    </tr>\n",
              "    <tr>\n",
              "      <th>30095</th>\n",
              "      <td>30096</td>\n",
              "      <td>2016</td>\n",
              "      <td>8</td>\n",
              "      <td>5</td>\n",
              "      <td>23</td>\n",
              "      <td>94.0</td>\n",
              "      <td>94.0</td>\n",
              "      <td>3.0</td>\n",
              "      <td>34.0</td>\n",
              "      <td>1000.0</td>\n",
              "      <td>84.0000</td>\n",
              "      <td>29.3</td>\n",
              "      <td>1003.9</td>\n",
              "      <td>24.8</td>\n",
              "      <td>0.0</td>\n",
              "      <td>SSE</td>\n",
              "      <td>1.5</td>\n",
              "      <td>Nongzhanguan</td>\n",
              "    </tr>\n",
              "  </tbody>\n",
              "</table>\n",
              "</div>"
            ],
            "text/plain": [
              "          No  year  month  day  hour  ...  DEWP  RAIN   wd  WSPM       station\n",
              "1879    1880  2013      5   18     7  ...  15.9   0.0  SSW   1.9      Guanyuan\n",
              "30406  30407  2016      8   18    22  ...  22.6   0.0   NW   1.2      Dingling\n",
              "16860  16861  2015      2    1    12  ... -19.5   0.0    E   1.0       Gucheng\n",
              "30017  30018  2016      8    2    17  ...  19.8   0.0   NW   1.1       Gucheng\n",
              "30095  30096  2016      8    5    23  ...  24.8   0.0  SSE   1.5  Nongzhanguan\n",
              "\n",
              "[5 rows x 18 columns]"
            ]
          },
          "metadata": {
            "tags": []
          },
          "execution_count": 8
        }
      ]
    },
    {
      "cell_type": "code",
      "metadata": {
        "colab": {
          "base_uri": "https://localhost:8080/",
          "height": 317
        },
        "id": "raCSbFemnlgo",
        "outputId": "d2a5fad0-33a5-4716-a0d4-f4997ac0b32f"
      },
      "source": [
        "df.describe()"
      ],
      "execution_count": null,
      "outputs": [
        {
          "output_type": "execute_result",
          "data": {
            "text/html": [
              "<div>\n",
              "<style scoped>\n",
              "    .dataframe tbody tr th:only-of-type {\n",
              "        vertical-align: middle;\n",
              "    }\n",
              "\n",
              "    .dataframe tbody tr th {\n",
              "        vertical-align: top;\n",
              "    }\n",
              "\n",
              "    .dataframe thead th {\n",
              "        text-align: right;\n",
              "    }\n",
              "</style>\n",
              "<table border=\"1\" class=\"dataframe\">\n",
              "  <thead>\n",
              "    <tr style=\"text-align: right;\">\n",
              "      <th></th>\n",
              "      <th>No</th>\n",
              "      <th>year</th>\n",
              "      <th>month</th>\n",
              "      <th>day</th>\n",
              "      <th>hour</th>\n",
              "      <th>PM2.5</th>\n",
              "      <th>PM10</th>\n",
              "      <th>SO2</th>\n",
              "      <th>NO2</th>\n",
              "      <th>CO</th>\n",
              "      <th>O3</th>\n",
              "      <th>TEMP</th>\n",
              "      <th>PRES</th>\n",
              "      <th>DEWP</th>\n",
              "      <th>RAIN</th>\n",
              "      <th>WSPM</th>\n",
              "    </tr>\n",
              "  </thead>\n",
              "  <tbody>\n",
              "    <tr>\n",
              "      <th>count</th>\n",
              "      <td>420768.000000</td>\n",
              "      <td>420768.000000</td>\n",
              "      <td>420768.000000</td>\n",
              "      <td>420768.000000</td>\n",
              "      <td>420768.000000</td>\n",
              "      <td>412029.000000</td>\n",
              "      <td>414319.000000</td>\n",
              "      <td>411747.000000</td>\n",
              "      <td>408652.000000</td>\n",
              "      <td>400067.000000</td>\n",
              "      <td>407491.000000</td>\n",
              "      <td>420370.000000</td>\n",
              "      <td>420375.000000</td>\n",
              "      <td>420365.000000</td>\n",
              "      <td>420378.000000</td>\n",
              "      <td>420450.000000</td>\n",
              "    </tr>\n",
              "    <tr>\n",
              "      <th>mean</th>\n",
              "      <td>17532.500000</td>\n",
              "      <td>2014.662560</td>\n",
              "      <td>6.522930</td>\n",
              "      <td>15.729637</td>\n",
              "      <td>11.500000</td>\n",
              "      <td>79.793428</td>\n",
              "      <td>104.602618</td>\n",
              "      <td>15.830835</td>\n",
              "      <td>50.638586</td>\n",
              "      <td>1230.766454</td>\n",
              "      <td>57.372271</td>\n",
              "      <td>13.538976</td>\n",
              "      <td>1010.746982</td>\n",
              "      <td>2.490822</td>\n",
              "      <td>0.064476</td>\n",
              "      <td>1.729711</td>\n",
              "    </tr>\n",
              "    <tr>\n",
              "      <th>std</th>\n",
              "      <td>10122.116943</td>\n",
              "      <td>1.177198</td>\n",
              "      <td>3.448707</td>\n",
              "      <td>8.800102</td>\n",
              "      <td>6.922195</td>\n",
              "      <td>80.822391</td>\n",
              "      <td>91.772426</td>\n",
              "      <td>21.650603</td>\n",
              "      <td>35.127912</td>\n",
              "      <td>1160.182716</td>\n",
              "      <td>56.661607</td>\n",
              "      <td>11.436139</td>\n",
              "      <td>10.474055</td>\n",
              "      <td>13.793847</td>\n",
              "      <td>0.821004</td>\n",
              "      <td>1.246386</td>\n",
              "    </tr>\n",
              "    <tr>\n",
              "      <th>min</th>\n",
              "      <td>1.000000</td>\n",
              "      <td>2013.000000</td>\n",
              "      <td>1.000000</td>\n",
              "      <td>1.000000</td>\n",
              "      <td>0.000000</td>\n",
              "      <td>2.000000</td>\n",
              "      <td>2.000000</td>\n",
              "      <td>0.285600</td>\n",
              "      <td>1.026500</td>\n",
              "      <td>100.000000</td>\n",
              "      <td>0.214200</td>\n",
              "      <td>-19.900000</td>\n",
              "      <td>982.400000</td>\n",
              "      <td>-43.400000</td>\n",
              "      <td>0.000000</td>\n",
              "      <td>0.000000</td>\n",
              "    </tr>\n",
              "    <tr>\n",
              "      <th>25%</th>\n",
              "      <td>8766.750000</td>\n",
              "      <td>2014.000000</td>\n",
              "      <td>4.000000</td>\n",
              "      <td>8.000000</td>\n",
              "      <td>5.750000</td>\n",
              "      <td>20.000000</td>\n",
              "      <td>36.000000</td>\n",
              "      <td>3.000000</td>\n",
              "      <td>23.000000</td>\n",
              "      <td>500.000000</td>\n",
              "      <td>11.000000</td>\n",
              "      <td>3.100000</td>\n",
              "      <td>1002.300000</td>\n",
              "      <td>-8.900000</td>\n",
              "      <td>0.000000</td>\n",
              "      <td>0.900000</td>\n",
              "    </tr>\n",
              "    <tr>\n",
              "      <th>50%</th>\n",
              "      <td>17532.500000</td>\n",
              "      <td>2015.000000</td>\n",
              "      <td>7.000000</td>\n",
              "      <td>16.000000</td>\n",
              "      <td>11.500000</td>\n",
              "      <td>55.000000</td>\n",
              "      <td>82.000000</td>\n",
              "      <td>7.000000</td>\n",
              "      <td>43.000000</td>\n",
              "      <td>900.000000</td>\n",
              "      <td>45.000000</td>\n",
              "      <td>14.500000</td>\n",
              "      <td>1010.400000</td>\n",
              "      <td>3.100000</td>\n",
              "      <td>0.000000</td>\n",
              "      <td>1.400000</td>\n",
              "    </tr>\n",
              "    <tr>\n",
              "      <th>75%</th>\n",
              "      <td>26298.250000</td>\n",
              "      <td>2016.000000</td>\n",
              "      <td>10.000000</td>\n",
              "      <td>23.000000</td>\n",
              "      <td>17.250000</td>\n",
              "      <td>111.000000</td>\n",
              "      <td>145.000000</td>\n",
              "      <td>20.000000</td>\n",
              "      <td>71.000000</td>\n",
              "      <td>1500.000000</td>\n",
              "      <td>82.000000</td>\n",
              "      <td>23.300000</td>\n",
              "      <td>1019.000000</td>\n",
              "      <td>15.100000</td>\n",
              "      <td>0.000000</td>\n",
              "      <td>2.200000</td>\n",
              "    </tr>\n",
              "    <tr>\n",
              "      <th>max</th>\n",
              "      <td>35064.000000</td>\n",
              "      <td>2017.000000</td>\n",
              "      <td>12.000000</td>\n",
              "      <td>31.000000</td>\n",
              "      <td>23.000000</td>\n",
              "      <td>999.000000</td>\n",
              "      <td>999.000000</td>\n",
              "      <td>500.000000</td>\n",
              "      <td>290.000000</td>\n",
              "      <td>10000.000000</td>\n",
              "      <td>1071.000000</td>\n",
              "      <td>41.600000</td>\n",
              "      <td>1042.800000</td>\n",
              "      <td>29.100000</td>\n",
              "      <td>72.500000</td>\n",
              "      <td>13.200000</td>\n",
              "    </tr>\n",
              "  </tbody>\n",
              "</table>\n",
              "</div>"
            ],
            "text/plain": [
              "                  No           year  ...           RAIN           WSPM\n",
              "count  420768.000000  420768.000000  ...  420378.000000  420450.000000\n",
              "mean    17532.500000    2014.662560  ...       0.064476       1.729711\n",
              "std     10122.116943       1.177198  ...       0.821004       1.246386\n",
              "min         1.000000    2013.000000  ...       0.000000       0.000000\n",
              "25%      8766.750000    2014.000000  ...       0.000000       0.900000\n",
              "50%     17532.500000    2015.000000  ...       0.000000       1.400000\n",
              "75%     26298.250000    2016.000000  ...       0.000000       2.200000\n",
              "max     35064.000000    2017.000000  ...      72.500000      13.200000\n",
              "\n",
              "[8 rows x 16 columns]"
            ]
          },
          "metadata": {
            "tags": []
          },
          "execution_count": 58
        }
      ]
    },
    {
      "cell_type": "markdown",
      "metadata": {
        "id": "Dnf3UM9iFIqB"
      },
      "source": [
        "Plot time series data"
      ]
    },
    {
      "cell_type": "code",
      "metadata": {
        "id": "Tawz4cBmV0S8"
      },
      "source": [
        "# df['date']=pd.to_datetime(df[['year','month','day','hour']])\n",
        "# df.head()"
      ],
      "execution_count": null,
      "outputs": []
    },
    {
      "cell_type": "code",
      "metadata": {
        "colab": {
          "base_uri": "https://localhost:8080/",
          "height": 299
        },
        "id": "Fqt85yx8XMlL",
        "outputId": "4206a394-fbae-49a3-8440-eeb7f74a54f2"
      },
      "source": [
        "sns.lineplot(data=df,x='month',y='PM10')"
      ],
      "execution_count": null,
      "outputs": [
        {
          "output_type": "execute_result",
          "data": {
            "text/plain": [
              "<matplotlib.axes._subplots.AxesSubplot at 0x7ff5210ba150>"
            ]
          },
          "metadata": {
            "tags": []
          },
          "execution_count": 60
        },
        {
          "output_type": "display_data",
          "data": {
            "image/png": "[encoded data removed]",
            "text/plain": [
              "<Figure size 432x288 with 1 Axes>"
            ]
          },
          "metadata": {
            "tags": [],
            "needs_background": "light"
          }
        }
      ]
    },
    {
      "cell_type": "markdown",
      "metadata": {
        "id": "niRB4jUvdC8z"
      },
      "source": [
        "**taks 1 :Imputing the missing values**"
      ]
    },
    {
      "cell_type": "code",
      "metadata": {
        "colab": {
          "base_uri": "https://localhost:8080/"
        },
        "id": "A_kWDjjPZK7r",
        "outputId": "7f5d7c18-91a6-407a-9892-02ba4a100d1e"
      },
      "source": [
        "df.isnull().sum()"
      ],
      "execution_count": null,
      "outputs": [
        {
          "output_type": "execute_result",
          "data": {
            "text/plain": [
              "No             0\n",
              "year           0\n",
              "month          0\n",
              "day            0\n",
              "hour           0\n",
              "PM2.5       8739\n",
              "PM10        6449\n",
              "SO2         9021\n",
              "NO2        12116\n",
              "CO         20701\n",
              "O3         13277\n",
              "TEMP         398\n",
              "PRES         393\n",
              "DEWP         403\n",
              "RAIN         390\n",
              "wd          1822\n",
              "WSPM         318\n",
              "station        0\n",
              "dtype: int64"
            ]
          },
          "metadata": {
            "tags": []
          },
          "execution_count": 61
        }
      ]
    },
    {
      "cell_type": "code",
      "metadata": {
        "id": "ALreF4f5XiB9"
      },
      "source": [
        "CO = df[df[\"CO\"].isnull()]\n",
        "df=df.dropna(subset=['CO'])"
      ],
      "execution_count": null,
      "outputs": []
    },
    {
      "cell_type": "code",
      "metadata": {
        "colab": {
          "base_uri": "https://localhost:8080/"
        },
        "id": "R8b0PAWPZ3mc",
        "outputId": "74a9763f-cd41-4626-e740-541d567f8599"
      },
      "source": [
        "  df.isnull().sum()"
      ],
      "execution_count": null,
      "outputs": [
        {
          "output_type": "execute_result",
          "data": {
            "text/plain": [
              "No            0\n",
              "year          0\n",
              "month         0\n",
              "day           0\n",
              "hour          0\n",
              "PM2.5      3200\n",
              "PM10       1140\n",
              "SO2        2050\n",
              "NO2        5862\n",
              "CO            0\n",
              "O3         5544\n",
              "TEMP        395\n",
              "PRES        390\n",
              "DEWP        400\n",
              "RAIN        387\n",
              "wd         1782\n",
              "WSPM        317\n",
              "station       0\n",
              "dtype: int64"
            ]
          },
          "metadata": {
            "tags": []
          },
          "execution_count": 63
        }
      ]
    },
    {
      "cell_type": "code",
      "metadata": {
        "colab": {
          "base_uri": "https://localhost:8080/",
          "height": 204
        },
        "id": "5pTIeMhAaKZo",
        "outputId": "db0ab896-ed19-4569-ca58-caf5e919a1f6"
      },
      "source": [
        "CO.head()"
      ],
      "execution_count": null,
      "outputs": [
        {
          "output_type": "execute_result",
          "data": {
            "text/html": [
              "<div>\n",
              "<style scoped>\n",
              "    .dataframe tbody tr th:only-of-type {\n",
              "        vertical-align: middle;\n",
              "    }\n",
              "\n",
              "    .dataframe tbody tr th {\n",
              "        vertical-align: top;\n",
              "    }\n",
              "\n",
              "    .dataframe thead th {\n",
              "        text-align: right;\n",
              "    }\n",
              "</style>\n",
              "<table border=\"1\" class=\"dataframe\">\n",
              "  <thead>\n",
              "    <tr style=\"text-align: right;\">\n",
              "      <th></th>\n",
              "      <th>No</th>\n",
              "      <th>year</th>\n",
              "      <th>month</th>\n",
              "      <th>day</th>\n",
              "      <th>hour</th>\n",
              "      <th>PM2.5</th>\n",
              "      <th>PM10</th>\n",
              "      <th>SO2</th>\n",
              "      <th>NO2</th>\n",
              "      <th>CO</th>\n",
              "      <th>O3</th>\n",
              "      <th>TEMP</th>\n",
              "      <th>PRES</th>\n",
              "      <th>DEWP</th>\n",
              "      <th>RAIN</th>\n",
              "      <th>wd</th>\n",
              "      <th>WSPM</th>\n",
              "      <th>station</th>\n",
              "    </tr>\n",
              "  </thead>\n",
              "  <tbody>\n",
              "    <tr>\n",
              "      <th>75</th>\n",
              "      <td>76</td>\n",
              "      <td>2013</td>\n",
              "      <td>3</td>\n",
              "      <td>4</td>\n",
              "      <td>3</td>\n",
              "      <td>12.0</td>\n",
              "      <td>34.0</td>\n",
              "      <td>6.0000</td>\n",
              "      <td>12.0000</td>\n",
              "      <td>NaN</td>\n",
              "      <td>77.0</td>\n",
              "      <td>7.2</td>\n",
              "      <td>1016.9</td>\n",
              "      <td>-11.6</td>\n",
              "      <td>0.0</td>\n",
              "      <td>N</td>\n",
              "      <td>2.8</td>\n",
              "      <td>Aotizhongxin</td>\n",
              "    </tr>\n",
              "    <tr>\n",
              "      <th>124</th>\n",
              "      <td>125</td>\n",
              "      <td>2013</td>\n",
              "      <td>3</td>\n",
              "      <td>6</td>\n",
              "      <td>4</td>\n",
              "      <td>192.0</td>\n",
              "      <td>203.0</td>\n",
              "      <td>83.6808</td>\n",
              "      <td>140.4252</td>\n",
              "      <td>NaN</td>\n",
              "      <td>22.0</td>\n",
              "      <td>3.9</td>\n",
              "      <td>1007.3</td>\n",
              "      <td>-6.1</td>\n",
              "      <td>0.0</td>\n",
              "      <td>NE</td>\n",
              "      <td>1.4</td>\n",
              "      <td>Aotizhongxin</td>\n",
              "    </tr>\n",
              "    <tr>\n",
              "      <th>171</th>\n",
              "      <td>172</td>\n",
              "      <td>2013</td>\n",
              "      <td>3</td>\n",
              "      <td>8</td>\n",
              "      <td>3</td>\n",
              "      <td>324.0</td>\n",
              "      <td>373.0</td>\n",
              "      <td>71.0000</td>\n",
              "      <td>154.0000</td>\n",
              "      <td>NaN</td>\n",
              "      <td>84.0</td>\n",
              "      <td>1.8</td>\n",
              "      <td>997.9</td>\n",
              "      <td>-1.8</td>\n",
              "      <td>0.0</td>\n",
              "      <td>N</td>\n",
              "      <td>0.0</td>\n",
              "      <td>Aotizhongxin</td>\n",
              "    </tr>\n",
              "    <tr>\n",
              "      <th>178</th>\n",
              "      <td>179</td>\n",
              "      <td>2013</td>\n",
              "      <td>3</td>\n",
              "      <td>8</td>\n",
              "      <td>10</td>\n",
              "      <td>326.0</td>\n",
              "      <td>844.0</td>\n",
              "      <td>125.9496</td>\n",
              "      <td>179.2269</td>\n",
              "      <td>NaN</td>\n",
              "      <td>84.0</td>\n",
              "      <td>19.1</td>\n",
              "      <td>1000.9</td>\n",
              "      <td>-0.4</td>\n",
              "      <td>0.0</td>\n",
              "      <td>SSW</td>\n",
              "      <td>1.9</td>\n",
              "      <td>Aotizhongxin</td>\n",
              "    </tr>\n",
              "    <tr>\n",
              "      <th>267</th>\n",
              "      <td>268</td>\n",
              "      <td>2013</td>\n",
              "      <td>3</td>\n",
              "      <td>12</td>\n",
              "      <td>3</td>\n",
              "      <td>117.0</td>\n",
              "      <td>127.0</td>\n",
              "      <td>73.0000</td>\n",
              "      <td>81.0000</td>\n",
              "      <td>NaN</td>\n",
              "      <td>47.0</td>\n",
              "      <td>6.4</td>\n",
              "      <td>1005.8</td>\n",
              "      <td>-1.0</td>\n",
              "      <td>0.1</td>\n",
              "      <td>N</td>\n",
              "      <td>2.2</td>\n",
              "      <td>Aotizhongxin</td>\n",
              "    </tr>\n",
              "  </tbody>\n",
              "</table>\n",
              "</div>"
            ],
            "text/plain": [
              "      No  year  month  day  hour  ...  DEWP  RAIN   wd  WSPM       station\n",
              "75    76  2013      3    4     3  ... -11.6   0.0    N   2.8  Aotizhongxin\n",
              "124  125  2013      3    6     4  ...  -6.1   0.0   NE   1.4  Aotizhongxin\n",
              "171  172  2013      3    8     3  ...  -1.8   0.0    N   0.0  Aotizhongxin\n",
              "178  179  2013      3    8    10  ...  -0.4   0.0  SSW   1.9  Aotizhongxin\n",
              "267  268  2013      3   12     3  ...  -1.0   0.1    N   2.2  Aotizhongxin\n",
              "\n",
              "[5 rows x 18 columns]"
            ]
          },
          "metadata": {
            "tags": []
          },
          "execution_count": 64
        }
      ]
    },
    {
      "cell_type": "code",
      "metadata": {
        "id": "nkpfGzLibLqJ"
      },
      "source": [
        "# df.info()"
      ],
      "execution_count": null,
      "outputs": []
    },
    {
      "cell_type": "code",
      "metadata": {
        "colab": {
          "base_uri": "https://localhost:8080/"
        },
        "id": "8-UvbIdHeK2_",
        "outputId": "08f51869-6063-44c3-e2ab-171a73058af5"
      },
      "source": [
        "objList = df.select_dtypes(include = \"object\").columns\n",
        "print (objList)\n",
        "from sklearn.preprocessing import LabelEncoder\n",
        "le = LabelEncoder()\n",
        "\n",
        "for col in objList:\n",
        "    df[col] = le.fit_transform(df[col].astype(str))\n",
        "\n",
        "df.info()"
      ],
      "execution_count": null,
      "outputs": [
        {
          "output_type": "stream",
          "text": [
            "Index(['wd', 'station'], dtype='object')\n",
            "<class 'pandas.core.frame.DataFrame'>\n",
            "Int64Index: 400067 entries, 0 to 35063\n",
            "Data columns (total 18 columns):\n",
            " #   Column   Non-Null Count   Dtype  \n",
            "---  ------   --------------   -----  \n",
            " 0   No       400067 non-null  int64  \n",
            " 1   year     400067 non-null  int64  \n",
            " 2   month    400067 non-null  int64  \n",
            " 3   day      400067 non-null  int64  \n",
            " 4   hour     400067 non-null  int64  \n",
            " 5   PM2.5    396867 non-null  float64\n",
            " 6   PM10     398927 non-null  float64\n",
            " 7   SO2      398017 non-null  float64\n",
            " 8   NO2      394205 non-null  float64\n",
            " 9   CO       400067 non-null  float64\n",
            " 10  O3       394523 non-null  float64\n",
            " 11  TEMP     399672 non-null  float64\n",
            " 12  PRES     399677 non-null  float64\n",
            " 13  DEWP     399667 non-null  float64\n",
            " 14  RAIN     399680 non-null  float64\n",
            " 15  wd       400067 non-null  int64  \n",
            " 16  WSPM     399750 non-null  float64\n",
            " 17  station  400067 non-null  int64  \n",
            "dtypes: float64(11), int64(7)\n",
            "memory usage: 58.0 MB\n"
          ],
          "name": "stdout"
        }
      ]
    },
    {
      "cell_type": "code",
      "metadata": {
        "colab": {
          "base_uri": "https://localhost:8080/"
        },
        "id": "PZPzmDjXe8d-",
        "outputId": "73c06fe4-2e30-4202-df6c-ba92a29694ea"
      },
      "source": [
        "\n",
        "objList = CO.select_dtypes(include = \"object\").columns\n",
        "print (objList)\n",
        "from sklearn.preprocessing import LabelEncoder\n",
        "le = LabelEncoder()\n",
        "\n",
        "for col in objList:\n",
        "    CO[col] = le.fit_transform(CO[col].astype(str))\n",
        "\n",
        "CO.info() "
      ],
      "execution_count": null,
      "outputs": [
        {
          "output_type": "stream",
          "text": [
            "Index(['wd', 'station'], dtype='object')\n",
            "<class 'pandas.core.frame.DataFrame'>\n",
            "Int64Index: 20701 entries, 75 to 35054\n",
            "Data columns (total 18 columns):\n",
            " #   Column   Non-Null Count  Dtype  \n",
            "---  ------   --------------  -----  \n",
            " 0   No       20701 non-null  int64  \n",
            " 1   year     20701 non-null  int64  \n",
            " 2   month    20701 non-null  int64  \n",
            " 3   day      20701 non-null  int64  \n",
            " 4   hour     20701 non-null  int64  \n",
            " 5   PM2.5    15162 non-null  float64\n",
            " 6   PM10     15392 non-null  float64\n",
            " 7   SO2      13730 non-null  float64\n",
            " 8   NO2      14447 non-null  float64\n",
            " 9   CO       0 non-null      float64\n",
            " 10  O3       12968 non-null  float64\n",
            " 11  TEMP     20698 non-null  float64\n",
            " 12  PRES     20698 non-null  float64\n",
            " 13  DEWP     20698 non-null  float64\n",
            " 14  RAIN     20698 non-null  float64\n",
            " 15  wd       20701 non-null  int64  \n",
            " 16  WSPM     20700 non-null  float64\n",
            " 17  station  20701 non-null  int64  \n",
            "dtypes: float64(11), int64(7)\n",
            "memory usage: 3.0 MB\n"
          ],
          "name": "stdout"
        }
      ]
    },
    {
      "cell_type": "code",
      "metadata": {
        "colab": {
          "base_uri": "https://localhost:8080/",
          "height": 204
        },
        "id": "l7xNuiYHkDWF",
        "outputId": "2988d633-9adc-460d-f103-aacd569b84ae"
      },
      "source": [
        "CO.head()"
      ],
      "execution_count": null,
      "outputs": [
        {
          "output_type": "execute_result",
          "data": {
            "text/html": [
              "<div>\n",
              "<style scoped>\n",
              "    .dataframe tbody tr th:only-of-type {\n",
              "        vertical-align: middle;\n",
              "    }\n",
              "\n",
              "    .dataframe tbody tr th {\n",
              "        vertical-align: top;\n",
              "    }\n",
              "\n",
              "    .dataframe thead th {\n",
              "        text-align: right;\n",
              "    }\n",
              "</style>\n",
              "<table border=\"1\" class=\"dataframe\">\n",
              "  <thead>\n",
              "    <tr style=\"text-align: right;\">\n",
              "      <th></th>\n",
              "      <th>No</th>\n",
              "      <th>year</th>\n",
              "      <th>month</th>\n",
              "      <th>day</th>\n",
              "      <th>hour</th>\n",
              "      <th>PM2.5</th>\n",
              "      <th>PM10</th>\n",
              "      <th>SO2</th>\n",
              "      <th>NO2</th>\n",
              "      <th>CO</th>\n",
              "      <th>O3</th>\n",
              "      <th>TEMP</th>\n",
              "      <th>PRES</th>\n",
              "      <th>DEWP</th>\n",
              "      <th>RAIN</th>\n",
              "      <th>wd</th>\n",
              "      <th>WSPM</th>\n",
              "      <th>station</th>\n",
              "    </tr>\n",
              "  </thead>\n",
              "  <tbody>\n",
              "    <tr>\n",
              "      <th>75</th>\n",
              "      <td>76</td>\n",
              "      <td>2013</td>\n",
              "      <td>3</td>\n",
              "      <td>4</td>\n",
              "      <td>3</td>\n",
              "      <td>12.0</td>\n",
              "      <td>34.0</td>\n",
              "      <td>6.0000</td>\n",
              "      <td>12.0000</td>\n",
              "      <td>NaN</td>\n",
              "      <td>77.0</td>\n",
              "      <td>7.2</td>\n",
              "      <td>1016.9</td>\n",
              "      <td>-11.6</td>\n",
              "      <td>0.0</td>\n",
              "      <td>3</td>\n",
              "      <td>2.8</td>\n",
              "      <td>0</td>\n",
              "    </tr>\n",
              "    <tr>\n",
              "      <th>124</th>\n",
              "      <td>125</td>\n",
              "      <td>2013</td>\n",
              "      <td>3</td>\n",
              "      <td>6</td>\n",
              "      <td>4</td>\n",
              "      <td>192.0</td>\n",
              "      <td>203.0</td>\n",
              "      <td>83.6808</td>\n",
              "      <td>140.4252</td>\n",
              "      <td>NaN</td>\n",
              "      <td>22.0</td>\n",
              "      <td>3.9</td>\n",
              "      <td>1007.3</td>\n",
              "      <td>-6.1</td>\n",
              "      <td>0.0</td>\n",
              "      <td>4</td>\n",
              "      <td>1.4</td>\n",
              "      <td>0</td>\n",
              "    </tr>\n",
              "    <tr>\n",
              "      <th>171</th>\n",
              "      <td>172</td>\n",
              "      <td>2013</td>\n",
              "      <td>3</td>\n",
              "      <td>8</td>\n",
              "      <td>3</td>\n",
              "      <td>324.0</td>\n",
              "      <td>373.0</td>\n",
              "      <td>71.0000</td>\n",
              "      <td>154.0000</td>\n",
              "      <td>NaN</td>\n",
              "      <td>84.0</td>\n",
              "      <td>1.8</td>\n",
              "      <td>997.9</td>\n",
              "      <td>-1.8</td>\n",
              "      <td>0.0</td>\n",
              "      <td>3</td>\n",
              "      <td>0.0</td>\n",
              "      <td>0</td>\n",
              "    </tr>\n",
              "    <tr>\n",
              "      <th>178</th>\n",
              "      <td>179</td>\n",
              "      <td>2013</td>\n",
              "      <td>3</td>\n",
              "      <td>8</td>\n",
              "      <td>10</td>\n",
              "      <td>326.0</td>\n",
              "      <td>844.0</td>\n",
              "      <td>125.9496</td>\n",
              "      <td>179.2269</td>\n",
              "      <td>NaN</td>\n",
              "      <td>84.0</td>\n",
              "      <td>19.1</td>\n",
              "      <td>1000.9</td>\n",
              "      <td>-0.4</td>\n",
              "      <td>0.0</td>\n",
              "      <td>11</td>\n",
              "      <td>1.9</td>\n",
              "      <td>0</td>\n",
              "    </tr>\n",
              "    <tr>\n",
              "      <th>267</th>\n",
              "      <td>268</td>\n",
              "      <td>2013</td>\n",
              "      <td>3</td>\n",
              "      <td>12</td>\n",
              "      <td>3</td>\n",
              "      <td>117.0</td>\n",
              "      <td>127.0</td>\n",
              "      <td>73.0000</td>\n",
              "      <td>81.0000</td>\n",
              "      <td>NaN</td>\n",
              "      <td>47.0</td>\n",
              "      <td>6.4</td>\n",
              "      <td>1005.8</td>\n",
              "      <td>-1.0</td>\n",
              "      <td>0.1</td>\n",
              "      <td>3</td>\n",
              "      <td>2.2</td>\n",
              "      <td>0</td>\n",
              "    </tr>\n",
              "  </tbody>\n",
              "</table>\n",
              "</div>"
            ],
            "text/plain": [
              "      No  year  month  day  hour  PM2.5  ...    PRES  DEWP  RAIN  wd  WSPM  station\n",
              "75    76  2013      3    4     3   12.0  ...  1016.9 -11.6   0.0   3   2.8        0\n",
              "124  125  2013      3    6     4  192.0  ...  1007.3  -6.1   0.0   4   1.4        0\n",
              "171  172  2013      3    8     3  324.0  ...   997.9  -1.8   0.0   3   0.0        0\n",
              "178  179  2013      3    8    10  326.0  ...  1000.9  -0.4   0.0  11   1.9        0\n",
              "267  268  2013      3   12     3  117.0  ...  1005.8  -1.0   0.1   3   2.2        0\n",
              "\n",
              "[5 rows x 18 columns]"
            ]
          },
          "metadata": {
            "tags": []
          },
          "execution_count": 68
        }
      ]
    },
    {
      "cell_type": "code",
      "metadata": {
        "id": "QqaDLJI8ea_E"
      },
      "source": [
        "# df.head()"
      ],
      "execution_count": null,
      "outputs": []
    },
    {
      "cell_type": "code",
      "metadata": {
        "id": "rUQVDq4Tfqpq"
      },
      "source": [
        "# df.iloc[:,5:]\n",
        "# train.shape"
      ],
      "execution_count": null,
      "outputs": []
    },
    {
      "cell_type": "code",
      "metadata": {
        "colab": {
          "base_uri": "https://localhost:8080/",
          "height": 204
        },
        "id": "TofoafTneeLv",
        "outputId": "61cc1a15-6cc3-461a-e63d-79f702125ed4"
      },
      "source": [
        "\n",
        "# y=df['CO']\n",
        "# df=df.drop(columns=['CO'])\n",
        "CO=CO.drop(columns=['CO'])\n",
        "train=df.iloc[:,5:]\n",
        "train=train.dropna()\n",
        "test=CO.iloc[:,5:]\n",
        "columns1=train.columns\n",
        "columns2=test.columns\n",
        "\n",
        "from sklearn.preprocessing import MinMaxScaler\n",
        "scaler=MinMaxScaler()\n",
        "data=train.values\n",
        "data2=test.values\n",
        "data_scaled=scaler.fit_transform(data)\n",
        "data_scaled2=scaler.fit_transform(data2)\n",
        "train_scaled=pd.DataFrame(data=data_scaled,columns=columns1)\n",
        "test_scaled=pd.DataFrame(data=data_scaled2,columns=columns2)\n",
        "y=train_scaled['CO']\n",
        "train_scaled=train_scaled.drop(columns=['CO'])\n",
        "train_scaled.head()\n",
        "\n"
      ],
      "execution_count": null,
      "outputs": [
        {
          "output_type": "execute_result",
          "data": {
            "text/html": [
              "<div>\n",
              "<style scoped>\n",
              "    .dataframe tbody tr th:only-of-type {\n",
              "        vertical-align: middle;\n",
              "    }\n",
              "\n",
              "    .dataframe tbody tr th {\n",
              "        vertical-align: top;\n",
              "    }\n",
              "\n",
              "    .dataframe thead th {\n",
              "        text-align: right;\n",
              "    }\n",
              "</style>\n",
              "<table border=\"1\" class=\"dataframe\">\n",
              "  <thead>\n",
              "    <tr style=\"text-align: right;\">\n",
              "      <th></th>\n",
              "      <th>PM2.5</th>\n",
              "      <th>PM10</th>\n",
              "      <th>SO2</th>\n",
              "      <th>NO2</th>\n",
              "      <th>O3</th>\n",
              "      <th>TEMP</th>\n",
              "      <th>PRES</th>\n",
              "      <th>DEWP</th>\n",
              "      <th>RAIN</th>\n",
              "      <th>wd</th>\n",
              "      <th>WSPM</th>\n",
              "      <th>station</th>\n",
              "    </tr>\n",
              "  </thead>\n",
              "  <tbody>\n",
              "    <tr>\n",
              "      <th>0</th>\n",
              "      <td>0.002375</td>\n",
              "      <td>0.002006</td>\n",
              "      <td>0.007433</td>\n",
              "      <td>0.017361</td>\n",
              "      <td>0.071710</td>\n",
              "      <td>0.312195</td>\n",
              "      <td>0.672185</td>\n",
              "      <td>0.264209</td>\n",
              "      <td>0.0</td>\n",
              "      <td>0.3750</td>\n",
              "      <td>0.333333</td>\n",
              "      <td>0.0</td>\n",
              "    </tr>\n",
              "    <tr>\n",
              "      <th>1</th>\n",
              "      <td>0.007126</td>\n",
              "      <td>0.006018</td>\n",
              "      <td>0.007433</td>\n",
              "      <td>0.017361</td>\n",
              "      <td>0.071710</td>\n",
              "      <td>0.305691</td>\n",
              "      <td>0.675497</td>\n",
              "      <td>0.273425</td>\n",
              "      <td>0.0</td>\n",
              "      <td>0.1875</td>\n",
              "      <td>0.356061</td>\n",
              "      <td>0.0</td>\n",
              "    </tr>\n",
              "    <tr>\n",
              "      <th>2</th>\n",
              "      <td>0.005938</td>\n",
              "      <td>0.005015</td>\n",
              "      <td>0.009434</td>\n",
              "      <td>0.027778</td>\n",
              "      <td>0.067974</td>\n",
              "      <td>0.305691</td>\n",
              "      <td>0.680464</td>\n",
              "      <td>0.273425</td>\n",
              "      <td>0.0</td>\n",
              "      <td>0.3750</td>\n",
              "      <td>0.424242</td>\n",
              "      <td>0.0</td>\n",
              "    </tr>\n",
              "    <tr>\n",
              "      <th>3</th>\n",
              "      <td>0.004751</td>\n",
              "      <td>0.004012</td>\n",
              "      <td>0.021441</td>\n",
              "      <td>0.031250</td>\n",
              "      <td>0.067040</td>\n",
              "      <td>0.300813</td>\n",
              "      <td>0.697020</td>\n",
              "      <td>0.254992</td>\n",
              "      <td>0.0</td>\n",
              "      <td>0.4375</td>\n",
              "      <td>0.234848</td>\n",
              "      <td>0.0</td>\n",
              "    </tr>\n",
              "    <tr>\n",
              "      <th>4</th>\n",
              "      <td>0.001188</td>\n",
              "      <td>0.001003</td>\n",
              "      <td>0.023442</td>\n",
              "      <td>0.034722</td>\n",
              "      <td>0.067040</td>\n",
              "      <td>0.291057</td>\n",
              "      <td>0.708609</td>\n",
              "      <td>0.253456</td>\n",
              "      <td>0.0</td>\n",
              "      <td>0.1875</td>\n",
              "      <td>0.151515</td>\n",
              "      <td>0.0</td>\n",
              "    </tr>\n",
              "  </tbody>\n",
              "</table>\n",
              "</div>"
            ],
            "text/plain": [
              "      PM2.5      PM10       SO2       NO2  ...  RAIN      wd      WSPM  station\n",
              "0  0.002375  0.002006  0.007433  0.017361  ...   0.0  0.3750  0.333333      0.0\n",
              "1  0.007126  0.006018  0.007433  0.017361  ...   0.0  0.1875  0.356061      0.0\n",
              "2  0.005938  0.005015  0.009434  0.027778  ...   0.0  0.3750  0.424242      0.0\n",
              "3  0.004751  0.004012  0.021441  0.031250  ...   0.0  0.4375  0.234848      0.0\n",
              "4  0.001188  0.001003  0.023442  0.034722  ...   0.0  0.1875  0.151515      0.0\n",
              "\n",
              "[5 rows x 12 columns]"
            ]
          },
          "metadata": {
            "tags": []
          },
          "execution_count": 17
        }
      ]
    },
    {
      "cell_type": "code",
      "metadata": {
        "colab": {
          "base_uri": "https://localhost:8080/"
        },
        "id": "s3b5xEKPkvcb",
        "outputId": "66cb9d59-369a-442a-869b-5a9c194b51f3"
      },
      "source": [
        ""
      ],
      "execution_count": null,
      "outputs": [
        {
          "output_type": "execute_result",
          "data": {
            "text/plain": [
              "0        300.0\n",
              "1        300.0\n",
              "2        300.0\n",
              "3        300.0\n",
              "4        300.0\n",
              "         ...  \n",
              "35059    400.0\n",
              "35060    500.0\n",
              "35061    500.0\n",
              "35062    400.0\n",
              "35063    600.0\n",
              "Name: CO, Length: 400067, dtype: float64"
            ]
          },
          "metadata": {
            "tags": []
          },
          "execution_count": 99
        }
      ]
    },
    {
      "cell_type": "code",
      "metadata": {
        "colab": {
          "base_uri": "https://localhost:8080/"
        },
        "id": "LMbFjoJwgY0f",
        "outputId": "92859e6e-7b44-4e0f-c356-e912d8b2957f"
      },
      "source": [
        "from tensorflow.keras.layers import Dense,BatchNormalization\n",
        "from tensorflow.keras.models import Sequential\n",
        "\n",
        "model=Sequential()\n",
        "model.add(Dense(128,input_dim=train_scaled.shape[1],activation='relu',kernel_initializer='normal'))\n",
        "model.add(BatchNormalization())\n",
        "model.add(Dense(128,activation='relu',kernel_initializer='normal'))\n",
        "model.add(BatchNormalization())\n",
        "model.add(Dense(64,activation='relu',kernel_initializer='normal'))\n",
        "model.add(Dense(1))\n",
        "\n",
        "model.compile(loss='mean_squared_error',optimizer='adam')\n",
        "\n",
        "model.summary()"
      ],
      "execution_count": null,
      "outputs": [
        {
          "output_type": "stream",
          "text": [
            "Model: \"sequential_1\"\n",
            "_________________________________________________________________\n",
            "Layer (type)                 Output Shape              Param #   \n",
            "=================================================================\n",
            "dense_4 (Dense)              (None, 128)               1664      \n",
            "_________________________________________________________________\n",
            "batch_normalization_2 (Batch (None, 128)               512       \n",
            "_________________________________________________________________\n",
            "dense_5 (Dense)              (None, 128)               16512     \n",
            "_________________________________________________________________\n",
            "batch_normalization_3 (Batch (None, 128)               512       \n",
            "_________________________________________________________________\n",
            "dense_6 (Dense)              (None, 64)                8256      \n",
            "_________________________________________________________________\n",
            "dense_7 (Dense)              (None, 1)                 65        \n",
            "=================================================================\n",
            "Total params: 27,521\n",
            "Trainable params: 27,009\n",
            "Non-trainable params: 512\n",
            "_________________________________________________________________\n"
          ],
          "name": "stdout"
        }
      ]
    },
    {
      "cell_type": "code",
      "metadata": {
        "id": "23N4UQ5KlhCO"
      },
      "source": [
        "from tensorflow.keras.callbacks import ReduceLROnPlateau,EarlyStopping\n",
        "learning_rate=ReduceLROnPlateau(monitor='loss',\n",
        "                                           patience=3,\n",
        "                                           verbose=1,\n",
        "                                           factor=0.5,\n",
        "                                           min_lr=0.001)\n",
        "cb_early_stop=EarlyStopping(monitor = 'loss', patience = 3)\n",
        "callbacks_list=[learning_rate,cb_early_stop]"
      ],
      "execution_count": null,
      "outputs": []
    },
    {
      "cell_type": "code",
      "metadata": {
        "colab": {
          "base_uri": "https://localhost:8080/"
        },
        "id": "PzP7cTsdkBlo",
        "outputId": "fc07621d-1cbf-4b93-cd55-3822be34c067"
      },
      "source": [
        "history=model.fit(np.array(train_scaled.values),np.array(y),epochs=2,batch_size=128,validation_split=0.2,callbacks=callbacks_list)"
      ],
      "execution_count": null,
      "outputs": [
        {
          "output_type": "stream",
          "text": [
            "Epoch 1/2\n",
            "2398/2398 [==============================] - 7s 3ms/step - loss: 0.0093 - val_loss: 0.0041\n",
            "Epoch 2/2\n",
            "2398/2398 [==============================] - 6s 2ms/step - loss: 0.0031 - val_loss: 0.0037\n"
          ],
          "name": "stdout"
        }
      ]
    },
    {
      "cell_type": "code",
      "metadata": {
        "colab": {
          "base_uri": "https://localhost:8080/"
        },
        "id": "o5zibxa8lRvI",
        "outputId": "e0cb7786-b386-44b5-abc8-55985f7e9c20"
      },
      "source": [
        "df.CO.max()"
      ],
      "execution_count": null,
      "outputs": [
        {
          "output_type": "execute_result",
          "data": {
            "text/plain": [
              "10000.0"
            ]
          },
          "metadata": {
            "tags": []
          },
          "execution_count": 45
        }
      ]
    },
    {
      "cell_type": "code",
      "metadata": {
        "colab": {
          "base_uri": "https://localhost:8080/"
        },
        "id": "IfIngBOskJXp",
        "outputId": "5ee94eca-822b-4619-efde-9ba6a87f75e1"
      },
      "source": [
        "test_scaled=test_scaled.dropna()\n",
        "pred=model.predict(test_scaled)*10000\n",
        "# pred=scaler.inverse_transform(pred)\n",
        "pred"
      ],
      "execution_count": null,
      "outputs": [
        {
          "output_type": "execute_result",
          "data": {
            "text/plain": [
              "array([[ 279.26498],\n",
              "       [4157.208  ],\n",
              "       [3504.6797 ],\n",
              "       ...,\n",
              "       [1125.6482 ],\n",
              "       [ 995.7966 ],\n",
              "       [3118.2388 ]], dtype=float32)"
            ]
          },
          "metadata": {
            "tags": []
          },
          "execution_count": 46
        }
      ]
    },
    {
      "cell_type": "code",
      "metadata": {
        "colab": {
          "base_uri": "https://localhost:8080/"
        },
        "id": "XmIu6ochk-7E",
        "outputId": "80da1edc-ca16-4fe0-94e7-9145d106b97d"
      },
      "source": [
        "'''\n",
        "from sklearn.linear_model import LinearRegression\n",
        "lr=LinearRegression()\n",
        "lr.fit(train_scaled,y)\n",
        "lr.score(train_scaled,y) '''"
      ],
      "execution_count": null,
      "outputs": [
        {
          "output_type": "execute_result",
          "data": {
            "text/plain": [
              "0.7234642959687411"
            ]
          },
          "metadata": {
            "tags": []
          },
          "execution_count": 69
        }
      ]
    },
    {
      "cell_type": "code",
      "metadata": {
        "colab": {
          "base_uri": "https://localhost:8080/"
        },
        "id": "Pv5TGhrdxrlu",
        "outputId": "986bf5df-31f7-4eb4-9578-c0f0a081e4e8"
      },
      "source": [
        "y"
      ],
      "execution_count": null,
      "outputs": [
        {
          "output_type": "execute_result",
          "data": {
            "text/plain": [
              "0         0.020202\n",
              "1         0.020202\n",
              "2         0.020202\n",
              "3         0.020202\n",
              "4         0.020202\n",
              "            ...   \n",
              "383580    0.030303\n",
              "383581    0.040404\n",
              "383582    0.040404\n",
              "383583    0.030303\n",
              "383584    0.050505\n",
              "Name: CO, Length: 383585, dtype: float64"
            ]
          },
          "metadata": {
            "tags": []
          },
          "execution_count": 147
        }
      ]
    },
    {
      "cell_type": "code",
      "metadata": {
        "colab": {
          "base_uri": "https://localhost:8080/",
          "height": 204
        },
        "id": "aW_4gl2rmgwm",
        "outputId": "73b6d8db-0c83-4386-90d5-c09cd7799276"
      },
      "source": [
        "test_scaled['CO']=pred\n",
        "test_scaled.head()"
      ],
      "execution_count": null,
      "outputs": [
        {
          "output_type": "execute_result",
          "data": {
            "text/html": [
              "<div>\n",
              "<style scoped>\n",
              "    .dataframe tbody tr th:only-of-type {\n",
              "        vertical-align: middle;\n",
              "    }\n",
              "\n",
              "    .dataframe tbody tr th {\n",
              "        vertical-align: top;\n",
              "    }\n",
              "\n",
              "    .dataframe thead th {\n",
              "        text-align: right;\n",
              "    }\n",
              "</style>\n",
              "<table border=\"1\" class=\"dataframe\">\n",
              "  <thead>\n",
              "    <tr style=\"text-align: right;\">\n",
              "      <th></th>\n",
              "      <th>PM2.5</th>\n",
              "      <th>PM10</th>\n",
              "      <th>SO2</th>\n",
              "      <th>NO2</th>\n",
              "      <th>O3</th>\n",
              "      <th>TEMP</th>\n",
              "      <th>PRES</th>\n",
              "      <th>DEWP</th>\n",
              "      <th>RAIN</th>\n",
              "      <th>wd</th>\n",
              "      <th>WSPM</th>\n",
              "      <th>station</th>\n",
              "      <th>CO</th>\n",
              "    </tr>\n",
              "  </thead>\n",
              "  <tbody>\n",
              "    <tr>\n",
              "      <th>0</th>\n",
              "      <td>0.013966</td>\n",
              "      <td>0.032587</td>\n",
              "      <td>0.029198</td>\n",
              "      <td>0.039907</td>\n",
              "      <td>0.213126</td>\n",
              "      <td>0.421550</td>\n",
              "      <td>0.612903</td>\n",
              "      <td>0.324415</td>\n",
              "      <td>0.000000</td>\n",
              "      <td>0.1875</td>\n",
              "      <td>0.256881</td>\n",
              "      <td>0.0</td>\n",
              "      <td>279.264984</td>\n",
              "    </tr>\n",
              "    <tr>\n",
              "      <th>1</th>\n",
              "      <td>0.265363</td>\n",
              "      <td>0.204684</td>\n",
              "      <td>0.426107</td>\n",
              "      <td>0.506953</td>\n",
              "      <td>0.060468</td>\n",
              "      <td>0.359168</td>\n",
              "      <td>0.440860</td>\n",
              "      <td>0.416388</td>\n",
              "      <td>0.000000</td>\n",
              "      <td>0.2500</td>\n",
              "      <td>0.128440</td>\n",
              "      <td>0.0</td>\n",
              "      <td>4157.208008</td>\n",
              "    </tr>\n",
              "    <tr>\n",
              "      <th>2</th>\n",
              "      <td>0.449721</td>\n",
              "      <td>0.377800</td>\n",
              "      <td>0.361314</td>\n",
              "      <td>0.556321</td>\n",
              "      <td>0.232555</td>\n",
              "      <td>0.319471</td>\n",
              "      <td>0.272401</td>\n",
              "      <td>0.488294</td>\n",
              "      <td>0.000000</td>\n",
              "      <td>0.1875</td>\n",
              "      <td>0.000000</td>\n",
              "      <td>0.0</td>\n",
              "      <td>3504.679688</td>\n",
              "    </tr>\n",
              "    <tr>\n",
              "      <th>3</th>\n",
              "      <td>0.452514</td>\n",
              "      <td>0.857434</td>\n",
              "      <td>0.642078</td>\n",
              "      <td>0.648064</td>\n",
              "      <td>0.232555</td>\n",
              "      <td>0.646503</td>\n",
              "      <td>0.326165</td>\n",
              "      <td>0.511706</td>\n",
              "      <td>0.000000</td>\n",
              "      <td>0.6875</td>\n",
              "      <td>0.174312</td>\n",
              "      <td>0.0</td>\n",
              "      <td>4970.265137</td>\n",
              "    </tr>\n",
              "    <tr>\n",
              "      <th>4</th>\n",
              "      <td>0.160615</td>\n",
              "      <td>0.127291</td>\n",
              "      <td>0.371533</td>\n",
              "      <td>0.290841</td>\n",
              "      <td>0.129858</td>\n",
              "      <td>0.406427</td>\n",
              "      <td>0.413978</td>\n",
              "      <td>0.501672</td>\n",
              "      <td>0.001379</td>\n",
              "      <td>0.1875</td>\n",
              "      <td>0.201835</td>\n",
              "      <td>0.0</td>\n",
              "      <td>2470.810059</td>\n",
              "    </tr>\n",
              "  </tbody>\n",
              "</table>\n",
              "</div>"
            ],
            "text/plain": [
              "      PM2.5      PM10       SO2  ...      WSPM  station           CO\n",
              "0  0.013966  0.032587  0.029198  ...  0.256881      0.0   279.264984\n",
              "1  0.265363  0.204684  0.426107  ...  0.128440      0.0  4157.208008\n",
              "2  0.449721  0.377800  0.361314  ...  0.000000      0.0  3504.679688\n",
              "3  0.452514  0.857434  0.642078  ...  0.174312      0.0  4970.265137\n",
              "4  0.160615  0.127291  0.371533  ...  0.201835      0.0  2470.810059\n",
              "\n",
              "[5 rows x 13 columns]"
            ]
          },
          "metadata": {
            "tags": []
          },
          "execution_count": 47
        }
      ]
    },
    {
      "cell_type": "code",
      "metadata": {
        "colab": {
          "base_uri": "https://localhost:8080/",
          "height": 317
        },
        "id": "zq4WT1BUmR2P",
        "outputId": "a22848b3-5d56-4337-d9c8-1bcde7b79469"
      },
      "source": [
        "test_scaled.describe()"
      ],
      "execution_count": null,
      "outputs": [
        {
          "output_type": "execute_result",
          "data": {
            "text/html": [
              "<div>\n",
              "<style scoped>\n",
              "    .dataframe tbody tr th:only-of-type {\n",
              "        vertical-align: middle;\n",
              "    }\n",
              "\n",
              "    .dataframe tbody tr th {\n",
              "        vertical-align: top;\n",
              "    }\n",
              "\n",
              "    .dataframe thead th {\n",
              "        text-align: right;\n",
              "    }\n",
              "</style>\n",
              "<table border=\"1\" class=\"dataframe\">\n",
              "  <thead>\n",
              "    <tr style=\"text-align: right;\">\n",
              "      <th></th>\n",
              "      <th>PM2.5</th>\n",
              "      <th>PM10</th>\n",
              "      <th>SO2</th>\n",
              "      <th>NO2</th>\n",
              "      <th>O3</th>\n",
              "      <th>TEMP</th>\n",
              "      <th>PRES</th>\n",
              "      <th>DEWP</th>\n",
              "      <th>RAIN</th>\n",
              "      <th>wd</th>\n",
              "      <th>WSPM</th>\n",
              "      <th>station</th>\n",
              "      <th>CO</th>\n",
              "    </tr>\n",
              "  </thead>\n",
              "  <tbody>\n",
              "    <tr>\n",
              "      <th>count</th>\n",
              "      <td>11313.000000</td>\n",
              "      <td>11313.000000</td>\n",
              "      <td>11313.000000</td>\n",
              "      <td>11313.000000</td>\n",
              "      <td>11313.000000</td>\n",
              "      <td>11313.000000</td>\n",
              "      <td>11313.000000</td>\n",
              "      <td>11313.000000</td>\n",
              "      <td>11313.000000</td>\n",
              "      <td>11313.000000</td>\n",
              "      <td>11313.000000</td>\n",
              "      <td>11313.000000</td>\n",
              "      <td>11313.000000</td>\n",
              "    </tr>\n",
              "    <tr>\n",
              "      <th>mean</th>\n",
              "      <td>82.757951</td>\n",
              "      <td>103.590100</td>\n",
              "      <td>19.076159</td>\n",
              "      <td>49.625008</td>\n",
              "      <td>55.233340</td>\n",
              "      <td>14.587176</td>\n",
              "      <td>1009.194956</td>\n",
              "      <td>3.421206</td>\n",
              "      <td>0.054336</td>\n",
              "      <td>6.848228</td>\n",
              "      <td>1.713648</td>\n",
              "      <td>4.808627</td>\n",
              "      <td>190.693359</td>\n",
              "    </tr>\n",
              "    <tr>\n",
              "      <th>std</th>\n",
              "      <td>93.644241</td>\n",
              "      <td>101.602144</td>\n",
              "      <td>22.863498</td>\n",
              "      <td>35.104172</td>\n",
              "      <td>54.957441</td>\n",
              "      <td>11.563058</td>\n",
              "      <td>10.725812</td>\n",
              "      <td>14.593002</td>\n",
              "      <td>0.942960</td>\n",
              "      <td>4.620637</td>\n",
              "      <td>1.286294</td>\n",
              "      <td>3.251682</td>\n",
              "      <td>109.686302</td>\n",
              "    </tr>\n",
              "    <tr>\n",
              "      <th>min</th>\n",
              "      <td>2.000000</td>\n",
              "      <td>2.000000</td>\n",
              "      <td>0.285600</td>\n",
              "      <td>1.026500</td>\n",
              "      <td>0.214200</td>\n",
              "      <td>-15.100000</td>\n",
              "      <td>984.100000</td>\n",
              "      <td>-27.700000</td>\n",
              "      <td>0.000000</td>\n",
              "      <td>0.000000</td>\n",
              "      <td>0.000000</td>\n",
              "      <td>0.000000</td>\n",
              "      <td>23.551424</td>\n",
              "    </tr>\n",
              "    <tr>\n",
              "      <th>25%</th>\n",
              "      <td>20.000000</td>\n",
              "      <td>33.000000</td>\n",
              "      <td>4.000000</td>\n",
              "      <td>23.198900</td>\n",
              "      <td>13.000000</td>\n",
              "      <td>4.000000</td>\n",
              "      <td>1000.000000</td>\n",
              "      <td>-9.800000</td>\n",
              "      <td>0.000000</td>\n",
              "      <td>3.000000</td>\n",
              "      <td>0.900000</td>\n",
              "      <td>2.000000</td>\n",
              "      <td>105.028427</td>\n",
              "    </tr>\n",
              "    <tr>\n",
              "      <th>50%</th>\n",
              "      <td>53.000000</td>\n",
              "      <td>78.000000</td>\n",
              "      <td>10.281600</td>\n",
              "      <td>43.000000</td>\n",
              "      <td>40.483800</td>\n",
              "      <td>16.100000</td>\n",
              "      <td>1009.800000</td>\n",
              "      <td>4.000000</td>\n",
              "      <td>0.000000</td>\n",
              "      <td>6.000000</td>\n",
              "      <td>1.400000</td>\n",
              "      <td>4.000000</td>\n",
              "      <td>164.850235</td>\n",
              "    </tr>\n",
              "    <tr>\n",
              "      <th>75%</th>\n",
              "      <td>113.000000</td>\n",
              "      <td>142.000000</td>\n",
              "      <td>24.276000</td>\n",
              "      <td>67.000000</td>\n",
              "      <td>76.897800</td>\n",
              "      <td>24.800000</td>\n",
              "      <td>1017.700000</td>\n",
              "      <td>17.000000</td>\n",
              "      <td>0.000000</td>\n",
              "      <td>11.000000</td>\n",
              "      <td>2.200000</td>\n",
              "      <td>8.000000</td>\n",
              "      <td>248.880447</td>\n",
              "    </tr>\n",
              "    <tr>\n",
              "      <th>max</th>\n",
              "      <td>718.000000</td>\n",
              "      <td>984.000000</td>\n",
              "      <td>196.000000</td>\n",
              "      <td>276.000000</td>\n",
              "      <td>360.498600</td>\n",
              "      <td>37.800000</td>\n",
              "      <td>1038.000000</td>\n",
              "      <td>28.800000</td>\n",
              "      <td>72.500000</td>\n",
              "      <td>16.000000</td>\n",
              "      <td>10.900000</td>\n",
              "      <td>11.000000</td>\n",
              "      <td>659.530090</td>\n",
              "    </tr>\n",
              "  </tbody>\n",
              "</table>\n",
              "</div>"
            ],
            "text/plain": [
              "              PM2.5          PM10  ...       station            CO\n",
              "count  11313.000000  11313.000000  ...  11313.000000  11313.000000\n",
              "mean      82.757951    103.590100  ...      4.808627    190.693359\n",
              "std       93.644241    101.602144  ...      3.251682    109.686302\n",
              "min        2.000000      2.000000  ...      0.000000     23.551424\n",
              "25%       20.000000     33.000000  ...      2.000000    105.028427\n",
              "50%       53.000000     78.000000  ...      4.000000    164.850235\n",
              "75%      113.000000    142.000000  ...      8.000000    248.880447\n",
              "max      718.000000    984.000000  ...     11.000000    659.530090\n",
              "\n",
              "[8 rows x 13 columns]"
            ]
          },
          "metadata": {
            "tags": []
          },
          "execution_count": 124
        }
      ]
    },
    {
      "cell_type": "markdown",
      "metadata": {
        "id": "SQ8JXEInJvbv"
      },
      "source": [
        "**Forecasting the future data using Recurrent neural networks(LSTM)**"
      ]
    },
    {
      "cell_type": "code",
      "metadata": {
        "id": "w1rBAcVnm20T",
        "colab": {
          "base_uri": "https://localhost:8080/",
          "height": 204
        },
        "outputId": "c7e89389-2502-42c1-b1ae-34d04979ed73"
      },
      "source": [
        "df1=d1.copy()\n",
        "df1.head()"
      ],
      "execution_count": null,
      "outputs": [
        {
          "output_type": "execute_result",
          "data": {
            "text/html": [
              "<div>\n",
              "<style scoped>\n",
              "    .dataframe tbody tr th:only-of-type {\n",
              "        vertical-align: middle;\n",
              "    }\n",
              "\n",
              "    .dataframe tbody tr th {\n",
              "        vertical-align: top;\n",
              "    }\n",
              "\n",
              "    .dataframe thead th {\n",
              "        text-align: right;\n",
              "    }\n",
              "</style>\n",
              "<table border=\"1\" class=\"dataframe\">\n",
              "  <thead>\n",
              "    <tr style=\"text-align: right;\">\n",
              "      <th></th>\n",
              "      <th>No</th>\n",
              "      <th>year</th>\n",
              "      <th>month</th>\n",
              "      <th>day</th>\n",
              "      <th>hour</th>\n",
              "      <th>PM2.5</th>\n",
              "      <th>PM10</th>\n",
              "      <th>SO2</th>\n",
              "      <th>NO2</th>\n",
              "      <th>CO</th>\n",
              "      <th>O3</th>\n",
              "      <th>TEMP</th>\n",
              "      <th>PRES</th>\n",
              "      <th>DEWP</th>\n",
              "      <th>RAIN</th>\n",
              "      <th>wd</th>\n",
              "      <th>WSPM</th>\n",
              "      <th>station</th>\n",
              "    </tr>\n",
              "  </thead>\n",
              "  <tbody>\n",
              "    <tr>\n",
              "      <th>0</th>\n",
              "      <td>1</td>\n",
              "      <td>2013</td>\n",
              "      <td>3</td>\n",
              "      <td>1</td>\n",
              "      <td>0</td>\n",
              "      <td>4.0</td>\n",
              "      <td>4.0</td>\n",
              "      <td>4.0</td>\n",
              "      <td>7.0</td>\n",
              "      <td>300.0</td>\n",
              "      <td>77.0</td>\n",
              "      <td>-0.7</td>\n",
              "      <td>1023.0</td>\n",
              "      <td>-18.8</td>\n",
              "      <td>0.0</td>\n",
              "      <td>NNW</td>\n",
              "      <td>4.4</td>\n",
              "      <td>Aotizhongxin</td>\n",
              "    </tr>\n",
              "    <tr>\n",
              "      <th>1</th>\n",
              "      <td>2</td>\n",
              "      <td>2013</td>\n",
              "      <td>3</td>\n",
              "      <td>1</td>\n",
              "      <td>1</td>\n",
              "      <td>8.0</td>\n",
              "      <td>8.0</td>\n",
              "      <td>4.0</td>\n",
              "      <td>7.0</td>\n",
              "      <td>300.0</td>\n",
              "      <td>77.0</td>\n",
              "      <td>-1.1</td>\n",
              "      <td>1023.2</td>\n",
              "      <td>-18.2</td>\n",
              "      <td>0.0</td>\n",
              "      <td>N</td>\n",
              "      <td>4.7</td>\n",
              "      <td>Aotizhongxin</td>\n",
              "    </tr>\n",
              "    <tr>\n",
              "      <th>2</th>\n",
              "      <td>3</td>\n",
              "      <td>2013</td>\n",
              "      <td>3</td>\n",
              "      <td>1</td>\n",
              "      <td>2</td>\n",
              "      <td>7.0</td>\n",
              "      <td>7.0</td>\n",
              "      <td>5.0</td>\n",
              "      <td>10.0</td>\n",
              "      <td>300.0</td>\n",
              "      <td>73.0</td>\n",
              "      <td>-1.1</td>\n",
              "      <td>1023.5</td>\n",
              "      <td>-18.2</td>\n",
              "      <td>0.0</td>\n",
              "      <td>NNW</td>\n",
              "      <td>5.6</td>\n",
              "      <td>Aotizhongxin</td>\n",
              "    </tr>\n",
              "    <tr>\n",
              "      <th>3</th>\n",
              "      <td>4</td>\n",
              "      <td>2013</td>\n",
              "      <td>3</td>\n",
              "      <td>1</td>\n",
              "      <td>3</td>\n",
              "      <td>6.0</td>\n",
              "      <td>6.0</td>\n",
              "      <td>11.0</td>\n",
              "      <td>11.0</td>\n",
              "      <td>300.0</td>\n",
              "      <td>72.0</td>\n",
              "      <td>-1.4</td>\n",
              "      <td>1024.5</td>\n",
              "      <td>-19.4</td>\n",
              "      <td>0.0</td>\n",
              "      <td>NW</td>\n",
              "      <td>3.1</td>\n",
              "      <td>Aotizhongxin</td>\n",
              "    </tr>\n",
              "    <tr>\n",
              "      <th>4</th>\n",
              "      <td>5</td>\n",
              "      <td>2013</td>\n",
              "      <td>3</td>\n",
              "      <td>1</td>\n",
              "      <td>4</td>\n",
              "      <td>3.0</td>\n",
              "      <td>3.0</td>\n",
              "      <td>12.0</td>\n",
              "      <td>12.0</td>\n",
              "      <td>300.0</td>\n",
              "      <td>72.0</td>\n",
              "      <td>-2.0</td>\n",
              "      <td>1025.2</td>\n",
              "      <td>-19.5</td>\n",
              "      <td>0.0</td>\n",
              "      <td>N</td>\n",
              "      <td>2.0</td>\n",
              "      <td>Aotizhongxin</td>\n",
              "    </tr>\n",
              "  </tbody>\n",
              "</table>\n",
              "</div>"
            ],
            "text/plain": [
              "   No  year  month  day  hour  ...  DEWP  RAIN   wd  WSPM       station\n",
              "0   1  2013      3    1     0  ... -18.8   0.0  NNW   4.4  Aotizhongxin\n",
              "1   2  2013      3    1     1  ... -18.2   0.0    N   4.7  Aotizhongxin\n",
              "2   3  2013      3    1     2  ... -18.2   0.0  NNW   5.6  Aotizhongxin\n",
              "3   4  2013      3    1     3  ... -19.4   0.0   NW   3.1  Aotizhongxin\n",
              "4   5  2013      3    1     4  ... -19.5   0.0    N   2.0  Aotizhongxin\n",
              "\n",
              "[5 rows x 18 columns]"
            ]
          },
          "metadata": {
            "tags": []
          },
          "execution_count": 93
        }
      ]
    },
    {
      "cell_type": "code",
      "metadata": {
        "colab": {
          "base_uri": "https://localhost:8080/",
          "height": 204
        },
        "id": "i44t17KUSsdK",
        "outputId": "db076032-b62a-4b40-fb5e-773dda942821"
      },
      "source": [
        "df1['date']=pd.to_datetime(df1[['year','month','day','hour']])\n",
        "df1=df1.drop(columns=['year','month','day','hour','No','TEMP','PRES','DEWP','RAIN','wd','WSPM','station'])\n",
        "df1.head()"
      ],
      "execution_count": null,
      "outputs": [
        {
          "output_type": "execute_result",
          "data": {
            "text/html": [
              "<div>\n",
              "<style scoped>\n",
              "    .dataframe tbody tr th:only-of-type {\n",
              "        vertical-align: middle;\n",
              "    }\n",
              "\n",
              "    .dataframe tbody tr th {\n",
              "        vertical-align: top;\n",
              "    }\n",
              "\n",
              "    .dataframe thead th {\n",
              "        text-align: right;\n",
              "    }\n",
              "</style>\n",
              "<table border=\"1\" class=\"dataframe\">\n",
              "  <thead>\n",
              "    <tr style=\"text-align: right;\">\n",
              "      <th></th>\n",
              "      <th>PM2.5</th>\n",
              "      <th>PM10</th>\n",
              "      <th>SO2</th>\n",
              "      <th>NO2</th>\n",
              "      <th>CO</th>\n",
              "      <th>O3</th>\n",
              "      <th>date</th>\n",
              "    </tr>\n",
              "  </thead>\n",
              "  <tbody>\n",
              "    <tr>\n",
              "      <th>0</th>\n",
              "      <td>4.0</td>\n",
              "      <td>4.0</td>\n",
              "      <td>4.0</td>\n",
              "      <td>7.0</td>\n",
              "      <td>300.0</td>\n",
              "      <td>77.0</td>\n",
              "      <td>2013-03-01 00:00:00</td>\n",
              "    </tr>\n",
              "    <tr>\n",
              "      <th>1</th>\n",
              "      <td>8.0</td>\n",
              "      <td>8.0</td>\n",
              "      <td>4.0</td>\n",
              "      <td>7.0</td>\n",
              "      <td>300.0</td>\n",
              "      <td>77.0</td>\n",
              "      <td>2013-03-01 01:00:00</td>\n",
              "    </tr>\n",
              "    <tr>\n",
              "      <th>2</th>\n",
              "      <td>7.0</td>\n",
              "      <td>7.0</td>\n",
              "      <td>5.0</td>\n",
              "      <td>10.0</td>\n",
              "      <td>300.0</td>\n",
              "      <td>73.0</td>\n",
              "      <td>2013-03-01 02:00:00</td>\n",
              "    </tr>\n",
              "    <tr>\n",
              "      <th>3</th>\n",
              "      <td>6.0</td>\n",
              "      <td>6.0</td>\n",
              "      <td>11.0</td>\n",
              "      <td>11.0</td>\n",
              "      <td>300.0</td>\n",
              "      <td>72.0</td>\n",
              "      <td>2013-03-01 03:00:00</td>\n",
              "    </tr>\n",
              "    <tr>\n",
              "      <th>4</th>\n",
              "      <td>3.0</td>\n",
              "      <td>3.0</td>\n",
              "      <td>12.0</td>\n",
              "      <td>12.0</td>\n",
              "      <td>300.0</td>\n",
              "      <td>72.0</td>\n",
              "      <td>2013-03-01 04:00:00</td>\n",
              "    </tr>\n",
              "  </tbody>\n",
              "</table>\n",
              "</div>"
            ],
            "text/plain": [
              "   PM2.5  PM10   SO2   NO2     CO    O3                date\n",
              "0    4.0   4.0   4.0   7.0  300.0  77.0 2013-03-01 00:00:00\n",
              "1    8.0   8.0   4.0   7.0  300.0  77.0 2013-03-01 01:00:00\n",
              "2    7.0   7.0   5.0  10.0  300.0  73.0 2013-03-01 02:00:00\n",
              "3    6.0   6.0  11.0  11.0  300.0  72.0 2013-03-01 03:00:00\n",
              "4    3.0   3.0  12.0  12.0  300.0  72.0 2013-03-01 04:00:00"
            ]
          },
          "metadata": {
            "tags": []
          },
          "execution_count": 94
        }
      ]
    },
    {
      "cell_type": "code",
      "metadata": {
        "colab": {
          "base_uri": "https://localhost:8080/"
        },
        "id": "ORmqRFWH0uCD",
        "outputId": "0fc7f3aa-4b70-4a2d-b7fd-cfbaa50957d1"
      },
      "source": [
        "df1.isnull().sum()"
      ],
      "execution_count": null,
      "outputs": [
        {
          "output_type": "execute_result",
          "data": {
            "text/plain": [
              "PM2.5     925\n",
              "PM10      718\n",
              "SO2       935\n",
              "NO2      1023\n",
              "CO       1776\n",
              "O3       1719\n",
              "date        0\n",
              "dtype: int64"
            ]
          },
          "metadata": {
            "tags": []
          },
          "execution_count": 95
        }
      ]
    },
    {
      "cell_type": "code",
      "metadata": {
        "colab": {
          "base_uri": "https://localhost:8080/"
        },
        "id": "-rMRGjvR08z8",
        "outputId": "46feacc6-eba1-4800-d9cb-8f514b183b40"
      },
      "source": [
        "df1.fillna(method='ffill',inplace=True)\n",
        "df1.isnull().sum()"
      ],
      "execution_count": null,
      "outputs": [
        {
          "output_type": "execute_result",
          "data": {
            "text/plain": [
              "PM2.5    0\n",
              "PM10     0\n",
              "SO2      0\n",
              "NO2      0\n",
              "CO       0\n",
              "O3       0\n",
              "date     0\n",
              "dtype: int64"
            ]
          },
          "metadata": {
            "tags": []
          },
          "execution_count": 96
        }
      ]
    },
    {
      "cell_type": "code",
      "metadata": {
        "colab": {
          "base_uri": "https://localhost:8080/",
          "height": 204
        },
        "id": "8CAXx8H31U1T",
        "outputId": "92352fd6-bcf8-4936-aa6e-cb07be2e6369"
      },
      "source": [
        "df1.head()"
      ],
      "execution_count": null,
      "outputs": [
        {
          "output_type": "execute_result",
          "data": {
            "text/html": [
              "<div>\n",
              "<style scoped>\n",
              "    .dataframe tbody tr th:only-of-type {\n",
              "        vertical-align: middle;\n",
              "    }\n",
              "\n",
              "    .dataframe tbody tr th {\n",
              "        vertical-align: top;\n",
              "    }\n",
              "\n",
              "    .dataframe thead th {\n",
              "        text-align: right;\n",
              "    }\n",
              "</style>\n",
              "<table border=\"1\" class=\"dataframe\">\n",
              "  <thead>\n",
              "    <tr style=\"text-align: right;\">\n",
              "      <th></th>\n",
              "      <th>PM2.5</th>\n",
              "      <th>PM10</th>\n",
              "      <th>SO2</th>\n",
              "      <th>NO2</th>\n",
              "      <th>CO</th>\n",
              "      <th>O3</th>\n",
              "      <th>date</th>\n",
              "    </tr>\n",
              "  </thead>\n",
              "  <tbody>\n",
              "    <tr>\n",
              "      <th>0</th>\n",
              "      <td>4.0</td>\n",
              "      <td>4.0</td>\n",
              "      <td>4.0</td>\n",
              "      <td>7.0</td>\n",
              "      <td>300.0</td>\n",
              "      <td>77.0</td>\n",
              "      <td>2013-03-01 00:00:00</td>\n",
              "    </tr>\n",
              "    <tr>\n",
              "      <th>1</th>\n",
              "      <td>8.0</td>\n",
              "      <td>8.0</td>\n",
              "      <td>4.0</td>\n",
              "      <td>7.0</td>\n",
              "      <td>300.0</td>\n",
              "      <td>77.0</td>\n",
              "      <td>2013-03-01 01:00:00</td>\n",
              "    </tr>\n",
              "    <tr>\n",
              "      <th>2</th>\n",
              "      <td>7.0</td>\n",
              "      <td>7.0</td>\n",
              "      <td>5.0</td>\n",
              "      <td>10.0</td>\n",
              "      <td>300.0</td>\n",
              "      <td>73.0</td>\n",
              "      <td>2013-03-01 02:00:00</td>\n",
              "    </tr>\n",
              "    <tr>\n",
              "      <th>3</th>\n",
              "      <td>6.0</td>\n",
              "      <td>6.0</td>\n",
              "      <td>11.0</td>\n",
              "      <td>11.0</td>\n",
              "      <td>300.0</td>\n",
              "      <td>72.0</td>\n",
              "      <td>2013-03-01 03:00:00</td>\n",
              "    </tr>\n",
              "    <tr>\n",
              "      <th>4</th>\n",
              "      <td>3.0</td>\n",
              "      <td>3.0</td>\n",
              "      <td>12.0</td>\n",
              "      <td>12.0</td>\n",
              "      <td>300.0</td>\n",
              "      <td>72.0</td>\n",
              "      <td>2013-03-01 04:00:00</td>\n",
              "    </tr>\n",
              "  </tbody>\n",
              "</table>\n",
              "</div>"
            ],
            "text/plain": [
              "   PM2.5  PM10   SO2   NO2     CO    O3                date\n",
              "0    4.0   4.0   4.0   7.0  300.0  77.0 2013-03-01 00:00:00\n",
              "1    8.0   8.0   4.0   7.0  300.0  77.0 2013-03-01 01:00:00\n",
              "2    7.0   7.0   5.0  10.0  300.0  73.0 2013-03-01 02:00:00\n",
              "3    6.0   6.0  11.0  11.0  300.0  72.0 2013-03-01 03:00:00\n",
              "4    3.0   3.0  12.0  12.0  300.0  72.0 2013-03-01 04:00:00"
            ]
          },
          "metadata": {
            "tags": []
          },
          "execution_count": 97
        }
      ]
    },
    {
      "cell_type": "code",
      "metadata": {
        "colab": {
          "base_uri": "https://localhost:8080/",
          "height": 235
        },
        "id": "r_8xa9l_1Ygi",
        "outputId": "a3c1ad7c-492c-412d-c0e3-fade7b841a4c"
      },
      "source": [
        "df1=df1.set_index('date')\n",
        "# daily_df=df1.resample('D').sum()\n",
        "\n",
        "df1.head()"
      ],
      "execution_count": null,
      "outputs": [
        {
          "output_type": "execute_result",
          "data": {
            "text/html": [
              "<div>\n",
              "<style scoped>\n",
              "    .dataframe tbody tr th:only-of-type {\n",
              "        vertical-align: middle;\n",
              "    }\n",
              "\n",
              "    .dataframe tbody tr th {\n",
              "        vertical-align: top;\n",
              "    }\n",
              "\n",
              "    .dataframe thead th {\n",
              "        text-align: right;\n",
              "    }\n",
              "</style>\n",
              "<table border=\"1\" class=\"dataframe\">\n",
              "  <thead>\n",
              "    <tr style=\"text-align: right;\">\n",
              "      <th></th>\n",
              "      <th>PM2.5</th>\n",
              "      <th>PM10</th>\n",
              "      <th>SO2</th>\n",
              "      <th>NO2</th>\n",
              "      <th>CO</th>\n",
              "      <th>O3</th>\n",
              "    </tr>\n",
              "    <tr>\n",
              "      <th>date</th>\n",
              "      <th></th>\n",
              "      <th></th>\n",
              "      <th></th>\n",
              "      <th></th>\n",
              "      <th></th>\n",
              "      <th></th>\n",
              "    </tr>\n",
              "  </thead>\n",
              "  <tbody>\n",
              "    <tr>\n",
              "      <th>2013-03-01 00:00:00</th>\n",
              "      <td>4.0</td>\n",
              "      <td>4.0</td>\n",
              "      <td>4.0</td>\n",
              "      <td>7.0</td>\n",
              "      <td>300.0</td>\n",
              "      <td>77.0</td>\n",
              "    </tr>\n",
              "    <tr>\n",
              "      <th>2013-03-01 01:00:00</th>\n",
              "      <td>8.0</td>\n",
              "      <td>8.0</td>\n",
              "      <td>4.0</td>\n",
              "      <td>7.0</td>\n",
              "      <td>300.0</td>\n",
              "      <td>77.0</td>\n",
              "    </tr>\n",
              "    <tr>\n",
              "      <th>2013-03-01 02:00:00</th>\n",
              "      <td>7.0</td>\n",
              "      <td>7.0</td>\n",
              "      <td>5.0</td>\n",
              "      <td>10.0</td>\n",
              "      <td>300.0</td>\n",
              "      <td>73.0</td>\n",
              "    </tr>\n",
              "    <tr>\n",
              "      <th>2013-03-01 03:00:00</th>\n",
              "      <td>6.0</td>\n",
              "      <td>6.0</td>\n",
              "      <td>11.0</td>\n",
              "      <td>11.0</td>\n",
              "      <td>300.0</td>\n",
              "      <td>72.0</td>\n",
              "    </tr>\n",
              "    <tr>\n",
              "      <th>2013-03-01 04:00:00</th>\n",
              "      <td>3.0</td>\n",
              "      <td>3.0</td>\n",
              "      <td>12.0</td>\n",
              "      <td>12.0</td>\n",
              "      <td>300.0</td>\n",
              "      <td>72.0</td>\n",
              "    </tr>\n",
              "  </tbody>\n",
              "</table>\n",
              "</div>"
            ],
            "text/plain": [
              "                     PM2.5  PM10   SO2   NO2     CO    O3\n",
              "date                                                     \n",
              "2013-03-01 00:00:00    4.0   4.0   4.0   7.0  300.0  77.0\n",
              "2013-03-01 01:00:00    8.0   8.0   4.0   7.0  300.0  77.0\n",
              "2013-03-01 02:00:00    7.0   7.0   5.0  10.0  300.0  73.0\n",
              "2013-03-01 03:00:00    6.0   6.0  11.0  11.0  300.0  72.0\n",
              "2013-03-01 04:00:00    3.0   3.0  12.0  12.0  300.0  72.0"
            ]
          },
          "metadata": {
            "tags": []
          },
          "execution_count": 98
        }
      ]
    },
    {
      "cell_type": "code",
      "metadata": {
        "colab": {
          "base_uri": "https://localhost:8080/"
        },
        "id": "vC2cU3v93BN9",
        "outputId": "fe40fd0a-aa1a-4a44-9d3d-51398b5d57df"
      },
      "source": [
        "train1,test1=df1.iloc[:32000,:],df1.iloc[32000:,:]\n",
        "print(f'train shape {train1.shape}, test shape is {test1.shape}')"
      ],
      "execution_count": null,
      "outputs": [
        {
          "output_type": "stream",
          "text": [
            "train shape (32000, 6), test shape is (3064, 6)\n"
          ],
          "name": "stdout"
        }
      ]
    },
    {
      "cell_type": "code",
      "metadata": {
        "colab": {
          "base_uri": "https://localhost:8080/",
          "height": 1000
        },
        "id": "xReM-YfZ41wN",
        "outputId": "a89438f8-fce4-4b72-dfa7-09c4e3e6d28c"
      },
      "source": [
        "from sklearn.preprocessing import MinMaxScaler\n",
        "train = train1\n",
        "scalers={}\n",
        "for i in train1.columns:\n",
        "    scaler = MinMaxScaler(feature_range=(-1,1))\n",
        "    s_s = scaler.fit_transform(train[i].values.reshape(-1,1))\n",
        "    s_s=np.reshape(s_s,len(s_s))\n",
        "    scalers['scaler_'+ i] = scaler\n",
        "    train[i]=s_s\n",
        "test = test1\n",
        "for i in train1.columns:\n",
        "    scaler = scalers['scaler_'+i]\n",
        "    s_s = scaler.transform(test[i].values.reshape(-1,1))\n",
        "    s_s=np.reshape(s_s,len(s_s))\n",
        "    scalers['scaler_'+i] = scaler\n",
        "    test[i]=s_s\n",
        "\n",
        "train.head()"
      ],
      "execution_count": null,
      "outputs": [
        {
          "output_type": "stream",
          "text": [
            "/usr/local/lib/python3.7/dist-packages/ipykernel_launcher.py:9: SettingWithCopyWarning: \n",
            "A value is trying to be set on a copy of a slice from a DataFrame.\n",
            "Try using .loc[row_indexer,col_indexer] = value instead\n",
            "\n",
            "See the caveats in the documentation: https://pandas.pydata.org/pandas-docs/stable/user_guide/indexing.html#returning-a-view-versus-a-copy\n",
            "  if __name__ == '__main__':\n",
            "/usr/local/lib/python3.7/dist-packages/ipykernel_launcher.py:9: SettingWithCopyWarning: \n",
            "A value is trying to be set on a copy of a slice from a DataFrame.\n",
            "Try using .loc[row_indexer,col_indexer] = value instead\n",
            "\n",
            "See the caveats in the documentation: https://pandas.pydata.org/pandas-docs/stable/user_guide/indexing.html#returning-a-view-versus-a-copy\n",
            "  if __name__ == '__main__':\n",
            "/usr/local/lib/python3.7/dist-packages/ipykernel_launcher.py:9: SettingWithCopyWarning: \n",
            "A value is trying to be set on a copy of a slice from a DataFrame.\n",
            "Try using .loc[row_indexer,col_indexer] = value instead\n",
            "\n",
            "See the caveats in the documentation: https://pandas.pydata.org/pandas-docs/stable/user_guide/indexing.html#returning-a-view-versus-a-copy\n",
            "  if __name__ == '__main__':\n",
            "/usr/local/lib/python3.7/dist-packages/ipykernel_launcher.py:9: SettingWithCopyWarning: \n",
            "A value is trying to be set on a copy of a slice from a DataFrame.\n",
            "Try using .loc[row_indexer,col_indexer] = value instead\n",
            "\n",
            "See the caveats in the documentation: https://pandas.pydata.org/pandas-docs/stable/user_guide/indexing.html#returning-a-view-versus-a-copy\n",
            "  if __name__ == '__main__':\n",
            "/usr/local/lib/python3.7/dist-packages/ipykernel_launcher.py:9: SettingWithCopyWarning: \n",
            "A value is trying to be set on a copy of a slice from a DataFrame.\n",
            "Try using .loc[row_indexer,col_indexer] = value instead\n",
            "\n",
            "See the caveats in the documentation: https://pandas.pydata.org/pandas-docs/stable/user_guide/indexing.html#returning-a-view-versus-a-copy\n",
            "  if __name__ == '__main__':\n",
            "/usr/local/lib/python3.7/dist-packages/ipykernel_launcher.py:9: SettingWithCopyWarning: \n",
            "A value is trying to be set on a copy of a slice from a DataFrame.\n",
            "Try using .loc[row_indexer,col_indexer] = value instead\n",
            "\n",
            "See the caveats in the documentation: https://pandas.pydata.org/pandas-docs/stable/user_guide/indexing.html#returning-a-view-versus-a-copy\n",
            "  if __name__ == '__main__':\n",
            "/usr/local/lib/python3.7/dist-packages/ipykernel_launcher.py:16: SettingWithCopyWarning: \n",
            "A value is trying to be set on a copy of a slice from a DataFrame.\n",
            "Try using .loc[row_indexer,col_indexer] = value instead\n",
            "\n",
            "See the caveats in the documentation: https://pandas.pydata.org/pandas-docs/stable/user_guide/indexing.html#returning-a-view-versus-a-copy\n",
            "  app.launch_new_instance()\n",
            "/usr/local/lib/python3.7/dist-packages/ipykernel_launcher.py:16: SettingWithCopyWarning: \n",
            "A value is trying to be set on a copy of a slice from a DataFrame.\n",
            "Try using .loc[row_indexer,col_indexer] = value instead\n",
            "\n",
            "See the caveats in the documentation: https://pandas.pydata.org/pandas-docs/stable/user_guide/indexing.html#returning-a-view-versus-a-copy\n",
            "  app.launch_new_instance()\n",
            "/usr/local/lib/python3.7/dist-packages/ipykernel_launcher.py:16: SettingWithCopyWarning: \n",
            "A value is trying to be set on a copy of a slice from a DataFrame.\n",
            "Try using .loc[row_indexer,col_indexer] = value instead\n",
            "\n",
            "See the caveats in the documentation: https://pandas.pydata.org/pandas-docs/stable/user_guide/indexing.html#returning-a-view-versus-a-copy\n",
            "  app.launch_new_instance()\n",
            "/usr/local/lib/python3.7/dist-packages/ipykernel_launcher.py:16: SettingWithCopyWarning: \n",
            "A value is trying to be set on a copy of a slice from a DataFrame.\n",
            "Try using .loc[row_indexer,col_indexer] = value instead\n",
            "\n",
            "See the caveats in the documentation: https://pandas.pydata.org/pandas-docs/stable/user_guide/indexing.html#returning-a-view-versus-a-copy\n",
            "  app.launch_new_instance()\n",
            "/usr/local/lib/python3.7/dist-packages/ipykernel_launcher.py:16: SettingWithCopyWarning: \n",
            "A value is trying to be set on a copy of a slice from a DataFrame.\n",
            "Try using .loc[row_indexer,col_indexer] = value instead\n",
            "\n",
            "See the caveats in the documentation: https://pandas.pydata.org/pandas-docs/stable/user_guide/indexing.html#returning-a-view-versus-a-copy\n",
            "  app.launch_new_instance()\n",
            "/usr/local/lib/python3.7/dist-packages/ipykernel_launcher.py:16: SettingWithCopyWarning: \n",
            "A value is trying to be set on a copy of a slice from a DataFrame.\n",
            "Try using .loc[row_indexer,col_indexer] = value instead\n",
            "\n",
            "See the caveats in the documentation: https://pandas.pydata.org/pandas-docs/stable/user_guide/indexing.html#returning-a-view-versus-a-copy\n",
            "  app.launch_new_instance()\n"
          ],
          "name": "stderr"
        },
        {
          "output_type": "execute_result",
          "data": {
            "text/html": [
              "<div>\n",
              "<style scoped>\n",
              "    .dataframe tbody tr th:only-of-type {\n",
              "        vertical-align: middle;\n",
              "    }\n",
              "\n",
              "    .dataframe tbody tr th {\n",
              "        vertical-align: top;\n",
              "    }\n",
              "\n",
              "    .dataframe thead th {\n",
              "        text-align: right;\n",
              "    }\n",
              "</style>\n",
              "<table border=\"1\" class=\"dataframe\">\n",
              "  <thead>\n",
              "    <tr style=\"text-align: right;\">\n",
              "      <th></th>\n",
              "      <th>PM2.5</th>\n",
              "      <th>PM10</th>\n",
              "      <th>SO2</th>\n",
              "      <th>NO2</th>\n",
              "      <th>CO</th>\n",
              "      <th>O3</th>\n",
              "    </tr>\n",
              "    <tr>\n",
              "      <th>date</th>\n",
              "      <th></th>\n",
              "      <th></th>\n",
              "      <th></th>\n",
              "      <th></th>\n",
              "      <th></th>\n",
              "      <th></th>\n",
              "    </tr>\n",
              "  </thead>\n",
              "  <tbody>\n",
              "    <tr>\n",
              "      <th>2013-03-01 00:00:00</th>\n",
              "      <td>-0.997765</td>\n",
              "      <td>-0.995927</td>\n",
              "      <td>-0.978196</td>\n",
              "      <td>-0.965278</td>\n",
              "      <td>-0.959596</td>\n",
              "      <td>-0.636763</td>\n",
              "    </tr>\n",
              "    <tr>\n",
              "      <th>2013-03-01 01:00:00</th>\n",
              "      <td>-0.988827</td>\n",
              "      <td>-0.987780</td>\n",
              "      <td>-0.978196</td>\n",
              "      <td>-0.965278</td>\n",
              "      <td>-0.959596</td>\n",
              "      <td>-0.636763</td>\n",
              "    </tr>\n",
              "    <tr>\n",
              "      <th>2013-03-01 02:00:00</th>\n",
              "      <td>-0.991061</td>\n",
              "      <td>-0.989817</td>\n",
              "      <td>-0.972326</td>\n",
              "      <td>-0.944444</td>\n",
              "      <td>-0.959596</td>\n",
              "      <td>-0.655685</td>\n",
              "    </tr>\n",
              "    <tr>\n",
              "      <th>2013-03-01 03:00:00</th>\n",
              "      <td>-0.993296</td>\n",
              "      <td>-0.991853</td>\n",
              "      <td>-0.937106</td>\n",
              "      <td>-0.937500</td>\n",
              "      <td>-0.959596</td>\n",
              "      <td>-0.660415</td>\n",
              "    </tr>\n",
              "    <tr>\n",
              "      <th>2013-03-01 04:00:00</th>\n",
              "      <td>-1.000000</td>\n",
              "      <td>-0.997963</td>\n",
              "      <td>-0.931236</td>\n",
              "      <td>-0.930556</td>\n",
              "      <td>-0.959596</td>\n",
              "      <td>-0.660415</td>\n",
              "    </tr>\n",
              "  </tbody>\n",
              "</table>\n",
              "</div>"
            ],
            "text/plain": [
              "                        PM2.5      PM10       SO2       NO2        CO        O3\n",
              "date                                                                           \n",
              "2013-03-01 00:00:00 -0.997765 -0.995927 -0.978196 -0.965278 -0.959596 -0.636763\n",
              "2013-03-01 01:00:00 -0.988827 -0.987780 -0.978196 -0.965278 -0.959596 -0.636763\n",
              "2013-03-01 02:00:00 -0.991061 -0.989817 -0.972326 -0.944444 -0.959596 -0.655685\n",
              "2013-03-01 03:00:00 -0.993296 -0.991853 -0.937106 -0.937500 -0.959596 -0.660415\n",
              "2013-03-01 04:00:00 -1.000000 -0.997963 -0.931236 -0.930556 -0.959596 -0.660415"
            ]
          },
          "metadata": {
            "tags": []
          },
          "execution_count": 121
        }
      ]
    },
    {
      "cell_type": "code",
      "metadata": {
        "colab": {
          "base_uri": "https://localhost:8080/"
        },
        "id": "w0oXNmcpRdcB",
        "outputId": "281125ad-3747-44d7-f2c5-54169deab121"
      },
      "source": [
        "train1.shape"
      ],
      "execution_count": null,
      "outputs": [
        {
          "output_type": "execute_result",
          "data": {
            "text/plain": [
              "(32000, 6)"
            ]
          },
          "metadata": {
            "tags": []
          },
          "execution_count": 122
        }
      ]
    },
    {
      "cell_type": "code",
      "metadata": {
        "id": "4y5QFAKl5jkE"
      },
      "source": [
        "def split_data(data, n_past, n_future):\n",
        "  #\n",
        "  # n_past ==> no of past observations\n",
        "  #\n",
        "  # n_future ==> no of future observations \n",
        "  #\n",
        "  X, y = list(), list()\n",
        "  for i in range(len(data)):\n",
        "    past_end = i + n_past\n",
        "    future_end = past_end + n_future\n",
        "    if future_end > len(data):\n",
        "      break\n",
        "    # slicing the past and future parts of the window\n",
        "    past, future = data[i:past_end, :], data[past_end:future_end, :]\n",
        "    X.append(past)\n",
        "    y.append(future)\n",
        "  return np.array(X), np.array(y)"
      ],
      "execution_count": null,
      "outputs": []
    },
    {
      "cell_type": "code",
      "metadata": {
        "colab": {
          "base_uri": "https://localhost:8080/"
        },
        "id": "AuhfcX-18SdL",
        "outputId": "4efc0565-968b-4ec8-8d31-dfa42d90be05"
      },
      "source": [
        "n_past,n_future,features=48,24,6\n",
        "X_train,y_train=split_data(train1.values,n_past,n_future)\n",
        "X_test,y_test = split_data(test1.values,n_past,n_future)\n",
        "print(f'train shape {X_train.shape}, y_train shape is {y_train.shape}')"
      ],
      "execution_count": null,
      "outputs": [
        {
          "output_type": "stream",
          "text": [
            "train shape (31929, 48, 6), y_train shape is (31929, 24, 6)\n"
          ],
          "name": "stdout"
        }
      ]
    },
    {
      "cell_type": "code",
      "metadata": {
        "colab": {
          "base_uri": "https://localhost:8080/"
        },
        "id": "x0T5-EHg9EQF",
        "outputId": "0956afd9-f26c-4784-85ae-a037921b19fd"
      },
      "source": [
        "X_train = X_train.reshape((X_train.shape[0], X_train.shape[1],features))\n",
        "y_train=y_train.reshape(y_train.shape[0],y_train.shape[1],features)\n",
        "X_test=X_test.reshape((X_test.shape[0], X_test.shape[1],features))\n",
        "y_test=y_test.reshape((y_test.shape[0],y_test.shape[1],features))\n",
        "print(f'train shape {X_train.shape}, X_test shape is {X_test.shape}')"
      ],
      "execution_count": null,
      "outputs": [
        {
          "output_type": "stream",
          "text": [
            "train shape (31929, 48, 6), X_test shape is (2993, 48, 6)\n"
          ],
          "name": "stdout"
        }
      ]
    },
    {
      "cell_type": "code",
      "metadata": {
        "id": "hpQW0giT9YT5",
        "colab": {
          "base_uri": "https://localhost:8080/"
        },
        "outputId": "71adf409-5e1f-40aa-b440-4542339aaeff"
      },
      "source": [
        "from tensorflow.keras.layers import Dense,LSTM,Dropout,BatchNormalization,RepeatVector,TimeDistributed,Input\n",
        "from tensorflow.keras.models import Sequential,Model\n",
        "from tensorflow.keras.losses import Huber\n",
        "from tensorflow.keras.optimizers import Adam\n",
        "\n",
        "input=Input(shape=(n_past,features))\n",
        "l1=LSTM(100,return_state=True)\n",
        "output=l1(input)\n",
        "\n",
        "states1=output[1:]\n",
        "\n",
        "dec=RepeatVector(n_future)(output[0])\n",
        "\n",
        "dec_l1=LSTM(100,return_sequences=True)(dec,initial_state=states1)\n",
        "dec_out=TimeDistributed(Dense(features))(dec_l1)\n",
        "rnn=Model(input,dec_out)\n",
        "\n",
        "rnn.compile(optimizer=Adam(),loss=Huber())\n",
        "rnn.summary()"
      ],
      "execution_count": null,
      "outputs": [
        {
          "output_type": "stream",
          "text": [
            "Model: \"model_4\"\n",
            "__________________________________________________________________________________________________\n",
            "Layer (type)                    Output Shape         Param #     Connected to                     \n",
            "==================================================================================================\n",
            "input_5 (InputLayer)            [(None, 48, 6)]      0                                            \n",
            "__________________________________________________________________________________________________\n",
            "lstm_8 (LSTM)                   [(None, 100), (None, 42800       input_5[0][0]                    \n",
            "__________________________________________________________________________________________________\n",
            "repeat_vector_4 (RepeatVector)  (None, 24, 100)      0           lstm_8[0][0]                     \n",
            "__________________________________________________________________________________________________\n",
            "lstm_9 (LSTM)                   (None, 24, 100)      80400       repeat_vector_4[0][0]            \n",
            "                                                                 lstm_8[0][1]                     \n",
            "                                                                 lstm_8[0][2]                     \n",
            "__________________________________________________________________________________________________\n",
            "time_distributed_4 (TimeDistrib (None, 24, 6)        606         lstm_9[0][0]                     \n",
            "==================================================================================================\n",
            "Total params: 123,806\n",
            "Trainable params: 123,806\n",
            "Non-trainable params: 0\n",
            "__________________________________________________________________________________________________\n"
          ],
          "name": "stdout"
        }
      ]
    },
    {
      "cell_type": "code",
      "metadata": {
        "colab": {
          "base_uri": "https://localhost:8080/"
        },
        "id": "Wt_JAlOXIR4_",
        "outputId": "57137928-9f4f-468a-bd0a-ebbfb3728633"
      },
      "source": [
        "history=rnn.fit(X_train,y_train,epochs=2,validation_data=(X_test,y_test),batch_size=32)"
      ],
      "execution_count": null,
      "outputs": [
        {
          "output_type": "stream",
          "text": [
            "Epoch 1/2\n",
            "998/998 [==============================] - 7s 8ms/step - loss: 0.0123 - val_loss: 0.0190\n",
            "Epoch 2/2\n",
            "998/998 [==============================] - 7s 7ms/step - loss: 0.0117 - val_loss: 0.0197\n"
          ],
          "name": "stdout"
        }
      ]
    },
    {
      "cell_type": "code",
      "metadata": {
        "colab": {
          "base_uri": "https://localhost:8080/"
        },
        "id": "mDEQ7jCqNx0W",
        "outputId": "fd001db0-5ade-4b0e-f9f6-64bd9af4d0c9"
      },
      "source": [
        "pred=rnn.predict(X_test)\n",
        "pred"
      ],
      "execution_count": null,
      "outputs": [
        {
          "output_type": "execute_result",
          "data": {
            "text/plain": [
              "array([[[-0.89513284, -0.85935605, -1.0075679 , -0.54594964,\n",
              "         -0.8198897 , -0.91965926],\n",
              "        [-0.91006553, -0.8689288 , -1.0126052 , -0.5514709 ,\n",
              "         -0.8427705 , -0.90304804],\n",
              "        [-0.90839666, -0.8542582 , -1.0090165 , -0.5389853 ,\n",
              "         -0.84701866, -0.89070225],\n",
              "        ...,\n",
              "        [-0.8908683 , -0.81522334, -0.9847745 , -0.5336959 ,\n",
              "         -0.8082241 , -0.9288529 ],\n",
              "        [-0.89170605, -0.81800437, -0.9818576 , -0.54191256,\n",
              "         -0.8150346 , -0.9060283 ],\n",
              "        [-0.8919181 , -0.8195065 , -0.97922677, -0.5473301 ,\n",
              "         -0.82151794, -0.8825997 ]],\n",
              "\n",
              "       [[-0.9469994 , -0.915002  , -1.0170504 , -0.6191343 ,\n",
              "         -0.8862153 , -0.88224554],\n",
              "        [-0.9642566 , -0.9209138 , -1.0160432 , -0.614196  ,\n",
              "         -0.90688926, -0.8676237 ],\n",
              "        [-0.96207863, -0.9036893 , -1.012657  , -0.5940535 ,\n",
              "         -0.9077786 , -0.8615991 ],\n",
              "        ...,\n",
              "        [-0.9244161 , -0.8478524 , -0.9839231 , -0.5709323 ,\n",
              "         -0.8436493 , -0.90898395],\n",
              "        [-0.9249295 , -0.85022056, -0.9811144 , -0.5793888 ,\n",
              "         -0.85054827, -0.88269925],\n",
              "        [-0.92519045, -0.85129976, -0.9788601 , -0.58457714,\n",
              "         -0.85717165, -0.8573537 ]],\n",
              "\n",
              "       [[-0.96566385, -0.92894   , -1.0096767 , -0.62721217,\n",
              "         -0.90682507, -0.86408925],\n",
              "        [-0.98081297, -0.93152976, -1.0053612 , -0.61175805,\n",
              "         -0.9224048 , -0.85504997],\n",
              "        [-0.97547185, -0.91087127, -1.0013137 , -0.5841032 ,\n",
              "         -0.91826576, -0.8561456 ],\n",
              "        ...,\n",
              "        [-0.93246585, -0.8559824 , -0.97090685, -0.58383286,\n",
              "         -0.8560524 , -0.8814502 ],\n",
              "        [-0.9329105 , -0.85746455, -0.9685795 , -0.5905299 ,\n",
              "         -0.8630255 , -0.853708  ],\n",
              "        [-0.9331146 , -0.8573413 , -0.9670296 , -0.5927443 ,\n",
              "         -0.86920637, -0.829702  ]],\n",
              "\n",
              "       ...,\n",
              "\n",
              "       [[-0.82352597, -0.70086014, -0.9159292 , -0.14198476,\n",
              "         -0.7023567 , -0.89168215],\n",
              "        [-0.7988607 , -0.70031536, -0.9103534 , -0.09258925,\n",
              "         -0.6726297 , -0.9209982 ],\n",
              "        [-0.7754585 , -0.70145255, -0.90513337, -0.10634589,\n",
              "         -0.6463114 , -0.9403318 ],\n",
              "        ...,\n",
              "        [-0.7802035 , -0.72445554, -0.8798901 , -0.2859004 ,\n",
              "         -0.69453454, -0.7005904 ],\n",
              "        [-0.76933634, -0.70506865, -0.87948555, -0.22840297,\n",
              "         -0.66258883, -0.76768315],\n",
              "        [-0.7607375 , -0.69284487, -0.8786331 , -0.1895659 ,\n",
              "         -0.6352303 , -0.8262354 ]],\n",
              "\n",
              "       [[-0.809491  , -0.6887789 , -0.9069712 , -0.11132935,\n",
              "         -0.6699795 , -0.93818045],\n",
              "        [-0.7916281 , -0.7029602 , -0.90373623, -0.09123725,\n",
              "         -0.6508066 , -0.9456394 ],\n",
              "        [-0.77487403, -0.71283424, -0.9017996 , -0.12951599,\n",
              "         -0.6359056 , -0.9472182 ],\n",
              "        ...,\n",
              "        [-0.76126546, -0.6955023 , -0.875335  , -0.2014912 ,\n",
              "         -0.64394474, -0.7721541 ],\n",
              "        [-0.75181764, -0.68255186, -0.8740364 , -0.16030836,\n",
              "         -0.6141887 , -0.83126736],\n",
              "        [-0.74505395, -0.6785904 , -0.8742206 , -0.14884263,\n",
              "         -0.5948014 , -0.87155807]],\n",
              "\n",
              "       [[-0.7993456 , -0.6900842 , -0.8922433 , -0.12066456,\n",
              "         -0.6512077 , -0.95190036],\n",
              "        [-0.7927612 , -0.717417  , -0.89349186, -0.12544218,\n",
              "         -0.6449374 , -0.94430876],\n",
              "        [-0.78452325, -0.7322358 , -0.8947837 , -0.17576268,\n",
              "         -0.6393237 , -0.93829966],\n",
              "        ...,\n",
              "        [-0.7435559 , -0.6719854 , -0.86528605, -0.13923535,\n",
              "         -0.5984467 , -0.8346292 ],\n",
              "        [-0.73646504, -0.6679256 , -0.86501956, -0.12845185,\n",
              "         -0.5779017 , -0.8728752 ],\n",
              "        [-0.7328084 , -0.67082095, -0.8676234 , -0.14571612,\n",
              "         -0.5696093 , -0.8935149 ]]], dtype=float32)"
            ]
          },
          "metadata": {
            "tags": []
          },
          "execution_count": 129
        }
      ]
    },
    {
      "cell_type": "code",
      "metadata": {
        "id": "jyA6-7BoRkIq"
      },
      "source": [
        "for index,i in enumerate(train1.columns):\n",
        "    scaler = scalers['scaler_'+i]\n",
        "    pred[:,:,index]=scaler.inverse_transform(pred[:,:,index])\n",
        "    pred[:,:,index]=scaler.inverse_transform(pred[:,:,index])\n",
        "    y_train[:,:,index]=scaler.inverse_transform(y_train[:,:,index])\n",
        "    y_test[:,:,index]=scaler.inverse_transform(y_test[:,:,index])"
      ],
      "execution_count": null,
      "outputs": []
    },
    {
      "cell_type": "code",
      "metadata": {
        "colab": {
          "base_uri": "https://localhost:8080/"
        },
        "id": "ST7W18lzPxoq",
        "outputId": "83788c47-0d4d-4fa1-953e-7e692df7eb77"
      },
      "source": [
        "from sklearn.metrics import mean_absolute_error\n",
        "for index,i in enumerate(train1.columns):\n",
        "  print(i)\n",
        "  for j in range(1,6):\n",
        "    print(\"Day \",j,\":\")\n",
        "    print(y_test[:,j-1,index],pred[:,j-1,index])\n",
        "    # print(\"MAE-E2D2 : \",mean_absolute_error(y_test[:,j-1,index],pred[:,j-1,index]))\n",
        "  print()\n",
        "  print()"
      ],
      "execution_count": null,
      "outputs": [
        {
          "output_type": "stream",
          "text": [
            "PM2.5\n",
            "Day  1 :\n",
            "[-0.98212291 -1.         -0.98882682 ... -0.87709497 -0.85027933\n",
            " -0.88156425] [-0.89513284 -0.9469994  -0.96566385 ... -0.82352597 -0.809491\n",
            " -0.7993456 ]\n",
            "Day  2 :\n",
            "[-1.         -0.98882682 -1.         ... -0.85027933 -0.88156425\n",
            " -0.97318436] [-0.91006553 -0.9642566  -0.98081297 ... -0.7988607  -0.7916281\n",
            " -0.7927612 ]\n",
            "Day  3 :\n",
            "[-0.98882682 -1.         -1.         ... -0.88156425 -0.97318436\n",
            " -0.98659218] [-0.90839666 -0.96207863 -0.97547185 ... -0.7754585  -0.77487403\n",
            " -0.78452325]\n",
            "Day  4 :\n",
            "[-1.         -1.         -0.97541899 ... -0.97318436 -0.98659218\n",
            " -0.99106145] [-0.90485436 -0.9560822  -0.9661724  ... -0.76140326 -0.76702803\n",
            " -0.78284794]\n",
            "Day  5 :\n",
            "[-1.         -0.97541899 -0.98882682 ... -0.98659218 -0.99106145\n",
            " -0.97765363] [-0.8993067  -0.94732994 -0.9547904  ... -0.7565869  -0.7675862\n",
            " -0.7877522 ]\n",
            "\n",
            "\n",
            "PM10\n",
            "Day  1 :\n",
            "[-0.98167006 -0.96334012 -0.97148676 ... -0.78818737 -0.78615071\n",
            " -0.89002037] [-0.85935605 -0.915002   -0.92894    ... -0.70086014 -0.6887789\n",
            " -0.6900842 ]\n",
            "Day  2 :\n",
            "[-0.96334012 -0.97148676 -0.99185336 ... -0.78615071 -0.89002037\n",
            " -0.97352342] [-0.8689288  -0.9209138  -0.93152976 ... -0.70031536 -0.7029602\n",
            " -0.717417  ]\n",
            "Day  3 :\n",
            "[-0.97148676 -0.99185336 -0.99185336 ... -0.89002037 -0.97352342\n",
            " -0.97148676] [-0.8542582  -0.9036893  -0.91087127 ... -0.70145255 -0.71283424\n",
            " -0.7322358 ]\n",
            "Day  4 :\n",
            "[-0.99185336 -0.99185336 -0.97556008 ... -0.97352342 -0.97148676\n",
            " -0.97352342] [-0.84098047 -0.8870269  -0.8908489  ... -0.71150684 -0.7262473\n",
            " -0.74532187]\n",
            "Day  5 :\n",
            "[-0.99185336 -0.97556008 -0.86761711 ... -0.97148676 -0.97352342\n",
            " -0.96130346] [-0.8280809  -0.8701556  -0.8710816  ... -0.7248428  -0.7393861\n",
            " -0.75544333]\n",
            "\n",
            "\n",
            "SO2\n",
            "Day  1 :\n",
            "[-0.98993644 -0.98993644 -0.98993644 ... -0.90188615 -0.83731595\n",
            " -0.87253606] [-1.0075679 -1.0170504 -1.0096767 ... -0.9159292 -0.9069712 -0.8922433]\n",
            "Day  2 :\n",
            "[-0.98993644 -0.98993644 -0.98993644 ... -0.83731595 -0.87253606\n",
            " -0.96058634] [-1.0126052  -1.0160432  -1.0053612  ... -0.9103534  -0.90373623\n",
            " -0.89349186]\n",
            "Day  3 :\n",
            "[-0.98993644 -0.98993644 -0.98993644 ... -0.87253606 -0.96058634\n",
            " -0.96058634] [-1.0090165  -1.012657   -1.0013137  ... -0.90513337 -0.9017996\n",
            " -0.8947837 ]\n",
            "Day  4 :\n",
            "[-0.98993644 -0.98993644 -0.96645636 ... -0.96058634 -0.96058634\n",
            " -0.95471633] [-1.0045476  -1.009109   -0.9980039  ... -0.9038508  -0.90295386\n",
            " -0.89706796]\n",
            "Day  5 :\n",
            "[-0.98993644 -0.96645636 -0.96058634 ... -0.96058634 -0.95471633\n",
            " -0.91949621] [-1.0007423  -1.0058348  -0.9949194  ... -0.9048053  -0.90496206\n",
            " -0.8986119 ]\n",
            "\n",
            "\n",
            "NO2\n",
            "Day  1 :\n",
            "[-0.6875     -0.69444444 -0.78472222 ... -0.09027778 -0.10416667\n",
            " -0.1875    ] [-0.54594964 -0.6191343  -0.62721217 ... -0.14198476 -0.11132935\n",
            " -0.12066456]\n",
            "Day  2 :\n",
            "[-0.69444444 -0.78472222 -0.86111111 ... -0.10416667 -0.1875\n",
            " -0.70138889] [-0.5514709  -0.614196   -0.61175805 ... -0.09258925 -0.09123725\n",
            " -0.12544218]\n",
            "Day  3 :\n",
            "[-0.78472222 -0.86111111 -0.84027778 ... -0.1875     -0.70138889\n",
            " -0.78472222] [-0.5389853  -0.5940535  -0.5841032  ... -0.10634589 -0.12951599\n",
            " -0.17576268]\n",
            "Day  4 :\n",
            "[-0.86111111 -0.84027778 -0.86111111 ... -0.70138889 -0.78472222\n",
            " -0.72222222] [-0.5233616  -0.5710974  -0.55537623 ... -0.15474203 -0.18995064\n",
            " -0.23625559]\n",
            "Day  5 :\n",
            "[-0.84027778 -0.86111111 -0.82638889 ... -0.78472222 -0.72222222\n",
            " -0.70138889] [-0.50450003 -0.5452091  -0.52545017 ... -0.21535775 -0.25155973\n",
            " -0.29049823]\n",
            "\n",
            "\n",
            "CO\n",
            "Day  1 :\n",
            "[-0.95959596 -0.95959596 -0.95959596 ... -0.71717172 -0.67676768\n",
            " -0.73737374] [-0.8198897  -0.8862153  -0.90682507 ... -0.7023567  -0.6699795\n",
            " -0.6512077 ]\n",
            "Day  2 :\n",
            "[-0.95959596 -0.95959596 -0.97979798 ... -0.67676768 -0.73737374\n",
            " -0.91919192] [-0.8427705  -0.90688926 -0.9224048  ... -0.6726297  -0.6508066\n",
            " -0.6449374 ]\n",
            "Day  3 :\n",
            "[-0.95959596 -0.97979798 -0.97979798 ... -0.73737374 -0.91919192\n",
            " -0.93939394] [-0.84701866 -0.9077786  -0.91826576 ... -0.6463114  -0.6359056\n",
            " -0.6393237 ]\n",
            "Day  4 :\n",
            "[-0.97979798 -0.97979798 -0.97979798 ... -0.91919192 -0.93939394\n",
            " -0.95959596] [-0.8478435  -0.9040148  -0.90959    ... -0.6370613  -0.6356442\n",
            " -0.64348066]\n",
            "Day  5 :\n",
            "[-0.97979798 -0.97979798 -0.95959596 ... -0.93939394 -0.95959596\n",
            " -0.91919192] [-0.84366655 -0.8944123  -0.8955691  ... -0.6401146  -0.6437229\n",
            " -0.6517219 ]\n",
            "\n",
            "\n",
            "O3\n",
            "Day  1 :\n",
            "[-0.91586378 -0.89694167 -0.82598375 ... -0.91113325 -0.91113325\n",
            " -0.91586378] [-0.91965926 -0.88224554 -0.86408925 ... -0.89168215 -0.93818045\n",
            " -0.95190036]\n",
            "Day  2 :\n",
            "[-0.89694167 -0.82598375 -0.75975636 ... -0.91113325 -0.91586378\n",
            " -0.6651458 ] [-0.90304804 -0.8676237  -0.85504997 ... -0.9209982  -0.9456394\n",
            " -0.94430876]\n",
            "Day  3 :\n",
            "[-0.82598375 -0.75975636 -0.75975636 ... -0.91586378 -0.6651458\n",
            " -0.61311   ] [-0.89070225 -0.8615991  -0.8561456  ... -0.9403318  -0.9472182\n",
            " -0.93829966]\n",
            "Day  4 :\n",
            "[-0.75975636 -0.75975636 -0.72191214 ... -0.6651458  -0.61311\n",
            " -0.66987633] [-0.8803048  -0.8574562  -0.8588139  ... -0.94099545 -0.93927085\n",
            " -0.9306941 ]\n",
            "Day  5 :\n",
            "[-0.75975636 -0.72191214 -0.71718161 ... -0.61311    -0.66987633\n",
            " -0.68879844] [-0.8739662  -0.8576534  -0.86563575 ... -0.9345472  -0.9316139\n",
            " -0.92809045]\n",
            "\n",
            "\n"
          ],
          "name": "stdout"
        }
      ]
    },
    {
      "cell_type": "code",
      "metadata": {
        "colab": {
          "base_uri": "https://localhost:8080/",
          "height": 180
        },
        "id": "Bj9gCP8hQTMs",
        "outputId": "c511c3d3-ae2e-4b0e-9533-44e01bc18459"
      },
      "source": [
        "new=pd.DataFrame(data=res,columns=col2)\n",
        "new.head()"
      ],
      "execution_count": null,
      "outputs": [
        {
          "output_type": "error",
          "ename": "NameError",
          "evalue": "ignored",
          "traceback": [
            "\u001b[0;31m---------------------------------------------------------------------------\u001b[0m",
            "\u001b[0;31mNameError\u001b[0m                                 Traceback (most recent call last)",
            "\u001b[0;32m<ipython-input-91-5410fda75e9d>\u001b[0m in \u001b[0;36m<module>\u001b[0;34m()\u001b[0m\n\u001b[0;32m----> 1\u001b[0;31m \u001b[0mnew\u001b[0m\u001b[0;34m=\u001b[0m\u001b[0mpd\u001b[0m\u001b[0;34m.\u001b[0m\u001b[0mDataFrame\u001b[0m\u001b[0;34m(\u001b[0m\u001b[0mdata\u001b[0m\u001b[0;34m=\u001b[0m\u001b[0mres\u001b[0m\u001b[0;34m,\u001b[0m\u001b[0mcolumns\u001b[0m\u001b[0;34m=\u001b[0m\u001b[0mcol2\u001b[0m\u001b[0;34m)\u001b[0m\u001b[0;34m\u001b[0m\u001b[0;34m\u001b[0m\u001b[0m\n\u001b[0m\u001b[1;32m      2\u001b[0m \u001b[0mnew\u001b[0m\u001b[0;34m.\u001b[0m\u001b[0mhead\u001b[0m\u001b[0;34m(\u001b[0m\u001b[0;34m)\u001b[0m\u001b[0;34m\u001b[0m\u001b[0;34m\u001b[0m\u001b[0m\n",
            "\u001b[0;31mNameError\u001b[0m: name 'res' is not defined"
          ]
        }
      ]
    },
    {
      "cell_type": "code",
      "metadata": {
        "colab": {
          "base_uri": "https://localhost:8080/",
          "height": 204
        },
        "id": "2JSyujQ1QYq_",
        "outputId": "fa2f6b3c-7423-4685-c79e-f7ee893ccc93"
      },
      "source": [
        "df.head()"
      ],
      "execution_count": null,
      "outputs": [
        {
          "output_type": "execute_result",
          "data": {
            "text/html": [
              "<div>\n",
              "<style scoped>\n",
              "    .dataframe tbody tr th:only-of-type {\n",
              "        vertical-align: middle;\n",
              "    }\n",
              "\n",
              "    .dataframe tbody tr th {\n",
              "        vertical-align: top;\n",
              "    }\n",
              "\n",
              "    .dataframe thead th {\n",
              "        text-align: right;\n",
              "    }\n",
              "</style>\n",
              "<table border=\"1\" class=\"dataframe\">\n",
              "  <thead>\n",
              "    <tr style=\"text-align: right;\">\n",
              "      <th></th>\n",
              "      <th>No</th>\n",
              "      <th>year</th>\n",
              "      <th>month</th>\n",
              "      <th>day</th>\n",
              "      <th>hour</th>\n",
              "      <th>PM2.5</th>\n",
              "      <th>PM10</th>\n",
              "      <th>SO2</th>\n",
              "      <th>NO2</th>\n",
              "      <th>CO</th>\n",
              "      <th>O3</th>\n",
              "      <th>TEMP</th>\n",
              "      <th>PRES</th>\n",
              "      <th>DEWP</th>\n",
              "      <th>RAIN</th>\n",
              "      <th>wd</th>\n",
              "      <th>WSPM</th>\n",
              "      <th>station</th>\n",
              "    </tr>\n",
              "  </thead>\n",
              "  <tbody>\n",
              "    <tr>\n",
              "      <th>0</th>\n",
              "      <td>1</td>\n",
              "      <td>2013</td>\n",
              "      <td>3</td>\n",
              "      <td>1</td>\n",
              "      <td>0</td>\n",
              "      <td>4.0</td>\n",
              "      <td>4.0</td>\n",
              "      <td>4.0</td>\n",
              "      <td>7.0</td>\n",
              "      <td>300.0</td>\n",
              "      <td>77.0</td>\n",
              "      <td>-0.7</td>\n",
              "      <td>1023.0</td>\n",
              "      <td>-18.8</td>\n",
              "      <td>0.0</td>\n",
              "      <td>6</td>\n",
              "      <td>4.4</td>\n",
              "      <td>0</td>\n",
              "    </tr>\n",
              "    <tr>\n",
              "      <th>1</th>\n",
              "      <td>2</td>\n",
              "      <td>2013</td>\n",
              "      <td>3</td>\n",
              "      <td>1</td>\n",
              "      <td>1</td>\n",
              "      <td>8.0</td>\n",
              "      <td>8.0</td>\n",
              "      <td>4.0</td>\n",
              "      <td>7.0</td>\n",
              "      <td>300.0</td>\n",
              "      <td>77.0</td>\n",
              "      <td>-1.1</td>\n",
              "      <td>1023.2</td>\n",
              "      <td>-18.2</td>\n",
              "      <td>0.0</td>\n",
              "      <td>3</td>\n",
              "      <td>4.7</td>\n",
              "      <td>0</td>\n",
              "    </tr>\n",
              "    <tr>\n",
              "      <th>2</th>\n",
              "      <td>3</td>\n",
              "      <td>2013</td>\n",
              "      <td>3</td>\n",
              "      <td>1</td>\n",
              "      <td>2</td>\n",
              "      <td>7.0</td>\n",
              "      <td>7.0</td>\n",
              "      <td>5.0</td>\n",
              "      <td>10.0</td>\n",
              "      <td>300.0</td>\n",
              "      <td>73.0</td>\n",
              "      <td>-1.1</td>\n",
              "      <td>1023.5</td>\n",
              "      <td>-18.2</td>\n",
              "      <td>0.0</td>\n",
              "      <td>6</td>\n",
              "      <td>5.6</td>\n",
              "      <td>0</td>\n",
              "    </tr>\n",
              "    <tr>\n",
              "      <th>3</th>\n",
              "      <td>4</td>\n",
              "      <td>2013</td>\n",
              "      <td>3</td>\n",
              "      <td>1</td>\n",
              "      <td>3</td>\n",
              "      <td>6.0</td>\n",
              "      <td>6.0</td>\n",
              "      <td>11.0</td>\n",
              "      <td>11.0</td>\n",
              "      <td>300.0</td>\n",
              "      <td>72.0</td>\n",
              "      <td>-1.4</td>\n",
              "      <td>1024.5</td>\n",
              "      <td>-19.4</td>\n",
              "      <td>0.0</td>\n",
              "      <td>7</td>\n",
              "      <td>3.1</td>\n",
              "      <td>0</td>\n",
              "    </tr>\n",
              "    <tr>\n",
              "      <th>4</th>\n",
              "      <td>5</td>\n",
              "      <td>2013</td>\n",
              "      <td>3</td>\n",
              "      <td>1</td>\n",
              "      <td>4</td>\n",
              "      <td>3.0</td>\n",
              "      <td>3.0</td>\n",
              "      <td>12.0</td>\n",
              "      <td>12.0</td>\n",
              "      <td>300.0</td>\n",
              "      <td>72.0</td>\n",
              "      <td>-2.0</td>\n",
              "      <td>1025.2</td>\n",
              "      <td>-19.5</td>\n",
              "      <td>0.0</td>\n",
              "      <td>3</td>\n",
              "      <td>2.0</td>\n",
              "      <td>0</td>\n",
              "    </tr>\n",
              "  </tbody>\n",
              "</table>\n",
              "</div>"
            ],
            "text/plain": [
              "   No  year  month  day  hour  PM2.5  ...    PRES  DEWP  RAIN  wd  WSPM  station\n",
              "0   1  2013      3    1     0    4.0  ...  1023.0 -18.8   0.0   6   4.4        0\n",
              "1   2  2013      3    1     1    8.0  ...  1023.2 -18.2   0.0   3   4.7        0\n",
              "2   3  2013      3    1     2    7.0  ...  1023.5 -18.2   0.0   6   5.6        0\n",
              "3   4  2013      3    1     3    6.0  ...  1024.5 -19.4   0.0   7   3.1        0\n",
              "4   5  2013      3    1     4    3.0  ...  1025.2 -19.5   0.0   3   2.0        0\n",
              "\n",
              "[5 rows x 18 columns]"
            ]
          },
          "metadata": {
            "tags": []
          },
          "execution_count": 50
        }
      ]
    },
    {
      "cell_type": "code",
      "metadata": {
        "id": "OmoIuR3uTiwb"
      },
      "source": [
        ""
      ],
      "execution_count": null,
      "outputs": []
    },
    {
      "cell_type": "markdown",
      "metadata": {
        "id": "mXOikg3wG_xJ"
      },
      "source": [
        "**Taks 3 : Predict the o3 data(target variable using Nerual networks)**"
      ]
    },
    {
      "cell_type": "code",
      "metadata": {
        "colab": {
          "base_uri": "https://localhost:8080/",
          "height": 204
        },
        "id": "I6AccUPSG-uO",
        "outputId": "29aeb505-f2a2-41b5-c972-e29f578ff8ad"
      },
      "source": [
        "df3=df.copy()\n",
        "y3=df['O3']\n",
        "df3=df3.drop(columns=['No','year','month','day','hour','station','WSPM','wd','RAIN','DEWP','PRES','TEMP','O3'])\n",
        "df3.head()"
      ],
      "execution_count": null,
      "outputs": [
        {
          "output_type": "execute_result",
          "data": {
            "text/html": [
              "<div>\n",
              "<style scoped>\n",
              "    .dataframe tbody tr th:only-of-type {\n",
              "        vertical-align: middle;\n",
              "    }\n",
              "\n",
              "    .dataframe tbody tr th {\n",
              "        vertical-align: top;\n",
              "    }\n",
              "\n",
              "    .dataframe thead th {\n",
              "        text-align: right;\n",
              "    }\n",
              "</style>\n",
              "<table border=\"1\" class=\"dataframe\">\n",
              "  <thead>\n",
              "    <tr style=\"text-align: right;\">\n",
              "      <th></th>\n",
              "      <th>PM2.5</th>\n",
              "      <th>PM10</th>\n",
              "      <th>SO2</th>\n",
              "      <th>NO2</th>\n",
              "      <th>CO</th>\n",
              "    </tr>\n",
              "  </thead>\n",
              "  <tbody>\n",
              "    <tr>\n",
              "      <th>0</th>\n",
              "      <td>4.0</td>\n",
              "      <td>4.0</td>\n",
              "      <td>4.0</td>\n",
              "      <td>7.0</td>\n",
              "      <td>300.0</td>\n",
              "    </tr>\n",
              "    <tr>\n",
              "      <th>1</th>\n",
              "      <td>8.0</td>\n",
              "      <td>8.0</td>\n",
              "      <td>4.0</td>\n",
              "      <td>7.0</td>\n",
              "      <td>300.0</td>\n",
              "    </tr>\n",
              "    <tr>\n",
              "      <th>2</th>\n",
              "      <td>7.0</td>\n",
              "      <td>7.0</td>\n",
              "      <td>5.0</td>\n",
              "      <td>10.0</td>\n",
              "      <td>300.0</td>\n",
              "    </tr>\n",
              "    <tr>\n",
              "      <th>3</th>\n",
              "      <td>6.0</td>\n",
              "      <td>6.0</td>\n",
              "      <td>11.0</td>\n",
              "      <td>11.0</td>\n",
              "      <td>300.0</td>\n",
              "    </tr>\n",
              "    <tr>\n",
              "      <th>4</th>\n",
              "      <td>3.0</td>\n",
              "      <td>3.0</td>\n",
              "      <td>12.0</td>\n",
              "      <td>12.0</td>\n",
              "      <td>300.0</td>\n",
              "    </tr>\n",
              "  </tbody>\n",
              "</table>\n",
              "</div>"
            ],
            "text/plain": [
              "   PM2.5  PM10   SO2   NO2     CO\n",
              "0    4.0   4.0   4.0   7.0  300.0\n",
              "1    8.0   8.0   4.0   7.0  300.0\n",
              "2    7.0   7.0   5.0  10.0  300.0\n",
              "3    6.0   6.0  11.0  11.0  300.0\n",
              "4    3.0   3.0  12.0  12.0  300.0"
            ]
          },
          "metadata": {
            "tags": []
          },
          "execution_count": 10
        }
      ]
    },
    {
      "cell_type": "code",
      "metadata": {
        "colab": {
          "base_uri": "https://localhost:8080/"
        },
        "id": "D1m_ISXvPu4_",
        "outputId": "6d3b97a5-159a-4759-fddd-f1356af7df71"
      },
      "source": [
        "# df.O3.max()"
      ],
      "execution_count": null,
      "outputs": [
        {
          "output_type": "execute_result",
          "data": {
            "text/plain": [
              "1071.0"
            ]
          },
          "metadata": {
            "tags": []
          },
          "execution_count": 41
        }
      ]
    },
    {
      "cell_type": "code",
      "metadata": {
        "colab": {
          "base_uri": "https://localhost:8080/",
          "height": 204
        },
        "id": "HkxGsehLHhAl",
        "outputId": "c5230418-c779-4603-dbae-ca54a002ce17"
      },
      "source": [
        "df3.fillna(method='ffill',inplace=True)\n",
        "y3.fillna(method='ffill',inplace=True)\n",
        "# print(df3.isnull().sum())\n",
        "\n",
        "columns1=df3.columns\n",
        "\n",
        "from sklearn.preprocessing import MinMaxScaler\n",
        "scaler=MinMaxScaler()\n",
        "\n",
        "data_scaled=scaler.fit_transform(df3.values)\n",
        "\n",
        "train_scaled=pd.DataFrame(data=data_scaled,columns=columns1)\n",
        "train_scaled.head()"
      ],
      "execution_count": null,
      "outputs": [
        {
          "output_type": "execute_result",
          "data": {
            "text/html": [
              "<div>\n",
              "<style scoped>\n",
              "    .dataframe tbody tr th:only-of-type {\n",
              "        vertical-align: middle;\n",
              "    }\n",
              "\n",
              "    .dataframe tbody tr th {\n",
              "        vertical-align: top;\n",
              "    }\n",
              "\n",
              "    .dataframe thead th {\n",
              "        text-align: right;\n",
              "    }\n",
              "</style>\n",
              "<table border=\"1\" class=\"dataframe\">\n",
              "  <thead>\n",
              "    <tr style=\"text-align: right;\">\n",
              "      <th></th>\n",
              "      <th>PM2.5</th>\n",
              "      <th>PM10</th>\n",
              "      <th>SO2</th>\n",
              "      <th>NO2</th>\n",
              "      <th>CO</th>\n",
              "    </tr>\n",
              "  </thead>\n",
              "  <tbody>\n",
              "    <tr>\n",
              "      <th>0</th>\n",
              "      <td>0.002006</td>\n",
              "      <td>0.002006</td>\n",
              "      <td>0.007433</td>\n",
              "      <td>0.020671</td>\n",
              "      <td>0.020202</td>\n",
              "    </tr>\n",
              "    <tr>\n",
              "      <th>1</th>\n",
              "      <td>0.006018</td>\n",
              "      <td>0.006018</td>\n",
              "      <td>0.007433</td>\n",
              "      <td>0.020671</td>\n",
              "      <td>0.020202</td>\n",
              "    </tr>\n",
              "    <tr>\n",
              "      <th>2</th>\n",
              "      <td>0.005015</td>\n",
              "      <td>0.005015</td>\n",
              "      <td>0.009434</td>\n",
              "      <td>0.031053</td>\n",
              "      <td>0.020202</td>\n",
              "    </tr>\n",
              "    <tr>\n",
              "      <th>3</th>\n",
              "      <td>0.004012</td>\n",
              "      <td>0.004012</td>\n",
              "      <td>0.021441</td>\n",
              "      <td>0.034514</td>\n",
              "      <td>0.020202</td>\n",
              "    </tr>\n",
              "    <tr>\n",
              "      <th>4</th>\n",
              "      <td>0.001003</td>\n",
              "      <td>0.001003</td>\n",
              "      <td>0.023442</td>\n",
              "      <td>0.037974</td>\n",
              "      <td>0.020202</td>\n",
              "    </tr>\n",
              "  </tbody>\n",
              "</table>\n",
              "</div>"
            ],
            "text/plain": [
              "      PM2.5      PM10       SO2       NO2        CO\n",
              "0  0.002006  0.002006  0.007433  0.020671  0.020202\n",
              "1  0.006018  0.006018  0.007433  0.020671  0.020202\n",
              "2  0.005015  0.005015  0.009434  0.031053  0.020202\n",
              "3  0.004012  0.004012  0.021441  0.034514  0.020202\n",
              "4  0.001003  0.001003  0.023442  0.037974  0.020202"
            ]
          },
          "metadata": {
            "tags": []
          },
          "execution_count": 31
        }
      ]
    },
    {
      "cell_type": "code",
      "metadata": {
        "colab": {
          "base_uri": "https://localhost:8080/"
        },
        "id": "2BzX72OBOHcA",
        "outputId": "272c2280-a196-41b1-87e9-503958b29072"
      },
      "source": [
        "y_train.isnull().sum()"
      ],
      "execution_count": null,
      "outputs": [
        {
          "output_type": "execute_result",
          "data": {
            "text/plain": [
              "0"
            ]
          },
          "metadata": {
            "tags": []
          },
          "execution_count": 32
        }
      ]
    },
    {
      "cell_type": "code",
      "metadata": {
        "colab": {
          "base_uri": "https://localhost:8080/"
        },
        "id": "QVC-CSxdMUVz",
        "outputId": "e49344fe-492e-4239-8c1d-9ba6a33c1501"
      },
      "source": [
        "y3=y3/max(y3)\n",
        "y3"
      ],
      "execution_count": null,
      "outputs": [
        {
          "output_type": "execute_result",
          "data": {
            "text/plain": [
              "0        0.071895\n",
              "1        0.071895\n",
              "2        0.068161\n",
              "3        0.067227\n",
              "4        0.067227\n",
              "           ...   \n",
              "35059    0.067227\n",
              "35060    0.046685\n",
              "35061    0.050420\n",
              "35062    0.055089\n",
              "35063    0.045752\n",
              "Name: O3, Length: 420768, dtype: float64"
            ]
          },
          "metadata": {
            "tags": []
          },
          "execution_count": 33
        }
      ]
    },
    {
      "cell_type": "code",
      "metadata": {
        "colab": {
          "base_uri": "https://localhost:8080/"
        },
        "id": "U3d6xCf9JNyf",
        "outputId": "12f5ad4f-409d-4246-bad5-5c85a4544ad1"
      },
      "source": [
        "X_train,y_train=train_scaled.iloc[:int(0.8*df3.shape[0]),:],y3[:int(0.8*df3.shape[0])]\n",
        "X_test,y_test=train_scaled.iloc[int(0.8*df3.shape[0]):,:],y3[int(0.8*df3.shape[0]):]\n",
        "print(f' X_train shape is {X_train.shape},X_test shape is {X_test.shape}')"
      ],
      "execution_count": null,
      "outputs": [
        {
          "output_type": "stream",
          "text": [
            " X_train shape is (336614, 5),X_test shape is (84154, 5)\n"
          ],
          "name": "stdout"
        }
      ]
    },
    {
      "cell_type": "code",
      "metadata": {
        "colab": {
          "base_uri": "https://localhost:8080/"
        },
        "id": "J4VbBkEoJWtw",
        "outputId": "d366ded6-4576-4e14-fe30-9be8d139a895"
      },
      "source": [
        "from tensorflow.keras.models import *\n",
        "from tensorflow.keras.layers import *\n",
        "\n",
        "Reg=Sequential()\n",
        "Reg.add(Dense(128,input_dim=X_train.shape[1],activation='relu',kernel_initializer='normal'))\n",
        "Reg.add(BatchNormalization())\n",
        "Reg.add(Dense(128,activation='relu',kernel_initializer='normal'))\n",
        "Reg.add(BatchNormalization())\n",
        "Reg.add(Dense(64,activation='relu',kernel_initializer='normal'))\n",
        "Reg.add(Dense(1))\n",
        "\n",
        "Reg.compile(loss='mean_squared_error',optimizer='adam')\n",
        "\n",
        "Reg.summary()"
      ],
      "execution_count": null,
      "outputs": [
        {
          "output_type": "stream",
          "text": [
            "Model: \"sequential_2\"\n",
            "_________________________________________________________________\n",
            "Layer (type)                 Output Shape              Param #   \n",
            "=================================================================\n",
            "dense_8 (Dense)              (None, 128)               768       \n",
            "_________________________________________________________________\n",
            "batch_normalization_4 (Batch (None, 128)               512       \n",
            "_________________________________________________________________\n",
            "dense_9 (Dense)              (None, 128)               16512     \n",
            "_________________________________________________________________\n",
            "batch_normalization_5 (Batch (None, 128)               512       \n",
            "_________________________________________________________________\n",
            "dense_10 (Dense)             (None, 64)                8256      \n",
            "_________________________________________________________________\n",
            "dense_11 (Dense)             (None, 1)                 65        \n",
            "=================================================================\n",
            "Total params: 26,625\n",
            "Trainable params: 26,113\n",
            "Non-trainable params: 512\n",
            "_________________________________________________________________\n"
          ],
          "name": "stdout"
        }
      ]
    },
    {
      "cell_type": "code",
      "metadata": {
        "colab": {
          "base_uri": "https://localhost:8080/"
        },
        "id": "JCuPusjqJYhN",
        "outputId": "b032fb5f-9e96-4b10-86ac-17cc6ec489a4"
      },
      "source": [
        "history=Reg.fit(np.array(X_train.values),y_train, epochs=1,batch_size=32,validation_data=(np.array(X_test.values),y_test))"
      ],
      "execution_count": null,
      "outputs": [
        {
          "output_type": "stream",
          "text": [
            "10520/10520 [==============================] - 29s 3ms/step - loss: 0.0043 - val_loss: 0.0013\n"
          ],
          "name": "stdout"
        }
      ]
    },
    {
      "cell_type": "code",
      "metadata": {
        "id": "kQysgoDeMCB0"
      },
      "source": [
        "pred=Reg.predict(X_test)"
      ],
      "execution_count": null,
      "outputs": []
    },
    {
      "cell_type": "code",
      "metadata": {
        "colab": {
          "base_uri": "https://localhost:8080/"
        },
        "id": "VkuJHz81OwIE",
        "outputId": "667bfccc-0fbb-47b8-fc1d-38bbd07c191e"
      },
      "source": [
        "from sklearn.metrics import mean_squared_error\n",
        "mean_squared_error(pred,y_test)"
      ],
      "execution_count": null,
      "outputs": [
        {
          "output_type": "execute_result",
          "data": {
            "text/plain": [
              "0.0013287231849138483"
            ]
          },
          "metadata": {
            "tags": []
          },
          "execution_count": 39
        }
      ]
    },
    {
      "cell_type": "code",
      "metadata": {
        "colab": {
          "base_uri": "https://localhost:8080/",
          "height": 204
        },
        "id": "Jqat69JlOxXe",
        "outputId": "55c684d7-bc47-45c4-9a53-7ba6d37d485c"
      },
      "source": [
        "X_test=scaler.inverse_transform(X_test)\n",
        "test_3=pd.DataFrame(data=X_test,columns=columns1)\n",
        "test_3['predicted_O3']=pred*1071.0\n",
        "\n",
        "# test_4=pd.concat([test_3,y_test])\n",
        "test_3.head()"
      ],
      "execution_count": null,
      "outputs": [
        {
          "output_type": "execute_result",
          "data": {
            "text/html": [
              "<div>\n",
              "<style scoped>\n",
              "    .dataframe tbody tr th:only-of-type {\n",
              "        vertical-align: middle;\n",
              "    }\n",
              "\n",
              "    .dataframe tbody tr th {\n",
              "        vertical-align: top;\n",
              "    }\n",
              "\n",
              "    .dataframe thead th {\n",
              "        text-align: right;\n",
              "    }\n",
              "</style>\n",
              "<table border=\"1\" class=\"dataframe\">\n",
              "  <thead>\n",
              "    <tr style=\"text-align: right;\">\n",
              "      <th></th>\n",
              "      <th>PM2.5</th>\n",
              "      <th>PM10</th>\n",
              "      <th>SO2</th>\n",
              "      <th>NO2</th>\n",
              "      <th>CO</th>\n",
              "      <th>predicted_O3</th>\n",
              "    </tr>\n",
              "  </thead>\n",
              "  <tbody>\n",
              "    <tr>\n",
              "      <th>0</th>\n",
              "      <td>70.0</td>\n",
              "      <td>70.0</td>\n",
              "      <td>5.0</td>\n",
              "      <td>17.0</td>\n",
              "      <td>800.0</td>\n",
              "      <td>152.592636</td>\n",
              "    </tr>\n",
              "    <tr>\n",
              "      <th>1</th>\n",
              "      <td>68.0</td>\n",
              "      <td>78.0</td>\n",
              "      <td>4.0</td>\n",
              "      <td>15.0</td>\n",
              "      <td>800.0</td>\n",
              "      <td>156.135193</td>\n",
              "    </tr>\n",
              "    <tr>\n",
              "      <th>2</th>\n",
              "      <td>76.0</td>\n",
              "      <td>99.0</td>\n",
              "      <td>4.0</td>\n",
              "      <td>15.0</td>\n",
              "      <td>800.0</td>\n",
              "      <td>167.833954</td>\n",
              "    </tr>\n",
              "    <tr>\n",
              "      <th>3</th>\n",
              "      <td>70.0</td>\n",
              "      <td>82.0</td>\n",
              "      <td>4.0</td>\n",
              "      <td>14.0</td>\n",
              "      <td>800.0</td>\n",
              "      <td>157.544098</td>\n",
              "    </tr>\n",
              "    <tr>\n",
              "      <th>4</th>\n",
              "      <td>85.0</td>\n",
              "      <td>103.0</td>\n",
              "      <td>4.0</td>\n",
              "      <td>15.0</td>\n",
              "      <td>800.0</td>\n",
              "      <td>167.942795</td>\n",
              "    </tr>\n",
              "  </tbody>\n",
              "</table>\n",
              "</div>"
            ],
            "text/plain": [
              "   PM2.5   PM10  SO2   NO2     CO  predicted_O3\n",
              "0   70.0   70.0  5.0  17.0  800.0    152.592636\n",
              "1   68.0   78.0  4.0  15.0  800.0    156.135193\n",
              "2   76.0   99.0  4.0  15.0  800.0    167.833954\n",
              "3   70.0   82.0  4.0  14.0  800.0    157.544098\n",
              "4   85.0  103.0  4.0  15.0  800.0    167.942795"
            ]
          },
          "metadata": {
            "tags": []
          },
          "execution_count": 81
        }
      ]
    },
    {
      "cell_type": "code",
      "metadata": {
        "colab": {
          "base_uri": "https://localhost:8080/"
        },
        "id": "7vikw_nGVZJy",
        "outputId": "f9aa7eb4-8998-4064-a615-0641cb68e195"
      },
      "source": [
        "type(y_test)"
      ],
      "execution_count": null,
      "outputs": [
        {
          "output_type": "execute_result",
          "data": {
            "text/plain": [
              "pandas.core.series.Series"
            ]
          },
          "metadata": {
            "tags": []
          },
          "execution_count": 82
        }
      ]
    },
    {
      "cell_type": "code",
      "metadata": {
        "colab": {
          "base_uri": "https://localhost:8080/"
        },
        "id": "AGgH_cATWJ3o",
        "outputId": "f38ec8b5-ebe6-4f8d-bfa4-af3cf06a8145"
      },
      "source": [
        "y_test.head()"
      ],
      "execution_count": null,
      "outputs": [
        {
          "output_type": "execute_result",
          "data": {
            "text/plain": [
              "21038    0.219421\n",
              "21039    0.221289\n",
              "21040    0.213819\n",
              "21041    0.193277\n",
              "21042    0.194211\n",
              "Name: O3, dtype: float64"
            ]
          },
          "metadata": {
            "tags": []
          },
          "execution_count": 77
        }
      ]
    },
    {
      "cell_type": "code",
      "metadata": {
        "id": "eC6LWoL3WNZi"
      },
      "source": [
        ""
      ],
      "execution_count": null,
      "outputs": []
    }
  ]
}